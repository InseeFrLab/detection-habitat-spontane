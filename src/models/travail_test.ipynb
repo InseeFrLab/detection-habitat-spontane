{
 "cells": [
  {
   "cell_type": "code",
   "execution_count": 2,
   "id": "7318902b-d1ee-4b68-92cd-c32788185f85",
   "metadata": {
    "tags": []
   },
   "outputs": [],
   "source": [
    "import os"
   ]
  },
  {
   "cell_type": "code",
   "execution_count": 4,
   "id": "46b06fce-ca20-44da-a454-95b62513fcca",
   "metadata": {
    "tags": []
   },
   "outputs": [],
   "source": [
    "os.getcwd()\n",
    "os.chdir(\"../\")\n",
    "os.getcwd()"
   ]
  },
  {
   "cell_type": "code",
   "execution_count": 107,
   "id": "e554ad05-b0a6-44b7-8925-f97ee2e35fd7",
   "metadata": {
    "tags": []
   },
   "outputs": [],
   "source": [
    "%load_ext autoreload\n",
    "%autoreload 2\n",
    "from run_training_pipeline import (\n",
    "download_data,\n",
    "prepare_data,\n",
    "instantiate_dataset,\n",
    "instantiate_model,\n",
    "instantiate_loss,\n",
    "instantiate_trainer,\n",
    "download_prepare_test\n",
    ")"
   ]
  },
  {
   "cell_type": "code",
   "execution_count": 17,
   "id": "fb51a6f7-1fb3-448b-a51b-53f2f4215c04",
   "metadata": {
    "tags": []
   },
   "outputs": [],
   "source": [
    "from train_pipeline_utils.download_data import load_donnees_test\n",
    "from classes.data.satellite_image import SatelliteImage"
   ]
  },
  {
   "cell_type": "code",
   "execution_count": 110,
   "id": "95007f95-2f33-4a54-8b64-2f0463aa4906",
   "metadata": {
    "tags": []
   },
   "outputs": [],
   "source": [
    "list_data_dir"
   ]
  },
  {
   "cell_type": "code",
   "execution_count": 112,
   "id": "1a11e74d-ff97-409a-8131-a9f314defbb8",
   "metadata": {
    "tags": []
   },
   "outputs": [],
   "source": [
    "length_delete = 230\n",
    "dir_path = \"../data/PLEIADES/2022/MARTINIQUE/\"\n",
    "\n",
    "files = os.listdir(dir_path)[:length_delete]\n",
    "\n",
    "for file in files:\n",
    "    file_path = os.path.join(dir_path, file)\n",
    "    if os.path.isfile(file_path):\n",
    "        os.remove(file_path)\n"
   ]
  },
  {
   "cell_type": "code",
   "execution_count": 113,
   "id": "0746e008-2e63-41df-bd6d-0e43ffad9cfb",
   "metadata": {
    "tags": []
   },
   "outputs": [],
   "source": [
    "with open(\"../config.yml\") as f:\n",
    "    config = yaml.load(f, Loader=SafeLoader)\n",
    "\n",
    "list_data_dir = download_data(config)\n",
    "list_output_dir = prepare_data(config, list_data_dir)\n",
    "\n",
    "download_prepare_test(config)\n",
    "model = instantiate_model(config)\n",
    "\n",
    "train_dl, valid_dl, test_dl = instantiate_dataloader(\n",
    "    config, list_output_dir\n",
    ")\n",
    "\n"
   ]
  },
  {
   "cell_type": "code",
   "execution_count": null,
   "id": "b8dffd00-fee6-486c-ae59-507cfe038fc3",
   "metadata": {},
   "outputs": [],
   "source": []
  }
 ],
 "metadata": {
  "kernelspec": {
   "display_name": "Python 3 (ipykernel)",
   "language": "python",
   "name": "python3"
  },
  "language_info": {
   "codemirror_mode": {
    "name": "ipython",
    "version": 3
   },
   "file_extension": ".py",
   "mimetype": "text/x-python",
   "name": "python",
   "nbconvert_exporter": "python",
   "pygments_lexer": "ipython3",
   "version": "3.10.9"
  }
 },
 "nbformat": 4,
 "nbformat_minor": 5
}
