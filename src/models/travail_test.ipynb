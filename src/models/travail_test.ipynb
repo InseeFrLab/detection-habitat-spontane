{
 "cells": [
  {
   "cell_type": "code",
   "execution_count": 2,
   "id": "7318902b-d1ee-4b68-92cd-c32788185f85",
   "metadata": {
    "tags": []
   },
   "outputs": [],
   "source": [
    "import os"
   ]
  },
  {
   "cell_type": "code",
   "execution_count": 4,
   "id": "46b06fce-ca20-44da-a454-95b62513fcca",
   "metadata": {
    "tags": []
   },
   "outputs": [
    {
     "data": {
      "text/plain": [
       "'/home/onyxia/work/detection-habitat-spontane/src'"
      ]
     },
     "execution_count": 4,
     "metadata": {},
     "output_type": "execute_result"
    }
   ],
   "source": [
    "os.getcwd()\n",
    "os.chdir(\"../\")\n",
    "os.getcwd()"
   ]
  },
  {
   "cell_type": "code",
   "execution_count": 107,
   "id": "e554ad05-b0a6-44b7-8925-f97ee2e35fd7",
   "metadata": {
    "tags": []
   },
   "outputs": [
    {
     "name": "stdout",
     "output_type": "stream",
     "text": [
      "The autoreload extension is already loaded. To reload it, use:\n",
      "  %reload_ext autoreload\n"
     ]
    }
   ],
   "source": [
    "%load_ext autoreload\n",
    "%autoreload 2\n",
    "from run_training_pipeline import (\n",
    "download_data,\n",
    "prepare_data,\n",
    "instantiate_dataset,\n",
    "instantiate_model,\n",
    "instantiate_loss,\n",
    "instantiate_trainer,\n",
    "download_prepare_test\n",
    ")"
   ]
  },
  {
   "cell_type": "code",
   "execution_count": 17,
   "id": "fb51a6f7-1fb3-448b-a51b-53f2f4215c04",
   "metadata": {
    "tags": []
   },
   "outputs": [],
   "source": [
    "from train_pipeline_utils.download_data import load_donnees_test\n",
    "from classes.data.satellite_image import SatelliteImage"
   ]
  },
  {
   "cell_type": "code",
   "execution_count": 110,
   "id": "95007f95-2f33-4a54-8b64-2f0463aa4906",
   "metadata": {
    "tags": []
   },
   "outputs": [
    {
     "data": {
      "text/plain": [
       "[]"
      ]
     },
     "execution_count": 110,
     "metadata": {},
     "output_type": "execute_result"
    }
   ],
   "source": [
    "list_data_dir"
   ]
  },
  {
   "cell_type": "code",
   "execution_count": 112,
   "id": "1a11e74d-ff97-409a-8131-a9f314defbb8",
   "metadata": {
    "tags": []
   },
   "outputs": [],
   "source": [
    "length_delete = 230\n",
    "dir_path = \"../data/PLEIADES/2022/MARTINIQUE/\"\n",
    "\n",
    "files = os.listdir(dir_path)[:length_delete]\n",
    "\n",
    "for file in files:\n",
    "    file_path = os.path.join(dir_path, file)\n",
    "    if os.path.isfile(file_path):\n",
    "        os.remove(file_path)\n"
   ]
  },
  {
   "cell_type": "code",
   "execution_count": 113,
   "id": "0746e008-2e63-41df-bd6d-0e43ffad9cfb",
   "metadata": {
    "tags": []
   },
   "outputs": [
    {
     "ename": "UnboundLocalError",
     "evalue": "local variable 'labeler' referenced before assignment",
     "output_type": "error",
     "traceback": [
      "\u001b[0;31m---------------------------------------------------------------------------\u001b[0m",
      "\u001b[0;31mUnboundLocalError\u001b[0m                         Traceback (most recent call last)",
      "Cell \u001b[0;32mIn[113], line 5\u001b[0m\n\u001b[1;32m      2\u001b[0m     config \u001b[38;5;241m=\u001b[39m yaml\u001b[38;5;241m.\u001b[39mload(f, Loader\u001b[38;5;241m=\u001b[39mSafeLoader)\n\u001b[1;32m      4\u001b[0m list_data_dir \u001b[38;5;241m=\u001b[39m download_data(config)\n\u001b[0;32m----> 5\u001b[0m list_output_dir \u001b[38;5;241m=\u001b[39m \u001b[43mprepare_data\u001b[49m\u001b[43m(\u001b[49m\u001b[43mconfig\u001b[49m\u001b[43m,\u001b[49m\u001b[43m \u001b[49m\u001b[43mlist_data_dir\u001b[49m\u001b[43m)\u001b[49m\n\u001b[1;32m      7\u001b[0m download_prepare_test(config)\n\u001b[1;32m      8\u001b[0m model \u001b[38;5;241m=\u001b[39m instantiate_model(config)\n",
      "File \u001b[0;32m~/work/detection-habitat-spontane/src/run_training_pipeline.py:97\u001b[0m, in \u001b[0;36mprepare_data\u001b[0;34m(config, list_data_dir)\u001b[0m\n\u001b[1;32m     90\u001b[0m         labeler \u001b[38;5;241m=\u001b[39m RILLabeler(date, dep\u001b[38;5;241m=\u001b[39mdep, buffer_size\u001b[38;5;241m=\u001b[39mbuffer_size)\n\u001b[1;32m     92\u001b[0m     output_dir \u001b[38;5;241m=\u001b[39m \u001b[38;5;124m\"\u001b[39m\u001b[38;5;124mtrain_data\u001b[39m\u001b[38;5;124m\"\u001b[39m \u001b[38;5;241m+\u001b[39m dep \u001b[38;5;241m+\u001b[39m \u001b[38;5;124m\"\u001b[39m\u001b[38;5;124m-\u001b[39m\u001b[38;5;124m\"\u001b[39m \u001b[38;5;241m+\u001b[39m \u001b[38;5;28mstr\u001b[39m(year) \u001b[38;5;241m+\u001b[39m \u001b[38;5;124m\"\u001b[39m\u001b[38;5;124m/\u001b[39m\u001b[38;5;124m\"\u001b[39m\n\u001b[1;32m     94\u001b[0m     write_splitted_images_masks(\n\u001b[1;32m     95\u001b[0m         list_data_dir[i],\n\u001b[1;32m     96\u001b[0m         output_dir,\n\u001b[0;32m---> 97\u001b[0m         \u001b[43mlabeler\u001b[49m,\n\u001b[1;32m     98\u001b[0m         config_data[\u001b[38;5;124m\"\u001b[39m\u001b[38;5;124mtile size\u001b[39m\u001b[38;5;124m\"\u001b[39m],\n\u001b[1;32m     99\u001b[0m         config_data[\u001b[38;5;124m\"\u001b[39m\u001b[38;5;124mn channels train\u001b[39m\u001b[38;5;124m\"\u001b[39m],\n\u001b[1;32m    100\u001b[0m         dep,\n\u001b[1;32m    101\u001b[0m     )\n\u001b[1;32m    102\u001b[0m     list_output_dir\u001b[38;5;241m.\u001b[39mappend(output_dir)\n\u001b[1;32m    104\u001b[0m \u001b[38;5;28;01mreturn\u001b[39;00m list_output_dir\n",
      "\u001b[0;31mUnboundLocalError\u001b[0m: local variable 'labeler' referenced before assignment"
     ]
    }
   ],
   "source": [
    "with open(\"../config.yml\") as f:\n",
    "    config = yaml.load(f, Loader=SafeLoader)\n",
    "\n",
    "list_data_dir = download_data(config)\n",
    "list_output_dir = prepare_data(config, list_data_dir)\n",
    "\n",
    "download_prepare_test(config)\n",
    "model = instantiate_model(config)\n",
    "\n",
    "train_dl, valid_dl, test_dl = instantiate_dataloader(\n",
    "    config, list_output_dir\n",
    ")\n",
    "\n"
   ]
  },
  {
   "cell_type": "code",
   "execution_count": null,
   "id": "b8dffd00-fee6-486c-ae59-507cfe038fc3",
   "metadata": {},
   "outputs": [],
   "source": []
  }
 ],
 "metadata": {
  "kernelspec": {
   "display_name": "Python 3 (ipykernel)",
   "language": "python",
   "name": "python3"
  },
  "language_info": {
   "codemirror_mode": {
    "name": "ipython",
    "version": 3
   },
   "file_extension": ".py",
   "mimetype": "text/x-python",
   "name": "python",
   "nbconvert_exporter": "python",
   "pygments_lexer": "ipython3",
   "version": "3.10.9"
  }
 },
 "nbformat": 4,
 "nbformat_minor": 5
}
