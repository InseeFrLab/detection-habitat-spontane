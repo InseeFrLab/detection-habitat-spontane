{
 "cells": [
  {
   "cell_type": "code",
   "execution_count": 11,
   "id": "7318902b-d1ee-4b68-92cd-c32788185f85",
   "metadata": {
    "tags": []
   },
   "outputs": [
    {
     "data": {
      "text/plain": [
       "'/home/onyxia/work/detection-habitat-spontane/src'"
      ]
     },
     "execution_count": 11,
     "metadata": {},
     "output_type": "execute_result"
    }
   ],
   "source": [
    "import os\n",
    "#os.chdir(\"../\")\n",
    "os.getcwd()"
   ]
  },
  {
   "cell_type": "code",
   "execution_count": 12,
   "id": "e554ad05-b0a6-44b7-8925-f97ee2e35fd7",
   "metadata": {
    "tags": []
   },
   "outputs": [
    {
     "name": "stdout",
     "output_type": "stream",
     "text": [
      "The autoreload extension is already loaded. To reload it, use:\n",
      "  %reload_ext autoreload\n"
     ]
    }
   ],
   "source": [
    "import yaml \n",
    "from yaml.loader import SafeLoader\n",
    "%load_ext autoreload\n",
    "%autoreload 2\n",
    "from run_training_pipeline import (\n",
    "download_data,\n",
    "prepare_data,\n",
    "instantiate_dataset,\n",
    "instantiate_model,\n",
    "instantiate_loss,\n",
    "instantiate_trainer,\n",
    "instantiate_dataloader,\n",
    "download_prepare_test\n",
    ")\n",
    "from train_pipeline_utils.download_data import load_donnees_test\n",
    "from classes.data.satellite_image import SatelliteImage\n",
    "from classes.data.labeled_satellite_image import SegmentationLabeledSatelliteImage\n",
    "from utils.plot_utils import plot_list_segmentation_labeled_satellite_image\n",
    "import torch"
   ]
  },
  {
   "cell_type": "code",
   "execution_count": 116,
   "id": "1a11e74d-ff97-409a-8131-a9f314defbb8",
   "metadata": {
    "tags": []
   },
   "outputs": [],
   "source": [
    "# length_delete = 75\n",
    "# dir_path = \"../data/PLEIADES/2022/MARTINIQUE/\"\n",
    "\n",
    "# files = os.listdir(dir_path)[:length_delete]\n",
    "\n",
    "# for file in files:\n",
    "#     file_path = os.path.join(dir_path, file)\n",
    "#     if os.path.isfile(file_path):\n",
    "#         os.remove(file_path)\n"
   ]
  },
  {
   "cell_type": "code",
   "execution_count": 13,
   "id": "0746e008-2e63-41df-bd6d-0e43ffad9cfb",
   "metadata": {
    "tags": []
   },
   "outputs": [],
   "source": [
    "with open(\"../config.yml\") as f:\n",
    "    config = yaml.load(f, Loader=SafeLoader)\n",
    "\n",
    "list_data_dir = download_data(config)"
   ]
  },
  {
   "cell_type": "code",
   "execution_count": 14,
   "id": "45402c69-7d79-4005-859a-5d897b01c0a0",
   "metadata": {
    "tags": []
   },
   "outputs": [
    {
     "name": "stdout",
     "output_type": "stream",
     "text": [
      "fichiers déjà écrits\n"
     ]
    }
   ],
   "source": [
    "list_output_dir = prepare_data(config, list_data_dir)\n",
    "#download_prepare_test(config)\n",
    "model = instantiate_model(config)\n"
   ]
  },
  {
   "cell_type": "code",
   "execution_count": 15,
   "id": "2d3d464a-8ffe-419e-a947-c0f8c5632bec",
   "metadata": {
    "tags": []
   },
   "outputs": [],
   "source": [
    "train_dl, valid_dl, test_dl = instantiate_dataloader(\n",
    "    config, list_output_dir\n",
    ")"
   ]
  },
  {
   "cell_type": "code",
   "execution_count": 6,
   "id": "2dae10cc-84bf-43be-a884-066b51364b61",
   "metadata": {
    "tags": []
   },
   "outputs": [],
   "source": [
    "import numpy as np"
   ]
  },
  {
   "cell_type": "code",
   "execution_count": 17,
   "id": "e6cf05c0-020d-413a-a0f5-7b0e5eb4e8a1",
   "metadata": {
    "tags": []
   },
   "outputs": [
    {
     "name": "stdout",
     "output_type": "stream",
     "text": [
      "id_batch 0\n",
      "id_batch 1\n",
      "id_batch 2\n",
      "id_batch 3\n",
      "id_batch 4\n",
      "id_batch 5\n",
      "id_batch 6\n",
      "id_batch 7\n",
      "id_batch 8\n",
      "id_batch 9\n",
      "id_batch 10\n",
      "id_batch 11\n",
      "id_batch 12\n",
      "id_batch 13\n",
      "id_batch 14\n",
      "id_batch 15\n"
     ]
    },
    {
     "ename": "ValueError",
     "evalue": "cannot reshape array of size 64 into shape (4,2)",
     "output_type": "error",
     "traceback": [
      "\u001b[0;31m---------------------------------------------------------------------------\u001b[0m",
      "\u001b[0;31mValueError\u001b[0m                                Traceback (most recent call last)",
      "Cell \u001b[0;32mIn[17], line 43\u001b[0m\n\u001b[1;32m     40\u001b[0m \u001b[38;5;28;01mif\u001b[39;00m \u001b[38;5;129;01mnot\u001b[39;00m os\u001b[38;5;241m.\u001b[39mpath\u001b[38;5;241m.\u001b[39mexists(\u001b[38;5;124m\"\u001b[39m\u001b[38;5;124mimg/\u001b[39m\u001b[38;5;124m\"\u001b[39m):\n\u001b[1;32m     41\u001b[0m     os\u001b[38;5;241m.\u001b[39mmakedirs(\u001b[38;5;124m\"\u001b[39m\u001b[38;5;124mimg/\u001b[39m\u001b[38;5;124m\"\u001b[39m)\n\u001b[0;32m---> 43\u001b[0m fig1 \u001b[38;5;241m=\u001b[39m \u001b[43mplot_list_segmentation_labeled_satellite_image\u001b[49m\u001b[43m(\u001b[49m\u001b[43mlist_labeled_satellite_image\u001b[49m\u001b[43m,\u001b[49m\u001b[43m[\u001b[49m\u001b[38;5;241;43m0\u001b[39;49m\u001b[43m,\u001b[49m\u001b[38;5;241;43m1\u001b[39;49m\u001b[43m,\u001b[49m\u001b[38;5;241;43m2\u001b[39;49m\u001b[43m]\u001b[49m\u001b[43m)\u001b[49m\n\u001b[1;32m     45\u001b[0m filename \u001b[38;5;241m=\u001b[39m pthimg\u001b[38;5;241m.\u001b[39msplit(\u001b[38;5;124m'\u001b[39m\u001b[38;5;124m/\u001b[39m\u001b[38;5;124m'\u001b[39m)[\u001b[38;5;241m-\u001b[39m\u001b[38;5;241m1\u001b[39m]\n\u001b[1;32m     46\u001b[0m filename \u001b[38;5;241m=\u001b[39m filename\u001b[38;5;241m.\u001b[39msplit(\u001b[38;5;124m'\u001b[39m\u001b[38;5;124m.\u001b[39m\u001b[38;5;124m'\u001b[39m)[\u001b[38;5;241m0\u001b[39m]\n",
      "File \u001b[0;32m~/work/detection-habitat-spontane/src/utils/plot_utils.py:124\u001b[0m, in \u001b[0;36mplot_list_segmentation_labeled_satellite_image\u001b[0;34m(list_labeled_image, bands_indices)\u001b[0m\n\u001b[1;32m    121\u001b[0m n_col \u001b[38;5;241m=\u001b[39m \u001b[38;5;28mlen\u001b[39m(np\u001b[38;5;241m.\u001b[39munique(np\u001b[38;5;241m.\u001b[39marray([bb[\u001b[38;5;241m0\u001b[39m] \u001b[38;5;28;01mfor\u001b[39;00m bb \u001b[38;5;129;01min\u001b[39;00m list_bounding_box])))\n\u001b[1;32m    122\u001b[0m n_row \u001b[38;5;241m=\u001b[39m \u001b[38;5;28mlen\u001b[39m(np\u001b[38;5;241m.\u001b[39munique(np\u001b[38;5;241m.\u001b[39marray([bb[\u001b[38;5;241m3\u001b[39m] \u001b[38;5;28;01mfor\u001b[39;00m bb \u001b[38;5;129;01min\u001b[39;00m list_bounding_box])))\n\u001b[0;32m--> 124\u001b[0m mat_list_images \u001b[38;5;241m=\u001b[39m np\u001b[38;5;241m.\u001b[39mtranspose(\u001b[43mnp\u001b[49m\u001b[38;5;241;43m.\u001b[39;49m\u001b[43marray\u001b[49m\u001b[43m(\u001b[49m\u001b[43mlist_images\u001b[49m\u001b[43m)\u001b[49m\u001b[38;5;241;43m.\u001b[39;49m\u001b[43mreshape\u001b[49m\u001b[43m(\u001b[49m\u001b[43mn_col\u001b[49m\u001b[43m,\u001b[49m\u001b[43m \u001b[49m\u001b[43mn_row\u001b[49m\u001b[43m)\u001b[49m)\n\u001b[1;32m    125\u001b[0m mat_list_labels \u001b[38;5;241m=\u001b[39m np\u001b[38;5;241m.\u001b[39mtranspose(\n\u001b[1;32m    126\u001b[0m     np\u001b[38;5;241m.\u001b[39marray(list_labels)\u001b[38;5;241m.\u001b[39mreshape(n_col, n_row, tile_size, tile_size),\n\u001b[1;32m    127\u001b[0m     (\u001b[38;5;241m1\u001b[39m, \u001b[38;5;241m0\u001b[39m, \u001b[38;5;241m2\u001b[39m, \u001b[38;5;241m3\u001b[39m),\n\u001b[1;32m    128\u001b[0m )\n\u001b[1;32m    130\u001b[0m mat_list_images \u001b[38;5;241m=\u001b[39m np\u001b[38;5;241m.\u001b[39mflip(np\u001b[38;5;241m.\u001b[39mtranspose(mat_list_images), axis\u001b[38;5;241m=\u001b[39m\u001b[38;5;241m0\u001b[39m)\n",
      "\u001b[0;31mValueError\u001b[0m: cannot reshape array of size 64 into shape (4,2)"
     ]
    }
   ],
   "source": [
    "tile_size = config[\"donnees\"][\"tile size\"]\n",
    "batch_size = config[\"optim\"][\"batch size test\"]\n",
    "list_labeled_satellite_image = []\n",
    "\n",
    "npatch = int((2000/tile_size)**2)\n",
    "nbatchforfullimage = int(npatch/batch_size)\n",
    "\n",
    "if not npatch % nbatchforfullimage == 0:\n",
    "    print(\"Le nombre de patchs n'est pas divisible par la taille d'un batch\")\n",
    "    #return None \n",
    "\n",
    "for idx, batch in enumerate(test_dl):\n",
    "    print(\"id_batch\",idx)\n",
    "    images, label, dic = batch\n",
    "    output_model = model(images)\n",
    "    mask_pred = np.array(torch.argmax(output_model, axis  = 1))\n",
    "\n",
    "    for i in range(batch_size):    \n",
    "        pthimg = dic[\"pathimage\"][i]\n",
    "        si = SatelliteImage.from_raster(\n",
    "                file_path = pthimg,\n",
    "                dep = None,\n",
    "                date = None,\n",
    "                n_bands= 3)\n",
    "        si.normalize()\n",
    "        \n",
    "        list_labeled_satellite_image.append( \n",
    "            SegmentationLabeledSatelliteImage(\n",
    "                satellite_image =  si ,\n",
    "                label= mask_pred[i],\n",
    "                source= \"\",\n",
    "                labeling_date = \"\"\n",
    "            )\n",
    "        )\n",
    "        \n",
    "\n",
    "        \n",
    "    if ((idx+1) % nbatchforfullimage) == 0:\n",
    "        \n",
    "        if not os.path.exists(\"img/\"):\n",
    "            os.makedirs(\"img/\")\n",
    "        \n",
    "        fig1 = plot_list_segmentation_labeled_satellite_image(list_labeled_satellite_image,[0,1,2])\n",
    "    \n",
    "        filename = pthimg.split('/')[-1]\n",
    "        filename = filename.split('.')[0]\n",
    "        filename = '_'.join(filename.split('_')[0:6])\n",
    "        plot_file = filename + \".png\"\n",
    "        \n",
    "        fig1.savefig(plot_file)\n",
    "        #mlflow.log_artifact(plot_file, artifact_path=\"plots\")\n",
    "            \n",
    "    del images, label, dic\n",
    "    \n"
   ]
  },
  {
   "cell_type": "code",
   "execution_count": 35,
   "id": "f18cc648-ac2e-42dd-8bfb-f6562af63453",
   "metadata": {
    "tags": []
   },
   "outputs": [
    {
     "data": {
      "text/plain": [
       "[BoundingBox(left=523000.0, bottom=8590875.0, right=523125.0, top=8591000.0),\n",
       " BoundingBox(left=523125.0, bottom=8590875.0, right=523250.0, top=8591000.0),\n",
       " BoundingBox(left=523250.0, bottom=8590750.0, right=523375.0, top=8590875.0),\n",
       " BoundingBox(left=523375.0, bottom=8590750.0, right=523500.0, top=8590875.0),\n",
       " BoundingBox(left=523000.0, bottom=8590875.0, right=523125.0, top=8591000.0),\n",
       " BoundingBox(left=523125.0, bottom=8590875.0, right=523250.0, top=8591000.0),\n",
       " BoundingBox(left=523250.0, bottom=8590750.0, right=523375.0, top=8590875.0),\n",
       " BoundingBox(left=523375.0, bottom=8590750.0, right=523500.0, top=8590875.0),\n",
       " BoundingBox(left=523000.0, bottom=8590875.0, right=523125.0, top=8591000.0),\n",
       " BoundingBox(left=523125.0, bottom=8590875.0, right=523250.0, top=8591000.0),\n",
       " BoundingBox(left=523250.0, bottom=8590750.0, right=523375.0, top=8590875.0),\n",
       " BoundingBox(left=523375.0, bottom=8590750.0, right=523500.0, top=8590875.0),\n",
       " BoundingBox(left=523000.0, bottom=8590875.0, right=523125.0, top=8591000.0),\n",
       " BoundingBox(left=523125.0, bottom=8590875.0, right=523250.0, top=8591000.0),\n",
       " BoundingBox(left=523250.0, bottom=8590750.0, right=523375.0, top=8590875.0),\n",
       " BoundingBox(left=523375.0, bottom=8590750.0, right=523500.0, top=8590875.0),\n",
       " BoundingBox(left=523000.0, bottom=8590875.0, right=523125.0, top=8591000.0),\n",
       " BoundingBox(left=523125.0, bottom=8590875.0, right=523250.0, top=8591000.0),\n",
       " BoundingBox(left=523250.0, bottom=8590750.0, right=523375.0, top=8590875.0),\n",
       " BoundingBox(left=523375.0, bottom=8590750.0, right=523500.0, top=8590875.0),\n",
       " BoundingBox(left=523000.0, bottom=8590875.0, right=523125.0, top=8591000.0),\n",
       " BoundingBox(left=523125.0, bottom=8590875.0, right=523250.0, top=8591000.0),\n",
       " BoundingBox(left=523250.0, bottom=8590750.0, right=523375.0, top=8590875.0),\n",
       " BoundingBox(left=523375.0, bottom=8590750.0, right=523500.0, top=8590875.0),\n",
       " BoundingBox(left=523000.0, bottom=8590875.0, right=523125.0, top=8591000.0),\n",
       " BoundingBox(left=523125.0, bottom=8590875.0, right=523250.0, top=8591000.0),\n",
       " BoundingBox(left=523250.0, bottom=8590750.0, right=523375.0, top=8590875.0),\n",
       " BoundingBox(left=523375.0, bottom=8590750.0, right=523500.0, top=8590875.0),\n",
       " BoundingBox(left=523000.0, bottom=8590875.0, right=523125.0, top=8591000.0),\n",
       " BoundingBox(left=523125.0, bottom=8590875.0, right=523250.0, top=8591000.0),\n",
       " BoundingBox(left=523250.0, bottom=8590750.0, right=523375.0, top=8590875.0),\n",
       " BoundingBox(left=523375.0, bottom=8590750.0, right=523500.0, top=8590875.0),\n",
       " BoundingBox(left=523000.0, bottom=8590875.0, right=523125.0, top=8591000.0),\n",
       " BoundingBox(left=523125.0, bottom=8590875.0, right=523250.0, top=8591000.0),\n",
       " BoundingBox(left=523250.0, bottom=8590750.0, right=523375.0, top=8590875.0),\n",
       " BoundingBox(left=523375.0, bottom=8590750.0, right=523500.0, top=8590875.0),\n",
       " BoundingBox(left=523000.0, bottom=8590875.0, right=523125.0, top=8591000.0),\n",
       " BoundingBox(left=523125.0, bottom=8590875.0, right=523250.0, top=8591000.0),\n",
       " BoundingBox(left=523250.0, bottom=8590750.0, right=523375.0, top=8590875.0),\n",
       " BoundingBox(left=523375.0, bottom=8590750.0, right=523500.0, top=8590875.0),\n",
       " BoundingBox(left=523000.0, bottom=8590875.0, right=523125.0, top=8591000.0),\n",
       " BoundingBox(left=523125.0, bottom=8590875.0, right=523250.0, top=8591000.0),\n",
       " BoundingBox(left=523250.0, bottom=8590750.0, right=523375.0, top=8590875.0),\n",
       " BoundingBox(left=523375.0, bottom=8590750.0, right=523500.0, top=8590875.0),\n",
       " BoundingBox(left=523000.0, bottom=8590875.0, right=523125.0, top=8591000.0),\n",
       " BoundingBox(left=523125.0, bottom=8590875.0, right=523250.0, top=8591000.0),\n",
       " BoundingBox(left=523250.0, bottom=8590750.0, right=523375.0, top=8590875.0),\n",
       " BoundingBox(left=523375.0, bottom=8590750.0, right=523500.0, top=8590875.0),\n",
       " BoundingBox(left=523000.0, bottom=8590875.0, right=523125.0, top=8591000.0),\n",
       " BoundingBox(left=523125.0, bottom=8590875.0, right=523250.0, top=8591000.0),\n",
       " BoundingBox(left=523250.0, bottom=8590750.0, right=523375.0, top=8590875.0),\n",
       " BoundingBox(left=523375.0, bottom=8590750.0, right=523500.0, top=8590875.0),\n",
       " BoundingBox(left=523000.0, bottom=8590875.0, right=523125.0, top=8591000.0),\n",
       " BoundingBox(left=523125.0, bottom=8590875.0, right=523250.0, top=8591000.0),\n",
       " BoundingBox(left=523250.0, bottom=8590750.0, right=523375.0, top=8590875.0),\n",
       " BoundingBox(left=523375.0, bottom=8590750.0, right=523500.0, top=8590875.0),\n",
       " BoundingBox(left=523000.0, bottom=8590875.0, right=523125.0, top=8591000.0),\n",
       " BoundingBox(left=523125.0, bottom=8590875.0, right=523250.0, top=8591000.0),\n",
       " BoundingBox(left=523250.0, bottom=8590750.0, right=523375.0, top=8590875.0),\n",
       " BoundingBox(left=523375.0, bottom=8590750.0, right=523500.0, top=8590875.0),\n",
       " BoundingBox(left=523000.0, bottom=8590875.0, right=523125.0, top=8591000.0),\n",
       " BoundingBox(left=523125.0, bottom=8590875.0, right=523250.0, top=8591000.0),\n",
       " BoundingBox(left=523250.0, bottom=8590750.0, right=523375.0, top=8590875.0),\n",
       " BoundingBox(left=523375.0, bottom=8590750.0, right=523500.0, top=8590875.0)]"
      ]
     },
     "execution_count": 35,
     "metadata": {},
     "output_type": "execute_result"
    }
   ],
   "source": [
    "[ll.satellite_image.bounds for ll in list_labeled_satellite_image]"
   ]
  },
  {
   "cell_type": "code",
   "execution_count": 19,
   "id": "6cd5bff9-7c6d-482d-a4df-3ad987ed0a50",
   "metadata": {
    "tags": []
   },
   "outputs": [
    {
     "ename": "ValueError",
     "evalue": "cannot reshape array of size 64 into shape (4,2)",
     "output_type": "error",
     "traceback": [
      "\u001b[0;31m---------------------------------------------------------------------------\u001b[0m",
      "\u001b[0;31mValueError\u001b[0m                                Traceback (most recent call last)",
      "Cell \u001b[0;32mIn[19], line 2\u001b[0m\n\u001b[1;32m      1\u001b[0m \u001b[38;5;28mlen\u001b[39m(list_labeled_satellite_image)\n\u001b[0;32m----> 2\u001b[0m \u001b[43mplot_list_segmentation_labeled_satellite_image\u001b[49m\u001b[43m(\u001b[49m\u001b[43mlist_labeled_satellite_image\u001b[49m\u001b[43m,\u001b[49m\u001b[43m[\u001b[49m\u001b[38;5;241;43m0\u001b[39;49m\u001b[43m,\u001b[49m\u001b[38;5;241;43m1\u001b[39;49m\u001b[43m,\u001b[49m\u001b[38;5;241;43m2\u001b[39;49m\u001b[43m]\u001b[49m\u001b[43m)\u001b[49m\n",
      "File \u001b[0;32m~/work/detection-habitat-spontane/src/utils/plot_utils.py:124\u001b[0m, in \u001b[0;36mplot_list_segmentation_labeled_satellite_image\u001b[0;34m(list_labeled_image, bands_indices)\u001b[0m\n\u001b[1;32m    121\u001b[0m n_col \u001b[38;5;241m=\u001b[39m \u001b[38;5;28mlen\u001b[39m(np\u001b[38;5;241m.\u001b[39munique(np\u001b[38;5;241m.\u001b[39marray([bb[\u001b[38;5;241m0\u001b[39m] \u001b[38;5;28;01mfor\u001b[39;00m bb \u001b[38;5;129;01min\u001b[39;00m list_bounding_box])))\n\u001b[1;32m    122\u001b[0m n_row \u001b[38;5;241m=\u001b[39m \u001b[38;5;28mlen\u001b[39m(np\u001b[38;5;241m.\u001b[39munique(np\u001b[38;5;241m.\u001b[39marray([bb[\u001b[38;5;241m3\u001b[39m] \u001b[38;5;28;01mfor\u001b[39;00m bb \u001b[38;5;129;01min\u001b[39;00m list_bounding_box])))\n\u001b[0;32m--> 124\u001b[0m mat_list_images \u001b[38;5;241m=\u001b[39m np\u001b[38;5;241m.\u001b[39mtranspose(\u001b[43mnp\u001b[49m\u001b[38;5;241;43m.\u001b[39;49m\u001b[43marray\u001b[49m\u001b[43m(\u001b[49m\u001b[43mlist_images\u001b[49m\u001b[43m)\u001b[49m\u001b[38;5;241;43m.\u001b[39;49m\u001b[43mreshape\u001b[49m\u001b[43m(\u001b[49m\u001b[43mn_col\u001b[49m\u001b[43m,\u001b[49m\u001b[43m \u001b[49m\u001b[43mn_row\u001b[49m\u001b[43m)\u001b[49m)\n\u001b[1;32m    125\u001b[0m mat_list_labels \u001b[38;5;241m=\u001b[39m np\u001b[38;5;241m.\u001b[39mtranspose(\n\u001b[1;32m    126\u001b[0m     np\u001b[38;5;241m.\u001b[39marray(list_labels)\u001b[38;5;241m.\u001b[39mreshape(n_col, n_row, tile_size, tile_size),\n\u001b[1;32m    127\u001b[0m     (\u001b[38;5;241m1\u001b[39m, \u001b[38;5;241m0\u001b[39m, \u001b[38;5;241m2\u001b[39m, \u001b[38;5;241m3\u001b[39m),\n\u001b[1;32m    128\u001b[0m )\n\u001b[1;32m    130\u001b[0m mat_list_images \u001b[38;5;241m=\u001b[39m np\u001b[38;5;241m.\u001b[39mflip(np\u001b[38;5;241m.\u001b[39mtranspose(mat_list_images), axis\u001b[38;5;241m=\u001b[39m\u001b[38;5;241m0\u001b[39m)\n",
      "\u001b[0;31mValueError\u001b[0m: cannot reshape array of size 64 into shape (4,2)"
     ]
    }
   ],
   "source": [
    "len(list_labeled_satellite_image)\n",
    "plot_list_segmentation_labeled_satellite_image(list_labeled_satellite_image,[0,1,2])\n",
    "    "
   ]
  },
  {
   "cell_type": "code",
   "execution_count": 27,
   "id": "f4619412-6cf2-468b-abbd-12bc52591989",
   "metadata": {
    "tags": []
   },
   "outputs": [
    {
     "name": "stdout",
     "output_type": "stream",
     "text": [
      "4\n",
      "2\n"
     ]
    }
   ],
   "source": [
    "list_labeled_image = list_labeled_satellite_image\n",
    "tile_size = list_labeled_image[0].satellite_image.array.shape[1]\n",
    "stride = tile_size\n",
    "\n",
    "list_bounding_box = np.array(\n",
    "        [iml.satellite_image.bounds for iml in list_labeled_image]\n",
    ")\n",
    "list_images = [iml.satellite_image for iml in list_labeled_image]\n",
    "list_labels = [iml.label for iml in list_labeled_image]\n",
    "\n",
    "# Correct order relative to the coordinates\n",
    "list_images = order_list_from_bb(list_bounding_box, list_images)\n",
    "list_labels = order_list_from_bb(list_bounding_box, list_labels)\n",
    "\n",
    "n_col = len(np.unique(np.array([bb[0] for bb in list_bounding_box])))\n",
    "n_row = len(np.unique(np.array([bb[3] for bb in list_bounding_box])))\n",
    "\n"
   ]
  },
  {
   "cell_type": "code",
   "execution_count": 32,
   "id": "2f84c816-fd30-4fc1-a632-4e5c049bf50e",
   "metadata": {
    "tags": []
   },
   "outputs": [
    {
     "data": {
      "text/plain": [
       "[array([ 523000., 8590875.,  523125., 8591000.]),\n",
       " array([ 523125., 8590875.,  523250., 8591000.]),\n",
       " array([ 523250., 8590750.,  523375., 8590875.]),\n",
       " array([ 523375., 8590750.,  523500., 8590875.]),\n",
       " array([ 523000., 8590875.,  523125., 8591000.]),\n",
       " array([ 523125., 8590875.,  523250., 8591000.]),\n",
       " array([ 523250., 8590750.,  523375., 8590875.]),\n",
       " array([ 523375., 8590750.,  523500., 8590875.]),\n",
       " array([ 523000., 8590875.,  523125., 8591000.]),\n",
       " array([ 523125., 8590875.,  523250., 8591000.]),\n",
       " array([ 523250., 8590750.,  523375., 8590875.]),\n",
       " array([ 523375., 8590750.,  523500., 8590875.]),\n",
       " array([ 523000., 8590875.,  523125., 8591000.]),\n",
       " array([ 523125., 8590875.,  523250., 8591000.]),\n",
       " array([ 523250., 8590750.,  523375., 8590875.]),\n",
       " array([ 523375., 8590750.,  523500., 8590875.]),\n",
       " array([ 523000., 8590875.,  523125., 8591000.]),\n",
       " array([ 523125., 8590875.,  523250., 8591000.]),\n",
       " array([ 523250., 8590750.,  523375., 8590875.]),\n",
       " array([ 523375., 8590750.,  523500., 8590875.]),\n",
       " array([ 523000., 8590875.,  523125., 8591000.]),\n",
       " array([ 523125., 8590875.,  523250., 8591000.]),\n",
       " array([ 523250., 8590750.,  523375., 8590875.]),\n",
       " array([ 523375., 8590750.,  523500., 8590875.]),\n",
       " array([ 523000., 8590875.,  523125., 8591000.]),\n",
       " array([ 523125., 8590875.,  523250., 8591000.]),\n",
       " array([ 523250., 8590750.,  523375., 8590875.]),\n",
       " array([ 523375., 8590750.,  523500., 8590875.]),\n",
       " array([ 523000., 8590875.,  523125., 8591000.]),\n",
       " array([ 523125., 8590875.,  523250., 8591000.]),\n",
       " array([ 523250., 8590750.,  523375., 8590875.]),\n",
       " array([ 523375., 8590750.,  523500., 8590875.]),\n",
       " array([ 523000., 8590875.,  523125., 8591000.]),\n",
       " array([ 523125., 8590875.,  523250., 8591000.]),\n",
       " array([ 523250., 8590750.,  523375., 8590875.]),\n",
       " array([ 523375., 8590750.,  523500., 8590875.]),\n",
       " array([ 523000., 8590875.,  523125., 8591000.]),\n",
       " array([ 523125., 8590875.,  523250., 8591000.]),\n",
       " array([ 523250., 8590750.,  523375., 8590875.]),\n",
       " array([ 523375., 8590750.,  523500., 8590875.]),\n",
       " array([ 523000., 8590875.,  523125., 8591000.]),\n",
       " array([ 523125., 8590875.,  523250., 8591000.]),\n",
       " array([ 523250., 8590750.,  523375., 8590875.]),\n",
       " array([ 523375., 8590750.,  523500., 8590875.]),\n",
       " array([ 523000., 8590875.,  523125., 8591000.]),\n",
       " array([ 523125., 8590875.,  523250., 8591000.]),\n",
       " array([ 523250., 8590750.,  523375., 8590875.]),\n",
       " array([ 523375., 8590750.,  523500., 8590875.]),\n",
       " array([ 523000., 8590875.,  523125., 8591000.]),\n",
       " array([ 523125., 8590875.,  523250., 8591000.]),\n",
       " array([ 523250., 8590750.,  523375., 8590875.]),\n",
       " array([ 523375., 8590750.,  523500., 8590875.]),\n",
       " array([ 523000., 8590875.,  523125., 8591000.]),\n",
       " array([ 523125., 8590875.,  523250., 8591000.]),\n",
       " array([ 523250., 8590750.,  523375., 8590875.]),\n",
       " array([ 523375., 8590750.,  523500., 8590875.]),\n",
       " array([ 523000., 8590875.,  523125., 8591000.]),\n",
       " array([ 523125., 8590875.,  523250., 8591000.]),\n",
       " array([ 523250., 8590750.,  523375., 8590875.]),\n",
       " array([ 523375., 8590750.,  523500., 8590875.]),\n",
       " array([ 523000., 8590875.,  523125., 8591000.]),\n",
       " array([ 523125., 8590875.,  523250., 8591000.]),\n",
       " array([ 523250., 8590750.,  523375., 8590875.]),\n",
       " array([ 523375., 8590750.,  523500., 8590875.])]"
      ]
     },
     "execution_count": 32,
     "metadata": {},
     "output_type": "execute_result"
    }
   ],
   "source": [
    "np.unique([bb[0] for bb in list_bounding_box])\n",
    "np.unique([bb[3] for bb in list_bounding_box])\n",
    "\n",
    "[ bb for bb in list_bounding_box]"
   ]
  },
  {
   "cell_type": "code",
   "execution_count": 24,
   "id": "8890a392-7fc9-48fd-9f2f-d80937fd148d",
   "metadata": {
    "tags": []
   },
   "outputs": [
    {
     "ename": "NameError",
     "evalue": "name 'n_col' is not defined",
     "output_type": "error",
     "traceback": [
      "\u001b[0;31m---------------------------------------------------------------------------\u001b[0m",
      "\u001b[0;31mNameError\u001b[0m                                 Traceback (most recent call last)",
      "Cell \u001b[0;32mIn[24], line 1\u001b[0m\n\u001b[0;32m----> 1\u001b[0m mat_list_images \u001b[38;5;241m=\u001b[39m np\u001b[38;5;241m.\u001b[39mtranspose(np\u001b[38;5;241m.\u001b[39marray(list_images)\u001b[38;5;241m.\u001b[39mreshape(\u001b[43mn_col\u001b[49m, n_row))\n\u001b[1;32m      2\u001b[0m mat_list_labels \u001b[38;5;241m=\u001b[39m np\u001b[38;5;241m.\u001b[39mtranspose(\n\u001b[1;32m      3\u001b[0m     np\u001b[38;5;241m.\u001b[39marray(list_labels)\u001b[38;5;241m.\u001b[39mreshape(n_col, n_row, tile_size, tile_size),\n\u001b[1;32m      4\u001b[0m     (\u001b[38;5;241m1\u001b[39m, \u001b[38;5;241m0\u001b[39m, \u001b[38;5;241m2\u001b[39m, \u001b[38;5;241m3\u001b[39m),\n\u001b[1;32m      5\u001b[0m )\n\u001b[1;32m      7\u001b[0m mat_list_images \u001b[38;5;241m=\u001b[39m np\u001b[38;5;241m.\u001b[39mflip(np\u001b[38;5;241m.\u001b[39mtranspose(mat_list_images), axis\u001b[38;5;241m=\u001b[39m\u001b[38;5;241m0\u001b[39m)\n",
      "\u001b[0;31mNameError\u001b[0m: name 'n_col' is not defined"
     ]
    }
   ],
   "source": [
    " \n",
    "    mat_list_images = np.transpose(np.array(list_images).reshape(n_col, n_row))\n",
    "    mat_list_labels = np.transpose(\n",
    "        np.array(list_labels).reshape(n_col, n_row, tile_size, tile_size),\n",
    "        (1, 0, 2, 3),\n",
    "    )\n",
    "\n",
    "    mat_list_images = np.flip(np.transpose(mat_list_images), axis=0)\n",
    "    mat_list_labels = np.flip(np.transpose(mat_list_labels, (1, 0, 2, 3)), 0)\n",
    "\n",
    "    # Get input image dimensions\n",
    "    width = tile_size * n_col\n",
    "    height = tile_size * n_row\n",
    "\n",
    "    # Create empty output image\n",
    "    output_image = np.zeros((height, width, 3))\n",
    "    output_mask = np.zeros((height, width, 3))\n",
    "    compteur_ligne = 0\n",
    "    compteur_col = 0\n",
    "\n",
    "    for i in range(0, height - tile_size + 1, stride):\n",
    "        for j in range(0, width - tile_size + 1, stride):\n",
    "            output_image[\n",
    "                i : i + tile_size, j : j + tile_size, :\n",
    "            ] = np.transpose(\n",
    "                mat_list_images[compteur_ligne, compteur_col].array,\n",
    "                (1, 2, 0),\n",
    "            )[\n",
    "                :, :, bands_indices\n",
    "            ]\n",
    "\n",
    "            label = mat_list_labels[compteur_ligne, compteur_col, :, :]\n",
    "            show_mask = np.zeros((label.shape[0], label.shape[1], 3))\n",
    "            show_mask[label == 1, :] = [255, 255, 255]\n",
    "            show_mask = show_mask.astype(np.uint8)\n",
    "            output_mask[i : i + tile_size, j : j + tile_size, :] = show_mask\n",
    "            compteur_col += 1\n",
    "\n",
    "        compteur_col = 0\n",
    "        compteur_ligne += 1\n",
    "\n",
    "    # Display input image, tiles, and output image as a grid\n",
    "    fig, ax = plt.subplots(1, 2, figsize=(15, 15))\n",
    "    ax[0].imshow(output_image)  # with normalization for display\n",
    "    ax[0].set_title(\"Input Image\")\n",
    "    ax[0].set_axis_off()\n",
    "    ax[1].imshow(output_mask)\n",
    "    ax[1].set_title(\"Output Image\")\n",
    "    ax[1].set_axis_off()\n",
    "\n",
    "    return plt.gcf()"
   ]
  },
  {
   "cell_type": "code",
   "execution_count": 23,
   "id": "83b930c7-aa6c-4742-9f33-230d726d645d",
   "metadata": {
    "tags": []
   },
   "outputs": [],
   "source": [
    "\n",
    "def order_list_from_bb(\n",
    "    list_bounding_box,\n",
    "    list_to_order\n",
    "):\n",
    "    \"\"\"Order a given List according to the X,Y coordinates\n",
    "    of the list of bounding boxes taken as input\n",
    "\n",
    "    Args:\n",
    "        list_bounding_box (List): List of bouding box (4-dimensional tuples)\n",
    "        list_to_order (List): List of object we want to order according\n",
    "        to the coordinates of the bounding boxes\n",
    "    \"\"\"\n",
    "    Y = np.array([bb[0] for bb in list_bounding_box])\n",
    "    order_y = np.argsort(np.array(Y))\n",
    "    Y = Y[order_y]\n",
    "\n",
    "    list_to_order = [list_to_order[i] for i in order_y]\n",
    "    list_bounding_box = [list_bounding_box[i] for i in order_y]\n",
    "\n",
    "    X = np.array([bb[3] for bb in list_bounding_box])\n",
    "    order = np.lexsort((Y, X))\n",
    "\n",
    "    list_to_order = [list_to_order[i] for i in order]\n",
    "\n",
    "    return list_to_order\n"
   ]
  },
  {
   "cell_type": "code",
   "execution_count": 152,
   "id": "c3216247-a5c5-47ac-86fe-2ceca0ead91f",
   "metadata": {
    "tags": []
   },
   "outputs": [
    {
     "data": {
      "text/plain": [
       "torch.Size([8, 3, 250, 250])"
      ]
     },
     "execution_count": 152,
     "metadata": {},
     "output_type": "execute_result"
    }
   ],
   "source": [
    "images.shape"
   ]
  },
  {
   "cell_type": "code",
   "execution_count": null,
   "id": "7e845fa5-4307-41b2-9de9-dfe02fb231dc",
   "metadata": {},
   "outputs": [],
   "source": [
    "#test pleiade\n",
    "# test sentinel 2..\n",
    "list_labeled_satellite_image = []\n",
    "\n",
    "for idx, batch in enumerate(test_dl):\n",
    "    images, labels, paths = batch\n",
    "    model(images)"
   ]
  }
 ],
 "metadata": {
  "kernelspec": {
   "display_name": "Python 3 (ipykernel)",
   "language": "python",
   "name": "python3"
  },
  "language_info": {
   "codemirror_mode": {
    "name": "ipython",
    "version": 3
   },
   "file_extension": ".py",
   "mimetype": "text/x-python",
   "name": "python",
   "nbconvert_exporter": "python",
   "pygments_lexer": "ipython3",
   "version": "3.10.9"
  }
 },
 "nbformat": 4,
 "nbformat_minor": 5
}
