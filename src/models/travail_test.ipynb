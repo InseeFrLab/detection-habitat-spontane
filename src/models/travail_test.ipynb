{
 "cells": [
  {
   "cell_type": "code",
   "execution_count": 1,
   "id": "7318902b-d1ee-4b68-92cd-c32788185f85",
   "metadata": {
    "tags": []
   },
   "outputs": [],
   "source": [
    "import os\n",
    "#os.chdir(\"../\")\n",
    "os.getcwd()"
   ]
  },
  {
   "cell_type": "code",
   "execution_count": 11,
   "id": "e554ad05-b0a6-44b7-8925-f97ee2e35fd7",
   "metadata": {
    "tags": []
   },
   "outputs": [],
   "source": [
    "import yaml \n",
    "from yaml.loader import SafeLoader\n",
    "%load_ext autoreload\n",
    "%autoreload 2\n",
    "from run_training_pipeline import (\n",
    "download_data,\n",
    "prepare_data,\n",
    "instantiate_dataset,\n",
    "instantiate_model,\n",
    "instantiate_loss,\n",
    "instantiate_trainer,\n",
    "instantiate_dataloader,\n",
    "download_prepare_test\n",
    ")\n",
    "from train_pipeline_utils.download_data import load_donnees_test\n",
    "from classes.data.satellite_image import SatelliteImage\n",
    "from classes.data.labeled_satellite_image import SegmentationLabeledSatelliteImage\n",
    "from utils.plot_utils import plot_list_segmentation_labeled_satellite_image\n",
    "import torch"
   ]
  },
  {
   "cell_type": "code",
   "execution_count": 116,
   "id": "1a11e74d-ff97-409a-8131-a9f314defbb8",
   "metadata": {
    "tags": []
   },
   "outputs": [],
   "source": [
    "# length_delete = 75\n",
    "# dir_path = \"../data/PLEIADES/2022/MARTINIQUE/\"\n",
    "\n",
    "# files = os.listdir(dir_path)[:length_delete]\n",
    "\n",
    "# for file in files:\n",
    "#     file_path = os.path.join(dir_path, file)\n",
    "#     if os.path.isfile(file_path):\n",
    "#         os.remove(file_path)\n"
   ]
  },
  {
   "cell_type": "code",
   "execution_count": 3,
   "id": "0746e008-2e63-41df-bd6d-0e43ffad9cfb",
   "metadata": {
    "tags": []
   },
   "outputs": [],
   "source": [
    "with open(\"../config.yml\") as f:\n",
    "    config = yaml.load(f, Loader=SafeLoader)\n",
    "\n",
    "list_data_dir = download_data(config)"
   ]
  },
  {
   "cell_type": "code",
   "execution_count": 4,
   "id": "45402c69-7d79-4005-859a-5d897b01c0a0",
   "metadata": {
    "tags": []
   },
   "outputs": [],
   "source": [
    "list_output_dir = prepare_data(config, list_data_dir)\n",
    "#download_prepare_test(config)\n",
    "model = instantiate_model(config)\n"
   ]
  },
  {
   "cell_type": "code",
   "execution_count": 5,
   "id": "2d3d464a-8ffe-419e-a947-c0f8c5632bec",
   "metadata": {
    "tags": []
   },
   "outputs": [],
   "source": [
    "train_dl, valid_dl, test_dl = instantiate_dataloader(\n",
    "    config, list_output_dir\n",
    ")"
   ]
  },
  {
   "cell_type": "code",
   "execution_count": 6,
   "id": "2dae10cc-84bf-43be-a884-066b51364b61",
   "metadata": {
    "tags": []
   },
   "outputs": [],
   "source": [
    "import numpy as np"
   ]
  },
  {
   "cell_type": "code",
   "execution_count": 12,
   "id": "e6cf05c0-020d-413a-a0f5-7b0e5eb4e8a1",
   "metadata": {
    "tags": []
   },
   "outputs": [],
   "source": [
    "tile_size = config[\"donnees\"][\"tile size\"]\n",
    "batch_size = config[\"optim\"][\"batch size test\"]\n",
    "list_labeled_satellite_image = []\n",
    "\n",
    "npatch = int((2000/tile_size)**2)\n",
    "nbatchforfullimage = int(npatch/batch_size)\n",
    "\n",
    "if not npatch % nbatchforfullimage == 0:\n",
    "    print(\"Le nombre de patchs n'est pas divisible par la taille d'un batch\")\n",
    "    #return None \n",
    "\n",
    "for idx, batch in enumerate(test_dl):\n",
    "    print(\"id_batch\",idx)\n",
    "    images, label, dic = next(iter(test_dl))\n",
    "    output_model = model(images)\n",
    "    mask_pred = np.array(torch.argmax(output_model, axis  = 1))\n",
    "\n",
    "    for i in range(batch_size):    \n",
    "        pthimg = dic[\"pathimage\"][i]\n",
    "        si = SatelliteImage.from_raster(\n",
    "                file_path = pthimg,\n",
    "                dep = None,\n",
    "                date = None,\n",
    "                n_bands= 3)\n",
    "        si.normalize()\n",
    "        \n",
    "        list_labeled_satellite_image.append( \n",
    "            SegmentationLabeledSatelliteImage(\n",
    "                satellite_image =  si ,\n",
    "                label= mask_pred[i],\n",
    "                source= \"\",\n",
    "                labeling_date = \"\"\n",
    "            )\n",
    "        )\n",
    "        \n",
    "        del images, labels, dic\n",
    "        \n",
    "    if ((idx+1) % nbatchforfullimage) == 0:\n",
    "        \n",
    "        if not os.path.exists(\"img/\"):\n",
    "            os.makedirs(\"img/\")\n",
    "        \n",
    "        fig1 = plot_list_segmentation_labeled_satellite_image(list_labeled_satellite_image,[0,1,2])\n",
    "    \n",
    "        filename = pthimg.split('/')[-1]\n",
    "        filename = filename.split('.')[0]\n",
    "        filename = '_'.join(filename.split('_')[0:6])\n",
    "        plot_file = filename + \".png\"\n",
    "        \n",
    "        fig1.savefig(plot_file)\n",
    "        #mlflow.log_artifact(plot_file, artifact_path=\"plots\")\n",
    "            \n",
    "\n",
    "    \n"
   ]
  },
  {
   "cell_type": "code",
   "execution_count": 152,
   "id": "c3216247-a5c5-47ac-86fe-2ceca0ead91f",
   "metadata": {
    "tags": []
   },
   "outputs": [],
   "source": [
    "images.shape"
   ]
  },
  {
   "cell_type": "code",
   "execution_count": null,
   "id": "7e845fa5-4307-41b2-9de9-dfe02fb231dc",
   "metadata": {},
   "outputs": [],
   "source": [
    "#test pleiade\n",
    "# test sentinel 2..\n",
    "list_labeled_satellite_image = []\n",
    "\n",
    "for idx, batch in enumerate(test_dl):\n",
    "    images, labels, paths = batch\n",
    "    model(images)"
   ]
  }
 ],
 "metadata": {
  "kernelspec": {
   "display_name": "Python 3 (ipykernel)",
   "language": "python",
   "name": "python3"
  },
  "language_info": {
   "codemirror_mode": {
    "name": "ipython",
    "version": 3
   },
   "file_extension": ".py",
   "mimetype": "text/x-python",
   "name": "python",
   "nbconvert_exporter": "python",
   "pygments_lexer": "ipython3",
   "version": "3.10.9"
  }
 },
 "nbformat": 4,
 "nbformat_minor": 5
}
