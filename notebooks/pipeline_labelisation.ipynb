{
 "cells": [
  {
   "cell_type": "markdown",
   "id": "af9245be-7449-4f59-a237-64e210b61347",
   "metadata": {},
   "source": [
    "# Pipeline labelisation"
   ]
  },
  {
   "cell_type": "markdown",
   "id": "2adaf17d-6363-44ae-9d38-1891d03a404d",
   "metadata": {},
   "source": [
    "## Imports des packages"
   ]
  },
  {
   "cell_type": "code",
   "execution_count": 13,
   "id": "58ce04d8-f19f-4ecc-a230-952c3a65fc7c",
   "metadata": {},
   "outputs": [],
   "source": [
    "import sys\n",
    "sys.path.append('../src')\n",
    "import shutil\n",
    "import yaml\n",
    "import py7zr\n",
    "import os\n",
    "import s3fs\n",
    "from satellite_image import SatelliteImage\n",
    "from labeler import RILLabeler\n",
    "from labeler import BDTOPOLabeler\n",
    "from labeled_satellite_image import SegmentationLabeledSatelliteImage\n",
    "from utils import *\n",
    "from filter import *\n",
    "import matplotlib.pyplot as plt\n",
    "import numpy as np\n",
    "import rasterio.plot as rp\n",
    "import re\n",
    "from datetime import datetime\n",
    "from tqdm import tqdm"
   ]
  },
  {
   "cell_type": "code",
   "execution_count": 14,
   "id": "f6c66a58",
   "metadata": {},
   "outputs": [],
   "source": [
    "update_storage_access()"
   ]
  },
  {
   "cell_type": "markdown",
   "id": "6904ec4c-35fe-4d61-8694-681979f3edb5",
   "metadata": {},
   "source": [
    "## Téléchargement des données Pléiades"
   ]
  },
  {
   "cell_type": "code",
   "execution_count": 15,
   "id": "2fbdabfc-7874-4c31-8dcc-e44038984c41",
   "metadata": {},
   "outputs": [],
   "source": [
    "environment = get_environment()\n",
    "\n",
    "bucket = environment[\"bucket\"]\n",
    "path_s3_pleiades_data = environment[\"sources\"][\"PLEIADES\"]\n",
    "path_s3_bdtopo_data = environment[\"sources\"][\"BDTOPO\"][2022][\"guyane\"]\n",
    "path_local_pleiades_data = environment[\"local-path\"][\"PLEIADES\"]\n",
    "path_local_bdtopo_data = environment[\"local-path\"][\"BDTOPO\"][2022][\"guyane\"]\n",
    "\n",
    "fs = s3fs.S3FileSystem(client_kwargs={\"endpoint_url\": \"https://minio.lab.sspcloud.fr\"})"
   ]
  },
  {
   "cell_type": "markdown",
   "id": "fa8a7f7b-d25b-4afb-9ac7-7e9222aec541",
   "metadata": {},
   "source": [
    "On télécharge les fichiers depuis s3 (à mettre dans le setup.sh?)"
   ]
  },
  {
   "cell_type": "code",
   "execution_count": 16,
   "id": "1d68b39b",
   "metadata": {},
   "outputs": [],
   "source": [
    "fs.download(\n",
    "        rpath=f\"{bucket}/{path_s3_pleiades_data}\",\n",
    "        lpath=f\"../{path_local_pleiades_data}\",\n",
    "        recursive=True)"
   ]
  },
  {
   "cell_type": "code",
   "execution_count": 17,
   "id": "e5441057",
   "metadata": {},
   "outputs": [],
   "source": [
    "fs.download(\n",
    "        rpath=f\"{bucket}/{path_s3_bdtopo_data}\",\n",
    "        lpath=f\"../{path_local_bdtopo_data}\",\n",
    "        recursive=True)"
   ]
  },
  {
   "cell_type": "markdown",
   "id": "0b969be8-f15a-4283-bae3-4468e49add8f",
   "metadata": {},
   "source": [
    "## Découpage et filtrage des images"
   ]
  },
  {
   "cell_type": "code",
   "execution_count": 18,
   "id": "f49b8c36-8a34-4c4e-90c5-1880f4e55229",
   "metadata": {},
   "outputs": [],
   "source": [
    "images_paths = [f\"../{path_local_pleiades_data}/16bits/ORT_2022072050325085_U22N/\" + p for p in os.listdir(f\"../{path_local_pleiades_data}/16bits/ORT_2022072050325085_U22N/\")]"
   ]
  },
  {
   "cell_type": "code",
   "execution_count": 19,
   "id": "bc895b95-3339-4a26-af78-a51937bed2dc",
   "metadata": {},
   "outputs": [],
   "source": [
    "date = datetime.strptime(re.search(r'ORT_(\\d{8})', images_paths[0]).group(1), '%Y%m%d')"
   ]
  },
  {
   "cell_type": "markdown",
   "id": "ec7c51b6-039c-4a8e-a410-c00a518be9f4",
   "metadata": {},
   "source": [
    "On importes les `SatelliteImage` dans une liste."
   ]
  },
  {
   "cell_type": "code",
   "execution_count": 20,
   "id": "68e46f84-a7bb-4d1f-88b4-78f5d3e2a24c",
   "metadata": {
    "tags": []
   },
   "outputs": [],
   "source": [
    "list_images = [\n",
    "     SatelliteImage.from_raster(\n",
    "        filename,\n",
    "        date = datetime.strptime(re.search(r'ORT_(\\d{8})', filename).group(1), '%Y%m%d'), \n",
    "        n_bands = 4\n",
    "    ) for filename in tqdm(images_paths)]"
   ]
  },
  {
   "cell_type": "markdown",
   "id": "7154e376-81ff-4563-aa90-1b159cf806e9",
   "metadata": {},
   "source": [
    "On découpe les images initialement de dimension 2000 en plusieurs image de dimension `dim`. On ne garde ensuite que les images qui sont pertinentes à l'aide de la méthode `filter_images`. Une image contenant moins de 50% de pixels non noirs n'est pas retenue."
   ]
  },
  {
   "cell_type": "code",
   "execution_count": 21,
   "id": "375eb45a-6c39-4d10-baa6-348939561788",
   "metadata": {},
   "outputs": [],
   "source": [
    "dim = 250"
   ]
  },
  {
   "cell_type": "code",
   "execution_count": 22,
   "id": "3bd2ad3a-c8a3-4622-835a-756d33c82a53",
   "metadata": {
    "tags": []
   },
   "outputs": [],
   "source": [
    "splitted_list_images = [im for sublist in tqdm(list_images) for im in sublist.split(250) if not is_too_black(im)]"
   ]
  },
  {
   "cell_type": "code",
   "execution_count": 23,
   "id": "9ab7ec56-0eea-4add-88d6-58fbe304b350",
   "metadata": {},
   "outputs": [],
   "source": [
    "len(splitted_list_images)"
   ]
  },
  {
   "cell_type": "markdown",
   "id": "25e1b5d8-f670-4e8c-87b5-8bd902552e0c",
   "metadata": {},
   "source": [
    "On peut représenter graphiquement nos images grâce à la méthode `plot` :"
   ]
  },
  {
   "cell_type": "code",
   "execution_count": 24,
   "id": "8e94dc42-17c2-4147-b0f2-ece39396834c",
   "metadata": {},
   "outputs": [],
   "source": [
    "splitted_list_images[2796].plot([0, 1, 2]) # RGB (3 premières bandes)"
   ]
  },
  {
   "cell_type": "markdown",
   "id": "b03ad73e-7388-489e-8648-676238df92d4",
   "metadata": {},
   "source": [
    "On peut représenter l'image infrarouge : "
   ]
  },
  {
   "cell_type": "code",
   "execution_count": 25,
   "id": "5a725383-f860-4018-a531-97f59f45113c",
   "metadata": {
    "tags": []
   },
   "outputs": [],
   "source": [
    "splitted_list_images[2796].plot([3, 0, 1]) # RGB (Infrarouge, rouge, vert)"
   ]
  },
  {
   "cell_type": "markdown",
   "id": "1fee5c95-0fc2-4606-9f28-cefef5a08344",
   "metadata": {},
   "source": [
    "Ou bien qu'une seule bande :"
   ]
  },
  {
   "cell_type": "code",
   "execution_count": 26,
   "id": "be413637-9595-4d90-b8ef-3f1d16ecc4f0",
   "metadata": {
    "tags": []
   },
   "outputs": [],
   "source": [
    "splitted_list_images[2796].plot([0]) # Une bande"
   ]
  },
  {
   "cell_type": "markdown",
   "id": "08b7c43b-0f9d-48af-bbfd-31b1366696e7",
   "metadata": {},
   "source": [
    "## Labélisation avec le RIL"
   ]
  },
  {
   "cell_type": "markdown",
   "id": "159d3559-c397-41de-8b0f-7cd7d930c0da",
   "metadata": {},
   "source": [
    "On définit un `labeler` incluant la taille des buffers que l'on souhaite ainsi que la forme de ceux-ci."
   ]
  },
  {
   "cell_type": "code",
   "execution_count": 27,
   "id": "6787eb19-86e7-4f5c-8556-6c121595ba52",
   "metadata": {},
   "outputs": [],
   "source": [
    "labeler_RIL = RILLabeler(date, buffer_size=6, cap_style=3)"
   ]
  },
  {
   "cell_type": "markdown",
   "id": "3087a133-adaa-41b4-9a8e-aa21df47f75f",
   "metadata": {},
   "source": [
    "A l'aide de notre `labeler` on créer une `SegmentationLabeledSatelliteImage`."
   ]
  },
  {
   "cell_type": "code",
   "execution_count": 28,
   "id": "f4d09e85-4d2a-45c9-b468-dabc7c979586",
   "metadata": {
    "tags": []
   },
   "outputs": [],
   "source": [
    "list_labeled_images = [\n",
    "     SegmentationLabeledSatelliteImage(\n",
    "        sat_im,\n",
    "        labeler_RIL.create_segmentation_label(sat_im),\n",
    "        \"RIL\",\n",
    "        date\n",
    "     ) for sat_im in tqdm(splitted_list_images)]"
   ]
  },
  {
   "cell_type": "markdown",
   "id": "b6b9c660-8a80-4438-8b53-95d2c15e7716",
   "metadata": {},
   "source": [
    "Il est également possible de représenter graphiquement l'image ainsi que son label grâce à la méthode `plot()`. Ici un exemple d'image ou l'on constate la présence d'immeubles : "
   ]
  },
  {
   "cell_type": "code",
   "execution_count": 29,
   "id": "28c369e2-9148-4b4e-8d46-8dd57e018e5e",
   "metadata": {},
   "outputs": [],
   "source": [
    "list_labeled_images[2796].plot([0,1,2])"
   ]
  },
  {
   "cell_type": "markdown",
   "id": "cfd013e2-9a60-4428-a6de-42c11b1d3123",
   "metadata": {},
   "source": [
    "Et voici un exemple sans immeuble : "
   ]
  },
  {
   "cell_type": "code",
   "execution_count": 30,
   "id": "3fc26688-0c87-4e75-a88e-b74a03a2f313",
   "metadata": {
    "tags": []
   },
   "outputs": [],
   "source": [
    "list_labeled_images[0].plot([0,1,2])"
   ]
  },
  {
   "cell_type": "markdown",
   "id": "1d4a4348-fe6c-4c2e-b06c-183a439e1c06",
   "metadata": {},
   "source": [
    "## Labélisation avec la BDTOPO"
   ]
  },
  {
   "cell_type": "markdown",
   "id": "fd67ac08-ab15-4d52-bd93-6452d2621ed9",
   "metadata": {},
   "source": [
    "On peut réaliser la labelisation grâce à la BDTOPO plutôt que le RIL afin d'avoir des contours plus précis."
   ]
  },
  {
   "cell_type": "code",
   "execution_count": 31,
   "id": "703f17f1-5eca-49ab-b591-b74684d3faba",
   "metadata": {},
   "outputs": [],
   "source": [
    "labeler_BDTOPO = BDTOPOLabeler(date)"
   ]
  },
  {
   "cell_type": "code",
   "execution_count": 32,
   "id": "0adbcf4b-ac53-497b-91f3-458c1861619a",
   "metadata": {},
   "outputs": [],
   "source": [
    "list_labeled_images = [\n",
    "     SegmentationLabeledSatelliteImage(\n",
    "        sat_im,\n",
    "        labeler_BDTOPO.create_segmentation_label(sat_im),\n",
    "        \"BDTOPO\",\n",
    "        date\n",
    "     ) for sat_im in tqdm(splitted_list_images)]"
   ]
  },
  {
   "cell_type": "code",
   "execution_count": 33,
   "id": "92e1f0d6-11c7-43ca-9217-523c98242d7c",
   "metadata": {
    "tags": []
   },
   "outputs": [],
   "source": [
    "list_labeled_images[2796].plot([0,1,2])"
   ]
  },
  {
   "cell_type": "code",
   "execution_count": 34,
   "id": "4b3ebaad-a1ac-46fe-8aa5-9333d2162c85",
   "metadata": {
    "tags": []
   },
   "outputs": [],
   "source": [
    "list_labeled_images[0].plot([0,1,2])"
   ]
  },
  {
   "cell_type": "code",
   "execution_count": null,
   "id": "905ec765-7ff0-4bd1-b843-dce1ad60013a",
   "metadata": {},
   "outputs": [],
   "source": []
  }
 ],
 "metadata": {
  "kernelspec": {
   "display_name": "Python 3 (ipykernel)",
   "language": "python",
   "name": "python3"
  },
  "language_info": {
   "codemirror_mode": {
    "name": "ipython",
    "version": 3
   },
   "file_extension": ".py",
   "mimetype": "text/x-python",
   "name": "python",
   "nbconvert_exporter": "python",
   "pygments_lexer": "ipython3",
   "version": "3.10.4"
  },
  "vscode": {
   "interpreter": {
    "hash": "3fa046f995eb80ac40c0869a1f9df46519f4ada8b8c395ef25dd1aa1a1a2fc63"
   }
  }
 },
 "nbformat": 4,
 "nbformat_minor": 5
}
