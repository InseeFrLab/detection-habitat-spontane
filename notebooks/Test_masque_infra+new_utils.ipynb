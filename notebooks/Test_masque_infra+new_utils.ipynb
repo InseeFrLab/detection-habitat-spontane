{
 "cells": [
  {
   "cell_type": "code",
   "execution_count": 1,
   "id": "9c7898d6-32b0-48e7-87ec-98cbfa9383d7",
   "metadata": {
    "tags": []
   },
   "outputs": [],
   "source": [
    "%load_ext autoreload\n",
    "%autoreload 2"
   ]
  },
  {
   "cell_type": "code",
   "execution_count": 76,
   "id": "8a6e47e5-8480-4175-a983-eb68fe5f0074",
   "metadata": {
    "tags": []
   },
   "outputs": [],
   "source": [
    "import sys\n",
    "sys.path.append('../src')\n",
    "from satellite_image import SatelliteImage\n",
    "from utils import *\n",
    "from plot_utils import *\n",
    "from image_utils import *"
   ]
  },
  {
   "cell_type": "code",
   "execution_count": 13,
   "id": "1dda90ee-4f72-404f-8fe8-6dc95e855210",
   "metadata": {
    "tags": []
   },
   "outputs": [],
   "source": [
    "import s3fs\n",
    "import re"
   ]
  },
  {
   "cell_type": "code",
   "execution_count": 10,
   "id": "e6ae6122-b256-444f-a8f3-d0ef88a5ba8d",
   "metadata": {
    "tags": []
   },
   "outputs": [],
   "source": [
    "update_storage_access()"
   ]
  },
  {
   "cell_type": "code",
   "execution_count": 14,
   "id": "0522c7c5-d360-47dc-aa8e-8d6d8964bdfa",
   "metadata": {
    "tags": []
   },
   "outputs": [],
   "source": [
    "environment = get_environment()\n",
    "\n",
    "root_path = get_root_path()\n",
    "\n",
    "bucket = environment[\"bucket\"]\n",
    "\n",
    "#2022\n",
    "#guyane 2022\n",
    "path_s3_pleiades_data_2022_guyane = environment[\"sources\"][\"PLEIADES\"][2022][\"guyane\"]\n",
    "path_local_pleiades_data_2022_guyane = environment[\"local-path\"][\"PLEIADES\"][2022][\"guyane\"]\n",
    "\n",
    "#martinique 2022\n",
    "path_s3_pleiades_data_2022_martinique = environment[\"sources\"][\"PLEIADES\"][2022][\"martinique\"]\n",
    "path_local_pleiades_data_2022_martinique = environment[\"local-path\"][\"PLEIADES\"][2022][\"martinique\"]\n",
    "          \n",
    "#guadeloupe 2022\n",
    "path_s3_pleiades_data_2022_guadeloupe = environment[\"sources\"][\"PLEIADES\"][2022][\"guadeloupe\"]\n",
    "path_local_pleiades_data_2022_guadeloupe = environment[\"local-path\"][\"PLEIADES\"][2022][\"guadeloupe\"]\n",
    "\n",
    "#mayotte 2022\n",
    "path_s3_pleiades_data_2022_mayotte = environment[\"sources\"][\"PLEIADES\"][2022][\"mayotte\"]\n",
    "path_local_pleiades_data_2022_mayotte = environment[\"local-path\"][\"PLEIADES\"][2022][\"mayotte\"]\n",
    "\n",
    "#2020\n",
    "#mayotte 2020\n",
    "path_s3_pleiades_data_2020_mayotte = environment[\"sources\"][\"PLEIADES\"][2020][\"mayotte\"]\n",
    "path_local_pleiades_data_2020_mayotte = environment[\"local-path\"][\"PLEIADES\"][2020][\"mayotte\"]\n",
    "\n",
    "#2019\n",
    "#mayotte 2019\n",
    "path_s3_pleiades_data_2019_mayotte = environment[\"sources\"][\"PLEIADES\"][2019][\"mayotte\"]\n",
    "path_local_pleiades_data_2019_mayotte = environment[\"local-path\"][\"PLEIADES\"][2019][\"mayotte\"]\n",
    "\n",
    "#2018\n",
    "#reunion 2018\n",
    "path_s3_pleiades_data_2018_reunion = environment[\"sources\"][\"PLEIADES\"][2018][\"reunion\"]\n",
    "path_local_pleiades_data_2018_reunion = environment[\"local-path\"][\"PLEIADES\"][2018][\"reunion\"]\n",
    "\n",
    "#2017\n",
    "#martinique 2017\n",
    "path_s3_pleiades_data_2017_martinique = environment[\"sources\"][\"PLEIADES\"][2017][\"martinique\"]\n",
    "path_local_pleiades_data_2017_martinique = environment[\"local-path\"][\"PLEIADES\"][2017][\"martinique\"]\n",
    "\n",
    "#mayotte 2017\n",
    "path_s3_pleiades_data_2017_mayotte = environment[\"sources\"][\"PLEIADES\"][2017][\"mayotte\"]\n",
    "path_local_pleiades_data_2017_mayotte = environment[\"local-path\"][\"PLEIADES\"][2017][\"mayotte\"]\n",
    "\n",
    "fs = s3fs.S3FileSystem(client_kwargs={\"endpoint_url\": \"https://minio.lab.sspcloud.fr\"})"
   ]
  },
  {
   "cell_type": "code",
   "execution_count": 15,
   "id": "378ea433-122d-4dd9-861b-917f561d9342",
   "metadata": {
    "tags": []
   },
   "outputs": [],
   "source": [
    "# DL PLEIADE guyane 2022 utilisé !\n",
    "fs.download(\n",
    "        rpath=f\"{bucket}/{path_s3_pleiades_data_2022_guyane}\",\n",
    "        lpath=f\"../{path_local_pleiades_data_2022_guyane}\",\n",
    "        recursive=True)"
   ]
  },
  {
   "cell_type": "code",
   "execution_count": 16,
   "id": "fc0468c4-282b-47bb-996d-15c21ccfea8f",
   "metadata": {
    "tags": []
   },
   "outputs": [],
   "source": [
    "# DL PLEIADE martinique 2022 utilisé !\n",
    "fs.download(\n",
    "        rpath=f\"{bucket}/{path_s3_pleiades_data_2022_martinique}\",\n",
    "        lpath=f\"../{path_local_pleiades_data_2022_martinique}\",\n",
    "        recursive=True)"
   ]
  },
  {
   "cell_type": "code",
   "execution_count": 17,
   "id": "7e575953-b560-47d3-a3db-58c94d89c6b2",
   "metadata": {
    "tags": []
   },
   "outputs": [],
   "source": [
    "# DL PLEIADE martinique 2017 utilisé !\n",
    "fs.download(\n",
    "        rpath=f\"{bucket}/{path_s3_pleiades_data_2017_martinique}\",\n",
    "        lpath=f\"../{path_local_pleiades_data_2017_martinique}\",\n",
    "        recursive=True)"
   ]
  },
  {
   "cell_type": "code",
   "execution_count": 28,
   "id": "8ad9a67c-7b18-410f-bb86-eaf040bd3587",
   "metadata": {
    "tags": []
   },
   "outputs": [],
   "source": [
    "#image choisie\n",
    "filename = '../data/PLEIADES/2022/GUYANE/ORT_2022072050325085_0353_0545_U22N_16Bits.jp2'\n",
    "date = datetime.strptime(re.search(r'ORT_(\\d{8})', filename).group(1), '%Y%m%d')\n",
    "date"
   ]
  },
  {
   "cell_type": "code",
   "execution_count": 215,
   "id": "b3c02858-246c-47ad-96d9-9cc058d6f01e",
   "metadata": {
    "tags": []
   },
   "outputs": [],
   "source": [
    "image = SatelliteImage.from_raster(\n",
    "        filename,\n",
    "        date = date, \n",
    "        n_bands = 4,\n",
    "        dep = \"973\"\n",
    "    )\n",
    "image.normalize()"
   ]
  },
  {
   "cell_type": "markdown",
   "id": "2cf5d3c1-3f74-471b-8678-212565043647",
   "metadata": {},
   "source": [
    "Test masque infrarouge simple"
   ]
  },
  {
   "cell_type": "code",
   "execution_count": 30,
   "id": "9a4e4eb3-6453-4c22-9c98-7644f5ba8479",
   "metadata": {
    "tags": []
   },
   "outputs": [],
   "source": [
    "plot_infrared_simple_mask(image)"
   ]
  },
  {
   "cell_type": "markdown",
   "id": "2f3870c6-056e-4511-93ed-d52432c20f9b",
   "metadata": {},
   "source": [
    "Test masque infrarouge patch"
   ]
  },
  {
   "cell_type": "code",
   "execution_count": 34,
   "id": "c1bced89-be81-4538-abf6-7b0f2f0261b1",
   "metadata": {
    "tags": []
   },
   "outputs": [],
   "source": [
    "image = SatelliteImage.from_raster(\n",
    "        filename,\n",
    "        date = date, \n",
    "        n_bands = 4,\n",
    "        dep = \"973\"\n",
    "    )\n",
    "image.normalize()"
   ]
  },
  {
   "cell_type": "code",
   "execution_count": 35,
   "id": "0be2558b-53a9-49b7-bff7-849fca25688f",
   "metadata": {
    "tags": []
   },
   "outputs": [],
   "source": [
    "plot_infrared_patch_mask(image)"
   ]
  },
  {
   "cell_type": "markdown",
   "id": "f47b8caf-06e8-4a18-a627-e2475d9835d6",
   "metadata": {},
   "source": [
    "Test masque infrarouge complexe"
   ]
  },
  {
   "cell_type": "code",
   "execution_count": 36,
   "id": "a628b60d-0259-4f46-8cbb-1830554226a1",
   "metadata": {
    "tags": []
   },
   "outputs": [],
   "source": [
    "image = SatelliteImage.from_raster(\n",
    "        filename,\n",
    "        date = date, \n",
    "        n_bands = 4,\n",
    "        dep = \"973\"\n",
    "    )\n",
    "image.normalize()"
   ]
  },
  {
   "cell_type": "code",
   "execution_count": 37,
   "id": "dd91d6bd-43e6-4089-87ba-6f31ffee0ed3",
   "metadata": {
    "tags": []
   },
   "outputs": [],
   "source": [
    "plot_infrared_complex_mask(image)"
   ]
  },
  {
   "cell_type": "code",
   "execution_count": 38,
   "id": "7d98352f-cfff-4d00-a27f-0e6091faf85f",
   "metadata": {
    "tags": []
   },
   "outputs": [],
   "source": [
    "#image 1\n",
    "filename_1 = '../data/PLEIADES/2022/MARTINIQUE/ORT_2022_0697_1640_U20N_8Bits.jp2'\n",
    "date_1 = date.fromisoformat('2022-01-01')"
   ]
  },
  {
   "cell_type": "code",
   "execution_count": 39,
   "id": "5d23097f-3e48-4dd4-b179-4c21cd006e8e",
   "metadata": {
    "tags": []
   },
   "outputs": [],
   "source": [
    "image_1 = SatelliteImage.from_raster(\n",
    "        filename_1,\n",
    "        date = date_1, \n",
    "        n_bands = 3,\n",
    "        dep = \"972\"\n",
    "    )\n",
    "image_1.normalize()"
   ]
  },
  {
   "cell_type": "markdown",
   "id": "62447d1c-921a-44b8-8e85-c2491e44102a",
   "metadata": {},
   "source": [
    "Tests crs_to_gps_image"
   ]
  },
  {
   "cell_type": "code",
   "execution_count": 55,
   "id": "dcb29139-ebdb-411d-b185-455da3282503",
   "metadata": {
    "tags": []
   },
   "outputs": [],
   "source": [
    "crs_to_gps_image(None, filename_1)"
   ]
  },
  {
   "cell_type": "code",
   "execution_count": 56,
   "id": "feb076d3-b565-49f7-a3f3-9767b0d3b40b",
   "metadata": {
    "tags": []
   },
   "outputs": [],
   "source": [
    "crs_to_gps_image(image_1)"
   ]
  },
  {
   "cell_type": "markdown",
   "id": "d6de0ae9-a6ba-4a57-b325-c26746edc78a",
   "metadata": {},
   "source": [
    "Test gps_to_crs_point"
   ]
  },
  {
   "cell_type": "code",
   "execution_count": 57,
   "id": "4db9178b-c58d-4b5d-8fad-ea874ce0fe82",
   "metadata": {
    "tags": []
   },
   "outputs": [],
   "source": [
    "gps_to_crs_point(14.636195717948983, -61.04095442371388, '5490') "
   ]
  },
  {
   "cell_type": "markdown",
   "id": "d224cfe1-ddad-4b83-8cc1-e1ba5e870e92",
   "metadata": {},
   "source": [
    "Tests find_image_of_point"
   ]
  },
  {
   "cell_type": "code",
   "execution_count": 66,
   "id": "95b49628-de5b-47ff-9f97-6f9e1c3866e3",
   "metadata": {
    "tags": []
   },
   "outputs": [],
   "source": [
    "find_image_of_point([713000.0, 1606000.0], '../data/PLEIADES/2022/MARTINIQUE') "
   ]
  },
  {
   "cell_type": "code",
   "execution_count": 67,
   "id": "6a82b9bb-1f1b-42df-a9b2-1f70179922bb",
   "metadata": {
    "tags": []
   },
   "outputs": [],
   "source": [
    "find_image_of_point([14.635338, -61.038345], '../data/PLEIADES/2022/MARTINIQUE', coord_gps = True)"
   ]
  },
  {
   "cell_type": "code",
   "execution_count": 70,
   "id": "87fd79d6-6c6d-4133-a4d4-68ac37f58d3b",
   "metadata": {
    "tags": []
   },
   "outputs": [],
   "source": [
    "find_image_different_years(2017, None, filename_1)"
   ]
  },
  {
   "cell_type": "code",
   "execution_count": 77,
   "id": "788db06d-c00b-4f91-8960-a4bd9b1b1b3c",
   "metadata": {
    "tags": []
   },
   "outputs": [],
   "source": [
    "plot_square_images([0,1,2], 1 , None ,'../data/PLEIADES/2017/MARTINIQUE/72-2017-0711-1619-U20N-0M50-RVB-E100.jp2')"
   ]
  }
 ],
 "metadata": {
  "kernelspec": {
   "display_name": "Python 3 (ipykernel)",
   "language": "python",
   "name": "python3"
  },
  "language_info": {
   "codemirror_mode": {
    "name": "ipython",
    "version": 3
   },
   "file_extension": ".py",
   "mimetype": "text/x-python",
   "name": "python",
   "nbconvert_exporter": "python",
   "pygments_lexer": "ipython3",
   "version": "3.10.9"
  }
 },
 "nbformat": 4,
 "nbformat_minor": 5
}
