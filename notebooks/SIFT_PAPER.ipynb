{
 "cells": [
  {
   "cell_type": "code",
   "execution_count": null,
   "id": "35e62b73-770c-4c43-90a6-a074e4f0afb8",
   "metadata": {},
   "outputs": [],
   "source": [
    "%load_ext autoreload\n",
    "%autoreload 2"
   ]
  },
  {
   "cell_type": "code",
   "execution_count": null,
   "id": "eca72358-11aa-4c50-8def-78a1043a53fd",
   "metadata": {
    "tags": []
   },
   "outputs": [],
   "source": [
    "import sys\n",
    "sys.path.append('../src')\n",
    "from classes.data.satellite_image import SatelliteImage\n",
    "from utils.utils import *\n",
    "from utils.plot_utils import *\n",
    "from utils.image_utils import *\n",
    "import utils.mappings as mapps"
   ]
  },
  {
   "cell_type": "code",
   "execution_count": null,
   "id": "d520c9fd-2910-40ad-9d8e-f5ea6f038bd0",
   "metadata": {
    "tags": []
   },
   "outputs": [],
   "source": [
    "import yaml\n",
    "import re\n",
    "import s3fs\n",
    "import numpy as np\n",
    "import matplotlib.pyplot as plt\n",
    "from PIL import Image as im\n",
    "import re\n",
    "from pyproj import Transformer\n",
    "from datetime import date\n",
    "from scipy.ndimage import label\n",
    "import time\n",
    "from tqdm import tqdm\n",
    "import os\n",
    "from scipy.spatial.distance import cdist\n",
    "import numpy as np"
   ]
  },
  {
   "cell_type": "code",
   "execution_count": null,
   "id": "c08e18c7-880f-4291-b01e-13f6e97cab67",
   "metadata": {},
   "outputs": [],
   "source": []
  },
  {
   "cell_type": "code",
   "execution_count": null,
   "id": "4af283dd-f961-4376-bdac-a15550bdc561",
   "metadata": {
    "tags": []
   },
   "outputs": [],
   "source": [
    "def mask_inversion(image):\n",
    "    img = image.array.copy()\n",
    "    img = (img * 255).astype(np.uint8)\n",
    "    img = img.transpose(1,2,0)\n",
    "\n",
    "    shape = img.shape[0:2]\n",
    "    grayscale = np.mean(img, axis=2)\n",
    "\n",
    "    # Threshold : median of the 4th band\n",
    "    threshold = np.quantile(grayscale, 0.30)  # only on the 4th band\n",
    "    black = np.ones(shape, dtype=float)\n",
    "    white = np.zeros(shape, dtype=float)\n",
    "\n",
    "    # Creation of the mask : all the infrared prixels below the threshold \\\n",
    "    # will be black and all the infrared prixels above the threshold \\\n",
    "    # will be white.\n",
    "\n",
    "    mask = np.where(grayscale > threshold, white, black)\n",
    "    image_mask = np.zeros((shape[0],shape[1],3))\n",
    "    image_mask[:,:,0] = mask\n",
    "    image_mask[:,:,1] = mask\n",
    "    image_mask[:,:,2] = mask\n",
    "    return image_mask\n",
    "\n",
    "import os\n",
    "from PIL import Image\n",
    "import numpy as np\n",
    "import io\n",
    "\n",
    "os.getcwd()\n",
    "dir =\"../train_data-PLEIADES-972-2022\"\n",
    "liste = os.listdir(dir + \"/images\")\n",
    "liste_filepath = [ dir + \"/images/\" + name for name in liste]\n",
    "filename = liste_filepath[56]\n",
    "\n",
    "si = SatelliteImage.from_raster(\n",
    "        filename,\n",
    "        date = None, \n",
    "        n_bands = 3,\n",
    "        dep = None\n",
    "    )\n",
    "\n",
    "#data = mask_inversion(si)\n",
    "#data = (data*255).astype(np.uint8)\n",
    "\n",
    "data = si.array\n",
    "data = data.transpose(1,2,0)\n",
    "\n",
    "# Convertir le tableau en image\n",
    "image = Image.fromarray(data)\n",
    "\n",
    "# Sauvegarder l'image en tant que fichier PNG\n",
    "image.save(\"image_exemple_SIFT_paper.png\")\n",
    "\n",
    "plt.imshow(image)"
   ]
  },
  {
   "cell_type": "code",
   "execution_count": null,
   "id": "905b82ca-6dc4-42e5-afd1-f138d8db7bc1",
   "metadata": {
    "tags": []
   },
   "outputs": [],
   "source": [
    "import cv2\n",
    "\n",
    "# Read the image\n",
    "image = cv2.imread('image_exemple_SIFT_paper.png')\n",
    "\n",
    "desired_width = 250 * 6\n",
    "desired_height = 250 * 6\n",
    "\n",
    "# Resize the image using bilinear interpolation\n",
    "image = cv2.resize(image, (desired_width, desired_height), interpolation=cv2.INTER_LINEAR)\n",
    "\n",
    "# Apply bilateral filtering\n",
    "#filtered_image = cv2.bilateralFilter(image, 5, 0.1, 3)\n",
    "filtered_image = image\n",
    "fig, (ax1, ax2) = plt.subplots(1,2,figsize = (10,5))\n",
    "ax1.imshow(filtered_image)\n",
    "ax2.imshow(image)\n",
    "plt.show()"
   ]
  },
  {
   "cell_type": "code",
   "execution_count": null,
   "id": "94472f2e-7a0a-45a1-a3ee-6c260375fd2e",
   "metadata": {
    "tags": []
   },
   "outputs": [],
   "source": [
    "#images en nuances de gris\n",
    "def cv2_imshow(a, **kwargs):\n",
    "    a = a.clip(0, 255).astype('uint8')\n",
    "    if a.ndim == 3:\n",
    "        if a.shape[2] == 4:\n",
    "            a = cv2.cvtColor(a, cv2.COLOR_RGBA2BGRA)\n",
    "        else:\n",
    "            a = cv2.cvtColor(a, cv2.COLOR_RGB2BGR)\n",
    "\n",
    "    return plt.imshow(a, **kwargs, cmap= \"gray\")\n",
    "\n",
    "#images en couleurs\n",
    "def cv2_imshow2(a, **kwargs):\n",
    "    a = a.clip(0, 255).astype('uint8')\n",
    "    if a.ndim == 3:\n",
    "        if a.shape[2] == 4:\n",
    "            a = cv2.cvtColor(a, cv2.COLOR_RGBA2BGRA)\n",
    "        else:\n",
    "            a = cv2.cvtColor(a, cv2.COLOR_RGB2BGR)\n",
    "\n",
    "    return plt.imshow(a, **kwargs, cmap= \"brg\")"
   ]
  },
  {
   "cell_type": "code",
   "execution_count": null,
   "id": "8c3dbdc7-bcf9-4b47-9dc8-bd4a75c4d57b",
   "metadata": {
    "tags": []
   },
   "outputs": [],
   "source": [
    "# Display the filtered image\n",
    "cv2_imshow2(filtered_image)"
   ]
  },
  {
   "cell_type": "code",
   "execution_count": null,
   "id": "eb9fa519-093a-4700-8d8a-840c73d02075",
   "metadata": {
    "tags": []
   },
   "outputs": [],
   "source": [
    "import cv2"
   ]
  },
  {
   "cell_type": "code",
   "execution_count": null,
   "id": "4dbb5baf-a2ed-4458-8680-872a435cd1f8",
   "metadata": {
    "tags": []
   },
   "outputs": [],
   "source": [
    "# Convert the image to grayscale\n",
    "gray = cv2.cvtColor(filtered_image, cv2.COLOR_BGR2GRAY)\n",
    "\n",
    "# Create a SIFT object\n",
    "sift = cv2.xfeatures2d.SIFT_create(nfeatures = 1500)\n",
    "\n",
    "# Detect keypoints and compute descriptors\n",
    "keypoints, descriptors = sift.detectAndCompute(gray, None)\n",
    "\n",
    "# Draw keypoints on the image\n",
    "image_with_keypoints = cv2.drawKeypoints(filtered_image, keypoints, None)\n",
    "\n",
    "# Display the image with keypoints\n",
    "cv2_imshow2(image_with_keypoints)\n",
    "\n",
    "print(len(keypoints))"
   ]
  },
  {
   "cell_type": "code",
   "execution_count": null,
   "id": "328c6523-cca1-42fa-8501-b19de311f5f4",
   "metadata": {
    "tags": []
   },
   "outputs": [],
   "source": [
    "keypoints_coordinates = np.array([ (int(kp.pt[0]),int(kp.pt[1])) for kp in keypoints])\n",
    "str_keypoint_coord =  [str(kp_coord) for kp_coord in keypoints_coordinates]\n",
    "unique_vals,indexes = np.unique(str_keypoint_coord, return_index=True)\n",
    "keypoints_coordinates = keypoints_coordinates[indexes] \n",
    "keypoints = [keypoints[idx] for idx in indexes]\n",
    "descriptors =  [descriptors[idx] for idx in indexes]"
   ]
  },
  {
   "cell_type": "code",
   "execution_count": null,
   "id": "174a13f9-418f-440a-8846-346de949ba9e",
   "metadata": {
    "tags": []
   },
   "outputs": [],
   "source": [
    "mat_dist = cdist(keypoints_coordinates, keypoints_coordinates)\n",
    "seuil_distance = 30\n",
    "mat_dist[ mat_dist > seuil_distance ] = 0\n",
    "adjacency_matrix = mat_dist\n",
    "print(len(mat_dist[mat_dist  >0]))"
   ]
  },
  {
   "cell_type": "code",
   "execution_count": null,
   "id": "a52b4ad0-bc5f-4bae-a3bd-a97d75e2a74d",
   "metadata": {
    "tags": []
   },
   "outputs": [],
   "source": [
    "list_x = []\n",
    "list_y = []\n",
    "\n",
    "#ax.imshow(image_with_keypoints)\n",
    "for i in range(len(keypoints)):\n",
    "    for j in range(i+1, len(keypoints)):\n",
    "        # Check if there is a connection between the points\n",
    "        if adjacency_matrix[i, j] > 0:\n",
    "            # Plot a line connecting the points\n",
    "            #print([keypoints_coordinates[i, 0], keypoints_coordinates[j, 0]], [keypoints_coordinates[i, 1], keypoints_coordinates[j, 1]])\n",
    "            list_x.append([keypoints_coordinates[i, 0], keypoints_coordinates[j, 0]])\n",
    "            list_y.append([keypoints_coordinates[i, 1], keypoints_coordinates[j, 1]])\n",
    "print(len(list_x))"
   ]
  },
  {
   "cell_type": "code",
   "execution_count": null,
   "id": "cfa4e2c5-866c-45b6-b074-0aa5f7a2f87f",
   "metadata": {
    "tags": []
   },
   "outputs": [],
   "source": [
    "fig, ax = plt.subplots()\n",
    "ax.imshow(image_with_keypoints)\n",
    "for x_coord, y_coord in zip(list_x,list_y):\n",
    "    ax.plot(x_coord,y_coord, color='red', alpha=0.8)\n",
    "plt.show()\n"
   ]
  },
  {
   "cell_type": "markdown",
   "id": "4c622326-4395-4486-8054-db1ba05072ec",
   "metadata": {},
   "source": [
    "## selection d'un patch référence"
   ]
  },
  {
   "cell_type": "code",
   "execution_count": null,
   "id": "b6118feb-e81f-4229-ba07-454f664119dd",
   "metadata": {
    "tags": []
   },
   "outputs": [],
   "source": [
    "filename = liste_filepath[35]\n",
    "\n",
    "si = SatelliteImage.from_raster(\n",
    "        filename,\n",
    "        date = None, \n",
    "        n_bands = 3,\n",
    "        dep = None\n",
    "    )\n",
    "\n",
    "\n",
    "data = si.array\n",
    "data = data.transpose(1,2,0)\n",
    "\n",
    "\n",
    "# Convertir le tableau en image\n",
    "image = Image.fromarray(data)\n",
    "\n",
    "image.save(\"image_reference.png\")\n",
    "\n",
    "import cv2\n",
    "\n",
    "# Read the image\n",
    "image = cv2.imread('image_reference.png')\n",
    "\n",
    "# Apply bilateral filtering\n",
    "image = cv2.resize(image, (desired_width, desired_height), interpolation=cv2.INTER_LINEAR)\n",
    "\n",
    "filtered_image_ref = cv2.bilateralFilter(image, 5, 0.1, 3)\n",
    "plt.imshow(filtered_image_ref)"
   ]
  },
  {
   "cell_type": "code",
   "execution_count": null,
   "id": "6273595c-5450-41ed-9c1c-fa485e274384",
   "metadata": {
    "tags": []
   },
   "outputs": [],
   "source": [
    "patch1blanc = filtered_image_ref[1100:1360,150:350,]\n",
    "patch2 =filtered_image_ref[1210:1370,610:800,]\n",
    "fig, ax = plt.subplots()\n",
    "ax.imshow(patch2)"
   ]
  },
  {
   "cell_type": "code",
   "execution_count": null,
   "id": "d8daba29-7b6e-4fe9-b2fb-8b121635a77c",
   "metadata": {
    "tags": []
   },
   "outputs": [],
   "source": [
    "gray = cv2.cvtColor(patch2, cv2.COLOR_BGR2GRAY)\n",
    "# Create a SIFT object\n",
    "sift = cv2.xfeatures2d.SIFT_create(100)\n",
    "# Detect keypoints and compute descriptors\n",
    "keypoints_ref, descriptors_ref = sift.detectAndCompute(gray, None)\n",
    "\n",
    "# Draw keypoints on the image\n",
    "image_with_keypoints_ref = cv2.drawKeypoints(patch2, keypoints_ref, None)\n",
    "\n",
    "# Display the image with keypoints\n",
    "cv2_imshow2(image_with_keypoints_ref)\n"
   ]
  },
  {
   "cell_type": "code",
   "execution_count": null,
   "id": "80869c57-a2de-48ff-9e59-334bb786baaf",
   "metadata": {
    "tags": []
   },
   "outputs": [],
   "source": [
    "keypoints_ref_coordinates = np.array([ (int(kp.pt[0]),int(kp.pt[1])) for kp in keypoints_ref])\n",
    "str_keypoint_ref_coord =  [str(kp_coord) for kp_coord in keypoints_ref_coordinates]\n",
    "unique_vals,indexes = np.unique(str_keypoint_ref_coord, return_index=True)\n",
    "keypoints_ref_coordinates = keypoints_ref_coordinates[indexes] \n",
    "keypoints_ref = [keypoints_ref[idx] for idx in indexes]\n",
    "descriptors_ref =  [descriptors_ref[idx] for idx in indexes]"
   ]
  },
  {
   "cell_type": "markdown",
   "id": "6eb6bc89-b966-4e40-ae17-68f047358e0b",
   "metadata": {},
   "source": [
    "## distance entre keypoints de références e tkeypoints de l'image test"
   ]
  },
  {
   "cell_type": "code",
   "execution_count": null,
   "id": "d2bc9a72-717b-4dab-870e-e3e1ba1d05a0",
   "metadata": {
    "tags": []
   },
   "outputs": [],
   "source": [
    "mat_dist_btw_descriptors = cdist(descriptors, descriptors_ref)\n"
   ]
  },
  {
   "cell_type": "code",
   "execution_count": null,
   "id": "57d216bc-0579-40a0-b5d2-fab02c28aa6d",
   "metadata": {
    "tags": []
   },
   "outputs": [],
   "source": [
    "min_dist = np.min(mat_dist_btw_descriptors)\n",
    "indices_match  = np.where(mat_dist_btw_descriptors == min_dist)\n",
    "indice_0 = indices_match[0][0]\n",
    "indice_ref_0 = indices_match[1][0]\n",
    "\n",
    "list_indices = [indice_0]\n",
    "list_indices_match_in_test =[indice_ref_0]\n",
    "\n",
    "remaining_mat = np.delete(mat_dist_btw_descriptors, indice_0, axis=0)\n",
    "\n",
    "compteur = 0\n",
    "finish  = False\n",
    "while not finish:\n",
    "    \n",
    "    min_dist_new = np.min(remaining_mat)\n",
    "    \n",
    "    indice_ref_new = np.where(mat_dist_btw_descriptors == min_dist_new)[1][0]\n",
    "    indice_new = np.where(remaining_mat == min_dist_new)[0][0]\n",
    "        \n",
    "    if min_dist_new > 2*min_dist:\n",
    "        print(min_dist,min_dist_new)\n",
    "        finish = True\n",
    "    else:\n",
    "        list_indices.append(indice_new)\n",
    "        list_indices_match_in_test.append(indice_ref_new)\n",
    "        remaining_mat = np.delete(remaining_mat, indice_new, axis=0)\n",
    "        #min_dist = min_dist_new\n",
    "    \n",
    "\n"
   ]
  },
  {
   "cell_type": "markdown",
   "id": "d40be70a-090b-4707-9a27-154ed1580fd4",
   "metadata": {},
   "source": [
    "## Prise en compte de la structure \"graph\""
   ]
  },
  {
   "cell_type": "code",
   "execution_count": null,
   "id": "f6c09230-b82b-4d6b-a542-db0a72f33e50",
   "metadata": {
    "tags": []
   },
   "outputs": [],
   "source": [
    "selected_indices = [] \n",
    "for ind_a, a in enumerate(list_indices):\n",
    "    for ind_b,b in enumerate(list_indices):\n",
    "        if (a != b):\n",
    "        \n",
    "            point_i = keypoints_coordinates[a]\n",
    "            point_j = keypoints_coordinates[b]\n",
    "\n",
    "            E_ij = np.sqrt(np.sum(point_i-point_j)**2)\n",
    "\n",
    "            indice_k = list_indices_match_in_test[ind_a]\n",
    "            indice_l = list_indices_match_in_test[ind_b]\n",
    "\n",
    "            point_k = keypoints_ref_coordinates[indice_k]\n",
    "            point_l = keypoints_ref_coordinates[indice_l]\n",
    "\n",
    "            E_kl = np.sqrt(np.sum(point_k-point_l)**2)\n",
    "\n",
    "            gamma = abs(E_ij-E_kl)\n",
    "\n",
    "            if gamma < 4 :\n",
    "                selected_indices.append(a)\n",
    "                selected_indices.append(b)\n",
    "selected_indices = np.unique(selected_indices)\n",
    "len(selected_indices)"
   ]
  },
  {
   "cell_type": "code",
   "execution_count": null,
   "id": "7d277979-6c74-4226-9a09-dda51d1abfc7",
   "metadata": {
    "tags": []
   },
   "outputs": [],
   "source": [
    "selected_keypoints =[ keypoints[i] for i in selected_indices]\n",
    "# Draw keypoints on the image\n",
    "image_with_keypoints = cv2.drawKeypoints(filtered_image,\n",
    "                                         selected_keypoints,\n",
    "                                         None)\n",
    "\n",
    "# Display the image with keypoints\n",
    "cv2_imshow2(image_with_keypoints)"
   ]
  }
 ],
 "metadata": {
  "kernelspec": {
   "display_name": "Python 3 (ipykernel)",
   "language": "python",
   "name": "python3"
  },
  "language_info": {
   "codemirror_mode": {
    "name": "ipython",
    "version": 3
   },
   "file_extension": ".py",
   "mimetype": "text/x-python",
   "name": "python",
   "nbconvert_exporter": "python",
   "pygments_lexer": "ipython3",
   "version": "3.10.9"
  }
 },
 "nbformat": 4,
 "nbformat_minor": 5
}
