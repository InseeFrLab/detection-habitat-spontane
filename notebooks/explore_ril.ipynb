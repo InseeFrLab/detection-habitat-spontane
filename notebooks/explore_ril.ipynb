{
 "cells": [
  {
   "cell_type": "code",
   "execution_count": 1,
   "id": "a8c802be-703c-4d26-a17f-2abc3e9c6f60",
   "metadata": {
    "tags": []
   },
   "outputs": [],
   "source": [
    "%load_ext autoreload\n",
    "%autoreload 2"
   ]
  },
  {
   "cell_type": "code",
   "execution_count": 2,
   "id": "0fdc95ff-a298-4878-9321-6f2f75e58b5d",
   "metadata": {
    "tags": []
   },
   "outputs": [],
   "source": [
    "import pandas as pd"
   ]
  },
  {
   "cell_type": "code",
   "execution_count": 3,
   "id": "3eeef515-3ba8-4db7-aabb-c02b80b1b75f",
   "metadata": {
    "tags": []
   },
   "outputs": [],
   "source": [
    "import s3fs\n",
    "import hvac\n",
    "import os\n",
    "\n",
    "client = hvac.Client(url='https://vault.lab.sspcloud.fr',\n",
    "                     token=os.environ['VAULT_TOKEN'])\n",
    "\n",
    "secret = os.environ['VAULT_MOUNT'] + os.environ['VAULT_TOP_DIR'] + '/s3'\n",
    "mount_point, secret_path = secret.split('/', 1)\n",
    "secret_dict = client.secrets.kv.read_secret_version(path=secret_path, mount_point = mount_point)\n",
    "\n",
    "os.environ[\"AWS_ACCESS_KEY_ID\"] = secret_dict['data']['data']['ACCESS_KEY_ID']\n",
    "os.environ[\"AWS_SECRET_ACCESS_KEY\"] = secret_dict['data']['data']['SECRET_ACCESS_KEY']\n",
    "try:\n",
    "    del os.environ['AWS_SESSION_TOKEN']\n",
    "except KeyError:\n",
    "    pass"
   ]
  },
  {
   "cell_type": "code",
   "execution_count": 4,
   "id": "faf61e0a-6946-43a5-9bd5-170803118635",
   "metadata": {
    "tags": []
   },
   "outputs": [],
   "source": [
    "fs = s3fs.S3FileSystem(\n",
    "    client_kwargs={'endpoint_url': 'https://'+'minio.lab.sspcloud.fr'},\n",
    "    key=os.environ[\"AWS_ACCESS_KEY_ID\"],\n",
    "    secret=os.environ[\"AWS_SECRET_ACCESS_KEY\"]\n",
    ")\n",
    "fs.ls('projet-slums-detection/Donnees/RIL/')"
   ]
  },
  {
   "cell_type": "markdown",
   "id": "326eb74d-41e2-4f31-971b-3f61a613dcf4",
   "metadata": {},
   "source": [
    "## Petites communes"
   ]
  },
  {
   "cell_type": "code",
   "execution_count": 5,
   "id": "34419545-150a-47ae-885e-99dc89ec600b",
   "metadata": {
    "tags": []
   },
   "outputs": [],
   "source": [
    "with fs.open('projet-slums-detection/Donnees/RIL/ril_pc_dom.csv', 'r') as f:\n",
    "    df_pc = pd.read_csv(f)"
   ]
  },
  {
   "cell_type": "markdown",
   "id": "ba751415-6ce6-43ad-85de-f6df1f5f1f82",
   "metadata": {},
   "source": [
    "Data types to specify"
   ]
  },
  {
   "cell_type": "code",
   "execution_count": 6,
   "id": "e0fe74a1-3fae-41ac-b1be-03add282aff9",
   "metadata": {
    "tags": []
   },
   "outputs": [],
   "source": [
    "df_pc.info()"
   ]
  },
  {
   "cell_type": "code",
   "execution_count": 7,
   "id": "9c6e6b54-ecb5-4f7b-b3e1-ce28d84f5b8d",
   "metadata": {
    "tags": []
   },
   "outputs": [],
   "source": [
    "pd.set_option('display.max_columns', None)\n",
    "df_pc.head()"
   ]
  },
  {
   "cell_type": "markdown",
   "id": "d83c556f-1379-45ba-a20e-090d87971685",
   "metadata": {},
   "source": [
    "### Dictionnaire des variables"
   ]
  },
  {
   "cell_type": "code",
   "execution_count": 8,
   "id": "07eb4f4d-97c8-478f-8796-98393cb71f00",
   "metadata": {
    "tags": []
   },
   "outputs": [],
   "source": [
    "df_pc.grp_rotation.value_counts()"
   ]
  },
  {
   "cell_type": "markdown",
   "id": "409a0a2d-7699-44f8-a8cc-50f269195611",
   "metadata": {},
   "source": [
    "- id: Identifiant du logement\n",
    "- depcom: Code commune\n",
    "- id_ea: Autre id\n",
    "- principal: Oui ou Non, quasiment uniquement des Oui.\n",
    "- numero: Numéro de la voie\n",
    "- repetition: Beaucoup de NaN, signification ?\n",
    "- complement: Complément d'adresse\n",
    "- type_voie: Type de voie\n",
    "- libelle_voie: Nom de la voie\n",
    "- rivoli: Signification ?\n",
    "- ea_type: HABIT, HOTEL ou COMMU\n",
    "- hab_hot_type: Signification ? Quelques modalités: 002D, 002C, 002B, etc.\n",
    "- nb_log: Nombre de logements\n",
    "- etat: Variable entière 0 -> 6. Signification ?\n",
    "- pc_num: Numéro de permis de construire\n",
    "- commentaire: Commentaire sur le logement\n",
    "- hab_construction_an: Année de construction\n",
    "- hab_nb_imm: Variable entière 0 -> 4. Signification ?\n",
    "- hab_niv: Signification ?\n",
    "- hot_sous_type: Type d'hôtel\n",
    "- hot_enseigne: Enseigne d'hôtel\n",
    "- lien_cmt: Signification ?\n",
    "- x: Coordinate\n",
    "- y: Coordinate\n",
    "- code_epsg: Système de projection: 4559, 2975, 4471, 2972\n",
    "- type_localisation: CIC, MAN, CENT. Signification ?\n",
    "- numero_parcelle: Numéro de parcelle\n",
    "- code_ilot: Code d'ilot\n",
    "- code_iris: Iris\n",
    "- quartier_prioritaire: QP\n",
    "- canton: Signification ?\n",
    "- liste_insee: Que des N\n",
    "- id_rp: Id qui sert à quoi ?\n",
    "- dernier_tirage: 2019 6103 fois\n",
    "- echantillon: Que des N.\n",
    "- grp_rotation: 2, 3, 4 ou 5.\n",
    "- date_maj_ea: Quasi vide\n",
    "- com_anc_idft: quasi vide\n",
    "- com_type: Quasi vide\n",
    "- com_statut: Quasi vide\n",
    "- com_nb_log_fonction: Quasi vide\n",
    "- com_nom: Quasi vide\n",
    "- com_date_creation_base: Quasi vide\n",
    "- com_date_fermeture: Quasi vide\n",
    "- com_capacite_theorique: Quasi vide\n",
    "- millesime: 2020 -> 2023\n",
    "- date_livraison: Date de livraison. A explorer.\n",
    "- ref_ea: Signification ?\n",
    "- id_rca_adresse: Signification ?\n",
    "- reperage: Indication pour repérer le batiment. Intéressant\n",
    "- id_ea_regroup: Quasi vide"
   ]
  },
  {
   "cell_type": "code",
   "execution_count": 9,
   "id": "097b49bc-e1d8-409b-aa4a-f6fb9390bf6c",
   "metadata": {
    "tags": []
   },
   "outputs": [],
   "source": [
    "df_pc = df_pc[[\"id\", \"depcom\", \"ea_type\", \"nb_log\", \"hab_construction_an\", \"x\", \"y\", \"code_epsg\", \"code_ilot\", \"grp_rotation\", \"millesime\", \"date_livraison\", \"reperage\"]]"
   ]
  },
  {
   "cell_type": "code",
   "execution_count": 10,
   "id": "13eb19ef-2a7a-44ed-bca7-db8a0bdb3ec8",
   "metadata": {
    "tags": []
   },
   "outputs": [],
   "source": [
    "df_pc.head()"
   ]
  },
  {
   "cell_type": "markdown",
   "id": "ade7b29c-d711-4424-939d-e44ba74cb4b5",
   "metadata": {},
   "source": [
    "Un peu plus en détail:"
   ]
  },
  {
   "cell_type": "code",
   "execution_count": 11,
   "id": "27373165-a649-494e-a21d-301f57f34071",
   "metadata": {
    "tags": []
   },
   "outputs": [],
   "source": [
    "df_pc[\"dep\"] = df_pc[\"depcom\"].astype(str).str[:3]"
   ]
  },
  {
   "cell_type": "code",
   "execution_count": 12,
   "id": "721c75f1-89c5-4634-aae7-f2941094f7bf",
   "metadata": {
    "tags": []
   },
   "outputs": [],
   "source": [
    "df_pc.dep.value_counts()"
   ]
  },
  {
   "cell_type": "code",
   "execution_count": 13,
   "id": "edeb124e-2992-4dd7-b99d-f021573776c8",
   "metadata": {
    "tags": []
   },
   "outputs": [],
   "source": [
    "df_pc[df_pc.dep == \"977\"].depcom.value_counts()"
   ]
  },
  {
   "cell_type": "markdown",
   "id": "808646d1-7d55-491c-8153-f4f3c0adbe49",
   "metadata": {},
   "source": [
    "Que Saint Barthélémy."
   ]
  },
  {
   "cell_type": "code",
   "execution_count": 14,
   "id": "1d53f921-461c-4346-903e-44a5adf4e0a1",
   "metadata": {
    "tags": []
   },
   "outputs": [],
   "source": [
    "dep_mapping = {\n",
    "    \"971\": \"Guadeloupe\",\n",
    "    \"972\": \"Martinique\",\n",
    "    \"973\": \"Guyane\",\n",
    "    \"974\": \"Réunion\",\n",
    "    \"976\": \"Mayotte\",\n",
    "    \"977\": \"Saint-Barthélémy\",\n",
    "}\n",
    "df_pc[\"dep\"] = df_pc[\"dep\"].apply(lambda x: dep_mapping[x])\n",
    "df_pc.head()"
   ]
  },
  {
   "cell_type": "code",
   "execution_count": 15,
   "id": "e0db8cd5-87c6-4ca8-a683-7b2beb3e78b4",
   "metadata": {
    "tags": []
   },
   "outputs": [],
   "source": [
    "df_pc.ea_type.value_counts()"
   ]
  },
  {
   "cell_type": "code",
   "execution_count": 16,
   "id": "cc762cf8-b040-4a08-9b5a-7bea5cf412fb",
   "metadata": {
    "tags": []
   },
   "outputs": [],
   "source": [
    "from matplotlib import pyplot as plt\n",
    "\n",
    "plt.hist(df_pc[\"hab_construction_an\"], bins=100)\n",
    "plt.show()"
   ]
  },
  {
   "cell_type": "markdown",
   "id": "6ad22c74-4422-4f81-b4ef-f7f435050a9f",
   "metadata": {},
   "source": [
    "Variable pas exploitable."
   ]
  },
  {
   "cell_type": "code",
   "execution_count": 17,
   "id": "cc921dc7-2a6e-450c-b160-59efaf9f4d43",
   "metadata": {
    "tags": []
   },
   "outputs": [],
   "source": [
    "df_pc.code_epsg.value_counts()"
   ]
  },
  {
   "cell_type": "code",
   "execution_count": 18,
   "id": "d65907b5-8d8a-4ba0-a4a6-94fffba47e25",
   "metadata": {
    "tags": []
   },
   "outputs": [],
   "source": [
    "df_pc.groupby([\"dep\", \"code_epsg\"])[\"id\"].count()"
   ]
  },
  {
   "cell_type": "code",
   "execution_count": 19,
   "id": "7372f530-018d-4e65-80cc-1d4e537bf834",
   "metadata": {
    "tags": []
   },
   "outputs": [],
   "source": [
    "dep_to_epsg = {\n",
    "    \"Guadeloupe\": 4559,\n",
    "    \"Guyane\": 2972,\n",
    "    \"Martinique\": 4559,\n",
    "    \"Mayotte\": 4471,\n",
    "    \"Réunion\": 2975,\n",
    "    \"Saint-Barthélémy\": 4559\n",
    "}"
   ]
  },
  {
   "cell_type": "code",
   "execution_count": 20,
   "id": "acea6d27-407c-450f-bc76-790923f19701",
   "metadata": {
    "tags": []
   },
   "outputs": [],
   "source": [
    "df_pc.code_ilot.value_counts()"
   ]
  },
  {
   "cell_type": "code",
   "execution_count": 21,
   "id": "4fe1ffa6-f482-4066-aacb-60e91d55fd40",
   "metadata": {
    "tags": []
   },
   "outputs": [],
   "source": [
    "df_pc.grp_rotation.value_counts()"
   ]
  },
  {
   "cell_type": "code",
   "execution_count": 22,
   "id": "68ea9680-1fcf-4be4-b0f1-a7149a2f6581",
   "metadata": {
    "tags": []
   },
   "outputs": [],
   "source": [
    "df_pc.groupby([\"dep\", \"grp_rotation\"])[\"id\"].count()"
   ]
  },
  {
   "cell_type": "markdown",
   "id": "9c305930-ffd6-4b2b-b6cb-68a6dd440c20",
   "metadata": {},
   "source": [
    "Le GR 1 a été enquêté à l’EAR 2019 donc son enquête carto a eu lieu de mai à août 2018, ..., GR5 -> EAR 2023 donc enquête carto de mai à août 2022. Avec l’annulation de l’EAR 2021 sauf à Mayotte, les PC (sauf Mayotte) ont été décalées d’un GR, ainsi par exemple les PC du GR3 (EAR 2021 et enquête carto 2020) sont passées dans le GR4 et ont 2 RIL consécutifs (millesimes 2021 et 2022). Certaines PC n’ont pas de RIL. \n",
    "J’ai également mis le fichier des contours d’îlots tels qu’ils existent actuellement mais attention les contours d’îlots ont pu changer ces dernières années surtout en Guyane."
   ]
  },
  {
   "cell_type": "code",
   "execution_count": 23,
   "id": "e14ce810-9ed4-4312-9959-934c9a9b1833",
   "metadata": {
    "tags": []
   },
   "outputs": [],
   "source": [
    "df_pc.millesime.value_counts()"
   ]
  },
  {
   "cell_type": "code",
   "execution_count": 24,
   "id": "62612c71-6093-4328-b985-47af03f0a164",
   "metadata": {
    "tags": []
   },
   "outputs": [],
   "source": [
    "df_pc[df_pc.millesime == 2020].groupby([\"depcom\", \"grp_rotation\"])[\"id\"].count()"
   ]
  },
  {
   "cell_type": "markdown",
   "id": "7b845a66-bf89-40a4-b3ea-347d3ed79369",
   "metadata": {},
   "source": [
    "Comprendre pourquoi ?"
   ]
  },
  {
   "cell_type": "code",
   "execution_count": 25,
   "id": "28c65918-0592-4cd8-a1c6-6dfb81855505",
   "metadata": {
    "tags": []
   },
   "outputs": [],
   "source": [
    "df_pc[df_pc.millesime == 2021].groupby([\"depcom\", \"grp_rotation\"])[\"id\"].count()"
   ]
  },
  {
   "cell_type": "code",
   "execution_count": 26,
   "id": "74c1d518-97c7-4d04-8cf1-cffd73ab4e45",
   "metadata": {
    "tags": []
   },
   "outputs": [],
   "source": [
    "df_pc[df_pc.millesime == 2022].groupby([\"depcom\", \"grp_rotation\"])[\"id\"].count()"
   ]
  },
  {
   "cell_type": "code",
   "execution_count": 27,
   "id": "32d0e114-f538-484a-b589-b8f949b04095",
   "metadata": {
    "tags": []
   },
   "outputs": [],
   "source": [
    "df_pc[df_pc.millesime == 2023].groupby([\"depcom\", \"grp_rotation\"])[\"id\"].count()"
   ]
  },
  {
   "cell_type": "code",
   "execution_count": 28,
   "id": "437c86d5-3922-4876-bba1-a6ccadf66ee9",
   "metadata": {
    "tags": []
   },
   "outputs": [],
   "source": [
    "depcom_to_gr_pre_2021 = {\n",
    "    97119: 2, \n",
    "    97130: 2, \n",
    "    97131: 2, \n",
    "    97132: 2, \n",
    "    97211: 2, \n",
    "    97216: 2, \n",
    "    97218: 2,\n",
    "    97223: 2, \n",
    "    97313: 2, \n",
    "    97357: 2, \n",
    "    97360: 2, \n",
    "    97403: 2, \n",
    "    97417: 2, \n",
    "    97419: 5, \n",
    "    97421: 2, \n",
    "    97423: 2,\n",
    "    97424: 5,\n",
    "    97108: 3,\n",
    "    97109: 3,\n",
    "    97112: 3, \n",
    "    97126: 3, \n",
    "    97202: 3, \n",
    "    97205: 3, \n",
    "    97215: 3, \n",
    "    97217: 3,\n",
    "    97219: 3,\n",
    "    97303: 3,\n",
    "    97361: 3,\n",
    "    97406: 3,\n",
    "    97613: 3\n",
    "}\n",
    "\n",
    "depcom_to_gr_post_2021 = {\n",
    "    97108: 4,\n",
    "    97109: 4,\n",
    "    97112: 4,\n",
    "    97126: 4,\n",
    "    97202: 4,\n",
    "    97205: 4,\n",
    "    97215: 4,\n",
    "    97217: 4,\n",
    "    97219: 4,\n",
    "    97303: 4,\n",
    "    97361: 4,\n",
    "    97406: 4,\n",
    "    97605: 4,\n",
    "    97609: 4,\n",
    "    97102: 5,\n",
    "    97106: 5,\n",
    "    97133: 5,\n",
    "    97203: 5,\n",
    "    97204: 5,\n",
    "    97206: 5,\n",
    "    97231: 5,\n",
    "    97233: 5,\n",
    "    97301: 5,\n",
    "    97308: 5,\n",
    "    97314: 5,\n",
    "    97352: 5,\n",
    "    97356: 5,\n",
    "    97419: 5,\n",
    "    97424: 5,\n",
    "    97612: 5,\n",
    "    97701: 5\n",
    "}"
   ]
  },
  {
   "cell_type": "code",
   "execution_count": 29,
   "id": "34284f88-a472-4288-8d37-ec1b3214bf3e",
   "metadata": {
    "tags": []
   },
   "outputs": [],
   "source": [
    "gr_to_validity = {\n",
    "    2: (\"2019-05\", \"2019-08\"),\n",
    "    3: (\"2020-05\", \"2020-08\"),\n",
    "    4: (\"2021-05\", \"2021-08\"),\n",
    "    5: (\"2022-05\", \"2022-08\")\n",
    "}\n",
    "\n",
    "millesime_to_validity = {\n",
    "    2020: (\"2019-05\", \"2019-08\"),\n",
    "    2021: (\"2020-05\", \"2020-08\"),\n",
    "    2022: (\"2021-05\", \"2021-08\"),\n",
    "    2023: (\"2022-05\", \"2022-08\")\n",
    "}"
   ]
  },
  {
   "cell_type": "markdown",
   "id": "b21deeb9-dc0e-44e5-9bbb-d457d8cd52aa",
   "metadata": {},
   "source": [
    "Il faut choisir ces dates de validité"
   ]
  },
  {
   "cell_type": "code",
   "execution_count": 30,
   "id": "49cbcdfa-11a7-4851-9906-bb205eded377",
   "metadata": {
    "tags": []
   },
   "outputs": [],
   "source": [
    "df_pc.code_ilot.value_counts()"
   ]
  },
  {
   "cell_type": "code",
   "execution_count": 31,
   "id": "1df0de33-fc3e-4aa0-abb7-c21807409094",
   "metadata": {
    "tags": []
   },
   "outputs": [],
   "source": [
    "df_pc[df_pc.millesime == 2020].groupby([\"depcom\", \"code_ilot\"])[\"id\"].count()"
   ]
  },
  {
   "cell_type": "markdown",
   "id": "c5ae380a-4a77-4595-b618-062509082305",
   "metadata": {},
   "source": [
    "Utilité des ilots pour les PC ?"
   ]
  },
  {
   "cell_type": "markdown",
   "id": "48030320-7588-462e-88be-cd62d9cb612d",
   "metadata": {},
   "source": [
    "## Grandes communes"
   ]
  },
  {
   "cell_type": "code",
   "execution_count": 32,
   "id": "52bb449c-55a7-4a3c-b943-7f712e38b684",
   "metadata": {
    "tags": []
   },
   "outputs": [],
   "source": [
    "with fs.open('projet-slums-detection/Donnees/RIL/ril_gc_dom.csv', 'r') as f:\n",
    "    df_gc = pd.read_csv(f)"
   ]
  },
  {
   "cell_type": "markdown",
   "id": "c59de405-cf4f-4771-9542-aa0971dc3097",
   "metadata": {},
   "source": [
    "Data types to specify"
   ]
  },
  {
   "cell_type": "code",
   "execution_count": 33,
   "id": "0b2e5212-2e5d-4952-a8da-f751fc0cdc2d",
   "metadata": {
    "tags": []
   },
   "outputs": [],
   "source": [
    "df_gc.info()"
   ]
  },
  {
   "cell_type": "code",
   "execution_count": 34,
   "id": "66a0c6d0-be80-4875-879b-e64b0fa51606",
   "metadata": {
    "tags": []
   },
   "outputs": [],
   "source": [
    "df_gc.head()"
   ]
  },
  {
   "cell_type": "code",
   "execution_count": 35,
   "id": "17bf1eb2-33e9-4918-8d18-0d42f9bf6545",
   "metadata": {
    "tags": []
   },
   "outputs": [],
   "source": [
    "df_gc[\"dep\"] = df_gc[\"depcom\"].astype(str).str[:3]"
   ]
  },
  {
   "cell_type": "code",
   "execution_count": 36,
   "id": "8e924ffb-6691-4429-9619-3fe72ba7b12a",
   "metadata": {
    "tags": []
   },
   "outputs": [],
   "source": [
    "df_gc.dep.value_counts()"
   ]
  },
  {
   "cell_type": "code",
   "execution_count": 37,
   "id": "781f3b14-f670-40c8-ad44-7e6e7d319645",
   "metadata": {
    "tags": []
   },
   "outputs": [],
   "source": [
    "df_gc[df_gc.dep == \"978\"].depcom.value_counts()"
   ]
  },
  {
   "cell_type": "markdown",
   "id": "d2c52bb4-ff31-4767-b98e-c75afbc87dce",
   "metadata": {},
   "source": [
    "Que Saint Martin."
   ]
  },
  {
   "cell_type": "code",
   "execution_count": 38,
   "id": "49ab7334-215b-4d77-8d20-2643238e6cab",
   "metadata": {
    "tags": []
   },
   "outputs": [],
   "source": [
    "dep_mapping = {\n",
    "    \"971\": \"Guadeloupe\",\n",
    "    \"972\": \"Martinique\",\n",
    "    \"973\": \"Guyane\",\n",
    "    \"974\": \"Réunion\",\n",
    "    \"976\": \"Mayotte\",\n",
    "    \"978\": \"Saint-Martin\",\n",
    "}\n",
    "df_gc[\"dep\"] = df_gc[\"dep\"].apply(lambda x: dep_mapping[x])\n",
    "df_gc.head()"
   ]
  },
  {
   "cell_type": "code",
   "execution_count": 39,
   "id": "e117f5fa-9db7-4920-9a04-1e941a6b4990",
   "metadata": {
    "tags": []
   },
   "outputs": [],
   "source": [
    "df_gc.ea_type.value_counts()"
   ]
  },
  {
   "cell_type": "code",
   "execution_count": 40,
   "id": "04f09d17-8b4b-4e5b-968e-645ffd0a3ae1",
   "metadata": {
    "tags": []
   },
   "outputs": [],
   "source": [
    "from matplotlib import pyplot as plt\n",
    "\n",
    "plt.hist(df_gc[\"hab_construction_an\"], bins=100)\n",
    "plt.show()"
   ]
  },
  {
   "cell_type": "markdown",
   "id": "9c8b851c-26bb-4c77-9222-f79341d1e8cf",
   "metadata": {},
   "source": [
    "Variable pas exploitable."
   ]
  },
  {
   "cell_type": "code",
   "execution_count": 41,
   "id": "f79e2f6d-fc56-4798-bda5-5a14c4beecdd",
   "metadata": {
    "tags": []
   },
   "outputs": [],
   "source": [
    "df_gc.code_epsg.value_counts()"
   ]
  },
  {
   "cell_type": "code",
   "execution_count": 42,
   "id": "4500d0fb-4be9-4c81-b3f6-8a36fb8ff94d",
   "metadata": {
    "tags": []
   },
   "outputs": [],
   "source": [
    "df_gc.groupby([\"dep\", \"code_epsg\"])[\"id\"].count()"
   ]
  },
  {
   "cell_type": "code",
   "execution_count": 43,
   "id": "15d7dd9a-e1a9-465a-9dd0-5b4c4f0c4027",
   "metadata": {
    "tags": []
   },
   "outputs": [],
   "source": [
    "dep_to_epsg = {\n",
    "    \"Guadeloupe\": 4559,\n",
    "    \"Guyane\": 2972,\n",
    "    \"Martinique\": 4559,\n",
    "    \"Mayotte\": 4471,\n",
    "    \"Réunion\": 2975,\n",
    "    \"Saint-Martin\": 4559\n",
    "}"
   ]
  },
  {
   "cell_type": "code",
   "execution_count": 44,
   "id": "df7d6797-dcdc-443b-bf43-98b6addce65a",
   "metadata": {
    "tags": []
   },
   "outputs": [],
   "source": [
    "df_gc.code_ilot.value_counts()"
   ]
  },
  {
   "cell_type": "code",
   "execution_count": 45,
   "id": "f00d97d2-e987-4d3c-bbba-cd1624748a0f",
   "metadata": {
    "tags": []
   },
   "outputs": [],
   "source": [
    "df_gc.grp_rotation.value_counts()"
   ]
  },
  {
   "cell_type": "code",
   "execution_count": 46,
   "id": "2eb70cd2-5333-477e-b61f-a355a5b2e245",
   "metadata": {
    "tags": []
   },
   "outputs": [],
   "source": [
    "df_gc.groupby([\"dep\", \"grp_rotation\"])[\"id\"].count()"
   ]
  },
  {
   "cell_type": "code",
   "execution_count": 47,
   "id": "84be2762-af53-4455-91ea-59ae49e01408",
   "metadata": {
    "tags": []
   },
   "outputs": [],
   "source": [
    "df_gc.millesime.value_counts()"
   ]
  },
  {
   "cell_type": "code",
   "execution_count": 48,
   "id": "793bb196-d57f-4d07-aa68-ef5ef5920244",
   "metadata": {
    "tags": []
   },
   "outputs": [],
   "source": [
    "df_gc[df_gc.millesime == 2020].groupby([\"depcom\", \"grp_rotation\"])[\"id\"].count()"
   ]
  },
  {
   "cell_type": "markdown",
   "id": "abebe452-28f6-48d3-80ea-77dad102779c",
   "metadata": {},
   "source": [
    "Pour les GC on a pour 1 millesime plusieurs groupes de rotation dans la base."
   ]
  },
  {
   "cell_type": "code",
   "execution_count": 49,
   "id": "7d9ccd9e-d82c-4862-881e-9952b0efbd17",
   "metadata": {
    "tags": []
   },
   "outputs": [],
   "source": [
    "df_gc[df_gc.millesime == 2021].groupby([\"depcom\", \"grp_rotation\"])[\"id\"].count()"
   ]
  },
  {
   "cell_type": "code",
   "execution_count": 50,
   "id": "0bdb15d7-255d-4d15-97ab-6ad402a8137a",
   "metadata": {
    "tags": []
   },
   "outputs": [],
   "source": [
    "df_gc[df_gc.millesime == 2022].groupby([\"depcom\", \"grp_rotation\"])[\"id\"].count()"
   ]
  },
  {
   "cell_type": "code",
   "execution_count": 51,
   "id": "40849263-c9a3-410d-833a-20d159e503ec",
   "metadata": {
    "tags": []
   },
   "outputs": [],
   "source": [
    "df_gc[df_gc.millesime == 2023].groupby([\"depcom\", \"grp_rotation\"])[\"id\"].count()"
   ]
  },
  {
   "cell_type": "markdown",
   "id": "aa924bd4-515b-4040-b503-7ab884b3c740",
   "metadata": {},
   "source": [
    "Ilots ? normalement 1 groupe de rotation par ilot ? "
   ]
  },
  {
   "cell_type": "code",
   "execution_count": 52,
   "id": "d3c5015f-47b1-49a6-8399-e73b27bb4c94",
   "metadata": {
    "tags": []
   },
   "outputs": [],
   "source": [
    "df_gc[df_gc.millesime == 2020].groupby([\"code_ilot\", \"grp_rotation\"])[\"id\"].count()"
   ]
  },
  {
   "cell_type": "markdown",
   "id": "328c5f52-5659-4898-a1e4-ce5117865051",
   "metadata": {},
   "source": [
    "Par ilot et commune ? "
   ]
  },
  {
   "cell_type": "code",
   "execution_count": 53,
   "id": "8f92f269-8732-4dab-8598-e153b8c26e8e",
   "metadata": {
    "tags": []
   },
   "outputs": [],
   "source": [
    "df_gc[df_gc.millesime == 2020].groupby([\"depcom\", \"code_ilot\", \"grp_rotation\"])[\"id\"].count()"
   ]
  },
  {
   "cell_type": "markdown",
   "id": "cd7bc4e2-31d0-4a3c-89ad-5f40f2e28ecc",
   "metadata": {},
   "source": [
    "Nombre de groupes de rotations différents par commune x ilot"
   ]
  },
  {
   "cell_type": "code",
   "execution_count": 54,
   "id": "8d4339d8-dd48-4980-aa95-807ec8000407",
   "metadata": {
    "tags": []
   },
   "outputs": [],
   "source": [
    "nb_grp_rotation = df_gc[df_gc.millesime == 2020].groupby([\"depcom\", \"code_ilot\", \"grp_rotation\"])[\"id\"].count().reset_index().groupby([\"depcom\", \"code_ilot\"])[\"grp_rotation\"].count()"
   ]
  },
  {
   "cell_type": "code",
   "execution_count": 55,
   "id": "dbd466bb-e63d-40f8-8c23-a95995375508",
   "metadata": {
    "tags": []
   },
   "outputs": [],
   "source": [
    "plt.hist(nb_grp_rotation)\n",
    "plt.show()"
   ]
  },
  {
   "cell_type": "code",
   "execution_count": 56,
   "id": "d47eb4d0-e50a-46fe-b791-beb145910568",
   "metadata": {
    "tags": []
   },
   "outputs": [],
   "source": [
    "nb_grp_rotation.value_counts()"
   ]
  },
  {
   "cell_type": "markdown",
   "id": "aeaa5642-64ca-42d3-aac1-d8d2fb912a71",
   "metadata": {},
   "source": [
    "On est très souvent à 1 groupe de rotation par commune x ilot"
   ]
  },
  {
   "cell_type": "code",
   "execution_count": 57,
   "id": "ddc26055-2ca0-4f74-a4a8-0e54b69d3b55",
   "metadata": {
    "tags": []
   },
   "outputs": [],
   "source": [
    "df_gc.millesime.value_counts()"
   ]
  },
  {
   "cell_type": "code",
   "execution_count": 58,
   "id": "38907546-6a96-43d9-8054-0a4b76ac03bd",
   "metadata": {
    "tags": []
   },
   "outputs": [],
   "source": [
    "millesime_to_validity = {\n",
    "    2020: (\"2019-05\", \"2019-08\"),\n",
    "    2021: (\"2020-05\", \"2020-08\"),\n",
    "    2022: (\"2021-05\", \"2021-08\"),\n",
    "    2023: (\"2022-05\", \"2022-08\")\n",
    "}"
   ]
  },
  {
   "cell_type": "markdown",
   "id": "eb7533d7-44d1-478d-90e7-38c550a09de8",
   "metadata": {},
   "source": [
    "Il faut choisir ces dates de validité"
   ]
  },
  {
   "cell_type": "markdown",
   "id": "0f9c9094-68c8-4096-a1ec-52093808c0e2",
   "metadata": {},
   "source": [
    "## Géométrie ilots"
   ]
  },
  {
   "cell_type": "code",
   "execution_count": 5,
   "id": "64e0ee0a-b149-416f-9890-56df614aaab0",
   "metadata": {
    "tags": []
   },
   "outputs": [],
   "source": [
    "!pip install pyreadr"
   ]
  },
  {
   "cell_type": "code",
   "execution_count": 6,
   "id": "f0d42f87-7cf4-4a4c-8d41-d9090d085239",
   "metadata": {
    "tags": []
   },
   "outputs": [],
   "source": [
    "import pyreadr\n",
    "\n",
    "fs.get('projet-slums-detection/Donnees/RIL/rca_geometry_ilots.rds', 'rca_geometry_ilots.rds')\n",
    "result = pyreadr.read_r('rca_geometry_ilots.rds')"
   ]
  },
  {
   "cell_type": "code",
   "execution_count": 7,
   "id": "b4513d6d-ab75-4d92-a277-8fb2bee7b565",
   "metadata": {
    "tags": []
   },
   "outputs": [],
   "source": [
    "result.keys()"
   ]
  },
  {
   "cell_type": "code",
   "execution_count": 8,
   "id": "6646c887-94f8-4afe-b4e6-834a5ce37e6d",
   "metadata": {
    "tags": []
   },
   "outputs": [],
   "source": [
    "df_geom = result[None] "
   ]
  },
  {
   "cell_type": "code",
   "execution_count": 9,
   "id": "d2c7285b-a64a-46f0-aef3-99643480e109",
   "metadata": {
    "tags": []
   },
   "outputs": [],
   "source": [
    "type(df_geom)"
   ]
  },
  {
   "cell_type": "code",
   "execution_count": 10,
   "id": "28a87cab-fc26-4636-9442-2aec37a3cf4d",
   "metadata": {
    "tags": []
   },
   "outputs": [],
   "source": [
    "df_geom.info()"
   ]
  },
  {
   "cell_type": "code",
   "execution_count": 11,
   "id": "93d8264c-8964-4b6c-87ee-d1d502b0d1d4",
   "metadata": {
    "tags": []
   },
   "outputs": [],
   "source": [
    "df_geom.head()"
   ]
  },
  {
   "cell_type": "code",
   "execution_count": 12,
   "id": "e726b22e-e4af-4daf-8aab-181891b564f0",
   "metadata": {
    "tags": []
   },
   "outputs": [],
   "source": [
    "df_geom.depcom.str[:3].value_counts()"
   ]
  },
  {
   "cell_type": "code",
   "execution_count": 13,
   "id": "6b9a65d6-22fb-42f1-8452-d176066dc312",
   "metadata": {
    "tags": []
   },
   "outputs": [],
   "source": [
    "df_geom.srid.value_counts()"
   ]
  },
  {
   "cell_type": "code",
   "execution_count": 14,
   "id": "d1e31b49-f4b5-4de5-9c66-606f2306aaa9",
   "metadata": {
    "tags": []
   },
   "outputs": [],
   "source": [
    "from shapely import wkt\n",
    "\n",
    "df_geom['wkt'] = df_geom['wkt'].apply(wkt.loads)"
   ]
  },
  {
   "cell_type": "code",
   "execution_count": 15,
   "id": "2fa6a4e6-8a55-415b-b93a-bfb38c56c031",
   "metadata": {
    "tags": []
   },
   "outputs": [],
   "source": [
    "import geopandas as gpd\n",
    "\n",
    "gdf = gpd.GeoDataFrame(df_geom, geometry=\"wkt\", crs=\"EPSG:4326\")\n",
    "gdf"
   ]
  },
  {
   "cell_type": "code",
   "execution_count": 16,
   "id": "38abef9b-64a3-4c8b-9302-5688e49c90a1",
   "metadata": {
    "tags": []
   },
   "outputs": [],
   "source": [
    "gdf.geometry"
   ]
  },
  {
   "cell_type": "code",
   "execution_count": 17,
   "id": "c07eeb6e-4da1-4274-a0cb-69d7d47f6b04",
   "metadata": {
    "tags": []
   },
   "outputs": [],
   "source": [
    "gdf.groupby([\"depcom\", \"code_ilot\"])[\"srid\"].count()"
   ]
  },
  {
   "cell_type": "markdown",
   "id": "55e392c4-03d3-4d02-be82-9b69ac3e6952",
   "metadata": {},
   "source": [
    "On a bien que des depcom x ilot distincts"
   ]
  },
  {
   "cell_type": "markdown",
   "id": "13d105b0-6b7b-4670-a085-dffb15330e0e",
   "metadata": {},
   "source": [
    "## Save as partitionned_parquet file"
   ]
  },
  {
   "cell_type": "code",
   "execution_count": 18,
   "id": "bc796085-b01a-4213-9ca6-1b3cb5b3a999",
   "metadata": {
    "tags": []
   },
   "outputs": [],
   "source": [
    "with fs.open('projet-slums-detection/Donnees/RIL/ril_pc_dom.csv', 'r') as f:\n",
    "    df_pc = pd.read_csv(f, dtype={\n",
    "        \"id\": str,\n",
    "        \"depcom\": str,\n",
    "        \"ea_type\": str,\n",
    "        \"nb_log\": pd.Int64Dtype(),\n",
    "        \"hab_construction_an\": pd.Int64Dtype(),\n",
    "        \"x\": float,\n",
    "        \"y\": float,\n",
    "        \"code_epsg\": str,\n",
    "        \"code_ilot\": str,\n",
    "        \"grp_rotation\": pd.Int64Dtype(),\n",
    "        \"millesime\": pd.Int64Dtype(),\n",
    "        \"date_livraison\": object,\n",
    "        \"reperage\": str\n",
    "    })"
   ]
  },
  {
   "cell_type": "code",
   "execution_count": 19,
   "id": "80fddcf4-d39c-472e-bd66-a4542de1c950",
   "metadata": {
    "tags": []
   },
   "outputs": [],
   "source": [
    "df_pc = df_pc[[\"id\", \"depcom\", \"ea_type\", \"nb_log\", \"hab_construction_an\", \"x\", \"y\", \"code_epsg\", \"code_ilot\", \"grp_rotation\", \"millesime\", \"date_livraison\", \"reperage\"]]"
   ]
  },
  {
   "cell_type": "code",
   "execution_count": 20,
   "id": "0c4a3eb6-f625-4e2f-b8d9-9e555fa976c6",
   "metadata": {
    "tags": []
   },
   "outputs": [],
   "source": [
    "df_pc.head()"
   ]
  },
  {
   "cell_type": "code",
   "execution_count": 21,
   "id": "d8bfd850-fa23-4017-990e-4596858ee3b1",
   "metadata": {
    "tags": []
   },
   "outputs": [],
   "source": [
    "with fs.open('projet-slums-detection/Donnees/RIL/ril_gc_dom.csv', 'r') as f:\n",
    "    df_gc = pd.read_csv(f, dtype={\n",
    "        \"id\": str,\n",
    "        \"depcom\": str,\n",
    "        \"ea_type\": str,\n",
    "        \"nb_log\": pd.Int64Dtype(),\n",
    "        \"hab_construction_an\": pd.Int64Dtype(),\n",
    "        \"x\": float,\n",
    "        \"y\": float,\n",
    "        \"code_epsg\": str,\n",
    "        \"code_ilot\": str,\n",
    "        \"grp_rotation\": pd.Int64Dtype(),\n",
    "        \"millesime\": pd.Int64Dtype(),\n",
    "        \"date_livraison\": object,\n",
    "        \"reperage\": str\n",
    "    })"
   ]
  },
  {
   "cell_type": "code",
   "execution_count": 22,
   "id": "236db3f5-a703-44c9-8845-20ce6c9b20f9",
   "metadata": {
    "tags": []
   },
   "outputs": [],
   "source": [
    "df_gc = df_gc[[\"id\", \"depcom\", \"ea_type\", \"nb_log\", \"hab_construction_an\", \"x\", \"y\", \"code_epsg\", \"code_ilot\", \"grp_rotation\", \"millesime\", \"date_livraison\", \"reperage\"]]"
   ]
  },
  {
   "cell_type": "code",
   "execution_count": 23,
   "id": "1aa21e8f-dce1-4915-9fb0-da144037c88c",
   "metadata": {
    "tags": []
   },
   "outputs": [],
   "source": [
    "df_pc[\"type_com\"] = \"pc\"\n",
    "df_gc[\"type_com\"] = \"gc\""
   ]
  },
  {
   "cell_type": "code",
   "execution_count": 24,
   "id": "75ff1ddd-6dfa-4582-82f5-7bbda429e664",
   "metadata": {
    "tags": []
   },
   "outputs": [],
   "source": [
    "df_ril = pd.concat([df_gc, df_pc])\n",
    "df_ril.head()"
   ]
  },
  {
   "cell_type": "code",
   "execution_count": 25,
   "id": "c32e9bcb-c050-494c-b1ed-0d8e26cd0330",
   "metadata": {
    "tags": []
   },
   "outputs": [],
   "source": [
    "df_ril.shape"
   ]
  },
  {
   "cell_type": "code",
   "execution_count": 26,
   "id": "256f4ba7-c9c3-4cda-942d-a2956c9aefae",
   "metadata": {
    "tags": []
   },
   "outputs": [],
   "source": [
    "df_ril[\"dep\"] = df_ril[\"depcom\"].str[:3]\n",
    "df_ril.head()"
   ]
  },
  {
   "cell_type": "code",
   "execution_count": null,
   "id": "333700d0-156c-48c7-843c-e068465fd752",
   "metadata": {
    "tags": []
   },
   "outputs": [],
   "source": [
    "import pyarrow.parquet as pq\n",
    "import pyarrow as pa\n",
    "\n",
    "def write_parquet_as_partitioned_dataset(fs, table, endpoint, bucket_name, path, partition_cols=None, compression=\"SNAPPY\"):\n",
    "    url = f\"https://{endpoint}\"\n",
    "    file_uri = f\"{bucket_name}/{path}\"\n",
    "    pq.write_to_dataset(table, root_path=file_uri, partition_cols=partition_cols, filesystem=fs, compression=compression)"
   ]
  },
  {
   "cell_type": "code",
   "execution_count": null,
   "id": "94f3264d-82b1-4fcf-abf0-26fa7786597c",
   "metadata": {
    "tags": []
   },
   "outputs": [],
   "source": [
    "endpoint = os.environ['AWS_S3_ENDPOINT']\n",
    "bucket_name = \"projet-slums-detection\"\n",
    "path = \"Donnees/RIL/ril_data.parquet\""
   ]
  },
  {
   "cell_type": "code",
   "execution_count": null,
   "id": "805db516-7aa9-4cec-aea9-29a5230a8069",
   "metadata": {
    "tags": []
   },
   "outputs": [],
   "source": [
    "table_ril = pa.Table.from_pandas(df_ril)"
   ]
  },
  {
   "cell_type": "code",
   "execution_count": null,
   "id": "2c84833c-ebb9-4825-94f0-9900c7426f26",
   "metadata": {
    "tags": []
   },
   "outputs": [],
   "source": [
    "write_parquet_as_partitioned_dataset(fs, table_ril, endpoint, bucket_name, path, partition_cols=[\"dep\", \"millesime\"])"
   ]
  },
  {
   "cell_type": "markdown",
   "id": "9525ba30-ef4b-4578-b9da-da06ebd7f08a",
   "metadata": {},
   "source": [
    "## Function to get a RIL file"
   ]
  },
  {
   "cell_type": "code",
   "execution_count": 27,
   "id": "d0205bb3-d8b4-4c19-98e2-f9b13c4b7a1e",
   "metadata": {
    "tags": []
   },
   "outputs": [],
   "source": [
    "!pip install affine\n",
    "!pip install rasterio"
   ]
  },
  {
   "cell_type": "code",
   "execution_count": 28,
   "id": "0850b6a5-adcb-439e-89e8-55ff9f4121be",
   "metadata": {
    "tags": []
   },
   "outputs": [],
   "source": [
    "import pyarrow.parquet as pq\n",
    "import pyarrow as pa"
   ]
  },
  {
   "cell_type": "code",
   "execution_count": 29,
   "id": "8233e76d-354e-4c7d-b186-8345275d11bb",
   "metadata": {
    "tags": []
   },
   "outputs": [],
   "source": [
    "dep_to_crs = {\n",
    "    \"971\": \"4559\",\n",
    "    \"973\": \"2972\",\n",
    "    \"972\": \"4559\",\n",
    "    \"976\": \"4471\",\n",
    "    \"974\": \"2975\",\n",
    "    \"977\": \"4559\",\n",
    "    \"978\": \"4559\"\n",
    "}"
   ]
  },
  {
   "cell_type": "code",
   "execution_count": 30,
   "id": "826eb776-401c-4e6f-9eaf-ac104a982754",
   "metadata": {
    "tags": []
   },
   "outputs": [],
   "source": [
    "import sys\n",
    "sys.path.append(\"../src/\")\n",
    "from utils import get_environment, get_file_system\n",
    "from typing import Literal\n",
    "from datetime import datetime\n",
    "\n",
    "def load_ril(millesime: Literal[\"2020\", \"2021\", \"2022\", \"2023\"], dep: Literal[\"971\", \"972\", \"973\", \"974\", \"976\", \"977\", \"978\"]) -> gpd.GeoDataFrame:\n",
    "    \"\"\"\n",
    "    Load RIL for a given datetime.\n",
    "\n",
    "    Args:\n",
    "        millesime (Literal): Year.\n",
    "        dep (Literal): Departement.\n",
    "\n",
    "    Returns:\n",
    "        gpd.GeoDataFrame: RIL GeoDataFrame.\n",
    "    \"\"\"\n",
    "    environment = get_environment()\n",
    "    fs = get_file_system()\n",
    "    \n",
    "    dataset = pq.ParquetDataset(\n",
    "        os.path.join(\n",
    "            environment[\"bucket\"], environment[\"sources\"][\"RIL\"], \"dep=\" + dep, \"millesime=\" + millesime\n",
    "        ),\n",
    "        filesystem=fs\n",
    "    )\n",
    "    \n",
    "    df = dataset.read().to_pandas()\n",
    "    gdf = gpd.GeoDataFrame(\n",
    "        df,\n",
    "        geometry=gpd.points_from_xy(df.x, df.y)\n",
    "    )\n",
    "    crs = dep_to_crs[dep]\n",
    "    gdf = gdf.set_crs(\"epsg:\" + crs)\n",
    "    \n",
    "    return gdf"
   ]
  },
  {
   "cell_type": "code",
   "execution_count": 31,
   "id": "08ef02fd-11f0-452f-9dc2-88d9b8b609e6",
   "metadata": {
    "tags": []
   },
   "outputs": [],
   "source": [
    "a = load_ril(\"2020\", \"971\")"
   ]
  },
  {
   "cell_type": "code",
   "execution_count": 32,
   "id": "250aeda3-e43a-41be-bfe6-e58dbf38e16f",
   "metadata": {
    "tags": []
   },
   "outputs": [],
   "source": [
    "a"
   ]
  },
  {
   "cell_type": "markdown",
   "id": "3353750f-4d00-4cf7-8a99-57aece2c8ef0",
   "metadata": {},
   "source": [
    "## Nécessaire pour les fonctions de filtre"
   ]
  },
  {
   "cell_type": "code",
   "execution_count": 33,
   "id": "0ac92509-6f50-457b-b55e-35ab978e2967",
   "metadata": {
    "tags": []
   },
   "outputs": [],
   "source": [
    "fs.get('projet-slums-detection/Donnees/RIL/rca_geometry_ilots.rds', 'rca_geometry_ilots.rds')\n",
    "result = pyreadr.read_r('rca_geometry_ilots.rds')"
   ]
  },
  {
   "cell_type": "code",
   "execution_count": 34,
   "id": "53ce0e7f-020c-49f1-891c-408f3b29856f",
   "metadata": {
    "tags": []
   },
   "outputs": [],
   "source": [
    "result.keys()"
   ]
  },
  {
   "cell_type": "code",
   "execution_count": 35,
   "id": "c5e49738-d686-4096-a704-a7d9ca604304",
   "metadata": {
    "tags": []
   },
   "outputs": [],
   "source": [
    "df_geom = result[None] "
   ]
  },
  {
   "cell_type": "code",
   "execution_count": 36,
   "id": "f7ec6062-c0a9-41d9-b35a-7dcb8585a535",
   "metadata": {
    "tags": []
   },
   "outputs": [],
   "source": [
    "type(df_geom)"
   ]
  },
  {
   "cell_type": "code",
   "execution_count": 37,
   "id": "9dac509e-ba70-4158-bfca-af40b0c6a4a9",
   "metadata": {
    "tags": []
   },
   "outputs": [],
   "source": [
    "df_geom['wkt'] = df_geom['wkt'].apply(wkt.loads)\n",
    "gdf = gpd.GeoDataFrame(df_geom, geometry=\"wkt\", crs=\"EPSG:4326\")\n",
    "gdf"
   ]
  },
  {
   "cell_type": "code",
   "execution_count": 38,
   "id": "12827391-c109-48d7-b465-c64210973de1",
   "metadata": {
    "tags": []
   },
   "outputs": [],
   "source": [
    "gdf.iloc[-3:, :].dissolve(by=\"gr\")"
   ]
  },
  {
   "cell_type": "markdown",
   "id": "e162c263-077c-461f-a826-cf5c68757f00",
   "metadata": {},
   "source": [
    "Warning, les ilots changent en Guyane, là on a des ilots statiques"
   ]
  },
  {
   "cell_type": "code",
   "execution_count": 39,
   "id": "9fa14bf4-752a-4ed3-b6cc-4dee75257190",
   "metadata": {
    "tags": []
   },
   "outputs": [],
   "source": [
    "gdf.wkt.iloc[-3]"
   ]
  },
  {
   "cell_type": "code",
   "execution_count": 40,
   "id": "580ed13f-78a9-4b44-8eed-d85049898464",
   "metadata": {
    "tags": []
   },
   "outputs": [],
   "source": [
    "gdf.wkt.iloc[-2]"
   ]
  },
  {
   "cell_type": "code",
   "execution_count": 41,
   "id": "231a4c26-dd6a-409f-a0bc-82e7a5ca5953",
   "metadata": {
    "tags": []
   },
   "outputs": [],
   "source": [
    "gdf.wkt.iloc[-1]"
   ]
  },
  {
   "cell_type": "code",
   "execution_count": 42,
   "id": "5f195033-3379-4d85-936c-ebd4e0db25f4",
   "metadata": {
    "tags": []
   },
   "outputs": [],
   "source": [
    "gdf.iloc[-3:, :].dissolve(by=\"gr\").wkt[0]"
   ]
  },
  {
   "cell_type": "code",
   "execution_count": 43,
   "id": "febdbc81-0983-44dc-ba3b-9095b83074d9",
   "metadata": {
    "tags": []
   },
   "outputs": [],
   "source": [
    "gdf.iloc[-3:, :].dissolve(by=\"gr\").wkt[1]"
   ]
  },
  {
   "cell_type": "code",
   "execution_count": 44,
   "id": "f9cbac83-39df-4e1a-9e20-e6b49e2013bc",
   "metadata": {
    "tags": []
   },
   "outputs": [],
   "source": [
    "gdf.iloc[-100:, :].dissolve(by=\"gr\").wkt[0]"
   ]
  },
  {
   "cell_type": "code",
   "execution_count": 45,
   "id": "f517da65-bcd2-43cf-9100-7e24c018c63e",
   "metadata": {
    "tags": []
   },
   "outputs": [],
   "source": [
    "gdf.iloc[-736:, :].dissolve(by=\"gr\")"
   ]
  },
  {
   "cell_type": "code",
   "execution_count": 46,
   "id": "bc7d237a-d0d8-427a-a7fa-90fae539e437",
   "metadata": {
    "tags": []
   },
   "outputs": [],
   "source": [
    "gdf.iloc[-737, :].wkt.buffer(0)"
   ]
  },
  {
   "cell_type": "code",
   "execution_count": 47,
   "id": "82881ff9-2dcb-4bbc-8aae-deda5943a81e",
   "metadata": {
    "tags": []
   },
   "outputs": [],
   "source": [
    "gdf.iloc[-737, :].wkt"
   ]
  },
  {
   "cell_type": "code",
   "execution_count": 48,
   "id": "2cec6f11-80b8-48d8-9f6f-b72ab5b65b31",
   "metadata": {
    "tags": []
   },
   "outputs": [],
   "source": [
    "gdf.iloc[-737, :].loc[\"wkt\"] = gdf.iloc[-737, :].wkt.buffer(0)"
   ]
  },
  {
   "cell_type": "code",
   "execution_count": 49,
   "id": "a7a3564f-ae1e-43fc-a3b6-74f9c1b09359",
   "metadata": {
    "tags": []
   },
   "outputs": [],
   "source": [
    "gdf.iloc[-737, :].loc[\"wkt\"].buffer(0)"
   ]
  },
  {
   "cell_type": "code",
   "execution_count": 50,
   "id": "b18052b7-26ad-40c0-9c4c-08f4c99a0b70",
   "metadata": {
    "tags": []
   },
   "outputs": [],
   "source": [
    "a = gdf.iloc[-737:-735, :].copy()"
   ]
  },
  {
   "cell_type": "code",
   "execution_count": 51,
   "id": "8afa1cac-0a55-480d-9ab8-731e5319e3c2",
   "metadata": {
    "tags": []
   },
   "outputs": [],
   "source": [
    "a"
   ]
  },
  {
   "cell_type": "code",
   "execution_count": 52,
   "id": "54a9f02e-4cb2-45c2-a7da-09d4546ee303",
   "metadata": {
    "tags": []
   },
   "outputs": [],
   "source": [
    "b = a.copy()"
   ]
  },
  {
   "cell_type": "code",
   "execution_count": 53,
   "id": "f0e4079b-f8c6-485c-9340-2e5cf5269014",
   "metadata": {
    "tags": []
   },
   "outputs": [],
   "source": [
    "b[\"wkt\"] = [geom.buffer(0) for geom in b[\"wkt\"]]"
   ]
  },
  {
   "cell_type": "code",
   "execution_count": 54,
   "id": "fdcd7ac9-8a75-431f-9d9a-1b2915efded2",
   "metadata": {
    "tags": []
   },
   "outputs": [],
   "source": [
    "b"
   ]
  },
  {
   "cell_type": "code",
   "execution_count": 55,
   "id": "448fc835-171c-4e69-b774-e85cff2b4a22",
   "metadata": {
    "tags": []
   },
   "outputs": [],
   "source": [
    "gdf[\"wkt\"] = [geom.buffer(0) for geom in gdf[\"wkt\"]]"
   ]
  },
  {
   "cell_type": "code",
   "execution_count": 56,
   "id": "64550930-1a64-43fd-b70c-ce882991cda7",
   "metadata": {
    "tags": []
   },
   "outputs": [],
   "source": [
    "gdf.dissolve(by=\"gr\")"
   ]
  },
  {
   "cell_type": "markdown",
   "id": "f94b1a38-f117-4fc5-9d7c-6694bcd5b1e7",
   "metadata": {},
   "source": [
    "Compute intersection between image and polygon"
   ]
  },
  {
   "cell_type": "markdown",
   "id": "bf712506-7ecf-4005-8931-68efc2c38b8a",
   "metadata": {},
   "source": [
    "En fait là on a un problème, déjà il faut séparer en fonction du département."
   ]
  },
  {
   "cell_type": "code",
   "execution_count": 57,
   "id": "bb0a76f3-88e4-4141-aaf9-a722e8e2692c",
   "metadata": {
    "tags": []
   },
   "outputs": [],
   "source": [
    "def compute_gr_geometry(dep):\n",
    "    fs.get('projet-slums-detection/Donnees/RIL/rca_geometry_ilots.rds', 'rca_geometry_ilots.rds')\n",
    "    result = pyreadr.read_r('rca_geometry_ilots.rds')\n",
    "    df_geom = result[None]\n",
    "    df_geom['wkt'] = df_geom['wkt'].apply(wkt.loads)\n",
    "    gdf = gpd.GeoDataFrame(df_geom, geometry=\"wkt\", crs=\"EPSG:4326\")\n",
    "    gdf[\"dep\"] = gdf.depcom.str[:3]\n",
    "    gdf = gdf[gdf.dep == dep]\n",
    "    \n",
    "    return gdf.dissolve(by=\"gr\").to_crs(\"epsg:\" + dep_to_crs[dep])"
   ]
  },
  {
   "cell_type": "code",
   "execution_count": 58,
   "id": "689896dd-bfcc-40ac-8ec6-0638eed178c5",
   "metadata": {
    "tags": []
   },
   "outputs": [],
   "source": [
    "guad_geoms = compute_gr_geometry(\"971\")"
   ]
  },
  {
   "cell_type": "code",
   "execution_count": 59,
   "id": "ab81b00c-6acc-44ab-a5e6-8d72998be86c",
   "metadata": {
    "tags": []
   },
   "outputs": [],
   "source": [
    "guad_geoms.crs"
   ]
  },
  {
   "cell_type": "code",
   "execution_count": 60,
   "id": "cad60e03-adb9-44c1-87be-915f0e78d961",
   "metadata": {
    "tags": []
   },
   "outputs": [],
   "source": [
    "guad_geoms"
   ]
  },
  {
   "cell_type": "markdown",
   "id": "d14253b8-e8a3-4e95-bed6-644b280a0ffb",
   "metadata": {},
   "source": [
    "Intersection with an image."
   ]
  },
  {
   "cell_type": "code",
   "execution_count": 61,
   "id": "3f301900-b6fc-4600-a469-e8ad9eea07c2",
   "metadata": {
    "tags": []
   },
   "outputs": [],
   "source": [
    "!pip install py7zr\n",
    "!pip install torch"
   ]
  },
  {
   "cell_type": "code",
   "execution_count": 62,
   "id": "58ce04d8-f19f-4ecc-a230-952c3a65fc7c",
   "metadata": {
    "tags": []
   },
   "outputs": [],
   "source": [
    "import sys\n",
    "sys.path.append('../src')\n",
    "import shutil\n",
    "import yaml\n",
    "import py7zr\n",
    "import os\n",
    "import s3fs\n",
    "from satellite_image import SatelliteImage\n",
    "from labeler import RILLabeler\n",
    "from labeler import BDTOPOLabeler\n",
    "from labeled_satellite_image import SegmentationLabeledSatelliteImage\n",
    "from utils import *\n",
    "from filter import *\n",
    "import matplotlib.pyplot as plt\n",
    "import numpy as np\n",
    "import rasterio.plot as rp\n",
    "import re\n",
    "from datetime import datetime\n",
    "from tqdm import tqdm"
   ]
  },
  {
   "cell_type": "markdown",
   "id": "beb4ebbf-fc03-483d-8aff-86b14d62724e",
   "metadata": {},
   "source": [
    "## Téléchargement des données Pléiades"
   ]
  },
  {
   "cell_type": "code",
   "execution_count": 63,
   "id": "2fbdabfc-7874-4c31-8dcc-e44038984c41",
   "metadata": {
    "tags": []
   },
   "outputs": [],
   "source": [
    "environment = get_environment()\n",
    "\n",
    "bucket = environment[\"bucket\"]\n",
    "path_s3_pleiades_data = environment[\"sources\"][\"PLEIADES\"]\n",
    "path_s3_bdtopo_data = environment[\"sources\"][\"BDTOPO\"][2022][\"guyane\"]\n",
    "path_local_pleiades_data = environment[\"local-path\"][\"PLEIADES\"]\n",
    "path_local_bdtopo_data = environment[\"local-path\"][\"BDTOPO\"][2022][\"guyane\"]\n",
    "\n",
    "fs = s3fs.S3FileSystem(client_kwargs={\"endpoint_url\": \"https://minio.lab.sspcloud.fr\"},\n",
    "                       key=os.environ[\"AWS_ACCESS_KEY_ID\"],\n",
    "                       secret=os.environ[\"AWS_SECRET_ACCESS_KEY\"])"
   ]
  },
  {
   "cell_type": "code",
   "execution_count": 64,
   "id": "1d68b39b",
   "metadata": {
    "tags": []
   },
   "outputs": [],
   "source": [
    "fs.download(\n",
    "    rpath=f\"{bucket}/{path_s3_pleiades_data}\",\n",
    "    lpath=f\"../{path_local_pleiades_data}\",\n",
    "    recursive=True\n",
    ")"
   ]
  },
  {
   "cell_type": "markdown",
   "id": "f1530f04-166c-4096-83aa-a6ed987ebf9d",
   "metadata": {},
   "source": [
    "## Découpage et filtrage des images"
   ]
  },
  {
   "cell_type": "code",
   "execution_count": 65,
   "id": "25b9c46b-1081-4348-8171-57c23b83b9f4",
   "metadata": {
    "tags": []
   },
   "outputs": [],
   "source": [
    "import re\n",
    "from tqdm import tqdm"
   ]
  },
  {
   "cell_type": "code",
   "execution_count": 66,
   "id": "f49b8c36-8a34-4c4e-90c5-1880f4e55229",
   "metadata": {
    "tags": []
   },
   "outputs": [],
   "source": [
    "images_paths = [f\"../{path_local_pleiades_data}/16bits/ORT_2022072050325085_U22N/\" + p for p in os.listdir(f\"../{path_local_pleiades_data}/16bits/ORT_2022072050325085_U22N/\")]"
   ]
  },
  {
   "cell_type": "code",
   "execution_count": 67,
   "id": "bc895b95-3339-4a26-af78-a51937bed2dc",
   "metadata": {
    "tags": []
   },
   "outputs": [],
   "source": [
    "date = datetime.strptime(re.search(r'ORT_(\\d{8})', images_paths[0]).group(1), '%Y%m%d')"
   ]
  },
  {
   "cell_type": "markdown",
   "id": "a86d970a-6cee-48fe-a38a-de853c08be59",
   "metadata": {},
   "source": [
    "On importes les `SatelliteImage` dans une liste."
   ]
  },
  {
   "cell_type": "code",
   "execution_count": 68,
   "id": "68e46f84-a7bb-4d1f-88b4-78f5d3e2a24c",
   "metadata": {
    "tags": []
   },
   "outputs": [],
   "source": [
    "list_images = [\n",
    "     SatelliteImage.from_raster(\n",
    "        filename,\n",
    "        dep = \"973\",\n",
    "        date = date, \n",
    "        n_bands = 4\n",
    "    ) for filename in tqdm(images_paths)]"
   ]
  },
  {
   "cell_type": "code",
   "execution_count": 69,
   "id": "7e9cd1df-6e28-4a68-80f6-0cace388a63b",
   "metadata": {
    "tags": []
   },
   "outputs": [],
   "source": [
    "list_images[0]"
   ]
  },
  {
   "cell_type": "code",
   "execution_count": 70,
   "id": "9ffeb8f4-9055-41e8-ba9e-cf7774341600",
   "metadata": {
    "tags": []
   },
   "outputs": [],
   "source": [
    "list_images[0].__dict__"
   ]
  },
  {
   "cell_type": "code",
   "execution_count": 71,
   "id": "9cea76ff-8aff-47cf-8d44-257c77de997e",
   "metadata": {
    "tags": []
   },
   "outputs": [],
   "source": [
    "list_images[0].bounds"
   ]
  },
  {
   "cell_type": "code",
   "execution_count": 72,
   "id": "78f01701-d28c-4e03-82d2-c761465218af",
   "metadata": {
    "tags": []
   },
   "outputs": [],
   "source": [
    "xmin, ymin, xmax, ymax = list_images[0].bounds\n",
    "xmin"
   ]
  },
  {
   "cell_type": "code",
   "execution_count": 73,
   "id": "b9ab2235-5fd5-4884-a793-a2b70f6ebf73",
   "metadata": {
    "tags": []
   },
   "outputs": [],
   "source": [
    "def compute_gr_geometry(dep):\n",
    "    fs.get('projet-slums-detection/Donnees/RIL/rca_geometry_ilots.rds', 'rca_geometry_ilots.rds')\n",
    "    result = pyreadr.read_r('rca_geometry_ilots.rds')\n",
    "    df_geom = result[None]\n",
    "    df_geom['wkt'] = df_geom['wkt'].apply(wkt.loads)\n",
    "    gdf = gpd.GeoDataFrame(df_geom, geometry=\"wkt\", crs=\"EPSG:4326\")\n",
    "    gdf[\"dep\"] = gdf.depcom.str[:3]\n",
    "    gdf = gdf[gdf.dep == dep]\n",
    "    gdf[\"wkt\"] = [geom.buffer(0) for geom in gdf[\"wkt\"]]\n",
    "    \n",
    "    return gdf.dissolve(by=\"gr\").to_crs(\"epsg:\" + dep_to_crs[dep])"
   ]
  },
  {
   "cell_type": "code",
   "execution_count": 74,
   "id": "e587aa8e-e910-4be9-a532-c6a3b5852e25",
   "metadata": {
    "tags": []
   },
   "outputs": [],
   "source": [
    "dep_to_crs"
   ]
  },
  {
   "cell_type": "code",
   "execution_count": 75,
   "id": "7f075391-46d4-4bd1-a2a1-0d8c37c95185",
   "metadata": {
    "tags": []
   },
   "outputs": [],
   "source": [
    "guy_geoms = compute_gr_geometry(\"973\")\n",
    "guy_geoms"
   ]
  },
  {
   "cell_type": "code",
   "execution_count": 76,
   "id": "5dc8d7af-9a7e-48c7-9408-0870fc337a22",
   "metadata": {
    "tags": []
   },
   "outputs": [],
   "source": [
    "guy_geoms.wkt[0]"
   ]
  },
  {
   "cell_type": "code",
   "execution_count": 77,
   "id": "a638dae0-2200-45ce-a889-8d1717a238b9",
   "metadata": {
    "tags": []
   },
   "outputs": [],
   "source": [
    "guy_geoms.wkt[3]"
   ]
  },
  {
   "cell_type": "code",
   "execution_count": 78,
   "id": "9931e0fa-df65-4ecc-9803-4f0320a5daa8",
   "metadata": {
    "tags": []
   },
   "outputs": [],
   "source": [
    "guy_geoms.cx[xmin:xmax, ymin:ymax]"
   ]
  },
  {
   "cell_type": "code",
   "execution_count": 79,
   "id": "93d064e7-9c63-4c7f-9732-32ac2a3330b0",
   "metadata": {
    "tags": []
   },
   "outputs": [],
   "source": [
    "xmin, ymin, xmax, ymax = list_images[1].bounds\n",
    "xmin"
   ]
  },
  {
   "cell_type": "code",
   "execution_count": 80,
   "id": "76d3ab12-5779-43cf-922f-76743b5ab87a",
   "metadata": {
    "tags": []
   },
   "outputs": [],
   "source": [
    "guy_geoms.cx[xmin:xmax, ymin:ymax]"
   ]
  },
  {
   "cell_type": "code",
   "execution_count": 81,
   "id": "1df6045b-2ccf-416f-b9f5-81345b59c999",
   "metadata": {
    "tags": []
   },
   "outputs": [],
   "source": [
    "guy_geoms.wkt"
   ]
  },
  {
   "cell_type": "code",
   "execution_count": 82,
   "id": "f185a6c6-15a1-40a1-a7d2-7314ba8dcd4f",
   "metadata": {
    "tags": []
   },
   "outputs": [],
   "source": [
    "guy_geoms.cx[xmin:xmax, ymin:ymax].wkt.area"
   ]
  },
  {
   "cell_type": "code",
   "execution_count": 83,
   "id": "63f1a23b-76a9-4765-8695-d78c6aedf5e3",
   "metadata": {
    "tags": []
   },
   "outputs": [],
   "source": [
    "list_images[1].bounds"
   ]
  },
  {
   "cell_type": "code",
   "execution_count": 84,
   "id": "8b5ae317-7065-4925-a62d-d6f815ef2aaf",
   "metadata": {
    "tags": []
   },
   "outputs": [],
   "source": [
    "from shapely.geometry import box\n",
    "\n",
    "geom = box(*list_images[1].bounds)\n",
    "geom"
   ]
  },
  {
   "cell_type": "code",
   "execution_count": 85,
   "id": "efd93c6f-3a9e-4977-a3a1-95ba07776b4f",
   "metadata": {
    "tags": []
   },
   "outputs": [],
   "source": [
    "gpd.GeoDataFrame(gpd.GeoSeries(geom), columns=['geometry']).set_crs(\"epsg:2972\")"
   ]
  },
  {
   "cell_type": "code",
   "execution_count": 86,
   "id": "6f6b936a-b330-44cf-ab91-b233a01030f7",
   "metadata": {
    "tags": []
   },
   "outputs": [],
   "source": [
    "gpd.overlay(guy_geoms, gpd.GeoDataFrame(gpd.GeoSeries(geom), columns=['geometry']).set_crs(\"epsg:2972\"), how='intersection')"
   ]
  },
  {
   "cell_type": "code",
   "execution_count": 87,
   "id": "a3f75fc1-95e1-4929-8771-7f81777982a2",
   "metadata": {
    "tags": []
   },
   "outputs": [],
   "source": [
    "gpd.overlay(guy_geoms, gpd.GeoDataFrame(gpd.GeoSeries(geom), columns=['geometry']).set_crs(\"epsg:2972\"), how='intersection').geometry.area"
   ]
  },
  {
   "cell_type": "code",
   "execution_count": 88,
   "id": "94a2da97-4bf4-4ff6-bb9d-c3a9fef1807e",
   "metadata": {
    "tags": []
   },
   "outputs": [],
   "source": [
    "type(guy_geoms.wkt[1])"
   ]
  },
  {
   "cell_type": "code",
   "execution_count": 89,
   "id": "8d88925d-726d-4fbd-a3fc-e0cabd529a2d",
   "metadata": {
    "tags": []
   },
   "outputs": [],
   "source": [
    "type(geom)"
   ]
  },
  {
   "cell_type": "code",
   "execution_count": 90,
   "id": "0472a1d7-912c-4f75-8ec9-1dc347a1794a",
   "metadata": {
    "tags": []
   },
   "outputs": [],
   "source": [
    "guy_geoms.wkt[1]"
   ]
  },
  {
   "cell_type": "code",
   "execution_count": 91,
   "id": "0ac493f9-a621-44a4-922c-95b0cfffae64",
   "metadata": {
    "tags": []
   },
   "outputs": [],
   "source": [
    "geom"
   ]
  },
  {
   "cell_type": "code",
   "execution_count": 92,
   "id": "25c8cbfc-4af5-4cc8-810a-10e4646ce452",
   "metadata": {
    "tags": []
   },
   "outputs": [],
   "source": [
    "guy_geoms.wkt[1].intersection(geom)"
   ]
  },
  {
   "cell_type": "code",
   "execution_count": 93,
   "id": "b84eba24-dad0-46dd-b9ad-df6a1659722b",
   "metadata": {
    "tags": []
   },
   "outputs": [],
   "source": [
    "print(geom)"
   ]
  },
  {
   "cell_type": "code",
   "execution_count": 94,
   "id": "576c82bd-168c-46c9-8f4f-d553189b772c",
   "metadata": {
    "tags": []
   },
   "outputs": [],
   "source": [
    "guy_geoms.wkt[1].intersection(geom).area"
   ]
  },
  {
   "cell_type": "code",
   "execution_count": 95,
   "id": "aae6afb5-5a27-4386-be10-8967aec86a46",
   "metadata": {
    "tags": []
   },
   "outputs": [],
   "source": [
    "geom.area"
   ]
  },
  {
   "cell_type": "code",
   "execution_count": 96,
   "id": "5c1f235d-d784-4c9e-a0c7-4e9f89e656eb",
   "metadata": {
    "tags": []
   },
   "outputs": [],
   "source": [
    "gc_list = df_ril[df_ril.type_com == \"gc\"].depcom.unique()"
   ]
  },
  {
   "cell_type": "code",
   "execution_count": 97,
   "id": "2b503055-fca3-4d1f-9365-a54c4f225c2e",
   "metadata": {
    "tags": []
   },
   "outputs": [],
   "source": [
    "pc_list = df_ril[df_ril.type_com == \"pc\"].depcom.unique()"
   ]
  },
  {
   "cell_type": "code",
   "execution_count": 98,
   "id": "4efad938-a145-4280-8c9d-c001cdf82c7b",
   "metadata": {
    "tags": []
   },
   "outputs": [],
   "source": [
    "set(gc_list).intersection(pc_list)"
   ]
  },
  {
   "cell_type": "markdown",
   "id": "22405872-3cd1-485f-b520-c03c1e73a013",
   "metadata": {},
   "source": [
    "Ok pas d'intersection"
   ]
  },
  {
   "cell_type": "code",
   "execution_count": 99,
   "id": "ae6ed2a4-bed8-4292-adad-623bb2093ce0",
   "metadata": {
    "tags": []
   },
   "outputs": [],
   "source": [
    "fs.get('projet-slums-detection/Donnees/RIL/rca_geometry_ilots.rds', 'rca_geometry_ilots.rds')\n",
    "result = pyreadr.read_r('rca_geometry_ilots.rds')\n",
    "os.remove('rca_geometry_ilots.rds')\n",
    "df_geom = result[None]"
   ]
  },
  {
   "cell_type": "code",
   "execution_count": 100,
   "id": "c2dd423f-a12e-4dfc-b8c5-aaab80b09d03",
   "metadata": {
    "tags": []
   },
   "outputs": [],
   "source": [
    "depcom_ilots = df_geom.depcom.unique()"
   ]
  },
  {
   "cell_type": "code",
   "execution_count": 101,
   "id": "782bc33d-1e4e-40f1-95c4-5514e1012b44",
   "metadata": {
    "tags": []
   },
   "outputs": [],
   "source": [
    "depcom_ril = np.concatenate([gc_list, pc_list])"
   ]
  },
  {
   "cell_type": "code",
   "execution_count": 102,
   "id": "f6ae8204-e365-46d1-b71a-ccf7c4d9f646",
   "metadata": {
    "tags": []
   },
   "outputs": [],
   "source": [
    "len(np.intersect1d(depcom_ilots, depcom_ril))"
   ]
  },
  {
   "cell_type": "code",
   "execution_count": 103,
   "id": "472ced44-d8dc-4d7a-a687-f629896a193a",
   "metadata": {
    "tags": []
   },
   "outputs": [],
   "source": [
    "len(depcom_ril)"
   ]
  },
  {
   "cell_type": "code",
   "execution_count": 104,
   "id": "dca00fa7-9911-47de-8c68-5d48a7b9e0b0",
   "metadata": {
    "tags": []
   },
   "outputs": [],
   "source": [
    "len(depcom_ilots)"
   ]
  },
  {
   "cell_type": "code",
   "execution_count": 105,
   "id": "68a80559-b39d-458e-99a7-99b8fe8871ec",
   "metadata": {
    "tags": []
   },
   "outputs": [],
   "source": [
    "list(set(depcom_ilots) - set(depcom_ril))"
   ]
  },
  {
   "cell_type": "markdown",
   "id": "a4964aa3-44b4-45e8-88cd-637351c154f0",
   "metadata": {},
   "source": [
    "Ok toutes les communes dans le RIL sont dans le df des ilots"
   ]
  },
  {
   "cell_type": "code",
   "execution_count": 154,
   "id": "2b7c43d9-894a-4be0-8336-c52cb4d7597b",
   "metadata": {
    "tags": []
   },
   "outputs": [],
   "source": [
    "def compute_recent_gr_geometries(dep):\n",
    "    # Get data\n",
    "    fs.get('projet-slums-detection/Donnees/RIL/rca_geometry_ilots.rds', 'rca_geometry_ilots.rds')\n",
    "    result = pyreadr.read_r('rca_geometry_ilots.rds')\n",
    "    os.remove('rca_geometry_ilots.rds')\n",
    "    df_geom = result[None]\n",
    "    df_geom['wkt'] = df_geom['wkt'].apply(wkt.loads)\n",
    "    gdf = gpd.GeoDataFrame(df_geom, geometry=\"wkt\", crs=\"EPSG:4326\")\n",
    "    \n",
    "    # Filtering departement \n",
    "    gdf[\"dep\"] = gdf.depcom.str[:3]\n",
    "    gdf = gdf[gdf.dep == dep]\n",
    "    gdf[\"wkt\"] = [geom.buffer(0) for geom in gdf[\"wkt\"]]\n",
    "    \n",
    "    # Return aggregated geometries\n",
    "    return gdf.dissolve(by=\"gr\").to_crs(\"epsg:\" + dep_to_crs[dep])"
   ]
  },
  {
   "cell_type": "markdown",
   "id": "ed0600e1-d3f0-4ba9-a0f0-213e9f4113c5",
   "metadata": {},
   "source": [
    "On a récupéré d'autres listes de communes"
   ]
  },
  {
   "cell_type": "code",
   "execution_count": 107,
   "id": "a1733202-ebb7-4dcc-b792-e7ce20731ddd",
   "metadata": {
    "tags": []
   },
   "outputs": [],
   "source": [
    "with fs.open('projet-slums-detection/Donnees/RIL/DOM_GC_PC.csv', 'r') as f:\n",
    "    df_corresp = pd.read_csv(f)\n",
    "\n",
    "df_corresp"
   ]
  },
  {
   "cell_type": "code",
   "execution_count": 121,
   "id": "e82f9fe7-aa60-4cee-8e0f-9d202e90b9c5",
   "metadata": {
    "tags": []
   },
   "outputs": [],
   "source": [
    "pc_list_corresp = df_corresp[df_corresp.statut == \"PC\"][\"depcom\"].astype(str)"
   ]
  },
  {
   "cell_type": "code",
   "execution_count": 122,
   "id": "543fe87e-ea33-4f12-8c51-15badd60bad3",
   "metadata": {
    "tags": []
   },
   "outputs": [],
   "source": [
    "pc_list_corresp"
   ]
  },
  {
   "cell_type": "code",
   "execution_count": 123,
   "id": "41b4c1ea-06d0-433a-b36c-79b43864fd00",
   "metadata": {
    "tags": []
   },
   "outputs": [],
   "source": [
    "pc_list"
   ]
  },
  {
   "cell_type": "code",
   "execution_count": 124,
   "id": "8381f368-6e47-4513-b78f-044f4dc9bfae",
   "metadata": {
    "tags": []
   },
   "outputs": [],
   "source": [
    "len(pc_list)"
   ]
  },
  {
   "cell_type": "code",
   "execution_count": 125,
   "id": "1edfbf1f-f2ac-421b-af8e-2f159a3835b5",
   "metadata": {
    "tags": []
   },
   "outputs": [],
   "source": [
    "set(pc_list_corresp) == set(pc_list)"
   ]
  },
  {
   "cell_type": "code",
   "execution_count": 126,
   "id": "c0c1ca09-bcd2-4d19-911d-d1b76efd266a",
   "metadata": {
    "tags": []
   },
   "outputs": [],
   "source": [
    "set(pc_list).issubset(set(pc_list_corresp))"
   ]
  },
  {
   "cell_type": "code",
   "execution_count": 129,
   "id": "15d3d34e-f001-429f-9e2f-275de3739a59",
   "metadata": {
    "tags": []
   },
   "outputs": [],
   "source": [
    "gc_list_corresp = df_corresp[df_corresp.statut == \"GC\"][\"depcom\"].astype(str)"
   ]
  },
  {
   "cell_type": "code",
   "execution_count": 130,
   "id": "ed93d2dc-6e8b-4b5c-beb0-ed7b6dfbca84",
   "metadata": {
    "tags": []
   },
   "outputs": [],
   "source": [
    "set(gc_list).issubset(set(gc_list_corresp))"
   ]
  },
  {
   "cell_type": "code",
   "execution_count": 131,
   "id": "e1e04bec-af36-48fe-ba20-4fa8c1c3630e",
   "metadata": {
    "tags": []
   },
   "outputs": [],
   "source": [
    "df_corresp.depcom"
   ]
  },
  {
   "cell_type": "code",
   "execution_count": 132,
   "id": "ddf66fe7-e8d1-4efb-8770-8cb39930370b",
   "metadata": {
    "tags": []
   },
   "outputs": [],
   "source": [
    "len(set(gc_list_corresp)) + len(set(pc_list_corresp))"
   ]
  },
  {
   "cell_type": "code",
   "execution_count": 133,
   "id": "45a9e500-7fc1-415d-b9d9-aa7f8b2be377",
   "metadata": {
    "tags": []
   },
   "outputs": [],
   "source": [
    "len(set(df_corresp.depcom))"
   ]
  },
  {
   "cell_type": "code",
   "execution_count": 136,
   "id": "75ddd9ca-244e-4184-b2bf-3144c67259fa",
   "metadata": {
    "tags": []
   },
   "outputs": [],
   "source": [
    "set(depcom_ilots).issubset(set(df_corresp.depcom.astype(str)))"
   ]
  },
  {
   "cell_type": "markdown",
   "id": "9622e505-bd30-425c-88af-fedcfd03727d",
   "metadata": {},
   "source": [
    "Ok on a bien toutes les communes dans les nouvelles listes."
   ]
  },
  {
   "cell_type": "code",
   "execution_count": 138,
   "id": "1612a0ae-849c-476c-bd32-95120f4ae363",
   "metadata": {
    "tags": []
   },
   "outputs": [],
   "source": [
    "def compute_old_gr_geometries(dep):\n",
    "    # Get data\n",
    "    fs.get('projet-slums-detection/Donnees/RIL/rca_geometry_ilots.rds', 'rca_geometry_ilots.rds')\n",
    "    result = pyreadr.read_r('rca_geometry_ilots.rds')\n",
    "    os.remove('rca_geometry_ilots.rds')\n",
    "    df_geom = result[None]\n",
    "    df_geom['wkt'] = df_geom['wkt'].apply(wkt.loads)\n",
    "    gdf = gpd.GeoDataFrame(df_geom, geometry=\"wkt\", crs=\"EPSG:4326\")\n",
    "    \n",
    "    # Filtering departement \n",
    "    gdf[\"dep\"] = gdf.depcom.str[:3]\n",
    "    gdf = gdf[gdf.dep == dep]\n",
    "    gdf[\"wkt\"] = [geom.buffer(0) for geom in gdf[\"wkt\"]]\n",
    "    \n",
    "    if dep == \"976\": \n",
    "        # Return aggregated geometries\n",
    "        return gdf.dissolve(by=\"gr\").to_crs(\"epsg:\" + dep_to_crs[dep])\n",
    "    else:\n",
    "        gdf_pc = gdf[gdf.depcom.isin(df_corresp[df_corresp.statut == \"PC\"][\"depcom\"].astype(str))]\n",
    "        gdf_gc = gdf[gdf.depcom.isin(df_corresp[df_corresp.statut == \"GC\"][\"depcom\"].astype(str))]\n",
    "        # Missing cities in these lists...\n",
    "        \n",
    "        # Changing rotation group for small cities\n",
    "        gdf_pc_copy = gdf_pc.copy()\n",
    "        gdf_pc_copy[\"gr\"] = ((((gdf_pc[\"gr\"].astype(int)) - 2) % 5) + 1).astype(str)\n",
    "        gdf_old = pd.concat([gdf_pc, gdf_gc])\n",
    "        return gdf_old.dissolve(by=\"gr\").to_crs(\"epsg:\" + dep_to_crs[dep])"
   ]
  },
  {
   "cell_type": "code",
   "execution_count": 139,
   "id": "1438e416-e367-41fe-996e-32d100be9399",
   "metadata": {
    "tags": []
   },
   "outputs": [],
   "source": [
    "gdf[gdf.depcom.isin(pc_list)].shape"
   ]
  },
  {
   "cell_type": "code",
   "execution_count": 140,
   "id": "f0888c69-173d-4716-8d9a-216d392ee042",
   "metadata": {
    "tags": []
   },
   "outputs": [],
   "source": [
    "gdf[gdf.depcom.isin(pc_list)]"
   ]
  },
  {
   "cell_type": "code",
   "execution_count": 141,
   "id": "c0c396ce-f22d-42d1-86f1-eb4d35c9d737",
   "metadata": {
    "tags": []
   },
   "outputs": [],
   "source": [
    "gdf[gdf.depcom.isin(df_corresp[df_corresp.statut == \"PC\"][\"depcom\"].astype(str))].shape"
   ]
  },
  {
   "cell_type": "code",
   "execution_count": 143,
   "id": "6c6cca42-dfd2-4102-b491-9260d0a81075",
   "metadata": {
    "tags": []
   },
   "outputs": [],
   "source": [
    "gdf[gdf.depcom.isin(df_corresp[df_corresp.statut == \"GC\"][\"depcom\"].astype(str))].shape"
   ]
  },
  {
   "cell_type": "code",
   "execution_count": 144,
   "id": "b129843c-8914-48fb-8758-c517b487b512",
   "metadata": {
    "tags": []
   },
   "outputs": [],
   "source": [
    "4069 + 16197"
   ]
  },
  {
   "cell_type": "code",
   "execution_count": 145,
   "id": "909d0a9b-f85d-4fb3-9893-fed71f3b8297",
   "metadata": {
    "tags": []
   },
   "outputs": [],
   "source": [
    "compute_old_gr_geometries(\"971\")"
   ]
  },
  {
   "cell_type": "markdown",
   "id": "68909bd4-8e0b-4c0b-a739-fa648774117d",
   "metadata": {
    "tags": []
   },
   "source": [
    "## Fonction pour filter les images labelisées RIL"
   ]
  },
  {
   "cell_type": "code",
   "execution_count": 146,
   "id": "e9f9a66e-98ce-46c3-9c44-e4ef9474692f",
   "metadata": {
    "tags": []
   },
   "outputs": [],
   "source": [
    "from typing import Union\n",
    "\n",
    "def has_non_valid_label(\n",
    "    labeled_image,\n",
    "    delta_threshold: int = 160\n",
    ") -> bool:\n",
    "    \"\"\"\n",
    "    Determines if image label is valid or not. \n",
    "    \n",
    "    Args:\n",
    "        labeled_image (Union[SegmentationLabeledSatelliteImage, DetectionLabeledSatelliteImage]): Labeled satellite image.\n",
    "\n",
    "    Returns:\n",
    "        bool: True if the image label is not valid, False otherwise.\n",
    "    \"\"\"\n",
    "    if labeled_image.source == \"RIL\":\n",
    "        return has_non_valid_ril_label(labeled_image, delta_threshold)\n",
    "    elif labeled_image.source == \"BDTOPO\":\n",
    "        return has_non_valid_bdtopo_label(labeled_image, delta_threshold)\n",
    "    \n",
    "\n",
    "def has_non_valid_ril_label(\n",
    "    labeled_image,\n",
    "    delta_threshold: int,\n",
    "    area_pct_threshold: float\n",
    ") -> bool:\n",
    "    \"\"\"\n",
    "    Determines if RIL image label is valid or not. \n",
    "    \n",
    "    Args:\n",
    "        labeled_image (Union[SegmentationLabeledSatelliteImage, DetectionLabeledSatelliteImage]): Labeled satellite image.\n",
    "        delta_threshold (int): Max number of days between labeling date and image date.\n",
    "        area_pct_theshold (float): Threshold on the percentage of area of the time that should be contained in the rotation group.\n",
    "\n",
    "    Returns:\n",
    "        bool: True if the image label is not valid, False otherwise.\n",
    "    \"\"\"\n",
    "    labeling_date = labeled_image.labeling_date\n",
    "    image_date = labeled_image.satellite_image.date\n",
    "    \n",
    "    # Filter image if labeling date is too far from image date\n",
    "    delta = labeling_date - image_date\n",
    "    delta = abs(delta.days)\n",
    "    if delta > delta_threshold:\n",
    "        return True\n",
    "    \n",
    "    # Determine rotation group of labeling_year\n",
    "    labeling_year = labeling_date.year\n",
    "    gr = str(((labeling_year - 2018) % 5) + 1)\n",
    "    \n",
    "    # Rotation group geometry\n",
    "    dep = labeled_image.satellite_image.dep\n",
    "    if labeling_year > 2020:\n",
    "        gr_geometries = compute_recent_gr_geometries(dep)\n",
    "    else:\n",
    "        gr_geometries = compute_old_gr_geometries(dep)\n",
    "    gr_geometries = gr_geometries.reset_index()\n",
    "    gr_geometry = gr_geometries[gr_geometries.gr == gr].wkt\n",
    "    \n",
    "    geom = box(*labeled_image.satellite_image.bounds)\n",
    "    intersection_area = float(gr_geometry.intersection(geom).area)\n",
    "    \n",
    "    if intersection_area / geom.area < area_pct_threshold:\n",
    "        return True\n",
    "    \n",
    "    # If checks passed, return False\n",
    "    return False\n",
    "    \n",
    "def has_non_valid_bdtopo_label(\n",
    "    labeled_image,\n",
    "    delta_threshold: int\n",
    ") -> bool:\n",
    "    \"\"\"\n",
    "    Determines if BDTOPO image label is valid or not. \n",
    "    \n",
    "    Args:\n",
    "        labeled_image (Union[SegmentationLabeledSatelliteImage, DetectionLabeledSatelliteImage]): Labeled satellite image.\n",
    "\n",
    "    Returns:\n",
    "        bool: True if the image label is not valid, False otherwise.\n",
    "    \"\"\"\n",
    "    return False\n"
   ]
  },
  {
   "cell_type": "code",
   "execution_count": 147,
   "id": "b72b17b2-0287-4070-b6f7-f320067edda2",
   "metadata": {
    "tags": []
   },
   "outputs": [],
   "source": [
    "list_images[1]"
   ]
  },
  {
   "cell_type": "code",
   "execution_count": 148,
   "id": "4620969f-7517-49ba-b656-f11f20a2591b",
   "metadata": {
    "tags": []
   },
   "outputs": [],
   "source": [
    "filename = '../data/Cayenne/16bits/ORT_2022072050325085_U22N/ORT_2022072050325085_0353_0545_U22N_16Bits.jp2'"
   ]
  },
  {
   "cell_type": "code",
   "execution_count": 149,
   "id": "11a2df05-903a-4b1b-9d21-74b9d28dec42",
   "metadata": {
    "tags": []
   },
   "outputs": [],
   "source": [
    "date = datetime.strptime(re.search(r'ORT_(\\d{8})', filename).group(1), '%Y%m%d')\n",
    "date"
   ]
  },
  {
   "cell_type": "code",
   "execution_count": 150,
   "id": "9c6a5124-9bde-4d29-b17d-f0a278b9129c",
   "metadata": {
    "tags": []
   },
   "outputs": [],
   "source": [
    "labeler = RILLabeler(date, dep=\"973\")\n",
    "mask = labeler.create_segmentation_label(list_images[1])"
   ]
  },
  {
   "cell_type": "code",
   "execution_count": 151,
   "id": "83c2ced1-2e18-49d2-a490-530925bb6bda",
   "metadata": {
    "tags": []
   },
   "outputs": [],
   "source": [
    "mask"
   ]
  },
  {
   "cell_type": "code",
   "execution_count": 152,
   "id": "46cddc23-ef69-41dc-a120-460135f6c967",
   "metadata": {
    "tags": []
   },
   "outputs": [],
   "source": [
    "labeled_image = SegmentationLabeledSatelliteImage(list_images[1], mask, \"RIL\", datetime.strptime(re.search(r'ORT_(\\d{8})', filename).group(1), '%Y%m%d'))"
   ]
  },
  {
   "cell_type": "code",
   "execution_count": 155,
   "id": "55b182a0-a062-4d3b-bc98-8639f533b840",
   "metadata": {
    "tags": []
   },
   "outputs": [],
   "source": [
    "has_non_valid_ril_label(labeled_image, 100000, 0.6)"
   ]
  },
  {
   "cell_type": "markdown",
   "id": "3f708b0a-abad-4200-9d5a-24f180498e1f",
   "metadata": {},
   "source": [
    "## Exporting GR geometries"
   ]
  },
  {
   "cell_type": "code",
   "execution_count": 156,
   "id": "8e9eb201-df9b-4ed3-b69b-0bfac75a84a7",
   "metadata": {
    "tags": []
   },
   "outputs": [],
   "source": [
    "type(compute_recent_gr_geometries(\"971\").reset_index()[[\"gr\", \"wkt\"]])"
   ]
  },
  {
   "cell_type": "code",
   "execution_count": 157,
   "id": "38c38073-5034-4e8d-9125-83b015841029",
   "metadata": {
    "tags": []
   },
   "outputs": [],
   "source": [
    "compute_recent_gr_geometries(\"971\").reset_index()[[\"gr\", \"wkt\"]].rename(columns={\"wkt\": \"geometry\"})"
   ]
  },
  {
   "cell_type": "code",
   "execution_count": 158,
   "id": "989e3464-2312-406b-b6da-c88976d4707f",
   "metadata": {
    "tags": []
   },
   "outputs": [],
   "source": [
    "type(compute_recent_gr_geometries(\"971\").reset_index()[[\"gr\", \"wkt\"]])"
   ]
  },
  {
   "cell_type": "code",
   "execution_count": 159,
   "id": "f2754472-6c96-4a28-96f1-be9269b74293",
   "metadata": {
    "tags": []
   },
   "outputs": [],
   "source": [
    "to_save = compute_recent_gr_geometries(\"971\").reset_index()[[\"gr\", \"wkt\"]]"
   ]
  },
  {
   "cell_type": "code",
   "execution_count": 160,
   "id": "2c8c551c-d1f3-4009-b531-afd86b521ce6",
   "metadata": {
    "tags": []
   },
   "outputs": [],
   "source": [
    "to_save[\"wkt\"] = to_save[\"wkt\"]"
   ]
  },
  {
   "cell_type": "code",
   "execution_count": 161,
   "id": "a29b6cf6-e4de-445c-a3b0-0f89030f068b",
   "metadata": {
    "tags": []
   },
   "outputs": [],
   "source": [
    "type(to_save)"
   ]
  },
  {
   "cell_type": "code",
   "execution_count": null,
   "id": "c614f72d-0ebe-4b6c-b9c1-0f92a31c4588",
   "metadata": {
    "tags": []
   },
   "outputs": [],
   "source": [
    "to_save.to_file(\"recent_gr_971.shp\")"
   ]
  },
  {
   "cell_type": "code",
   "execution_count": null,
   "id": "2309ca7d-e19c-4775-9a00-25d84ea7aa87",
   "metadata": {
    "tags": []
   },
   "outputs": [],
   "source": [
    "test_971 = gpd.read_file(\"recent_gr_971.shp\")"
   ]
  },
  {
   "cell_type": "code",
   "execution_count": null,
   "id": "43e92f28-2431-4502-b70f-64e0f6c20830",
   "metadata": {
    "tags": []
   },
   "outputs": [],
   "source": [
    "test_971"
   ]
  },
  {
   "cell_type": "code",
   "execution_count": null,
   "id": "1feebf6d-b4b4-43c5-9793-34596d46051d",
   "metadata": {
    "tags": []
   },
   "outputs": [],
   "source": [
    "test_971.geometry"
   ]
  },
  {
   "cell_type": "code",
   "execution_count": null,
   "id": "5c8a98eb-9fd3-4481-ba4f-4de4e38a099e",
   "metadata": {
    "tags": []
   },
   "outputs": [],
   "source": [
    "to_save.to_file(\"recent_gr_971.geojson\", driver='GeoJSON')"
   ]
  },
  {
   "cell_type": "code",
   "execution_count": null,
   "id": "7739fe9a-5584-45bf-80bf-7ad755d0b34d",
   "metadata": {
    "tags": []
   },
   "outputs": [],
   "source": [
    "test_971 = gpd.read_file(\"recent_gr_971.geojson\")"
   ]
  },
  {
   "cell_type": "code",
   "execution_count": null,
   "id": "8bcdea4e-c3ec-48eb-9862-702876a687a5",
   "metadata": {
    "tags": []
   },
   "outputs": [],
   "source": [
    "test_971"
   ]
  },
  {
   "cell_type": "code",
   "execution_count": null,
   "id": "5aba9262-d3ca-45fb-8559-763a5e369a91",
   "metadata": {
    "tags": []
   },
   "outputs": [],
   "source": [
    "test_971.geometry"
   ]
  },
  {
   "cell_type": "code",
   "execution_count": 165,
   "id": "e63d43a7-cb71-4bf4-8254-8ea0f22fc875",
   "metadata": {
    "tags": []
   },
   "outputs": [],
   "source": [
    "for dep in [\"971\", \"972\", \"973\", \"974\", \"976\", \"977\", \"978\"]:\n",
    "    to_save = compute_recent_gr_geometries(dep).reset_index()[[\"gr\", \"wkt\"]]\n",
    "    to_save.to_file(\"to_s3/new_gr_\" + dep + \".geojson\", driver='GeoJSON')"
   ]
  },
  {
   "cell_type": "code",
   "execution_count": 166,
   "id": "4cb57e47-12e8-42f9-8ea5-4cbd94fdacc2",
   "metadata": {
    "tags": []
   },
   "outputs": [],
   "source": [
    "for dep in [\"971\", \"972\", \"973\", \"974\", \"976\", \"977\", \"978\"]:\n",
    "    to_save = compute_old_gr_geometries(dep).reset_index()[[\"gr\", \"wkt\"]]\n",
    "    to_save.to_file(\"to_s3/old_gr_\" + dep + \".geojson\", driver='GeoJSON')"
   ]
  },
  {
   "cell_type": "markdown",
   "id": "d17a906a-b403-47bd-b9f2-176ac1269e82",
   "metadata": {},
   "source": [
    "## Test lecture depuis s3"
   ]
  },
  {
   "cell_type": "code",
   "execution_count": 167,
   "id": "123ba756-ccc5-43f2-8cd4-16087e237a62",
   "metadata": {
    "tags": []
   },
   "outputs": [],
   "source": [
    "with fs.open(\"projet-slums-detection/Donnees/RIL/old_gr/old_gr_973.geojson\") as f:\n",
    "    test = gpd.read_file(f)\n",
    "test"
   ]
  },
  {
   "cell_type": "markdown",
   "id": "7e4f3050-f073-48cc-b9ea-9d7a686fc10d",
   "metadata": {},
   "source": [
    "## Class structure"
   ]
  },
  {
   "cell_type": "code",
   "execution_count": 168,
   "id": "fb831c10-676d-4d92-b70b-686f27c5fe64",
   "metadata": {
    "tags": []
   },
   "outputs": [],
   "source": [
    "class RILFilter():\n",
    "    \"\"\"\n",
    "    \"\"\"\n",
    "    \n",
    "    def __init__(\n",
    "        self,\n",
    "        dep: str,\n",
    "        delta_threshold: int,\n",
    "        area_pct_threshold: float\n",
    "    ):\n",
    "        \"\"\"\n",
    "        \"\"\"\n",
    "        self.dep = dep\n",
    "        self.delta_threshold = delta_threshold\n",
    "        self.area_pct_threshold = area_pct_threshold\n",
    "        \n",
    "        environment = get_environment()\n",
    "        fs = get_file_system()\n",
    "      \n",
    "        old_gr_path = os.path.join(\n",
    "            environment[\"bucket\"],\n",
    "            environment[\"sources\"][\"old_gr\"][self.dep]\n",
    "        )\n",
    "        new_gr_path = os.path.join(\n",
    "            environment[\"bucket\"],\n",
    "            environment[\"sources\"][\"new_gr\"][self.dep]\n",
    "        )\n",
    "        with fs.open(old_gr_path, 'r') as f:\n",
    "            self.old_gr_geometries = gpd.read_file(f)\n",
    "        with fs.open(new_gr_path, 'r') as f: \n",
    "            self.new_gr_geometries = gpd.read_file(f)\n",
    "        \n",
    "    def validate(self, labeled_image):\n",
    "        \"\"\"\n",
    "        \"\"\"\n",
    "        if not self.validate_labeling_date(labeled_image):\n",
    "            return False\n",
    "        return self.validate_rotation_group(labeled_image)\n",
    "\n",
    "    def validate_labeling_date(self, labeled_image):\n",
    "        \"\"\"\n",
    "        \"\"\"\n",
    "        labeling_date = labeled_image.labeling_date\n",
    "        image_date = labeled_image.satellite_image.date\n",
    "        \n",
    "        # Filter image if labeling date is too far from image date\n",
    "        delta = labeling_date - image_date\n",
    "        delta = abs(delta.days)\n",
    "        if delta > self.delta_threshold:\n",
    "            return False\n",
    "        return True\n",
    "    \n",
    "    def validate_rotation_group(self, labeled_image):\n",
    "        \"\"\"\n",
    "        \"\"\"\n",
    "        # Determine rotation group of labeling year\n",
    "        labeling_year = labeled_image.labeling_date.year\n",
    "        gr = str(((labeling_year - 2018) % 5) + 1)\n",
    "\n",
    "        # Rotation group geometry\n",
    "        dep = labeled_image.satellite_image.dep\n",
    "        if labeling_year > 2020:\n",
    "            gr_geometries = self.new_gr_geometries\n",
    "        else:\n",
    "            gr_geometries = self.old_gr_geometries\n",
    "        gr_geometry = gr_geometries[gr_geometries.gr == gr].geometry\n",
    "        \n",
    "        # Intersection between rotation group geometry and \n",
    "        # satellite image geometry\n",
    "        geom = box(*labeled_image.satellite_image.bounds)\n",
    "        intersection_area = float(gr_geometry.intersection(geom).area)\n",
    "\n",
    "        # Validate if intersection area is large enough\n",
    "        if intersection_area / geom.area < self.area_pct_threshold:\n",
    "            return False\n",
    "        return True"
   ]
  },
  {
   "cell_type": "code",
   "execution_count": 169,
   "id": "741aa1aa-1696-4940-a635-de433beecb84",
   "metadata": {
    "tags": []
   },
   "outputs": [],
   "source": [
    "ril_filter = RILFilter(\"973\", 100000, 0.6)"
   ]
  },
  {
   "cell_type": "code",
   "execution_count": 170,
   "id": "d2302365-096d-4d07-a972-5be83cece7c7",
   "metadata": {
    "tags": []
   },
   "outputs": [],
   "source": [
    "labeled_image"
   ]
  },
  {
   "cell_type": "code",
   "execution_count": 171,
   "id": "5c28ba13-7c60-4d35-bd37-62c1d8ade72e",
   "metadata": {
    "tags": []
   },
   "outputs": [],
   "source": [
    "ril_filter.validate(labeled_image)"
   ]
  },
  {
   "cell_type": "markdown",
   "id": "cca243ae-d87f-4ce4-bb59-141abf5e1dec",
   "metadata": {},
   "source": [
    "## Est-ce que tout le territoire est couvert sur 5 ans ??"
   ]
  },
  {
   "cell_type": "markdown",
   "id": "766422d9-e226-472c-8b6e-867a2fc4b2e8",
   "metadata": {},
   "source": [
    "Naturellement non car les PC ont changé de groupe de rotation, mais on veut voir"
   ]
  },
  {
   "cell_type": "code",
   "execution_count": 172,
   "id": "51b6dc1f",
   "metadata": {
    "tags": []
   },
   "outputs": [],
   "source": [
    "images_paths = [f\"../{path_local_pleiades_data}/16bits/ORT_2022072050325085_U22N/\" + p for p in os.listdir(f\"../{path_local_pleiades_data}/16bits/ORT_2022072050325085_U22N/\")]"
   ]
  },
  {
   "cell_type": "code",
   "execution_count": 173,
   "id": "9b980d2a",
   "metadata": {
    "tags": []
   },
   "outputs": [],
   "source": [
    "date = datetime.strptime(re.search(r'ORT_(\\d{8})', images_paths[0]).group(1), '%Y%m%d')"
   ]
  },
  {
   "cell_type": "markdown",
   "id": "3a0b21d8-51f4-485f-b9be-df0fa9f26d18",
   "metadata": {},
   "source": [
    "On importes les `SatelliteImage` dans une liste."
   ]
  },
  {
   "cell_type": "code",
   "execution_count": 174,
   "id": "8b76b8ef",
   "metadata": {
    "tags": []
   },
   "outputs": [],
   "source": [
    "list_images = [\n",
    "     SatelliteImage.from_raster(\n",
    "        filename,\n",
    "        dep = \"973\",\n",
    "        date = date, \n",
    "        n_bands = 4\n",
    "    ) for filename in tqdm(images_paths)]"
   ]
  },
  {
   "cell_type": "markdown",
   "id": "e9148df4-9538-448e-8130-d33cd4c1eec1",
   "metadata": {},
   "source": [
    "On découpe les images initialement de dimension 2000 en plusieurs image de dimension `dim`. On ne garde ensuite que les images qui sont pertinentes à l'aide de la méthode `filter_images`. Une image contenant moins de 50% de pixels non noirs n'est pas retenue."
   ]
  },
  {
   "cell_type": "code",
   "execution_count": 175,
   "id": "375eb45a-6c39-4d10-baa6-348939561788",
   "metadata": {
    "tags": []
   },
   "outputs": [],
   "source": [
    "dim = 250"
   ]
  },
  {
   "cell_type": "code",
   "execution_count": 176,
   "id": "3bd2ad3a-c8a3-4622-835a-756d33c82a53",
   "metadata": {
    "tags": []
   },
   "outputs": [],
   "source": [
    "splitted_list_images = [im for sublist in tqdm(list_images) for im in sublist.split(250) if not is_too_black(im)]"
   ]
  },
  {
   "cell_type": "code",
   "execution_count": 177,
   "id": "9ab7ec56-0eea-4add-88d6-58fbe304b350",
   "metadata": {
    "tags": []
   },
   "outputs": [],
   "source": [
    "len(splitted_list_images)"
   ]
  },
  {
   "cell_type": "code",
   "execution_count": 178,
   "id": "7273ea41-d7b3-4355-b51c-046f6f8bce6a",
   "metadata": {
    "tags": []
   },
   "outputs": [],
   "source": [
    "from labeler import RILLabeler"
   ]
  },
  {
   "cell_type": "code",
   "execution_count": 179,
   "id": "6787eb19-86e7-4f5c-8556-6c121595ba52",
   "metadata": {
    "tags": []
   },
   "outputs": [],
   "source": [
    "labeler_RIL = RILLabeler(date, dep=\"973\", buffer_size=6, cap_style=3)"
   ]
  },
  {
   "cell_type": "markdown",
   "id": "4baa98bd-e2e4-443b-a6a7-4861068ff016",
   "metadata": {},
   "source": [
    "A l'aide de notre `labeler` on créer une `SegmentationLabeledSatelliteImage`."
   ]
  },
  {
   "cell_type": "code",
   "execution_count": 180,
   "id": "ac280f44-0087-422a-8c0e-434cef442bd8",
   "metadata": {
    "tags": []
   },
   "outputs": [],
   "source": [
    "date"
   ]
  },
  {
   "cell_type": "code",
   "execution_count": 181,
   "id": "b8e7f3f0-c25b-4313-86b4-b2fd5d80a51e",
   "metadata": {
    "tags": []
   },
   "outputs": [],
   "source": [
    "from dateutil.relativedelta import relativedelta\n",
    "date - relativedelta(years=1)"
   ]
  },
  {
   "cell_type": "code",
   "execution_count": 182,
   "id": "295dde0f-58cc-43bd-9f81-b55e712843ad",
   "metadata": {
    "tags": []
   },
   "outputs": [],
   "source": [
    "from filter import RILFilter"
   ]
  },
  {
   "cell_type": "code",
   "execution_count": 183,
   "id": "9c1c64ac-aa78-436b-8886-269805d7f207",
   "metadata": {
    "tags": []
   },
   "outputs": [],
   "source": [
    "ril_filter = RILFilter(\"973\", 100000, 0.6)"
   ]
  },
  {
   "cell_type": "code",
   "execution_count": 184,
   "id": "b83f4fd4-ad14-46e8-b77f-d2926ea96609",
   "metadata": {
    "tags": []
   },
   "outputs": [],
   "source": [
    "for i in range(5):\n",
    "    labeling_date = date - relativedelta(years=i)\n",
    "    \n",
    "    list_labeled_images = [\n",
    "     SegmentationLabeledSatelliteImage(\n",
    "        sat_im,\n",
    "        labeler_RIL.create_segmentation_label(sat_im),\n",
    "        \"RIL\",\n",
    "        labeling_date\n",
    "     ) for sat_im in tqdm(splitted_list_images)]\n",
    "    \n",
    "    filtered_list = [labeled_image for labeled_image in tqdm(list_labeled_images) if ril_filter.validate(labeled_image)]\n",
    "    \n",
    "    print(len(filtered_list))"
   ]
  },
  {
   "cell_type": "code",
   "execution_count": 185,
   "id": "ea67142b-1875-404d-b3d1-8f60e12d3144",
   "metadata": {
    "tags": []
   },
   "outputs": [],
   "source": [
    "1268 + 1892 + 1801 + 2047 + 1480"
   ]
  },
  {
   "cell_type": "code",
   "execution_count": 186,
   "id": "e55efbfb-d52e-4aef-9c27-6a66a754dd75",
   "metadata": {
    "tags": []
   },
   "outputs": [],
   "source": [
    "8488 / 13254"
   ]
  },
  {
   "cell_type": "markdown",
   "id": "4fad1a3d-8639-4c84-89ce-40fc1d4aa561",
   "metadata": {},
   "source": [
    "Sur 5 ans on rate quand même un peu.. On vire peut-être beaucoup de tuiles avec le 0.6 ?"
   ]
  },
  {
   "cell_type": "code",
   "execution_count": 187,
   "id": "24e6000c-acd0-4d79-acfb-23f195f4a846",
   "metadata": {
    "tags": []
   },
   "outputs": [],
   "source": [
    "ril_filter = RILFilter(\"973\", 100000, 0.1)"
   ]
  },
  {
   "cell_type": "code",
   "execution_count": 188,
   "id": "147825d3-ae42-4db9-a798-184654a8212f",
   "metadata": {
    "tags": []
   },
   "outputs": [],
   "source": [
    "for i in range(5):\n",
    "    labeling_date = date - relativedelta(years=i)\n",
    "    \n",
    "    list_labeled_images = [\n",
    "     SegmentationLabeledSatelliteImage(\n",
    "        sat_im,\n",
    "        labeler_RIL.create_segmentation_label(sat_im),\n",
    "        \"RIL\",\n",
    "        labeling_date\n",
    "     ) for sat_im in tqdm(splitted_list_images)]\n",
    "    \n",
    "    filtered_list = [labeled_image for labeled_image in tqdm(list_labeled_images) if ril_filter.validate(labeled_image)]\n",
    "    \n",
    "    print(len(filtered_list))"
   ]
  },
  {
   "cell_type": "code",
   "execution_count": 189,
   "id": "b20d40ab-afe4-4407-8544-3e31d55c3b66",
   "metadata": {
    "tags": []
   },
   "outputs": [],
   "source": [
    "1895 + 2636 + 2492 + 2771 + 2221"
   ]
  },
  {
   "cell_type": "code",
   "execution_count": 190,
   "id": "d1a24090-b9b0-411f-872d-d358a9fe5d8e",
   "metadata": {
    "tags": []
   },
   "outputs": [],
   "source": [
    "12015 / 13254"
   ]
  },
  {
   "cell_type": "markdown",
   "id": "59aeda77-d66e-4d2a-8775-b000de87b8a0",
   "metadata": {},
   "source": [
    "Check les gr_geometries"
   ]
  },
  {
   "cell_type": "code",
   "execution_count": 191,
   "id": "997a78f2-5357-4a91-aa66-e861e7856958",
   "metadata": {
    "tags": []
   },
   "outputs": [],
   "source": [
    "environment = get_environment()"
   ]
  },
  {
   "cell_type": "code",
   "execution_count": 192,
   "id": "e018babd-39a7-48dc-ab15-0d9df342e6e4",
   "metadata": {
    "tags": []
   },
   "outputs": [],
   "source": [
    "old_gr_path = os.path.join(\n",
    "    environment[\"bucket\"], environment[\"sources\"][\"old_gr\"][\"973\"]\n",
    ")\n",
    "new_gr_path = os.path.join(\n",
    "    environment[\"bucket\"], environment[\"sources\"][\"new_gr\"][\"973\"]\n",
    ")\n",
    "with fs.open(old_gr_path, \"r\") as f:\n",
    "    old_gr_geometries = gpd.read_file(f)\n",
    "with fs.open(new_gr_path, \"r\") as f:\n",
    "    new_gr_geometries = gpd.read_file(f)"
   ]
  },
  {
   "cell_type": "code",
   "execution_count": 193,
   "id": "dd92e56a-0ddc-40ca-92e3-f245b44c17b3",
   "metadata": {
    "tags": []
   },
   "outputs": [],
   "source": [
    "old_gr_geometries"
   ]
  },
  {
   "cell_type": "code",
   "execution_count": 194,
   "id": "c2aa8ca4-51c6-4de5-b267-3f0e44165d0e",
   "metadata": {
    "tags": []
   },
   "outputs": [],
   "source": [
    "new_gr_geometries"
   ]
  },
  {
   "cell_type": "code",
   "execution_count": 195,
   "id": "de7e7ce0-6b92-47b8-86ae-50333e335d99",
   "metadata": {
    "tags": []
   },
   "outputs": [],
   "source": [
    "old_gr_geometries.dissolve().geometry[0]"
   ]
  },
  {
   "cell_type": "code",
   "execution_count": 196,
   "id": "ddcaab05-78e7-4fce-935c-1deaabf9387e",
   "metadata": {
    "tags": []
   },
   "outputs": [],
   "source": [
    "new_gr_geometries.dissolve().geometry[0]"
   ]
  },
  {
   "cell_type": "code",
   "execution_count": 197,
   "id": "a3982a74-6830-4bcb-95fa-99a42c7b10ab",
   "metadata": {
    "tags": []
   },
   "outputs": [],
   "source": [
    "list_labeled_images[0].satellite_image.bounds"
   ]
  },
  {
   "cell_type": "code",
   "execution_count": 198,
   "id": "56e7c7a8-8b93-4fe4-9376-965ccd0c2fe6",
   "metadata": {
    "tags": []
   },
   "outputs": [],
   "source": [
    "box(*list_labeled_images[0].satellite_image.bounds)"
   ]
  },
  {
   "cell_type": "code",
   "execution_count": 199,
   "id": "417c3043-212e-4caa-905b-d864c58a0cd4",
   "metadata": {
    "tags": []
   },
   "outputs": [],
   "source": [
    "gpd.GeoDataFrame(gpd.GeoSeries([box(*im.satellite_image.bounds) for im in list_labeled_images]), columns=['geometry']).dissolve().geometry[0]"
   ]
  },
  {
   "cell_type": "code",
   "execution_count": 200,
   "id": "dcf4bdd4-781e-49da-bf68-d54f9dfc6030",
   "metadata": {
    "tags": []
   },
   "outputs": [],
   "source": [
    "shapes = []\n",
    "\n",
    "for i in range(5):\n",
    "    labeling_date = date - relativedelta(years=i)\n",
    "    \n",
    "    list_labeled_images = [\n",
    "     SegmentationLabeledSatelliteImage(\n",
    "        sat_im,\n",
    "        labeler_RIL.create_segmentation_label(sat_im),\n",
    "        \"RIL\",\n",
    "        labeling_date\n",
    "     ) for sat_im in tqdm(splitted_list_images)]\n",
    "    \n",
    "    filtered_list = [labeled_image for labeled_image in tqdm(list_labeled_images) if ril_filter.validate(labeled_image)]\n",
    "    shapes.append(\n",
    "        gpd.GeoDataFrame(gpd.GeoSeries([box(*im.satellite_image.bounds) for im in filtered_list]), columns=['geometry']).dissolve().geometry[0]\n",
    "    )"
   ]
  },
  {
   "cell_type": "code",
   "execution_count": 201,
   "id": "9907d918-193a-46e6-b5ec-13b4329b09f6",
   "metadata": {
    "tags": []
   },
   "outputs": [],
   "source": [
    "shapes"
   ]
  },
  {
   "cell_type": "code",
   "execution_count": 202,
   "id": "6225e29e-2c58-40e8-bf47-178892be9b30",
   "metadata": {
    "tags": []
   },
   "outputs": [],
   "source": [
    "shapes[0]"
   ]
  },
  {
   "cell_type": "code",
   "execution_count": 203,
   "id": "5169aeea-ee82-4f14-ab62-25c873b4fe17",
   "metadata": {
    "tags": []
   },
   "outputs": [],
   "source": [
    "shapes[1]"
   ]
  },
  {
   "cell_type": "code",
   "execution_count": 204,
   "id": "cc4d7e95-ea65-4249-a7ac-c76e29c96449",
   "metadata": {
    "tags": []
   },
   "outputs": [],
   "source": [
    "shapes[2]"
   ]
  },
  {
   "cell_type": "code",
   "execution_count": 205,
   "id": "24d347b0-eaa4-4845-973c-16edb3d435b0",
   "metadata": {
    "tags": []
   },
   "outputs": [],
   "source": [
    "shapes[3]"
   ]
  },
  {
   "cell_type": "code",
   "execution_count": 206,
   "id": "6e5e5179-a263-4cad-a12f-0d6d9169a344",
   "metadata": {
    "tags": []
   },
   "outputs": [],
   "source": [
    "shapes[4]"
   ]
  },
  {
   "cell_type": "code",
   "execution_count": 207,
   "id": "ab56e984-3a1d-4fc0-94cd-232369621990",
   "metadata": {
    "tags": []
   },
   "outputs": [],
   "source": [
    "gpd.GeoDataFrame(gpd.GeoSeries([shape for shape in shapes]), columns=['geometry']).dissolve().geometry[0]"
   ]
  },
  {
   "cell_type": "code",
   "execution_count": 208,
   "id": "270a672e-bc8c-45e1-9473-680394119aa6",
   "metadata": {
    "tags": []
   },
   "outputs": [],
   "source": [
    "len(splitted_list_images)"
   ]
  },
  {
   "cell_type": "code",
   "execution_count": 209,
   "id": "810bd063-e4b7-48bb-b3bf-0399187292b0",
   "metadata": {
    "tags": []
   },
   "outputs": [],
   "source": [
    "len(list_labeled_images)"
   ]
  },
  {
   "cell_type": "markdown",
   "id": "fd96d3a1-0773-4515-8c37-63018245d467",
   "metadata": {},
   "source": [
    "Ok on dirait qu'on a bien tout.. Cool"
   ]
  },
  {
   "cell_type": "code",
   "execution_count": null,
   "id": "b48eb671-d68c-42d7-a465-09fa0cb235f9",
   "metadata": {},
   "outputs": [],
   "source": []
  }
 ],
 "metadata": {
  "kernelspec": {
   "display_name": "Python 3 (ipykernel)",
   "language": "python",
   "name": "python3"
  },
  "language_info": {
   "codemirror_mode": {
    "name": "ipython",
    "version": 3
   },
   "file_extension": ".py",
   "mimetype": "text/x-python",
   "name": "python",
   "nbconvert_exporter": "python",
   "pygments_lexer": "ipython3",
   "version": "3.10.9"
  }
 },
 "nbformat": 4,
 "nbformat_minor": 5
}
