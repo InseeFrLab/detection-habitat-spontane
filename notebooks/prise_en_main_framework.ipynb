{
 "cells": [
  {
   "cell_type": "markdown",
   "id": "b62f9e56-41a5-4002-a43a-161cf06505d6",
   "metadata": {},
   "source": [
    "# But prise en main des objets créés par mes collègues et lancement d'un entrapînement à partir de la BDTOPO ou du RIL en tant que LAbel ??"
   ]
  },
  {
   "cell_type": "code",
   "execution_count": 18,
   "id": "1036e2bb-2c0a-4c53-a6a5-e19e45ee6206",
   "metadata": {
    "tags": []
   },
   "outputs": [],
   "source": [
    "import sys\n",
    "sys.path.append('../src')\n",
    "from satellite_image import SatelliteImage\n",
    "from utils import *\n",
    "from utils import get_root_path\n"
   ]
  },
  {
   "cell_type": "code",
   "execution_count": 34,
   "id": "d88861cf-4cdb-4474-911a-e154b0b24f1d",
   "metadata": {
    "tags": []
   },
   "outputs": [],
   "source": [
    "import yaml\n",
    "import re"
   ]
  },
  {
   "cell_type": "code",
   "execution_count": 2,
   "id": "922e0d16-26df-4c1f-a364-4d285fb6fda1",
   "metadata": {
    "tags": []
   },
   "outputs": [],
   "source": [
    "import s3fs\n",
    "fs = s3fs.S3FileSystem(client_kwargs={'endpoint_url': 'https://'+'minio.lab.sspcloud.fr'},key ='HUIYB810PA9ZAN2MU9SM', secret = '9FIaaomfT4plPjC14n2InjGEYo3C7OVWwuAxZ5+P', token = 'eyJhbGciOiJIUzUxMiIsInR5cCI6IkpXVCJ9.eyJhY2Nlc3NLZXkiOiJIVUlZQjgxMFBBOVpBTjJNVTlTTSIsImFsbG93ZWQtb3JpZ2lucyI6WyIqIl0sImF1ZCI6WyJtaW5pby1kYXRhbm9kZSIsIm9ueXhpYSIsImFjY291bnQiXSwiYXV0aF90aW1lIjoxNjc4MTAxMjU5LCJhenAiOiJvbnl4aWEiLCJlbWFpbCI6ImNsZW1lbnQuZ3VpbGxvQGluc2VlLmZyIiwiZW1haWxfdmVyaWZpZWQiOnRydWUsImV4cCI6MTY3ODI4ODY4MiwiZmFtaWx5X25hbWUiOiJHdWlsbG8iLCJnaXZlbl9uYW1lIjoiQ2zDqW1lbnQiLCJncm91cHMiOlsiY2hhbGxlbmdlZGF0YS1lbnMiLCJmdW5hdGhvbiIsInNsdW1zLWRldGVjdGlvbiJdLCJpYXQiOjE2NzgxMDEyNjAsImlzcyI6Imh0dHBzOi8vYXV0aC5sYWIuc3NwY2xvdWQuZnIvYXV0aC9yZWFsbXMvc3NwY2xvdWQiLCJqdGkiOiIwZmVkMDQ2My0zMWQ3LTRlMDMtYjJjZS04MDhkNWEyOTI4ZjkiLCJsb2NhbGUiOiJlbiIsIm5hbWUiOiJDbMOpbWVudCBHdWlsbG8iLCJub25jZSI6ImY3M2VhNGU1LTk4MzEtNGM2Yy04ZDhjLTU5MDMwYWE1ZTU3NiIsInBvbGljeSI6InN0c29ubHkiLCJwcmVmZXJyZWRfdXNlcm5hbWUiOiJjZ3VpbGxvIiwicmVhbG1fYWNjZXNzIjp7InJvbGVzIjpbIm9mZmxpbmVfYWNjZXNzIiwidW1hX2F1dGhvcml6YXRpb24iXX0sInJlc291cmNlX2FjY2VzcyI6eyJhY2NvdW50Ijp7InJvbGVzIjpbIm1hbmFnZS1hY2NvdW50IiwibWFuYWdlLWFjY291bnQtbGlua3MiLCJ2aWV3LXByb2ZpbGUiXX19LCJzY29wZSI6Im9wZW5pZCBwcm9maWxlIGdyb3VwcyBlbWFpbCIsInNlc3Npb25Qb2xpY3kiOiJleUpXWlhKemFXOXVJam9pTWpBeE1pMHhNQzB4TnlJc0lsTjBZWFJsYldWdWRDSTZXM3NpUldabVpXTjBJam9pUVd4c2IzY2lMQ0pCWTNScGIyNGlPbHNpY3pNNktpSmRMQ0pTWlhOdmRYSmpaU0k2V3lKaGNtNDZZWGR6T25Nek9qbzZjSEp2YW1WMExYTnNkVzF6TFdSbGRHVmpkR2x2YmlJc0ltRnlianBoZDNNNmN6TTZPanB3Y205cVpYUXRjMngxYlhNdFpHVjBaV04wYVc5dUx5b2lYWDBzZXlKRlptWmxZM1FpT2lKQmJHeHZkeUlzSWtGamRHbHZiaUk2V3lKek16cE1hWE4wUW5WamEyVjBJbDBzSWxKbGMyOTFjbU5sSWpwYkltRnlianBoZDNNNmN6TTZPam9xSWwwc0lrTnZibVJwZEdsdmJpSTZleUpUZEhKcGJtZE1hV3RsSWpwN0luTXpPbkJ5WldacGVDSTZJbVJwWm1aMWMybHZiaThxSW4xOWZTeDdJa1ZtWm1WamRDSTZJa0ZzYkc5M0lpd2lRV04wYVc5dUlqcGJJbk16T2tkbGRFOWlhbVZqZENKZExDSlNaWE52ZFhKalpTSTZXeUpoY200NllYZHpPbk16T2pvNktpOWthV1ptZFhOcGIyNHZLaUpkZlYxOSIsInNlc3Npb25fc3RhdGUiOiJjZGNhODY0Yy1hYzIyLTQzZTAtODNiYi04YjIyNTE0YTNmODQiLCJzaWQiOiJjZGNhODY0Yy1hYzIyLTQzZTAtODNiYi04YjIyNTE0YTNmODQiLCJzdWIiOiIzYjA2ZWZhNC01OWZlLTQzYzgtYTAyYi1hOTRkOWI0YjU0NGUiLCJ0eXAiOiJCZWFyZXIifQ.9iMAuRs0THRA75OvzFxc7U8BKRTkG1d2P1ZmkafMfJUpB1vDNcPNGUqvJH1CWBEeaXDkduDPfd3wi4JORHhagw')"
   ]
  },
  {
   "cell_type": "code",
   "execution_count": 20,
   "id": "17822485-1f07-4029-b3a9-7f235be6f917",
   "metadata": {
    "tags": []
   },
   "outputs": [],
   "source": [
    "fs.ls('projet-slums-detection/Donnees/RIL/')"
   ]
  },
  {
   "cell_type": "code",
   "execution_count": 28,
   "id": "eb54c9ee-d0c4-4f76-ab06-09fcdaf0e115",
   "metadata": {
    "tags": []
   },
   "outputs": [],
   "source": [
    "environment[\"local-path\"][\"PLEIADES\"]"
   ]
  },
  {
   "cell_type": "code",
   "execution_count": 29,
   "id": "ac393a68-3256-429a-8170-e5eada609955",
   "metadata": {
    "tags": []
   },
   "outputs": [],
   "source": [
    "with open(\"../environment.yml\") as f:\n",
    "    environment = yaml.safe_load(f)\n",
    "\n",
    "root_path = get_root_path()\n",
    "bucket = environment[\"bucket\"]\n",
    "path_s3_cayenne_data = environment[\"sources\"][\"PLEIADES\"]\n",
    "path_local_cayenne_data = os.path.join(root_path, environment[\"local-path\"][\"PLEIADES\"])\n"
   ]
  },
  {
   "cell_type": "code",
   "execution_count": 35,
   "id": "202d9fac-63de-4a95-ac3a-6609f1fcbfd3",
   "metadata": {
    "tags": []
   },
   "outputs": [],
   "source": [
    "filename = 'Cayenne_200722/16bits/ORT_2022072050325085_U22N/ORT_2022072050325085_0353_0545_U22N_16Bits.jp2'\n",
    "date = datetime.strptime(re.search(r'ORT_(\\d{8})', filename).group(1), '%Y%m%d')\n",
    "date"
   ]
  },
  {
   "cell_type": "code",
   "execution_count": 80,
   "id": "52f33366-c3e3-48b5-8332-a9e641595a2d",
   "metadata": {
    "tags": []
   },
   "outputs": [],
   "source": [
    "image = SatelliteImage.from_raster(\n",
    "        filename,\n",
    "        date = date, \n",
    "        n_bands = 4,\n",
    "        dep = \"973\"\n",
    "    )"
   ]
  },
  {
   "cell_type": "code",
   "execution_count": 58,
   "id": "5e108280-c291-4b26-8f09-80666e69816c",
   "metadata": {
    "tags": []
   },
   "outputs": [],
   "source": [
    "list_images = image.split(250)\n",
    "list_images[0].array\n",
    "len(list_images)"
   ]
  },
  {
   "cell_type": "code",
   "execution_count": 61,
   "id": "4b1ab422-acb0-48ef-8584-071f5ff5f4c6",
   "metadata": {
    "tags": []
   },
   "outputs": [],
   "source": [
    "image.plot([0,1,2])\n",
    "image.plot([3,1,2])"
   ]
  },
  {
   "cell_type": "markdown",
   "id": "8ea209d4-4c1b-43c1-8943-90f944f966bb",
   "metadata": {},
   "source": [
    "## Représenter la liste des images sous forme de grille (ajouter une fonction)"
   ]
  },
  {
   "cell_type": "code",
   "execution_count": 71,
   "id": "0df94590-74c7-4f54-a328-4a66d5d7ddcc",
   "metadata": {
    "tags": []
   },
   "outputs": [],
   "source": [
    "[im.bounds for im in list_images[1:10]] # Il suffit d'ordonner ça !"
   ]
  },
  {
   "cell_type": "code",
   "execution_count": 76,
   "id": "6052380d-9ba3-4886-a271-a5f8f09b7d9c",
   "metadata": {
    "tags": []
   },
   "outputs": [],
   "source": [
    "image.bounds[0]\n",
    "image.bounds[1]\n",
    "image.bounds[2]\n",
    "# Plus qu'à utiliser la fonction que j'ai créée pour l'affichage d'une grille ?\n",
    "# mettre certains notebooks dans du #old !"
   ]
  },
  {
   "cell_type": "code",
   "execution_count": 78,
   "id": "3cc6bef3-d5fe-4902-a690-b1a732c3a6a6",
   "metadata": {
    "tags": []
   },
   "outputs": [],
   "source": [
    "64*256 # nb de patchs utilisables pour entrainer un modèle, why not ?"
   ]
  },
  {
   "cell_type": "code",
   "execution_count": 86,
   "id": "edf8fd05-cc00-46b8-b989-c12c2a58b0dd",
   "metadata": {
    "tags": []
   },
   "outputs": [],
   "source": [
    "#image.plot([0,1,2])\n",
    "image.normalized # ok le plot normalise l'image donc attention  ? j'aurais tendanc e à l'enlever moi"
   ]
  },
  {
   "cell_type": "markdown",
   "id": "73341327-bee3-41a4-a256-50a6453758b5",
   "metadata": {},
   "source": [
    "## Récupération des labellisations"
   ]
  },
  {
   "cell_type": "code",
   "execution_count": 88,
   "id": "eb802823-fdc2-484d-9aba-65c98dc5d61a",
   "metadata": {
    "tags": []
   },
   "outputs": [],
   "source": [
    "from labeler import RILLabeler\n",
    "from labeled_satellite_image import SegmentationLabeledSatelliteImage\n",
    "\n",
    "labeler = RILLabeler(date, dep = \"973\")"
   ]
  }
 ],
 "metadata": {
  "kernelspec": {
   "display_name": "Python 3 (ipykernel)",
   "language": "python",
   "name": "python3"
  },
  "language_info": {
   "codemirror_mode": {
    "name": "ipython",
    "version": 3
   },
   "file_extension": ".py",
   "mimetype": "text/x-python",
   "name": "python",
   "nbconvert_exporter": "python",
   "pygments_lexer": "ipython3",
   "version": "3.10.8"
  }
 },
 "nbformat": 4,
 "nbformat_minor": 5
}
