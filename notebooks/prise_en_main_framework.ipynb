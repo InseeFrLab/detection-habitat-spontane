{
 "cells": [
  {
   "cell_type": "markdown",
   "id": "b62f9e56-41a5-4002-a43a-161cf06505d6",
   "metadata": {},
   "source": [
    "# But prise en main des objets créés par mes collègues et lancement d'un entrapînement à partir de la BDTOPO ou du RIL en tant que LAbel ??"
   ]
  },
  {
   "cell_type": "code",
   "execution_count": null,
   "id": "1ad0ef02-9909-434a-bc16-43223aa9c4f0",
   "metadata": {
    "tags": []
   },
   "outputs": [],
   "source": [
    "%load_ext autoreload\n",
    "%autoreload 2"
   ]
  },
  {
   "cell_type": "code",
   "execution_count": null,
   "id": "4cdf11d8-097b-45f6-827c-c19870bf6ac7",
   "metadata": {
    "tags": []
   },
   "outputs": [],
   "source": [
    "! pip install rasterio  -q -q -q\n",
    "! pip install geopandas -q -q -q\n",
    "! pip install matplotlib -q -q -q"
   ]
  },
  {
   "cell_type": "code",
   "execution_count": null,
   "id": "1036e2bb-2c0a-4c53-a6a5-e19e45ee6206",
   "metadata": {
    "tags": []
   },
   "outputs": [],
   "source": [
    "import sys\n",
    "sys.path.append('../src')\n",
    "from satellite_image import SatelliteImage\n",
    "from utils import *\n"
   ]
  },
  {
   "cell_type": "code",
   "execution_count": null,
   "id": "d88861cf-4cdb-4474-911a-e154b0b24f1d",
   "metadata": {
    "tags": []
   },
   "outputs": [],
   "source": [
    "import yaml\n",
    "import re\n",
    "import s3fs\n",
    "import numpy as np\n",
    "import matplotlib.pyplot as plt"
   ]
  },
  {
   "cell_type": "code",
   "execution_count": null,
   "id": "17822485-1f07-4029-b3a9-7f235be6f917",
   "metadata": {
    "tags": []
   },
   "outputs": [],
   "source": [
    "update_storage_access()"
   ]
  },
  {
   "cell_type": "code",
   "execution_count": null,
   "id": "ac393a68-3256-429a-8170-e5eada609955",
   "metadata": {
    "tags": []
   },
   "outputs": [],
   "source": [
    "environment = get_environment()\n",
    "\n",
    "root_path = get_root_path()\n",
    "bucket = environment[\"bucket\"]\n",
    "path_s3_cayenne_data = environment[\"sources\"][\"PLEIADES\"]\n",
    "path_local_cayenne_data = os.path.join(root_path, environment[\"local-path\"][\"PLEIADES\"])\n",
    "bucket = environment[\"bucket\"]\n",
    "\n",
    "path_s3_pleiades_data = environment[\"sources\"][\"PLEIADES\"]\n",
    "path_s3_bdtopo_data = environment[\"sources\"][\"BDTOPO\"][2022][\"guyane\"]\n",
    "path_local_pleiades_data = environment[\"local-path\"][\"PLEIADES\"]\n",
    "path_local_bdtopo_data = environment[\"local-path\"][\"BDTOPO\"][2022][\"guyane\"]\n",
    "\n",
    "\n",
    "fs = s3fs.S3FileSystem(client_kwargs={\"endpoint_url\": \"https://minio.lab.sspcloud.fr\"})"
   ]
  },
  {
   "cell_type": "code",
   "execution_count": null,
   "id": "e4e026e3-1170-4316-8747-9216053957a5",
   "metadata": {
    "tags": []
   },
   "outputs": [],
   "source": [
    "# DL PLEIADE\n",
    "fs.download(\n",
    "        rpath=f\"{bucket}/{path_s3_pleiades_data}\",\n",
    "        lpath=f\"../{path_local_pleiades_data}\",\n",
    "        recursive=True)"
   ]
  },
  {
   "cell_type": "code",
   "execution_count": null,
   "id": "bb31a12f-5fbd-4e08-9f37-fb195fb13804",
   "metadata": {
    "tags": []
   },
   "outputs": [],
   "source": [
    "# DL BDTOPO\n",
    "fs.download(\n",
    "        rpath=f\"{bucket}/{path_s3_bdtopo_data}\",\n",
    "        lpath=f\"../{path_local_bdtopo_data}\",\n",
    "        recursive=True)"
   ]
  },
  {
   "cell_type": "markdown",
   "id": "39f40d68-8ced-4f3d-bb47-accf9e676935",
   "metadata": {},
   "source": [
    "## Chargement données pleiades"
   ]
  },
  {
   "cell_type": "code",
   "execution_count": null,
   "id": "202d9fac-63de-4a95-ac3a-6609f1fcbfd3",
   "metadata": {
    "tags": []
   },
   "outputs": [],
   "source": [
    "filename = '../data/PLEIADES/Cayenne/16bits/ORT_2022072050325085_U22N/ORT_2022072050325085_0353_0545_U22N_16Bits.jp2'\n",
    "date = datetime.strptime(re.search(r'ORT_(\\d{8})', filename).group(1), '%Y%m%d')\n",
    "date"
   ]
  },
  {
   "cell_type": "code",
   "execution_count": null,
   "id": "52f33366-c3e3-48b5-8332-a9e641595a2d",
   "metadata": {
    "tags": []
   },
   "outputs": [],
   "source": [
    "image = SatelliteImage.from_raster(\n",
    "        filename,\n",
    "        date = date, \n",
    "        n_bands = 4,\n",
    "        dep = \"973\"\n",
    "    )\n",
    "image.normalize()"
   ]
  },
  {
   "cell_type": "code",
   "execution_count": null,
   "id": "5e108280-c291-4b26-8f09-80666e69816c",
   "metadata": {
    "tags": []
   },
   "outputs": [],
   "source": [
    "list_images = image.split(250)\n",
    "list_images[0].array\n",
    "len(list_images)"
   ]
  },
  {
   "cell_type": "code",
   "execution_count": null,
   "id": "4b1ab422-acb0-48ef-8584-071f5ff5f4c6",
   "metadata": {
    "tags": []
   },
   "outputs": [],
   "source": [
    "image.plot([0,1,2])\n",
    "image.plot([3,1,2])"
   ]
  },
  {
   "cell_type": "markdown",
   "id": "8ea209d4-4c1b-43c1-8943-90f944f966bb",
   "metadata": {},
   "source": [
    "## Représenter la liste des images sous forme de grille (ajouter une fonction)"
   ]
  },
  {
   "cell_type": "code",
   "execution_count": null,
   "id": "725ff1f3-4351-42c4-affe-8d6a3b713ee2",
   "metadata": {
    "tags": []
   },
   "outputs": [],
   "source": [
    "SatelliteImage.plot_list_satellite_images(list_images,bands_indices = [3,1,2])"
   ]
  },
  {
   "cell_type": "code",
   "execution_count": null,
   "id": "3cc6bef3-d5fe-4902-a690-b1a732c3a6a6",
   "metadata": {
    "tags": []
   },
   "outputs": [],
   "source": [
    "64*256 # nb de patchs utilisables pour entrainer un modèle, why not ?"
   ]
  },
  {
   "cell_type": "code",
   "execution_count": null,
   "id": "edf8fd05-cc00-46b8-b989-c12c2a58b0dd",
   "metadata": {
    "tags": []
   },
   "outputs": [],
   "source": [
    "#image.plot([0,1,2])\n",
    "image.normalized "
   ]
  },
  {
   "cell_type": "markdown",
   "id": "73341327-bee3-41a4-a256-50a6453758b5",
   "metadata": {},
   "source": [
    "## Récupération des labellisations"
   ]
  },
  {
   "cell_type": "code",
   "execution_count": null,
   "id": "eb802823-fdc2-484d-9aba-65c98dc5d61a",
   "metadata": {
    "tags": []
   },
   "outputs": [],
   "source": [
    "from labeler import RILLabeler"
   ]
  },
  {
   "cell_type": "markdown",
   "id": "159d55e2-1a36-445a-acfa-c6cbddab67dd",
   "metadata": {
    "tags": []
   },
   "source": [
    "Définition d'une instance de labeller (on donneune datez et un département et on va chercher les labels associés RIL à côté)"
   ]
  },
  {
   "cell_type": "code",
   "execution_count": null,
   "id": "57a3aa5d-08a2-4d72-bc3e-501ae8728366",
   "metadata": {
    "tags": []
   },
   "outputs": [],
   "source": [
    "labeler = RILLabeler(date, dep = \"973\", buffer_size= 20)"
   ]
  },
  {
   "cell_type": "markdown",
   "id": "38e6307e-dc63-4679-b9a6-be5e40d1cfe4",
   "metadata": {},
   "source": [
    "Le labeller est chargé une bonne fois pour toute donc pas de problème"
   ]
  },
  {
   "cell_type": "code",
   "execution_count": null,
   "id": "6a331c3f-8c08-4359-8115-196feb29893b",
   "metadata": {
    "tags": []
   },
   "outputs": [],
   "source": [
    "mask = labeler.create_segmentation_label(image) # va chercher les données et rasterise les bounding box"
   ]
  },
  {
   "cell_type": "code",
   "execution_count": null,
   "id": "90ff4bf7-35ce-42e6-a4ed-c41bf4645b8d",
   "metadata": {
    "tags": []
   },
   "outputs": [],
   "source": [
    "image.normalize\n",
    "fig, ax = plt.subplots(figsize=(5, 5))\n",
    "ax.imshow(np.transpose(image.array_to_plot, (1, 2, 0))[:,:,:3])\n",
    "ax.imshow(mask, alpha=0.3) # magnifique ! Faire une fonction  de représentation  ? # faire du découpage ? ou une fonction de sélection aléatoire d'une tuile ?"
   ]
  },
  {
   "cell_type": "markdown",
   "id": "7755dab5-9bbf-4f4e-bd1e-d51881fa9d4b",
   "metadata": {},
   "source": [
    "# Plus qu'à faire la même chose sur le mont baduel :)"
   ]
  },
  {
   "cell_type": "code",
   "execution_count": null,
   "id": "5cea8a0d-ca89-44c6-ad6f-63adf8418869",
   "metadata": {
    "tags": []
   },
   "outputs": [],
   "source": [
    "filename = '../data/PLEIADES/Cayenne/16bits/ORT_2022072050325085_U22N/ORT_2022072050325085_0354_0545_U22N_16Bits.jp2'\n",
    "date = datetime.strptime(re.search(r'ORT_(\\d{8})', filename).group(1), '%Y%m%d')\n",
    "date\n",
    "\n",
    "image = SatelliteImage.from_raster(\n",
    "        filename,\n",
    "        date = date, \n",
    "        n_bands = 4,\n",
    "        dep = \"973\"\n",
    "    )\n",
    "\n",
    "image.plot([3,1,2])"
   ]
  },
  {
   "cell_type": "code",
   "execution_count": null,
   "id": "ce1f0156-2863-4778-8088-7b3e3c7842fc",
   "metadata": {
    "tags": []
   },
   "outputs": [],
   "source": [
    "SatelliteImage.plot_list_satellite_images(image.split(250),[0,1,2])"
   ]
  },
  {
   "cell_type": "markdown",
   "id": "602d2979-3612-4e2b-a1b5-7a87f9138b39",
   "metadata": {},
   "source": [
    "## Plot liste satellite images"
   ]
  },
  {
   "cell_type": "markdown",
   "id": "70ccb1ec-8903-426e-b2c3-483a5495b36c",
   "metadata": {},
   "source": [
    "Ici je teste la fonction plot list satellite image maius sur l'ensmeble des images disponible sur Cayenne\n",
    "1) Je mets toutes les images dans une liste de satellite images\n",
    "2) je trace le quadrillage"
   ]
  },
  {
   "cell_type": "code",
   "execution_count": null,
   "id": "01d3e94e-594e-49d2-a635-3fc3bbc88efa",
   "metadata": {
    "tags": []
   },
   "outputs": [],
   "source": [
    "im_dir = \"../data/PLEIADES/Cayenne/16bits/ORT_2022072050325085_U22N/\"\n",
    "liste  = os.listdir(im_dir)\n",
    "list_path_image = np.array([im_dir+l for l in liste])\n",
    "\n",
    "\n",
    "liste_globale_image = [ SatelliteImage.from_raster(\n",
    "        filename,\n",
    "        date = date, \n",
    "        n_bands = 4,\n",
    "        dep = \"973\"\n",
    "    ) for filename in list_path_image]\n"
   ]
  },
  {
   "cell_type": "code",
   "execution_count": null,
   "id": "ce200647-c721-4276-a172-a13bb394a2a4",
   "metadata": {
    "tags": []
   },
   "outputs": [],
   "source": [
    "for im in liste_globale_image:\n",
    "    im.normalize()"
   ]
  },
  {
   "cell_type": "code",
   "execution_count": null,
   "id": "cf4380b6-5231-4e9d-80ca-e631db52a3d4",
   "metadata": {
    "tags": []
   },
   "outputs": [],
   "source": [
    "SatelliteImage.plot_list_satellite_images(liste_globale_image,[0,1,2])"
   ]
  },
  {
   "cell_type": "markdown",
   "id": "c6b2082a-cee1-4d66-a60b-539646fc7d25",
   "metadata": {},
   "source": [
    "## Ril"
   ]
  },
  {
   "cell_type": "code",
   "execution_count": null,
   "id": "f2d8be57-dcb1-4e5d-93de-a8fb64752bf9",
   "metadata": {
    "tags": []
   },
   "outputs": [],
   "source": [
    "\n",
    "labeler = RILLabeler(date, dep = \"973\", buffer_size= 20)\n",
    "mask = labeler.create_segmentation_label(image)\n",
    "#image.normalize()\n",
    "fig, ax = plt.subplots(figsize=(5, 5))\n",
    "ax.imshow(np.transpose(image.array_to_plot, (1, 2, 0))[:,:,:3])\n",
    "ax.imshow(mask, alpha=0.3) # magnifique ! Faire une fonction  de représentation  ? # faire du découpage ? ou une fonction de sélection aléatoire d'une tuile ?"
   ]
  },
  {
   "cell_type": "markdown",
   "id": "93ef6686-d44a-4671-8e01-8cc8552f96b5",
   "metadata": {},
   "source": [
    "## BD TOPO"
   ]
  },
  {
   "cell_type": "code",
   "execution_count": null,
   "id": "2646d6c6-34a0-4e34-8ca8-756f9d9acfae",
   "metadata": {
    "tags": []
   },
   "outputs": [],
   "source": [
    "from labeler import BDTOPOLabeler"
   ]
  },
  {
   "cell_type": "code",
   "execution_count": null,
   "id": "9777bc90-46bc-4fbb-8afb-338fb40997f1",
   "metadata": {
    "tags": []
   },
   "outputs": [],
   "source": [
    "labeler_bdtopo = BDTOPOLabeler(date, dep = \"973\") # charghement lenbt nécessite d'avoir downloader la BDTOPO avant. fluidifier ça ?"
   ]
  },
  {
   "cell_type": "code",
   "execution_count": null,
   "id": "650f6834-ae1d-40bf-9810-d79cbc341a6b",
   "metadata": {
    "tags": []
   },
   "outputs": [],
   "source": [
    "mask = labeler_bdtopo.create_segmentation_label(image)"
   ]
  },
  {
   "cell_type": "code",
   "execution_count": null,
   "id": "f23d3380-169d-4e85-9df8-320fdbc88377",
   "metadata": {
    "tags": []
   },
   "outputs": [],
   "source": [
    "if image.normalize == False:\n",
    "    image.normalize\n",
    "fig, ax = plt.subplots(figsize=(5, 5))\n",
    "ax.imshow(np.transpose(image.array_to_plot, (1, 2, 0))[:,:,:3])\n",
    "ax.imshow(mask, alpha=0.3) # magnifique ! Faire une fonction  de représentation  ? # faire du découpage ? ou une fonction de sélection aléatoire d'une tuile ?"
   ]
  },
  {
   "cell_type": "markdown",
   "id": "0742a713-5859-4e9f-89eb-70b4cbc932ea",
   "metadata": {},
   "source": [
    "Le chargement lent milite pour repréparer le jeu de données en amont une fois qu'on est fixé sur la taille avant de créer les Dataset etc.."
   ]
  },
  {
   "cell_type": "markdown",
   "id": "05cd2a66-ae57-4669-bc88-249a0f67adf8",
   "metadata": {},
   "source": [
    "Le moint Baduel a bien été cartographié !"
   ]
  },
  {
   "cell_type": "markdown",
   "id": "34e5dfb6-50d9-41e2-9a13-3069f66cf64e",
   "metadata": {},
   "source": [
    "## Mélange images Labels !"
   ]
  },
  {
   "cell_type": "code",
   "execution_count": null,
   "id": "73c019ed-4368-4e93-9cd7-d35b6a0ea9a8",
   "metadata": {
    "tags": []
   },
   "outputs": [],
   "source": [
    "from labeled_satellite_image import SegmentationLabeledSatelliteImage"
   ]
  },
  {
   "cell_type": "markdown",
   "id": "6cb19495-b160-49f6-badf-83f73d828ae5",
   "metadata": {},
   "source": [
    "Ok ici on a des objets qui fonct cohabiter image et son label (image + segmentation mask (RIL ou BDTOPO))\n",
    "On pourra faire la même chose avec la detection ou l'optique patchs etc..(il nous faut des fonctions de représentation à chaque fois) \n",
    "\n",
    "- de superposition image et label\n",
    "- et de mise cote à cote\n",
    "- possibnilité de revenir à la géométrie à chaque fois\n"
   ]
  },
  {
   "cell_type": "code",
   "execution_count": null,
   "id": "e35c8da0-0e5c-45d2-9acd-703b9e97f1d7",
   "metadata": {
    "tags": []
   },
   "outputs": [],
   "source": [
    "#image.normalize()\n",
    "image_labellisee = SegmentationLabeledSatelliteImage(image,label = mask, labeling_date = date, source = \"BDTOPO\")\n"
   ]
  },
  {
   "cell_type": "code",
   "execution_count": null,
   "id": "483330df-3d2b-45e4-bad7-45c7dc4dde4d",
   "metadata": {
    "tags": []
   },
   "outputs": [],
   "source": [
    "# 1) plot image et masque superposés\n",
    "image_labellisee.plot([0,1,2])\n",
    "\n",
    "# 2) plot image et masque associés côte à côte\n",
    "image_labellisee.plot_label_next_to_image([0,1,2])\n"
   ]
  },
  {
   "cell_type": "markdown",
   "id": "d1233142-4dcf-4349-a708-b38315500b89",
   "metadata": {},
   "source": [
    "## fonction split"
   ]
  },
  {
   "cell_type": "code",
   "execution_count": null,
   "id": "6017ae1f-95c8-4db7-8fc1-bf550298325b",
   "metadata": {
    "tags": []
   },
   "outputs": [],
   "source": [
    "liste_image_labelisee = image_labellisee.split(250)\n",
    "liste_image_labelisee"
   ]
  },
  {
   "cell_type": "markdown",
   "id": "219511e6-1cef-4b7d-b253-d03158f94452",
   "metadata": {},
   "source": [
    "## Plot liste image labellisée "
   ]
  },
  {
   "cell_type": "code",
   "execution_count": null,
   "id": "f57d286f-785a-4ba6-923a-c04413aad21a",
   "metadata": {
    "tags": []
   },
   "outputs": [],
   "source": [
    "SegmentationLabeledSatelliteImage.plot_list_segmentation_labeled_satellite_image(liste_image_labelisee,[0,1,2])"
   ]
  },
  {
   "cell_type": "markdown",
   "id": "7bf24147-a4d9-4959-aff5-f4c98e6a391b",
   "metadata": {},
   "source": [
    "## Plot les masques de détection"
   ]
  },
  {
   "cell_type": "markdown",
   "id": "955cbb09-a1ab-49dd-93bd-6bc720fa6c0d",
   "metadata": {},
   "source": [
    "## TO DO \n",
    "- Vérifier si ma fonction plot list images s'adapte à la,liste d'image globale\n",
    "- création d'une classe Dataset particulière \n",
    "- comment créer un DataSet à partir des images originales ? utiliser des fonctions split successives, stacker etc..mais on ne va pas tout garder en mémoire.. création de nouveaux fichiers image ? ou bien technique 2 splitter et sélectionner aléatoirement une ou plusieur zones dans l'image ? -> voir avec les gars\n",
    "- Faire une fonction create bounding box pour yolo etc.. c'est l'objet de create detection label , faire une fonction de représentation ?\n",
    "- access Vault ? -W> dans projet slums detection bidonvilles\n",
    "- Faire un notebook de prise en main pour les stagiaires -> en cours\n",
    "- faire une fonction plot label on images (superposition)\n",
    "- faire une fonction plot label next to image -> done\n",
    "- faire une fonction plot liste image -> done\n",
    "- fair eune fonction plot list of label images\n",
    "- faire une fonction qui a partir d'un masque de segmentation donné sors les polygones associés (revenir sur rasterio ?)\n",
    "- Pour les datasets, les classes faire une classe généralsite Dataset Segmentation et détection et patchs\n",
    "- et faire plusieurs types de dataset segmentation dépendant du jeu de données et la stratégie de chargement\n",
    "- ppour les modèles il faudra faire une surclasse modeles segment ation/detection et créer des modèlmes ad hoc etc.. De telle sorte qu'un modèle de segmentation puisse s'appliquer sans douleur sur un dataset de segmentation"
   ]
  }
 ],
 "metadata": {
  "kernelspec": {
   "display_name": "Python 3 (ipykernel)",
   "language": "python",
   "name": "python3"
  },
  "language_info": {
   "codemirror_mode": {
    "name": "ipython",
    "version": 3
   },
   "file_extension": ".py",
   "mimetype": "text/x-python",
   "name": "python",
   "nbconvert_exporter": "python",
   "pygments_lexer": "ipython3",
   "version": "3.10.8"
  }
 },
 "nbformat": 4,
 "nbformat_minor": 5
}
