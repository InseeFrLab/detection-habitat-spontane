{
 "cells": [
  {
   "cell_type": "markdown",
   "id": "b62f9e56-41a5-4002-a43a-161cf06505d6",
   "metadata": {},
   "source": [
    "# But prise en main des objets créés par mes collègues et lancement d'un entrapînement à partir de la BDTOPO ou du RIL en tant que LAbel ??"
   ]
  },
  {
   "cell_type": "code",
   "execution_count": 137,
   "id": "1ad0ef02-9909-434a-bc16-43223aa9c4f0",
   "metadata": {
    "tags": []
   },
   "outputs": [],
   "source": [
    "%load_ext autoreload\n",
    "%autoreload 2"
   ]
  },
  {
   "cell_type": "code",
   "execution_count": 145,
   "id": "1036e2bb-2c0a-4c53-a6a5-e19e45ee6206",
   "metadata": {
    "tags": []
   },
   "outputs": [],
   "source": [
    "import sys\n",
    "sys.path.append('../src')\n",
    "from satellite_image import SatelliteImage\n",
    "from utils import *\n",
    "from utils import get_root_path\n"
   ]
  },
  {
   "cell_type": "code",
   "execution_count": 161,
   "id": "d88861cf-4cdb-4474-911a-e154b0b24f1d",
   "metadata": {
    "tags": []
   },
   "outputs": [],
   "source": [
    "import yaml\n",
    "import re\n",
    "import s3fs\n",
    "import numpy as np"
   ]
  },
  {
   "cell_type": "code",
   "execution_count": 151,
   "id": "ac914904-c403-4164-883b-06e8e1fe46c9",
   "metadata": {
    "tags": []
   },
   "outputs": [],
   "source": [
    "os.environ[\"AWS_ACCESS_KEY_ID\"]=\n",
    "os.environ[\"AWS_SECRET_ACCESS_KEY\"]=\n",
    "os.environ[\"AWS_S3_ENDPOINT\"]='minio.lab.sspcloud.fr'\n",
    "os.environ[\"AWS_SESSION_TOKEN\"]="
   ]
  },
  {
   "cell_type": "code",
   "execution_count": 153,
   "id": "f150bd28-18b7-472f-b127-77804c07d73d",
   "metadata": {
    "tags": []
   },
   "outputs": [],
   "source": [
    "fs = get_file_system() # bien définir les variables d'environnement en amont !"
   ]
  },
  {
   "cell_type": "code",
   "execution_count": 154,
   "id": "17822485-1f07-4029-b3a9-7f235be6f917",
   "metadata": {
    "tags": []
   },
   "outputs": [],
   "source": [
    "fs.ls('projet-slums-detection/Donnees/RIL/')"
   ]
  },
  {
   "cell_type": "code",
   "execution_count": 195,
   "id": "ac393a68-3256-429a-8170-e5eada609955",
   "metadata": {
    "tags": []
   },
   "outputs": [],
   "source": [
    "environment = get_environment()\n",
    "\n",
    "root_path = get_root_path()\n",
    "bucket = environment[\"bucket\"]\n",
    "path_s3_cayenne_data = environment[\"sources\"][\"PLEIADES\"]\n",
    "path_local_cayenne_data = os.path.join(root_path, environment[\"local-path\"][\"PLEIADES\"])\n",
    "bucket = environment[\"bucket\"]\n",
    "\n",
    "path_s3_pleiades_data = environment[\"sources\"][\"PLEIADES\"]\n",
    "path_s3_bdtopo_data = environment[\"sources\"][\"BDTOPO\"][2022][\"guyane\"]\n",
    "path_local_pleiades_data = environment[\"local-path\"][\"PLEIADES\"]\n",
    "path_local_bdtopo_data = environment[\"local-path\"][\"BDTOPO\"][2022][\"guyane\"]\n"
   ]
  },
  {
   "cell_type": "code",
   "execution_count": null,
   "id": "e4e026e3-1170-4316-8747-9216053957a5",
   "metadata": {
    "tags": []
   },
   "outputs": [],
   "source": [
    "\n",
    "# DL PLEIADE\n",
    "fs.download(\n",
    "        rpath=f\"{bucket}/{path_s3_pleiades_data}\",\n",
    "        lpath=f\"../{path_local_pleiades_data}\",\n",
    "        recursive=True)\n"
   ]
  },
  {
   "cell_type": "code",
   "execution_count": 196,
   "id": "bb31a12f-5fbd-4e08-9f37-fb195fb13804",
   "metadata": {
    "tags": []
   },
   "outputs": [],
   "source": [
    "# DL BDTOPO\n",
    "fs.download(\n",
    "        rpath=f\"{bucket}/{path_s3_bdtopo_data}\",\n",
    "        lpath=f\"../{path_local_bdtopo_data}\",\n",
    "        recursive=True)\n"
   ]
  },
  {
   "cell_type": "markdown",
   "id": "39f40d68-8ced-4f3d-bb47-accf9e676935",
   "metadata": {},
   "source": [
    "## Chargement données pleiades"
   ]
  },
  {
   "cell_type": "code",
   "execution_count": 35,
   "id": "202d9fac-63de-4a95-ac3a-6609f1fcbfd3",
   "metadata": {
    "tags": []
   },
   "outputs": [],
   "source": [
    "filename = 'Cayenne_200722/16bits/ORT_2022072050325085_U22N/ORT_2022072050325085_0353_0545_U22N_16Bits.jp2'\n",
    "date = datetime.strptime(re.search(r'ORT_(\\d{8})', filename).group(1), '%Y%m%d')\n",
    "date"
   ]
  },
  {
   "cell_type": "code",
   "execution_count": 80,
   "id": "52f33366-c3e3-48b5-8332-a9e641595a2d",
   "metadata": {
    "tags": []
   },
   "outputs": [],
   "source": [
    "image = SatelliteImage.from_raster(\n",
    "        filename,\n",
    "        date = date, \n",
    "        n_bands = 4,\n",
    "        dep = \"973\"\n",
    "    )"
   ]
  },
  {
   "cell_type": "code",
   "execution_count": 58,
   "id": "5e108280-c291-4b26-8f09-80666e69816c",
   "metadata": {
    "tags": []
   },
   "outputs": [],
   "source": [
    "list_images = image.split(250)\n",
    "list_images[0].array\n",
    "len(list_images)"
   ]
  },
  {
   "cell_type": "code",
   "execution_count": 61,
   "id": "4b1ab422-acb0-48ef-8584-071f5ff5f4c6",
   "metadata": {
    "tags": []
   },
   "outputs": [],
   "source": [
    "image.plot([0,1,2])\n",
    "image.plot([3,1,2])"
   ]
  },
  {
   "cell_type": "markdown",
   "id": "8ea209d4-4c1b-43c1-8943-90f944f966bb",
   "metadata": {},
   "source": [
    "## Représenter la liste des images sous forme de grille (ajouter une fonction)"
   ]
  },
  {
   "cell_type": "code",
   "execution_count": 71,
   "id": "0df94590-74c7-4f54-a328-4a66d5d7ddcc",
   "metadata": {
    "tags": []
   },
   "outputs": [],
   "source": [
    "[im.bounds for im in list_images[1:10]] # Il suffit d'ordonner ça !"
   ]
  },
  {
   "cell_type": "code",
   "execution_count": 76,
   "id": "6052380d-9ba3-4886-a271-a5f8f09b7d9c",
   "metadata": {
    "tags": []
   },
   "outputs": [],
   "source": [
    "image.bounds[0]\n",
    "image.bounds[1]\n",
    "image.bounds[2]\n",
    "# Plus qu'à utiliser la fonction que j'ai créée pour l'affichage d'une grille ?\n",
    "# mettre certains notebooks dans du #old !"
   ]
  },
  {
   "cell_type": "code",
   "execution_count": 78,
   "id": "3cc6bef3-d5fe-4902-a690-b1a732c3a6a6",
   "metadata": {
    "tags": []
   },
   "outputs": [],
   "source": [
    "64*256 # nb de patchs utilisables pour entrainer un modèle, why not ?"
   ]
  },
  {
   "cell_type": "code",
   "execution_count": 86,
   "id": "edf8fd05-cc00-46b8-b989-c12c2a58b0dd",
   "metadata": {
    "tags": []
   },
   "outputs": [],
   "source": [
    "#image.plot([0,1,2])\n",
    "image.normalized # ok le plot normalise l'image donc attention  ? j'aurais tendanc e à l'enlever moi"
   ]
  },
  {
   "cell_type": "markdown",
   "id": "73341327-bee3-41a4-a256-50a6453758b5",
   "metadata": {},
   "source": [
    "## Récupération des labellisations"
   ]
  },
  {
   "cell_type": "code",
   "execution_count": 178,
   "id": "eb802823-fdc2-484d-9aba-65c98dc5d61a",
   "metadata": {},
   "outputs": [],
   "source": [
    "from labeler import RILLabeler"
   ]
  },
  {
   "cell_type": "markdown",
   "id": "159d55e2-1a36-445a-acfa-c6cbddab67dd",
   "metadata": {
    "tags": []
   },
   "source": [
    "Définition d'une instance de labeller (on donneune datez et un département et on va chercher les labels associés RIL à côté)"
   ]
  },
  {
   "cell_type": "code",
   "execution_count": 164,
   "id": "57a3aa5d-08a2-4d72-bc3e-501ae8728366",
   "metadata": {
    "tags": []
   },
   "outputs": [],
   "source": [
    "labeler = RILLabeler(date, dep = \"973\", buffer_size= 20)"
   ]
  },
  {
   "cell_type": "code",
   "execution_count": 165,
   "id": "6a331c3f-8c08-4359-8115-196feb29893b",
   "metadata": {
    "tags": []
   },
   "outputs": [],
   "source": [
    "mask = labeler.create_segmentation_label(image) # va chercher les données et rasterise les bounding box"
   ]
  },
  {
   "cell_type": "code",
   "execution_count": 201,
   "id": "90ff4bf7-35ce-42e6-a4ed-c41bf4645b8d",
   "metadata": {
    "tags": []
   },
   "outputs": [],
   "source": [
    "fig, ax = plt.subplots(figsize=(5, 5))\n",
    "ax.imshow(np.transpose(image.array, (1, 2, 0))[:,:,:3])\n",
    "ax.imshow(mask, alpha=0.3) # magnifique ! Faire une fonction  de représentation  ? # faire du découpage ? ou une fonction de sélection aléatoire d'une tuile ?"
   ]
  },
  {
   "cell_type": "markdown",
   "id": "7755dab5-9bbf-4f4e-bd1e-d51881fa9d4b",
   "metadata": {},
   "source": [
    "# Plus qu'à faire la même chose sur le mont baduel :)"
   ]
  },
  {
   "cell_type": "code",
   "execution_count": 175,
   "id": "5cea8a0d-ca89-44c6-ad6f-63adf8418869",
   "metadata": {
    "tags": []
   },
   "outputs": [],
   "source": [
    "filename = 'Cayenne_200722/16bits/ORT_2022072050325085_U22N/ORT_2022072050325085_0354_0545_U22N_16Bits.jp2'\n",
    "date = datetime.strptime(re.search(r'ORT_(\\d{8})', filename).group(1), '%Y%m%d')\n",
    "date\n",
    "\n",
    "image = SatelliteImage.from_raster(\n",
    "        filename,\n",
    "        date = date, \n",
    "        n_bands = 4,\n",
    "        dep = \"973\"\n",
    "    )\n",
    "\n",
    "image.plot([3,1,2])"
   ]
  },
  {
   "cell_type": "markdown",
   "id": "c6b2082a-cee1-4d66-a60b-539646fc7d25",
   "metadata": {},
   "source": [
    "## Ril"
   ]
  },
  {
   "cell_type": "code",
   "execution_count": 202,
   "id": "f2d8be57-dcb1-4e5d-93de-a8fb64752bf9",
   "metadata": {
    "tags": []
   },
   "outputs": [],
   "source": [
    "\n",
    "labeler = RILLabeler(date, dep = \"973\", buffer_size= 20)\n",
    "mask = labeler.create_segmentation_label(image)\n",
    "\n",
    "fig, ax = plt.subplots(figsize=(5, 5))\n",
    "ax.imshow(np.transpose(image.array, (1, 2, 0))[:,:,:3])\n",
    "ax.imshow(mask, alpha=0.3) # magnifique ! Faire une fonction  de représentation  ? # faire du découpage ? ou une fonction de sélection aléatoire d'une tuile ?"
   ]
  },
  {
   "cell_type": "markdown",
   "id": "93ef6686-d44a-4671-8e01-8cc8552f96b5",
   "metadata": {},
   "source": [
    "## BD TOPO"
   ]
  },
  {
   "cell_type": "code",
   "execution_count": 179,
   "id": "2646d6c6-34a0-4e34-8ca8-756f9d9acfae",
   "metadata": {
    "tags": []
   },
   "outputs": [],
   "source": [
    "from labeler import BDTOPOLabeler"
   ]
  },
  {
   "cell_type": "code",
   "execution_count": 203,
   "id": "9777bc90-46bc-4fbb-8afb-338fb40997f1",
   "metadata": {
    "tags": []
   },
   "outputs": [],
   "source": [
    "labeler = BDTOPOLabeler(date, dep = \"973\") # charghement lenbt nécessite d'avoir downloader la BDTOPO avant. fluidifier ça ?\n",
    "mask = labeler.create_segmentation_label(image)\n",
    "\n",
    "fig, ax = plt.subplots(figsize=(5, 5))\n",
    "ax.imshow(np.transpose(image.array, (1, 2, 0))[:,:,:3])\n",
    "ax.imshow(mask, alpha=0.3) # magnifique ! Faire une fonction  de représentation  ? # faire du découpage ? ou une fonction de sélection aléatoire d'une tuile ?"
   ]
  },
  {
   "cell_type": "markdown",
   "id": "05cd2a66-ae57-4669-bc88-249a0f67adf8",
   "metadata": {},
   "source": [
    "Le moint Baduel a bien été cartographié !"
   ]
  },
  {
   "cell_type": "markdown",
   "id": "34e5dfb6-50d9-41e2-9a13-3069f66cf64e",
   "metadata": {},
   "source": [
    "## Mélange images Labels !"
   ]
  },
  {
   "cell_type": "code",
   "execution_count": 180,
   "id": "73c019ed-4368-4e93-9cd7-d35b6a0ea9a8",
   "metadata": {
    "tags": []
   },
   "outputs": [],
   "source": [
    "from labeled_satellite_image import SegmentationLabeledSatelliteImage"
   ]
  },
  {
   "cell_type": "markdown",
   "id": "955cbb09-a1ab-49dd-93bd-6bc720fa6c0d",
   "metadata": {},
   "source": [
    "## TO DO \n",
    "- fonctions de représentations ?\n",
    "- création d'une classe Dataset particulière avec les aleas \n",
    "- ajout de fonctions de représentations\n",
    "- bérifier qu'on retrouve bien la géométrie à partir de l'image et vice versa\n",
    "- Quand on fait du plot, ne pas normaliser l'arraymais en faire une copie pour normaliser ensuite et représenter la normalisation sera différente pour les réseaux\n",
    "- Faire une fonction create bounding box pour yolo etc.. c'est l'objet de create detection label , faire une fonction de représentation ?\n",
    "- access Vault ?\n",
    "- Faire un notebook de prise en main pour les stagiaires\n",
    "- chargement super lent de la BDTOPO, que faire ?"
   ]
  }
 ],
 "metadata": {
  "kernelspec": {
   "display_name": "Python 3 (ipykernel)",
   "language": "python",
   "name": "python3"
  },
  "language_info": {
   "codemirror_mode": {
    "name": "ipython",
    "version": 3
   },
   "file_extension": ".py",
   "mimetype": "text/x-python",
   "name": "python",
   "nbconvert_exporter": "python",
   "pygments_lexer": "ipython3",
   "version": "3.10.8"
  }
 },
 "nbformat": 4,
 "nbformat_minor": 5
}
