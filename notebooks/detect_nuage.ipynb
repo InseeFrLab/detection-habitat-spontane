{
 "cells": [
  {
   "cell_type": "code",
   "execution_count": 1,
   "id": "e5313c04-bbc8-4e19-97e3-f8bc396a93ac",
   "metadata": {
    "tags": []
   },
   "outputs": [],
   "source": [
    "%load_ext autoreload\n",
    "%autoreload 2"
   ]
  },
  {
   "cell_type": "code",
   "execution_count": 2,
   "id": "f0b0d6ee-26db-4cb9-93d3-0480b542de80",
   "metadata": {
    "tags": []
   },
   "outputs": [],
   "source": [
    "! pip install rasterio  -q -q -q\n",
    "! pip install geopandas -q -q -q\n",
    "! pip install matplotlib -q -q -q"
   ]
  },
  {
   "cell_type": "code",
   "execution_count": 3,
   "id": "739dbbc7-9bf5-48a5-8ec2-57656900a3e0",
   "metadata": {
    "tags": []
   },
   "outputs": [],
   "source": [
    "!pip install scikit-image"
   ]
  },
  {
   "cell_type": "code",
   "execution_count": 4,
   "id": "a97f0290-1f87-484b-b606-0f7dbaca3dde",
   "metadata": {
    "tags": []
   },
   "outputs": [],
   "source": [
    "import sys\n",
    "sys.path.append('../src')\n",
    "from satellite_image import SatelliteImage\n",
    "from utils import *\n",
    "from plot_utils import *\n",
    "from image_utils import *\n",
    "from mappings import *"
   ]
  },
  {
   "cell_type": "code",
   "execution_count": 5,
   "id": "e0be5ce8-a1ff-4cdb-ab3e-77dbc92ca570",
   "metadata": {
    "tags": []
   },
   "outputs": [],
   "source": [
    "import yaml\n",
    "import re\n",
    "import s3fs\n",
    "import numpy as np\n",
    "import matplotlib.pyplot as plt\n",
    "from PIL import Image as im\n",
    "import re\n",
    "from pyproj import Transformer\n",
    "from datetime import date\n",
    "from scipy.ndimage import label\n",
    "import time\n",
    "from tqdm import tqdm\n",
    "import os"
   ]
  },
  {
   "cell_type": "code",
   "execution_count": 203,
   "id": "de93f65e-5a91-471f-92e8-4a73325bb288",
   "metadata": {
    "tags": []
   },
   "outputs": [],
   "source": [
    "from scipy.ndimage import label\n",
    "import time\n",
    "import math"
   ]
  },
  {
   "cell_type": "code",
   "execution_count": 17,
   "id": "17b57054-225d-46a9-954e-eeb5c4756f11",
   "metadata": {
    "tags": []
   },
   "outputs": [],
   "source": [
    "import geopandas as gpd\n",
    "from shapely.geometry import Polygon\n",
    "from rasterio.features import rasterize, shapes"
   ]
  },
  {
   "cell_type": "code",
   "execution_count": 6,
   "id": "77023cc9-c8a1-44c8-9455-d2d8165b24b3",
   "metadata": {
    "tags": []
   },
   "outputs": [],
   "source": [
    "update_storage_access()"
   ]
  },
  {
   "cell_type": "code",
   "execution_count": 7,
   "id": "cc009c4d-48be-4cb1-811b-4f7e73c60212",
   "metadata": {
    "tags": []
   },
   "outputs": [],
   "source": [
    "environment = get_environment()\n",
    "\n",
    "root_path = get_root_path()\n",
    "\n",
    "bucket = environment[\"bucket\"]\n",
    "\n",
    "#2022\n",
    "#guyane 2022\n",
    "path_s3_pleiades_data_2022_guyane = environment[\"sources\"][\"PLEIADES\"][2022][\"guyane\"]\n",
    "path_local_pleiades_data_2022_guyane = environment[\"local-path\"][\"PLEIADES\"][2022][\"guyane\"]\n",
    "\n",
    "#martinique 2022\n",
    "path_s3_pleiades_data_2022_martinique = environment[\"sources\"][\"PLEIADES\"][2022][\"martinique\"]\n",
    "path_local_pleiades_data_2022_martinique = environment[\"local-path\"][\"PLEIADES\"][2022][\"martinique\"]\n",
    "          \n",
    "#guadeloupe 2022\n",
    "path_s3_pleiades_data_2022_guadeloupe = environment[\"sources\"][\"PLEIADES\"][2022][\"guadeloupe\"]\n",
    "path_local_pleiades_data_2022_guadeloupe = environment[\"local-path\"][\"PLEIADES\"][2022][\"guadeloupe\"]\n",
    "\n",
    "#mayotte 2022\n",
    "path_s3_pleiades_data_2022_mayotte = environment[\"sources\"][\"PLEIADES\"][2022][\"mayotte\"]\n",
    "path_local_pleiades_data_2022_mayotte = environment[\"local-path\"][\"PLEIADES\"][2022][\"mayotte\"]\n",
    "\n",
    "#2020\n",
    "#mayotte 2020\n",
    "path_s3_pleiades_data_2020_mayotte = environment[\"sources\"][\"PLEIADES\"][2020][\"mayotte\"]\n",
    "path_local_pleiades_data_2020_mayotte = environment[\"local-path\"][\"PLEIADES\"][2020][\"mayotte\"]\n",
    "\n",
    "#2019\n",
    "#mayotte 2019\n",
    "path_s3_pleiades_data_2019_mayotte = environment[\"sources\"][\"PLEIADES\"][2019][\"mayotte\"]\n",
    "path_local_pleiades_data_2019_mayotte = environment[\"local-path\"][\"PLEIADES\"][2019][\"mayotte\"]\n",
    "\n",
    "#2018\n",
    "#reunion 2018\n",
    "path_s3_pleiades_data_2018_reunion = environment[\"sources\"][\"PLEIADES\"][2018][\"reunion\"]\n",
    "path_local_pleiades_data_2018_reunion = environment[\"local-path\"][\"PLEIADES\"][2018][\"reunion\"]\n",
    "\n",
    "#2017\n",
    "#martinique 2017\n",
    "path_s3_pleiades_data_2017_martinique = environment[\"sources\"][\"PLEIADES\"][2017][\"martinique\"]\n",
    "path_local_pleiades_data_2017_martinique = environment[\"local-path\"][\"PLEIADES\"][2017][\"martinique\"]\n",
    "\n",
    "#mayotte 2017\n",
    "path_s3_pleiades_data_2017_mayotte = environment[\"sources\"][\"PLEIADES\"][2017][\"mayotte\"]\n",
    "path_local_pleiades_data_2017_mayotte = environment[\"local-path\"][\"PLEIADES\"][2017][\"mayotte\"]\n",
    "\n",
    "fs = s3fs.S3FileSystem(client_kwargs={\"endpoint_url\": \"https://minio.lab.sspcloud.fr\"})"
   ]
  },
  {
   "cell_type": "code",
   "execution_count": 8,
   "id": "0dfb14c7-ab4f-467c-b831-d44e25ec345d",
   "metadata": {
    "tags": []
   },
   "outputs": [],
   "source": [
    "# DL PLEIADE mayotte 2020\n",
    "fs.download(\n",
    "        rpath=f\"{bucket}/{path_s3_pleiades_data_2020_mayotte}\",\n",
    "        lpath=f\"../{path_local_pleiades_data_2020_mayotte}\",\n",
    "        recursive=True)"
   ]
  },
  {
   "cell_type": "code",
   "execution_count": null,
   "id": "e2496fbb-19d9-40c5-9c2a-589b76df64d4",
   "metadata": {
    "tags": []
   },
   "outputs": [],
   "source": [
    "# DL PLEIADE mayotte 2017\n",
    "fs.download(\n",
    "        rpath=f\"{bucket}/{path_s3_pleiades_data_2017_mayotte}\",\n",
    "        lpath=f\"../{path_local_pleiades_data_2017_mayotte}\",\n",
    "        recursive=True)"
   ]
  },
  {
   "cell_type": "markdown",
   "id": "d8c9770d-9e1e-4d61-bda4-e1bf68b62e7d",
   "metadata": {},
   "source": [
    "## Détection nuages"
   ]
  },
  {
   "cell_type": "markdown",
   "id": "b68de02a-0309-4688-b12c-8ef1a2ff384b",
   "metadata": {},
   "source": [
    "Voici un exemple d'une image avec un nuage"
   ]
  },
  {
   "cell_type": "code",
   "execution_count": 13,
   "id": "bbfa2e22-68da-4cf1-afe8-b0f4b0cb6bdb",
   "metadata": {
    "tags": []
   },
   "outputs": [],
   "source": [
    "#image avec nuage \n",
    "filename_3 = '../data/PLEIADES/2020/MAYOTTE/ORT_2020052526656219_0508_8599_U38S_8Bits.jp2' \n",
    "date_3 = date.fromisoformat('2020-01-01')"
   ]
  },
  {
   "cell_type": "code",
   "execution_count": 14,
   "id": "74bcccf4-020f-4cb8-85ac-747dd3ee8a5b",
   "metadata": {
    "tags": []
   },
   "outputs": [],
   "source": [
    "image_3 = SatelliteImage.from_raster(\n",
    "        filename_3,\n",
    "        date = date_3, \n",
    "        n_bands = 3,\n",
    "        dep = \"976\"\n",
    "    )\n",
    "image_3.normalize()"
   ]
  },
  {
   "cell_type": "code",
   "execution_count": 15,
   "id": "1cb09bf9-1bab-4fef-8da0-db6ccb007bea",
   "metadata": {
    "tags": []
   },
   "outputs": [],
   "source": [
    "image_3.plot([0,1,2]) "
   ]
  },
  {
   "cell_type": "markdown",
   "id": "4619cf48-0a1d-4eae-8fcd-99fd3a61bce1",
   "metadata": {},
   "source": [
    "## Masque de coeur de nuages (uniquement le centre du nuage)"
   ]
  },
  {
   "cell_type": "code",
   "execution_count": null,
   "id": "093ef902-ab9b-45e4-b597-a3c183b1299d",
   "metadata": {},
   "outputs": [],
   "source": [
    "def plot_nuage(image, threshold, min_size):\n",
    "    image = image.array.copy()\n",
    "\n",
    "    image = image[[0,1,2],:, :]\n",
    "\n",
    "    image = (image*255).astype(np.uint8)\n",
    "\n",
    "    image = image.transpose(1, 2, 0)\n",
    "\n",
    "    # Convertir l'image RGB en niveau de gris\n",
    "    grayscale = np.mean(image, axis=2)\n",
    "\n",
    "    # Trouver les amas de pixels blancs correspondant à 5% ou plus de l'image\n",
    "    #threshold = 250  # seuil pour considérer un pixel comme \"blanc\"\n",
    "\n",
    "    labeled, num_features = label(grayscale > threshold)\n",
    "\n",
    "    #min_size = 20000  # taille minimale de l'amas (2000*2000 = 4 000 000 pixels et on souhaite détecter des nuages qui occupent + de 0,5% de l'image)\n",
    "    mask = np.zeros_like(grayscale, dtype=bool)\n",
    "    if num_features >= 1:\n",
    "        for i in tqdm(range(1, num_features + 1)): # Affichage de la barre de progression\n",
    "            if np.sum(labeled == i) >= min_size: \n",
    "                mask |= np.array(labeled == i)\n",
    "\n",
    "    # Afficher l'image avec les amas de pixels blancs en rouge\n",
    "    result = np.copy(image)\n",
    "    result[mask] = [255, 0, 0]\n",
    "\n",
    "    # Afficher l'image originale et l'image résultante côte à côte\n",
    "    fig, (ax1, ax2) = plt.subplots(1, 2, figsize=(10, 5))\n",
    "    ax1.imshow(image)\n",
    "    ax1.set_title(\"Image originale\")\n",
    "    ax2.imshow(result)\n",
    "    ax2.set_title(\"Image avec les amas de pixels blancs en rouge\")\n",
    "    plt.show()"
   ]
  },
  {
   "cell_type": "markdown",
   "id": "c8f499f9-8165-4076-b133-cc860788ca4f",
   "metadata": {},
   "source": [
    "D'abord, nous allons choisir un seuil de niveau de gris élevé pour ne détecter que les centre de nuages. Cela nous permet de détecter le moins possible d'objets hors nuages car on va se restreindre aux zones presque blanches pures et avec une taille d'amas de pixels de taille 20 000."
   ]
  },
  {
   "cell_type": "code",
   "execution_count": 193,
   "id": "94adf72b-4fed-4873-8a0b-59cc59308784",
   "metadata": {
    "tags": []
   },
   "outputs": [],
   "source": [
    "plot_nuage(image_3, 250, 20000)"
   ]
  },
  {
   "cell_type": "markdown",
   "id": "bd7190ce-7e22-4ceb-8e52-91c9641650e9",
   "metadata": {},
   "source": [
    "Voici une fonction qui permet de parcourir tout un dossier d'images d'un certain département et d'un certain millésime pour retourner les images considérées comme contenant un ou des nuages."
   ]
  },
  {
   "cell_type": "code",
   "execution_count": 197,
   "id": "99799226-f7f5-4175-ba5d-8023e796bff8",
   "metadata": {
    "tags": []
   },
   "outputs": [],
   "source": [
    "def detect_nuage_folder(dep, millesime, threshold, min_size):\n",
    "    environment = get_environment()\n",
    "    folder_path = \"../\" + environment[\"local-path\"][\"PLEIADES\"][int(millesime)][dep.lower()]\n",
    "    nuages = []\n",
    "    filenames = os.listdir(folder_path)\n",
    "    \n",
    "    for filename in tqdm(filenames): # Affichage de la barre de progression\n",
    "        try :\n",
    "        \n",
    "            image = SatelliteImage.from_raster(\n",
    "                    folder_path + '/' +filename,\n",
    "                    date = date.fromisoformat('2020-01-01'), \n",
    "                    n_bands = 3,\n",
    "                    dep = \"976\"\n",
    "                    )\n",
    "            image.normalize()\n",
    "\n",
    "            list_images = image.split(250)\n",
    "\n",
    "            #on parcourt chaque patch\n",
    "            for mini_image in list_images:\n",
    "\n",
    "                image = mini_image.array.copy()\n",
    "\n",
    "                image = image[[0,1,2],:, :]\n",
    "\n",
    "                image = (image*255).astype(np.uint8)\n",
    "\n",
    "                image = image.transpose(1, 2, 0)\n",
    "\n",
    "                # Convertir l'image RGB en niveau de gris\n",
    "                grayscale = np.mean(image, axis=2)\n",
    "\n",
    "                # Trouver les amas de pixels blancs de taille 10 ou plus\n",
    "                #threshold = 250  # seuil pour considérer un pixel comme \"blanc\"\n",
    "\n",
    "                labeled, num_features = label(grayscale > threshold)\n",
    "\n",
    "                nuage=False\n",
    "                #min_size = 20000 # taille minimale de l'amas (on souhaite détecter des nuages qui occupent + de 0,5% de l'image TOTALE !)\n",
    "                if num_features >= 1:\n",
    "                    for i in range(1, num_features + 1):\n",
    "                        if np.sum(labeled == i) >= min_size:\n",
    "                            nuage= True\n",
    "                            break\n",
    "                        else:\n",
    "                            continue\n",
    "\n",
    "                if nuage == True:\n",
    "                    nuages.append(folder_path + '/' +filename)\n",
    "                    break\n",
    "                    \n",
    "                else :\n",
    "                    continue\n",
    "\n",
    "        except RasterioIOError:\n",
    "            print(\"L'image \"+filename+\" ne s'ouvre pas.\")\n",
    "            \n",
    "        finally :\n",
    "            continue\n",
    "            \n",
    "    return(nuages)"
   ]
  },
  {
   "cell_type": "markdown",
   "id": "1b4aa63c-dea0-4cb1-bd1e-a15e4a520191",
   "metadata": {},
   "source": [
    "Commenter les choix de seuils"
   ]
  },
  {
   "cell_type": "markdown",
   "id": "fe48217c-0660-48ac-adce-fca1b6947248",
   "metadata": {},
   "source": [
    "250 : avoir les pixels presque blanc pur"
   ]
  },
  {
   "cell_type": "code",
   "execution_count": 198,
   "id": "a0b492a7-54ab-44f1-a27d-730d700fa855",
   "metadata": {
    "tags": []
   },
   "outputs": [],
   "source": [
    "nuages = detect_nuage_folder(\"mayotte\", 2020, threshold = 250, min_size = 20000)"
   ]
  },
  {
   "cell_type": "code",
   "execution_count": 201,
   "id": "9736f73b-b894-4c31-a4d4-fb4478b28287",
   "metadata": {
    "tags": []
   },
   "outputs": [],
   "source": [
    "len(nuages)"
   ]
  },
  {
   "cell_type": "markdown",
   "id": "5a4b651b-2912-4148-9e97-ddb4eec37746",
   "metadata": {},
   "source": [
    "160 : avoir les nuances de gris clair"
   ]
  },
  {
   "cell_type": "code",
   "execution_count": 127,
   "id": "85b31a6b-5e45-47f5-a404-9643e6bdd804",
   "metadata": {
    "tags": []
   },
   "outputs": [],
   "source": [
    "nuages2 = detect_nuage_folder(\"mayotte\", 2020, threshold = 160, min_size = 30000)"
   ]
  },
  {
   "cell_type": "code",
   "execution_count": 128,
   "id": "d030c27c-1a7f-4afe-9183-a57dfd93c74e",
   "metadata": {
    "tags": []
   },
   "outputs": [],
   "source": [
    "len(nuages2)"
   ]
  },
  {
   "cell_type": "code",
   "execution_count": 226,
   "id": "75f20f0b-1970-4d54-825c-2cafc0083702",
   "metadata": {
    "tags": []
   },
   "outputs": [],
   "source": [
    "nuages3 = detect_nuage_folder(\"mayotte\", 2020, threshold = 240, min_size = 30000)"
   ]
  },
  {
   "cell_type": "code",
   "execution_count": 225,
   "id": "878b6305-c1a0-4f0d-949e-722d791bb840",
   "metadata": {
    "tags": []
   },
   "outputs": [],
   "source": [
    "len(nuages3)"
   ]
  },
  {
   "cell_type": "markdown",
   "id": "8301d7ae-4f16-4f09-b258-7586dc30f3b7",
   "metadata": {},
   "source": [
    "Au cas où : Fonction de détection de nuages dans une liste random d'images."
   ]
  },
  {
   "cell_type": "code",
   "execution_count": 226,
   "id": "eeedc0f5-9365-4e1d-bf6d-b71e56c09bb8",
   "metadata": {
    "tags": []
   },
   "outputs": [],
   "source": [
    "def detect_nuage_list(list_path, threshold, min_size):\n",
    "    nuages = []\n",
    "    \n",
    "    for filename in tqdm(list_path): # Affichage de la barre de progression\n",
    "        try :\n",
    "        \n",
    "            image = SatelliteImage.from_raster(\n",
    "                    '../data/PLEIADES/2020/MAYOTTE'+ '/'+ filename,\n",
    "                    date = date.fromisoformat('2020-01-01'), \n",
    "                    n_bands = 3,\n",
    "                    dep = \"976\"\n",
    "                    )\n",
    "            image.normalize()\n",
    "\n",
    "            image = image.array.copy()\n",
    "\n",
    "            image = image[[0,1,2],:, :]\n",
    "\n",
    "            image = (image*255).astype(np.uint8)\n",
    "\n",
    "            image = image.transpose(1, 2, 0)\n",
    "\n",
    "            # Convertir l'image RGB en niveau de gris\n",
    "            grayscale = np.mean(image, axis=2)\n",
    "\n",
    "            # Trouver les amas de pixels blancs de taille 10 ou plus\n",
    "\n",
    "            labeled, num_features = label(grayscale > threshold)\n",
    "\n",
    "            nuage=False\n",
    "            if num_features >= 1:\n",
    "                for i in range(1, num_features + 1):\n",
    "                    if np.sum(labeled == i) >= min_size:\n",
    "                        # cpt +=1\n",
    "                        nuage= True\n",
    "                        break\n",
    "                    else:\n",
    "                        continue\n",
    "\n",
    "            if nuage == True:\n",
    "                nuages.append(folder_path + '/' +filename)\n",
    "                break\n",
    "\n",
    "            else :\n",
    "                continue\n",
    "\n",
    "        except RasterioIOError:\n",
    "            print(\"L'image \"+filename+\" ne s'ouvre pas.\")\n",
    "            \n",
    "        finally :\n",
    "            continue\n",
    "            \n",
    "    return(nuages)\n"
   ]
  },
  {
   "cell_type": "code",
   "execution_count": null,
   "id": "bbbaaaf0-36c5-4d67-ab18-2d11372b1f2e",
   "metadata": {
    "tags": []
   },
   "outputs": [],
   "source": [
    "nuages_echantillon = detect_nuage_list(os.listdir('../data/PLEIADES/2020/MAYOTTE')[:100], threshold = 250, min_size = 30000)"
   ]
  },
  {
   "cell_type": "markdown",
   "id": "79acfbce-2472-4063-882e-de6f90444db6",
   "metadata": {},
   "source": [
    "## Fonction d'affichage d'une liste d'images"
   ]
  },
  {
   "cell_type": "markdown",
   "id": "5e3a5907-cae5-4af7-b41f-ab5e9596bc4c",
   "metadata": {},
   "source": [
    "On va créer une fonction pour afficher une liste d'images sur une fenêtre (suivant l'ordre dans la liste) pour pouvoir contrôler visuellement les résultats des détections de nuages.\n",
    "\n",
    "Attention ! La longueur liste d'images doit être un entier carré. Ex : 1,4,9,16,25..."
   ]
  },
  {
   "cell_type": "code",
   "execution_count": 212,
   "id": "913b172e-423b-41ca-8cf7-2bd812c4ffb3",
   "metadata": {
    "tags": []
   },
   "outputs": [],
   "source": [
    "def plot_list_path_square(list_filepaths, dep, millesime):\n",
    "    environment = get_environment()\n",
    "    folder_path = \"../\" + environment[\"local-path\"][\"PLEIADES\"][int(millesime)][dep.lower()]\n",
    "    \n",
    "    size = int(math.sqrt(len(list_filepaths)))\n",
    "    bands_indices = [0,1,2]\n",
    "\n",
    "    list_images = []\n",
    "\n",
    "    for filepath in list_filepaths:\n",
    "\n",
    "    # Retrieve left-top coordinates of all images\n",
    "            image = SatelliteImage.from_raster(\n",
    "                    folder_path + \"/\" + filepath,\n",
    "                    date = date.fromisoformat(str(millesime) + '-01-01'), \n",
    "                    n_bands = len(bands_indices),\n",
    "                    dep = name_dep_to_num_dep[dep.upper()]\n",
    "                )\n",
    "            image.normalize()\n",
    "            list_images.append(image)\n",
    "\n",
    "    mat_list_images = np.transpose(np.array(list_images).reshape(size,size))\n",
    "\n",
    "\n",
    "    # Create a figure and axes\n",
    "    fig, axs = plt.subplots(nrows=size, ncols=size, figsize=(10,10))\n",
    "\n",
    "    # Iterate over the grid of masks and plot them\n",
    "    for i in range(size):\n",
    "        for j in range(size):\n",
    "            axs[i, j].imshow(\n",
    "                mat_list_images[i, j].array.transpose(2,1,0)\n",
    "            )\n",
    "\n",
    "    # Remove any unused axes\n",
    "    for i in range(size):\n",
    "        for j in range(size):\n",
    "            axs[i, j].set_axis_off()\n",
    "\n",
    "    # Show the plot\n",
    "    plt.show()\n"
   ]
  },
  {
   "cell_type": "code",
   "execution_count": 221,
   "id": "924071ad-b08b-49f0-a946-8fb787e08aca",
   "metadata": {
    "tags": []
   },
   "outputs": [],
   "source": [
    "plot_list_path_square(os.listdir('../data/PLEIADES/2020/MAYOTTE')[0:25], \"mayotte\", 2020)"
   ]
  },
  {
   "cell_type": "code",
   "execution_count": 227,
   "id": "b77ea7aa-a597-4587-ab02-f68036446956",
   "metadata": {
    "tags": []
   },
   "outputs": [],
   "source": [
    "plot_list_path_square(nuages_echantillon[:9])"
   ]
  },
  {
   "cell_type": "markdown",
   "id": "3cf0261a-4053-4cdc-9fee-d2af03720a50",
   "metadata": {},
   "source": [
    "Dans l'échantillon, on a trouvé qu'il y a en réalité 5 nuages sur les 100 images sélectionnées et l'algorithme en a repéré 11. \n",
    "\n",
    "Cet algorithme va bien détecter toutes les images avec des nuages mais il va rajouter les images avec des étendues de blanc, par exemple les plages de sable blanc."
   ]
  },
  {
   "cell_type": "markdown",
   "id": "10e35aba-9c2c-4ab4-96b1-d0c9383afccd",
   "metadata": {},
   "source": [
    "## Masque de nuages entiers"
   ]
  },
  {
   "cell_type": "markdown",
   "id": "d5d7ac5f-415f-4927-bd83-a84d337d5472",
   "metadata": {},
   "source": [
    "On veut maintenant créer un masque nuage qui soit le plus proche de la réalité. Pour cela on va créer deux masques : l'un avec un seuil de niveau de gris élevé pour détecter le coeur du nuage, et l'autre avec un seuil de niveau de gris bas pour englober un maximum le nuage entier. Le deuxième masque va également repérer d'autres objets de type non nuage. Pour ne garder que les nuages, on va fusionner ces deux masques et garder uniquement les nuages entier sans les autres objets. Pour cela, on va transformer les masques en ensembles de polygones et retenir uniquement les polygones qui se chauvauchent sur les deux masques : ce seront les nuages entiers avec les coeurs de nuages. C'est comme ça que nous obtiendrons notre masque final de nuages entiers."
   ]
  },
  {
   "cell_type": "code",
   "execution_count": null,
   "id": "08c267e0-878e-4a9d-abf7-741ce93dd239",
   "metadata": {
    "tags": []
   },
   "outputs": [],
   "source": [
    "def mask_nuage(image, threshold, min_size):\n",
    "    image = image.array.copy()\n",
    "\n",
    "    image = image[[0,1,2],:, :]\n",
    "\n",
    "    image = (image*255).astype(np.uint8)\n",
    "\n",
    "    image = image.transpose(1, 2, 0)\n",
    "\n",
    "    # Convertir l'image RGB en niveau de gris\n",
    "    grayscale = np.mean(image, axis=2)\n",
    "\n",
    "    # Trouver les amas de pixels blancs correspondant à 5% ou plus de l'image\n",
    "    #threshold = 250  # seuil pour considérer un pixel comme \"blanc\"\n",
    "\n",
    "    labeled, num_features = label(grayscale > threshold)\n",
    "\n",
    "    #min_size = 20000  # taille minimale de l'amas (2000*2000 = 4 000 000 pixels et on souhaite détecter des nuages qui occupent + de 0,5% de l'image)\n",
    "    mask = labeled.copy()\n",
    "\n",
    "    if num_features >= 1:\n",
    "        for i in tqdm(range(1, num_features + 1)): # Affichage de la barre de progression\n",
    "            if np.sum(mask == i) < min_size: \n",
    "                mask[mask == i] = 0\n",
    "            else:\n",
    "                mask[mask == i] = 1\n",
    "\n",
    "    # Retourner le masque nuage\n",
    "    return(mask)"
   ]
  },
  {
   "cell_type": "markdown",
   "id": "9ee957ab-14d8-4dbf-96b2-c6e27db89b8d",
   "metadata": {},
   "source": [
    "Fonction pour afficher le nuage entier"
   ]
  },
  {
   "cell_type": "code",
   "execution_count": null,
   "id": "e91387ee-5870-49e9-93bf-77ff47e659a1",
   "metadata": {
    "tags": []
   },
   "outputs": [],
   "source": [
    "def plot_nuage_entier(image, threshold_coeur, threshold_entier, min_size): \n",
    "    nuage_centre = mask_nuage(image, threshold_coeur, min_size)\n",
    "    nuage_entier = mask_nuage(image, threshold_entier, min_size)\n",
    "    \n",
    "    image_height = image.array.shape[1]\n",
    "    image_width = image.array.shape[2]\n",
    "\n",
    "    polygon_list_coeur = []\n",
    "    for shape in list(shapes(nuage_centre)):\n",
    "        polygon = Polygon(shape[0][\"coordinates\"][0])\n",
    "        if polygon.area > 0.85 * image_height * image_width:\n",
    "            continue\n",
    "        polygon_list_coeur.append(polygon)\n",
    "\n",
    "    # Créer un GeoSeries à partir de la liste de polygons\n",
    "    g_centre = gpd.GeoDataFrame(geometry = polygon_list_coeur)\n",
    "\n",
    "    polygon_list_entier = []\n",
    "    for shape in list(shapes(nuage_entier)):\n",
    "        polygon = Polygon(shape[0][\"coordinates\"][0])\n",
    "        if polygon.area > 0.85 * image_height * image_width:\n",
    "            continue\n",
    "        polygon_list_entier.append(polygon)\n",
    "\n",
    "    #Créer un GeoSeries à partir de la liste de polygons\n",
    "    g_entier = gpd.GeoDataFrame(geometry = polygon_list_entier)\n",
    "    \n",
    "    result = gpd.sjoin(g_entier, g_centre,how=\"inner\",predicate = \"intersects\")\n",
    "    \n",
    "    fig, ax = plt.subplots(figsize=(10, 10))\n",
    "    ax.imshow(np.transpose(image.array, (1, 2, 0))[:,:,:3])\n",
    "    result.plot(color = \"orange\", ax=ax)"
   ]
  },
  {
   "cell_type": "code",
   "execution_count": null,
   "id": "c6995962-4e9b-4978-92bf-e25bb4d55af6",
   "metadata": {
    "tags": []
   },
   "outputs": [],
   "source": [
    "plot_nuage_entier(image_3, threshold_coeur = 250, threshold_entier = 140, min_size = 20000)"
   ]
  },
  {
   "cell_type": "code",
   "execution_count": 175,
   "id": "2b9521a4-f164-4f83-ab00-d7dd9cd5a5c3",
   "metadata": {
    "tags": []
   },
   "outputs": [],
   "source": [
    "nuage_centre = mask_nuage(image_3, threshold = 250, min_size = 20000)\n",
    "nuage_entier = mask_nuage(image_3, threshold = 140, min_size = 20000)\n"
   ]
  },
  {
   "cell_type": "code",
   "execution_count": 177,
   "id": "21bcac4b-128b-4b5b-8886-7b8d6f29e15e",
   "metadata": {
    "tags": []
   },
   "outputs": [],
   "source": [
    "image_height = image_3.array.shape[1]\n",
    "image_width = image_3.array.shape[2]\n",
    "polygon_list = []\n",
    "for shape in list(shapes(nuage_centre)):\n",
    "    polygon = Polygon(shape[0][\"coordinates\"][0])\n",
    "    if polygon.area > 0.85 * image_height * image_width:\n",
    "        continue\n",
    "    polygon_list.append(polygon)\n",
    "    \n",
    "# Créer un GeoSeries à partir de la liste de polygons\n",
    "g_centre = gpd.GeoDataFrame(geometry = polygon_list)"
   ]
  },
  {
   "cell_type": "code",
   "execution_count": 178,
   "id": "aaab00b3-3a8f-4725-b68c-95a5810e1790",
   "metadata": {
    "tags": []
   },
   "outputs": [],
   "source": [
    "polygon_list = []\n",
    "for shape in list(shapes(nuage_entier)):\n",
    "    polygon = Polygon(shape[0][\"coordinates\"][0])\n",
    "    if polygon.area > 0.85 * image_height * image_width:\n",
    "        continue\n",
    "    polygon_list.append(polygon)\n",
    " \n",
    "#Créer un GeoSeries à partir de la liste de polygons\n",
    "g_entier = gpd.GeoDataFrame(geometry = polygon_list)"
   ]
  },
  {
   "cell_type": "code",
   "execution_count": 179,
   "id": "4cbd841b-9efc-4a6a-be8a-b3c5c89037a3",
   "metadata": {
    "tags": []
   },
   "outputs": [],
   "source": [
    "result = gpd.sjoin(g_entier, g_centre,how=\"inner\",predicate = \"intersects\")"
   ]
  },
  {
   "cell_type": "code",
   "execution_count": 181,
   "id": "64fd229d-341f-46d1-a05e-5de4dc70e3bf",
   "metadata": {
    "tags": []
   },
   "outputs": [],
   "source": [
    "fig, ax = plt.subplots(figsize=(10, 10))\n",
    "ax.imshow(np.transpose(image_3.array, (1, 2, 0))[:,:,:3])\n",
    "result.plot(color = \"orange\", ax=ax)"
   ]
  }
 ],
 "metadata": {
  "kernelspec": {
   "display_name": "Python 3 (ipykernel)",
   "language": "python",
   "name": "python3"
  },
  "language_info": {
   "codemirror_mode": {
    "name": "ipython",
    "version": 3
   },
   "file_extension": ".py",
   "mimetype": "text/x-python",
   "name": "python",
   "nbconvert_exporter": "python",
   "pygments_lexer": "ipython3",
   "version": "3.10.9"
  }
 },
 "nbformat": 4,
 "nbformat_minor": 5
}
