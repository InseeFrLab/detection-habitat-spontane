{
 "cells": [
  {
   "cell_type": "code",
   "execution_count": 1,
   "id": "e5313c04-bbc8-4e19-97e3-f8bc396a93ac",
   "metadata": {
    "tags": []
   },
   "outputs": [],
   "source": [
    "%load_ext autoreload\n",
    "%autoreload 2"
   ]
  },
  {
   "cell_type": "code",
   "execution_count": 2,
   "id": "f0b0d6ee-26db-4cb9-93d3-0480b542de80",
   "metadata": {
    "tags": []
   },
   "outputs": [],
   "source": [
    "! pip install rasterio  -q -q -q\n",
    "! pip install geopandas -q -q -q\n",
    "! pip install matplotlib -q -q -q"
   ]
  },
  {
   "cell_type": "code",
   "execution_count": 3,
   "id": "739dbbc7-9bf5-48a5-8ec2-57656900a3e0",
   "metadata": {
    "tags": []
   },
   "outputs": [],
   "source": [
    "!pip install scikit-image"
   ]
  },
  {
   "cell_type": "code",
   "execution_count": 4,
   "id": "a97f0290-1f87-484b-b606-0f7dbaca3dde",
   "metadata": {
    "tags": []
   },
   "outputs": [],
   "source": [
    "import sys\n",
    "sys.path.append('../src')\n",
    "from satellite_image import SatelliteImage\n",
    "from utils import *\n",
    "from plot_utils import *\n",
    "from image_utils import *\n",
    "import mappings as mapps"
   ]
  },
  {
   "cell_type": "code",
   "execution_count": 5,
   "id": "e0be5ce8-a1ff-4cdb-ab3e-77dbc92ca570",
   "metadata": {
    "tags": []
   },
   "outputs": [],
   "source": [
    "import yaml\n",
    "import re\n",
    "import s3fs\n",
    "import numpy as np\n",
    "import matplotlib.pyplot as plt\n",
    "from PIL import Image as im\n",
    "import re\n",
    "from pyproj import Transformer\n",
    "from datetime import date\n",
    "from scipy.ndimage import label\n",
    "import time\n",
    "from tqdm import tqdm\n",
    "import os"
   ]
  },
  {
   "cell_type": "code",
   "execution_count": 6,
   "id": "77023cc9-c8a1-44c8-9455-d2d8165b24b3",
   "metadata": {
    "tags": []
   },
   "outputs": [],
   "source": [
    "update_storage_access()"
   ]
  },
  {
   "cell_type": "code",
   "execution_count": 7,
   "id": "cc009c4d-48be-4cb1-811b-4f7e73c60212",
   "metadata": {
    "tags": []
   },
   "outputs": [],
   "source": [
    "environment = get_environment()\n",
    "\n",
    "root_path = get_root_path()\n",
    "\n",
    "bucket = environment[\"bucket\"]\n",
    "\n",
    "#2022\n",
    "#guyane 2022\n",
    "path_s3_pleiades_data_2022_guyane = environment[\"sources\"][\"PLEIADES\"][2022][\"guyane\"]\n",
    "path_local_pleiades_data_2022_guyane = environment[\"local-path\"][\"PLEIADES\"][2022][\"guyane\"]\n",
    "\n",
    "#martinique 2022\n",
    "path_s3_pleiades_data_2022_martinique = environment[\"sources\"][\"PLEIADES\"][2022][\"martinique\"]\n",
    "path_local_pleiades_data_2022_martinique = environment[\"local-path\"][\"PLEIADES\"][2022][\"martinique\"]\n",
    "          \n",
    "#guadeloupe 2022\n",
    "path_s3_pleiades_data_2022_guadeloupe = environment[\"sources\"][\"PLEIADES\"][2022][\"guadeloupe\"]\n",
    "path_local_pleiades_data_2022_guadeloupe = environment[\"local-path\"][\"PLEIADES\"][2022][\"guadeloupe\"]\n",
    "\n",
    "#mayotte 2022\n",
    "path_s3_pleiades_data_2022_mayotte = environment[\"sources\"][\"PLEIADES\"][2022][\"mayotte\"]\n",
    "path_local_pleiades_data_2022_mayotte = environment[\"local-path\"][\"PLEIADES\"][2022][\"mayotte\"]\n",
    "\n",
    "#2020\n",
    "#mayotte 2020\n",
    "path_s3_pleiades_data_2020_mayotte = environment[\"sources\"][\"PLEIADES\"][2020][\"mayotte\"]\n",
    "path_local_pleiades_data_2020_mayotte = environment[\"local-path\"][\"PLEIADES\"][2020][\"mayotte\"]\n",
    "\n",
    "#2019\n",
    "#mayotte 2019\n",
    "path_s3_pleiades_data_2019_mayotte = environment[\"sources\"][\"PLEIADES\"][2019][\"mayotte\"]\n",
    "path_local_pleiades_data_2019_mayotte = environment[\"local-path\"][\"PLEIADES\"][2019][\"mayotte\"]\n",
    "\n",
    "#2018\n",
    "#reunion 2018\n",
    "path_s3_pleiades_data_2018_reunion = environment[\"sources\"][\"PLEIADES\"][2018][\"reunion\"]\n",
    "path_local_pleiades_data_2018_reunion = environment[\"local-path\"][\"PLEIADES\"][2018][\"reunion\"]\n",
    "\n",
    "#2017\n",
    "#martinique 2017\n",
    "path_s3_pleiades_data_2017_martinique = environment[\"sources\"][\"PLEIADES\"][2017][\"martinique\"]\n",
    "path_local_pleiades_data_2017_martinique = environment[\"local-path\"][\"PLEIADES\"][2017][\"martinique\"]\n",
    "\n",
    "#mayotte 2017\n",
    "path_s3_pleiades_data_2017_mayotte = environment[\"sources\"][\"PLEIADES\"][2017][\"mayotte\"]\n",
    "path_local_pleiades_data_2017_mayotte = environment[\"local-path\"][\"PLEIADES\"][2017][\"mayotte\"]\n",
    "\n",
    "fs = s3fs.S3FileSystem(client_kwargs={\"endpoint_url\": \"https://minio.lab.sspcloud.fr\"})"
   ]
  },
  {
   "cell_type": "code",
   "execution_count": 8,
   "id": "0dfb14c7-ab4f-467c-b831-d44e25ec345d",
   "metadata": {
    "tags": []
   },
   "outputs": [],
   "source": [
    "# DL PLEIADE mayotte 2020\n",
    "fs.download(\n",
    "        rpath=f\"{bucket}/{path_s3_pleiades_data_2020_mayotte}\",\n",
    "        lpath=f\"../{path_local_pleiades_data_2020_mayotte}\",\n",
    "        recursive=True)"
   ]
  },
  {
   "cell_type": "code",
   "execution_count": null,
   "id": "e2496fbb-19d9-40c5-9c2a-589b76df64d4",
   "metadata": {
    "tags": []
   },
   "outputs": [],
   "source": [
    "# DL PLEIADE mayotte 2017\n",
    "fs.download(\n",
    "        rpath=f\"{bucket}/{path_s3_pleiades_data_2017_mayotte}\",\n",
    "        lpath=f\"../{path_local_pleiades_data_2017_mayotte}\",\n",
    "        recursive=True)"
   ]
  },
  {
   "cell_type": "markdown",
   "id": "d8c9770d-9e1e-4d61-bda4-e1bf68b62e7d",
   "metadata": {},
   "source": [
    "## Détection nuages"
   ]
  },
  {
   "cell_type": "code",
   "execution_count": 37,
   "id": "2520a938-2bb7-46d5-9379-432c14adeb02",
   "metadata": {
    "tags": []
   },
   "outputs": [],
   "source": [
    "plot_square_images([0,1,2], 2 , None, '../data/PLEIADES/2020/MAYOTTE/ORT_2020052526656219_0508_8599_U38S_8Bits.jp2')"
   ]
  },
  {
   "cell_type": "markdown",
   "id": "b68de02a-0309-4688-b12c-8ef1a2ff384b",
   "metadata": {},
   "source": [
    "Voici un exemple d'une image avec un nuage"
   ]
  },
  {
   "cell_type": "code",
   "execution_count": 13,
   "id": "bbfa2e22-68da-4cf1-afe8-b0f4b0cb6bdb",
   "metadata": {
    "tags": []
   },
   "outputs": [],
   "source": [
    "#image avec nuage \n",
    "filename_3 = '../data/PLEIADES/2020/MAYOTTE/ORT_2020052526656219_0508_8599_U38S_8Bits.jp2' \n",
    "date_3 = date.fromisoformat('2020-01-01')"
   ]
  },
  {
   "cell_type": "code",
   "execution_count": 14,
   "id": "74bcccf4-020f-4cb8-85ac-747dd3ee8a5b",
   "metadata": {
    "tags": []
   },
   "outputs": [],
   "source": [
    "image_3 = SatelliteImage.from_raster(\n",
    "        filename_3,\n",
    "        date = date_3, \n",
    "        n_bands = 3,\n",
    "        dep = \"976\"\n",
    "    )\n",
    "image_3.normalize()"
   ]
  },
  {
   "cell_type": "code",
   "execution_count": 15,
   "id": "1cb09bf9-1bab-4fef-8da0-db6ccb007bea",
   "metadata": {
    "tags": []
   },
   "outputs": [],
   "source": [
    "image_3.plot([0,1,2]) "
   ]
  },
  {
   "cell_type": "code",
   "execution_count": 19,
   "id": "eeedc0f5-9365-4e1d-bf6d-b71e56c09bb8",
   "metadata": {
    "tags": []
   },
   "outputs": [],
   "source": [
    "import numpy as np\n",
    "from scipy.ndimage import label\n",
    "import matplotlib.pyplot as plt\n",
    "import time\n",
    "\n",
    "def count_patch_nuage(image):\n",
    "    list_images = image.split(250)\n",
    "    list_nuage = []\n",
    "    num_patch = 0\n",
    "    #on parcourt chaque patch\n",
    "    for mini_image in list_images:\n",
    "        image = mini_image.array.copy()\n",
    "\n",
    "        image = image[[0,1,2],:, :]\n",
    "\n",
    "        image = (image*255).astype(np.uint8)\n",
    "\n",
    "        image = image.transpose(1, 2, 0)\n",
    "\n",
    "        # Convertir l'image RGB en niveau de gris\n",
    "        grayscale = np.mean(image, axis=2)\n",
    "\n",
    "        # Trouver les amas de pixels blancs de taille 10 ou plus\n",
    "        threshold = 250  # seuil pour considérer un pixel comme \"blanc\"\n",
    "\n",
    "        labeled, num_features = label(grayscale > threshold)\n",
    "\n",
    "        nuage=False\n",
    "        min_size = 20000 # taille minimale de l'amas\n",
    "        if num_features >= 1:\n",
    "            lab = np.asarray(labeled)\n",
    "            for i in range(1, num_features + 1):\n",
    "                if np.sum(lab == i) >= min_size: \n",
    "                    nuage= True\n",
    "                    break\n",
    "        \n",
    "        if nuage == True:\n",
    "            list_nuage.append(num_patch)\n",
    "        \n",
    "        num_patch +=1\n",
    "            \n",
    "    return(list_nuage)\n",
    "\n",
    "def mask_nuage(image, threshold, min_size):\n",
    "    image = image.array.copy()\n",
    "\n",
    "    image = image[[0,1,2],:, :]\n",
    "\n",
    "    image = (image*255).astype(np.uint8)\n",
    "\n",
    "    image = image.transpose(1, 2, 0)\n",
    "\n",
    "    # Convertir l'image RGB en niveau de gris\n",
    "    grayscale = np.mean(image, axis=2)\n",
    "\n",
    "    # Trouver les amas de pixels blancs correspondant à 5% ou plus de l'image\n",
    "    #threshold = 250  # seuil pour considérer un pixel comme \"blanc\"\n",
    "\n",
    "    labeled, num_features = label(grayscale > threshold)\n",
    "\n",
    "    #min_size = 20000  # taille minimale de l'amas (2000*2000 = 4 000 000 pixels et on souhaite détecter des nuages qui occupent + de 0,5% de l'image)\n",
    "    mask = np.zeros_like(grayscale, dtype=bool)\n",
    "    if num_features >= 1:\n",
    "        lab = np.asarray(labeled)\n",
    "        for i in tqdm(range(1, num_features + 1)): # Affichage de la barre de progression\n",
    "            if np.sum(lab == i) >= min_size: \n",
    "                mask |= np.array(labeled == i)\n",
    "\n",
    "    # Afficher l'image avec les amas de pixels blancs en rouge\n",
    "    result = np.copy(image)\n",
    "    result[mask] = [255, 0, 0]\n",
    "    \n",
    "    return(result)\n",
    "            \n",
    "def plot_nuage(image, threshold, min_size):\n",
    "    image = image.array.copy()\n",
    "\n",
    "    image = image[[0,1,2],:, :]\n",
    "\n",
    "    image = (image*255).astype(np.uint8)\n",
    "\n",
    "    image = image.transpose(1, 2, 0)\n",
    "\n",
    "    # Convertir l'image RGB en niveau de gris\n",
    "    grayscale = np.mean(image, axis=2)\n",
    "\n",
    "    # Trouver les amas de pixels blancs correspondant à 5% ou plus de l'image\n",
    "    #threshold = 250  # seuil pour considérer un pixel comme \"blanc\"\n",
    "\n",
    "    labeled, num_features = label(grayscale > threshold)\n",
    "\n",
    "    #min_size = 20000  # taille minimale de l'amas (2000*2000 = 4 000 000 pixels et on souhaite détecter des nuages qui occupent + de 0,5% de l'image)\n",
    "    mask = np.zeros_like(grayscale, dtype=bool)\n",
    "    if num_features >= 1:\n",
    "        lab = np.asarray(labeled)\n",
    "        for i in tqdm(range(1, num_features + 1)): # Affichage de la barre de progression\n",
    "            if np.sum(lab == i) >= min_size: \n",
    "                mask |= np.array(labeled == i)\n",
    "\n",
    "    # Afficher l'image avec les amas de pixels blancs en rouge\n",
    "    result = np.copy(image)\n",
    "    result[mask] = [255, 0, 0]\n",
    "\n",
    "    # Afficher l'image originale et l'image résultante côte à côte\n",
    "    fig, (ax1, ax2) = plt.subplots(1, 2, figsize=(10, 5))\n",
    "    ax1.imshow(image)\n",
    "    ax1.set_title(\"Image originale\")\n",
    "    ax2.imshow(result)\n",
    "    ax2.set_title(\"Image avec les amas de pixels blancs en rouge\")\n",
    "    plt.show()\n",
    "    \n",
    "def detect_nuage_folder(folder_path, threshold, min_size):\n",
    "    nuages = []\n",
    "    filenames = os.listdir(folder_path)[:100]\n",
    "    \n",
    "    for filename in tqdm(filenames): # Affichage de la barre de progression\n",
    "        try :\n",
    "        \n",
    "            image = SatelliteImage.from_raster(\n",
    "                    folder_path + '/' +filename,\n",
    "                    date = date.fromisoformat('2020-01-01'), \n",
    "                    n_bands = 3,\n",
    "                    dep = \"976\"\n",
    "                    )\n",
    "            image.normalize()\n",
    "\n",
    "            list_images = image.split(250)\n",
    "\n",
    "            #on parcourt chaque patch\n",
    "            for mini_image in list_images:\n",
    "\n",
    "                image = mini_image.array.copy()\n",
    "\n",
    "                image = image[[0,1,2],:, :]\n",
    "\n",
    "                image = (image*255).astype(np.uint8)\n",
    "\n",
    "                image = image.transpose(1, 2, 0)\n",
    "\n",
    "                # Convertir l'image RGB en niveau de gris\n",
    "                grayscale = np.mean(image, axis=2)\n",
    "\n",
    "                # Trouver les amas de pixels blancs de taille 10 ou plus\n",
    "                #threshold = 250  # seuil pour considérer un pixel comme \"blanc\"\n",
    "\n",
    "                labeled, num_features = label(grayscale > threshold)\n",
    "\n",
    "                nuage=False\n",
    "                #min_size = 20000 # taille minimale de l'amas (on souhaite détecter des nuages qui occupent + de 0,5% de l'image TOTALE !)\n",
    "                if num_features >= 1:\n",
    "                    lab = np.asarray(labeled)\n",
    "                    for i in range(1, num_features + 1):\n",
    "                        if np.sum(lab == i) >= min_size:\n",
    "                            nuage= True\n",
    "                            break\n",
    "                        else:\n",
    "                            continue\n",
    "\n",
    "                if nuage == True:\n",
    "                    nuages.append(folder_path + '/' +filename)\n",
    "                    break\n",
    "                    \n",
    "                else :\n",
    "                    continue\n",
    "\n",
    "        except RasterioIOError:\n",
    "            print(\"L'image \"+filename+\" ne s'ouvre pas.\")\n",
    "            \n",
    "        finally :\n",
    "            continue\n",
    "            \n",
    "    return(nuages)\n",
    "\n",
    "\n",
    "\n",
    "def detect_nuage_list(list_path, threshold, min_size):\n",
    "    nuages = []\n",
    "    \n",
    "    for filename in tqdm(list_path): # Affichage de la barre de progression\n",
    "        try :\n",
    "        \n",
    "            image = SatelliteImage.from_raster(\n",
    "                    filename,\n",
    "                    date = date.fromisoformat('2020-01-01'), \n",
    "                    n_bands = 3,\n",
    "                    dep = \"976\"\n",
    "                    )\n",
    "            image.normalize()\n",
    "\n",
    "            image = image.array.copy()\n",
    "\n",
    "            image = image[[0,1,2],:, :]\n",
    "\n",
    "            image = (image*255).astype(np.uint8)\n",
    "\n",
    "            image = image.transpose(1, 2, 0)\n",
    "\n",
    "            # Convertir l'image RGB en niveau de gris\n",
    "            grayscale = np.mean(image, axis=2)\n",
    "\n",
    "            # Trouver les amas de pixels blancs de taille 10 ou plus\n",
    "            threshold = 250  # seuil pour considérer un pixel comme \"blanc\"\n",
    "\n",
    "            labeled, num_features = label(grayscale > threshold)\n",
    "\n",
    "            nuage=False\n",
    "            min_size = 20000 # taille minimale de l'amas (on souhaite détecter des nuages qui occupent + de 0,5% de l'image TOTALE !)\n",
    "            if num_features >= 1:\n",
    "                lab = np.asarray(labeled)\n",
    "                for i in range(1, num_features + 1):\n",
    "                    if np.sum(lab == i) >= min_size:\n",
    "                        # cpt +=1\n",
    "                        nuage= True\n",
    "                        break\n",
    "                    else:\n",
    "                        continue\n",
    "\n",
    "            if nuage == True:\n",
    "                nuages.append(folder_path + '/' +filename)\n",
    "                break\n",
    "\n",
    "            else :\n",
    "                continue\n",
    "\n",
    "        except RasterioIOError:\n",
    "            print(\"L'image \"+filename+\" ne s'ouvre pas.\")\n",
    "            \n",
    "        finally :\n",
    "            continue\n",
    "            \n",
    "    return(nuages)\n",
    "\n",
    "\n",
    "def mask_nuage_filepaths(list_path, threshold, min_size):\n",
    "    masks = []\n",
    "    \n",
    "    for filename in tqdm(list_path): # Affichage de la barre de progression\n",
    "        try :\n",
    "        \n",
    "            image = SatelliteImage.from_raster(\n",
    "                    filename,\n",
    "                    date = date.fromisoformat('2020-01-01'), \n",
    "                    n_bands = 3,\n",
    "                    dep = \"976\"\n",
    "                    )\n",
    "            image.normalize()\n",
    "            \n",
    "            image = image.array.copy()\n",
    "\n",
    "            image = image[[0,1,2],:, :]\n",
    "\n",
    "            image = (image*255).astype(np.uint8)\n",
    "\n",
    "            image = image.transpose(1, 2, 0)\n",
    "\n",
    "            # Convertir l'image RGB en niveau de gris\n",
    "            grayscale = np.mean(image, axis=2)\n",
    "\n",
    "            # Trouver les amas de pixels blancs correspondant à 5% ou plus de l'image\n",
    "            #threshold = 250  # seuil pour considérer un pixel comme \"blanc\"\n",
    "\n",
    "            labeled, num_features = label(grayscale > threshold)\n",
    "\n",
    "            #min_size = 20000  # taille minimale de l'amas (2000*2000 = 4 000 000 pixels et on souhaite détecter des nuages qui occupent + de 0,5% de l'image)\n",
    "            mask = np.zeros_like(grayscale, dtype=bool)\n",
    "            if num_features >= 1:\n",
    "                lab = np.asarray(labeled)\n",
    "                for i in range(1, num_features + 1):\n",
    "                    if np.sum(lab == i) >= min_size: \n",
    "                        mask |= np.array(labeled == i)\n",
    "\n",
    "            # Afficher l'image avec les amas de pixels blancs en rouge\n",
    "            result = np.copy(image)\n",
    "            result[mask] = [255, 0, 0]\n",
    "            masks.append(result)\n",
    "        \n",
    "        except RasterioIOError:\n",
    "            print(\"L'image \"+filename+\" ne s'ouvre pas.\")\n",
    "            \n",
    "        finally :\n",
    "            continue\n",
    "            \n",
    "    return(masks)"
   ]
  },
  {
   "cell_type": "code",
   "execution_count": 125,
   "id": "a0b492a7-54ab-44f1-a27d-730d700fa855",
   "metadata": {
    "tags": []
   },
   "outputs": [],
   "source": [
    "nuages = detect_nuage_folder('../data/PLEIADES/2020/MAYOTTE', threshold = 250, min_size = 20000)"
   ]
  },
  {
   "cell_type": "code",
   "execution_count": 126,
   "id": "9736f73b-b894-4c31-a4d4-fb4478b28287",
   "metadata": {
    "tags": []
   },
   "outputs": [],
   "source": [
    "len(nuages)"
   ]
  },
  {
   "cell_type": "code",
   "execution_count": 127,
   "id": "85b31a6b-5e45-47f5-a404-9643e6bdd804",
   "metadata": {
    "tags": []
   },
   "outputs": [],
   "source": [
    "nuages2 = detect_nuage_folder('../data/PLEIADES/2020/MAYOTTE', threshold = 160, min_size = 30000)"
   ]
  },
  {
   "cell_type": "code",
   "execution_count": 128,
   "id": "d030c27c-1a7f-4afe-9183-a57dfd93c74e",
   "metadata": {
    "tags": []
   },
   "outputs": [],
   "source": [
    "len(nuages2)"
   ]
  },
  {
   "cell_type": "code",
   "execution_count": 226,
   "id": "75f20f0b-1970-4d54-825c-2cafc0083702",
   "metadata": {
    "tags": []
   },
   "outputs": [],
   "source": [
    "nuages3 = detect_nuage_folder('../data/PLEIADES/2020/MAYOTTE', threshold = 240, min_size = 30000)"
   ]
  },
  {
   "cell_type": "code",
   "execution_count": 225,
   "id": "878b6305-c1a0-4f0d-949e-722d791bb840",
   "metadata": {
    "tags": []
   },
   "outputs": [],
   "source": [
    "len(nuages3)"
   ]
  },
  {
   "cell_type": "code",
   "execution_count": 223,
   "id": "112582a1-d414-4c65-8b6e-4b0c745cd7f7",
   "metadata": {
    "tags": []
   },
   "outputs": [],
   "source": [
    "image_test = SatelliteImage.from_raster(\n",
    "        nuages[10],\n",
    "        date = date.fromisoformat('2020-01-01'), \n",
    "        n_bands = 3,\n",
    "        dep = \"976\"\n",
    "        )\n",
    "image_test.normalize()\n",
    "image_test.plot([0,1,2])\n",
    "#plot_nuage(image_test)"
   ]
  },
  {
   "cell_type": "code",
   "execution_count": 42,
   "id": "cf3b4f28-b2e5-4da9-9863-c56f704da214",
   "metadata": {
    "tags": []
   },
   "outputs": [],
   "source": [
    "def classify_clusters(image, threshold, min_size):\n",
    "    image = image.array.copy()\n",
    "\n",
    "    image = image[[0,1,2],:, :]\n",
    "\n",
    "    image = (image*255).astype(np.uint8)\n",
    "\n",
    "    image = image.transpose(1, 2, 0)\n",
    "\n",
    "    # Convertir l'image RGB en niveau de gris\n",
    "    grayscale = np.mean(image, axis=2)\n",
    "\n",
    "    # Label the connected components in the binary image\n",
    "    labeled, num_features = label(grayscale > threshold)\n",
    "\n",
    "    # Initialize an array to store the classification results\n",
    "    result = np.zeros_like(grayscale, dtype=np.uint8)\n",
    "\n",
    "    # Classify each connected component based on its size\n",
    "    for i in tqdm(range(1, num_features+1)):\n",
    "        # Calculate the size of the current component\n",
    "        size = np.sum(labeled == i)\n",
    "\n",
    "        # If the component is larger than the minimum size, classify it as a cluster\n",
    "        if size >= min_size:\n",
    "            result[labeled == i] = 255\n",
    "    \n",
    "    fig, (ax1, ax2) = plt.subplots(1, 2, figsize=(10, 5))\n",
    "    ax1.imshow(image)\n",
    "    ax1.set_title(\"Image originale\")\n",
    "    ax2.imshow(result)\n",
    "    ax2.set_title(\"Image avec les amas de pixels blancs en rouge\")\n",
    "    plt.show()\n",
    "    \n",
    "\n"
   ]
  },
  {
   "cell_type": "code",
   "execution_count": 150,
   "id": "38c1e459-6234-44b5-87b5-6f7e90b83eb0",
   "metadata": {
    "tags": []
   },
   "outputs": [],
   "source": [
    "result = classify_clusters(image_test, 200, 90000)"
   ]
  },
  {
   "cell_type": "code",
   "execution_count": 154,
   "id": "8a053a76-499c-416b-b039-f9bfcf6c4431",
   "metadata": {
    "tags": []
   },
   "outputs": [],
   "source": [
    "os.listdir('../data/PLEIADES/2020/MAYOTTE')[:100][24]"
   ]
  },
  {
   "cell_type": "code",
   "execution_count": 170,
   "id": "59c92d43-c05c-45c8-b67d-b9b92cb5de4b",
   "metadata": {
    "tags": []
   },
   "outputs": [],
   "source": [
    "import re"
   ]
  },
  {
   "cell_type": "code",
   "execution_count": 205,
   "id": "e530b5c8-6c31-4b0e-84e7-789240179d49",
   "metadata": {
    "tags": []
   },
   "outputs": [],
   "source": [
    "folder_path = '../data/PLEIADES/2020/MAYOTTE'\n",
    "distance = 2\n",
    "bands_indices = [0,1,2]\n",
    "\n",
    "# Get folder path\n",
    "pattern = \"/\"\n",
    "\n",
    "split_folder_path = re.split(pattern, folder_path)\n",
    "\n",
    "\n",
    "# Retrieve the year and the department\n",
    "annee = split_folder_path[3]\n",
    "departement = split_folder_path[4]\n",
    "dep_num = name_dep_to_num_dep[departement]\n",
    "\n",
    "\n",
    "list_images = []\n",
    "\n",
    "for filename in os.listdir('../data/PLEIADES/2020/MAYOTTE')[75:100]:\n",
    "\n",
    "# Retrieve left-top coordinates of all images\n",
    "        image = SatelliteImage.from_raster(\n",
    "                folder_path + '/' +filename,\n",
    "                date = date.fromisoformat(annee + '-01-01'), \n",
    "                n_bands = len(bands_indices),\n",
    "                dep = dep_num\n",
    "            )\n",
    "        image.normalize()\n",
    "        list_images.append(image)\n",
    "\n",
    "mat_list_images = np.transpose(np.array(list_images).reshape(5,5))\n",
    "\n",
    "\n",
    "# Create a figure and axes\n",
    "fig, axs = plt.subplots(nrows=5, ncols=5, figsize=(10,10))\n",
    "\n",
    "# Iterate over the grid of masks and plot them\n",
    "for i in range(5):\n",
    "    for j in range(5):\n",
    "        axs[i, j].imshow(\n",
    "            mat_list_images[i, j].array.transpose(2,1,0)\n",
    "        )\n",
    "\n",
    "# Remove any unused axes\n",
    "for i in range(5):\n",
    "    for j in range(5):\n",
    "        axs[i, j].set_axis_off()\n",
    "\n",
    "# Show the plot\n",
    "plt.show()\n",
    "        "
   ]
  },
  {
   "cell_type": "code",
   "execution_count": 216,
   "id": "9da5ecc8-e66a-4b69-a1c5-b9918f8c3917",
   "metadata": {
    "tags": []
   },
   "outputs": [],
   "source": [
    "import math"
   ]
  },
  {
   "cell_type": "code",
   "execution_count": 219,
   "id": "913b172e-423b-41ca-8cf7-2bd812c4ffb3",
   "metadata": {
    "tags": []
   },
   "outputs": [],
   "source": [
    "def plot_list_path_square(list_filepaths):\n",
    "    size = int(math.sqrt(len(list_filepaths)))\n",
    "    folder_path = list_filepaths[0]\n",
    "    bands_indices = [0,1,2]\n",
    "\n",
    "    # Get folder path\n",
    "    pattern = \"/\"\n",
    "\n",
    "    split_folder_path = re.split(pattern, folder_path)\n",
    "\n",
    "\n",
    "    # Retrieve the year and the department\n",
    "    annee = split_folder_path[3]\n",
    "    departement = split_folder_path[4]\n",
    "    dep_num = name_dep_to_num_dep[departement]\n",
    "\n",
    "\n",
    "    list_images = []\n",
    "\n",
    "    for filepath in list_filepaths:\n",
    "\n",
    "    # Retrieve left-top coordinates of all images\n",
    "            image = SatelliteImage.from_raster(\n",
    "                    filepath,\n",
    "                    date = date.fromisoformat(annee + '-01-01'), \n",
    "                    n_bands = len(bands_indices),\n",
    "                    dep = dep_num\n",
    "                )\n",
    "            image.normalize()\n",
    "            list_images.append(image)\n",
    "\n",
    "    mat_list_images = np.transpose(np.array(list_images).reshape(size,size))\n",
    "\n",
    "\n",
    "    # Create a figure and axes\n",
    "    fig, axs = plt.subplots(nrows=size, ncols=size, figsize=(10,10))\n",
    "\n",
    "    # Iterate over the grid of masks and plot them\n",
    "    for i in range(size):\n",
    "        for j in range(size):\n",
    "            axs[i, j].imshow(\n",
    "                mat_list_images[i, j].array.transpose(2,1,0)\n",
    "            )\n",
    "\n",
    "    # Remove any unused axes\n",
    "    for i in range(size):\n",
    "        for j in range(size):\n",
    "            axs[i, j].set_axis_off()\n",
    "\n",
    "    # Show the plot\n",
    "    plt.show()\n"
   ]
  },
  {
   "cell_type": "code",
   "execution_count": 227,
   "id": "b77ea7aa-a597-4587-ab02-f68036446956",
   "metadata": {
    "tags": []
   },
   "outputs": [],
   "source": [
    "plot_list_path_square(nuages[:9])"
   ]
  },
  {
   "cell_type": "code",
   "execution_count": null,
   "id": "0ca76809-498e-40f3-beb3-9c2fcde518d0",
   "metadata": {
    "tags": []
   },
   "outputs": [],
   "source": [
    "masks=mask_nuage_filepaths(nuages, 160, 20000)"
   ]
  },
  {
   "cell_type": "code",
   "execution_count": 17,
   "id": "17b57054-225d-46a9-954e-eeb5c4756f11",
   "metadata": {
    "tags": []
   },
   "outputs": [],
   "source": [
    "import geopandas as gpd\n",
    "from shapely.geometry import Polygon\n",
    "from rasterio.features import rasterize, shapes"
   ]
  },
  {
   "cell_type": "code",
   "execution_count": 49,
   "id": "2b9521a4-f164-4f83-ab00-d7dd9cd5a5c3",
   "metadata": {
    "tags": []
   },
   "outputs": [],
   "source": [
    "nuage_centre = mask_nuage(image_3, threshold = 250, min_size = 20000)\n",
    "nuage_entier = mask_nuage(image_3, threshold = 160, min_size = 20000)"
   ]
  },
  {
   "cell_type": "code",
   "execution_count": 55,
   "id": "21bcac4b-128b-4b5b-8886-7b8d6f29e15e",
   "metadata": {
    "tags": []
   },
   "outputs": [],
   "source": [
    "image_height = image_3.array.shape[1]\n",
    "image_width = image_3.array.shape[2]\n",
    "polygon_list = []\n",
    "for shape in list(shapes(nuage_centre)):\n",
    "    polygon = Polygon(shape[0][\"coordinates\"][0])\n",
    "    if polygon.area > 0.85 * image_height * image_width:\n",
    "        continue\n",
    "    polygon_list.append(polygon)\n",
    "    \n",
    "# Créer un GeoSeries à partir de la liste de polygons\n",
    "g_centre = gpd.GeoDataFrame(geometry = polygon_list)"
   ]
  },
  {
   "cell_type": "code",
   "execution_count": 57,
   "id": "aaab00b3-3a8f-4725-b68c-95a5810e1790",
   "metadata": {
    "tags": []
   },
   "outputs": [],
   "source": [
    "polygon_list = []\n",
    "for shape in list(shapes(nuage_entier)):\n",
    "    polygon = Polygon(shape[0][\"coordinates\"][0])\n",
    "    if polygon.area > 0.85 * image_height * image_width:\n",
    "        continue\n",
    "    polygon_list.append(polygon)\n",
    " \n",
    "#Créer un GeoSeries à partir de la liste de polygons\n",
    "g_entier = gpd.GeoDataFrame(geometry = polygon_list)"
   ]
  },
  {
   "cell_type": "code",
   "execution_count": 59,
   "id": "4cbd841b-9efc-4a6a-be8a-b3c5c89037a3",
   "metadata": {
    "tags": []
   },
   "outputs": [],
   "source": [
    "result = gpd.sjoin(g_entier, g_centre,how=\"inner\",predicate = \"intersects\")"
   ]
  },
  {
   "cell_type": "code",
   "execution_count": 60,
   "id": "eadfdedf-fe52-417a-9170-9ac5705f39cc",
   "metadata": {
    "tags": []
   },
   "outputs": [],
   "source": [
    "result.geometry"
   ]
  },
  {
   "cell_type": "code",
   "execution_count": 61,
   "id": "7805578e-8119-48d4-b1d6-af665f46e0d7",
   "metadata": {
    "tags": []
   },
   "outputs": [],
   "source": [
    "g_result = result.geometry"
   ]
  },
  {
   "cell_type": "code",
   "execution_count": 64,
   "id": "64fd229d-341f-46d1-a05e-5de4dc70e3bf",
   "metadata": {
    "tags": []
   },
   "outputs": [],
   "source": [
    "fig, ax = plt.subplots(figsize=(10, 10))\n",
    "ax.imshow(np.transpose(image_3.array, (1, 2, 0))[:,:,:3])\n",
    "result.plot(color = \"orange\", ax=ax)"
   ]
  }
 ],
 "metadata": {
  "kernelspec": {
   "display_name": "Python 3 (ipykernel)",
   "language": "python",
   "name": "python3"
  },
  "language_info": {
   "codemirror_mode": {
    "name": "ipython",
    "version": 3
   },
   "file_extension": ".py",
   "mimetype": "text/x-python",
   "name": "python",
   "nbconvert_exporter": "python",
   "pygments_lexer": "ipython3",
   "version": "3.10.9"
  }
 },
 "nbformat": 4,
 "nbformat_minor": 5
}
