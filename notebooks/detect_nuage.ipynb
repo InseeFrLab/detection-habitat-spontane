{
 "cells": [
  {
   "cell_type": "code",
   "execution_count": 1,
   "id": "e5313c04-bbc8-4e19-97e3-f8bc396a93ac",
   "metadata": {
    "tags": []
   },
   "outputs": [],
   "source": [
    "%load_ext autoreload\n",
    "%autoreload 2"
   ]
  },
  {
   "cell_type": "code",
   "execution_count": null,
   "id": "f0b0d6ee-26db-4cb9-93d3-0480b542de80",
   "metadata": {
    "tags": []
   },
   "outputs": [],
   "source": [
    "! pip install rasterio  -q -q -q\n",
    "! pip install geopandas -q -q -q\n",
    "! pip install matplotlib -q -q -q"
   ]
  },
  {
   "cell_type": "code",
   "execution_count": 18,
   "id": "739dbbc7-9bf5-48a5-8ec2-57656900a3e0",
   "metadata": {
    "tags": []
   },
   "outputs": [],
   "source": [
    "!pip install scikit-image"
   ]
  },
  {
   "cell_type": "code",
   "execution_count": 2,
   "id": "a97f0290-1f87-484b-b606-0f7dbaca3dde",
   "metadata": {
    "tags": []
   },
   "outputs": [],
   "source": [
    "import sys\n",
    "sys.path.append('../src')\n",
    "from satellite_image import SatelliteImage\n",
    "from utils import *\n",
    "from plot_utils import *\n",
    "from image_utils import *\n",
    "import mappings as mapps"
   ]
  },
  {
   "cell_type": "code",
   "execution_count": 3,
   "id": "e0be5ce8-a1ff-4cdb-ab3e-77dbc92ca570",
   "metadata": {
    "tags": []
   },
   "outputs": [],
   "source": [
    "import yaml\n",
    "import re\n",
    "import s3fs\n",
    "import numpy as np\n",
    "import matplotlib.pyplot as plt\n",
    "from PIL import Image as im\n",
    "import re\n",
    "from pyproj import Transformer\n",
    "from datetime import date\n",
    "from scipy.ndimage import label\n",
    "import time\n",
    "from tqdm import tqdm\n",
    "import os"
   ]
  },
  {
   "cell_type": "code",
   "execution_count": 4,
   "id": "77023cc9-c8a1-44c8-9455-d2d8165b24b3",
   "metadata": {
    "tags": []
   },
   "outputs": [],
   "source": [
    "update_storage_access()"
   ]
  },
  {
   "cell_type": "code",
   "execution_count": 5,
   "id": "cc009c4d-48be-4cb1-811b-4f7e73c60212",
   "metadata": {
    "tags": []
   },
   "outputs": [],
   "source": [
    "environment = get_environment()\n",
    "\n",
    "root_path = get_root_path()\n",
    "\n",
    "bucket = environment[\"bucket\"]\n",
    "\n",
    "#2022\n",
    "#guyane 2022\n",
    "path_s3_pleiades_data_2022_guyane = environment[\"sources\"][\"PLEIADES\"][2022][\"guyane\"]\n",
    "path_local_pleiades_data_2022_guyane = environment[\"local-path\"][\"PLEIADES\"][2022][\"guyane\"]\n",
    "\n",
    "#martinique 2022\n",
    "path_s3_pleiades_data_2022_martinique = environment[\"sources\"][\"PLEIADES\"][2022][\"martinique\"]\n",
    "path_local_pleiades_data_2022_martinique = environment[\"local-path\"][\"PLEIADES\"][2022][\"martinique\"]\n",
    "          \n",
    "#guadeloupe 2022\n",
    "path_s3_pleiades_data_2022_guadeloupe = environment[\"sources\"][\"PLEIADES\"][2022][\"guadeloupe\"]\n",
    "path_local_pleiades_data_2022_guadeloupe = environment[\"local-path\"][\"PLEIADES\"][2022][\"guadeloupe\"]\n",
    "\n",
    "#mayotte 2022\n",
    "path_s3_pleiades_data_2022_mayotte = environment[\"sources\"][\"PLEIADES\"][2022][\"mayotte\"]\n",
    "path_local_pleiades_data_2022_mayotte = environment[\"local-path\"][\"PLEIADES\"][2022][\"mayotte\"]\n",
    "\n",
    "#2020\n",
    "#mayotte 2020\n",
    "path_s3_pleiades_data_2020_mayotte = environment[\"sources\"][\"PLEIADES\"][2020][\"mayotte\"]\n",
    "path_local_pleiades_data_2020_mayotte = environment[\"local-path\"][\"PLEIADES\"][2020][\"mayotte\"]\n",
    "\n",
    "#2019\n",
    "#mayotte 2019\n",
    "path_s3_pleiades_data_2019_mayotte = environment[\"sources\"][\"PLEIADES\"][2019][\"mayotte\"]\n",
    "path_local_pleiades_data_2019_mayotte = environment[\"local-path\"][\"PLEIADES\"][2019][\"mayotte\"]\n",
    "\n",
    "#2018\n",
    "#reunion 2018\n",
    "path_s3_pleiades_data_2018_reunion = environment[\"sources\"][\"PLEIADES\"][2018][\"reunion\"]\n",
    "path_local_pleiades_data_2018_reunion = environment[\"local-path\"][\"PLEIADES\"][2018][\"reunion\"]\n",
    "\n",
    "#2017\n",
    "#martinique 2017\n",
    "path_s3_pleiades_data_2017_martinique = environment[\"sources\"][\"PLEIADES\"][2017][\"martinique\"]\n",
    "path_local_pleiades_data_2017_martinique = environment[\"local-path\"][\"PLEIADES\"][2017][\"martinique\"]\n",
    "\n",
    "#mayotte 2017\n",
    "path_s3_pleiades_data_2017_mayotte = environment[\"sources\"][\"PLEIADES\"][2017][\"mayotte\"]\n",
    "path_local_pleiades_data_2017_mayotte = environment[\"local-path\"][\"PLEIADES\"][2017][\"mayotte\"]\n",
    "\n",
    "fs = s3fs.S3FileSystem(client_kwargs={\"endpoint_url\": \"https://minio.lab.sspcloud.fr\"})"
   ]
  },
  {
   "cell_type": "code",
   "execution_count": 7,
   "id": "0dfb14c7-ab4f-467c-b831-d44e25ec345d",
   "metadata": {
    "tags": []
   },
   "outputs": [],
   "source": [
    "# DL PLEIADE mayotte 2020\n",
    "fs.download(\n",
    "        rpath=f\"{bucket}/{path_s3_pleiades_data_2020_mayotte}\",\n",
    "        lpath=f\"../{path_local_pleiades_data_2020_mayotte}\",\n",
    "        recursive=True)"
   ]
  },
  {
   "cell_type": "code",
   "execution_count": null,
   "id": "e2496fbb-19d9-40c5-9c2a-589b76df64d4",
   "metadata": {
    "tags": []
   },
   "outputs": [],
   "source": [
    "# DL PLEIADE mayotte 2017\n",
    "fs.download(\n",
    "        rpath=f\"{bucket}/{path_s3_pleiades_data_2017_mayotte}\",\n",
    "        lpath=f\"../{path_local_pleiades_data_2017_mayotte}\",\n",
    "        recursive=True)"
   ]
  },
  {
   "cell_type": "markdown",
   "id": "d8c9770d-9e1e-4d61-bda4-e1bf68b62e7d",
   "metadata": {},
   "source": [
    "## Détection nuages"
   ]
  },
  {
   "cell_type": "code",
   "execution_count": 37,
   "id": "2520a938-2bb7-46d5-9379-432c14adeb02",
   "metadata": {
    "tags": []
   },
   "outputs": [],
   "source": [
    "plot_square_images([0,1,2], 2 , None, '../data/PLEIADES/2020/MAYOTTE/ORT_2020052526656219_0508_8599_U38S_8Bits.jp2')"
   ]
  },
  {
   "cell_type": "code",
   "execution_count": 7,
   "id": "bbfa2e22-68da-4cf1-afe8-b0f4b0cb6bdb",
   "metadata": {
    "tags": []
   },
   "outputs": [],
   "source": [
    "#image avec nuage \n",
    "filename_3 = '../data/PLEIADES/2020/MAYOTTE/ORT_2020052526656219_0508_8599_U38S_8Bits.jp2' \n",
    "date_3 = date.fromisoformat('2020-01-01')"
   ]
  },
  {
   "cell_type": "code",
   "execution_count": 8,
   "id": "74bcccf4-020f-4cb8-85ac-747dd3ee8a5b",
   "metadata": {
    "tags": []
   },
   "outputs": [],
   "source": [
    "image_3 = SatelliteImage.from_raster(\n",
    "        filename_3,\n",
    "        date = date_3, \n",
    "        n_bands = 3,\n",
    "        dep = \"976\"\n",
    "    )\n",
    "image_3.normalize()"
   ]
  },
  {
   "cell_type": "code",
   "execution_count": 9,
   "id": "1cb09bf9-1bab-4fef-8da0-db6ccb007bea",
   "metadata": {
    "tags": []
   },
   "outputs": [],
   "source": [
    "image_3.plot([0,1,2]) "
   ]
  },
  {
   "cell_type": "code",
   "execution_count": 64,
   "id": "dc631a51-5d8f-4e54-a996-0a6637ec94b2",
   "metadata": {
    "tags": []
   },
   "outputs": [],
   "source": [
    "def find_nuage(image):\n",
    "    list_images = image.split(250)\n",
    "    list_nuage = []\n",
    "    num_patch = 0\n",
    "    #on parcourt chaque patch\n",
    "    for mini_image in list_images:\n",
    "        image = mini_image.array\n",
    "\n",
    "        image = image[[0,1,2],:, :]\n",
    "\n",
    "        image = (image*255).astype(np.uint8)\n",
    "\n",
    "        image = image.transpose(1, 2, 0)\n",
    "\n",
    "        # Convertir l'image RGB en niveau de gris\n",
    "        grayscale = np.mean(image, axis=2)\n",
    "\n",
    "        # Trouver les amas de pixels blancs de taille 10 ou plus\n",
    "        threshold = 130  # seuil pour considérer un pixel comme \"blanc\"\n",
    "\n",
    "        labeled, num_features = label(grayscale > threshold)\n",
    "\n",
    "        nuage=False\n",
    "        min_size = 3125 # taille minimale de l'amas (250*250 = 62 500 pixels et on souhaite détecter des nuages qui occupent + de 5% de l'image)\n",
    "        if num_features >= 1:\n",
    "            lab = np.asarray(labeled)\n",
    "            for i in range(1, num_features + 1):\n",
    "                if np.sum(lab == i) >= min_size: \n",
    "                    nuage= True\n",
    "                    break\n",
    "        \n",
    "        if nuage == True:\n",
    "            list_nuage.append(num_patch)\n",
    "        \n",
    "        num_patch +=1\n",
    "            \n",
    "    return(list_nuage)\n",
    "            \n",
    "def plot_nuage(image):\n",
    "    image = image.array\n",
    "\n",
    "    image = image[[0,1,2],:, :]\n",
    "\n",
    "    image = (image*255).astype(np.uint8)\n",
    "\n",
    "    image = image.transpose(1, 2, 0)\n",
    "\n",
    "    # Convertir l'image RGB en niveau de gris\n",
    "    grayscale = np.mean(image, axis=2)\n",
    "\n",
    "    # Trouver les amas de pixels blancs correspondant à 5% ou plus de l'image\n",
    "    threshold = 210  # seuil pour considérer un pixel comme \"blanc\"\n",
    "\n",
    "    labeled, num_features = label(grayscale > threshold)\n",
    "\n",
    "    min_size = 10000  # taille minimale de l'amas (2000*2000 = 4 000 000 pixels et on souhaite détecter des nuages qui occupent + de 5% de l'image)\n",
    "    mask = np.zeros_like(grayscale, dtype=bool)\n",
    "    if num_features >= 1:\n",
    "        lab = np.asarray(labeled)\n",
    "        for i in tqdm(range(1, num_features + 1)):\n",
    "            if np.sum(lab == i) >= min_size: \n",
    "                mask |= np.array(lab == i)\n",
    "\n",
    "    # Afficher l'image avec les amas de pixels blancs en rouge\n",
    "    result = np.copy(image)\n",
    "    result[mask] = [255, 0, 0]\n",
    "\n",
    "    # Afficher l'image originale et l'image résultante côte à côte\n",
    "    fig, (ax1, ax2) = plt.subplots(1, 2, figsize=(10, 5))\n",
    "    ax1.imshow(image)\n",
    "    ax1.set_title(\"Image originale\")\n",
    "    ax2.imshow(result)\n",
    "    ax2.set_title(\"Image avec les amas de pixels blancs en rouge\")\n",
    "    plt.show()\n",
    "    \n",
    "def detect_nuage(folder_path):\n",
    "    nuages = []\n",
    "    filenames = os.listdir(folder_path)\n",
    "    n_files = len(filenames)\n",
    "    \n",
    "    for filename in tqdm(filenames):\n",
    "        # Affichage de la barre de progression\n",
    "        try :\n",
    "        \n",
    "            image = SatelliteImage.from_raster(\n",
    "                    folder_path + '/' +filename,\n",
    "                    date = date.fromisoformat('2020-01-01'), \n",
    "                    n_bands = 3,\n",
    "                    dep = \"976\"\n",
    "                    )\n",
    "            image.normalize()\n",
    "\n",
    "            list_images = image.split(250)\n",
    "            #on parcourt chaque patch\n",
    "            for mini_image in list_images:\n",
    "\n",
    "                image = mini_image.array\n",
    "\n",
    "                image = image[[0,1,2],:, :]\n",
    "\n",
    "                image = (image*255).astype(np.uint8)\n",
    "\n",
    "                image = image.transpose(1, 2, 0)\n",
    "\n",
    "                # Convertir l'image RGB en niveau de gris\n",
    "                grayscale = np.mean(image, axis=2)\n",
    "\n",
    "                # Trouver les amas de pixels blancs de taille 10 ou plus\n",
    "                threshold = 210  # seuil pour considérer un pixel comme \"blanc\"\n",
    "\n",
    "                labeled, num_features = label(grayscale > threshold)\n",
    "\n",
    "                nuage=False\n",
    "                min_size = 10000 # taille minimale de l'amas (on souhaite détecter des nuages qui occupent + de 0,25% de l'image)\n",
    "                lab = np.asarray(labeled)\n",
    "                if num_features >= 1:\n",
    "                    for i in range(1, num_features + 1):\n",
    "                        if np.sum(lab == i) >= min_size: \n",
    "                            nuage= True\n",
    "                            break\n",
    "\n",
    "                if nuage == True:\n",
    "                    nuages.append(folder_path + '/' +filename)\n",
    "                    break\n",
    "                    \n",
    "        except RasterioIOError:\n",
    "            print(\"L'image \"+filename+\" ne s'ouvre pas.\")\n",
    "            \n",
    "        finally :\n",
    "            continue\n",
    "            \n",
    "    return(nuages)\n",
    "\n"
   ]
  },
  {
   "cell_type": "code",
   "execution_count": 87,
   "id": "eeedc0f5-9365-4e1d-bf6d-b71e56c09bb8",
   "metadata": {
    "tags": []
   },
   "outputs": [],
   "source": [
    "import numpy as np\n",
    "from scipy.ndimage import label\n",
    "import matplotlib.pyplot as plt\n",
    "import time\n",
    "\n",
    "def find_nuage(image):\n",
    "    list_images = image.split(250)\n",
    "    list_nuage = []\n",
    "    num_patch = 0\n",
    "    #on parcourt chaque patch\n",
    "    for mini_image in list_images:\n",
    "        image = mini_image.array\n",
    "\n",
    "        image = image[[0,1,2],:, :]\n",
    "\n",
    "        image = (image*255).astype(np.uint8)\n",
    "\n",
    "        image = image.transpose(1, 2, 0)\n",
    "\n",
    "        # Convertir l'image RGB en niveau de gris\n",
    "        grayscale = np.mean(image, axis=2)\n",
    "\n",
    "        # Trouver les amas de pixels blancs de taille 10 ou plus\n",
    "        threshold = 130  # seuil pour considérer un pixel comme \"blanc\"\n",
    "\n",
    "        labeled, num_features = label(grayscale > threshold)\n",
    "\n",
    "        nuage=False\n",
    "        min_size = 3125 # taille minimale de l'amas (250*250 = 62 500 pixels et on souhaite détecter des nuages qui occupent + de 5% de l'image)\n",
    "        if num_features >= 1:\n",
    "            lab = np.asarray(labeled)\n",
    "            for i in range(1, num_features + 1):\n",
    "                if np.sum(lab == i) >= min_size: \n",
    "                    nuage= True\n",
    "                    break\n",
    "        \n",
    "        if nuage == True:\n",
    "            list_nuage.append(num_patch)\n",
    "        \n",
    "        num_patch +=1\n",
    "            \n",
    "    return(list_nuage)\n",
    "            \n",
    "def plot_nuage(image):\n",
    "    image = image.array\n",
    "\n",
    "    image = image[[0,1,2],:, :]\n",
    "\n",
    "    image = (image*255).astype(np.uint8)\n",
    "\n",
    "    image = image.transpose(1, 2, 0)\n",
    "\n",
    "    # Convertir l'image RGB en niveau de gris\n",
    "    grayscale = np.mean(image, axis=2)\n",
    "\n",
    "    # Trouver les amas de pixels blancs correspondant à 5% ou plus de l'image\n",
    "    threshold = 250  # seuil pour considérer un pixel comme \"blanc\"\n",
    "\n",
    "    labeled, num_features = label(grayscale > threshold)\n",
    "\n",
    "    min_size = 20000  # taille minimale de l'amas (2000*2000 = 4 000 000 pixels et on souhaite détecter des nuages qui occupent + de 0,5% de l'image)\n",
    "    mask = np.zeros_like(grayscale, dtype=bool)\n",
    "    cpt = 0\n",
    "    if num_features >= 1:\n",
    "        lab = np.asarray(labeled)\n",
    "        for i in tqdm(range(1, num_features + 1)):\n",
    "            if np.sum(lab == i) >= min_size: \n",
    "                mask |= np.array(labeled == i)\n",
    "                cpt +=1\n",
    "\n",
    "    # Afficher l'image avec les amas de pixels blancs en rouge\n",
    "    result = np.copy(image)\n",
    "    result[mask] = [255, 0, 0]\n",
    "\n",
    "    # Afficher l'image originale et l'image résultante côte à côte\n",
    "    fig, (ax1, ax2) = plt.subplots(1, 2, figsize=(10, 5))\n",
    "    ax1.imshow(image)\n",
    "    ax1.set_title(\"Image originale\")\n",
    "    ax2.imshow(result)\n",
    "    ax2.set_title(\"Image avec les amas de pixels blancs en rouge\")\n",
    "    plt.show()\n",
    "    return(cpt)\n",
    "    \n",
    "def detect_nuage(folder_path):\n",
    "    nuages = []\n",
    "    filenames = os.listdir(folder_path)[:300]\n",
    "    \n",
    "    for filename in tqdm(filenames):\n",
    "        # Affichage de la barre de progression\n",
    "        try :\n",
    "        \n",
    "            image = SatelliteImage.from_raster(\n",
    "                    folder_path + '/' +filename,\n",
    "                    date = date.fromisoformat('2020-01-01'), \n",
    "                    n_bands = 3,\n",
    "                    dep = \"976\"\n",
    "                    )\n",
    "            image.normalize()\n",
    "\n",
    "            list_images = image.split(250)\n",
    "            cpt = 0\n",
    "            #on parcourt chaque patch\n",
    "            for mini_image in list_images:\n",
    "\n",
    "                image = mini_image.array\n",
    "\n",
    "                image = image[[0,1,2],:, :]\n",
    "\n",
    "                image = (image*255).astype(np.uint8)\n",
    "\n",
    "                image = image.transpose(1, 2, 0)\n",
    "\n",
    "                # Convertir l'image RGB en niveau de gris\n",
    "                grayscale = np.mean(image, axis=2)\n",
    "\n",
    "                # Trouver les amas de pixels blancs de taille 10 ou plus\n",
    "                threshold = 250  # seuil pour considérer un pixel comme \"blanc\"\n",
    "\n",
    "                labeled, num_features = label(grayscale > threshold)\n",
    "\n",
    "                nuage=False\n",
    "                min_size = 20000 # taille minimale de l'amas (on souhaite détecter des nuages qui occupent + de 0,5% de l'image TOTALE !)\n",
    "                if num_features >= 1:\n",
    "                    lab = np.asarray(labeled)\n",
    "                    for i in range(1, num_features + 1):\n",
    "                        if np.sum(lab == i) >= min_size:\n",
    "                            cpt +=1\n",
    "#                             nuage= True\n",
    "#                             break\n",
    "#                         else:\n",
    "#                             continue\n",
    "\n",
    "#                 elif nuage == True:\n",
    "#                     nuages.append(folder_path + '/' +filename)\n",
    "#                     break\n",
    "                    \n",
    "#                 else :\n",
    "#                     continue\n",
    "            if cpt >= 1:\n",
    "                nuages.append(folder_path + '/' +filename)\n",
    "        except RasterioIOError:\n",
    "            print(\"L'image \"+filename+\" ne s'ouvre pas.\")\n",
    "            \n",
    "        finally :\n",
    "            continue\n",
    "            \n",
    "    return(nuages)\n",
    "\n"
   ]
  },
  {
   "cell_type": "code",
   "execution_count": 88,
   "id": "a0b492a7-54ab-44f1-a27d-730d700fa855",
   "metadata": {
    "tags": []
   },
   "outputs": [],
   "source": [
    "nuages = detect_nuage('../data/PLEIADES/2020/MAYOTTE')"
   ]
  },
  {
   "cell_type": "code",
   "execution_count": 89,
   "id": "9736f73b-b894-4c31-a4d4-fb4478b28287",
   "metadata": {
    "tags": []
   },
   "outputs": [],
   "source": [
    "len(nuages)"
   ]
  },
  {
   "cell_type": "code",
   "execution_count": 100,
   "id": "112582a1-d414-4c65-8b6e-4b0c745cd7f7",
   "metadata": {
    "tags": []
   },
   "outputs": [],
   "source": [
    "image_test = SatelliteImage.from_raster(\n",
    "        nuages[27],\n",
    "        date = date.fromisoformat('2020-01-01'), \n",
    "        n_bands = 3,\n",
    "        dep = \"976\"\n",
    "        )\n",
    "image_test.normalize()\n",
    "image_test.plot([0,1,2])\n",
    "#plot_nuage(image_test)"
   ]
  },
  {
   "cell_type": "code",
   "execution_count": 65,
   "id": "a02860f9-f323-4e69-88ed-cf1ae927164f",
   "metadata": {
    "tags": []
   },
   "outputs": [],
   "source": [
    "filenames = os.listdir('../data/PLEIADES/2020/MAYOTTE')[:100]"
   ]
  },
  {
   "cell_type": "code",
   "execution_count": 86,
   "id": "f8e6197f-5539-4b1a-8c00-f01fb38a3edf",
   "metadata": {
    "tags": []
   },
   "outputs": [],
   "source": [
    "\n",
    "image_test = SatelliteImage.from_raster(\n",
    "        '../data/PLEIADES/2020/MAYOTTE' + '/' +filenames[16],\n",
    "        date = date.fromisoformat('2020-01-01'), \n",
    "        n_bands = 3,\n",
    "        dep = \"976\"\n",
    "        )\n",
    "image_test.normalize()\n",
    "image_test.plot([0,1,2])\n",
    "#plot_nuage(image_test)"
   ]
  }
 ],
 "metadata": {
  "kernelspec": {
   "display_name": "Python 3 (ipykernel)",
   "language": "python",
   "name": "python3"
  },
  "language_info": {
   "codemirror_mode": {
    "name": "ipython",
    "version": 3
   },
   "file_extension": ".py",
   "mimetype": "text/x-python",
   "name": "python",
   "nbconvert_exporter": "python",
   "pygments_lexer": "ipython3",
   "version": "3.10.9"
  }
 },
 "nbformat": 4,
 "nbformat_minor": 5
}
