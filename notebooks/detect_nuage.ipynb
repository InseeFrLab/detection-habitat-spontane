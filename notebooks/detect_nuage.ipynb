{
 "cells": [
  {
   "cell_type": "markdown",
   "id": "2b510636-26d4-4747-ac0b-4af16023b6e8",
   "metadata": {},
   "source": [
    "# Détection de nuages sur des images Pléiades avec 3 bandes RGB."
   ]
  },
  {
   "cell_type": "markdown",
   "id": "d64eedf4-b6f7-41b2-a86a-e9050ef33d92",
   "metadata": {
    "jp-MarkdownHeadingCollapsed": true,
    "tags": []
   },
   "source": [
    "## Packages et données"
   ]
  },
  {
   "cell_type": "code",
   "execution_count": 1,
   "id": "e5313c04-bbc8-4e19-97e3-f8bc396a93ac",
   "metadata": {
    "tags": []
   },
   "outputs": [],
   "source": [
    "%load_ext autoreload\n",
    "%autoreload 2"
   ]
  },
  {
   "cell_type": "code",
   "execution_count": 2,
   "id": "f0b0d6ee-26db-4cb9-93d3-0480b542de80",
   "metadata": {
    "tags": []
   },
   "outputs": [],
   "source": [
    "! pip install rasterio  -q -q -q\n",
    "! pip install geopandas -q -q -q\n",
    "! pip install matplotlib -q -q -q"
   ]
  },
  {
   "cell_type": "code",
   "execution_count": 3,
   "id": "739dbbc7-9bf5-48a5-8ec2-57656900a3e0",
   "metadata": {
    "tags": []
   },
   "outputs": [],
   "source": [
    "!pip install scikit-image"
   ]
  },
  {
   "cell_type": "code",
   "execution_count": 93,
   "id": "a97f0290-1f87-484b-b606-0f7dbaca3dde",
   "metadata": {
    "tags": []
   },
   "outputs": [],
   "source": [
    "import sys\n",
    "sys.path.append('../src')\n",
    "from satellite_image import SatelliteImage\n",
    "from utils import *\n",
    "from plot_utils import *\n",
    "from image_utils import *\n",
    "from mappings import *\n",
    "from filter import *"
   ]
  },
  {
   "cell_type": "code",
   "execution_count": 3,
   "id": "e0be5ce8-a1ff-4cdb-ab3e-77dbc92ca570",
   "metadata": {
    "tags": []
   },
   "outputs": [],
   "source": [
    "import yaml\n",
    "import re\n",
    "import s3fs\n",
    "import numpy as np\n",
    "import matplotlib.pyplot as plt\n",
    "from PIL import Image as im\n",
    "import re\n",
    "from pyproj import Transformer\n",
    "from datetime import date\n",
    "from scipy.ndimage import label\n",
    "import time\n",
    "from tqdm import tqdm\n",
    "import os"
   ]
  },
  {
   "cell_type": "code",
   "execution_count": 5,
   "id": "de93f65e-5a91-471f-92e8-4a73325bb288",
   "metadata": {
    "tags": []
   },
   "outputs": [],
   "source": [
    "import math"
   ]
  },
  {
   "cell_type": "code",
   "execution_count": 4,
   "id": "17b57054-225d-46a9-954e-eeb5c4756f11",
   "metadata": {
    "tags": []
   },
   "outputs": [],
   "source": [
    "import geopandas as gpd\n",
    "from shapely.geometry import Polygon\n",
    "from rasterio.features import rasterize, shapes"
   ]
  },
  {
   "cell_type": "code",
   "execution_count": 6,
   "id": "77023cc9-c8a1-44c8-9455-d2d8165b24b3",
   "metadata": {
    "tags": []
   },
   "outputs": [],
   "source": [
    "update_storage_access()"
   ]
  },
  {
   "cell_type": "code",
   "execution_count": 7,
   "id": "cc009c4d-48be-4cb1-811b-4f7e73c60212",
   "metadata": {
    "tags": []
   },
   "outputs": [],
   "source": [
    "environment = get_environment()\n",
    "\n",
    "root_path = get_root_path()\n",
    "\n",
    "bucket = environment[\"bucket\"]\n",
    "\n",
    "#2022\n",
    "#guyane 2022\n",
    "path_s3_pleiades_data_2022_guyane = environment[\"sources\"][\"PLEIADES\"][2022][\"guyane\"]\n",
    "path_local_pleiades_data_2022_guyane = environment[\"local-path\"][\"PLEIADES\"][2022][\"guyane\"]\n",
    "\n",
    "#martinique 2022\n",
    "path_s3_pleiades_data_2022_martinique = environment[\"sources\"][\"PLEIADES\"][2022][\"martinique\"]\n",
    "path_local_pleiades_data_2022_martinique = environment[\"local-path\"][\"PLEIADES\"][2022][\"martinique\"]\n",
    "          \n",
    "#guadeloupe 2022\n",
    "path_s3_pleiades_data_2022_guadeloupe = environment[\"sources\"][\"PLEIADES\"][2022][\"guadeloupe\"]\n",
    "path_local_pleiades_data_2022_guadeloupe = environment[\"local-path\"][\"PLEIADES\"][2022][\"guadeloupe\"]\n",
    "\n",
    "#mayotte 2022\n",
    "path_s3_pleiades_data_2022_mayotte = environment[\"sources\"][\"PLEIADES\"][2022][\"mayotte\"]\n",
    "path_local_pleiades_data_2022_mayotte = environment[\"local-path\"][\"PLEIADES\"][2022][\"mayotte\"]\n",
    "\n",
    "#2020\n",
    "#mayotte 2020\n",
    "path_s3_pleiades_data_2020_mayotte = environment[\"sources\"][\"PLEIADES\"][2020][\"mayotte\"]\n",
    "path_local_pleiades_data_2020_mayotte = environment[\"local-path\"][\"PLEIADES\"][2020][\"mayotte\"]\n",
    "\n",
    "#2019\n",
    "#mayotte 2019\n",
    "path_s3_pleiades_data_2019_mayotte = environment[\"sources\"][\"PLEIADES\"][2019][\"mayotte\"]\n",
    "path_local_pleiades_data_2019_mayotte = environment[\"local-path\"][\"PLEIADES\"][2019][\"mayotte\"]\n",
    "\n",
    "#2018\n",
    "#reunion 2018\n",
    "path_s3_pleiades_data_2018_reunion = environment[\"sources\"][\"PLEIADES\"][2018][\"reunion\"]\n",
    "path_local_pleiades_data_2018_reunion = environment[\"local-path\"][\"PLEIADES\"][2018][\"reunion\"]\n",
    "\n",
    "#2017\n",
    "#martinique 2017\n",
    "path_s3_pleiades_data_2017_martinique = environment[\"sources\"][\"PLEIADES\"][2017][\"martinique\"]\n",
    "path_local_pleiades_data_2017_martinique = environment[\"local-path\"][\"PLEIADES\"][2017][\"martinique\"]\n",
    "\n",
    "#mayotte 2017\n",
    "path_s3_pleiades_data_2017_mayotte = environment[\"sources\"][\"PLEIADES\"][2017][\"mayotte\"]\n",
    "path_local_pleiades_data_2017_mayotte = environment[\"local-path\"][\"PLEIADES\"][2017][\"mayotte\"]\n",
    "\n",
    "fs = s3fs.S3FileSystem(client_kwargs={\"endpoint_url\": \"https://minio.lab.sspcloud.fr\"})"
   ]
  },
  {
   "cell_type": "code",
   "execution_count": 10,
   "id": "0dfb14c7-ab4f-467c-b831-d44e25ec345d",
   "metadata": {
    "tags": []
   },
   "outputs": [],
   "source": [
    "# DL PLEIADE mayotte 2020\n",
    "fs.download(\n",
    "        rpath=f\"{bucket}/{path_s3_pleiades_data_2020_mayotte}\",\n",
    "        lpath=f\"../{path_local_pleiades_data_2020_mayotte}\",\n",
    "        recursive=True)"
   ]
  },
  {
   "cell_type": "markdown",
   "id": "f0383174-3634-48fc-bd74-477acc4f5c13",
   "metadata": {},
   "source": [
    "## Exemple d'une image avec un nuage"
   ]
  },
  {
   "cell_type": "markdown",
   "id": "b68de02a-0309-4688-b12c-8ef1a2ff384b",
   "metadata": {},
   "source": [
    "Voici un exemple d'une image avec un nuage"
   ]
  },
  {
   "cell_type": "code",
   "execution_count": 8,
   "id": "bbfa2e22-68da-4cf1-afe8-b0f4b0cb6bdb",
   "metadata": {
    "tags": []
   },
   "outputs": [],
   "source": [
    "#image avec nuage \n",
    "filename_3 = '../data/PLEIADES/2020/MAYOTTE/ORT_2020052526656219_0508_8599_U38S_8Bits.jp2' \n",
    "date_3 = date.fromisoformat('2020-01-01')"
   ]
  },
  {
   "cell_type": "code",
   "execution_count": 88,
   "id": "74bcccf4-020f-4cb8-85ac-747dd3ee8a5b",
   "metadata": {
    "tags": []
   },
   "outputs": [],
   "source": [
    "image_3 = SatelliteImage.from_raster(\n",
    "        filename_3,\n",
    "        date = date_3, \n",
    "        n_bands = 3,\n",
    "        dep = \"976\"\n",
    "    )\n",
    "image_3.normalize()"
   ]
  },
  {
   "cell_type": "code",
   "execution_count": 12,
   "id": "1cb09bf9-1bab-4fef-8da0-db6ccb007bea",
   "metadata": {
    "tags": []
   },
   "outputs": [],
   "source": [
    "image_3.plot([0,1,2]) "
   ]
  },
  {
   "cell_type": "markdown",
   "id": "4619cf48-0a1d-4eae-8fcd-99fd3a61bce1",
   "metadata": {
    "tags": []
   },
   "source": [
    "## Masque de coeur de nuages (uniquement le centre du nuage)"
   ]
  },
  {
   "cell_type": "markdown",
   "id": "0e4705f4-f311-428e-aca8-e74f7dad8998",
   "metadata": {},
   "source": [
    "Cette fonction peut s'appliquer pour détecter le coeur du nuage mais aussi le nuage entier (tout dépend du seuil fixé)."
   ]
  },
  {
   "cell_type": "code",
   "execution_count": 137,
   "id": "093ef902-ab9b-45e4-b597-a3c183b1299d",
   "metadata": {
    "tags": []
   },
   "outputs": [],
   "source": [
    "def plot_nuage(image, threshold, min_size):\n",
    "    image = image.array.copy()\n",
    "\n",
    "    image = image[[0,1,2],:, :]\n",
    "\n",
    "    image = (image*255).astype(np.uint8)\n",
    "\n",
    "    image = image.transpose(1, 2, 0)\n",
    "\n",
    "    # Convertir l'image RGB en niveau de gris\n",
    "    grayscale = np.mean(image, axis=2)\n",
    "\n",
    "    # Trouver les amas de pixels blancs correspondant à 5% ou plus de l'image\n",
    "    #threshold = 250  # seuil pour considérer un pixel comme \"blanc\"\n",
    "\n",
    "    labeled, num_features = label(grayscale > threshold)\n",
    "\n",
    "    region_sizes = np.bincount(labeled.flat)[:]\n",
    "\n",
    "    # Trier les labels de région en fonction de leur taille décroissante\n",
    "    sorted_labels = np.argsort(-region_sizes)\n",
    "\n",
    "\n",
    "    # Minimum size of the cluster\n",
    "    mask = np.zeros_like(labeled)\n",
    "\n",
    "    if num_features >= 1:\n",
    "        for i in tqdm(range(1, num_features + 1)): # Display the progress bar\n",
    "            if region_sizes[sorted_labels[i]] >= min_size:\n",
    "                mask[labeled == sorted_labels[i]] = 1\n",
    "            else:\n",
    "                break\n",
    "\n",
    "    # Afficher l'image originale et l'image résultante côte à côte\n",
    "    fig, (ax1, ax2) = plt.subplots(1, 2, figsize=(10, 5))\n",
    "    ax1.imshow(image)\n",
    "    ax1.set_title(\"Image originale\")\n",
    "    ax2.imshow(mask)\n",
    "    ax2.set_title(\"Image avec les amas de pixels blancs en rouge\")\n",
    "    plt.show()"
   ]
  },
  {
   "cell_type": "markdown",
   "id": "c8f499f9-8165-4076-b133-cc860788ca4f",
   "metadata": {},
   "source": [
    "D'abord, nous allons choisir un seuil de niveau de gris élevé pour ne détecter que les centre de nuages. Cela nous permet de détecter le moins possible d'objets hors nuages car on va se restreindre aux zones presque blanches pures et avec une taille d'amas de pixels de taille 50 000."
   ]
  },
  {
   "cell_type": "markdown",
   "id": "b377f6a0-fb09-4167-b75b-687bf383eb99",
   "metadata": {},
   "source": [
    "On veut que l'amas de pixels soit de taille minimale 50 000 pour qu'il soit pris en compte. En effet, il faut que l'amas soit suffisement grand pour être considéré comme nuage. Ce seuil a été choisi en regardant différentes tailles minimales d'amas sur l'image_3."
   ]
  },
  {
   "cell_type": "markdown",
   "id": "b08a1224-b946-4b8b-9fc8-3221de171cbe",
   "metadata": {},
   "source": [
    "### Tests de différents seuils"
   ]
  },
  {
   "cell_type": "code",
   "execution_count": 138,
   "id": "94adf72b-4fed-4873-8a0b-59cc59308784",
   "metadata": {
    "tags": []
   },
   "outputs": [],
   "source": [
    "plot_nuage(image_3, 250, 50000)"
   ]
  },
  {
   "cell_type": "code",
   "execution_count": 24,
   "id": "22df7051-9695-49ad-9ea0-4ce72505039d",
   "metadata": {
    "tags": []
   },
   "outputs": [],
   "source": [
    "plot_nuage(image_3, 140, 2500)"
   ]
  },
  {
   "cell_type": "code",
   "execution_count": 63,
   "id": "2d82ece4-0501-4535-8732-4c52fbdd0acd",
   "metadata": {
    "tags": []
   },
   "outputs": [],
   "source": [
    "plot_nuage(image_3, 140, 20000)"
   ]
  },
  {
   "cell_type": "code",
   "execution_count": 26,
   "id": "3537e99f-a292-4505-9d9d-b5cc8775f1ad",
   "metadata": {
    "tags": []
   },
   "outputs": [],
   "source": [
    "plot_nuage(image_3, 250, 2500)"
   ]
  },
  {
   "cell_type": "markdown",
   "id": "b9a208e0-327f-4367-ab77-03b2e0150e86",
   "metadata": {
    "tags": []
   },
   "source": [
    "## Détection de nuages sur un ensemble d'images"
   ]
  },
  {
   "cell_type": "markdown",
   "id": "b7a17eb3-29b9-4ebb-8680-f07bf5b3fcad",
   "metadata": {},
   "source": [
    "Voici une fonction de détection de nuages dans un échantillon d'un dossier d'images. On précise le département, l'année et la taille d'échantillon. Avec cette fonction, nous allons pouvoir tester la détection de nuages sur une liste d'images et on va controler visuellement pour avoir une matrice de confusion."
   ]
  },
  {
   "cell_type": "code",
   "execution_count": 54,
   "id": "ddc7df95-b9e7-46df-b8e5-3c4ec98e0a6b",
   "metadata": {
    "tags": []
   },
   "outputs": [],
   "source": [
    "def detect_nuage_folder_sample(dep, millesime, threshold, min_size, sample_size_begin, sample_size_end):\n",
    "    environment = get_environment()\n",
    "    folder_path = \"../\" + environment[\"local-path\"][\"PLEIADES\"][int(millesime)][dep.lower()]\n",
    "    clouds = []\n",
    "    filenames = os.listdir(folder_path)[sample_size_begin:sample_size_end]\n",
    "    num_dep = name_dep_to_num_dep[dep.upper()]\n",
    "    \n",
    "    for filename in tqdm(filenames):\n",
    "        try :\n",
    "            image = SatelliteImage.from_raster(\n",
    "                    folder_path + '/' +filename,\n",
    "                    date = date.fromisoformat(str(int(millesime))+'-01-01'), \n",
    "                    n_bands = 3,\n",
    "                    dep = num_dep\n",
    "                    )\n",
    "            image.normalize()\n",
    "            \n",
    "            cloud = has_cloud(image, threshold, min_size)\n",
    "\n",
    "            if cloud:\n",
    "                clouds.append(filename)\n",
    "\n",
    "        except RasterioIOError:\n",
    "            print(\"L'image \"+filename+\" ne s'ouvre pas.\")\n",
    "            \n",
    "        finally :\n",
    "            continue\n",
    "            \n",
    "    return(clouds)"
   ]
  },
  {
   "cell_type": "markdown",
   "id": "1b4aa63c-dea0-4cb1-bd1e-a15e4a520191",
   "metadata": {},
   "source": [
    "Commenter les choix de seuils :"
   ]
  },
  {
   "cell_type": "markdown",
   "id": "fe48217c-0660-48ac-adce-fca1b6947248",
   "metadata": {},
   "source": [
    "250 : avoir les pixels presque blanc pur"
   ]
  },
  {
   "cell_type": "code",
   "execution_count": 50,
   "id": "3cb28422-22bc-452c-8462-fc4dd648b036",
   "metadata": {
    "tags": []
   },
   "outputs": [],
   "source": [
    "nuages_echantillon = detect_nuage_folder_sample(\"mayotte\", 2020, threshold = 250, min_size = 50000, sample_size_begin=0, sample_size_end=100)\n",
    "len(nuages_echantillon)"
   ]
  },
  {
   "cell_type": "markdown",
   "id": "3969d0ff-9aef-4282-aef1-a249fe72bb55",
   "metadata": {},
   "source": [
    "10% d'images prédites avec des nuages."
   ]
  },
  {
   "cell_type": "code",
   "execution_count": 56,
   "id": "b4ed89fb-fa56-4ee6-9fae-564f167c991e",
   "metadata": {
    "tags": []
   },
   "outputs": [],
   "source": [
    "nuages_echantillon_1 = detect_nuage_folder_sample(\"mayotte\", 2020, threshold = 250, min_size = 50000, sample_size_begin=100, sample_size_end=200)\n",
    "len(nuages_echantillon_1)"
   ]
  },
  {
   "cell_type": "code",
   "execution_count": 41,
   "id": "13f3eed1-3fd3-4adb-85ec-c6da1e340ce2",
   "metadata": {
    "tags": []
   },
   "outputs": [],
   "source": [
    "nuages_echantillon1 = detect_nuage_folder_sample(\"mayotte\", 2020, threshold = 250, min_size = 2500, sample_size = 100)\n",
    "len(nuages_echantillon1)"
   ]
  },
  {
   "cell_type": "markdown",
   "id": "73d9fb8b-c4a8-473a-b1a5-513d6509008b",
   "metadata": {},
   "source": [
    "34% d'images prédites avec des nuages."
   ]
  },
  {
   "cell_type": "markdown",
   "id": "5a4b651b-2912-4148-9e97-ddb4eec37746",
   "metadata": {},
   "source": [
    "140 : avoir les nuances de gris clair"
   ]
  },
  {
   "cell_type": "code",
   "execution_count": 51,
   "id": "8aa8b6aa-c420-4b24-a194-e2e7f8e864b6",
   "metadata": {
    "tags": []
   },
   "outputs": [],
   "source": [
    "nuages_echantillon2 = detect_nuage_folder_sample(\"mayotte\", 2020, threshold = 140, min_size = 20000, sample_size = 100)\n",
    "len(nuages_echantillon2)"
   ]
  },
  {
   "cell_type": "markdown",
   "id": "073c788d-28fd-4ef7-a652-1f919b7910f3",
   "metadata": {},
   "source": [
    "89% d'images prédites avec des nuages."
   ]
  },
  {
   "cell_type": "markdown",
   "id": "dadce94c-36f8-45f0-968b-da0a938ecde2",
   "metadata": {},
   "source": [
    "200 : avoir les nuances de gris très clair"
   ]
  },
  {
   "cell_type": "code",
   "execution_count": 52,
   "id": "e52c3f2d-b4f3-4749-8d15-8f20d4536d69",
   "metadata": {
    "tags": []
   },
   "outputs": [],
   "source": [
    "nuages_echantillon3 = detect_nuage_folder_sample(\"mayotte\", 2020, threshold = 200, min_size = 20000, sample_size = 100)\n",
    "len(nuages_echantillon3)"
   ]
  },
  {
   "cell_type": "markdown",
   "id": "8954bed8-be1b-4129-a69a-59d7eeeb48b7",
   "metadata": {},
   "source": [
    "41% d'images prédites avec des nuages."
   ]
  },
  {
   "cell_type": "markdown",
   "id": "8cd1649f-79fd-4922-a968-f4012132c293",
   "metadata": {},
   "source": [
    "Voici une fonction qui permet de parcourir tout un dossier d'images d'un certain département et d'un certain millésime pour retourner les images considérées comme contenant un ou des nuages. Nous allons essayer de prédire les images contenant des nuages dans le dossier Mayotte 2020 et on retient les seuils suivants  pixels_gris > 250 et amas_pixels > 20 000."
   ]
  },
  {
   "cell_type": "code",
   "execution_count": 34,
   "id": "99799226-f7f5-4175-ba5d-8023e796bff8",
   "metadata": {
    "tags": []
   },
   "outputs": [],
   "source": [
    "def detect_nuage_folder(dep, millesime, threshold, min_size):\n",
    "    environment = get_environment()\n",
    "    folder_path = \"../\" + environment[\"local-path\"][\"PLEIADES\"][int(millesime)][dep.lower()]\n",
    "    clouds = []\n",
    "    filenames = os.listdir(folder_path)\n",
    "    num_dep = name_dep_to_num_dep[dep.upper()]\n",
    "    \n",
    "    for filename in tqdm(filenames):\n",
    "        try :\n",
    "            image = SatelliteImage.from_raster(\n",
    "                    folder_path + '/' +filename,\n",
    "                    date = date.fromisoformat(str(int(millesime))+'-01-01'), \n",
    "                    n_bands = 3,\n",
    "                    dep = num_dep\n",
    "                    )\n",
    "            image.normalize()\n",
    "            \n",
    "            cloud = has_cloud(image)\n",
    "\n",
    "            if cloud:\n",
    "                clouds.append(filename)\n",
    "\n",
    "        except RasterioIOError:\n",
    "            print(\"L'image \"+filename+\" ne s'ouvre pas.\")\n",
    "            \n",
    "        finally :\n",
    "            continue\n",
    "            \n",
    "    return(clouds)"
   ]
  },
  {
   "cell_type": "code",
   "execution_count": 35,
   "id": "a0b492a7-54ab-44f1-a27d-730d700fa855",
   "metadata": {
    "tags": []
   },
   "outputs": [],
   "source": [
    "nuages = detect_nuage_folder(\"mayotte\", 2020, threshold = 250, min_size = 20000)"
   ]
  },
  {
   "cell_type": "code",
   "execution_count": 36,
   "id": "9736f73b-b894-4c31-a4d4-fb4478b28287",
   "metadata": {
    "tags": []
   },
   "outputs": [],
   "source": [
    "len(nuages)"
   ]
  },
  {
   "cell_type": "markdown",
   "id": "1aca9942-e462-46dc-b36f-899f51d1d4dc",
   "metadata": {
    "tags": []
   },
   "source": [
    "160 nuages sur 962 images, soit 17% d'images contenant au moins un nuage."
   ]
  },
  {
   "cell_type": "markdown",
   "id": "79acfbce-2472-4063-882e-de6f90444db6",
   "metadata": {
    "tags": []
   },
   "source": [
    "## Fonction d'affichage d'une liste d'images afin de vérifier visuellement les résultats"
   ]
  },
  {
   "cell_type": "markdown",
   "id": "5e3a5907-cae5-4af7-b41f-ab5e9596bc4c",
   "metadata": {},
   "source": [
    "On va créer une fonction pour afficher une liste d'images sur une fenêtre (suivant l'ordre dans la liste) pour pouvoir contrôler visuellement les résultats des détections de nuages.\n",
    "\n",
    "Attention ! La longueur liste d'images doit être un entier carré. Ex : 1,4,9,16,25..."
   ]
  },
  {
   "cell_type": "code",
   "execution_count": 122,
   "id": "913b172e-423b-41ca-8cf7-2bd812c4ffb3",
   "metadata": {
    "tags": []
   },
   "outputs": [],
   "source": [
    "def plot_list_path_square(list_filepaths, dep, millesime):\n",
    "    environment = get_environment()\n",
    "    folder_path = \"../\" + environment[\"local-path\"][\"PLEIADES\"][int(millesime)][dep.lower()]\n",
    "    \n",
    "    size = int(math.sqrt(len(list_filepaths)))\n",
    "    bands_indices = [0,1,2]\n",
    "\n",
    "    list_images = []\n",
    "\n",
    "    for filepath in list_filepaths:\n",
    "\n",
    "    # Retrieve left-top coordinates of all images\n",
    "            image = SatelliteImage.from_raster(\n",
    "                    folder_path + \"/\" + filepath,\n",
    "                    date = date.fromisoformat(str(millesime) + '-01-01'), \n",
    "                    n_bands = len(bands_indices),\n",
    "                    dep = name_dep_to_num_dep[dep.upper()]\n",
    "                )\n",
    "            image.normalize()\n",
    "            list_images.append(image)\n",
    "\n",
    "    mat_list_images = np.transpose(np.array(list_images).reshape(size,size))\n",
    "\n",
    "\n",
    "    # Create a figure and axes\n",
    "    fig, axs = plt.subplots(nrows=size, ncols=size, figsize=(10,10))\n",
    "\n",
    "    # Iterate over the grid of masks and plot them\n",
    "    for i in range(size):\n",
    "        for j in range(size):\n",
    "            axs[i, j].imshow(\n",
    "                mat_list_images[i, j].array.transpose(1,2,0)\n",
    "            )\n",
    "\n",
    "    # Remove any unused axes\n",
    "    for i in range(size):\n",
    "        for j in range(size):\n",
    "            axs[i, j].set_axis_off()\n",
    "\n",
    "    # Show the plot\n",
    "    plt.show()\n"
   ]
  },
  {
   "cell_type": "markdown",
   "id": "8e6804fc-365a-40fa-bfc2-fb052978f267",
   "metadata": {},
   "source": [
    "Regardons le nombre d'images contenant réellement des nuages dans l'échantilon de taille 100 du dossier Mayotte 2020. On va afficher 25 images 25 images."
   ]
  },
  {
   "cell_type": "code",
   "execution_count": 124,
   "id": "924071ad-b08b-49f0-a946-8fb787e08aca",
   "metadata": {
    "tags": []
   },
   "outputs": [],
   "source": [
    "plot_list_path_square(os.listdir('../data/PLEIADES/2020/MAYOTTE')[0:25], \"mayotte\", 2020)\n",
    "#plot_list_path_square(os.listdir('../data/PLEIADES/2020/MAYOTTE')[25:50], \"mayotte\", 2020)\n",
    "#plot_list_path_square(os.listdir('../data/PLEIADES/2020/MAYOTTE')[50:75], \"mayotte\", 2020)\n",
    "#plot_list_path_square(os.listdir('../data/PLEIADES/2020/MAYOTTE')[75:100], \"mayotte\", 2020)"
   ]
  },
  {
   "cell_type": "markdown",
   "id": "0c1560e5-8092-484a-81d6-df553acccb70",
   "metadata": {},
   "source": [
    "Il y a 5 images avec des nuages dans l'échantillon de taille 100, soit 5% d'images contenant des nuages."
   ]
  },
  {
   "cell_type": "code",
   "execution_count": 123,
   "id": "b77ea7aa-a597-4587-ab02-f68036446956",
   "metadata": {
    "tags": []
   },
   "outputs": [],
   "source": [
    "plot_list_path_square(nuages_echantillon[:9], \"mayotte\", 2020)"
   ]
  },
  {
   "cell_type": "markdown",
   "id": "3cf0261a-4053-4cdc-9fee-d2af03720a50",
   "metadata": {},
   "source": [
    "Dans l'échantillon, on a trouvé qu'il y a en réalité 6 nuages sur les 100 images sélectionnées et l'algorithme en a repéré 10. \n",
    "\n",
    "Cet algorithme va bien détecter toutes les images avec des nuages mais il va rajouter les images avec des étendues de blanc, par exemple les plages de sable blanc."
   ]
  },
  {
   "cell_type": "markdown",
   "id": "10e35aba-9c2c-4ab4-96b1-d0c9383afccd",
   "metadata": {
    "tags": []
   },
   "source": [
    "## Masque de nuages entiers"
   ]
  },
  {
   "cell_type": "markdown",
   "id": "02e847b3-1c39-4045-84ca-1767e059e4c5",
   "metadata": {},
   "source": [
    "* Etape 1 : Détecter les images dans le dossier avec des nuages grâce aux seuils de coeur de nuage\n",
    "* Etape 2 : Créer le masque nuage entier sur les images détectées étape 1\n",
    "* Etape 3 : Définir les patchs contenant un nuage (et donc à éliminer de la bdd) pour chaque image avec masque nuage entier"
   ]
  },
  {
   "cell_type": "markdown",
   "id": "d5d7ac5f-415f-4927-bd83-a84d337d5472",
   "metadata": {},
   "source": [
    "On veut maintenant créer un masque nuage qui soit le plus proche de la réalité. Pour cela on va créer deux masques : l'un avec un seuil de niveau de gris élevé pour détecter le coeur du nuage, et l'autre avec un seuil de niveau de gris bas pour englober un maximum le nuage entier. Le deuxième masque va également repérer d'autres objets de type non nuage. Pour ne garder que les nuages, on va fusionner ces deux masques et garder uniquement les nuages entier sans les autres objets. Pour cela, on va transformer les masques en ensembles de polygones et retenir uniquement les polygones qui se chauvauchent sur les deux masques : ce seront les nuages entiers avec les coeurs de nuages. C'est comme ça que nous obtiendrons notre masque final de nuages entiers."
   ]
  },
  {
   "cell_type": "code",
   "execution_count": 62,
   "id": "46582541-fdfe-44aa-a7ba-73e5b8ad7fdd",
   "metadata": {
    "tags": []
   },
   "outputs": [],
   "source": [
    "nuage_centre = mask_cloud(image_3, threshold = 250, min_size=50000)\n",
    "nuage_centre"
   ]
  },
  {
   "cell_type": "code",
   "execution_count": 63,
   "id": "ec06fdc5-d402-4c8d-837d-f0ae039aaf80",
   "metadata": {
    "tags": []
   },
   "outputs": [],
   "source": [
    "fig, ax = plt.subplots(figsize=(10, 10))\n",
    "ax.imshow(np.transpose(image_3.array, (1, 2, 0))[:,:,:3])\n",
    "ax.imshow(nuage_centre, alpha=0.3)"
   ]
  },
  {
   "cell_type": "code",
   "execution_count": 94,
   "id": "c6995962-4e9b-4978-92bf-e25bb4d55af6",
   "metadata": {
    "tags": []
   },
   "outputs": [],
   "source": [
    "mask = mask_full_cloud(image_3, 250, 130, 50000)"
   ]
  },
  {
   "cell_type": "code",
   "execution_count": 115,
   "id": "727fe695-3b40-4d96-9cfe-6c0b80fe9d2b",
   "metadata": {
    "tags": []
   },
   "outputs": [],
   "source": [
    "def plot_mask(image, mask): \n",
    "    fig, ax = plt.subplots(figsize=(10, 10))\n",
    "    ax.imshow(np.transpose(image.array, (1, 2, 0))[:,:,:3])\n",
    "    ax.imshow(mask, alpha=0.3)"
   ]
  },
  {
   "cell_type": "code",
   "execution_count": 116,
   "id": "dfafa7b1-9e05-444d-ad5a-4865d03b1599",
   "metadata": {
    "tags": []
   },
   "outputs": [],
   "source": [
    "plot_mask(image_3, mask)"
   ]
  },
  {
   "cell_type": "markdown",
   "id": "0e660ca2-7679-4ca1-be67-b551c45ef2da",
   "metadata": {
    "tags": []
   },
   "source": [
    "### Tests de masques sur d'autres images\n",
    "Les images contenant des nuages de nuages_echantillon sont les i=2,3,4,5,8,9"
   ]
  },
  {
   "cell_type": "code",
   "execution_count": 135,
   "id": "bbdedd54-c643-448e-b852-245579708666",
   "metadata": {
    "tags": []
   },
   "outputs": [],
   "source": [
    "i=8\n",
    "environment = get_environment()\n",
    "folder_path = \"../\" + environment[\"local-path\"][\"PLEIADES\"][2020][\"mayotte\"]\n",
    "image_test = SatelliteImage.from_raster(\n",
    "        folder_path + \"/\" + nuages_echantillon[i],\n",
    "        date = date.fromisoformat('2020-01-01'), \n",
    "        n_bands = 3,\n",
    "        dep = '976'\n",
    "    )\n",
    "image_test.normalize()\n",
    "mask_test = mask_full_cloud(image_test)\n",
    "plot_mask(image_test, mask_test)"
   ]
  },
  {
   "cell_type": "markdown",
   "id": "328340cb-54bd-44e9-99a5-d1611fc1cd49",
   "metadata": {
    "tags": []
   },
   "source": [
    "### Test pour filter les patchs d'une image en même temps des nuages et des effets de bord"
   ]
  },
  {
   "cell_type": "code",
   "execution_count": 99,
   "id": "dea99053-f2ad-41b6-bad9-f8994a273ae3",
   "metadata": {
    "tags": []
   },
   "outputs": [],
   "source": [
    "boolean = has_cloud(image_3)\n",
    "\n",
    "if boolean:\n",
    "    mask_full = mask_full_cloud(image_3)\n",
    "    list_patch_filtered = patch_nocloud(image_3, mask_full, nb_patch = 250)\n",
    "    list_patch_filtered = [patch for patch in list_patch_filtered if not is_too_black2(patch)]\n",
    "else:\n",
    "    list_patch_filtered = image_3.split(250)\n",
    "    list_patch_filtered = [patch for patch in list_patch_filtered if not is_too_black2(patch)]"
   ]
  },
  {
   "cell_type": "code",
   "execution_count": 100,
   "id": "21e1904e-cc97-4418-af9d-26664bbd13da",
   "metadata": {
    "tags": []
   },
   "outputs": [],
   "source": [
    "len(list_patch_filtered)"
   ]
  },
  {
   "cell_type": "markdown",
   "id": "16631828-481d-4837-94dc-33fec01cb723",
   "metadata": {
    "tags": []
   },
   "source": [
    "## Fonctions peut-être utiles"
   ]
  },
  {
   "cell_type": "markdown",
   "id": "2d5c9650-9bb8-4225-b813-d1f063506ad7",
   "metadata": {},
   "source": [
    "Fonction détection de nuage dans une liste de paths (au cas où)"
   ]
  },
  {
   "cell_type": "code",
   "execution_count": 53,
   "id": "26fc9326-a87b-4fe3-8455-80ce329cffa3",
   "metadata": {
    "tags": []
   },
   "outputs": [],
   "source": [
    "def detect_nuage_list(list_filenames, dep, millesime, threshold, min_size):\n",
    "    environment = get_environment()\n",
    "    folder_path = \"../\" + environment[\"local-path\"][\"PLEIADES\"][int(millesime)][dep.lower()]\n",
    "    clouds = []\n",
    "    num_dep = name_dep_to_num_dep[dep.upper()]\n",
    "    \n",
    "    for filename in tqdm(list_filenames):\n",
    "        try :\n",
    "            image = SatelliteImage.from_raster(\n",
    "                    folder_path + '/' +filename,\n",
    "                    date = date.fromisoformat(str(int(millesime))+'-01-01'), \n",
    "                    n_bands = 3,\n",
    "                    dep = num_dep\n",
    "                    )\n",
    "            image.normalize()\n",
    "            \n",
    "            cloud = has_cloud(image)\n",
    "\n",
    "            if cloud:\n",
    "                clouds.append(filename, threshold, min_size)\n",
    "\n",
    "        except RasterioIOError:\n",
    "            print(\"L'image \"+filename+\" ne s'ouvre pas.\")\n",
    "            \n",
    "        finally :\n",
    "            continue\n",
    "            \n",
    "    return(nuages)"
   ]
  }
 ],
 "metadata": {
  "kernelspec": {
   "display_name": "Python 3 (ipykernel)",
   "language": "python",
   "name": "python3"
  },
  "language_info": {
   "codemirror_mode": {
    "name": "ipython",
    "version": 3
   },
   "file_extension": ".py",
   "mimetype": "text/x-python",
   "name": "python",
   "nbconvert_exporter": "python",
   "pygments_lexer": "ipython3",
   "version": "3.10.9"
  }
 },
 "nbformat": 4,
 "nbformat_minor": 5
}
