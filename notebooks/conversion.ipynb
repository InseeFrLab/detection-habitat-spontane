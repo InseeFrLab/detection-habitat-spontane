{
 "cells": [
  {
   "cell_type": "code",
   "execution_count": 1,
   "metadata": {},
   "outputs": [],
   "source": [
    "from PIL import Image\n",
    "import numpy as np\n",
    "import io\n",
    "import os\n",
    "from classes.data.satellite_image import SatelliteImage"
   ]
  },
  {
   "cell_type": "code",
   "execution_count": null,
   "metadata": {},
   "outputs": [],
   "source": [
    "path = '../data/TEST_CONVERSION'\n",
    "\n",
    "list_names = os.listdir(path)\n",
    "list_paths = [path + '/' + name for name in list_names]\n",
    "for path in list_paths:\n",
    "    image = SatelliteImage.from_raster(\n",
    "        file_path=path,\n",
    "        dep=976,\n",
    "        date=2020,\n",
    "        n_bands=12,\n",
    "    )\n",
    "\n",
    "    min_obs = np.min(image.array)\n",
    "    max_obs = np.max(image.array)\n",
    "\n",
    "    image_array = image.array.transpose(1,2,0)\n",
    "\n",
    "    image3bands = image_array[:,:,(3,2,1)]\n",
    "\n",
    "    for i in range(250):\n",
    "        for j in range(250):\n",
    "            for k in range(3):\n",
    "                image3bands[i,j,k] = round((image3bands[i,j,k]-min_obs)/(max_obs-min_obs)*511)\n",
    "    \n",
    "    image3bands = image3bands.astype('uint8')\n",
    "\n",
    "    image3bands = Image.fromarray(image3bands,'RGB')\n",
    "\n",
    "    image3bands.save(image.filename.split('.')[0] + '.png')"
   ]
  }
 ],
 "metadata": {
  "kernelspec": {
   "display_name": "base",
   "language": "python",
   "name": "python3"
  },
  "language_info": {
   "codemirror_mode": {
    "name": "ipython",
    "version": 3
   },
   "file_extension": ".py",
   "mimetype": "text/x-python",
   "name": "python",
   "nbconvert_exporter": "python",
   "pygments_lexer": "ipython3",
   "version": "3.10.9"
  },
  "orig_nbformat": 4
 },
 "nbformat": 4,
 "nbformat_minor": 2
}
