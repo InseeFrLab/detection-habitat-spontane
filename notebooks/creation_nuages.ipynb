{
 "cells": [
  {
   "cell_type": "code",
   "execution_count": null,
   "id": "82ca1c8e-d7ca-4fb7-aaad-19152fabbd47",
   "metadata": {},
   "outputs": [],
   "source": [
    "%load_ext autoreload\n",
    "%autoreload 2"
   ]
  },
  {
   "cell_type": "code",
   "execution_count": null,
   "id": "f742c6fb-a370-4f6c-b1a7-85f2b58ea7a1",
   "metadata": {
    "tags": []
   },
   "outputs": [],
   "source": [
    "import os\n",
    "\n",
    "import numpy as np\n",
    "import rasterio\n",
    "from tqdm import tqdm\n",
    "\n",
    "from classes.data.satellite_image import SatelliteImage\n",
    "from classes.labelers.labeler import Labeler\n",
    "from utils.filter import (\n",
    "    has_cloud, is_too_black2, mask_full_cloud, patch_nocloud\n",
    ")\n"
   ]
  },
  {
   "cell_type": "code",
   "execution_count": 90,
   "id": "a9dfb928-bb9c-4c7d-9a55-44ef0a17b8d2",
   "metadata": {
    "tags": []
   },
   "outputs": [],
   "source": [
    "import os\n",
    "os.chdir(\"../src\")\n",
    "os.getcwd()"
   ]
  },
  {
   "cell_type": "code",
   "execution_count": null,
   "id": "c094af0e-abd4-41f2-8160-44a9430bad2a",
   "metadata": {
    "tags": []
   },
   "outputs": [],
   "source": [
    "from train_pipeline_utils.download_data import load_pleiade_data\n",
    "from classes.data.satellite_image import SatelliteImage"
   ]
  },
  {
   "cell_type": "code",
   "execution_count": null,
   "id": "2221e1e1-34bd-435f-abc0-615f07746ce5",
   "metadata": {
    "tags": []
   },
   "outputs": [],
   "source": [
    "load_pleiade_data(2022, \"972\")"
   ]
  },
  {
   "cell_type": "code",
   "execution_count": null,
   "id": "2bfea37a-82a2-49f0-9ab7-32b5baed9246",
   "metadata": {
    "tags": []
   },
   "outputs": [],
   "source": [
    "load_pleiade_data(2017, \"972\")"
   ]
  },
  {
   "cell_type": "code",
   "execution_count": 79,
   "id": "3b296655-79f6-4c13-b29c-e9a8331fcf93",
   "metadata": {
    "tags": []
   },
   "outputs": [],
   "source": [
    "load_pleiade_data(2017, \"976\")"
   ]
  },
  {
   "cell_type": "code",
   "execution_count": null,
   "id": "03d05454-98c9-49b2-915b-13e7d1c25b11",
   "metadata": {
    "tags": []
   },
   "outputs": [],
   "source": [
    "load_pleiade_data(2022, \"973\")"
   ]
  },
  {
   "cell_type": "code",
   "execution_count": 80,
   "id": "e3ad183d-f796-43a4-a8d3-44b504617574",
   "metadata": {
    "tags": []
   },
   "outputs": [],
   "source": [
    "load_pleiade_data(2020, \"976\")"
   ]
  },
  {
   "cell_type": "code",
   "execution_count": null,
   "id": "2f0ebc00-6087-4afa-8e6f-6dbd00c314bd",
   "metadata": {
    "tags": []
   },
   "outputs": [],
   "source": [
    "from rasterio.errors import RasterioIOError"
   ]
  },
  {
   "cell_type": "code",
   "execution_count": null,
   "id": "dca1bd35-34d6-4a94-bf71-bbbdbbab4256",
   "metadata": {
    "tags": []
   },
   "outputs": [],
   "source": [
    "from tqdm import tqdm"
   ]
  },
  {
   "cell_type": "code",
   "execution_count": 78,
   "id": "d6c5fee3-dabf-4790-b93f-324008d8aed2",
   "metadata": {
    "tags": []
   },
   "outputs": [],
   "source": [
    "file_path = '../data/PLEIADES/2022/GUYANE'\n",
    "output_directory_name = '../nuagespleiades/PLEIADES/2022/GUYANE'\n",
    "\n",
    "output_masks_path = output_directory_name\n",
    "\n",
    "if os.path.exists(output_masks_path):\n",
    "    print(\"fichiers déjà écrits\")\n",
    "\n",
    "if not os.path.exists(output_masks_path):\n",
    "    os.makedirs(output_masks_path)\n",
    "\n",
    "\n",
    "list_name = os.listdir(file_path)\n",
    "list_path = [file_path + \"/\" + name for name in list_name]\n",
    "\n",
    "\n",
    "for path, file_name in tqdm(zip(list_path, list_name), total=len(list_path), desc='Processing'):\n",
    "    try:\n",
    "        big_satellite_image = SatelliteImage.from_raster(\n",
    "            file_path=path, dep=None, date=None, n_bands=3\n",
    "        )\n",
    "        \n",
    "    except RasterioIOError:\n",
    "        continue\n",
    "\n",
    "    else:\n",
    "        boolean = has_cloud(big_satellite_image)\n",
    "\n",
    "        if boolean:\n",
    "            mask_full = mask_full_cloud(big_satellite_image)\n",
    "            file_name = file_name.split(\".\")[0]\n",
    "            np.save(output_masks_path + \"/\" + file_name + \".npy\", mask_full)"
   ]
  },
  {
   "cell_type": "code",
   "execution_count": null,
   "id": "4ac984a3-d625-43b1-a699-7571fff894c2",
   "metadata": {
    "tags": []
   },
   "outputs": [],
   "source": [
    "list_nuages = os.listdir(output_directory_name)\n",
    "len(list_nuages)"
   ]
  },
  {
   "cell_type": "code",
   "execution_count": 99,
   "id": "528dcb02-5bb1-4a93-b7ee-92df403a8b1d",
   "metadata": {
    "tags": []
   },
   "outputs": [],
   "source": [
    "from utils.utils import update_storage_access"
   ]
  },
  {
   "cell_type": "code",
   "execution_count": 108,
   "id": "ede12935-2640-48b6-8da3-1018a9666c23",
   "metadata": {
    "tags": []
   },
   "outputs": [],
   "source": [
    "update_storage_access()\n",
    "fs = s3fs.S3FileSystem(\n",
    "    client_kwargs={\"endpoint_url\": \"https://minio.lab.sspcloud.fr\"}\n",
    ")\n",
    "source_folder = '../nuagespleiades/PLEIADES/2020'\n",
    "s3_destination = 's3/projet-slums-detection/Donnees/NUAGESPLEIADES/2020'\n",
    "fs.put(source_folder, s3_destination, recursive=True)"
   ]
  },
  {
   "cell_type": "code",
   "execution_count": 103,
   "id": "ba6778e6-1ba0-45b7-bc5f-f2f51afe8082",
   "metadata": {
    "tags": []
   },
   "outputs": [],
   "source": [
    "os.getcwd()"
   ]
  },
  {
   "cell_type": "code",
   "execution_count": 109,
   "id": "5fdd5900-4b49-4b21-ac0b-cdb50becd541",
   "metadata": {
    "tags": []
   },
   "outputs": [],
   "source": [
    "! export MC_HOST_s3=https://5UP3C4JH842UU09WUXCP:w6DbxVTDBgryZEGtRPF2chzcfLc+ARFwnZA5YMB4:eyJhbGciOiJIUzUxMiIsInR5cCI6IkpXVCJ9.eyJhY2Nlc3NLZXkiOiI1VVAzQzRKSDg0MlVVMDlXVVhDUCIsImFsbG93ZWQtb3JpZ2lucyI6WyIqIl0sImF1ZCI6WyJtaW5pby1kYXRhbm9kZSIsIm9ueXhpYSIsImFjY291bnQiXSwiYXV0aF90aW1lIjoxNjgzODI4MDA5LCJhenAiOiJvbnl4aWEiLCJlbWFpbCI6InJheWEuYmVyb3ZhQGVsZXZlLmVuc2FpLmZyIiwiZW1haWxfdmVyaWZpZWQiOnRydWUsImV4cCI6MTY4MzkxNTMwMCwiZmFtaWx5X25hbWUiOiJCRVJPVkEiLCJnaXZlbl9uYW1lIjoiUmF5YSIsImdyb3VwcyI6WyJmdW5hdGhvbiIsInNsdW1zLWRldGVjdGlvbiJdLCJpYXQiOjE2ODM4Mjg4OTgsImlzcyI6Imh0dHBzOi8vYXV0aC5sYWIuc3NwY2xvdWQuZnIvYXV0aC9yZWFsbXMvc3NwY2xvdWQiLCJqdGkiOiI1NDBiYWJhZi1iOTMyLTQxOTUtYTljYS01NTRhYzJjYjYwMjQiLCJsb2NhbGUiOiJlbiIsIm5hbWUiOiJSYXlhIEJFUk9WQSIsIm5vbmNlIjoiZjZjNmZiMjYtNTczZi00NTY4LTg1YzctNjI1NjhkZTNiNzk2IiwicG9saWN5Ijoic3Rzb25seSIsInByZWZlcnJlZF91c2VybmFtZSI6ImlkMTc1MyIsInJlYWxtX2FjY2VzcyI6eyJyb2xlcyI6WyJvZmZsaW5lX2FjY2VzcyIsInVtYV9hdXRob3JpemF0aW9uIiwiZGVmYXVsdC1yb2xlcy1zc3BjbG91ZCJdfSwicmVzb3VyY2VfYWNjZXNzIjp7ImFjY291bnQiOnsicm9sZXMiOlsibWFuYWdlLWFjY291bnQiLCJtYW5hZ2UtYWNjb3VudC1saW5rcyIsInZpZXctcHJvZmlsZSJdfX0sInNjb3BlIjoib3BlbmlkIHByb2ZpbGUgZ3JvdXBzIGVtYWlsIiwic2Vzc2lvblBvbGljeSI6ImV5SldaWEp6YVc5dUlqb2lNakF4TWkweE1DMHhOeUlzSWxOMFlYUmxiV1Z1ZENJNlczc2lSV1ptWldOMElqb2lRV3hzYjNjaUxDSkJZM1JwYjI0aU9sc2ljek02S2lKZExDSlNaWE52ZFhKalpTSTZXeUpoY200NllYZHpPbk16T2pvNmNISnZhbVYwTFhOc2RXMXpMV1JsZEdWamRHbHZiaUlzSW1GeWJqcGhkM002Y3pNNk9qcHdjbTlxWlhRdGMyeDFiWE10WkdWMFpXTjBhVzl1THlvaVhYMHNleUpGWm1abFkzUWlPaUpCYkd4dmR5SXNJa0ZqZEdsdmJpSTZXeUp6TXpwTWFYTjBRblZqYTJWMElsMHNJbEpsYzI5MWNtTmxJanBiSW1GeWJqcGhkM002Y3pNNk9qb3FJbDBzSWtOdmJtUnBkR2x2YmlJNmV5SlRkSEpwYm1kTWFXdGxJanA3SW5Nek9uQnlaV1pwZUNJNkltUnBabVoxYzJsdmJpOHFJbjE5ZlN4N0lrVm1abVZqZENJNklrRnNiRzkzSWl3aVFXTjBhVzl1SWpwYkluTXpPa2RsZEU5aWFtVmpkQ0pkTENKU1pYTnZkWEpqWlNJNld5SmhjbTQ2WVhkek9uTXpPam82S2k5a2FXWm1kWE5wYjI0dktpSmRmVjE5Iiwic2Vzc2lvbl9zdGF0ZSI6ImUzYjQ1MzA3LWMxZTEtNDU3MC04MmZiLTljMGI0NWNhZDcwYiIsInNpZCI6ImUzYjQ1MzA3LWMxZTEtNDU3MC04MmZiLTljMGI0NWNhZDcwYiIsInN1YiI6ImRiNWM5MTg3LWUwNjItNDIyMy04N2UwLTk2YTc5ODYzMDZlOSIsInR5cCI6IkJlYXJlciJ9.TrOIMPmQkwyHMNIxkV3OMdktEvmHuqWwGYNFpBNGvf_5EqvDMtkMR84J52USKE9GJu9xNS_1ca1CHD26tj8AZA@minio.lab.sspcloud.fr"
   ]
  },
  {
   "cell_type": "code",
   "execution_count": 111,
   "id": "dc861853-872a-4f60-8974-79e6b64c9716",
   "metadata": {
    "tags": []
   },
   "outputs": [],
   "source": [
    "!mc cp --recursive ../nuagespleiades/PLEIADES/2020 s3/projet-slums-detection/Donnees/NUAGESPLEIADES/2020"
   ]
  },
  {
   "cell_type": "code",
   "execution_count": 114,
   "id": "7d4bd72f-7928-4e93-98ba-4b6a453974b0",
   "metadata": {
    "tags": []
   },
   "outputs": [],
   "source": [
    "import gc\n",
    "import os\n",
    "import sys\n",
    "from datetime import datetime\n",
    "from tqdm import tqdm\n",
    "import mlflow\n",
    "import numpy as np\n",
    "import pytorch_lightning as pl\n",
    "import torch\n",
    "import yaml\n",
    "from pytorch_lightning.callbacks import (\n",
    "    EarlyStopping,\n",
    "    LearningRateMonitor,\n",
    "    ModelCheckpoint,\n",
    ")\n",
    "from torch.utils.data import DataLoader\n",
    "from yaml.loader import SafeLoader\n",
    "\n",
    "from classes.data.satellite_image import SatelliteImage\n",
    "from classes.labelers.labeler import BDTOPOLabeler, RILLabeler\n",
    "from classes.optim.losses import CrossEntropySelfmade\n",
    "from torch.nn import CrossEntropyLoss\n",
    "from classes.optim.optimizer import generate_optimization_elements\n",
    "from data.components.dataset import PleiadeDataset\n",
    "from models.components.segmentation_models import DeepLabv3Module\n",
    "from models.segmentation_module import SegmentationModule\n",
    "from train_pipeline_utils.download_data import load_satellite_data, load_donnees_test\n",
    "from train_pipeline_utils.handle_dataset import (\n",
    "    generate_transform,\n",
    "    select_indices_to_split_dataset\n",
    ")\n",
    "\n",
    "from train_pipeline_utils.prepare_data import(\n",
    "    filter_images,\n",
    "    label_images,\n",
    "    save_images_and_masks,\n",
    "    check_labelled_images\n",
    ")\n",
    "\n",
    "from classes.data.satellite_image import SatelliteImage\n",
    "from classes.data.labeled_satellite_image import SegmentationLabeledSatelliteImage\n",
    "from utils.utils import update_storage_access, split_array, remove_dot_file\n",
    "from rasterio.errors import RasterioIOError\n",
    "from classes.optim.evaluation_model import evaluer_modele_sur_jeu_de_test_segmentation_pleiade\n",
    "from run_training_pipeline import *"
   ]
  },
  {
   "cell_type": "code",
   "execution_count": null,
   "id": "ee9745a9-1d36-4244-a7a1-5403ca6b3f2e",
   "metadata": {
    "tags": []
   },
   "outputs": [],
   "source": [
    "# Open the file and load the file\n",
    "with open(\"../config.yml\") as f:\n",
    "    config = yaml.load(f, Loader=SafeLoader)\n",
    "\n",
    "list_data_dir, list_masks_cloud_dir, test_dir = download_data(config)\n",
    "\n",
    "# list_data_dir = [\"../data/PLEIADES/2022/MARTINIQUE\"]\n",
    "# list_masks_cloud_dir = [\"../data/NUAGESPLEIADES/2022/MARTINIQUE\"]\n",
    "\n",
    "list_output_dir = prepare_train_data(config, list_data_dir, list_masks_cloud_dir)\n",
    "prepare_test_data(config, test_dir)\n",
    "\n",
    "model = instantiate_model(config)\n",
    "\n",
    "train_dl, valid_dl, test_dl = instantiate_dataloader(\n",
    "    config, list_output_dir\n",
    ")"
   ]
  }
 ],
 "metadata": {
  "kernelspec": {
   "display_name": "Python 3 (ipykernel)",
   "language": "python",
   "name": "python3"
  },
  "language_info": {
   "codemirror_mode": {
    "name": "ipython",
    "version": 3
   },
   "file_extension": ".py",
   "mimetype": "text/x-python",
   "name": "python",
   "nbconvert_exporter": "python",
   "pygments_lexer": "ipython3",
   "version": "3.10.9"
  }
 },
 "nbformat": 4,
 "nbformat_minor": 5
}
