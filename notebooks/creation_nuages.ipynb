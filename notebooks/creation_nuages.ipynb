{
 "cells": [
  {
   "cell_type": "code",
   "execution_count": null,
   "id": "82ca1c8e-d7ca-4fb7-aaad-19152fabbd47",
   "metadata": {},
   "outputs": [],
   "source": [
    "%load_ext autoreload\n",
    "%autoreload 2"
   ]
  },
  {
   "cell_type": "code",
   "execution_count": null,
   "id": "f742c6fb-a370-4f6c-b1a7-85f2b58ea7a1",
   "metadata": {
    "tags": []
   },
   "outputs": [],
   "source": [
    "import os\n",
    "\n",
    "import numpy as np\n",
    "import rasterio\n",
    "from tqdm import tqdm\n",
    "\n",
    "from classes.data.satellite_image import SatelliteImage\n",
    "from classes.labelers.labeler import Labeler\n",
    "from utils.filter import (\n",
    "    has_cloud, is_too_black2, mask_full_cloud, patch_nocloud\n",
    ")\n"
   ]
  },
  {
   "cell_type": "code",
   "execution_count": 90,
   "id": "a9dfb928-bb9c-4c7d-9a55-44ef0a17b8d2",
   "metadata": {
    "tags": []
   },
   "outputs": [
    {
     "data": {
      "text/plain": [
       "'/home/onyxia/work/detection-habitat-spontane/src'"
      ]
     },
     "execution_count": 90,
     "metadata": {},
     "output_type": "execute_result"
    }
   ],
   "source": [
    "import os\n",
    "os.chdir(\"../src\")\n",
    "os.getcwd()"
   ]
  },
  {
   "cell_type": "code",
   "execution_count": null,
   "id": "c094af0e-abd4-41f2-8160-44a9430bad2a",
   "metadata": {
    "tags": []
   },
   "outputs": [],
   "source": [
    "from train_pipeline_utils.download_data import load_pleiade_data\n",
    "from classes.data.satellite_image import SatelliteImage"
   ]
  },
  {
   "cell_type": "code",
   "execution_count": null,
   "id": "2221e1e1-34bd-435f-abc0-615f07746ce5",
   "metadata": {
    "tags": []
   },
   "outputs": [],
   "source": [
    "load_pleiade_data(2022, \"972\")"
   ]
  },
  {
   "cell_type": "code",
   "execution_count": null,
   "id": "2bfea37a-82a2-49f0-9ab7-32b5baed9246",
   "metadata": {
    "tags": []
   },
   "outputs": [],
   "source": [
    "load_pleiade_data(2017, \"972\")"
   ]
  },
  {
   "cell_type": "code",
   "execution_count": 79,
   "id": "3b296655-79f6-4c13-b29c-e9a8331fcf93",
   "metadata": {
    "tags": []
   },
   "outputs": [
    {
     "name": "stdout",
     "output_type": "stream",
     "text": [
      "download 976 2017 in /home/onyxia/work/detection-habitat-spontane/data/PLEIADES/2017/MAYOTTE\n"
     ]
    },
    {
     "data": {
      "text/plain": [
       "'/home/onyxia/work/detection-habitat-spontane/data/PLEIADES/2017/MAYOTTE'"
      ]
     },
     "execution_count": 79,
     "metadata": {},
     "output_type": "execute_result"
    }
   ],
   "source": [
    "load_pleiade_data(2017, \"976\")"
   ]
  },
  {
   "cell_type": "code",
   "execution_count": null,
   "id": "03d05454-98c9-49b2-915b-13e7d1c25b11",
   "metadata": {
    "tags": []
   },
   "outputs": [],
   "source": [
    "load_pleiade_data(2022, \"973\")"
   ]
  },
  {
   "cell_type": "code",
   "execution_count": 80,
   "id": "e3ad183d-f796-43a4-a8d3-44b504617574",
   "metadata": {
    "tags": []
   },
   "outputs": [
    {
     "name": "stdout",
     "output_type": "stream",
     "text": [
      "download 976 2020 in /home/onyxia/work/detection-habitat-spontane/data/PLEIADES/2020/MAYOTTE\n"
     ]
    },
    {
     "data": {
      "text/plain": [
       "'/home/onyxia/work/detection-habitat-spontane/data/PLEIADES/2020/MAYOTTE'"
      ]
     },
     "execution_count": 80,
     "metadata": {},
     "output_type": "execute_result"
    }
   ],
   "source": [
    "load_pleiade_data(2020, \"976\")"
   ]
  },
  {
   "cell_type": "code",
   "execution_count": null,
   "id": "2f0ebc00-6087-4afa-8e6f-6dbd00c314bd",
   "metadata": {
    "tags": []
   },
   "outputs": [],
   "source": [
    "from rasterio.errors import RasterioIOError"
   ]
  },
  {
   "cell_type": "code",
   "execution_count": null,
   "id": "dca1bd35-34d6-4a94-bf71-bbbdbbab4256",
   "metadata": {
    "tags": []
   },
   "outputs": [],
   "source": [
    "from tqdm import tqdm"
   ]
  },
  {
   "cell_type": "code",
   "execution_count": 78,
   "id": "d6c5fee3-dabf-4790-b93f-324008d8aed2",
   "metadata": {
    "tags": []
   },
   "outputs": [
    {
     "name": "stderr",
     "output_type": "stream",
     "text": [
      "Processing: 100%|██████████| 240/240 [03:44<00:00,  1.07it/s]\n"
     ]
    }
   ],
   "source": [
    "file_path = '../data/PLEIADES/2022/GUYANE'\n",
    "output_directory_name = '../nuagespleiades/PLEIADES/2022/GUYANE'\n",
    "\n",
    "output_masks_path = output_directory_name\n",
    "\n",
    "if os.path.exists(output_masks_path):\n",
    "    print(\"fichiers déjà écrits\")\n",
    "\n",
    "if not os.path.exists(output_masks_path):\n",
    "    os.makedirs(output_masks_path)\n",
    "\n",
    "\n",
    "list_name = os.listdir(file_path)\n",
    "list_path = [file_path + \"/\" + name for name in list_name]\n",
    "\n",
    "\n",
    "for path, file_name in tqdm(zip(list_path, list_name), total=len(list_path), desc='Processing'):\n",
    "    try:\n",
    "        big_satellite_image = SatelliteImage.from_raster(\n",
    "            file_path=path, dep=None, date=None, n_bands=3\n",
    "        )\n",
    "        \n",
    "    except RasterioIOError:\n",
    "        continue\n",
    "\n",
    "    else:\n",
    "        boolean = has_cloud(big_satellite_image)\n",
    "\n",
    "        if boolean:\n",
    "            mask_full = mask_full_cloud(big_satellite_image)\n",
    "            file_name = file_name.split(\".\")[0]\n",
    "            np.save(output_masks_path + \"/\" + file_name + \".npy\", mask_full)"
   ]
  },
  {
   "cell_type": "code",
   "execution_count": null,
   "id": "4ac984a3-d625-43b1-a699-7571fff894c2",
   "metadata": {
    "tags": []
   },
   "outputs": [],
   "source": [
    "list_nuages = os.listdir(output_directory_name)\n",
    "len(list_nuages)"
   ]
  },
  {
   "cell_type": "code",
   "execution_count": 99,
   "id": "528dcb02-5bb1-4a93-b7ee-92df403a8b1d",
   "metadata": {
    "tags": []
   },
   "outputs": [],
   "source": [
    "from utils.utils import update_storage_access"
   ]
  },
  {
   "cell_type": "code",
   "execution_count": 108,
   "id": "ede12935-2640-48b6-8da3-1018a9666c23",
   "metadata": {
    "tags": []
   },
   "outputs": [
    {
     "ename": "PermissionError",
     "evalue": "Access Denied.",
     "output_type": "error",
     "traceback": [
      "\u001b[0;31m---------------------------------------------------------------------------\u001b[0m",
      "\u001b[0;31mClientError\u001b[0m                               Traceback (most recent call last)",
      "File \u001b[0;32m/opt/mamba/lib/python3.10/site-packages/s3fs/core.py:394\u001b[0m, in \u001b[0;36mS3FileSystem._lsdir\u001b[0;34m(self, path, refresh, max_items)\u001b[0m\n\u001b[1;32m    393\u001b[0m dircache \u001b[38;5;241m=\u001b[39m []\n\u001b[0;32m--> 394\u001b[0m \u001b[38;5;28;01mfor\u001b[39;00m i \u001b[38;5;129;01min\u001b[39;00m it:\n\u001b[1;32m    395\u001b[0m     dircache\u001b[38;5;241m.\u001b[39mextend(i\u001b[38;5;241m.\u001b[39mget(\u001b[38;5;124m'\u001b[39m\u001b[38;5;124mCommonPrefixes\u001b[39m\u001b[38;5;124m'\u001b[39m, []))\n",
      "File \u001b[0;32m/opt/mamba/lib/python3.10/site-packages/botocore/paginate.py:269\u001b[0m, in \u001b[0;36mPageIterator.__iter__\u001b[0;34m(self)\u001b[0m\n\u001b[1;32m    268\u001b[0m \u001b[38;5;28;01mwhile\u001b[39;00m \u001b[38;5;28;01mTrue\u001b[39;00m:\n\u001b[0;32m--> 269\u001b[0m     response \u001b[38;5;241m=\u001b[39m \u001b[38;5;28;43mself\u001b[39;49m\u001b[38;5;241;43m.\u001b[39;49m\u001b[43m_make_request\u001b[49m\u001b[43m(\u001b[49m\u001b[43mcurrent_kwargs\u001b[49m\u001b[43m)\u001b[49m\n\u001b[1;32m    270\u001b[0m     parsed \u001b[38;5;241m=\u001b[39m \u001b[38;5;28mself\u001b[39m\u001b[38;5;241m.\u001b[39m_extract_parsed_response(response)\n",
      "File \u001b[0;32m/opt/mamba/lib/python3.10/site-packages/botocore/paginate.py:357\u001b[0m, in \u001b[0;36mPageIterator._make_request\u001b[0;34m(self, current_kwargs)\u001b[0m\n\u001b[1;32m    356\u001b[0m \u001b[38;5;28;01mdef\u001b[39;00m \u001b[38;5;21m_make_request\u001b[39m(\u001b[38;5;28mself\u001b[39m, current_kwargs):\n\u001b[0;32m--> 357\u001b[0m     \u001b[38;5;28;01mreturn\u001b[39;00m \u001b[38;5;28;43mself\u001b[39;49m\u001b[38;5;241;43m.\u001b[39;49m\u001b[43m_method\u001b[49m\u001b[43m(\u001b[49m\u001b[38;5;241;43m*\u001b[39;49m\u001b[38;5;241;43m*\u001b[39;49m\u001b[43mcurrent_kwargs\u001b[49m\u001b[43m)\u001b[49m\n",
      "File \u001b[0;32m/opt/mamba/lib/python3.10/site-packages/botocore/client.py:530\u001b[0m, in \u001b[0;36mClientCreator._create_api_method.<locals>._api_call\u001b[0;34m(self, *args, **kwargs)\u001b[0m\n\u001b[1;32m    529\u001b[0m \u001b[38;5;66;03m# The \"self\" in this scope is referring to the BaseClient.\u001b[39;00m\n\u001b[0;32m--> 530\u001b[0m \u001b[38;5;28;01mreturn\u001b[39;00m \u001b[38;5;28;43mself\u001b[39;49m\u001b[38;5;241;43m.\u001b[39;49m\u001b[43m_make_api_call\u001b[49m\u001b[43m(\u001b[49m\u001b[43moperation_name\u001b[49m\u001b[43m,\u001b[49m\u001b[43m \u001b[49m\u001b[43mkwargs\u001b[49m\u001b[43m)\u001b[49m\n",
      "File \u001b[0;32m/opt/mamba/lib/python3.10/site-packages/botocore/client.py:960\u001b[0m, in \u001b[0;36mBaseClient._make_api_call\u001b[0;34m(self, operation_name, api_params)\u001b[0m\n\u001b[1;32m    959\u001b[0m     error_class \u001b[38;5;241m=\u001b[39m \u001b[38;5;28mself\u001b[39m\u001b[38;5;241m.\u001b[39mexceptions\u001b[38;5;241m.\u001b[39mfrom_code(error_code)\n\u001b[0;32m--> 960\u001b[0m     \u001b[38;5;28;01mraise\u001b[39;00m error_class(parsed_response, operation_name)\n\u001b[1;32m    961\u001b[0m \u001b[38;5;28;01melse\u001b[39;00m:\n",
      "\u001b[0;31mClientError\u001b[0m: An error occurred (AccessDenied) when calling the ListObjectsV2 operation: Access Denied.",
      "\nDuring handling of the above exception, another exception occurred:\n",
      "\u001b[0;31mPermissionError\u001b[0m                           Traceback (most recent call last)",
      "Cell \u001b[0;32mIn[108], line 7\u001b[0m\n\u001b[1;32m      5\u001b[0m source_folder \u001b[38;5;241m=\u001b[39m \u001b[38;5;124m'\u001b[39m\u001b[38;5;124m../nuagespleiades/PLEIADES/2020\u001b[39m\u001b[38;5;124m'\u001b[39m\n\u001b[1;32m      6\u001b[0m s3_destination \u001b[38;5;241m=\u001b[39m \u001b[38;5;124m'\u001b[39m\u001b[38;5;124ms3/projet-slums-detection/Donnees/NUAGESPLEIADES/2020\u001b[39m\u001b[38;5;124m'\u001b[39m\n\u001b[0;32m----> 7\u001b[0m \u001b[43mfs\u001b[49m\u001b[38;5;241;43m.\u001b[39;49m\u001b[43mput\u001b[49m\u001b[43m(\u001b[49m\u001b[43msource_folder\u001b[49m\u001b[43m,\u001b[49m\u001b[43m \u001b[49m\u001b[43ms3_destination\u001b[49m\u001b[43m,\u001b[49m\u001b[43m \u001b[49m\u001b[43mrecursive\u001b[49m\u001b[38;5;241;43m=\u001b[39;49m\u001b[38;5;28;43;01mTrue\u001b[39;49;00m\u001b[43m)\u001b[49m\n",
      "File \u001b[0;32m/opt/mamba/lib/python3.10/site-packages/fsspec/spec.py:967\u001b[0m, in \u001b[0;36mAbstractFileSystem.put\u001b[0;34m(self, lpath, rpath, recursive, callback, **kwargs)\u001b[0m\n\u001b[1;32m    960\u001b[0m         \u001b[38;5;28;01mreturn\u001b[39;00m\n\u001b[1;32m    962\u001b[0m rpath \u001b[38;5;241m=\u001b[39m (\n\u001b[1;32m    963\u001b[0m     \u001b[38;5;28mself\u001b[39m\u001b[38;5;241m.\u001b[39m_strip_protocol(rpath)\n\u001b[1;32m    964\u001b[0m     \u001b[38;5;28;01mif\u001b[39;00m \u001b[38;5;28misinstance\u001b[39m(rpath, \u001b[38;5;28mstr\u001b[39m)\n\u001b[1;32m    965\u001b[0m     \u001b[38;5;28;01melse\u001b[39;00m [\u001b[38;5;28mself\u001b[39m\u001b[38;5;241m.\u001b[39m_strip_protocol(p) \u001b[38;5;28;01mfor\u001b[39;00m p \u001b[38;5;129;01min\u001b[39;00m rpath]\n\u001b[1;32m    966\u001b[0m )\n\u001b[0;32m--> 967\u001b[0m isdir \u001b[38;5;241m=\u001b[39m \u001b[38;5;28misinstance\u001b[39m(rpath, \u001b[38;5;28mstr\u001b[39m) \u001b[38;5;129;01mand\u001b[39;00m (trailing_sep(rpath) \u001b[38;5;129;01mor\u001b[39;00m \u001b[38;5;28;43mself\u001b[39;49m\u001b[38;5;241;43m.\u001b[39;49m\u001b[43misdir\u001b[49m\u001b[43m(\u001b[49m\u001b[43mrpath\u001b[49m\u001b[43m)\u001b[49m)\n\u001b[1;32m    968\u001b[0m rpaths \u001b[38;5;241m=\u001b[39m other_paths(\n\u001b[1;32m    969\u001b[0m     lpaths,\n\u001b[1;32m    970\u001b[0m     rpath,\n\u001b[0;32m   (...)\u001b[0m\n\u001b[1;32m    973\u001b[0m     flatten\u001b[38;5;241m=\u001b[39m\u001b[38;5;129;01mnot\u001b[39;00m source_is_str,\n\u001b[1;32m    974\u001b[0m )\n\u001b[1;32m    976\u001b[0m callback\u001b[38;5;241m.\u001b[39mset_size(\u001b[38;5;28mlen\u001b[39m(rpaths))\n",
      "File \u001b[0;32m/opt/mamba/lib/python3.10/site-packages/s3fs/core.py:601\u001b[0m, in \u001b[0;36mS3FileSystem.isdir\u001b[0;34m(self, path)\u001b[0m\n\u001b[1;32m    598\u001b[0m     \u001b[38;5;28;01mreturn\u001b[39;00m \u001b[38;5;28;01mFalse\u001b[39;00m\n\u001b[1;32m    600\u001b[0m \u001b[38;5;66;03m# This only returns things within the path and NOT the path object itself\u001b[39;00m\n\u001b[0;32m--> 601\u001b[0m \u001b[38;5;28;01mreturn\u001b[39;00m \u001b[38;5;28mbool\u001b[39m(\u001b[38;5;28;43mself\u001b[39;49m\u001b[38;5;241;43m.\u001b[39;49m\u001b[43m_lsdir\u001b[49m\u001b[43m(\u001b[49m\u001b[43mpath\u001b[49m\u001b[43m)\u001b[49m)\n",
      "File \u001b[0;32m/opt/mamba/lib/python3.10/site-packages/s3fs/core.py:409\u001b[0m, in \u001b[0;36mS3FileSystem._lsdir\u001b[0;34m(self, path, refresh, max_items)\u001b[0m\n\u001b[1;32m    407\u001b[0m         f[\u001b[38;5;124m'\u001b[39m\u001b[38;5;124mname\u001b[39m\u001b[38;5;124m'\u001b[39m] \u001b[38;5;241m=\u001b[39m f[\u001b[38;5;124m'\u001b[39m\u001b[38;5;124mKey\u001b[39m\u001b[38;5;124m'\u001b[39m]\n\u001b[1;32m    408\u001b[0m \u001b[38;5;28;01mexcept\u001b[39;00m ClientError \u001b[38;5;28;01mas\u001b[39;00m e:\n\u001b[0;32m--> 409\u001b[0m     \u001b[38;5;28;01mraise\u001b[39;00m translate_boto_error(e)\n\u001b[1;32m    411\u001b[0m \u001b[38;5;28mself\u001b[39m\u001b[38;5;241m.\u001b[39mdircache[path] \u001b[38;5;241m=\u001b[39m files\n\u001b[1;32m    412\u001b[0m \u001b[38;5;28;01mreturn\u001b[39;00m files\n",
      "\u001b[0;31mPermissionError\u001b[0m: Access Denied."
     ]
    }
   ],
   "source": [
    "update_storage_access()\n",
    "fs = s3fs.S3FileSystem(\n",
    "    client_kwargs={\"endpoint_url\": \"https://minio.lab.sspcloud.fr\"}\n",
    ")\n",
    "source_folder = '../nuagespleiades/PLEIADES/2020'\n",
    "s3_destination = 's3/projet-slums-detection/Donnees/NUAGESPLEIADES/2020'\n",
    "fs.put(source_folder, s3_destination, recursive=True)"
   ]
  },
  {
   "cell_type": "code",
   "execution_count": 103,
   "id": "ba6778e6-1ba0-45b7-bc5f-f2f51afe8082",
   "metadata": {
    "tags": []
   },
   "outputs": [
    {
     "data": {
      "text/plain": [
       "'/home/onyxia/work/detection-habitat-spontane/src'"
      ]
     },
     "execution_count": 103,
     "metadata": {},
     "output_type": "execute_result"
    }
   ],
   "source": [
    "os.getcwd()"
   ]
  },
  {
   "cell_type": "code",
   "execution_count": 109,
   "id": "5fdd5900-4b49-4b21-ac0b-cdb50becd541",
   "metadata": {
    "tags": []
   },
   "outputs": [],
   "source": [
    "! export MC_HOST_s3=https://5UP3C4JH842UU09WUXCP:w6DbxVTDBgryZEGtRPF2chzcfLc+ARFwnZA5YMB4:eyJhbGciOiJIUzUxMiIsInR5cCI6IkpXVCJ9.eyJhY2Nlc3NLZXkiOiI1VVAzQzRKSDg0MlVVMDlXVVhDUCIsImFsbG93ZWQtb3JpZ2lucyI6WyIqIl0sImF1ZCI6WyJtaW5pby1kYXRhbm9kZSIsIm9ueXhpYSIsImFjY291bnQiXSwiYXV0aF90aW1lIjoxNjgzODI4MDA5LCJhenAiOiJvbnl4aWEiLCJlbWFpbCI6InJheWEuYmVyb3ZhQGVsZXZlLmVuc2FpLmZyIiwiZW1haWxfdmVyaWZpZWQiOnRydWUsImV4cCI6MTY4MzkxNTMwMCwiZmFtaWx5X25hbWUiOiJCRVJPVkEiLCJnaXZlbl9uYW1lIjoiUmF5YSIsImdyb3VwcyI6WyJmdW5hdGhvbiIsInNsdW1zLWRldGVjdGlvbiJdLCJpYXQiOjE2ODM4Mjg4OTgsImlzcyI6Imh0dHBzOi8vYXV0aC5sYWIuc3NwY2xvdWQuZnIvYXV0aC9yZWFsbXMvc3NwY2xvdWQiLCJqdGkiOiI1NDBiYWJhZi1iOTMyLTQxOTUtYTljYS01NTRhYzJjYjYwMjQiLCJsb2NhbGUiOiJlbiIsIm5hbWUiOiJSYXlhIEJFUk9WQSIsIm5vbmNlIjoiZjZjNmZiMjYtNTczZi00NTY4LTg1YzctNjI1NjhkZTNiNzk2IiwicG9saWN5Ijoic3Rzb25seSIsInByZWZlcnJlZF91c2VybmFtZSI6ImlkMTc1MyIsInJlYWxtX2FjY2VzcyI6eyJyb2xlcyI6WyJvZmZsaW5lX2FjY2VzcyIsInVtYV9hdXRob3JpemF0aW9uIiwiZGVmYXVsdC1yb2xlcy1zc3BjbG91ZCJdfSwicmVzb3VyY2VfYWNjZXNzIjp7ImFjY291bnQiOnsicm9sZXMiOlsibWFuYWdlLWFjY291bnQiLCJtYW5hZ2UtYWNjb3VudC1saW5rcyIsInZpZXctcHJvZmlsZSJdfX0sInNjb3BlIjoib3BlbmlkIHByb2ZpbGUgZ3JvdXBzIGVtYWlsIiwic2Vzc2lvblBvbGljeSI6ImV5SldaWEp6YVc5dUlqb2lNakF4TWkweE1DMHhOeUlzSWxOMFlYUmxiV1Z1ZENJNlczc2lSV1ptWldOMElqb2lRV3hzYjNjaUxDSkJZM1JwYjI0aU9sc2ljek02S2lKZExDSlNaWE52ZFhKalpTSTZXeUpoY200NllYZHpPbk16T2pvNmNISnZhbVYwTFhOc2RXMXpMV1JsZEdWamRHbHZiaUlzSW1GeWJqcGhkM002Y3pNNk9qcHdjbTlxWlhRdGMyeDFiWE10WkdWMFpXTjBhVzl1THlvaVhYMHNleUpGWm1abFkzUWlPaUpCYkd4dmR5SXNJa0ZqZEdsdmJpSTZXeUp6TXpwTWFYTjBRblZqYTJWMElsMHNJbEpsYzI5MWNtTmxJanBiSW1GeWJqcGhkM002Y3pNNk9qb3FJbDBzSWtOdmJtUnBkR2x2YmlJNmV5SlRkSEpwYm1kTWFXdGxJanA3SW5Nek9uQnlaV1pwZUNJNkltUnBabVoxYzJsdmJpOHFJbjE5ZlN4N0lrVm1abVZqZENJNklrRnNiRzkzSWl3aVFXTjBhVzl1SWpwYkluTXpPa2RsZEU5aWFtVmpkQ0pkTENKU1pYTnZkWEpqWlNJNld5SmhjbTQ2WVhkek9uTXpPam82S2k5a2FXWm1kWE5wYjI0dktpSmRmVjE5Iiwic2Vzc2lvbl9zdGF0ZSI6ImUzYjQ1MzA3LWMxZTEtNDU3MC04MmZiLTljMGI0NWNhZDcwYiIsInNpZCI6ImUzYjQ1MzA3LWMxZTEtNDU3MC04MmZiLTljMGI0NWNhZDcwYiIsInN1YiI6ImRiNWM5MTg3LWUwNjItNDIyMy04N2UwLTk2YTc5ODYzMDZlOSIsInR5cCI6IkJlYXJlciJ9.TrOIMPmQkwyHMNIxkV3OMdktEvmHuqWwGYNFpBNGvf_5EqvDMtkMR84J52USKE9GJu9xNS_1ca1CHD26tj8AZA@minio.lab.sspcloud.fr"
   ]
  },
  {
   "cell_type": "code",
   "execution_count": 111,
   "id": "dc861853-872a-4f60-8974-79e6b64c9716",
   "metadata": {
    "tags": []
   },
   "outputs": [
    {
     "name": "stdout",
     "output_type": "stream",
     "text": [
      " 0 B / ? ━┉┉┉┉┉┉┉┉┉┉┉┉┉┉┉┉┉┉┉┉┉┉┉┉┉┉┉┉┉┉┉┉┉┉┉┉┉┉┉┉┉┉┉┉┉┉┉┉┉┉┉┉┉┉┉┉┉┉┉┉┉┉┉┉┉┉┉┉━━\u001b[0m\u001b[0m\u001b[m\u001b[2K\n",
      "\u001b[0m\u001b[m\u001b[A\u001b[0m\u001b[33;3mmc: <ERROR> \u001b[0m\u001b[33;3mFailed to copy `/home/onyxia/work/detection-habitat-spontane/nuagespleiades/PLEIADES/2020/MAYOTTE/ORT_2020052526656219_0501_8598_U38S_8Bits.npy`. The Access Key Id you provided does not exist in our records.\n",
      "\u001b[0m\u001b[m\u001b[2K\n",
      "\u001b[0m\u001b[m\u001b[A\u001b[0m\u001b[33;3mmc: <ERROR> \u001b[0m\u001b[33;3mFailed to copy `/home/onyxia/work/detection-habitat-spontane/nuagespleiades/PLEIADES/2020/MAYOTTE/ORT_2020052526656219_0501_8601_U38S_8Bits.npy`. The Access Key Id you provided does not exist in our records.\n",
      "\u001b[0m\u001b[m\u001b[2K\n",
      "\u001b[0m\u001b[m\u001b[A\u001b[0m\u001b[33;3mmc: <ERROR> \u001b[0m\u001b[33;3mFailed to copy `/home/onyxia/work/detection-habitat-spontane/nuagespleiades/PLEIADES/2020/MAYOTTE/ORT_2020052526656219_0501_8602_U38S_8Bits.npy`. The Access Key Id you provided does not exist in our records.\n",
      "\u001b[0m\u001b[m\u001b[2K\n",
      "\u001b[0m\u001b[m\u001b[A\u001b[0m\u001b[33;3mmc: <ERROR> \u001b[0m\u001b[33;3mFailed to copy `/home/onyxia/work/detection-habitat-spontane/nuagespleiades/PLEIADES/2020/MAYOTTE/ORT_2020052526656219_0502_8601_U38S_8Bits.npy`. The Access Key Id you provided does not exist in our records.\n",
      "\u001b[0m\u001b[m\u001b[2K\n",
      "\u001b[0m\u001b[m\u001b[A\u001b[0m\u001b[33;3mmc: <ERROR> \u001b[0m\u001b[33;3mFailed to copy `/home/onyxia/work/detection-habitat-spontane/nuagespleiades/PLEIADES/2020/MAYOTTE/ORT_2020052526656219_0502_8603_U38S_8Bits.npy`. The Access Key Id you provided does not exist in our records.\n",
      "\u001b[0m\u001b[m\u001b[2K\n",
      "\u001b[0m\u001b[m\u001b[A\u001b[0m\u001b[33;3mmc: <ERROR> \u001b[0m\u001b[33;3mFailed to copy `/home/onyxia/work/detection-habitat-spontane/nuagespleiades/PLEIADES/2020/MAYOTTE/ORT_2020052526656219_0503_8602_U38S_8Bits.npy`. The Access Key Id you provided does not exist in our records.\n",
      "\u001b[0m\u001b[m\u001b[2K\n",
      "\u001b[0m\u001b[m\u001b[A\u001b[0m\u001b[33;3mmc: <ERROR> \u001b[0m\u001b[33;3mFailed to copy `/home/onyxia/work/detection-habitat-spontane/nuagespleiades/PLEIADES/2020/MAYOTTE/ORT_2020052526656219_0504_8603_U38S_8Bits.npy`. The Access Key Id you provided does not exist in our records.\n",
      "\u001b[0m\u001b[m\u001b[2K\n",
      "\u001b[0m\u001b[m\u001b[A\u001b[0m\u001b[33;3mmc: <ERROR> \u001b[0m\u001b[33;3mFailed to copy `/home/onyxia/work/detection-habitat-spontane/nuagespleiades/PLEIADES/2020/MAYOTTE/ORT_2020052526656219_0506_8568_U38S_8Bits.npy`. The Access Key Id you provided does not exist in our records.\n",
      "\u001b[0m\u001b[m\u001b[2K\n",
      "\u001b[0m\u001b[m\u001b[A\u001b[0m\u001b[33;3mmc: <ERROR> \u001b[0m\u001b[33;3mFailed to copy `/home/onyxia/work/detection-habitat-spontane/nuagespleiades/PLEIADES/2020/MAYOTTE/ORT_2020052526656219_0505_8602_U38S_8Bits.npy`. The Access Key Id you provided does not exist in our records.\n",
      "\u001b[0m\u001b[m\u001b[2K\n",
      "\u001b[0m\u001b[m\u001b[A\u001b[0m\u001b[33;3mmc: <ERROR> \u001b[0m\u001b[33;3mFailed to copy `/home/onyxia/work/detection-habitat-spontane/nuagespleiades/PLEIADES/2020/MAYOTTE/ORT_2020052526656219_0505_8599_U38S_8Bits.npy`. The Access Key Id you provided does not exist in our records.\n",
      "\u001b[0m\u001b[m\u001b[2K\n",
      "\u001b[0m\u001b[m\u001b[A\u001b[0m\u001b[33;3mmc: <ERROR> \u001b[0m\u001b[33;3mFailed to copy `/home/onyxia/work/detection-habitat-spontane/nuagespleiades/PLEIADES/2020/MAYOTTE/ORT_2020052526656219_0506_8570_U38S_8Bits.npy`. The Access Key Id you provided does not exist in our records.\n",
      "\u001b[0m\u001b[m\u001b[2K\n",
      "\u001b[0m\u001b[m\u001b[A\u001b[0m\u001b[33;3mmc: <ERROR> \u001b[0m\u001b[33;3mFailed to copy `/home/onyxia/work/detection-habitat-spontane/nuagespleiades/PLEIADES/2020/MAYOTTE/ORT_2020052526656219_0505_8603_U38S_8Bits.npy`. The Access Key Id you provided does not exist in our records.\n",
      "\u001b[0m\u001b[m\u001b[2K\n",
      "\u001b[0m\u001b[m\u001b[A\u001b[0m\u001b[33;3mmc: <ERROR> \u001b[0m\u001b[33;3mFailed to copy `/home/onyxia/work/detection-habitat-spontane/nuagespleiades/PLEIADES/2020/MAYOTTE/ORT_2020052526656219_0507_8567_U38S_8Bits.npy`. The Access Key Id you provided does not exist in our records.\n",
      "\u001b[0m\u001b[m\u001b[2K\n",
      "\u001b[0m\u001b[m\u001b[A\u001b[0m\u001b[33;3mmc: <ERROR> \u001b[0m\u001b[33;3mFailed to copy `/home/onyxia/work/detection-habitat-spontane/nuagespleiades/PLEIADES/2020/MAYOTTE/ORT_2020052526656219_0507_8570_U38S_8Bits.npy`. The Access Key Id you provided does not exist in our records.\n",
      "\u001b[0m\u001b[m\u001b[2K\n",
      "\u001b[0m\u001b[m\u001b[A\u001b[0m\u001b[33;3mmc: <ERROR> \u001b[0m\u001b[33;3mFailed to copy `/home/onyxia/work/detection-habitat-spontane/nuagespleiades/PLEIADES/2020/MAYOTTE/ORT_2020052526656219_0506_8571_U38S_8Bits.npy`. The Access Key Id you provided does not exist in our records.\n",
      "\u001b[0m\u001b[m\u001b[2K\n",
      "\u001b[0m\u001b[m\u001b[A\u001b[0m\u001b[33;3mmc: <ERROR> \u001b[0m\u001b[33;3mFailed to copy `/home/onyxia/work/detection-habitat-spontane/nuagespleiades/PLEIADES/2020/MAYOTTE/ORT_2020052526656219_0506_8597_U38S_8Bits.npy`. The Access Key Id you provided does not exist in our records.\n",
      "\u001b[0m\u001b[m\u001b[2K\n",
      "\u001b[0m\u001b[m\u001b[A\u001b[0m\u001b[33;3mmc: <ERROR> \u001b[0m\u001b[33;3mFailed to copy `/home/onyxia/work/detection-habitat-spontane/nuagespleiades/PLEIADES/2020/MAYOTTE/ORT_2020052526656219_0507_8571_U38S_8Bits.npy`. The Access Key Id you provided does not exist in our records.\n",
      "\u001b[0m\u001b[m\u001b[2K\n",
      "\u001b[0m\u001b[m\u001b[A\u001b[0m\u001b[33;3mmc: <ERROR> \u001b[0m\u001b[33;3mFailed to copy `/home/onyxia/work/detection-habitat-spontane/nuagespleiades/PLEIADES/2020/MAYOTTE/ORT_2020052526656219_0507_8599_U38S_8Bits.npy`. The Access Key Id you provided does not exist in our records.\n",
      "\u001b[0m\u001b[m\u001b[2K\n",
      "\u001b[0m\u001b[m\u001b[A\u001b[0m\u001b[33;3mmc: <ERROR> \u001b[0m\u001b[33;3mFailed to copy `/home/onyxia/work/detection-habitat-spontane/nuagespleiades/PLEIADES/2020/MAYOTTE/ORT_2020052526656219_0508_8575_U38S_8Bits.npy`. The Access Key Id you provided does not exist in our records.\n",
      "\u001b[0m\u001b[m\u001b[2K\n",
      "\u001b[0m\u001b[m\u001b[A\u001b[0m\u001b[33;3mmc: <ERROR> \u001b[0m\u001b[33;3mFailed to copy `/home/onyxia/work/detection-habitat-spontane/nuagespleiades/PLEIADES/2020/MAYOTTE/ORT_2020052526656219_0508_8576_U38S_8Bits.npy`. The Access Key Id you provided does not exist in our records.\n",
      "\u001b[0m\u001b[m\u001b[2K\n",
      "\u001b[0m\u001b[m\u001b[A\u001b[0m\u001b[33;3mmc: <ERROR> \u001b[0m\u001b[33;3mFailed to copy `/home/onyxia/work/detection-habitat-spontane/nuagespleiades/PLEIADES/2020/MAYOTTE/ORT_2020052526656219_0508_8577_U38S_8Bits.npy`. The Access Key Id you provided does not exist in our records.\n",
      "\u001b[0m\u001b[m\u001b[2K\n",
      "\u001b[0m\u001b[m\u001b[A\u001b[0m\u001b[33;3mmc: <ERROR> \u001b[0m\u001b[33;3mFailed to copy `/home/onyxia/work/detection-habitat-spontane/nuagespleiades/PLEIADES/2020/MAYOTTE/ORT_2020052526656219_0508_8599_U38S_8Bits.npy`. The Access Key Id you provided does not exist in our records.\n",
      "\u001b[0m\u001b[m\u001b[2K\n",
      "\u001b[0m\u001b[m\u001b[A\u001b[0m\u001b[33;3mmc: <ERROR> \u001b[0m\u001b[33;3mFailed to copy `/home/onyxia/work/detection-habitat-spontane/nuagespleiades/PLEIADES/2020/MAYOTTE/ORT_2020052526656219_0509_8565_U38S_8Bits.npy`. The Access Key Id you provided does not exist in our records.\n",
      "\u001b[0m\u001b[m\u001b[2K\n",
      "\u001b[0m\u001b[m\u001b[A\u001b[0m\u001b[33;3mmc: <ERROR> \u001b[0m\u001b[33;3mFailed to copy `/home/onyxia/work/detection-habitat-spontane/nuagespleiades/PLEIADES/2020/MAYOTTE/ORT_2020052526656219_0509_8571_U38S_8Bits.npy`. The Access Key Id you provided does not exist in our records.\n",
      "\u001b[0m\u001b[m\u001b[2K\n",
      "\u001b[0m\u001b[m\u001b[A\u001b[0m\u001b[33;3mmc: <ERROR> \u001b[0m\u001b[33;3mFailed to copy `/home/onyxia/work/detection-habitat-spontane/nuagespleiades/PLEIADES/2020/MAYOTTE/ORT_2020052526656219_0509_8576_U38S_8Bits.npy`. The Access Key Id you provided does not exist in our records.\n",
      "\u001b[0m\u001b[m\u001b[2K\n",
      "\u001b[0m\u001b[m\u001b[A\u001b[0m\u001b[33;3mmc: <ERROR> \u001b[0m\u001b[33;3mFailed to copy `/home/onyxia/work/detection-habitat-spontane/nuagespleiades/PLEIADES/2020/MAYOTTE/ORT_2020052526656219_0509_8579_U38S_8Bits.npy`. The Access Key Id you provided does not exist in our records.\n",
      "\u001b[0m\u001b[m\u001b[2K\n",
      "\u001b[0m\u001b[m\u001b[A\u001b[0m\u001b[33;3mmc: <ERROR> \u001b[0m\u001b[33;3mFailed to copy `/home/onyxia/work/detection-habitat-spontane/nuagespleiades/PLEIADES/2020/MAYOTTE/ORT_2020052526656219_0509_8595_U38S_8Bits.npy`. The Access Key Id you provided does not exist in our records.\n",
      "\u001b[0m\u001b[m\u001b[2K\n",
      "\u001b[0m\u001b[m\u001b[A\u001b[0m\u001b[33;3mmc: <ERROR> \u001b[0m\u001b[33;3mFailed to copy `/home/onyxia/work/detection-habitat-spontane/nuagespleiades/PLEIADES/2020/MAYOTTE/ORT_2020052526656219_0509_8601_U38S_8Bits.npy`. The Access Key Id you provided does not exist in our records.\n",
      "\u001b[0m\u001b[m\u001b[2K\n",
      "\u001b[0m\u001b[m\u001b[A\u001b[0m\u001b[33;3mmc: <ERROR> \u001b[0m\u001b[33;3mFailed to copy `/home/onyxia/work/detection-habitat-spontane/nuagespleiades/PLEIADES/2020/MAYOTTE/ORT_2020052526656219_0510_8570_U38S_8Bits.npy`. The Access Key Id you provided does not exist in our records.\n",
      "..._8Bits.npy: 0 B / 343.33 MiB ━┉┉┉┉┉┉┉┉┉┉┉┉┉┉┉┉┉┉┉┉┉┉┉┉┉┉┉┉┉┉┉┉┉┉┉┉┉┉┉┉┉┉┉┉┉┉━\u001b[0m\u001b[0m\u001b[m\u001b[2K\n",
      "\u001b[0m\u001b[m\u001b[A\u001b[0m\u001b[33;3mmc: <ERROR> \u001b[0m\u001b[33;3mFailed to copy `/home/onyxia/work/detection-habitat-spontane/nuagespleiades/PLEIADES/2020/MAYOTTE/ORT_2020052526656219_0510_8565_U38S_8Bits.npy`. The Access Key Id you provided does not exist in our records.\n",
      "\u001b[0m\u001b[m\u001b[2K\n",
      "\u001b[0m\u001b[m\u001b[A\u001b[0m\u001b[33;3mmc: <ERROR> \u001b[0m\u001b[33;3mFailed to copy `/home/onyxia/work/detection-habitat-spontane/nuagespleiades/PLEIADES/2020/MAYOTTE/ORT_2020052526656219_0511_8574_U38S_8Bits.npy`. The Access Key Id you provided does not exist in our records.\n",
      "\u001b[0m\u001b[m\u001b[2K\n",
      "\u001b[0m\u001b[m\u001b[A\u001b[0m\u001b[33;3mmc: <ERROR> \u001b[0m\u001b[33;3mFailed to copy `/home/onyxia/work/detection-habitat-spontane/nuagespleiades/PLEIADES/2020/MAYOTTE/ORT_2020052526656219_0511_8584_U38S_8Bits.npy`. The Access Key Id you provided does not exist in our records.\n",
      "\u001b[0m\u001b[m\u001b[2K\n",
      "\u001b[0m\u001b[m\u001b[A\u001b[0m\u001b[33;3mmc: <ERROR> \u001b[0m\u001b[33;3mFailed to copy `/home/onyxia/work/detection-habitat-spontane/nuagespleiades/PLEIADES/2020/MAYOTTE/ORT_2020052526656219_0511_8589_U38S_8Bits.npy`. The Access Key Id you provided does not exist in our records.\n",
      "\u001b[0m\u001b[m\u001b[2K\n",
      "\u001b[0m\u001b[m\u001b[A\u001b[0m\u001b[33;3mmc: <ERROR> \u001b[0m\u001b[33;3mFailed to copy `/home/onyxia/work/detection-habitat-spontane/nuagespleiades/PLEIADES/2020/MAYOTTE/ORT_2020052526656219_0512_8589_U38S_8Bits.npy`. The Access Key Id you provided does not exist in our records.\n",
      "\u001b[0m\u001b[m\u001b[2K\n",
      "\u001b[0m\u001b[m\u001b[A\u001b[0m\u001b[33;3mmc: <ERROR> \u001b[0m\u001b[33;3mFailed to copy `/home/onyxia/work/detection-habitat-spontane/nuagespleiades/PLEIADES/2020/MAYOTTE/ORT_2020052526656219_0513_8566_U38S_8Bits.npy`. The Access Key Id you provided does not exist in our records.\n",
      "\u001b[0m\u001b[m\u001b[2K\n",
      "\u001b[0m\u001b[m\u001b[A\u001b[0m\u001b[33;3mmc: <ERROR> \u001b[0m\u001b[33;3mFailed to copy `/home/onyxia/work/detection-habitat-spontane/nuagespleiades/PLEIADES/2020/MAYOTTE/ORT_2020052526656219_0513_8567_U38S_8Bits.npy`. The Access Key Id you provided does not exist in our records.\n",
      "\u001b[0m\u001b[m\u001b[2K\n",
      "\u001b[0m\u001b[m\u001b[A\u001b[0m\u001b[33;3mmc: <ERROR> \u001b[0m\u001b[33;3mFailed to copy `/home/onyxia/work/detection-habitat-spontane/nuagespleiades/PLEIADES/2020/MAYOTTE/ORT_2020052526656219_0513_8577_U38S_8Bits.npy`. The Access Key Id you provided does not exist in our records.\n",
      "\u001b[0m\u001b[m\u001b[2K\n",
      "\u001b[0m\u001b[m\u001b[A\u001b[0m\u001b[33;3mmc: <ERROR> \u001b[0m\u001b[33;3mFailed to copy `/home/onyxia/work/detection-habitat-spontane/nuagespleiades/PLEIADES/2020/MAYOTTE/ORT_2020052526656219_0513_8601_U38S_8Bits.npy`. The Access Key Id you provided does not exist in our records.\n",
      "\u001b[0m\u001b[m\u001b[2K\n",
      "\u001b[0m\u001b[m\u001b[A\u001b[0m\u001b[33;3mmc: <ERROR> \u001b[0m\u001b[33;3mFailed to copy `/home/onyxia/work/detection-habitat-spontane/nuagespleiades/PLEIADES/2020/MAYOTTE/ORT_2020052526656219_0514_8565_U38S_8Bits.npy`. The Access Key Id you provided does not exist in our records.\n",
      "\u001b[0m\u001b[m\u001b[2K\n",
      "\u001b[0m\u001b[m\u001b[A\u001b[0m\u001b[33;3mmc: <ERROR> \u001b[0m\u001b[33;3mFailed to copy `/home/onyxia/work/detection-habitat-spontane/nuagespleiades/PLEIADES/2020/MAYOTTE/ORT_2020052526656219_0514_8567_U38S_8Bits.npy`. The Access Key Id you provided does not exist in our records.\n",
      "\u001b[0m\u001b[m\u001b[2K\n",
      "\u001b[0m\u001b[m\u001b[A\u001b[0m\u001b[33;3mmc: <ERROR> \u001b[0m\u001b[33;3mFailed to copy `/home/onyxia/work/detection-habitat-spontane/nuagespleiades/PLEIADES/2020/MAYOTTE/ORT_2020052526656219_0514_8568_U38S_8Bits.npy`. The Access Key Id you provided does not exist in our records.\n",
      "\u001b[0m\u001b[m\u001b[2K\n",
      "\u001b[0m\u001b[m\u001b[A\u001b[0m\u001b[33;3mmc: <ERROR> \u001b[0m\u001b[33;3mFailed to copy `/home/onyxia/work/detection-habitat-spontane/nuagespleiades/PLEIADES/2020/MAYOTTE/ORT_2020052526656219_0514_8573_U38S_8Bits.npy`. The Access Key Id you provided does not exist in our records.\n",
      "\u001b[0m\u001b[m\u001b[2K\n",
      "\u001b[0m\u001b[m\u001b[A\u001b[0m\u001b[33;3mmc: <ERROR> \u001b[0m\u001b[33;3mFailed to copy `/home/onyxia/work/detection-habitat-spontane/nuagespleiades/PLEIADES/2020/MAYOTTE/ORT_2020052526656219_0514_8575_U38S_8Bits.npy`. The Access Key Id you provided does not exist in our records.\n",
      "\u001b[0m\u001b[m\u001b[2K\n",
      "\u001b[0m\u001b[m\u001b[A\u001b[0m\u001b[33;3mmc: <ERROR> \u001b[0m\u001b[33;3mFailed to copy `/home/onyxia/work/detection-habitat-spontane/nuagespleiades/PLEIADES/2020/MAYOTTE/ORT_2020052526656219_0514_8584_U38S_8Bits.npy`. The Access Key Id you provided does not exist in our records.\n",
      "\u001b[0m\u001b[m\u001b[2K\n",
      "\u001b[0m\u001b[m\u001b[A\u001b[0m\u001b[33;3mmc: <ERROR> \u001b[0m\u001b[33;3mFailed to copy `/home/onyxia/work/detection-habitat-spontane/nuagespleiades/PLEIADES/2020/MAYOTTE/ORT_2020052526656219_0515_8564_U38S_8Bits.npy`. The Access Key Id you provided does not exist in our records.\n",
      "\u001b[0m\u001b[m\u001b[2K\n",
      "\u001b[0m\u001b[m\u001b[A\u001b[0m\u001b[33;3mmc: <ERROR> \u001b[0m\u001b[33;3mFailed to copy `/home/onyxia/work/detection-habitat-spontane/nuagespleiades/PLEIADES/2020/MAYOTTE/ORT_2020052526656219_0514_8598_U38S_8Bits.npy`. The Access Key Id you provided does not exist in our records.\n",
      "\u001b[0m\u001b[m\u001b[2K\n",
      "\u001b[0m\u001b[m\u001b[A\u001b[0m\u001b[33;3mmc: <ERROR> \u001b[0m\u001b[33;3mFailed to copy `/home/onyxia/work/detection-habitat-spontane/nuagespleiades/PLEIADES/2020/MAYOTTE/ORT_2020052526656219_0515_8567_U38S_8Bits.npy`. The Access Key Id you provided does not exist in our records.\n",
      "\u001b[0m\u001b[m\u001b[2K\n",
      "\u001b[0m\u001b[m\u001b[A\u001b[0m\u001b[33;3mmc: <ERROR> \u001b[0m\u001b[33;3mFailed to copy `/home/onyxia/work/detection-habitat-spontane/nuagespleiades/PLEIADES/2020/MAYOTTE/ORT_2020052526656219_0515_8563_U38S_8Bits.npy`. The Access Key Id you provided does not exist in our records.\n",
      "\u001b[0m\u001b[m\u001b[2K\n",
      "\u001b[0m\u001b[m\u001b[A\u001b[0m\u001b[33;3mmc: <ERROR> \u001b[0m\u001b[33;3mFailed to copy `/home/onyxia/work/detection-habitat-spontane/nuagespleiades/PLEIADES/2020/MAYOTTE/ORT_2020052526656219_0515_8568_U38S_8Bits.npy`. The Access Key Id you provided does not exist in our records.\n",
      "\u001b[0m\u001b[m\u001b[2K\n",
      "\u001b[0m\u001b[m\u001b[A\u001b[0m\u001b[33;3mmc: <ERROR> \u001b[0m\u001b[33;3mFailed to copy `/home/onyxia/work/detection-habitat-spontane/nuagespleiades/PLEIADES/2020/MAYOTTE/ORT_2020052526656219_0515_8576_U38S_8Bits.npy`. The Access Key Id you provided does not exist in our records.\n",
      "\u001b[0m\u001b[m\u001b[2K\n",
      "\u001b[0m\u001b[m\u001b[A\u001b[0m\u001b[33;3mmc: <ERROR> \u001b[0m\u001b[33;3mFailed to copy `/home/onyxia/work/detection-habitat-spontane/nuagespleiades/PLEIADES/2020/MAYOTTE/ORT_2020052526656219_0515_8601_U38S_8Bits.npy`. The Access Key Id you provided does not exist in our records.\n",
      "\u001b[0m\u001b[m\u001b[2K\n",
      "\u001b[0m\u001b[m\u001b[A\u001b[0m\u001b[33;3mmc: <ERROR> \u001b[0m\u001b[33;3mFailed to copy `/home/onyxia/work/detection-habitat-spontane/nuagespleiades/PLEIADES/2020/MAYOTTE/ORT_2020052526656219_0515_8577_U38S_8Bits.npy`. The Access Key Id you provided does not exist in our records.\n",
      "\u001b[0m\u001b[m\u001b[2K\n",
      "\u001b[0m\u001b[m\u001b[A\u001b[0m\u001b[33;3mmc: <ERROR> \u001b[0m\u001b[33;3mFailed to copy `/home/onyxia/work/detection-habitat-spontane/nuagespleiades/PLEIADES/2020/MAYOTTE/ORT_2020052526656219_0516_8577_U38S_8Bits.npy`. The Access Key Id you provided does not exist in our records.\n",
      "\u001b[0m\u001b[m\u001b[2K\n",
      "\u001b[0m\u001b[m\u001b[A\u001b[0m\u001b[33;3mmc: <ERROR> \u001b[0m\u001b[33;3mFailed to copy `/home/onyxia/work/detection-habitat-spontane/nuagespleiades/PLEIADES/2020/MAYOTTE/ORT_2020052526656219_0517_8576_U38S_8Bits.npy`. The Access Key Id you provided does not exist in our records.\n",
      "\u001b[0m\u001b[m\u001b[2K\n",
      "\u001b[0m\u001b[m\u001b[A\u001b[0m\u001b[33;3mmc: <ERROR> \u001b[0m\u001b[33;3mFailed to copy `/home/onyxia/work/detection-habitat-spontane/nuagespleiades/PLEIADES/2020/MAYOTTE/ORT_2020052526656219_0516_8583_U38S_8Bits.npy`. The Access Key Id you provided does not exist in our records.\n",
      "\u001b[0m\u001b[m\u001b[2K\n",
      "\u001b[0m\u001b[m\u001b[A\u001b[0m\u001b[33;3mmc: <ERROR> \u001b[0m\u001b[33;3mFailed to copy `/home/onyxia/work/detection-habitat-spontane/nuagespleiades/PLEIADES/2020/MAYOTTE/ORT_2020052526656219_0517_8577_U38S_8Bits.npy`. The Access Key Id you provided does not exist in our records.\n",
      "\u001b[0m\u001b[m\u001b[2K\n",
      "\u001b[0m\u001b[m\u001b[A\u001b[0m\u001b[33;3mmc: <ERROR> \u001b[0m\u001b[33;3mFailed to copy `/home/onyxia/work/detection-habitat-spontane/nuagespleiades/PLEIADES/2020/MAYOTTE/ORT_2020052526656219_0518_8576_U38S_8Bits.npy`. The Access Key Id you provided does not exist in our records.\n",
      "\u001b[0m\u001b[m\u001b[2K\n",
      "\u001b[0m\u001b[m\u001b[A\u001b[0m\u001b[33;3mmc: <ERROR> \u001b[0m\u001b[33;3mFailed to copy `/home/onyxia/work/detection-habitat-spontane/nuagespleiades/PLEIADES/2020/MAYOTTE/ORT_2020052526656219_0518_8577_U38S_8Bits.npy`. The Access Key Id you provided does not exist in our records.\n",
      "\u001b[0m\u001b[m\u001b[2K\n",
      "\u001b[0m\u001b[m\u001b[A\u001b[0m\u001b[33;3mmc: <ERROR> \u001b[0m\u001b[33;3mFailed to copy `/home/onyxia/work/detection-habitat-spontane/nuagespleiades/PLEIADES/2020/MAYOTTE/ORT_2020052526656219_0518_8578_U38S_8Bits.npy`. The Access Key Id you provided does not exist in our records.\n",
      "\u001b[0m\u001b[m\u001b[2K\n",
      "\u001b[0m\u001b[m\u001b[A\u001b[0m\u001b[33;3mmc: <ERROR> \u001b[0m\u001b[33;3mFailed to copy `/home/onyxia/work/detection-habitat-spontane/nuagespleiades/PLEIADES/2020/MAYOTTE/ORT_2020052526656219_0518_8585_U38S_8Bits.npy`. The Access Key Id you provided does not exist in our records.\n",
      "\u001b[0m\u001b[m\u001b[2K\n",
      "\u001b[0m\u001b[m\u001b[A\u001b[0m\u001b[33;3mmc: <ERROR> \u001b[0m\u001b[33;3mFailed to copy `/home/onyxia/work/detection-habitat-spontane/nuagespleiades/PLEIADES/2020/MAYOTTE/ORT_2020052526656219_0518_8595_U38S_8Bits.npy`. The Access Key Id you provided does not exist in our records.\n",
      "\u001b[0m\u001b[m\u001b[2K\n",
      "\u001b[0m\u001b[m\u001b[A\u001b[0m\u001b[33;3mmc: <ERROR> \u001b[0m\u001b[33;3mFailed to copy `/home/onyxia/work/detection-habitat-spontane/nuagespleiades/PLEIADES/2020/MAYOTTE/ORT_2020052526670967_0519_8576_U38S_8Bits.npy`. The Access Key Id you provided does not exist in our records.\n",
      "\u001b[0m\u001b[m\u001b[2K\n",
      "\u001b[0m\u001b[m\u001b[A\u001b[0m\u001b[33;3mmc: <ERROR> \u001b[0m\u001b[33;3mFailed to copy `/home/onyxia/work/detection-habitat-spontane/nuagespleiades/PLEIADES/2020/MAYOTTE/ORT_2020052526670967_0519_8577_U38S_8Bits.npy`. The Access Key Id you provided does not exist in our records.\n",
      "\u001b[0m\u001b[m\u001b[2K\n",
      "\u001b[0m\u001b[m\u001b[A\u001b[0m\u001b[33;3mmc: <ERROR> \u001b[0m\u001b[33;3mFailed to copy `/home/onyxia/work/detection-habitat-spontane/nuagespleiades/PLEIADES/2020/MAYOTTE/ORT_2020052526670967_0519_8582_U38S_8Bits.npy`. The Access Key Id you provided does not exist in our records.\n",
      "\u001b[0m\u001b[m\u001b[2K\n",
      "\u001b[0m\u001b[m\u001b[A\u001b[0m\u001b[33;3mmc: <ERROR> \u001b[0m\u001b[33;3mFailed to copy `/home/onyxia/work/detection-habitat-spontane/nuagespleiades/PLEIADES/2020/MAYOTTE/ORT_2020052526670967_0519_8583_U38S_8Bits.npy`. The Access Key Id you provided does not exist in our records.\n",
      "\u001b[0m\u001b[m\u001b[2K\n",
      "\u001b[0m\u001b[m\u001b[A\u001b[0m\u001b[33;3mmc: <ERROR> \u001b[0m\u001b[33;3mFailed to copy `/home/onyxia/work/detection-habitat-spontane/nuagespleiades/PLEIADES/2020/MAYOTTE/ORT_2020052526670967_0519_8584_U38S_8Bits.npy`. The Access Key Id you provided does not exist in our records.\n",
      "\u001b[0m\u001b[m\u001b[2K\n",
      "\u001b[0m\u001b[m\u001b[A\u001b[0m\u001b[33;3mmc: <ERROR> \u001b[0m\u001b[33;3mFailed to copy `/home/onyxia/work/detection-habitat-spontane/nuagespleiades/PLEIADES/2020/MAYOTTE/ORT_2020052526670967_0519_8585_U38S_8Bits.npy`. The Access Key Id you provided does not exist in our records.\n",
      "\u001b[0m\u001b[m\u001b[2K\n",
      "\u001b[0m\u001b[m\u001b[A\u001b[0m\u001b[33;3mmc: <ERROR> \u001b[0m\u001b[33;3mFailed to copy `/home/onyxia/work/detection-habitat-spontane/nuagespleiades/PLEIADES/2020/MAYOTTE/ORT_2020052526670967_0520_8575_U38S_8Bits.npy`. The Access Key Id you provided does not exist in our records.\n",
      "\u001b[0m\u001b[m\u001b[2K\n",
      "\u001b[0m\u001b[m\u001b[A\u001b[0m\u001b[33;3mmc: <ERROR> \u001b[0m\u001b[33;3mFailed to copy `/home/onyxia/work/detection-habitat-spontane/nuagespleiades/PLEIADES/2020/MAYOTTE/ORT_2020052526670967_0520_8576_U38S_8Bits.npy`. The Access Key Id you provided does not exist in our records.\n",
      "\u001b[0m\u001b[m\u001b[2K\n",
      "\u001b[0m\u001b[m\u001b[A\u001b[0m\u001b[33;3mmc: <ERROR> \u001b[0m\u001b[33;3mFailed to copy `/home/onyxia/work/detection-habitat-spontane/nuagespleiades/PLEIADES/2020/MAYOTTE/ORT_2020052526670967_0520_8577_U38S_8Bits.npy`. The Access Key Id you provided does not exist in our records.\n",
      "\u001b[0m\u001b[m\u001b[2K\n",
      "\u001b[0m\u001b[m\u001b[A\u001b[0m\u001b[33;3mmc: <ERROR> \u001b[0m\u001b[33;3mFailed to copy `/home/onyxia/work/detection-habitat-spontane/nuagespleiades/PLEIADES/2020/MAYOTTE/ORT_2020052526670967_0521_8582_U38S_8Bits.npy`. The Access Key Id you provided does not exist in our records.\n",
      "\u001b[0m\u001b[m\u001b[2K\n",
      "\u001b[0m\u001b[m\u001b[A\u001b[0m\u001b[33;3mmc: <ERROR> \u001b[0m\u001b[33;3mFailed to copy `/home/onyxia/work/detection-habitat-spontane/nuagespleiades/PLEIADES/2020/MAYOTTE/ORT_2020052526670967_0521_8589_U38S_8Bits.npy`. The Access Key Id you provided does not exist in our records.\n",
      "\u001b[0m\u001b[m\u001b[2K\n",
      "\u001b[0m\u001b[m\u001b[A\u001b[0m\u001b[33;3mmc: <ERROR> \u001b[0m\u001b[33;3mFailed to copy `/home/onyxia/work/detection-habitat-spontane/nuagespleiades/PLEIADES/2020/MAYOTTE/ORT_2020052526670967_0523_8565_U38S_8Bits.npy`. The Access Key Id you provided does not exist in our records.\n",
      "\u001b[0m\u001b[m\u001b[2K\n",
      "\u001b[0m\u001b[m\u001b[A\u001b[0m\u001b[33;3mmc: <ERROR> \u001b[0m\u001b[33;3mFailed to copy `/home/onyxia/work/detection-habitat-spontane/nuagespleiades/PLEIADES/2020/MAYOTTE/ORT_2020052526670967_0523_8569_U38S_8Bits.npy`. The Access Key Id you provided does not exist in our records.\n",
      "\u001b[0m\u001b[m\u001b[2K\n",
      "\u001b[0m\u001b[m\u001b[A\u001b[0m\u001b[33;3mmc: <ERROR> \u001b[0m\u001b[33;3mFailed to copy `/home/onyxia/work/detection-habitat-spontane/nuagespleiades/PLEIADES/2020/MAYOTTE/ORT_2020052526670967_0524_8570_U38S_8Bits.npy`. The Access Key Id you provided does not exist in our records.\n",
      "..._8Bits.npy: 0 B / 343.33 MiB ━┉┉┉┉┉┉┉┉┉┉┉┉┉┉┉┉┉┉┉┉┉┉┉┉┉┉┉┉┉┉┉┉┉┉┉┉┉┉┉┉┉┉┉┉┉┉━\u001b[0m\u001b[0m\u001b[m\u001b[2K\n",
      "\u001b[0m\u001b[m\u001b[A\u001b[0m\u001b[33;3mmc: <ERROR> \u001b[0m\u001b[33;3mFailed to copy `/home/onyxia/work/detection-habitat-spontane/nuagespleiades/PLEIADES/2020/MAYOTTE/ORT_2020052526670967_0525_8595_U38S_8Bits.npy`. The Access Key Id you provided does not exist in our records.\n",
      "\u001b[0m\u001b[m\u001b[2K\n",
      "\u001b[0m\u001b[m\u001b[A\u001b[0m\u001b[33;3mmc: <ERROR> \u001b[0m\u001b[33;3mFailed to copy `/home/onyxia/work/detection-habitat-spontane/nuagespleiades/PLEIADES/2020/MAYOTTE/ORT_2020052526670967_0528_8594_U38S_8Bits.npy`. The Access Key Id you provided does not exist in our records.\n",
      "\u001b[0m\u001b[m\u001b[2K\n",
      "\u001b[0m\u001b[m\u001b[A\u001b[0m\u001b[33;3mmc: <ERROR> \u001b[0m\u001b[33;3mFailed to copy `/home/onyxia/work/detection-habitat-spontane/nuagespleiades/PLEIADES/2020/MAYOTTE/ORT_2020052526670967_0530_8583_U38S_8Bits.npy`. The Access Key Id you provided does not exist in our records.\n",
      "\u001b[0m\u001b[m\u001b[2K\n",
      "\u001b[0m\u001b[m\u001b[A\u001b[0m\u001b[33;3mmc: <ERROR> \u001b[0m\u001b[33;3mFailed to copy `/home/onyxia/work/detection-habitat-spontane/nuagespleiades/PLEIADES/2020/MAYOTTE/ORT_2020052526670967_0531_8581_U38S_8Bits.npy`. The Access Key Id you provided does not exist in our records.\n",
      "\u001b[0m\u001b[m\u001b[2K\n",
      "\u001b[0m\u001b[m\u001b[A\u001b[0m\u001b[33;3mmc: <ERROR> \u001b[0m\u001b[33;3mFailed to copy `/home/onyxia/work/detection-habitat-spontane/nuagespleiades/PLEIADES/2020/MAYOTTE/ORT_2020052526670967_0531_8587_U38S_8Bits.npy`. The Access Key Id you provided does not exist in our records.\n",
      "\u001b[0m\u001b[m\u001b[2K\n",
      "\u001b[0m\u001b[m\u001b[A\u001b[0m\u001b[33;3mmc: <ERROR> \u001b[0m\u001b[33;3mFailed to copy `/home/onyxia/work/detection-habitat-spontane/nuagespleiades/PLEIADES/2020/MAYOTTE/ORT_2020052526670967_0531_8589_U38S_8Bits.npy`. The Access Key Id you provided does not exist in our records.\n",
      "\u001b[0m\u001b[m\u001b[2K\n",
      "\u001b[0m\u001b[m\u001b[A\u001b[0m\u001b[33;3mmc: <ERROR> \u001b[0m\u001b[33;3mFailed to copy `/home/onyxia/work/detection-habitat-spontane/nuagespleiades/PLEIADES/2020/MAYOTTE/ORT_2020052526670967_0531_8590_U38S_8Bits.npy`. The Access Key Id you provided does not exist in our records.\n",
      "\u001b[0m\u001b[m\u001b[2K\n",
      "\u001b[0m\u001b[m\u001b[A\u001b[0m\u001b[33;3mmc: <ERROR> \u001b[0m\u001b[33;3mFailed to copy `/home/onyxia/work/detection-habitat-spontane/nuagespleiades/PLEIADES/2020/MAYOTTE/ORT_2020052526670967_0531_8588_U38S_8Bits.npy`. The Access Key Id you provided does not exist in our records.\n",
      "\u001b[0m\u001b[m\u001b[2K\n",
      "\u001b[0m\u001b[m\u001b[A\u001b[0m"
     ]
    }
   ],
   "source": [
    "!mc cp --recursive ../nuagespleiades/PLEIADES/2020 s3/projet-slums-detection/Donnees/NUAGESPLEIADES/2020"
   ]
  },
  {
   "cell_type": "code",
   "execution_count": 114,
   "id": "7d4bd72f-7928-4e93-98ba-4b6a453974b0",
   "metadata": {
    "tags": []
   },
   "outputs": [],
   "source": [
    "import gc\n",
    "import os\n",
    "import sys\n",
    "from datetime import datetime\n",
    "from tqdm import tqdm\n",
    "import mlflow\n",
    "import numpy as np\n",
    "import pytorch_lightning as pl\n",
    "import torch\n",
    "import yaml\n",
    "from pytorch_lightning.callbacks import (\n",
    "    EarlyStopping,\n",
    "    LearningRateMonitor,\n",
    "    ModelCheckpoint,\n",
    ")\n",
    "from torch.utils.data import DataLoader\n",
    "from yaml.loader import SafeLoader\n",
    "\n",
    "from classes.data.satellite_image import SatelliteImage\n",
    "from classes.labelers.labeler import BDTOPOLabeler, RILLabeler\n",
    "from classes.optim.losses import CrossEntropySelfmade\n",
    "from torch.nn import CrossEntropyLoss\n",
    "from classes.optim.optimizer import generate_optimization_elements\n",
    "from data.components.dataset import PleiadeDataset\n",
    "from models.components.segmentation_models import DeepLabv3Module\n",
    "from models.segmentation_module import SegmentationModule\n",
    "from train_pipeline_utils.download_data import load_satellite_data, load_donnees_test\n",
    "from train_pipeline_utils.handle_dataset import (\n",
    "    generate_transform,\n",
    "    select_indices_to_split_dataset\n",
    ")\n",
    "\n",
    "from train_pipeline_utils.prepare_data import(\n",
    "    filter_images,\n",
    "    label_images,\n",
    "    save_images_and_masks,\n",
    "    check_labelled_images\n",
    ")\n",
    "\n",
    "from classes.data.satellite_image import SatelliteImage\n",
    "from classes.data.labeled_satellite_image import SegmentationLabeledSatelliteImage\n",
    "from utils.utils import update_storage_access, split_array, remove_dot_file\n",
    "from rasterio.errors import RasterioIOError\n",
    "from classes.optim.evaluation_model import evaluer_modele_sur_jeu_de_test_segmentation_pleiade\n",
    "from run_training_pipeline import *"
   ]
  },
  {
   "cell_type": "code",
   "execution_count": null,
   "id": "ee9745a9-1d36-4244-a7a1-5403ca6b3f2e",
   "metadata": {
    "tags": []
   },
   "outputs": [
    {
     "name": "stdout",
     "output_type": "stream",
     "text": [
      "Entre dans la fonction download_data\n",
      "Entre dans la fonction load_satellite_data\n",
      "download NUAGESPLEIADES 972 2022 in /home/onyxia/work/detection-habitat-spontane/data/NUAGESPLEIADES/2022/MARTINIQUE\n",
      "Entre dans la fonction load_satellite_data\n",
      "download PLEIADES 972 2022 in /home/onyxia/work/detection-habitat-spontane/data/PLEIADES/2022/MARTINIQUE\n",
      "chargement des données test\n",
      "Entre dans la fonction prepare_data\n",
      "Entre dans la fonction check_labelled_images\n",
      "The directory doesn't exist and is going to be created.\n",
      "Directory created\n"
     ]
    },
    {
     "name": "stderr",
     "output_type": "stream",
     "text": [
      "  3%|▎         | 37/1426 [01:29<1:05:02,  2.81s/it]"
     ]
    }
   ],
   "source": [
    "# Open the file and load the file\n",
    "with open(\"../config.yml\") as f:\n",
    "    config = yaml.load(f, Loader=SafeLoader)\n",
    "\n",
    "list_data_dir, list_masks_cloud_dir, test_dir = download_data(config)\n",
    "\n",
    "# list_data_dir = [\"../data/PLEIADES/2022/MARTINIQUE\"]\n",
    "# list_masks_cloud_dir = [\"../data/NUAGESPLEIADES/2022/MARTINIQUE\"]\n",
    "\n",
    "list_output_dir = prepare_train_data(config, list_data_dir, list_masks_cloud_dir)\n",
    "prepare_test_data(config, test_dir)\n",
    "\n",
    "model = instantiate_model(config)\n",
    "\n",
    "train_dl, valid_dl, test_dl = instantiate_dataloader(\n",
    "    config, list_output_dir\n",
    ")"
   ]
  }
 ],
 "metadata": {
  "kernelspec": {
   "display_name": "Python 3 (ipykernel)",
   "language": "python",
   "name": "python3"
  },
  "language_info": {
   "codemirror_mode": {
    "name": "ipython",
    "version": 3
   },
   "file_extension": ".py",
   "mimetype": "text/x-python",
   "name": "python",
   "nbconvert_exporter": "python",
   "pygments_lexer": "ipython3",
   "version": "3.10.9"
  }
 },
 "nbformat": 4,
 "nbformat_minor": 5
}
