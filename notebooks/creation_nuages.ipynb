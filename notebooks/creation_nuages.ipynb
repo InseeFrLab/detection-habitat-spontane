{
 "cells": [
  {
   "cell_type": "code",
   "execution_count": 1,
   "id": "82ca1c8e-d7ca-4fb7-aaad-19152fabbd47",
   "metadata": {},
   "outputs": [],
   "source": [
    "%load_ext autoreload\n",
    "%autoreload 2"
   ]
  },
  {
   "cell_type": "code",
   "execution_count": 3,
   "id": "f742c6fb-a370-4f6c-b1a7-85f2b58ea7a1",
   "metadata": {
    "tags": []
   },
   "outputs": [],
   "source": [
    "import os\n",
    "\n",
    "import numpy as np\n",
    "import rasterio\n",
    "from tqdm import tqdm\n",
    "from rasterio.errors import RasterioIOError\n",
    "\n",
    "import sys\n",
    "sys.path.append('../src')\n",
    "from classes.data.satellite_image import SatelliteImage\n",
    "from classes.labelers.labeler import Labeler\n",
    "from utils.filter import (\n",
    "    has_cloud, is_too_black2, mask_full_cloud, patch_nocloud\n",
    ")\n"
   ]
  },
  {
   "cell_type": "code",
   "execution_count": 5,
   "id": "c094af0e-abd4-41f2-8160-44a9430bad2a",
   "metadata": {
    "tags": []
   },
   "outputs": [],
   "source": [
    "from train_pipeline_utils.download_data import load_satellite_data\n",
    "from classes.data.satellite_image import SatelliteImage"
   ]
  },
  {
   "cell_type": "code",
   "execution_count": 30,
   "id": "2221e1e1-34bd-435f-abc0-615f07746ce5",
   "metadata": {
    "tags": []
   },
   "outputs": [
    {
     "name": "stdout",
     "output_type": "stream",
     "text": [
      "Entre dans la fonction load_satellite_data\n",
      "download PLEIADES 974 2018 in /home/onyxia/work/detection-habitat-spontane/notebooks/../data/PLEIADES/2018/REUNION\n"
     ]
    },
    {
     "data": {
      "text/plain": [
       "'/home/onyxia/work/detection-habitat-spontane/notebooks/../data/PLEIADES/2018/REUNION'"
      ]
     },
     "execution_count": 30,
     "metadata": {},
     "output_type": "execute_result"
    }
   ],
   "source": [
    "load_satellite_data(2018, \"974\", \"PLEIADES\")"
   ]
  },
  {
   "cell_type": "code",
   "execution_count": 62,
   "id": "d6c5fee3-dabf-4790-b93f-324008d8aed2",
   "metadata": {
    "tags": []
   },
   "outputs": [],
   "source": [
    "def create_doss_cloud(year, dep):\n",
    "    file_path = '../data/PLEIADES/' + year + \"/\" + dep\n",
    "    output_masks_path = '../nuagespleiades/PLEIADES/' + year + \"/\" + dep\n",
    "\n",
    "    if os.path.exists(output_masks_path):\n",
    "        print(\"fichiers déjà écrits\")\n",
    "    \n",
    "    if not os.path.exists(output_masks_path):\n",
    "        os.makedirs(output_masks_path)\n",
    "    \n",
    "    \n",
    "    list_name = os.listdir(file_path)\n",
    "    list_path = [file_path + \"/\" + name for name in list_name]\n",
    "    \n",
    "    \n",
    "    for path, file_name in tqdm(zip(list_path, list_name), total=len(list_path), desc='Processing'):\n",
    "        try:\n",
    "            big_satellite_image = SatelliteImage.from_raster(\n",
    "                file_path=path, dep=None, date=None, n_bands=3\n",
    "            )\n",
    "            \n",
    "        except RasterioIOError:\n",
    "            continue\n",
    "    \n",
    "        else:\n",
    "            boolean = has_cloud(big_satellite_image)\n",
    "    \n",
    "            if boolean:\n",
    "                mask_full = mask_full_cloud(big_satellite_image)\n",
    "                file_name = file_name.split(\".\")[0]\n",
    "                np.save(output_masks_path + \"/\" + file_name + \".npy\", mask_full)\n",
    "\n",
    "    return(output_masks_path)"
   ]
  },
  {
   "cell_type": "code",
   "execution_count": 63,
   "id": "cae4cd46-e475-4d0c-90b1-d62d02c3f7a2",
   "metadata": {},
   "outputs": [
    {
     "name": "stderr",
     "output_type": "stream",
     "text": [
      "Processing: 100%|██████████| 240/240 [04:10<00:00,  1.04s/it]\n"
     ]
    }
   ],
   "source": [
    "output_directory_name = create_doss_cloud(\"2022\", \"GUYANE\")"
   ]
  },
  {
   "cell_type": "code",
   "execution_count": 64,
   "id": "4ac984a3-d625-43b1-a699-7571fff894c2",
   "metadata": {
    "tags": []
   },
   "outputs": [
    {
     "data": {
      "text/plain": [
       "90"
      ]
     },
     "execution_count": 64,
     "metadata": {},
     "output_type": "execute_result"
    }
   ],
   "source": [
    "list_nuages = os.listdir(output_directory_name)\n",
    "len(list_nuages)"
   ]
  },
  {
   "cell_type": "code",
   "execution_count": 73,
   "id": "227b5154-d70d-4743-85de-abfa6dd8a856",
   "metadata": {},
   "outputs": [],
   "source": [
    "from train_pipeline_utils.download_data import *"
   ]
  },
  {
   "cell_type": "code",
   "execution_count": 74,
   "id": "6e333ee4-5393-4428-ac3d-e6654f08e472",
   "metadata": {},
   "outputs": [
    {
     "data": {
      "text/plain": [
       "'/home/onyxia/work/detection-habitat-spontane/notebooks/../donnees-test/segmentation'"
      ]
     },
     "execution_count": 74,
     "metadata": {},
     "output_type": "execute_result"
    }
   ],
   "source": [
    "load_donnees_test(type=\"segmentation\")"
   ]
  },
  {
   "cell_type": "markdown",
   "id": "730e38fb-d5cd-43db-995d-3136f6d70283",
   "metadata": {
    "tags": []
   },
   "source": [
    "export MC_HOST_s3=https://8RXDFZKNQUVILN4E7WQY:AvnwPASHzev2yebxkVDOmZBwsZAiNL26zB9WPyxH:eyJhbGciOiJIUzUxMiIsInR5cCI6IkpXVCJ9.eyJhY2Nlc3NLZXkiOiI4UlhERlpLTlFVVklMTjRFN1dRWSIsImFsbG93ZWQtb3JpZ2lucyI6WyIqIl0sImF1ZCI6WyJtaW5pby1kYXRhbm9kZSIsIm9ueXhpYSIsImFjY291bnQiXSwiYXV0aF90aW1lIjoxNjg2NTUzOTY5LCJhenAiOiJvbnl4aWEiLCJlbWFpbCI6InJheWEuYmVyb3ZhQGVsZXZlLmVuc2FpLmZyIiwiZW1haWxfdmVyaWZpZWQiOnRydWUsImV4cCI6MTY4NjY2MTM4NiwiZmFtaWx5X25hbWUiOiJCRVJPVkEiLCJnaXZlbl9uYW1lIjoiUmF5YSIsImdyb3VwcyI6WyJmdW5hdGhvbiIsInNsdW1zLWRldGVjdGlvbiJdLCJpYXQiOjE2ODY1NTQxODEsImlzcyI6Imh0dHBzOi8vYXV0aC5sYWIuc3NwY2xvdWQuZnIvYXV0aC9yZWFsbXMvc3NwY2xvdWQiLCJqdGkiOiIzMzkyNmEwZC1mMjg2LTQ3MzMtODk2OC1hMzljOTFhY2Q1MzUiLCJsb2NhbGUiOiJlbiIsIm5hbWUiOiJSYXlhIEJFUk9WQSIsIm5vbmNlIjoiZDU1NjAxMzctNTVjYy00Y2I3LTk0MDAtOTNlMDFjNWJhNzY2IiwicG9saWN5Ijoic3Rzb25seSIsInByZWZlcnJlZF91c2VybmFtZSI6ImlkMTc1MyIsInJlYWxtX2FjY2VzcyI6eyJyb2xlcyI6WyJvZmZsaW5lX2FjY2VzcyIsInVtYV9hdXRob3JpemF0aW9uIiwiZGVmYXVsdC1yb2xlcy1zc3BjbG91ZCJdfSwicmVzb3VyY2VfYWNjZXNzIjp7ImFjY291bnQiOnsicm9sZXMiOlsibWFuYWdlLWFjY291bnQiLCJtYW5hZ2UtYWNjb3VudC1saW5rcyIsInZpZXctcHJvZmlsZSJdfX0sInNjb3BlIjoib3BlbmlkIHByb2ZpbGUgZ3JvdXBzIGVtYWlsIiwic2Vzc2lvblBvbGljeSI6ImV5SldaWEp6YVc5dUlqb2lNakF4TWkweE1DMHhOeUlzSWxOMFlYUmxiV1Z1ZENJNlczc2lSV1ptWldOMElqb2lRV3hzYjNjaUxDSkJZM1JwYjI0aU9sc2ljek02S2lKZExDSlNaWE52ZFhKalpTSTZXeUpoY200NllYZHpPbk16T2pvNmNISnZhbVYwTFhOc2RXMXpMV1JsZEdWamRHbHZiaUlzSW1GeWJqcGhkM002Y3pNNk9qcHdjbTlxWlhRdGMyeDFiWE10WkdWMFpXTjBhVzl1THlvaVhYMHNleUpGWm1abFkzUWlPaUpCYkd4dmR5SXNJa0ZqZEdsdmJpSTZXeUp6TXpwTWFYTjBRblZqYTJWMElsMHNJbEpsYzI5MWNtTmxJanBiSW1GeWJqcGhkM002Y3pNNk9qb3FJbDBzSWtOdmJtUnBkR2x2YmlJNmV5SlRkSEpwYm1kTWFXdGxJanA3SW5Nek9uQnlaV1pwZUNJNkltUnBabVoxYzJsdmJpOHFJbjE5ZlN4N0lrVm1abVZqZENJNklrRnNiRzkzSWl3aVFXTjBhVzl1SWpwYkluTXpPa2RsZEU5aWFtVmpkQ0pkTENKU1pYTnZkWEpqWlNJNld5SmhjbTQ2WVhkek9uTXpPam82S2k5a2FXWm1kWE5wYjI0dktpSmRmVjE5Iiwic2Vzc2lvbl9zdGF0ZSI6ImRhOTVhMzdjLTljYTEtNGI4OS04ODdjLWI3YzYwNjhhNjE0YyIsInNpZCI6ImRhOTVhMzdjLTljYTEtNGI4OS04ODdjLWI3YzYwNjhhNjE0YyIsInN1YiI6ImRiNWM5MTg3LWUwNjItNDIyMy04N2UwLTk2YTc5ODYzMDZlOSIsInR5cCI6IkJlYXJlciJ9.HXiJ-VKBFzI5rH8-5bRbCqVgt4bbdiD6w7VbLxtUT4Iw4RB1QDQDSIUj5TqVTxy19bL3eF54sap9HSySVZFNLQ@minio.lab.sspcloud.fr"
   ]
  },
  {
   "cell_type": "markdown",
   "id": "12197952-9d12-4bf8-b9a4-4eb67e88398f",
   "metadata": {
    "tags": []
   },
   "source": [
    "!mc cp --recursive nuagespleiades/PLEIADES/2022/GUYANE s3/projet-slums-detection/Donnees/NUAGESPLEIADES/2022/GUYANE/"
   ]
  },
  {
   "cell_type": "code",
   "execution_count": 114,
   "id": "7d4bd72f-7928-4e93-98ba-4b6a453974b0",
   "metadata": {
    "tags": []
   },
   "outputs": [],
   "source": [
    "import gc\n",
    "import os\n",
    "import sys\n",
    "from datetime import datetime\n",
    "from tqdm import tqdm\n",
    "import mlflow\n",
    "import numpy as np\n",
    "import pytorch_lightning as pl\n",
    "import torch\n",
    "import yaml\n",
    "from pytorch_lightning.callbacks import (\n",
    "    EarlyStopping,\n",
    "    LearningRateMonitor,\n",
    "    ModelCheckpoint,\n",
    ")\n",
    "from torch.utils.data import DataLoader\n",
    "from yaml.loader import SafeLoader\n",
    "\n",
    "from classes.data.satellite_image import SatelliteImage\n",
    "from classes.labelers.labeler import BDTOPOLabeler, RILLabeler\n",
    "from classes.optim.losses import CrossEntropySelfmade\n",
    "from torch.nn import CrossEntropyLoss\n",
    "from classes.optim.optimizer import generate_optimization_elements\n",
    "from data.components.dataset import PleiadeDataset\n",
    "from models.components.segmentation_models import DeepLabv3Module\n",
    "from models.segmentation_module import SegmentationModule\n",
    "from train_pipeline_utils.download_data import load_satellite_data, load_donnees_test\n",
    "from train_pipeline_utils.handle_dataset import (\n",
    "    generate_transform,\n",
    "    select_indices_to_split_dataset\n",
    ")\n",
    "\n",
    "from train_pipeline_utils.prepare_data import(\n",
    "    filter_images,\n",
    "    label_images,\n",
    "    save_images_and_masks,\n",
    "    check_labelled_images\n",
    ")\n",
    "\n",
    "from classes.data.satellite_image import SatelliteImage\n",
    "from classes.data.labeled_satellite_image import SegmentationLabeledSatelliteImage\n",
    "from utils.utils import update_storage_access, split_array, remove_dot_file\n",
    "from rasterio.errors import RasterioIOError\n",
    "from classes.optim.evaluation_model import evaluer_modele_sur_jeu_de_test_segmentation_pleiade\n",
    "from run_training_pipeline import *"
   ]
  },
  {
   "cell_type": "code",
   "execution_count": null,
   "id": "ee9745a9-1d36-4244-a7a1-5403ca6b3f2e",
   "metadata": {
    "tags": []
   },
   "outputs": [
    {
     "name": "stdout",
     "output_type": "stream",
     "text": [
      "Entre dans la fonction download_data\n",
      "Entre dans la fonction load_satellite_data\n",
      "download NUAGESPLEIADES 972 2022 in /home/onyxia/work/detection-habitat-spontane/data/NUAGESPLEIADES/2022/MARTINIQUE\n",
      "Entre dans la fonction load_satellite_data\n",
      "download PLEIADES 972 2022 in /home/onyxia/work/detection-habitat-spontane/data/PLEIADES/2022/MARTINIQUE\n",
      "chargement des données test\n",
      "Entre dans la fonction prepare_data\n",
      "Entre dans la fonction check_labelled_images\n",
      "The directory doesn't exist and is going to be created.\n",
      "Directory created\n"
     ]
    },
    {
     "name": "stderr",
     "output_type": "stream",
     "text": [
      "  3%|▎         | 37/1426 [01:29<1:05:02,  2.81s/it]"
     ]
    }
   ],
   "source": [
    "# Open the file and load the file\n",
    "with open(\"../config.yml\") as f:\n",
    "    config = yaml.load(f, Loader=SafeLoader)\n",
    "\n",
    "list_data_dir, list_masks_cloud_dir, test_dir = download_data(config)\n",
    "\n",
    "# list_data_dir = [\"../data/PLEIADES/2022/MARTINIQUE\"]\n",
    "# list_masks_cloud_dir = [\"../data/NUAGESPLEIADES/2022/MARTINIQUE\"]\n",
    "\n",
    "list_output_dir = prepare_train_data(config, list_data_dir, list_masks_cloud_dir)\n",
    "prepare_test_data(config, test_dir)\n",
    "\n",
    "model = instantiate_model(config)\n",
    "\n",
    "train_dl, valid_dl, test_dl = instantiate_dataloader(\n",
    "    config, list_output_dir\n",
    ")"
   ]
  }
 ],
 "metadata": {
  "kernelspec": {
   "display_name": "Python 3 (ipykernel)",
   "language": "python",
   "name": "python3"
  },
  "language_info": {
   "codemirror_mode": {
    "name": "ipython",
    "version": 3
   },
   "file_extension": ".py",
   "mimetype": "text/x-python",
   "name": "python",
   "nbconvert_exporter": "python",
   "pygments_lexer": "ipython3",
   "version": "3.10.9"
  }
 },
 "nbformat": 4,
 "nbformat_minor": 5
}
