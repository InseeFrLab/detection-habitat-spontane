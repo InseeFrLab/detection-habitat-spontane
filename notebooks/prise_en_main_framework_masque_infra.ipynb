{
 "cells": [
  {
   "cell_type": "markdown",
   "id": "b62f9e56-41a5-4002-a43a-161cf06505d6",
   "metadata": {},
   "source": [
    "# But prise en main des objets créés par mes collègues et lancement d'un entrapînement à partir de la BDTOPO ou du RIL en tant que LAbel ??"
   ]
  },
  {
   "cell_type": "code",
   "execution_count": 1,
   "id": "1ad0ef02-9909-434a-bc16-43223aa9c4f0",
   "metadata": {
    "tags": []
   },
   "outputs": [],
   "source": [
    "%load_ext autoreload\n",
    "%autoreload 2"
   ]
  },
  {
   "cell_type": "code",
   "execution_count": 2,
   "id": "4cdf11d8-097b-45f6-827c-c19870bf6ac7",
   "metadata": {
    "tags": []
   },
   "outputs": [],
   "source": [
    "! pip install rasterio  -q -q -q\n",
    "! pip install geopandas -q -q -q\n",
    "! pip install matplotlib -q -q -q\n"
   ]
  },
  {
   "cell_type": "code",
   "execution_count": 3,
   "id": "ae10034a-ae84-45fa-85e0-6f7162565213",
   "metadata": {
    "tags": []
   },
   "outputs": [],
   "source": [
    "!pip install pyarrow"
   ]
  },
  {
   "cell_type": "code",
   "execution_count": 4,
   "id": "8b883b40-0a18-4513-883d-16fc1aa79175",
   "metadata": {
    "tags": []
   },
   "outputs": [],
   "source": [
    "!pip install opencv-python"
   ]
  },
  {
   "cell_type": "code",
   "execution_count": 5,
   "id": "1036e2bb-2c0a-4c53-a6a5-e19e45ee6206",
   "metadata": {
    "tags": []
   },
   "outputs": [],
   "source": [
    "import sys\n",
    "sys.path.append('../src')\n",
    "from satellite_image import SatelliteImage\n",
    "from utils import *"
   ]
  },
  {
   "cell_type": "code",
   "execution_count": 6,
   "id": "d88861cf-4cdb-4474-911a-e154b0b24f1d",
   "metadata": {
    "tags": []
   },
   "outputs": [],
   "source": [
    "import yaml\n",
    "import re\n",
    "import s3fs\n",
    "import numpy as np\n",
    "import matplotlib.pyplot as plt\n",
    "import cv2\n",
    "from PIL import Image as im"
   ]
  },
  {
   "cell_type": "code",
   "execution_count": 7,
   "id": "17822485-1f07-4029-b3a9-7f235be6f917",
   "metadata": {
    "tags": []
   },
   "outputs": [],
   "source": [
    "update_storage_access()"
   ]
  },
  {
   "cell_type": "code",
   "execution_count": 8,
   "id": "ac393a68-3256-429a-8170-e5eada609955",
   "metadata": {
    "tags": []
   },
   "outputs": [],
   "source": [
    "environment = get_environment()\n",
    "\n",
    "root_path = get_root_path()\n",
    "bucket = environment[\"bucket\"]\n",
    "path_s3_cayenne_data = environment[\"sources\"][\"PLEIADES\"]\n",
    "path_local_cayenne_data = os.path.join(root_path, environment[\"local-path\"][\"PLEIADES\"])\n",
    "bucket = environment[\"bucket\"]\n",
    "\n",
    "path_s3_pleiades_data = environment[\"sources\"][\"PLEIADES\"]\n",
    "path_s3_bdtopo_data = environment[\"sources\"][\"BDTOPO\"][2022][\"guyane\"]\n",
    "path_local_pleiades_data = environment[\"local-path\"][\"PLEIADES\"]\n",
    "path_local_bdtopo_data = environment[\"local-path\"][\"BDTOPO\"][2022][\"guyane\"]\n",
    "\n",
    "\n",
    "fs = s3fs.S3FileSystem(client_kwargs={\"endpoint_url\": \"https://minio.lab.sspcloud.fr\"})"
   ]
  },
  {
   "cell_type": "code",
   "execution_count": 9,
   "id": "e4e026e3-1170-4316-8747-9216053957a5",
   "metadata": {
    "tags": []
   },
   "outputs": [],
   "source": [
    "# DL PLEIADE\n",
    "fs.download(\n",
    "        rpath=f\"{bucket}/{path_s3_pleiades_data}\",\n",
    "        lpath=f\"../{path_local_pleiades_data}\",\n",
    "        recursive=True)"
   ]
  },
  {
   "cell_type": "code",
   "execution_count": 10,
   "id": "bb31a12f-5fbd-4e08-9f37-fb195fb13804",
   "metadata": {
    "tags": []
   },
   "outputs": [],
   "source": [
    "# DL BDTOPO\n",
    "fs.download(\n",
    "        rpath=f\"{bucket}/{path_s3_bdtopo_data}\",\n",
    "        lpath=f\"../{path_local_bdtopo_data}\",\n",
    "        recursive=True)"
   ]
  },
  {
   "cell_type": "markdown",
   "id": "39f40d68-8ced-4f3d-bb47-accf9e676935",
   "metadata": {
    "tags": []
   },
   "source": [
    "## Chargement données pleiades"
   ]
  },
  {
   "cell_type": "code",
   "execution_count": 11,
   "id": "202d9fac-63de-4a95-ac3a-6609f1fcbfd3",
   "metadata": {
    "tags": []
   },
   "outputs": [],
   "source": [
    "filename = '../data/PLEIADES/Cayenne/16bits/ORT_2022072050325085_U22N/ORT_2022072050325085_0353_0545_U22N_16Bits.jp2'\n",
    "date = datetime.strptime(re.search(r'ORT_(\\d{8})', filename).group(1), '%Y%m%d')\n",
    "date"
   ]
  },
  {
   "cell_type": "code",
   "execution_count": 12,
   "id": "52f33366-c3e3-48b5-8332-a9e641595a2d",
   "metadata": {
    "tags": []
   },
   "outputs": [],
   "source": [
    "image = SatelliteImage.from_raster(\n",
    "        filename,\n",
    "        date = date, \n",
    "        n_bands = 4,\n",
    "        dep = \"973\"\n",
    "    )\n",
    "image.normalize()"
   ]
  },
  {
   "cell_type": "code",
   "execution_count": 13,
   "id": "5e108280-c291-4b26-8f09-80666e69816c",
   "metadata": {
    "tags": []
   },
   "outputs": [],
   "source": [
    "list_images = image.split(250)\n",
    "list_images[0].array\n",
    "len(list_images)"
   ]
  },
  {
   "cell_type": "code",
   "execution_count": 303,
   "id": "4b1ab422-acb0-48ef-8584-071f5ff5f4c6",
   "metadata": {
    "tags": []
   },
   "outputs": [],
   "source": [
    "image.plot([0,1,2])\n",
    "image.plot([3,1,2])"
   ]
  },
  {
   "cell_type": "markdown",
   "id": "b16c5334-542e-4292-994e-522573b1d4fd",
   "metadata": {},
   "source": [
    "# essayons de créer un masque avec les ondes infrarouges pour l'image \n",
    "# un masque binaire avec en blanc les bâtiments"
   ]
  },
  {
   "cell_type": "code",
   "execution_count": 14,
   "id": "5ba2d65d-00a8-406f-9f44-88f7e0c0fe60",
   "metadata": {
    "tags": []
   },
   "outputs": [],
   "source": [
    "#On veut avoir l'image avec la bande infrarouge en format png pour pouvoir utiliser le package OpenCV\n",
    "\n",
    "#On va d'abord récuperer l'array avec la bande infrarouge \n",
    "#faire un array sans la couleur rouge pour l'image en 51e position de la liste d'images\n",
    "if not image.normalized:\n",
    "    image.normalize() \n",
    "img = image.array\n",
    "\n",
    "#avoir la bande infrarouge\n",
    "img = img[[3,1,2],:, :]\n",
    "\n",
    "#multiplication par 255 et convertion en uint8 pour avoir le bon format\n",
    "img = (img * 255).astype(np.uint8)\n",
    "\n",
    "#convertir l'array en image PIL pour ensuite l'avoir en png\n",
    "img = im.fromarray(img.transpose(1, 2, 0).astype('uint8'), 'RGB')\n",
    "\n",
    "#enregistrer l'image en tant que fichier PNG pour pouvoir utiliser OpenCV\n",
    "img.save('im50.png')"
   ]
  },
  {
   "cell_type": "code",
   "execution_count": 15,
   "id": "abf53dec-f9f4-4ea4-8777-0c8036921c08",
   "metadata": {
    "tags": []
   },
   "outputs": [],
   "source": [
    "#fonctions d'affichage des images avec OpenCV (la fonction de base cv2.imshow() fait crasher le kernel)\n",
    "\n",
    "#nuances de gris\n",
    "def cv2_imshow(a, **kwargs):\n",
    "    a = a.clip(0, 255).astype('uint8')\n",
    "    if a.ndim == 3:\n",
    "        if a.shape[2] == 4:\n",
    "            a = cv2.cvtColor(a, cv2.COLOR_RGBA2BGRA)\n",
    "        else:\n",
    "            a = cv2.cvtColor(a, cv2.COLOR_RGB2BGR)\n",
    "\n",
    "    return plt.imshow(a, **kwargs, cmap= \"gray\")\n",
    "\n",
    "#couleurs\n",
    "def cv2_imshow2(a, **kwargs):\n",
    "    a = a.clip(0, 255).astype('uint8')\n",
    "    if a.ndim == 3:\n",
    "        if a.shape[2] == 4:\n",
    "            a = cv2.cvtColor(a, cv2.COLOR_RGBA2BGRA)\n",
    "        else:\n",
    "            a = cv2.cvtColor(a, cv2.COLOR_RGB2BGR)\n",
    "\n",
    "    return plt.imshow(a, **kwargs, cmap= \"brg\")\n"
   ]
  },
  {
   "cell_type": "code",
   "execution_count": 32,
   "id": "fee0a201-1220-4400-b897-024872b29cef",
   "metadata": {
    "tags": []
   },
   "outputs": [],
   "source": [
    "#on lit l'image avec le package OpenCV et on l'affiche\n",
    "img = cv2.imread('im50.png', cv2.IMREAD_COLOR)"
   ]
  },
  {
   "cell_type": "code",
   "execution_count": 17,
   "id": "a6dc82eb-90b5-49a1-91c7-89884ae28d3a",
   "metadata": {
    "tags": []
   },
   "outputs": [],
   "source": [
    "cv2_imshow2(img)"
   ]
  },
  {
   "cell_type": "code",
   "execution_count": 33,
   "id": "71e87a66-0332-4a3f-8680-cbe295ba02d5",
   "metadata": {
    "tags": []
   },
   "outputs": [],
   "source": [
    "# Parcourir tous les pixels de l'image\n",
    "for row in range(img.shape[0]):\n",
    "    for col in range(img.shape[1]):\n",
    "        # Idée globale : si le pixel est rouge, le changer en noir, le reste en blanc\n",
    "        \n",
    "        mini = min(img[row, col, 0],img[row, col, 1])\n",
    "        if -20 <= (img[row, col, 0] - img[row, col, 1]) <= 20 : #pour que le pixel soit une nuance de rouge, il faut d'abord vérifier si les valeurs verte et bleue sont proches\n",
    "            if img[row, col, 2] > 230 and mini >= 140 : #pour les nuances de rouge tres claires, on remarque que ce sont des toits donc des bâtiments\n",
    "                img[row, col] = [255, 255, 255] # blanc\n",
    "            elif  (img[row, col, 2] - mini)>= 20 and img[row, col, 2] >= 110: #on fixe le seuil de la valeur rouge à 120 et la valeur de rouge avec une autre couleur doit être supérieure à 20 minimum\n",
    "                img[row, col] = [0, 0, 0] # noir\n",
    "            else :\n",
    "                img[row, col] = [255, 255, 255] # blanc\n",
    "\n",
    "        else :\n",
    "            img[row, col] = [255, 255, 255] # blanc"
   ]
  },
  {
   "cell_type": "code",
   "execution_count": 34,
   "id": "058a5370-b57b-4f2a-93ab-c91076c5a16c",
   "metadata": {
    "tags": []
   },
   "outputs": [],
   "source": [
    "cv2_imshow2(img)"
   ]
  },
  {
   "cell_type": "code",
   "execution_count": 332,
   "id": "86f83476-5b8c-4b54-91cf-bb0a4bbf24db",
   "metadata": {
    "tags": []
   },
   "outputs": [],
   "source": [
    "#on la convertit en nuances de gris\n",
    "gray = cv2.cvtColor(img, cv2.COLOR_RGB2GRAY)\n",
    "cv2_imshow(gray)"
   ]
  },
  {
   "cell_type": "code",
   "execution_count": 306,
   "id": "56d9eb1e-4840-491e-b361-351642b219bb",
   "metadata": {
    "tags": []
   },
   "outputs": [],
   "source": [
    "cv2_imshow2(img)"
   ]
  },
  {
   "cell_type": "code",
   "execution_count": 276,
   "id": "503fd8d1-5d69-48e0-b254-311b1877408b",
   "metadata": {
    "tags": []
   },
   "outputs": [],
   "source": [
    "# Converting image to a binary image \n",
    "# (black and white only image).\n",
    "_,threshold = cv2.threshold(gray, 110, 255, \n",
    "                            cv2.THRESH_BINARY)"
   ]
  },
  {
   "cell_type": "code",
   "execution_count": 277,
   "id": "b00e4abd-eee4-4daf-9009-3b090a6f2868",
   "metadata": {
    "tags": []
   },
   "outputs": [],
   "source": [
    "cv2_imshow(gray)"
   ]
  },
  {
   "cell_type": "code",
   "execution_count": 278,
   "id": "3bf6054c-cb1b-4639-9fe7-64ae92d9185f",
   "metadata": {
    "tags": []
   },
   "outputs": [],
   "source": [
    "#trouver les contours\n",
    "contours, hierarchy = cv2.findContours(gray, cv2.RETR_EXTERNAL, cv2.CHAIN_APPROX_SIMPLE)"
   ]
  },
  {
   "cell_type": "code",
   "execution_count": 294,
   "id": "a98f2c84-9f3f-4cae-b130-5321befba1e2",
   "metadata": {
    "tags": []
   },
   "outputs": [],
   "source": [
    "areas = []\n",
    "for cnt in contours :\n",
    "    areas.append(cv2.contourArea(cnt))"
   ]
  },
  {
   "cell_type": "code",
   "execution_count": 285,
   "id": "c374ab0a-e76b-4876-9802-6fdc0609435c",
   "metadata": {
    "tags": []
   },
   "outputs": [],
   "source": [
    "img = cv2.imread('im50.png', cv2.IMREAD_COLOR)\n",
    "hsv = cv2.cvtColor(img, cv2.COLOR_BGR2HSV)\n",
    "h,s,v= cv2.split(hsv)\n",
    "ret_h, th_h = cv2.threshold(h,0,255,cv2.THRESH_BINARY+cv2.THRESH_OTSU)\n",
    "ret_s, th_s = cv2.threshold(s,0,255,cv2.THRESH_BINARY+cv2.THRESH_OTSU)\n",
    "ret_v, th_v = cv2.threshold(s,0,255,cv2.THRESH_BINARY+cv2.THRESH_OTSU)\n",
    "cv2.imwrite(\"th_h.png\",th_h)\n",
    "cv2.imwrite(\"th_s.png\",th_s)\n",
    "cv2.imwrite(\"th_v.png\",th_v)\n",
    "\n",
    "\n"
   ]
  },
  {
   "cell_type": "code",
   "execution_count": 298,
   "id": "d60e46b0-a05e-4d02-b69a-62897d19964b",
   "metadata": {
    "tags": []
   },
   "outputs": [],
   "source": [
    "cv2_imshow(hsv)"
   ]
  },
  {
   "cell_type": "code",
   "execution_count": 299,
   "id": "b788e4b0-73cd-41ec-b153-78bd860ace91",
   "metadata": {
    "tags": []
   },
   "outputs": [],
   "source": [
    "_,threshold = cv2.threshold(hsv, 110, 255, \n",
    "                            cv2.THRESH_BINARY)"
   ]
  },
  {
   "cell_type": "code",
   "execution_count": 300,
   "id": "f2c7fa09-5929-4e80-947c-f5d51c1a894a",
   "metadata": {
    "tags": []
   },
   "outputs": [],
   "source": [
    "#trouver les contours\n",
    "contours, hierarchy = cv2.findContours(hsv, cv2.RETR_EXTERNAL, cv2.CHAIN_APPROX_SIMPLE)"
   ]
  },
  {
   "cell_type": "code",
   "execution_count": 293,
   "id": "dead90dd-d239-4994-9f8b-acc7c3f0e0dc",
   "metadata": {
    "tags": []
   },
   "outputs": [],
   "source": [
    "print(contours)"
   ]
  },
  {
   "cell_type": "code",
   "execution_count": 295,
   "id": "76b29a0f-b5d9-4bfb-890b-cc5ec0c497a5",
   "metadata": {
    "tags": []
   },
   "outputs": [],
   "source": [
    "print(areas)"
   ]
  },
  {
   "cell_type": "code",
   "execution_count": 279,
   "id": "cc2a36b8-84c3-458d-8c35-6bcc70948369",
   "metadata": {
    "tags": []
   },
   "outputs": [],
   "source": [
    "for cnt in contours :\n",
    "    area = cv2.contourArea(cnt)\n",
    "   \n",
    "    # Shortlisting the regions based on there area.\n",
    "    if area > 100: \n",
    "        approx = cv2.approxPolyDP(cnt, \n",
    "                                  0.009 * cv2.arcLength(cnt, True), True)\n",
    "   \n",
    "        # Checking if the no. of sides of the selected region is 7.\n",
    "        if(len(approx) == 7): \n",
    "            cv2.drawContours(gray, [approx], 0, (0, 0, 255), 5)\n",
    "            \n",
    "#montrer l'image avec les polygones\n",
    "cv2_imshow(gray)"
   ]
  },
  {
   "cell_type": "code",
   "execution_count": 273,
   "id": "8322069d-9f5c-48c4-b222-d29cb0fad90a",
   "metadata": {
    "tags": []
   },
   "outputs": [],
   "source": [
    "#filtrer les contours\n",
    "for cnt in contours :\n",
    "    area = cv2.contourArea(cnt)\n",
    "   \n",
    "    # Shortlisting the regions based on there area.\n",
    "    if area > 20: \n",
    "        approx = cv2.approxPolyDP(cnt, \n",
    "                                  0.009 * cv2.arcLength(cnt, True), True)\n",
    "   \n",
    "        # Checking if the no. of sides of the selected region is 7.\n",
    "        if(len(approx) == 7): \n",
    "            cv2.drawContours(gray, [approx], 0, (0, 255, 0), 5)\n",
    "\n",
    "#montrer l'image avec les polygones\n",
    "cv2_imshow(gray)"
   ]
  },
  {
   "cell_type": "markdown",
   "id": "8ea209d4-4c1b-43c1-8943-90f944f966bb",
   "metadata": {},
   "source": [
    "## Représenter la liste des images sous forme de grille (ajouter une fonction)"
   ]
  },
  {
   "cell_type": "code",
   "execution_count": null,
   "id": "725ff1f3-4351-42c4-affe-8d6a3b713ee2",
   "metadata": {
    "tags": []
   },
   "outputs": [],
   "source": [
    "SatelliteImage.plot_list_satellite_images(list_images,bands_indices = [3,1,2])"
   ]
  },
  {
   "cell_type": "code",
   "execution_count": null,
   "id": "3cc6bef3-d5fe-4902-a690-b1a732c3a6a6",
   "metadata": {
    "tags": []
   },
   "outputs": [],
   "source": [
    "64*256 # nb de patchs utilisables pour entrainer un modèle, why not ?"
   ]
  },
  {
   "cell_type": "code",
   "execution_count": null,
   "id": "edf8fd05-cc00-46b8-b989-c12c2a58b0dd",
   "metadata": {
    "tags": []
   },
   "outputs": [],
   "source": [
    "#image.plot([0,1,2])\n",
    "image.normalized "
   ]
  },
  {
   "cell_type": "markdown",
   "id": "73341327-bee3-41a4-a256-50a6453758b5",
   "metadata": {},
   "source": [
    "## Récupération des labellisations"
   ]
  },
  {
   "cell_type": "code",
   "execution_count": null,
   "id": "eb802823-fdc2-484d-9aba-65c98dc5d61a",
   "metadata": {
    "tags": []
   },
   "outputs": [],
   "source": [
    "from labeler import RILLabeler"
   ]
  },
  {
   "cell_type": "markdown",
   "id": "159d55e2-1a36-445a-acfa-c6cbddab67dd",
   "metadata": {
    "tags": []
   },
   "source": [
    "Définition d'une instance de labeller (on donneune datez et un département et on va chercher les labels associés RIL à côté)"
   ]
  },
  {
   "cell_type": "code",
   "execution_count": null,
   "id": "57a3aa5d-08a2-4d72-bc3e-501ae8728366",
   "metadata": {
    "tags": []
   },
   "outputs": [],
   "source": [
    "labeler = RILLabeler(date, dep = \"973\", buffer_size= 20)"
   ]
  },
  {
   "cell_type": "markdown",
   "id": "38e6307e-dc63-4679-b9a6-be5e40d1cfe4",
   "metadata": {},
   "source": [
    "Le labeller est chargé une bonne fois pour toute donc pas de problème"
   ]
  },
  {
   "cell_type": "code",
   "execution_count": null,
   "id": "6a331c3f-8c08-4359-8115-196feb29893b",
   "metadata": {
    "tags": []
   },
   "outputs": [],
   "source": [
    "mask = labeler.create_segmentation_label(image) # va chercher les données et rasterise les bounding box"
   ]
  },
  {
   "cell_type": "code",
   "execution_count": null,
   "id": "90ff4bf7-35ce-42e6-a4ed-c41bf4645b8d",
   "metadata": {
    "tags": []
   },
   "outputs": [],
   "source": [
    "image.normalize\n",
    "fig, ax = plt.subplots(figsize=(5, 5))\n",
    "ax.imshow(np.transpose(image.array_to_plot, (1, 2, 0))[:,:,:3])\n",
    "ax.imshow(mask, alpha=0.3) # magnifique ! Faire une fonction  de représentation  ? # faire du découpage ? ou une fonction de sélection aléatoire d'une tuile ?"
   ]
  },
  {
   "cell_type": "markdown",
   "id": "7755dab5-9bbf-4f4e-bd1e-d51881fa9d4b",
   "metadata": {},
   "source": [
    "# Plus qu'à faire la même chose sur le mont baduel :)"
   ]
  },
  {
   "cell_type": "code",
   "execution_count": null,
   "id": "5cea8a0d-ca89-44c6-ad6f-63adf8418869",
   "metadata": {
    "tags": []
   },
   "outputs": [],
   "source": [
    "filename = '../data/PLEIADES/Cayenne/16bits/ORT_2022072050325085_U22N/ORT_2022072050325085_0354_0545_U22N_16Bits.jp2'\n",
    "date = datetime.strptime(re.search(r'ORT_(\\d{8})', filename).group(1), '%Y%m%d')\n",
    "date\n",
    "\n",
    "image = SatelliteImage.from_raster(\n",
    "        filename,\n",
    "        date = date, \n",
    "        n_bands = 4,\n",
    "        dep = \"973\"\n",
    "    )\n",
    "\n",
    "image.plot([3,1,2])"
   ]
  },
  {
   "cell_type": "code",
   "execution_count": null,
   "id": "ce1f0156-2863-4778-8088-7b3e3c7842fc",
   "metadata": {
    "tags": []
   },
   "outputs": [],
   "source": [
    "SatelliteImage.plot_list_satellite_images(image.split(250),[0,1,2])"
   ]
  },
  {
   "cell_type": "markdown",
   "id": "602d2979-3612-4e2b-a1b5-7a87f9138b39",
   "metadata": {},
   "source": [
    "## Plot liste satellite images"
   ]
  },
  {
   "cell_type": "markdown",
   "id": "70ccb1ec-8903-426e-b2c3-483a5495b36c",
   "metadata": {},
   "source": [
    "Ici je teste la fonction plot list satellite image maius sur l'ensmeble des images disponible sur Cayenne\n",
    "1) Je mets toutes les images dans une liste de satellite images\n",
    "2) je trace le quadrillage"
   ]
  },
  {
   "cell_type": "code",
   "execution_count": null,
   "id": "01d3e94e-594e-49d2-a635-3fc3bbc88efa",
   "metadata": {
    "tags": []
   },
   "outputs": [],
   "source": [
    "im_dir = \"../data/PLEIADES/Cayenne/16bits/ORT_2022072050325085_U22N/\"\n",
    "liste  = os.listdir(im_dir)\n",
    "list_path_image = np.array([im_dir+l for l in liste])\n",
    "\n",
    "\n",
    "liste_globale_image = [ SatelliteImage.from_raster(\n",
    "        filename,\n",
    "        date = date, \n",
    "        n_bands = 3,\n",
    "        dep = \"973\"\n",
    "    ) for filename in list_path_image]\n"
   ]
  },
  {
   "cell_type": "code",
   "execution_count": null,
   "id": "ce200647-c721-4276-a172-a13bb394a2a4",
   "metadata": {
    "tags": []
   },
   "outputs": [],
   "source": [
    "i = 0\n",
    "for im in liste_globale_image:\n",
    "    print(i)\n",
    "    i = i + 1\n",
    "    im.normalize()"
   ]
  },
  {
   "cell_type": "code",
   "execution_count": null,
   "id": "cf4380b6-5231-4e9d-80ca-e631db52a3d4",
   "metadata": {
    "tags": []
   },
   "outputs": [],
   "source": [
    "SatelliteImage.plot_list_satellite_images(liste_globale_image,[0,1,2])"
   ]
  },
  {
   "cell_type": "code",
   "execution_count": null,
   "id": "119c54bc-7010-4574-baa3-f1b2921fd977",
   "metadata": {
    "tags": []
   },
   "outputs": [],
   "source": [
    "del liste_globale_image"
   ]
  },
  {
   "cell_type": "markdown",
   "id": "c6b2082a-cee1-4d66-a60b-539646fc7d25",
   "metadata": {},
   "source": [
    "## Ril"
   ]
  },
  {
   "cell_type": "code",
   "execution_count": null,
   "id": "f2d8be57-dcb1-4e5d-93de-a8fb64752bf9",
   "metadata": {
    "tags": []
   },
   "outputs": [],
   "source": [
    "from labeler import RILLabeler\n",
    "labeler = RILLabeler(date, dep = \"973\", buffer_size= 20)\n",
    "mask = labeler.create_segmentation_label(image)\n",
    "image.normalize()\n",
    "fig, ax = plt.subplots(figsize=(5, 5))\n",
    "ax.imshow(np.transpose(image.array, (1, 2, 0))[:,:,:3])\n",
    "ax.imshow(mask, alpha=0.3) # magnifique ! Faire une fonction  de représentation  ? # faire du découpage ? ou une fonction de sélection aléatoire d'une tuile ?"
   ]
  },
  {
   "cell_type": "markdown",
   "id": "93ef6686-d44a-4671-8e01-8cc8552f96b5",
   "metadata": {},
   "source": [
    "## BD TOPO"
   ]
  },
  {
   "cell_type": "code",
   "execution_count": null,
   "id": "2646d6c6-34a0-4e34-8ca8-756f9d9acfae",
   "metadata": {
    "tags": []
   },
   "outputs": [],
   "source": [
    "from labeler import BDTOPOLabeler"
   ]
  },
  {
   "cell_type": "code",
   "execution_count": null,
   "id": "9777bc90-46bc-4fbb-8afb-338fb40997f1",
   "metadata": {
    "tags": []
   },
   "outputs": [],
   "source": [
    "labeler_bdtopo = BDTOPOLabeler(date, dep = \"973\") # charghement lenbt nécessite d'avoir downloader la BDTOPO avant. fluidifier ça ?"
   ]
  },
  {
   "cell_type": "code",
   "execution_count": null,
   "id": "650f6834-ae1d-40bf-9810-d79cbc341a6b",
   "metadata": {
    "tags": []
   },
   "outputs": [],
   "source": [
    "mask = labeler_bdtopo.create_segmentation_label(image)"
   ]
  },
  {
   "cell_type": "code",
   "execution_count": null,
   "id": "f23d3380-169d-4e85-9df8-320fdbc88377",
   "metadata": {
    "tags": []
   },
   "outputs": [],
   "source": [
    "if image.normalize == False:\n",
    "    image.normalize\n",
    "fig, ax = plt.subplots(figsize=(5, 5))\n",
    "ax.imshow(np.transpose(image.array, (1, 2, 0))[:,:,:3])\n",
    "ax.imshow(mask, alpha=0.3) # magnifique ! Faire une fonction  de représentation  ? # faire du découpage ? ou une fonction de sélection aléatoire d'une tuile ?"
   ]
  },
  {
   "cell_type": "markdown",
   "id": "0742a713-5859-4e9f-89eb-70b4cbc932ea",
   "metadata": {},
   "source": [
    "Le chargement lent milite pour repréparer le jeu de données en amont une fois qu'on est fixé sur la taille avant de créer les Dataset etc.."
   ]
  },
  {
   "cell_type": "markdown",
   "id": "05cd2a66-ae57-4669-bc88-249a0f67adf8",
   "metadata": {},
   "source": [
    "Le moint Baduel a bien été cartographié !"
   ]
  },
  {
   "cell_type": "markdown",
   "id": "34e5dfb6-50d9-41e2-9a13-3069f66cf64e",
   "metadata": {},
   "source": [
    "## Mélange images Labels !"
   ]
  },
  {
   "cell_type": "code",
   "execution_count": null,
   "id": "73c019ed-4368-4e93-9cd7-d35b6a0ea9a8",
   "metadata": {
    "tags": []
   },
   "outputs": [],
   "source": [
    "from labeled_satellite_image import SegmentationLabeledSatelliteImage"
   ]
  },
  {
   "cell_type": "markdown",
   "id": "6cb19495-b160-49f6-badf-83f73d828ae5",
   "metadata": {},
   "source": [
    "Ok ici on a des objets qui fonct cohabiter image et son label (image + segmentation mask (RIL ou BDTOPO))\n",
    "On pourra faire la même chose avec la detection ou l'optique patchs etc..(il nous faut des fonctions de représentation à chaque fois) \n",
    "\n",
    "- de superposition image et label\n",
    "- et de mise cote à cote\n",
    "- possibnilité de revenir à la géométrie à chaque fois\n"
   ]
  },
  {
   "cell_type": "code",
   "execution_count": null,
   "id": "e35c8da0-0e5c-45d2-9acd-703b9e97f1d7",
   "metadata": {
    "tags": []
   },
   "outputs": [],
   "source": [
    "#image.normalize()\n",
    "image_labellisee = SegmentationLabeledSatelliteImage(image,label = mask, labeling_date = date, source = \"BDTOPO\")\n"
   ]
  },
  {
   "cell_type": "code",
   "execution_count": null,
   "id": "483330df-3d2b-45e4-bad7-45c7dc4dde4d",
   "metadata": {
    "tags": []
   },
   "outputs": [],
   "source": [
    "# 1) plot image et masque superposés\n",
    "image_labellisee.plot([0,1,2])\n",
    "\n",
    "# 2) plot image et masque associés côte à côte\n",
    "image_labellisee.plot_label_next_to_image([0,1,2])\n"
   ]
  },
  {
   "cell_type": "markdown",
   "id": "d1233142-4dcf-4349-a708-b38315500b89",
   "metadata": {},
   "source": [
    "## fonction split"
   ]
  },
  {
   "cell_type": "code",
   "execution_count": null,
   "id": "6017ae1f-95c8-4db7-8fc1-bf550298325b",
   "metadata": {
    "tags": []
   },
   "outputs": [],
   "source": [
    "liste_image_labelisee = image_labellisee.split(250)\n",
    "len(liste_image_labelisee)"
   ]
  },
  {
   "cell_type": "markdown",
   "id": "219511e6-1cef-4b7d-b253-d03158f94452",
   "metadata": {},
   "source": [
    "## Plot liste image labellisée "
   ]
  },
  {
   "cell_type": "code",
   "execution_count": null,
   "id": "f57d286f-785a-4ba6-923a-c04413aad21a",
   "metadata": {
    "tags": []
   },
   "outputs": [],
   "source": [
    "SegmentationLabeledSatelliteImage.plot_list_segmentation_labeled_satellite_image(liste_image_labelisee,[0,1,2])"
   ]
  },
  {
   "cell_type": "markdown",
   "id": "7bf24147-a4d9-4959-aff5-f4c98e6a391b",
   "metadata": {},
   "source": [
    "## Plot les masques de détection"
   ]
  },
  {
   "cell_type": "markdown",
   "id": "955cbb09-a1ab-49dd-93bd-6bc720fa6c0d",
   "metadata": {},
   "source": [
    "## TO DO \n",
    "- Vérifier si ma fonction plot list images s'adapte à la,liste d'image globale\n",
    "- création d'une classe Dataset particulière \n",
    "- comment créer un DataSet à partir des images originales ? utiliser des fonctions split successives, stacker etc..mais on ne va pas tout garder en mémoire.. création de nouveaux fichiers image ? ou bien technique 2 splitter et sélectionner aléatoirement une ou plusieur zones dans l'image ? -> voir avec les gars\n",
    "- Faire une fonction create bounding box pour yolo etc.. c'est l'objet de create detection label , faire une fonction de représentation ?\n",
    "- access Vault ? -W> dans projet slums detection bidonvilles\n",
    "- Faire un notebook de prise en main pour les stagiaires -> en cours\n",
    "- faire une fonction plot label on images (superposition)\n",
    "- faire une fonction plot label next to image -> done\n",
    "- faire une fonction plot liste image -> done\n",
    "- fair eune fonction plot list of label images\n",
    "- faire une fonction qui a partir d'un masque de segmentation donné sors les polygones associés (revenir sur rasterio ?)\n",
    "- Pour les datasets, les classes faire une classe généralsite Dataset Segmentation et détection et patchs\n",
    "- et faire plusieurs types de dataset segmentation dépendant du jeu de données et la stratégie de chargement\n",
    "- ppour les modèles il faudra faire une surclasse modeles segment ation/detection et créer des modèlmes ad hoc etc.. De telle sorte qu'un modèle de segmentation puisse s'appliquer sans douleur sur un dataset de segmentation"
   ]
  }
 ],
 "metadata": {
  "kernelspec": {
   "display_name": "Python 3 (ipykernel)",
   "language": "python",
   "name": "python3"
  },
  "language_info": {
   "codemirror_mode": {
    "name": "ipython",
    "version": 3
   },
   "file_extension": ".py",
   "mimetype": "text/x-python",
   "name": "python",
   "nbconvert_exporter": "python",
   "pygments_lexer": "ipython3",
   "version": "3.10.9"
  },
  "toc-showcode": false
 },
 "nbformat": 4,
 "nbformat_minor": 5
}
