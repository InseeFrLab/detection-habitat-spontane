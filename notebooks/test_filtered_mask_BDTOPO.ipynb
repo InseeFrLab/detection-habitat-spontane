{
 "cells": [
  {
   "cell_type": "markdown",
   "id": "db41dd7a-c760-4fdb-aac3-28f9e2355f32",
   "metadata": {},
   "source": [
    "# Essais pour enlever les gros bâtiments des masques BDTOPO"
   ]
  },
  {
   "cell_type": "markdown",
   "id": "1fa9b13c-0631-4b58-9ec5-be9e4fd61c7b",
   "metadata": {
    "jp-MarkdownHeadingCollapsed": true,
    "tags": []
   },
   "source": [
    "## Packages et chargement des données"
   ]
  },
  {
   "cell_type": "code",
   "execution_count": 1,
   "id": "4c411e5c-83ab-4089-a669-d3cb3cde7d9f",
   "metadata": {
    "tags": []
   },
   "outputs": [],
   "source": [
    "%load_ext autoreload\n",
    "%autoreload 2"
   ]
  },
  {
   "cell_type": "code",
   "execution_count": 2,
   "id": "f78bc04a-dfda-45bd-b639-bfec7fb44faf",
   "metadata": {
    "tags": []
   },
   "outputs": [],
   "source": [
    "%reload_ext autoreload"
   ]
  },
  {
   "cell_type": "code",
   "execution_count": 137,
   "id": "ec07f884-0236-4c2b-b048-424a218b30ad",
   "metadata": {
    "tags": []
   },
   "outputs": [],
   "source": [
    "import sys\n",
    "sys.path.append('../src')\n",
    "from satellite_image import SatelliteImage\n",
    "from utils import *\n",
    "from plot_utils import *\n",
    "from mappings import *\n",
    "from labeler import (RIL_BDTOPOLabeler, BDTOPOLabeler, RILLabeler)\n",
    "from labeled_satellite_image import SegmentationLabeledSatelliteImage"
   ]
  },
  {
   "cell_type": "code",
   "execution_count": 5,
   "id": "e118a705-fbf6-4f15-a2d2-9253fccb003f",
   "metadata": {
    "tags": []
   },
   "outputs": [],
   "source": [
    "import s3fs\n",
    "import matplotlib.pyplot as plt\n",
    "import re\n",
    "import pandas as pd"
   ]
  },
  {
   "cell_type": "code",
   "execution_count": 76,
   "id": "31b4058b-1177-43f8-af2b-e2512c1463a8",
   "metadata": {
    "tags": []
   },
   "outputs": [],
   "source": [
    "from scipy.ndimage import label\n",
    "import geopandas as gpd\n",
    "from rasterio.features import rasterize, shapes\n",
    "from shapely.geometry import Polygon, box\n",
    "from sklearn.cluster import KMeans"
   ]
  },
  {
   "cell_type": "code",
   "execution_count": 6,
   "id": "df0ccd08-7a7d-4273-8ea6-1ab817537e8d",
   "metadata": {
    "tags": []
   },
   "outputs": [],
   "source": [
    "update_storage_access()\n",
    "\n",
    "environment = get_environment()\n",
    "\n",
    "root_path = get_root_path()\n",
    "\n",
    "bucket = environment[\"bucket\"]\n",
    "\n",
    "path_s3_pleiades_data_2022_guyane = environment[\"sources\"][\"PLEIADES\"][2022][\"guyane\"]\n",
    "path_local_pleiades_data_2022_guyane = environment[\"local-path\"][\"PLEIADES\"][2022][\"guyane\"]\n",
    "\n",
    "path_local_bdtopo_data_guyane = environment[\"local-path\"][\"BDTOPO\"][2022][\"guyane\"]\n",
    "path_s3_bdtopo_data_guyane = environment[\"sources\"][\"BDTOPO\"][2022][\"guyane\"]\n",
    "\n",
    "#martinique 2022\n",
    "path_s3_pleiades_data_2022_martinique = environment[\"sources\"][\"PLEIADES\"][2022][\"martinique\"]\n",
    "path_local_pleiades_data_2022_martinique = environment[\"local-path\"][\"PLEIADES\"][2022][\"martinique\"]\n",
    "\n",
    "path_local_bdtopo_data_martinique = environment[\"local-path\"][\"BDTOPO\"][2022][\"martinique\"]\n",
    "path_s3_bdtopo_data_martinique = environment[\"sources\"][\"BDTOPO\"][2022][\"martinique\"]\n",
    "\n",
    "fs = s3fs.S3FileSystem(client_kwargs={\"endpoint_url\": \"https://minio.lab.sspcloud.fr\"})\n",
    "\n"
   ]
  },
  {
   "cell_type": "code",
   "execution_count": 122,
   "id": "21ef8fb2-d963-496b-b8d8-271549190b72",
   "metadata": {
    "tags": []
   },
   "outputs": [],
   "source": [
    "fs.download(\n",
    "        rpath=f\"{bucket}/{path_s3_pleiades_data_2022_guyane}\",\n",
    "        lpath=f\"../{path_local_pleiades_data_2022_guyane}\",\n",
    "        recursive=True)\n",
    "\n",
    "fs.download(\n",
    "        rpath=f\"{bucket}/{path_s3_bdtopo_data_guyane}\",\n",
    "        lpath=f\"../{path_local_bdtopo_data_guyane}\",\n",
    "        recursive=True\n",
    ")"
   ]
  },
  {
   "cell_type": "code",
   "execution_count": 7,
   "id": "03a3397c-23a9-4c9a-9cdf-59161cfbb112",
   "metadata": {
    "tags": []
   },
   "outputs": [],
   "source": [
    "# DL PLEIADE martinique 2022\n",
    "fs.download(\n",
    "        rpath=f\"{bucket}/{path_s3_pleiades_data_2022_martinique}\",\n",
    "        lpath=f\"../{path_local_pleiades_data_2022_martinique}\",\n",
    "        recursive=True)"
   ]
  },
  {
   "cell_type": "code",
   "execution_count": 8,
   "id": "a46b5c74-e3a1-45e0-8932-e2e81f071731",
   "metadata": {
    "tags": []
   },
   "outputs": [],
   "source": [
    "fs.download(\n",
    "        rpath=f\"{bucket}/{path_s3_bdtopo_data_martinique}\",\n",
    "        lpath=f\"../{path_local_bdtopo_data_martinique}\",\n",
    "        recursive=True\n",
    ")"
   ]
  },
  {
   "cell_type": "markdown",
   "id": "4ffc39e2-15af-4465-91d6-3c9106bb087d",
   "metadata": {
    "jp-MarkdownHeadingCollapsed": true,
    "tags": []
   },
   "source": [
    "## Image et chargement du RIL et de BDTOPO "
   ]
  },
  {
   "cell_type": "code",
   "execution_count": 132,
   "id": "4de688dc-02b9-4c10-82bf-10fe8624b9e2",
   "metadata": {
    "tags": []
   },
   "outputs": [],
   "source": [
    "#mont baduel\n",
    "from image_utils import *\n",
    "find_image_of_point([4.918313, -52.303234], '../data/PLEIADES/2022/GUYANE', coord_gps = True)"
   ]
  },
  {
   "cell_type": "code",
   "execution_count": 148,
   "id": "e79b8dab-291a-48ea-9cee-9a59149bec4b",
   "metadata": {
    "tags": []
   },
   "outputs": [],
   "source": [
    "#filename = '../data/PLEIADES/2022/GUYANE/ORT_2022072050325085_0353_0545_U22N_16Bits.jp2'\n",
    "filename = '../data/PLEIADES/2022/GUYANE/ORT_2022072050325085_0355_0544_U22N_16Bits.jp2'\n",
    "date2022 = date.fromisoformat('2022-01-01')"
   ]
  },
  {
   "cell_type": "code",
   "execution_count": 149,
   "id": "aae373d1-d155-4b86-b9b1-5a706a989c99",
   "metadata": {
    "tags": []
   },
   "outputs": [],
   "source": [
    "image = SatelliteImage.from_raster(\n",
    "        filename,\n",
    "        date = date2022, \n",
    "        n_bands = 4,\n",
    "        dep = '973'\n",
    "    )\n",
    "image.normalize()"
   ]
  },
  {
   "cell_type": "code",
   "execution_count": 150,
   "id": "735be9f6-7455-4180-8f7d-21f584b86f38",
   "metadata": {
    "tags": []
   },
   "outputs": [],
   "source": [
    "labeler_RIL = RILLabeler(date2022, '973')"
   ]
  },
  {
   "cell_type": "code",
   "execution_count": 153,
   "id": "acca5e99-de53-484e-a6b7-367eb0be17d4",
   "metadata": {
    "tags": []
   },
   "outputs": [],
   "source": [
    "labeler_BDTOPO = BDTOPOLabeler(date2022, '973')"
   ]
  },
  {
   "cell_type": "code",
   "execution_count": 430,
   "id": "8c211dc2-a36a-488f-88f1-04a8dcdf3cdc",
   "metadata": {
    "tags": []
   },
   "outputs": [],
   "source": [
    "labeler_RIL_1 = RILLabeler(date2022, '972')"
   ]
  },
  {
   "cell_type": "code",
   "execution_count": 431,
   "id": "23e65c32-e20c-4e37-b0ce-07f1290010a1",
   "metadata": {
    "tags": []
   },
   "outputs": [],
   "source": [
    "labeler_BDTOPO_1 = BDTOPOLabeler(date2022, '972')"
   ]
  },
  {
   "cell_type": "markdown",
   "id": "5fb4e9ea-a3c8-45b9-b31c-4e8faa2b3dab",
   "metadata": {
    "jp-MarkdownHeadingCollapsed": true,
    "tags": []
   },
   "source": [
    "## Exploration des colonnes du RIL pour trouver s'ils précisent bidonville ou non"
   ]
  },
  {
   "cell_type": "code",
   "execution_count": 375,
   "id": "727e5b0f-3f60-44e4-a895-668ba0846ded",
   "metadata": {
    "tags": []
   },
   "outputs": [],
   "source": [
    "labeler_RIL.labeling_data.columns"
   ]
  },
  {
   "cell_type": "code",
   "execution_count": 381,
   "id": "27eeb49b-c340-45ed-83e9-0a52c2e81004",
   "metadata": {
    "tags": []
   },
   "outputs": [],
   "source": [
    "type_ril = list(labeler_RIL.labeling_data[\"ea_type\"])\n",
    "np.unique(type_ril)"
   ]
  },
  {
   "cell_type": "code",
   "execution_count": 310,
   "id": "73933f92-feb5-4702-bd03-0b28a2c4eafb",
   "metadata": {
    "tags": []
   },
   "outputs": [],
   "source": [
    "if labeler_RIL.labeling_data.crs != image.crs:\n",
    "    labeler_RIL.labeling_data.geometry = labeler_RIL.labeling_data.geometry.to_crs(\n",
    "        image.crs\n",
    "    )\n",
    "\n",
    "# Filtering geometries from RIL\n",
    "xmin, ymin, xmax, ymax = image.bounds\n",
    "patch = labeler_RIL.labeling_data.cx[xmin:xmax, ymin:ymax].copy()\n",
    "\n",
    "patch.geometry = patch.geometry.buffer(\n",
    "    labeler_RIL.buffer_size, cap_style=labeler_RIL.cap_style\n",
    ")"
   ]
  },
  {
   "cell_type": "code",
   "execution_count": 312,
   "id": "5b7e2896-c04f-4022-904c-e74b09a5219b",
   "metadata": {
    "tags": []
   },
   "outputs": [],
   "source": [
    "type_ril = list(patch[\"ea_type\"])\n",
    "np.unique(type_ril)"
   ]
  },
  {
   "cell_type": "markdown",
   "id": "d8ea88e4-018c-43da-b62d-8077ae9c0613",
   "metadata": {
    "tags": []
   },
   "source": [
    "### On affiche le masque RIL uniquement pour les bâtiments type HABITATION"
   ]
  },
  {
   "cell_type": "code",
   "execution_count": 313,
   "id": "ae741818-ef64-42d7-9b4b-acebd88596f6",
   "metadata": {
    "tags": []
   },
   "outputs": [],
   "source": [
    "patch1 = patch[patch[\"ea_type\"] == 'HABIT']"
   ]
  },
  {
   "cell_type": "code",
   "execution_count": 314,
   "id": "8a74e5d5-7c03-4c7f-a8fc-a03db0bf1d59",
   "metadata": {
    "tags": []
   },
   "outputs": [],
   "source": [
    "if patch1.empty:\n",
    "    rasterized = np.zeros(image.array.shape[1:])\n",
    "else:\n",
    "    rasterized = rasterize(\n",
    "        patch1.geometry,\n",
    "        out_shape=image.array.shape[1:],\n",
    "        fill=0,\n",
    "        out=None,\n",
    "        transform=image.transform,\n",
    "        all_touched=True,\n",
    "        default_value=1,\n",
    "        dtype=None,\n",
    "    )"
   ]
  },
  {
   "cell_type": "code",
   "execution_count": 315,
   "id": "12d84d19-f1c6-4b4b-a600-c95edf48615e",
   "metadata": {
    "tags": []
   },
   "outputs": [],
   "source": [
    "fig, ax = plt.subplots(figsize=(10, 10))\n",
    "ax.imshow(np.transpose(image.array, (1, 2, 0))[:,:,:3])\n",
    "ax.imshow(rasterized, alpha=0.3)"
   ]
  },
  {
   "cell_type": "markdown",
   "id": "919266a7-83ec-4972-a9a4-643cd6c50d51",
   "metadata": {
    "jp-MarkdownHeadingCollapsed": true,
    "tags": []
   },
   "source": [
    "## Exploration des colonnes de BDTOPO pour trouver s'ils précisent bidonville ou non -> filtrage sur la hauteur des bâtiments"
   ]
  },
  {
   "cell_type": "code",
   "execution_count": 320,
   "id": "d61c16f9-2641-46bb-b034-30dc601fa315",
   "metadata": {
    "tags": []
   },
   "outputs": [],
   "source": [
    "labeler_BDTOPO.labeling_data"
   ]
  },
  {
   "cell_type": "code",
   "execution_count": 323,
   "id": "85a327d7-8f6f-468f-879f-a3ff8fa14f87",
   "metadata": {
    "tags": []
   },
   "outputs": [],
   "source": [
    "type_bdtopo = list(labeler_BDTOPO.labeling_data['USAGE1'])\n",
    "np.unique(type_bdtopo)"
   ]
  },
  {
   "cell_type": "code",
   "execution_count": 326,
   "id": "9839c69f-c921-4573-99ea-451351fe2922",
   "metadata": {
    "tags": []
   },
   "outputs": [],
   "source": [
    "if labeler_BDTOPO.labeling_data.crs != image.crs:\n",
    "    labeler_BDTOPO.labeling_data.geometry = labeler_BDTOPO.labeling_data.geometry.to_crs(\n",
    "        image.crs\n",
    "    )\n",
    "\n",
    "# Filtering geometries from RIL\n",
    "xmin, ymin, xmax, ymax = image.bounds\n",
    "patch = labeler_BDTOPO.labeling_data.cx[xmin:xmax, ymin:ymax].copy()\n"
   ]
  },
  {
   "cell_type": "markdown",
   "id": "b487c51d-6c85-4513-bb75-573d8574bdb5",
   "metadata": {},
   "source": [
    "### On prend les bâtiments étiquetés comme Indifférencié ou Résidentiel"
   ]
  },
  {
   "cell_type": "code",
   "execution_count": 337,
   "id": "452add6a-4130-473d-83cb-c54c1ae76aea",
   "metadata": {
    "tags": []
   },
   "outputs": [],
   "source": [
    "patch1 = patch[patch['USAGE1'] == 'Indifférencié'] \n",
    "patch11 = patch[patch['USAGE1'] == 'Résidentiel']"
   ]
  },
  {
   "cell_type": "code",
   "execution_count": 334,
   "id": "c7a12d6b-d409-47b9-a19f-8eb8c0393f32",
   "metadata": {
    "tags": []
   },
   "outputs": [],
   "source": [
    "patch2 = pd.concat([patch1, patch11], ignore_index=True)"
   ]
  },
  {
   "cell_type": "code",
   "execution_count": 396,
   "id": "d69f8732-c3b7-4cfa-bc0d-af9576d17963",
   "metadata": {
    "tags": []
   },
   "outputs": [],
   "source": [
    "if patch2.empty:\n",
    "    rasterized = np.zeros(image.array.shape[1:])\n",
    "else:\n",
    "    rasterized = rasterize(\n",
    "        patch2.geometry,\n",
    "        out_shape=image.array.shape[1:],\n",
    "        fill=0,\n",
    "        out=None,\n",
    "        transform=image.transform,\n",
    "        all_touched=True,\n",
    "        default_value=1,\n",
    "        dtype=None,\n",
    "    )"
   ]
  },
  {
   "cell_type": "code",
   "execution_count": 398,
   "id": "2cf105bd-37fd-454a-9fd8-3c5726551aa4",
   "metadata": {
    "tags": []
   },
   "outputs": [],
   "source": [
    "patch2.columns"
   ]
  },
  {
   "cell_type": "markdown",
   "id": "4c0764e5-d45b-461b-a38e-4d432d8bdf8d",
   "metadata": {
    "tags": []
   },
   "source": [
    "### Clustering sur la colonne hauteur pour trouver sur quelle hauteur seuiller"
   ]
  },
  {
   "cell_type": "code",
   "execution_count": 401,
   "id": "481ab22d-8add-4ab4-ada1-b487cced77bf",
   "metadata": {
    "tags": []
   },
   "outputs": [],
   "source": [
    "# Préparer les données pour le clustering\n",
    "X = patch2['HAUTEUR'].values.reshape(-1, 1)\n",
    "\n",
    "# Initialiser l'algorithme de clustering KMeans\n",
    "kmeans = KMeans(n_clusters=4, n_init = 'auto', random_state=0)\n",
    "\n",
    "# Appliquer le clustering aux tailles de polygons\n",
    "kmeans.fit(X)\n",
    "\n",
    "# Obtenir les étiquettes de cluster pour chaque taille de polygon\n",
    "labels = kmeans.predict(X)\n",
    "\n",
    "# Ajouter les étiquettes de cluster à la colonne correspondante du Geodataframe\n",
    "patch2['cluster'] = labels"
   ]
  },
  {
   "cell_type": "code",
   "execution_count": 402,
   "id": "91db13cd-2ac4-4cba-981a-529680039f5f",
   "metadata": {
    "tags": []
   },
   "outputs": [],
   "source": [
    "fig, ax = plt.subplots(figsize=(10, 10))\n",
    "patch2.plot(ax=ax, column='cluster', cmap='jet', legend = True)"
   ]
  },
  {
   "cell_type": "markdown",
   "id": "2cce2728-c8c0-40d5-9c8c-3d875188da45",
   "metadata": {},
   "source": [
    "On choisit le seuil du 2e cluster : on prend la hauteur maximale de ce groupe."
   ]
  },
  {
   "cell_type": "code",
   "execution_count": 403,
   "id": "9a4998ee-e1bc-4af8-b7a8-e442ccf2fa3a",
   "metadata": {
    "tags": []
   },
   "outputs": [],
   "source": [
    "max(patch2[patch2['cluster'] == 1]['HAUTEUR'])"
   ]
  },
  {
   "cell_type": "code",
   "execution_count": 404,
   "id": "a78485b4-56d7-43db-b1d0-6f6ad648f5b6",
   "metadata": {
    "tags": []
   },
   "outputs": [],
   "source": [
    "patch_petite_hab = patch2[patch2['HAUTEUR'] <= 7.0]"
   ]
  },
  {
   "cell_type": "code",
   "execution_count": 405,
   "id": "303ebe47-3ce2-461a-bb7b-240f707ae5a7",
   "metadata": {
    "tags": []
   },
   "outputs": [],
   "source": [
    "fig, ax = plt.subplots(figsize=(10, 10))\n",
    "patch_petite_hab.plot(ax=ax)"
   ]
  },
  {
   "cell_type": "markdown",
   "id": "ade6bdc3-73fe-4c22-b4cd-18a874677656",
   "metadata": {
    "jp-MarkdownHeadingCollapsed": true,
    "tags": []
   },
   "source": [
    "## Lecture des masques Label Studio"
   ]
  },
  {
   "cell_type": "code",
   "execution_count": 302,
   "id": "b96867b9-dbd8-4bb2-8ed6-32f033be2007",
   "metadata": {
    "tags": []
   },
   "outputs": [],
   "source": [
    "from gestion_label_studio import creer_mask_from_label_studio_export\n",
    "creer_mask_from_label_studio_export(\n",
    "    num_task = \"1\",\n",
    "    type_label = 'Petites habitations',\n",
    "    emplacement_zip = \"../labelstudio.zip\",\n",
    "    name_output = \"bibi\"\n",
    ")\n",
    "\n"
   ]
  },
  {
   "cell_type": "markdown",
   "id": "330831c3-b265-493d-86e4-f704bab0e015",
   "metadata": {
    "jp-MarkdownHeadingCollapsed": true,
    "tags": []
   },
   "source": [
    "## Tests masque fusion RIL_BDTOPO (pas bon masque mais on garde les essais)"
   ]
  },
  {
   "cell_type": "code",
   "execution_count": 126,
   "id": "02b7a81a-ed7c-4005-85b3-426de92e8673",
   "metadata": {
    "tags": []
   },
   "outputs": [],
   "source": [
    "labeler_RIL_BDTOPO = RIL_BDTOPOLabeler(date2022, '973')"
   ]
  },
  {
   "cell_type": "code",
   "execution_count": 135,
   "id": "d983ba79-8aa4-44c4-8f99-ce317b22181e",
   "metadata": {
    "tags": []
   },
   "outputs": [],
   "source": [
    "mask_RIL_BDTOPO = labeler_RIL_BDTOPO.create_segmentation_label(image)"
   ]
  },
  {
   "cell_type": "code",
   "execution_count": 136,
   "id": "d3e3ce61-a6eb-4236-b536-4d4fdbd98187",
   "metadata": {
    "tags": []
   },
   "outputs": [],
   "source": [
    "fig, ax = plt.subplots(figsize=(10, 10))\n",
    "ax.imshow(np.transpose(image.array, (1, 2, 0))[:,:,:3])\n",
    "ax.imshow(mask_RIL_BDTOPO, alpha=0.3)"
   ]
  },
  {
   "cell_type": "markdown",
   "id": "9995d175-16a4-43fe-a898-a627f1fad6d3",
   "metadata": {},
   "source": [
    "Il y a un gros problème car les bidonvilles disparaissent. En effet, sur le RIL les bidonvilles sont marqués avec un point et donc il est compliqué de récuperer tous les masques BDTOPO du bidonville si on n'a qu'un point RIL !!!!!"
   ]
  },
  {
   "cell_type": "code",
   "execution_count": 407,
   "id": "6c4fd7a6-f42c-415c-bdd1-b8b1526c030f",
   "metadata": {
    "tags": []
   },
   "outputs": [],
   "source": [
    "filename_1 = '../data/PLEIADES/2022/MARTINIQUE/ORT_2022_0711_1619_U20N_8Bits.jp2'\n",
    "date_1 = date.fromisoformat('2022-01-01')"
   ]
  },
  {
   "cell_type": "code",
   "execution_count": 408,
   "id": "3bf3141a-9546-4667-893f-9afc7b8ed7ec",
   "metadata": {
    "tags": []
   },
   "outputs": [],
   "source": [
    "image_1 = SatelliteImage.from_raster(\n",
    "        filename_1,\n",
    "        date = date_1, \n",
    "        n_bands = 3,\n",
    "        dep = '972'\n",
    "    )\n",
    "image_1.normalize()"
   ]
  },
  {
   "cell_type": "code",
   "execution_count": 11,
   "id": "cba20fe6-c4b9-465e-8f51-24094e2faca2",
   "metadata": {
    "tags": []
   },
   "outputs": [],
   "source": [
    "image_1.plot([0,1,2])"
   ]
  },
  {
   "cell_type": "code",
   "execution_count": null,
   "id": "91973e3d-f4ff-438c-b94a-bcdb0cdd1332",
   "metadata": {},
   "outputs": [],
   "source": [
    "labeler_RIL_BDTOPO_1 = RIL_BDTOPOLabeler(date_1, '972')"
   ]
  },
  {
   "cell_type": "code",
   "execution_count": null,
   "id": "ea959c3b-e217-4155-a959-6365701b03e3",
   "metadata": {},
   "outputs": [],
   "source": [
    "mask_RIL_BDTOPO_1 = labeler_RIL_BDTOPO_1.create_segmentation_label(image_1)"
   ]
  },
  {
   "cell_type": "code",
   "execution_count": 111,
   "id": "0deb6b67-1c5a-4a59-ab7f-43cd1c43c668",
   "metadata": {
    "tags": []
   },
   "outputs": [],
   "source": [
    "fig, ax = plt.subplots(figsize=(10, 10))\n",
    "ax.imshow(np.transpose(image_1.array, (1, 2, 0))[:,:,:3])\n",
    "ax.imshow(mask_RIL_BDTOPO_1, alpha=0.3)"
   ]
  },
  {
   "cell_type": "markdown",
   "id": "8b18b254-8953-4075-a680-3cbd0a066258",
   "metadata": {
    "jp-MarkdownHeadingCollapsed": true,
    "tags": []
   },
   "source": [
    "## Tests de clustering sur la taille des amas de pixels des polygones du masque BDTOPO (ne peut pas marcher mais on garde les essais)"
   ]
  },
  {
   "cell_type": "code",
   "execution_count": 432,
   "id": "d34b248b-17f5-4e2e-8947-387aac4a2df5",
   "metadata": {
    "tags": []
   },
   "outputs": [],
   "source": [
    "mask_BDTOPO_1 = labeler_BDTOPO_1.create_segmentation_label(image_1)"
   ]
  },
  {
   "cell_type": "code",
   "execution_count": 433,
   "id": "da81fb64-6bdc-4066-ab8b-094b3047d6d7",
   "metadata": {
    "tags": []
   },
   "outputs": [],
   "source": [
    "height, width = image_1.array.shape[1:]\n",
    "\n",
    "# Create a list of polygons from the masked center clouds in order\n",
    "# to obtain a GeoDataFrame from it\n",
    "polygon_list = []\n",
    "for shape in list(shapes(mask_BDTOPO_1)):\n",
    "    polygon = Polygon(shape[0][\"coordinates\"][0])\n",
    "    if polygon.area > 0.85 * height * width:\n",
    "        continue\n",
    "    polygon_list.append(polygon)\n",
    "\n",
    "gdf = gpd.GeoDataFrame(geometry=polygon_list)"
   ]
  },
  {
   "cell_type": "code",
   "execution_count": 440,
   "id": "4cf70942-96e2-4b4a-85b0-c43807f3d981",
   "metadata": {
    "tags": []
   },
   "outputs": [],
   "source": [
    "# Calculer la taille de chaque polygon\n",
    "gdf['polygon_size'] = gdf.geometry.area\n",
    "\n",
    "# Préparer les données pour le clustering\n",
    "X = gdf['polygon_size'].values.reshape(-1, 1)\n",
    "\n",
    "# Initialiser l'algorithme de clustering KMeans\n",
    "kmeans = KMeans(n_clusters=5, n_init = 'auto', random_state=0)\n",
    "\n",
    "# Appliquer le clustering aux tailles de polygons\n",
    "kmeans.fit(X)\n",
    "\n",
    "# Obtenir les étiquettes de cluster pour chaque taille de polygon\n",
    "labels = kmeans.predict(X)\n",
    "\n",
    "# Ajouter les étiquettes de cluster à la colonne correspondante du Geodataframe\n",
    "gdf['cluster'] = labels"
   ]
  },
  {
   "cell_type": "code",
   "execution_count": 441,
   "id": "726965de-3375-4dc7-bef4-18bc65ca63bc",
   "metadata": {
    "tags": []
   },
   "outputs": [],
   "source": [
    "fig, ax = plt.subplots(figsize=(10, 10))\n",
    "ax.imshow(np.transpose(image_1.array, (1, 2, 0))[:,:,:3])\n",
    "gdf.plot(column='cluster', cmap='jet', ax=ax)"
   ]
  },
  {
   "cell_type": "markdown",
   "id": "aeb1e62b-6db9-498e-9552-707172deb02c",
   "metadata": {},
   "source": [
    "On prend comme seuil le max du premier cluster"
   ]
  },
  {
   "cell_type": "code",
   "execution_count": 442,
   "id": "4ea06f31-e67f-4d6d-bad7-3147b7612cc7",
   "metadata": {
    "tags": []
   },
   "outputs": [],
   "source": [
    "max(gdf[gdf['cluster'] == 0]['polygon_size'])"
   ]
  },
  {
   "cell_type": "code",
   "execution_count": 443,
   "id": "7000a29a-e8b9-47d9-91d2-2098c302e6a6",
   "metadata": {
    "tags": []
   },
   "outputs": [],
   "source": [
    "gdf_petite_hab = gdf[gdf['size'] <= 2142.0]"
   ]
  },
  {
   "cell_type": "code",
   "execution_count": 444,
   "id": "66ee9325-5cd1-43db-a49b-90e05d1e588f",
   "metadata": {
    "tags": []
   },
   "outputs": [],
   "source": [
    "fig, ax = plt.subplots(figsize=(10, 10))\n",
    "ax.imshow(np.transpose(image_1.array, (1, 2, 0))[:,:,:3])\n",
    "gdf_petite_hab.plot(column='cluster', cmap='jet', ax=ax)"
   ]
  },
  {
   "cell_type": "code",
   "execution_count": 189,
   "id": "af6341f4-3efa-4b54-b82e-40a35875d1b2",
   "metadata": {
    "tags": []
   },
   "outputs": [],
   "source": [
    "mask_BDTOPO = labeler_BDTOPO.create_segmentation_label(image)"
   ]
  },
  {
   "cell_type": "code",
   "execution_count": 213,
   "id": "4cde993d-16f8-4ca2-b5bd-9822ddd0ac1d",
   "metadata": {
    "tags": []
   },
   "outputs": [],
   "source": [
    "def BD_TOPO_petite_hab(image, mask_BDTOPO) :\n",
    "    height, width = image.array.shape[1:]\n",
    "\n",
    "    # Create a list of polygons from the masked center clouds in order\n",
    "    # to obtain a GeoDataFrame from it\n",
    "    polygon_list = []\n",
    "    for shape in list(shapes(mask_BDTOPO)):\n",
    "        polygon = Polygon(shape[0][\"coordinates\"][0])\n",
    "        # if polygon.area > 0.85 * height * width:\n",
    "        #     continue\n",
    "        polygon_list.append(polygon)\n",
    "\n",
    "    gdf = gpd.GeoDataFrame(geometry=polygon_list)\n",
    "\n",
    "    # size amas\n",
    "    gdf['polygon_size'] = gdf.geometry.area\n",
    "    X = gdf['polygon_size'].values.reshape(-1, 1)\n",
    "    gdf['size'] = X\n",
    "    \n",
    "    #threshold\n",
    "    gdf_petite_hab = gdf[gdf['polygon_size'] <= 2142.0]\n",
    "    \n",
    "    # Rasterize the geometries into a numpy array\n",
    "    if gdf_petite_hab.empty:\n",
    "        rasterized = np.zeros(image.array.shape[1:])\n",
    "    else:\n",
    "        rasterized = rasterize(\n",
    "            gdf_petite_hab.geometry,\n",
    "            out_shape=image.array.shape[1:],\n",
    "            fill=0,\n",
    "            out=None,\n",
    "            all_touched=True,\n",
    "            default_value=1,\n",
    "            dtype=None,\n",
    "        )\n",
    "    return rasterized"
   ]
  },
  {
   "cell_type": "code",
   "execution_count": 214,
   "id": "f88cabcc-64c1-456c-be2c-662d6ab60fe4",
   "metadata": {
    "tags": []
   },
   "outputs": [],
   "source": [
    "mask_filtred = BD_TOPO_petite_hab(image, mask_BDTOPO)"
   ]
  },
  {
   "cell_type": "code",
   "execution_count": 215,
   "id": "16d9d07f-5794-4eb1-8939-25247d83e58a",
   "metadata": {
    "tags": []
   },
   "outputs": [],
   "source": [
    "fig, ax = plt.subplots(figsize=(10, 10))\n",
    "ax.imshow(np.transpose(image.array, (1, 2, 0))[:,:,:3])\n",
    "ax.imshow(mask_filtred, alpha=0.3)"
   ]
  },
  {
   "cell_type": "markdown",
   "id": "8b692ae8-fd28-44ec-8af2-c9a8f7b5dc90",
   "metadata": {},
   "source": [
    "Ca ne marche pas car les polygones des bidonvilles englobent parfois de gros amas d'habitations de forturne et donc ont une grosse taille d'amas !!"
   ]
  }
 ],
 "metadata": {
  "kernelspec": {
   "display_name": "Python 3 (ipykernel)",
   "language": "python",
   "name": "python3"
  },
  "language_info": {
   "codemirror_mode": {
    "name": "ipython",
    "version": 3
   },
   "file_extension": ".py",
   "mimetype": "text/x-python",
   "name": "python",
   "nbconvert_exporter": "python",
   "pygments_lexer": "ipython3",
   "version": "3.10.9"
  }
 },
 "nbformat": 4,
 "nbformat_minor": 5
}
