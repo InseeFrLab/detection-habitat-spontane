{
 "cells": [
  {
   "cell_type": "markdown",
   "id": "757c1bbd-e025-4590-8fb1-30ab7236ae67",
   "metadata": {},
   "source": [
    "Librairies"
   ]
  },
  {
   "cell_type": "code",
   "execution_count": 1,
   "id": "215112fa-9fdb-4a55-be30-5eb2f65a3727",
   "metadata": {},
   "outputs": [],
   "source": [
    "import s3fs\n",
    "from pathlib import Path\n",
    "import py7zr\n",
    "import numpy as np\n",
    "import os\n",
    "import matplotlib.image as mpimg\n",
    "import matplotlib.pyplot as plt\n",
    "import geopandas as gpd\n",
    "import pandas as pd"
   ]
  },
  {
   "cell_type": "markdown",
   "id": "5870c0cc",
   "metadata": {},
   "source": [
    "## Données Pleiades"
   ]
  },
  {
   "cell_type": "code",
   "execution_count": 2,
   "id": "bf8fa888-5d01-4c98-98e6-fcc0eb30f209",
   "metadata": {},
   "outputs": [],
   "source": [
    "fs = s3fs.S3FileSystem(client_kwargs={'endpoint_url': 'https://minio.lab.sspcloud.fr'})\n",
    "fs.get('projet-slums-detection/Donnees/Cayenne_200722.7z', 'Cayenne.7z')\n",
    "\n",
    "with py7zr.SevenZipFile('Cayenne.7z', mode='r') as z:\n",
    "    z.extractall()"
   ]
  },
  {
   "cell_type": "markdown",
   "id": "ac0ea254-7dfc-4bc5-b72f-17956a188a9b",
   "metadata": {},
   "source": [
    "- Ce sont des images de 2000x2000 pixels à 50 cm le pixel => 1000x1000 m^2 = 1km^2\n",
    "- On en a 240 dans le fichier brut or la superficie de Cayenne est égale à 23,6 km^2\n",
    "- 4 channels RGB Infra\n",
    "- Le fichier pour Cayenne fait 2 GB"
   ]
  },
  {
   "cell_type": "markdown",
   "id": "6999d495-2910-46a1-88ed-2dc2690a3f65",
   "metadata": {},
   "source": [
    "## Rasterio \n",
    "https://geohackweek.github.io/raster/04-workingwithrasters/"
   ]
  },
  {
   "cell_type": "code",
   "execution_count": 3,
   "id": "5a16c52d-ff1b-4acb-82b0-87aafa156174",
   "metadata": {},
   "outputs": [],
   "source": [
    "import rasterio\n",
    "import rasterio.plot as rp\n",
    "from rasterio.merge import merge\n",
    "from rasterio.warp import calculate_default_transform, reproject, Resampling\n",
    "from rasterio.plot import show\n",
    "from rasterio.crs import CRS\n",
    "import matplotlib\n",
    "from rasterio.features import rasterize"
   ]
  },
  {
   "cell_type": "code",
   "execution_count": 4,
   "id": "416adbc7-0a81-441c-8ca1-03bb2647fce4",
   "metadata": {},
   "outputs": [],
   "source": [
    "im_dir = \"Cayenne_200722/16bits/ORT_2022072050325085_U22N/\"\n",
    "liste  = os.listdir(im_dir)\n",
    "list_path_image = [im_dir+l for l in liste]\n",
    "\n",
    "len(liste)"
   ]
  },
  {
   "cell_type": "code",
   "execution_count": 5,
   "id": "11ba52cb-758e-462f-90ef-e8eeef710288",
   "metadata": {},
   "outputs": [],
   "source": [
    "## Caractéristique d'une image\n",
    "filepath = list_path_image[200] \n",
    "filepath = 'Cayenne_200722/16bits/ORT_2022072050325085_U22N/ORT_2022072050325085_0353_0545_U22N_16Bits.jp2'\n",
    "# 72 et 37 bons exemples\n",
    "with rasterio.open(filepath) as raster:\n",
    "    print(raster.profile)\n",
    "    print(raster.overviews(1))\n",
    "    \n",
    "# En se servant du nom on peut faire des mosaiques en filtrant sur les chiffres"
   ]
  },
  {
   "cell_type": "code",
   "execution_count": 6,
   "id": "c0a0d140-1557-4363-88c5-574437fde7a3",
   "metadata": {},
   "outputs": [],
   "source": [
    "# The grid of raster values can be accessed as a numpy array and plotted:\n",
    "with rasterio.open(filepath) as raster:\n",
    "    oviews = raster.overviews(1) # list of overviews from biggest to smallest\n",
    "    print(oviews)\n",
    "    oview = 1 # let's look at the smallest thumbnail\n",
    "\n",
    "    # NOTE this is using a 'decimated read' (http://rasterio.readthedocs.io/en/latest/topics/resampling.html)\n",
    "    B1 = raster.read(1, out_shape=(1, int(raster.height // oview), int(raster.width // oview)))\n",
    "    B2 = raster.read(2, out_shape=(1, int(raster.height // oview), int(raster.width // oview)))\n",
    "    B3 = raster.read(3, out_shape=(1, int(raster.height // oview), int(raster.width // oview)))\n",
    "    B4 = raster.read(4, out_shape=(1, int(raster.height // oview), int(raster.width // oview)))\n",
    "\n",
    "quantile = 0.97\n",
    "B1a = rp.adjust_band(np.clip(B1,0,np.quantile(B1,quantile))) # normalisation min-max simple nécessite un clip d'abord étant donné les valeurs extremes\n",
    "B2a = rp.adjust_band(np.clip(B2,0,np.quantile(B2,quantile)))\n",
    "B3a = rp.adjust_band(np.clip(B3,0,np.quantile(B3,quantile)))\n",
    "B4a = rp.adjust_band(np.clip(B4,0,np.quantile(B4,quantile)))\n",
    "\n",
    "rgb = np.dstack((B1a,B2a,B3a))\n",
    "\n",
    "fig, ax = plt.subplots(figsize=(10, 10))\n",
    "ax.imshow(rgb)\n",
    "plt.title(\"Représentation de l'image {}\".format(filepath))\n",
    "plt.xlabel('Pixels Colonnes')\n",
    "plt.ylabel('Pixels Lignes')\n"
   ]
  },
  {
   "cell_type": "markdown",
   "id": "dbb7e392-3ecf-4087-aa6a-feb5d21dc0df",
   "metadata": {},
   "source": [
    "Fonctions clip + normalisation :"
   ]
  },
  {
   "cell_type": "code",
   "execution_count": 25,
   "id": "dd49b6d9-4af5-4ca6-b736-65fa981a1711",
   "metadata": {},
   "outputs": [],
   "source": [
    "def clipQuant(array,quant):\n",
    "    out = rp.adjust_band(np.clip(array,0,np.quantile(array,quant)))\n",
    "    return(out)\n",
    "\n",
    "def climNormStack(raster):\n",
    "    oview = 1\n",
    "    B1 = raster.read(1, out_shape=(1, int(src.height // oview), int(src.width // oview)))\n",
    "    B2 = raster.read(2, out_shape=(1, int(src.height // oview), int(src.width // oview)))\n",
    "    B3 = raster.read(3, out_shape=(1, int(src.height // oview), int(src.width // oview)))\n",
    "    B4 = raster.read(4, out_shape=(1, int(src.height // oview), int(src.width // oview)))\n",
    "\n",
    "    B1a = clipQuant(B1,0.97) # normalisation min-max simple nécessite un clip d'abord étant donné les valeurs extremes\n",
    "    B2a = clipQuant(B2,0.97)\n",
    "    B3a = clipQuant(B3,0.97)\n",
    "    B4a = clipQuant(B4,0.97)\n",
    "\n",
    "    rgb = np.dstack((B1a,B2a,B3a))\n",
    "    \n",
    "    return(rgb)"
   ]
  },
  {
   "cell_type": "markdown",
   "id": "30095263",
   "metadata": {},
   "source": [
    "## Récupération de la BDTOPO"
   ]
  },
  {
   "cell_type": "code",
   "execution_count": 9,
   "id": "f1188925",
   "metadata": {},
   "outputs": [],
   "source": [
    "import s3fs\n",
    "import yaml\n",
    "\n",
    "with open(\"../environment.yml\", 'r') as stream:\n",
    "    environment = yaml.safe_load(stream)\n",
    "file_path = \"projet-slums-detection/Donnees/BDTOPO/\" + environment[\"sources\"][\"bdtopo\"][2022][\"guyane\"]\n",
    "\n",
    "fs = s3fs.S3FileSystem(client_kwargs={'endpoint_url': 'https://minio.lab.sspcloud.fr'})\n",
    "fs.get(file_path, \"bdtopo.7z\")\n",
    "with py7zr.SevenZipFile('bdtopo.7z', mode='r') as z:\n",
    "    z.extractall()"
   ]
  },
  {
   "cell_type": "code",
   "execution_count": 10,
   "id": "b278cb9f",
   "metadata": {},
   "outputs": [],
   "source": [
    "import geopandas as gpd\n",
    "\n",
    "bdtopo_guyane = gpd.read_file(\"BDTOPO_3-0_TOUSTHEMES_SHP_UTM22RGFG95_D973_2022-03-15/BDTOPO/1_DONNEES_LIVRAISON_2022-03-00081/BDT_3-0_SHP_UTM22RGFG95_D973-ED2022-03-15/BATI/BATIMENT.shp\")\n",
    "bdtopo_guyane.head()"
   ]
  },
  {
   "cell_type": "code",
   "execution_count": 11,
   "id": "e1079ebf",
   "metadata": {},
   "outputs": [],
   "source": [
    "bdtopo_guyane.info()"
   ]
  },
  {
   "cell_type": "code",
   "execution_count": 12,
   "id": "71b67a63",
   "metadata": {},
   "outputs": [],
   "source": [
    "bdtopo_guyane.NATURE.unique()"
   ]
  },
  {
   "cell_type": "code",
   "execution_count": 13,
   "id": "43e3aaf1",
   "metadata": {},
   "outputs": [],
   "source": [
    "bdtopo_guyane.USAGE1.unique()"
   ]
  },
  {
   "cell_type": "code",
   "execution_count": 14,
   "id": "b229f155",
   "metadata": {},
   "outputs": [],
   "source": [
    "bdtopo_guyane.SOURCE.unique()"
   ]
  },
  {
   "cell_type": "markdown",
   "id": "876b28c9",
   "metadata": {},
   "source": [
    "Ministère en charge de la Santé et des Sports, Référentiel Géographique Guyanais sont les sources principales"
   ]
  },
  {
   "cell_type": "markdown",
   "id": "3427e904",
   "metadata": {},
   "source": [
    "Colonnes qui nous intéressent :\n",
    "- NATURE\n",
    "- USAGE1\n",
    "- DAT_CREAT\n",
    "- DAT_MAJ\n",
    "- SOURCE\n",
    "- GEOMETRY"
   ]
  },
  {
   "cell_type": "code",
   "execution_count": 20,
   "id": "a916721b",
   "metadata": {},
   "outputs": [],
   "source": [
    "bdtopo_guyane = bdtopo_guyane[[\"NATURE\", \"USAGE1\", \"DATE_CREAT\", \"DATE_MAJ\", \"SOURCE\", \"geometry\"]]"
   ]
  },
  {
   "cell_type": "code",
   "execution_count": 21,
   "id": "f1b60509",
   "metadata": {},
   "outputs": [],
   "source": [
    "bdtopo_guyane.crs"
   ]
  },
  {
   "cell_type": "markdown",
   "id": "b99f1641-ab40-4e0b-baea-59f2938542f7",
   "metadata": {},
   "source": [
    "On est dans le même système de coordonnées que pour nos rasters."
   ]
  },
  {
   "cell_type": "markdown",
   "id": "6a07ca8c-b271-49bb-b629-97e60a7f7c44",
   "metadata": {},
   "source": [
    "### Superposition points et rasters"
   ]
  },
  {
   "cell_type": "code",
   "execution_count": 23,
   "id": "7ca64170-6787-4d09-9bef-e6231dc16bca",
   "metadata": {},
   "outputs": [],
   "source": [
    "raster = rasterio.open(filepath)\n",
    "xmin, ymin, xmax, ymax = raster.bounds\n",
    "\n",
    "bdtopo_patch = bdtopo_guyane.cx[xmin:xmax,ymin:ymax]\n",
    "bdtopo_patch"
   ]
  },
  {
   "cell_type": "code",
   "execution_count": 34,
   "id": "10674196-1b63-4de1-a553-37261eae7164",
   "metadata": {},
   "outputs": [],
   "source": [
    "color_dict = {'Indifférenciée': 'r', 'Industriel, agricole ou commercial': 'g', 'Eglise': 'y'}"
   ]
  },
  {
   "cell_type": "code",
   "execution_count": 35,
   "id": "3a450eab-3ed6-4b17-9aee-3105964649a2",
   "metadata": {},
   "outputs": [],
   "source": [
    "bdtopo_patch[\"color\"] = bdtopo_patch[\"NATURE\"].apply(lambda x: color_dict[x])"
   ]
  },
  {
   "cell_type": "code",
   "execution_count": 37,
   "id": "acfd5694-0326-4af6-bdfc-60661b874a6c",
   "metadata": {},
   "outputs": [],
   "source": [
    "fig, ax = plt.subplots(figsize=(10, 10))\n",
    "show(\n",
    "    np.moveaxis(climNormStack(raster), -1, 0),\n",
    "    extent = [xmin, xmax, ymin, ymax],  # sans ce paramètre c'est infaisable.. cf https://stackoverflow.com/questions/61980063/python-how-to-place-a-shapefile-on-top-of-raster-file-in-one-plot-and-then-sa\n",
    "    ax=ax\n",
    ")\n",
    "\n",
    "bdtopo_patch.plot(color=bdtopo_patch[\"color\"], ax=ax)"
   ]
  },
  {
   "cell_type": "markdown",
   "id": "bdc7996d-d044-420e-be9d-831d9e7ee113",
   "metadata": {},
   "source": [
    "## Rasterisation"
   ]
  },
  {
   "cell_type": "code",
   "execution_count": 38,
   "id": "9093c504-ccaf-4ffd-a585-43edc917225a",
   "metadata": {},
   "outputs": [],
   "source": [
    "raster.shape"
   ]
  },
  {
   "cell_type": "code",
   "execution_count": 40,
   "id": "abad9b9e-cca4-4879-b5c5-f44d7acfa27e",
   "metadata": {},
   "outputs": [],
   "source": [
    "rasterized = rasterize(\n",
    "    bdtopo_patch.geometry,\n",
    "    out_shape = raster.shape,\n",
    "    fill = 0,\n",
    "    out = None,\n",
    "    transform = raster.transform,\n",
    "    all_touched = True,\n",
    "    default_value = 1,\n",
    "    dtype = None\n",
    ")\n",
    "\n",
    "# Plot raster\n",
    "fig, ax = plt.subplots(1, figsize = (5, 5))\n",
    "show(rasterized, ax = ax)\n",
    "plt.gca().invert_yaxis()"
   ]
  },
  {
   "cell_type": "markdown",
   "id": "d8724ec3-c4b6-45f4-9fe9-278011f9e369",
   "metadata": {},
   "source": [
    "On veut superposer les 2 rasters"
   ]
  },
  {
   "cell_type": "code",
   "execution_count": 41,
   "id": "a77d18a1-ef77-443e-b918-b4d631467041",
   "metadata": {},
   "outputs": [],
   "source": [
    "rasterized.shape"
   ]
  },
  {
   "cell_type": "code",
   "execution_count": 44,
   "id": "1426aff3-e9ca-4abd-8f6e-13719ec483fc",
   "metadata": {},
   "outputs": [],
   "source": [
    "fig, ax = plt.subplots(figsize=(10, 10))\n",
    "ax.imshow(rgb)\n",
    "ax.imshow(rasterized, alpha=0.3)"
   ]
  },
  {
   "cell_type": "markdown",
   "id": "80a45394-a69c-4a65-b471-d336590d8e65",
   "metadata": {},
   "source": [
    "## LIEUX-NOMMES"
   ]
  },
  {
   "cell_type": "code",
   "execution_count": 45,
   "id": "9fb6e5fc-a7f4-40d0-b66e-2f8fbf21dded",
   "metadata": {},
   "outputs": [],
   "source": [
    "bdtopo_guyane_zh  = gpd.read_file(\"BDTOPO_3-0_TOUSTHEMES_SHP_UTM22RGFG95_D973_2022-03-15/BDTOPO/1_DONNEES_LIVRAISON_2022-03-00081/BDT_3-0_SHP_UTM22RGFG95_D973-ED2022-03-15/LIEUX_NOMMES/ZONE_D_HABITATION.shp\")\n",
    "bdtopo_guyane_zh.head()"
   ]
  },
  {
   "cell_type": "code",
   "execution_count": 46,
   "id": "b6374278-6a5b-4d2a-a92f-86df9faeb734",
   "metadata": {},
   "outputs": [],
   "source": [
    "bdtopo_guyane_zh.NATURE.unique()"
   ]
  },
  {
   "cell_type": "code",
   "execution_count": 47,
   "id": "a881a701-aeba-47ae-9140-e0c143448864",
   "metadata": {},
   "outputs": [],
   "source": [
    "bdtopo_guyane_zh = bdtopo_guyane_zh[[\"NATURE\", \"DATE_CREAT\", \"DATE_MAJ\", \"geometry\"]]"
   ]
  },
  {
   "cell_type": "markdown",
   "id": "3559452d-910c-4bed-a7aa-2a2a0b7f64cd",
   "metadata": {},
   "source": [
    "## Rasterisation"
   ]
  },
  {
   "cell_type": "code",
   "execution_count": 48,
   "id": "72900441-1b02-416f-a8c5-9b94ca001dda",
   "metadata": {},
   "outputs": [],
   "source": [
    "bdtopo_guyane_zh_patch = bdtopo_guyane_zh.cx[xmin:xmax,ymin:ymax]\n",
    "bdtopo_guyane_zh_patch"
   ]
  },
  {
   "cell_type": "code",
   "execution_count": 49,
   "id": "870784f4-993a-4d22-b8cf-c2afd1e860d4",
   "metadata": {},
   "outputs": [],
   "source": [
    "color_dict = {'Lieu-dit habité': 'r', 'Quartier': 'g'}"
   ]
  },
  {
   "cell_type": "code",
   "execution_count": 50,
   "id": "33e89ceb-19c7-4d81-b771-ff997e994a12",
   "metadata": {},
   "outputs": [],
   "source": [
    "bdtopo_guyane_zh_patch[\"color\"] = bdtopo_guyane_zh_patch[\"NATURE\"].apply(lambda x: color_dict[x])"
   ]
  },
  {
   "cell_type": "code",
   "execution_count": 52,
   "id": "77216537-d208-4faa-b5c4-31c459d08d56",
   "metadata": {},
   "outputs": [],
   "source": [
    "rasterized = rasterize(\n",
    "    bdtopo_guyane_zh_patch.geometry,\n",
    "    out_shape = raster.shape,\n",
    "    fill = 0,\n",
    "    out = None,\n",
    "    transform = raster.transform,\n",
    "    all_touched = True,\n",
    "    default_value = 1,\n",
    "    dtype = None\n",
    ")\n",
    "\n",
    "# Plot raster\n",
    "fig, ax = plt.subplots(1, figsize = (5, 5))\n",
    "show(rasterized, ax = ax)\n",
    "plt.gca().invert_yaxis()"
   ]
  },
  {
   "cell_type": "markdown",
   "id": "8ad24035-cbb7-4970-971b-ef65d912fab4",
   "metadata": {},
   "source": [
    "On veut superposer les 2 rasters"
   ]
  },
  {
   "cell_type": "code",
   "execution_count": 53,
   "id": "d25a485c-9fed-43a8-9a94-381c76ff93d0",
   "metadata": {},
   "outputs": [],
   "source": [
    "fig, ax = plt.subplots(figsize=(10, 10))\n",
    "ax.imshow(rgb)\n",
    "ax.imshow(rasterized, alpha=0.3)"
   ]
  },
  {
   "cell_type": "markdown",
   "id": "c6d7501b-6c88-4b3b-8587-b3d7720961b2",
   "metadata": {},
   "source": [
    "Ok il faudrait voir ce que ça donne les \"habitats temporaires\"."
   ]
  },
  {
   "cell_type": "markdown",
   "id": "8b674cd8-5eea-4ba2-b070-8c6fc205fdf7",
   "metadata": {},
   "source": [
    "### Dates de MAJ, etc."
   ]
  },
  {
   "cell_type": "markdown",
   "id": "cc323486-daf2-4087-9bd5-3967a10bc5f7",
   "metadata": {},
   "source": [
    "Différentes dates : \n",
    "\n",
    "- DATE_CONF : La Date de confirmation peut être antérieur à la Date de création de l'objet dans la base.\n",
    "la Date de création est une date informatique.\n",
    "Lorsqu'un bâtiment est découpé en deux, il existait \"dans la réalité à une Date de confirmation T1, mais le bâtiment\n",
    "issu de la découpe a une Date de création \"informatique\" T2 > T1.\n",
    "C'est notamment le cas suite au processus d'unification des bâtiments de la BD TOPO® et du Cadastre.\n",
    "- DATE_APP : Date de création, de construction ou d'apparition de l'objet, ou date la plus ancienne à laquelle on peut\n",
    "attester de sa présence sur le terrain.\n",
    "- DATE_CREAT : Date et heure à laquelle l'objet a été saisi pour la première fois dans la base de données de production\n",
    "de l'IGN. Remarque : Il s'agit d'une date informatique. Elle n'a pas de rapport avec la date d'apparition réelle de l'objet sur le\n",
    "terrain. Une scission d'un objet linéaire entraîne une création d'objet.\n",
    "- DATE_MAJ : Date et heure à laquelle l'objet a été modifié pour la dernière fois dans la base de données de\n",
    "production. Remarque : Il s'agit d'une date informatique. Elle peut changer lors d'une intervention sur des champs non diffusés\n",
    "liés à la chaîne de production interne (commentaire non diffusé, mise à niveau...)"
   ]
  },
  {
   "cell_type": "markdown",
   "id": "d877079f-63c2-44e8-b8c5-c1f3f59544ad",
   "metadata": {},
   "source": [
    "Finalement c'est plutôt DATE_APP qui nous intéresse. Quelque soit la version de la BDTOPO qu'on utilise on peut déjà retirer tous les bâtiments avec une DATE_APP plus tardive que la date des images satellites. PB : pas de valeurs pour cette variable. La variable renseignée est DATE_CREAT."
   ]
  },
  {
   "cell_type": "code",
   "execution_count": 73,
   "id": "ad21b7ba-5014-4e55-9385-00c71d203fb8",
   "metadata": {},
   "outputs": [],
   "source": [
    "bdtopo_guyane = gpd.read_file(\"BDTOPO_3-0_TOUSTHEMES_SHP_UTM22RGFG95_D973_2022-03-15/BDTOPO/1_DONNEES_LIVRAISON_2022-03-00081/BDT_3-0_SHP_UTM22RGFG95_D973-ED2022-03-15/BATI/BATIMENT.shp\")\n",
    "bdtopo_guyane.columns"
   ]
  },
  {
   "cell_type": "code",
   "execution_count": 74,
   "id": "ce83479d-48e2-4c9d-af11-52afbd05e25b",
   "metadata": {},
   "outputs": [],
   "source": [
    "bdtopo_guyane.dtypes"
   ]
  },
  {
   "cell_type": "code",
   "execution_count": 75,
   "id": "da67aafd-4992-4ece-b1a5-45d558a19dd8",
   "metadata": {},
   "outputs": [],
   "source": [
    "bdtopo_guyane.DATE_CREAT = pd.to_datetime(bdtopo_guyane.DATE_CREAT)\n",
    "bdtopo_guyane.DATE_CREAT.head()"
   ]
  },
  {
   "cell_type": "code",
   "execution_count": 77,
   "id": "23eab316-b32c-4c12-ba3a-0a5b6516b907",
   "metadata": {},
   "outputs": [],
   "source": [
    "bdtopo_guyane['year'] = bdtopo_guyane['DATE_CREAT'].dt.year\n",
    "bdtopo_guyane['year'].unique()"
   ]
  },
  {
   "cell_type": "code",
   "execution_count": 89,
   "id": "107ee495-3413-42ae-b0a1-15cd02fa94e2",
   "metadata": {},
   "outputs": [],
   "source": [
    "import random\n",
    "\n",
    "burn_dict = {year: color for year, color in zip(\n",
    "    bdtopo_guyane['year'].unique(),\n",
    "    [i for i in range(1, 15)]\n",
    ")}\n",
    "\n",
    "bdtopo_guyane['burn_value'] = bdtopo_guyane['year'].apply(lambda x: burn_dict[x])\n",
    "bdtopo_guyane.head()"
   ]
  },
  {
   "cell_type": "code",
   "execution_count": 91,
   "id": "8e4ddd0b-8d22-4ded-8b39-5ede75853943",
   "metadata": {},
   "outputs": [],
   "source": [
    "rasterized = rasterize(\n",
    "    [(geom, burn_value) for geom, burn_value in zip(bdtopo_guyane.geometry, bdtopo_guyane.burn_value)],\n",
    "    out_shape = raster.shape,\n",
    "    fill = 0,\n",
    "    out = None,\n",
    "    transform = raster.transform,\n",
    "    all_touched = True,\n",
    "    default_value = 1,\n",
    "    dtype = None\n",
    ")\n",
    "\n",
    "# Plot raster\n",
    "fig, ax = plt.subplots(1, figsize = (5, 5))\n",
    "show(rasterized, ax = ax)\n",
    "plt.gca().invert_yaxis()"
   ]
  },
  {
   "cell_type": "markdown",
   "id": "413caa97-a315-41ae-a0ff-cc36e225c38d",
   "metadata": {},
   "source": [
    "On veut superposer les 2 rasters"
   ]
  },
  {
   "cell_type": "code",
   "execution_count": 92,
   "id": "4fca54c6-4827-447c-8b5e-a124cf65fe64",
   "metadata": {},
   "outputs": [],
   "source": [
    "fig, ax = plt.subplots(figsize=(10, 10))\n",
    "ax.imshow(rgb)\n",
    "ax.imshow(rasterized, alpha=0.3)"
   ]
  },
  {
   "cell_type": "markdown",
   "id": "0a7b7945-8502-4ae0-bd7f-4fc40527a3af",
   "metadata": {},
   "source": [
    "Il faudra déterminer quels bâtiments ne pas inclure dans les annotations"
   ]
  },
  {
   "cell_type": "markdown",
   "id": "46ffacac-3774-4878-bb94-efcfdf148d3a",
   "metadata": {},
   "source": [
    "## Bounding boxes"
   ]
  },
  {
   "cell_type": "markdown",
   "id": "777b7728-60d8-44ab-b840-fc3b3432c1ba",
   "metadata": {},
   "source": [
    "On a pour le moment soit un array 0, 1 ou 0, ..., n pour faire de la segmentation, soit des géométries mais en coordonnées GPS, il nous faudrait des géométries dans le système de coordonnées de l'array."
   ]
  },
  {
   "cell_type": "code",
   "execution_count": 94,
   "id": "2ad5b87e-649b-4495-a781-1eb73f47dd2e",
   "metadata": {},
   "outputs": [],
   "source": [
    "rasterized = rasterize(\n",
    "    bdtopo_patch.geometry,\n",
    "    out_shape = raster.shape,\n",
    "    fill = 0,\n",
    "    out = None,\n",
    "    transform = raster.transform,\n",
    "    all_touched = True,\n",
    "    default_value = 1,\n",
    "    dtype = None\n",
    ")\n",
    "rasterized.shape"
   ]
  },
  {
   "cell_type": "code",
   "execution_count": 96,
   "id": "9a4e3fa0-a590-4511-81f7-715ff01ae871",
   "metadata": {},
   "outputs": [],
   "source": [
    "shapes = list(rasterio.features.shapes(rasterized))"
   ]
  },
  {
   "cell_type": "code",
   "execution_count": 99,
   "id": "d5306275-43a2-44e7-8ac1-3296d57e2780",
   "metadata": {},
   "outputs": [],
   "source": [
    "rgb.shape"
   ]
  },
  {
   "cell_type": "code",
   "execution_count": 105,
   "id": "2bf23540-7c9d-48d9-ba8c-2a02fd418421",
   "metadata": {},
   "outputs": [],
   "source": [
    "from shapely import Polygon"
   ]
  },
  {
   "cell_type": "code",
   "execution_count": 111,
   "id": "7ddf545b-15a7-4705-8846-5a7bd861d7e5",
   "metadata": {},
   "outputs": [],
   "source": [
    "shape = shapes[0]"
   ]
  },
  {
   "cell_type": "code",
   "execution_count": 112,
   "id": "45b63537-6e51-4f20-9171-811d3bcd3ca9",
   "metadata": {},
   "outputs": [],
   "source": [
    "shape[0][\"coordinates\"]"
   ]
  },
  {
   "cell_type": "code",
   "execution_count": 113,
   "id": "e4f517ab-5367-4ed5-a77c-4da412e17887",
   "metadata": {},
   "outputs": [],
   "source": [
    "Polygon(shape[0][\"coordinates\"][0])"
   ]
  },
  {
   "cell_type": "code",
   "execution_count": 157,
   "id": "b0b913ab-7c72-438a-9727-745200b6fe35",
   "metadata": {},
   "outputs": [],
   "source": [
    "from geopandas import GeoSeries\n",
    "polygon_list = []\n",
    "for i, shape in enumerate(shapes):\n",
    "    polygon_list.append(Polygon(shape[0][\"coordinates\"][0]))\n",
    "    if i > 658:\n",
    "        break\n",
    "g = GeoSeries(polygon_list)"
   ]
  },
  {
   "cell_type": "code",
   "execution_count": 158,
   "id": "093f72a7-4455-4b87-a60f-6ffd9eaf919d",
   "metadata": {},
   "outputs": [],
   "source": [
    "len(g)"
   ]
  },
  {
   "cell_type": "code",
   "execution_count": 159,
   "id": "b491332d-15ea-4172-92b2-9486ad17f1ae",
   "metadata": {},
   "outputs": [],
   "source": [
    "bdtopo_patch.shape"
   ]
  },
  {
   "cell_type": "code",
   "execution_count": 160,
   "id": "700a07d0-b613-4e86-bb85-bb490fd7b218",
   "metadata": {},
   "outputs": [],
   "source": [
    "fig, ax = plt.subplots(figsize=(10, 10))\n",
    "ax.imshow(rgb)\n",
    "g.plot(color=\"red\", ax=ax)"
   ]
  },
  {
   "cell_type": "markdown",
   "id": "2b2f456e-d8d8-4982-8dee-186498e15e11",
   "metadata": {},
   "source": [
    "With function `clip` :"
   ]
  },
  {
   "cell_type": "code",
   "execution_count": 162,
   "id": "ca94f993-8a89-4789-b18c-718101ef2c75",
   "metadata": {},
   "outputs": [],
   "source": [
    "bdtopo_guyane  = gpd.read_file(\"BDTOPO_3-0_TOUSTHEMES_SHP_UTM22RGFG95_D973_2022-03-15/BDTOPO/1_DONNEES_LIVRAISON_2022-03-00081/BDT_3-0_SHP_UTM22RGFG95_D973-ED2022-03-15/BATI/BATIMENT.shp\")\n",
    "\n",
    "bdtopo_patch_2 = gpd.clip(bdtopo_guyane, (xmin, ymin, xmax, ymax))"
   ]
  },
  {
   "cell_type": "code",
   "execution_count": 163,
   "id": "d56b66dc-4a54-4711-8785-7329187c20f3",
   "metadata": {},
   "outputs": [],
   "source": [
    "bdtopo_patch_2.head()"
   ]
  },
  {
   "cell_type": "code",
   "execution_count": 164,
   "id": "647dc2cb-65f2-4ac8-a568-f6f0bb635027",
   "metadata": {},
   "outputs": [],
   "source": [
    "rasterized = rasterize(\n",
    "    bdtopo_patch_2.geometry,\n",
    "    out_shape = raster.shape,\n",
    "    fill = 0,\n",
    "    out = None,\n",
    "    transform = raster.transform,\n",
    "    all_touched = True,\n",
    "    default_value = 1,\n",
    "    dtype = None\n",
    ")\n",
    "rasterized.shape"
   ]
  },
  {
   "cell_type": "code",
   "execution_count": 165,
   "id": "79046092-de36-4f7d-bb5a-6e052be81369",
   "metadata": {},
   "outputs": [],
   "source": [
    "shapes = list(rasterio.features.shapes(rasterized))"
   ]
  },
  {
   "cell_type": "code",
   "execution_count": 171,
   "id": "d55bcfc0-be00-40a7-b7ce-cb90cb71e929",
   "metadata": {},
   "outputs": [],
   "source": [
    "polygon_list = []\n",
    "for i, shape in enumerate(shapes):\n",
    "    polygon_list.append(Polygon(shape[0][\"coordinates\"][0]))\n",
    "\n",
    "g = GeoSeries(polygon_list)"
   ]
  },
  {
   "cell_type": "code",
   "execution_count": 197,
   "id": "05f1a2aa-fa66-4587-9cda-3b6750e4dec9",
   "metadata": {},
   "outputs": [],
   "source": [
    "fig, ax = plt.subplots(figsize=(10, 10))\n",
    "ax.imshow(rgb)\n",
    "g[:500].plot(color=\"red\", ax=ax)"
   ]
  },
  {
   "cell_type": "markdown",
   "id": "52f92271-b56c-48d8-9bc2-dd778f96d0c9",
   "metadata": {},
   "source": [
    "Si on essaye de clip après ?"
   ]
  },
  {
   "cell_type": "code",
   "execution_count": 175,
   "id": "5c41c25e-b7d7-4276-9137-b5bf74c23ee9",
   "metadata": {},
   "outputs": [],
   "source": [
    "rasterized = rasterize(\n",
    "    bdtopo_patch.geometry,\n",
    "    out_shape = raster.shape,\n",
    "    fill = 0,\n",
    "    out = None,\n",
    "    transform = raster.transform,\n",
    "    all_touched = True,\n",
    "    default_value = 1,\n",
    "    dtype = None\n",
    ")\n",
    "rasterized.shape"
   ]
  },
  {
   "cell_type": "code",
   "execution_count": 176,
   "id": "88ce4576-79d6-4159-9603-184d2fcb773b",
   "metadata": {},
   "outputs": [],
   "source": [
    "shapes = list(rasterio.features.shapes(rasterized))"
   ]
  },
  {
   "cell_type": "code",
   "execution_count": 177,
   "id": "969c50ce-706b-44ca-a434-0fb67b21b4f1",
   "metadata": {},
   "outputs": [],
   "source": [
    "polygon_list = []\n",
    "for i, shape in enumerate(shapes):\n",
    "    polygon_list.append(Polygon(shape[0][\"coordinates\"][0]))\n",
    "        \n",
    "g = GeoSeries(polygon_list)"
   ]
  },
  {
   "cell_type": "code",
   "execution_count": 180,
   "id": "8a26133e-20a3-4143-9607-69ba9d021e0a",
   "metadata": {},
   "outputs": [],
   "source": [
    "g2 = gpd.clip(g, (0, 0, 2000, 2000))"
   ]
  },
  {
   "cell_type": "code",
   "execution_count": 196,
   "id": "a3493de6-4b0f-45df-9f59-c587469e0f0b",
   "metadata": {},
   "outputs": [],
   "source": [
    "fig, ax = plt.subplots(figsize=(10, 10))\n",
    "ax.imshow(rgb)\n",
    "g2[:330].plot(color=\"red\", ax=ax)"
   ]
  },
  {
   "cell_type": "markdown",
   "id": "3008c4c1-5be6-4891-ae72-8ef1dfa90fd1",
   "metadata": {},
   "source": [
    "Comportement étrange, on veut peut-être juste éviter les aires trop grandes ?"
   ]
  },
  {
   "cell_type": "markdown",
   "id": "f7fcaacd-37e1-406b-a321-38760b7c23d3",
   "metadata": {},
   "source": [
    "## BB à partir de polygons"
   ]
  },
  {
   "cell_type": "code",
   "execution_count": 199,
   "id": "65a2b1fa-aac3-48b2-9bf1-bb6306a6ad04",
   "metadata": {},
   "outputs": [],
   "source": [
    "g2[0].bounds"
   ]
  },
  {
   "cell_type": "markdown",
   "id": "cc1cf4cd-ae9e-4ac7-8740-c8c1cd64f6be",
   "metadata": {},
   "source": [
    "Pytorch veut exactement ce format."
   ]
  },
  {
   "cell_type": "code",
   "execution_count": null,
   "id": "a4840a8b-1909-4c13-b19f-44b127e78c55",
   "metadata": {},
   "outputs": [],
   "source": []
  }
 ],
 "metadata": {
  "kernelspec": {
   "display_name": "Python 3 (ipykernel)",
   "language": "python",
   "name": "python3"
  },
  "language_info": {
   "codemirror_mode": {
    "name": "ipython",
    "version": 3
   },
   "file_extension": ".py",
   "mimetype": "text/x-python",
   "name": "python",
   "nbconvert_exporter": "python",
   "pygments_lexer": "ipython3",
   "version": "3.10.4"
  },
  "vscode": {
   "interpreter": {
    "hash": "3fa046f995eb80ac40c0869a1f9df46519f4ada8b8c395ef25dd1aa1a1a2fc63"
   }
  }
 },
 "nbformat": 4,
 "nbformat_minor": 5
}
