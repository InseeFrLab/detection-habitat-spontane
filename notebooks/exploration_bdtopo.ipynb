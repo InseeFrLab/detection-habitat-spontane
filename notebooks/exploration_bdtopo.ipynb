{
 "cells": [
  {
   "cell_type": "markdown",
   "id": "757c1bbd-e025-4590-8fb1-30ab7236ae67",
   "metadata": {},
   "source": [
    "Librairies"
   ]
  },
  {
   "cell_type": "code",
   "execution_count": 55,
   "id": "215112fa-9fdb-4a55-be30-5eb2f65a3727",
   "metadata": {},
   "outputs": [],
   "source": [
    "import s3fs\n",
    "from pathlib import Path\n",
    "import py7zr\n",
    "import numpy as np\n",
    "import os\n",
    "import matplotlib.image as mpimg\n",
    "import matplotlib.pyplot as plt\n",
    "import geopandas as gpd\n",
    "import pandas as pd"
   ]
  },
  {
   "cell_type": "markdown",
   "id": "5870c0cc",
   "metadata": {},
   "source": [
    "## Données Pleiades"
   ]
  },
  {
   "cell_type": "markdown",
   "id": "ac0ea254-7dfc-4bc5-b72f-17956a188a9b",
   "metadata": {},
   "source": [
    "- Ce sont des images de 2000x2000 pixels à 50 cm le pixel => 1000x1000 m^2 = 1km^2\n",
    "- On en a 240 dans le fichier brut or la superficie de Cayenne est égale à 23,6 km^2\n",
    "- 4 channels RGB Infra\n",
    "- Le fichier pour Cayenne fait 2 GB"
   ]
  },
  {
   "cell_type": "markdown",
   "id": "6999d495-2910-46a1-88ed-2dc2690a3f65",
   "metadata": {},
   "source": [
    "## Rasterio \n",
    "https://geohackweek.github.io/raster/04-workingwithrasters/"
   ]
  },
  {
   "cell_type": "code",
   "execution_count": 56,
   "id": "5a16c52d-ff1b-4acb-82b0-87aafa156174",
   "metadata": {},
   "outputs": [],
   "source": [
    "import rasterio\n",
    "import rasterio.plot as rp\n",
    "from rasterio.merge import merge\n",
    "from rasterio.warp import calculate_default_transform, reproject, Resampling\n",
    "from rasterio.plot import show\n",
    "from rasterio.crs import CRS\n",
    "import matplotlib\n",
    "from rasterio.features import rasterize"
   ]
  },
  {
   "cell_type": "code",
   "execution_count": 57,
   "id": "416adbc7-0a81-441c-8ca1-03bb2647fce4",
   "metadata": {},
   "outputs": [],
   "source": [
    "im_dir = \"Cayenne_200722/16bits/ORT_2022072050325085_U22N/\"\n",
    "liste  = os.listdir(im_dir)\n",
    "list_path_image = [im_dir+l for l in liste]\n",
    "\n",
    "len(liste)"
   ]
  },
  {
   "cell_type": "code",
   "execution_count": 58,
   "id": "11ba52cb-758e-462f-90ef-e8eeef710288",
   "metadata": {},
   "outputs": [],
   "source": [
    "## Caractéristique d'une image\n",
    "filepath = list_path_image[200] \n",
    "filepath = 'Cayenne_200722/16bits/ORT_2022072050325085_U22N/ORT_2022072050325085_0353_0545_U22N_16Bits.jp2'\n",
    "# 72 et 37 bons exemples\n",
    "with rasterio.open(filepath) as raster:\n",
    "    print(raster.profile)\n",
    "    print(raster.overviews(1))\n",
    "    \n",
    "# En se servant du nom on peut faire des mosaiques en filtrant sur les chiffres"
   ]
  },
  {
   "cell_type": "code",
   "execution_count": 59,
   "id": "c0a0d140-1557-4363-88c5-574437fde7a3",
   "metadata": {},
   "outputs": [],
   "source": [
    "# The grid of raster values can be accessed as a numpy array and plotted:\n",
    "with rasterio.open(filepath) as raster:\n",
    "    oviews = raster.overviews(1) # list of overviews from biggest to smallest\n",
    "    print(oviews)\n",
    "    oview = 1 # let's look at the smallest thumbnail\n",
    "\n",
    "    # NOTE this is using a 'decimated read' (http://rasterio.readthedocs.io/en/latest/topics/resampling.html)\n",
    "    B1 = raster.read(1, out_shape=(1, int(raster.height // oview), int(raster.width // oview)))\n",
    "    B2 = raster.read(2, out_shape=(1, int(raster.height // oview), int(raster.width // oview)))\n",
    "    B3 = raster.read(3, out_shape=(1, int(raster.height // oview), int(raster.width // oview)))\n",
    "    B4 = raster.read(4, out_shape=(1, int(raster.height // oview), int(raster.width // oview)))\n",
    "\n",
    "quantile = 0.97\n",
    "B1a = rp.adjust_band(np.clip(B1,0,np.quantile(B1,quantile))) # normalisation min-max simple nécessite un clip d'abord étant donné les valeurs extremes\n",
    "B2a = rp.adjust_band(np.clip(B2,0,np.quantile(B2,quantile)))\n",
    "B3a = rp.adjust_band(np.clip(B3,0,np.quantile(B3,quantile)))\n",
    "B4a = rp.adjust_band(np.clip(B4,0,np.quantile(B4,quantile)))\n",
    "\n",
    "rgb = np.dstack((B1a,B2a,B3a))\n",
    "\n",
    "fig, ax = plt.subplots(figsize=(10, 10))\n",
    "ax.imshow(rgb)\n",
    "plt.title(\"Représentation de l'image {}\".format(filepath))\n",
    "plt.xlabel('Pixels Colonnes')\n",
    "plt.ylabel('Pixels Lignes')\n"
   ]
  },
  {
   "cell_type": "markdown",
   "id": "2255fa1d-6e93-4f5f-963e-de034bc3f02e",
   "metadata": {},
   "source": [
    "### Passage le raster à la géométrie GPS\n",
    "\n",
    "On peut transformer les données en GPS\n",
    "On peut également avoir les limites géographique de l'image\n",
    "cf ici : https://rasterio.readthedocs.io/en/latest/topics/reproject.html\n",
    "On a peut-être meilleur temps de transformer les donénes RIL dans le bon EPSG mais pour la forme déjà"
   ]
  },
  {
   "cell_type": "code",
   "execution_count": 60,
   "id": "d8e09a25-b411-46c1-826c-4b06bef35de1",
   "metadata": {},
   "outputs": [],
   "source": [
    "dst_crs = 'EPSG:4326'\n",
    "\n",
    "with rasterio.open(filepath) as src:\n",
    "    print(src.profile)\n",
    "    transform, width, height = calculate_default_transform(\n",
    "        src.crs, dst_crs, src.width, src.height, *src.bounds)\n",
    "    \n",
    "    width = height = src.width # je contrains \n",
    "    kwargs = src.meta.copy()\n",
    "    kwargs.update({\n",
    "        'crs': dst_crs,\n",
    "        'transform': transform,\n",
    "        'width': width,\n",
    "        'height': height\n",
    "    })\n",
    "    \n",
    "    with rasterio.open('tmp.tif', 'w', **kwargs) as dst: # écriture de la reprojection dans un tiff\n",
    "        for i in range(1, src.count + 1):\n",
    "            reproject(\n",
    "                source=rasterio.band(src, i),\n",
    "                destination=rasterio.band(dst, i),\n",
    "                src_transform=src.transform,\n",
    "                src_crs=src.crs,\n",
    "                dst_transform=transform,\n",
    "                dst_crs=dst_crs\n",
    "            )\n"
   ]
  },
  {
   "cell_type": "code",
   "execution_count": 61,
   "id": "49ccb51f-6be4-491a-90c6-1c25f95be634",
   "metadata": {},
   "outputs": [],
   "source": [
    "rasterwgs84 = rasterio.open('tmp.tif')\n",
    "rasterwgs84.bounds"
   ]
  },
  {
   "cell_type": "markdown",
   "id": "30095263",
   "metadata": {},
   "source": [
    "## Récupération de la BDTOPO"
   ]
  },
  {
   "cell_type": "code",
   "execution_count": 68,
   "id": "f1188925",
   "metadata": {},
   "outputs": [],
   "source": [
    "import s3fs\n",
    "import yaml\n",
    "\n",
    "with open(\"../environment.yml\", 'r') as stream:\n",
    "    environment = yaml.safe_load(stream)\n",
    "file_path = \"projet-slums-detection/Donnees/BDTOPO/\" + environment[\"sources\"][\"bdtopo\"][2022][\"guyane\"]\n",
    "\n",
    "fs = s3fs.S3FileSystem(client_kwargs={'endpoint_url': 'https://minio.lab.sspcloud.fr'})\n",
    "fs.get(file_path, \"bdtopo.7z\")\n",
    "with py7zr.SevenZipFile('bdtopo.7z', mode='r') as z:\n",
    "    z.extractall()"
   ]
  },
  {
   "cell_type": "code",
   "execution_count": 73,
   "id": "b278cb9f",
   "metadata": {},
   "outputs": [],
   "source": [
    "import geopandas as gpd\n",
    "\n",
    "bdtopo_guyane  = gpd.read_file(\"BDTOPO_3-0_TOUSTHEMES_SHP_UTM22RGFG95_D973_2022-03-15/BDTOPO/1_DONNEES_LIVRAISON_2022-03-00081/BDT_3-0_SHP_UTM22RGFG95_D973-ED2022-03-15/BATI/BATIMENT.shp\")\n",
    "bdtopo_guyane.head()"
   ]
  },
  {
   "cell_type": "code",
   "execution_count": 74,
   "id": "e1079ebf",
   "metadata": {},
   "outputs": [],
   "source": [
    "bdtopo_guyane.info()"
   ]
  },
  {
   "cell_type": "code",
   "execution_count": 75,
   "id": "71b67a63",
   "metadata": {},
   "outputs": [],
   "source": [
    "bdtopo_guyane.NATURE.unique()"
   ]
  },
  {
   "cell_type": "code",
   "execution_count": 76,
   "id": "43e3aaf1",
   "metadata": {},
   "outputs": [],
   "source": [
    "bdtopo_guyane.USAGE1.unique()"
   ]
  },
  {
   "cell_type": "code",
   "execution_count": 81,
   "id": "b229f155",
   "metadata": {},
   "outputs": [],
   "source": [
    "bdtopo_guyane.SOURCE.unique()"
   ]
  },
  {
   "cell_type": "markdown",
   "id": "876b28c9",
   "metadata": {},
   "source": [
    "Ministère en charge de la Santé et des Sports, Référentiel Géographique Guyanais sont les sources principales"
   ]
  },
  {
   "cell_type": "markdown",
   "id": "3427e904",
   "metadata": {},
   "source": [
    "Colonnes qui nous intéressent :\n",
    "- NATURE\n",
    "- USAGE1\n",
    "- DAT_CREAT\n",
    "- DAT_MAJ\n",
    "- SOURCE\n",
    "- GEOMETRY"
   ]
  },
  {
   "cell_type": "code",
   "execution_count": 86,
   "id": "d90aefc1",
   "metadata": {},
   "outputs": [],
   "source": [
    "bdtopo_guyane.columns"
   ]
  },
  {
   "cell_type": "code",
   "execution_count": 85,
   "id": "a916721b",
   "metadata": {},
   "outputs": [],
   "source": [
    "bdtopo_guyane = bdtopo_guyane[[\"NATURE\", \"USAGE1\", \"DAT_CREAT\", \"DAT_MAJ\", \"SOURCE\", \"GEOMETRY\"]]"
   ]
  },
  {
   "cell_type": "code",
   "execution_count": null,
   "id": "f1b60509",
   "metadata": {},
   "outputs": [],
   "source": []
  },
  {
   "cell_type": "code",
   "execution_count": null,
   "id": "58087bdc",
   "metadata": {},
   "outputs": [],
   "source": []
  },
  {
   "cell_type": "code",
   "execution_count": null,
   "id": "344ad8c5",
   "metadata": {},
   "outputs": [],
   "source": []
  },
  {
   "cell_type": "markdown",
   "id": "377e65b1-2a6b-4e1b-88fd-f25792e46c0f",
   "metadata": {},
   "source": [
    "## Récupération du RIL"
   ]
  },
  {
   "cell_type": "markdown",
   "id": "4f97dbaa-9a8a-41a4-a267-510261ed6a23",
   "metadata": {},
   "source": [
    "Maintenant on va vouloir se servir de la bounding box du raster.bounds pour récupérer les points RIL à l'intérieur de cette zone et voir ce que ça donne\n",
    "On récupère également le Ril de Cayenne prétransformer au format geopackage (il ne reste plus que les coordonnées dedanss) et déjà projeter en corordonnées GPS\n"
   ]
  },
  {
   "cell_type": "code",
   "execution_count": null,
   "id": "39d90238-a127-4c04-b60d-b8affe754b8c",
   "metadata": {},
   "outputs": [],
   "source": [
    "#import s3fs\n",
    "#fs = s3fs.S3FileSystem(#se connecter en allant dans connexion to storage etc.. dans onyxia)\n",
    "fs.get('projet-slums-detection/Donnees/ril_cayenne.gpkg', 'ril_cayenne.gpkg')"
   ]
  },
  {
   "cell_type": "markdown",
   "id": "4492ef2f-5c43-4a02-ab21-4a78cb2091cf",
   "metadata": {},
   "source": [
    "Pour superposer points et rasters\n",
    "https://stackoverflow.com/questions/57535504/how-to-plot-spatial-points-over-a-raster-layer-python"
   ]
  },
  {
   "cell_type": "code",
   "execution_count": null,
   "id": "6b798f62-579b-4745-8a53-72ede6c832a7",
   "metadata": {},
   "outputs": [],
   "source": [
    "ril_cayenne  = gpd.read_file(\"ril_cayenne.gpkg\")\n",
    "\n",
    "# on borne le gpd sur le patch\n",
    "xmin, ymin, xmax, ymax = rasterwgs84.bounds\n",
    "ril_patch = ril_cayenne.cx[xmin:xmax,ymin:ymax]\n",
    "\n",
    "ril_patch"
   ]
  },
  {
   "cell_type": "markdown",
   "id": "29e2ad44-d719-4323-9c0a-87f90b28e7c9",
   "metadata": {},
   "source": [
    "### Plus qu'à superposer !"
   ]
  },
  {
   "cell_type": "code",
   "execution_count": null,
   "id": "7058d09f-dbc4-4427-b0ac-b4dfbc5cc923",
   "metadata": {},
   "outputs": [],
   "source": [
    "raster_extent = [rasterwgs84.bounds[0], rasterwgs84.bounds[2], rasterwgs84.bounds[1], rasterwgs84.bounds[3]]\n",
    "\n",
    "fig, ax = plt.subplots(figsize=(10, 10))\n",
    "show(\n",
    "    np.moveaxis(climNormStack(rasterwgs84), -1, 0),\n",
    "    extent = raster_extent,  # sans ce paramètre c'est infaisable.. cf https://stackoverflow.com/questions/61980063/python-how-to-place-a-shapefile-on-top-of-raster-file-in-one-plot-and-then-sa\n",
    "    ax=ax\n",
    ")\n",
    "\n",
    "ril_patch.plot(color = \"red\",ax = ax)\n"
   ]
  },
  {
   "cell_type": "markdown",
   "id": "395d40ea-a355-4d9e-89f0-6bdd2c004f9b",
   "metadata": {
    "tags": []
   },
   "source": [
    "## Rasteriszation des points\n",
    "\n",
    "Ici je veux rasterizer les points pour produire le fameux masqure d'entrainement de même dimension que l'image\n",
    "LE processus est facilement réalisable avec la foinctiion rasterize\n",
    "https://pygis.io/docs/e_raster_rasterize.html\n",
    "\n",
    "Au passage la bible sur geopandas :\n",
    "https://geopandas.org/en/stable/docs/reference/api/geopandas.GeoDataFrame.cx.html"
   ]
  },
  {
   "cell_type": "code",
   "execution_count": null,
   "id": "008bfc81-2135-418d-b9d9-800682df4912",
   "metadata": {},
   "outputs": [],
   "source": [
    "ril_patch.geometry"
   ]
  },
  {
   "cell_type": "code",
   "execution_count": null,
   "id": "3f70cea5-d000-45eb-b3ce-21349ef0e973",
   "metadata": {},
   "outputs": [],
   "source": [
    "rasterized = rasterize(ril_patch.geometry,\n",
    "                                out_shape = rasterwgs84.shape,\n",
    "                                fill = 0,\n",
    "                                out = None,\n",
    "                                transform = rasterwgs84.transform,\n",
    "                                all_touched = True,\n",
    "                                default_value = 1,\n",
    "                                dtype = None)\n",
    "\n",
    "# Plot raster\n",
    "fig, ax = plt.subplots(1, figsize = (5, 5))\n",
    "show(rasterized, ax = ax)\n",
    "plt.gca().invert_yaxis()\n"
   ]
  },
  {
   "cell_type": "markdown",
   "id": "32a7d556-465f-4cf2-b576-fa31205823bb",
   "metadata": {},
   "source": [
    "Evidemment on ne voit rien car on a- un. petit ensemble de points sur un carré de 2000 x 2000.."
   ]
  },
  {
   "cell_type": "code",
   "execution_count": null,
   "id": "4fe4836a-2d43-48df-9f07-80badb7a4e9e",
   "metadata": {},
   "outputs": [],
   "source": [
    "rasterized.shape\n",
    "print(sum(rasterized[rasterized !=0]))\n",
    "print(len(ril_patch))"
   ]
  },
  {
   "cell_type": "markdown",
   "id": "2518cdbf-9feb-4260-a739-94a23a71fb0b",
   "metadata": {},
   "source": [
    "774 pixels passés à 1 dans le raster versus les 1483 points présents dans le patch, difficile de comprendre pour quoi\n",
    "Il est certainement plus judicieux de faire des buffer autour des  points puis de rasterizer. (le gral ce serait la parcelle cadastrale à voir plus tard)"
   ]
  },
  {
   "cell_type": "code",
   "execution_count": null,
   "id": "9517f457-718e-4106-890e-c4d08350b749",
   "metadata": {},
   "outputs": [],
   "source": [
    "ril_patch_polygon = ril_patch.copy()\n",
    "ril_patch_polygon.geometry = ril_patch_polygon.geometry.to_crs(2972).buffer(6,cap_style=3).to_crs(4326) \n",
    "# buffer de 6 m cap style 3 pour carré\n",
    "#ril_patch_polygon"
   ]
  },
  {
   "cell_type": "code",
   "execution_count": null,
   "id": "f4bdd1b6-6718-4c14-8fc1-6d340252c2d2",
   "metadata": {},
   "outputs": [],
   "source": [
    "raster_extent = [rasterwgs84.bounds[0], rasterwgs84.bounds[2], rasterwgs84.bounds[1], rasterwgs84.bounds[3]]\n",
    "\n",
    "red = rasterwgs84.read(1)\n",
    "fig, ax = plt.subplots(figsize=(10, 10))\n",
    "show(\n",
    "    np.moveaxis(climNormStack(rasterwgs84), -1, 0),\n",
    "    extent = raster_extent,  # sans ce paramètre c'est infaisable.. cf https://stackoverflow.com/questions/61980063/python-how-to-place-a-shapefile-on-top-of-raster-file-in-one-plot-and-then-sa\n",
    "    ax=ax\n",
    ")\n",
    "ril_patch_polygon.plot(color = \"red\",ax = ax)\n"
   ]
  },
  {
   "cell_type": "markdown",
   "id": "7a46bf8d-05b8-4ff6-b6b8-25d3d2c5fe4e",
   "metadata": {},
   "source": [
    "On retente la rasterization avec nos polygones "
   ]
  },
  {
   "cell_type": "code",
   "execution_count": null,
   "id": "a805b6e4-d95d-435d-b078-34ba72c670a9",
   "metadata": {},
   "outputs": [],
   "source": [
    "rasterized = rasterize(ril_patch_polygon.geometry,\n",
    "                                out_shape = rasterwgs84.shape,\n",
    "                                fill = 0,\n",
    "                                out = None,\n",
    "                                transform = rasterwgs84.transform,\n",
    "                                all_touched = True,\n",
    "                                default_value = 1,\n",
    "                                dtype = None)\n",
    "\n",
    "# Plot raster\n",
    "fig, ax = plt.subplots(1, figsize = (5, 5))\n",
    "show(rasterized, ax = ax)\n",
    "plt.gca()\n",
    "print(rasterized.shape)"
   ]
  },
  {
   "cell_type": "markdown",
   "id": "3c1c3616-bc95-4ded-b5b5-dde5336d6b3f",
   "metadata": {},
   "source": [
    "Et voilà :)"
   ]
  },
  {
   "cell_type": "markdown",
   "id": "7f5a7789-4b0d-4b78-b3ea-c06027a841a0",
   "metadata": {},
   "source": [
    "## Découpage et fusion des images "
   ]
  },
  {
   "cell_type": "markdown",
   "id": "40bc2e39-b12d-4395-a295-e0f326a10e67",
   "metadata": {},
   "source": [
    "## Création d'une mosaique"
   ]
  },
  {
   "cell_type": "markdown",
   "id": "d9fa5945-39f8-4b90-b0ae-158d1cf8de54",
   "metadata": {},
   "source": [
    "En fait il est possible de réunir un ensemble d'images raster en une seule et grosse image (pas forcément raisonnable dans notre cas) Dans un premier temps on liste l'ensemble des fichiers jp2 de la mosaïque que l'on veut créer\n",
    "\n",
    "On ne va pas metttre les 240 car c'est trop lour mais on peut récupérer une sous partie des fichiers en récupérant les affine transform de chaqsue raster"
   ]
  },
  {
   "cell_type": "markdown",
   "id": "4d1cdea6-1926-4b46-9c32-f98f00b2b8ed",
   "metadata": {},
   "source": [
    "création d'un data frame avec les file paths et lex x min y min (surelment le coin en haut à gauche)\n",
    "Pour pouvoir sé\"lectionner une sous liste de file path qui convient"
   ]
  },
  {
   "cell_type": "code",
   "execution_count": null,
   "id": "1022a90c-6361-4969-bb13-db46ba0e6ab8",
   "metadata": {},
   "outputs": [],
   "source": [
    "list_x = []\n",
    "list_y = []\n",
    "for filepath in list_path_image:\n",
    "    with rasterio.open(filepath) as raster:\n",
    "        new_x = raster.profile['transform'][5]\n",
    "        new_y = raster.profile['transform'][2]\n",
    "        list_x.append(new_x)\n",
    "        list_y.append(new_y)"
   ]
  },
  {
   "cell_type": "code",
   "execution_count": null,
   "id": "faf18a18-4249-406a-a576-9ee757c3f43d",
   "metadata": {},
   "outputs": [],
   "source": [
    "df = pd.DataFrame(list(zip(list_x,list_y,list_path_image)),\n",
    "               columns =['x', 'y','path'])\n",
    "df.sort_values(['y','x'])  # ok ça va de 1000. en 1000\n",
    "print(min(df.x)) # 534000\n",
    "print(min(df.y)) # 348000\n",
    "print(max(df.x)) # 549000\n",
    "max(df.y) # 362000\n"
   ]
  },
  {
   "cell_type": "markdown",
   "id": "f7d5e597-d50e-444c-b2f1-7168ff2191c6",
   "metadata": {},
   "source": [
    "16*15 = 240 images Ok ! On sélectionne la tranche que l'on veut ?"
   ]
  },
  {
   "cell_type": "code",
   "execution_count": null,
   "id": "1f05ff9d-0b75-4e60-9df0-f075ba837304",
   "metadata": {},
   "outputs": [],
   "source": [
    "file_to_read = df.query('x >= 543000  & x <= 545000 & y >= 350000 & y <=352000').path\n",
    "file_to_read"
   ]
  },
  {
   "cell_type": "markdown",
   "id": "dd7ad706-c215-4feb-88f6-ba01ffb97d31",
   "metadata": {},
   "source": [
    "Sympa si on veut travailler avec les expressions régulières :"
   ]
  },
  {
   "cell_type": "code",
   "execution_count": null,
   "id": "2257c9fc-8433-4e52-beda-d8cef1cff23a",
   "metadata": {},
   "outputs": [],
   "source": [
    "import glob # pour les expressions régulières\n",
    "%matplotlib inline\n",
    "\n",
    "# File and folder paths\n",
    "dirpath = \"Cayenne_200722/16bits/ORT_2022072050325085_U22N\"\n",
    "\n",
    "# Make a search criteria to select the DEM files\n",
    "search_criteria = \"*.jp2\"\n",
    "q = os.path.join(dirpath, search_criteria)\n",
    "\n",
    "#file_to_read = glob.glob(q)\n"
   ]
  },
  {
   "cell_type": "markdown",
   "id": "fc596542-25d8-4d4a-bf58-884058826fde",
   "metadata": {},
   "source": [
    "Création de la mosaïque :\n",
    "On na sélectionné le groupe d'image qu'on voulait représenter conjointement, plus qu'à le représenter\n",
    "https://automating-gis-processes.github.io/CSC/notebooks/L5/raster-mosaic.html"
   ]
  },
  {
   "cell_type": "code",
   "execution_count": null,
   "id": "1f43022b-6b1b-4c3e-95d3-da4948205ad8",
   "metadata": {},
   "outputs": [],
   "source": [
    "\n",
    "# List for the source files\n",
    "src_files_to_mosaic = []\n",
    "\n",
    "# Iterate over raster files and add them to source -list in 'read mode'\n",
    "for fp in file_to_read:\n",
    "    src = rasterio.open(fp)\n",
    "    src_files_to_mosaic.append(src)\n",
    "\n",
    "src_files_to_mosaic\n"
   ]
  },
  {
   "cell_type": "code",
   "execution_count": null,
   "id": "79e12b55-508e-40a7-8f1c-eb95b7a49d83",
   "metadata": {},
   "outputs": [],
   "source": [
    "import matplotlib.pyplot as plt\n",
    "%matplotlib inline\n",
    "\n",
    "# Create 4 plots next to each other\n",
    "fig, (ax1, ax2, ax3, ax4) = plt.subplots(ncols=4, nrows=1, figsize=(12, 4))\n",
    "\n",
    "# Plot first four files\n",
    "show(np.moveaxis(climNormStack(src_files_to_mosaic[0]), -1, 0), ax=ax1)\n",
    "show(np.moveaxis(climNormStack(src_files_to_mosaic[1]), -1, 0), ax=ax2)\n",
    "show(np.moveaxis(climNormStack(src_files_to_mosaic[2]), -1, 0), ax=ax3)\n",
    "show(np.moveaxis(climNormStack(src_files_to_mosaic[3]), -1, 0), ax=ax4)# inconsistence entre imshow et show sur l'emplacement des channels\n",
    "# Do not show y-ticks values in last three axis\n",
    "for ax in [ax1,ax2, ax3, ax4]:\n",
    "    ax.yaxis.set_visible(False)"
   ]
  },
  {
   "cell_type": "markdown",
   "id": "411f7d23-3b5c-45fd-8c4a-bdd8b10cd267",
   "metadata": {},
   "source": [
    "La fameuse fusion"
   ]
  },
  {
   "cell_type": "markdown",
   "id": "372ff635-35b7-4728-a0d4-93b81bc7e7bd",
   "metadata": {},
   "source": [
    "On représente https://gis.stackexchange.com/questions/338074/plot-rgb-using-rasterio"
   ]
  },
  {
   "cell_type": "code",
   "execution_count": null,
   "id": "b0ef0b3e-110c-44fa-9ade-a3d8f95024df",
   "metadata": {},
   "outputs": [],
   "source": [
    "mosaic, out_trans = merge(src_files_to_mosaic[1:10])\n",
    "\n",
    "b1 = clipQuant(mosaic[0],0.99) \n",
    "b2 = clipQuant(mosaic[1],0.99)\n",
    "b3 = clipQuant(mosaic[2],0.99)\n",
    "b4 = clipQuant(mosaic[3],0.99)\n",
    "\n",
    "rgb = np.dstack((b1,b2,b3))\n",
    "plt.imshow(rgb)"
   ]
  },
  {
   "cell_type": "markdown",
   "id": "dd2980e3-63c9-47d2-8e9f-ddabbdf6faaa",
   "metadata": {},
   "source": [
    "Analyse d'un patch vide"
   ]
  },
  {
   "cell_type": "code",
   "execution_count": null,
   "id": "a84a80fb-f81f-4430-859c-bf24401f6db1",
   "metadata": {},
   "outputs": [],
   "source": [
    "\n",
    "b1 = clipQuant(mosaic[0][:2000,:2000],0.99) \n",
    "b2 = clipQuant(mosaic[1][:2000,:2000],0.99)\n",
    "b3 = clipQuant(mosaic[2][:2000,:2000],0.99)\n",
    "b4 = clipQuant(mosaic[3][:2000,:2000],0.99)\n",
    "\n",
    "rgb = np.dstack((b1,b2,b3))\n",
    "plt.imshow(rgb)\n",
    "\n",
    "print(np.sum(mosaic[2][:2000,:2000]))\n",
    "# Ok patch vide.."
   ]
  },
  {
   "cell_type": "markdown",
   "id": "d8c4af43-3ef2-487b-bb42-1730f18e748a",
   "metadata": {},
   "source": [
    "## Découpage de l'image en 4 partie "
   ]
  },
  {
   "cell_type": "markdown",
   "id": "e8b54208-6f9f-4cd6-b0cd-1c08963d6a11",
   "metadata": {},
   "source": [
    "En fait chacune des images chargées est naturellement découpée en blocs de 1024 pixels \n",
    "Voir la focntion profile. Donc on va pouvoir naturellement découper nos images en 4 d'après ce qui suit :\n",
    "https://rasterio.readthedocs.io/en/latest/topics/windowed-rw.html#blocks"
   ]
  },
  {
   "cell_type": "code",
   "execution_count": null,
   "id": "f3c8311e-60de-4fb0-8247-b6fa06a44b65",
   "metadata": {},
   "outputs": [],
   "source": [
    "rasterwgs84.profile # cf clefs count and blockx size etc£.."
   ]
  },
  {
   "cell_type": "code",
   "execution_count": null,
   "id": "b2309168-1e20-47b1-8bea-8dc0bd5f1cc4",
   "metadata": {},
   "outputs": [],
   "source": [
    "for i, b in enumerate(rasterwgs84.block_shapes):\n",
    "    print(i,b)"
   ]
  },
  {
   "cell_type": "code",
   "execution_count": null,
   "id": "3b3bee29-7810-470a-977b-2a85d4911c36",
   "metadata": {},
   "outputs": [],
   "source": [
    "\n",
    "assert len(set(src.block_shapes)) == 1\n",
    "for ji, window in src.block_windows(1):\n",
    "    b, g, r = (src.read(k, window=window) for k in (1, 2, 3))\n",
    "    print((ji, r.shape, g.shape, b.shape))\n",
    "    break\n",
    "\n",
    "        "
   ]
  },
  {
   "cell_type": "markdown",
   "id": "6e30c52b-0ed5-4a9b-8059-88d1df7dd84f",
   "metadata": {},
   "source": [
    "bible matplotlib  https://matplotlib.org/stable/gallery/lines_bars_and_markers/categorical_variables.html#sphx-glr-gallery-lines-bars-and-markers-categorical-variables-py"
   ]
  },
  {
   "cell_type": "code",
   "execution_count": null,
   "id": "7cf34fe4-5157-4c69-877d-7ceef344b2cc",
   "metadata": {},
   "outputs": [],
   "source": [
    "from rasterio.windows import Window\n",
    "src = rasterwgs84\n",
    "# 1 : bande Rouge\n",
    "w_block_1 = src.read(1, window=Window(0, 0, 1000,1000)) # on donne le pixel de départ et celui d'arrivé\n",
    "w_block_2 = src.read(1, window=Window(1000, 0, 1000,1000)) \n",
    "w_block_3 = src.read(1, window=Window(0, 1000, 1000,1000)) # et la dimension spiuhaitée en nombre de pixels. \n",
    "w_block_4 = src.read(1, window=Window(1000, 1000, 1000,1000))  \n",
    "\n",
    "# on peut fairte ça juste après avoir créé le raster initial\n",
    "\n",
    "fig, (ax1, ax2)= plt.subplots(ncols=2, nrows=2, figsize=(10, 10))# sort 2 sous array dans les axes..\n",
    "ax1[0].imshow(clipQuant(w_block_1,0.95))\n",
    "ax1[1].imshow(clipQuant(w_block_2,0.95))\n",
    "ax2[0].imshow(clipQuant(w_block_3,0.95))\n",
    "ax2[1].imshow(clipQuant(w_block_4,0.95))\n"
   ]
  },
  {
   "cell_type": "markdown",
   "id": "8e87d2e3-2ed2-43e4-9e4a-7e42ee6217b7",
   "metadata": {},
   "source": [
    "Ici je fais un découpage j'ajoute les méta données du raster je save puis je testerai la superposition avec le ril pour voir si ça marche (seul les méta data sont néfessaires en théorie ?)"
   ]
  },
  {
   "cell_type": "code",
   "execution_count": null,
   "id": "e341ba5d-110e-404d-a7b6-a345a2ea982f",
   "metadata": {},
   "outputs": [],
   "source": [
    "from rasterio import windows"
   ]
  },
  {
   "cell_type": "code",
   "execution_count": null,
   "id": "49bf22ea-0584-4c12-9e8c-4e5fd9634fe9",
   "metadata": {},
   "outputs": [],
   "source": [
    "src = rasterwgs84\n",
    "\n",
    "window =windows.Window(col_off=0, row_off=0, width=1000, height=1000)\n",
    "readblock = src.read([1,2,3,4], window=window)\n",
    "readblock.shape"
   ]
  },
  {
   "cell_type": "code",
   "execution_count": null,
   "id": "e0b3b183-9244-4060-ad44-c1de40ae67f8",
   "metadata": {},
   "outputs": [],
   "source": [
    "src = rasterwgs84\n",
    "\n",
    "window =windows.Window(col_off=0, row_off=0, width=1000, height=1000)\n",
    "readblock = src.read([1,2,3,4], window=window)\n",
    "\n",
    "ras_data = src.read()\n",
    "ras_meta = src.profile\n",
    "\n",
    "transform = windows.transform(window, src.transform)\n",
    "ras_meta['transform']= transform\n",
    "ras_meta['width']=1000\n",
    "ras_meta['height']=1000\n",
    "ras_meta['tiled']=False\n",
    "ras_meta['blockxsize']= 250\n",
    "ras_meta['blockysize']= 250\n",
    "ras_meta\n",
    "\n",
    "with rasterio.open('outname.tif', 'w', **ras_meta) as dst:\n",
    "    dst.write(readblock)"
   ]
  },
  {
   "cell_type": "code",
   "execution_count": null,
   "id": "0c031676-6277-42be-b66c-0c32f256a66c",
   "metadata": {},
   "outputs": [],
   "source": [
    "src2 = rasterio.open('outname.tif')\n",
    "print(src2.profile)"
   ]
  },
  {
   "cell_type": "markdown",
   "id": "bf0a0755-abaf-4ad4-9304-6428a85715eb",
   "metadata": {},
   "source": [
    "On a bien un nouveau raster avec des nouvelles méta data plus qu'à voir si la superposition avec les points RIL marche\n",
    ". les bounding box sont bien différentes"
   ]
  },
  {
   "cell_type": "code",
   "execution_count": null,
   "id": "1af3e876-489d-4fcf-90c9-ddcea31ae548",
   "metadata": {},
   "outputs": [],
   "source": [
    "print(src.bounds)\n",
    "print(src2.bounds)"
   ]
  },
  {
   "cell_type": "markdown",
   "id": "9f48db19-c197-4f9b-bf1f-34bdd7196397",
   "metadata": {},
   "source": [
    "src 2 contient la sous partie du raster de taille 1000 (on pourra faire ça en taille 256 si besoin avec un peu de travail)"
   ]
  },
  {
   "cell_type": "code",
   "execution_count": null,
   "id": "9d72f590-87b2-4643-9818-c57086bfb486",
   "metadata": {},
   "outputs": [],
   "source": [
    "raster_extent = [src2.bounds[0], src2.bounds[2], src2.bounds[1], src2.bounds[3]]\n",
    "fig, ax = plt.subplots(figsize=(5, 5))\n",
    "show(\n",
    "    np.moveaxis(climNormStack(src2), -1, 0),\n",
    "    extent = raster_extent,  # sans ce paramètre c'est infaisable.. cf https://stackoverflow.com/questions/61980063/python-how-to-place-a-shapefile-on-top-of-raster-file-in-one-plot-and-then-sa\n",
    "    ax=ax\n",
    ")\n",
    "\n",
    "xmin, ymin, xmax, ymax = src2.bounds\n",
    "ril_patch_2 = ril_cayenne.cx[xmin:xmax,ymin:ymax]\n",
    "\n",
    "ril_patch_2.plot(color = \"red\",ax = ax)"
   ]
  },
  {
   "cell_type": "markdown",
   "id": "a2e76e4b-ed66-49b9-93d4-846655b3fa48",
   "metadata": {},
   "source": [
    "On a bien conservé l'information géométrique après découpage !!! \n",
    "On peut donc former le jeu d'entraînement tout en gardant l'info géométrique quelque part "
   ]
  },
  {
   "cell_type": "markdown",
   "id": "985833f3-09f8-4d83-aae5-611844e23192",
   "metadata": {},
   "source": [
    "## TO DO :\n",
    "\n",
    "- rasterio est confortable mais j'ai le sentilment que gdal peut permettre plus d'opérations\n",
    "- usage de gdal en ligne de commande à essayer ? https://automating-gis-processes.github.io/2016/Lesson7-gdal-utilities.html\n",
    "- Passage à l'échelle..utiliser les parcelle scadastrales pour la labellisation ?\n",
    "- faire un découpage d'image en 4 et garder les informations géographiques\n",
    "- trier les images par affine transform et en faire une mosaique ou par nom ?\n",
    "- on a aps du Ril partout malheureusement..\n",
    "- penser à des controles pour former le jeu d'entrainement : patch vide etc..\n",
    "- faire quelques fonctions génériques, pour transformer les raster en wgs 84\n",
    "- function pour superposer graphiquement les 2 , création de masque etc..\n",
    "- ultérieurement garder la méta information du raster pour savoir où on est ! donc attention dans le découpage\n",
    "- récolter les autrss images sur d'autres villes on va avoir du mal à passer à l'écvhelle \n",
    "- pendser à une architecture de chargemetn etc..\n",
    "- gdal semble plus malléable que rzsterio a étudier"
   ]
  }
 ],
 "metadata": {
  "kernelspec": {
   "display_name": "base",
   "language": "python",
   "name": "python3"
  },
  "language_info": {
   "codemirror_mode": {
    "name": "ipython",
    "version": 3
   },
   "file_extension": ".py",
   "mimetype": "text/x-python",
   "name": "python",
   "nbconvert_exporter": "python",
   "pygments_lexer": "ipython3",
   "version": "3.10.4"
  },
  "vscode": {
   "interpreter": {
    "hash": "3fa046f995eb80ac40c0869a1f9df46519f4ada8b8c395ef25dd1aa1a1a2fc63"
   }
  }
 },
 "nbformat": 4,
 "nbformat_minor": 5
}
