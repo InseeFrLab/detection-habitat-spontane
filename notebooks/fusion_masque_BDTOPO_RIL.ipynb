{
 "cells": [
  {
   "cell_type": "code",
   "execution_count": 1,
   "id": "bedb739c-1309-4027-ac6d-3a31c157cfc5",
   "metadata": {
    "tags": []
   },
   "outputs": [],
   "source": [
    "import sys\n",
    "sys.path.append('../src')\n",
    "from satellite_image import SatelliteImage\n",
    "from utils import *\n",
    "from plot_utils import *\n",
    "from mappings import *"
   ]
  },
  {
   "cell_type": "code",
   "execution_count": 2,
   "id": "2518b7d4-ab25-43b1-b650-92c75521cda8",
   "metadata": {
    "tags": []
   },
   "outputs": [],
   "source": [
    "import yaml\n",
    "import re\n",
    "import s3fs\n",
    "import numpy as np\n",
    "import matplotlib.pyplot as plt\n",
    "from PIL import Image as im\n",
    "import re\n",
    "from pyproj import Transformer\n",
    "from datetime import date"
   ]
  },
  {
   "cell_type": "code",
   "execution_count": 3,
   "id": "49d701b3-61ca-4a16-b7f6-db9fb0d41846",
   "metadata": {
    "tags": []
   },
   "outputs": [],
   "source": [
    "update_storage_access()\n",
    "\n",
    "environment = get_environment()\n",
    "\n",
    "root_path = get_root_path()\n",
    "\n",
    "bucket = environment[\"bucket\"]\n",
    "\n",
    "path_s3_pleiades_data_2022_guyane = environment[\"sources\"][\"PLEIADES\"][2022][\"guyane\"]\n",
    "path_local_pleiades_data_2022_guyane = environment[\"local-path\"][\"PLEIADES\"][2022][\"guyane\"]\n",
    "\n",
    "path_local_bdtopo_data = environment[\"local-path\"][\"BDTOPO\"][2022][\"guyane\"]\n",
    "path_s3_bdtopo_data = environment[\"sources\"][\"BDTOPO\"][2022][\"guyane\"]\n",
    "\n",
    "fs = s3fs.S3FileSystem(client_kwargs={\"endpoint_url\": \"https://minio.lab.sspcloud.fr\"})\n",
    "\n"
   ]
  },
  {
   "cell_type": "code",
   "execution_count": 4,
   "id": "27b9d1e8-3763-45eb-92b1-a0f79c9cb6c2",
   "metadata": {
    "tags": []
   },
   "outputs": [],
   "source": [
    "filename = '../data/PLEIADES/2022/GUYANE/ORT_2022072050325085_0353_0545_U22N_16Bits.jp2'\n",
    "date = datetime.strptime(re.search(r'ORT_(\\d{8})', filename).group(1), '%Y%m%d')"
   ]
  },
  {
   "cell_type": "code",
   "execution_count": 5,
   "id": "3940cd91-2e68-4437-a91f-2544d699011f",
   "metadata": {
    "tags": []
   },
   "outputs": [],
   "source": [
    "image = SatelliteImage.from_raster(\n",
    "        filename,\n",
    "        date = date, \n",
    "        n_bands = 4,\n",
    "        dep = '973'\n",
    "    )"
   ]
  },
  {
   "cell_type": "code",
   "execution_count": 6,
   "id": "99c30b3f-a1b4-4939-a367-22d9db1ea528",
   "metadata": {
    "tags": []
   },
   "outputs": [],
   "source": [
    "from labeler import RILLabeler\n",
    "from labeled_satellite_image import SegmentationLabeledSatelliteImage\n",
    "\n",
    "labeler_RIL = RILLabeler(date, '973')"
   ]
  },
  {
   "cell_type": "code",
   "execution_count": 7,
   "id": "ca93bdec-6491-4a7a-9976-24dd8ca0224f",
   "metadata": {
    "tags": []
   },
   "outputs": [],
   "source": [
    "import rasterio"
   ]
  },
  {
   "cell_type": "code",
   "execution_count": 8,
   "id": "b9966102-0020-4baf-83d1-eb71ac2d8033",
   "metadata": {
    "tags": []
   },
   "outputs": [],
   "source": [
    "mask_RIL = labeler_RIL.create_segmentation_label(image)"
   ]
  },
  {
   "cell_type": "code",
   "execution_count": 9,
   "id": "1f8d7b54-ae3b-4b2d-95eb-e27cadd0a2b1",
   "metadata": {
    "tags": []
   },
   "outputs": [],
   "source": [
    "from labeler import BDTOPOLabeler\n",
    "\n",
    "labeler_BDTOPO = BDTOPOLabeler(date, '973')"
   ]
  },
  {
   "cell_type": "code",
   "execution_count": 10,
   "id": "553710a4-ad5a-4096-bb67-25f7830017d1",
   "metadata": {
    "tags": []
   },
   "outputs": [],
   "source": [
    "mask_BDTOPO = labeler_BDTOPO.create_segmentation_label(image)"
   ]
  },
  {
   "cell_type": "code",
   "execution_count": 11,
   "id": "40c999ae-305b-4428-a80d-62169c5672c7",
   "metadata": {
    "tags": []
   },
   "outputs": [],
   "source": [
    "import geopandas as gpd\n",
    "from shapely.geometry import Polygon\n",
    "from rasterio.features import rasterize, shapes"
   ]
  },
  {
   "cell_type": "code",
   "execution_count": 27,
   "id": "71c0b465-29c4-4ea8-80b1-ca0e18ebacd2",
   "metadata": {
    "tags": []
   },
   "outputs": [],
   "source": [
    "image_height = image.array.shape[1]\n",
    "image_width = image.array.shape[2]\n",
    "polygon_list = []\n",
    "for shape in list(shapes(mask_BDTOPO)):\n",
    "    polygon = Polygon(shape[0][\"coordinates\"][0])\n",
    "    if polygon.area > 0.5 * image_height * image_width:\n",
    "        continue\n",
    "    polygon_list.append(polygon)\n",
    "    \n",
    "g_BDTOPO = gpd.GeoSeries(polygon_list)\n",
    "# Créer un GeoDataFrame à partir de la liste de Polygon\n",
    "gdf_BDTOPO = gpd.GeoDataFrame({'geometry': polygon_list})"
   ]
  },
  {
   "cell_type": "code",
   "execution_count": 29,
   "id": "125ee5d7-3a47-48e5-b34a-e462a8dec980",
   "metadata": {
    "tags": []
   },
   "outputs": [],
   "source": [
    "polygon_list = []\n",
    "for shape in list(shapes(mask_RIL)):\n",
    "    polygon = Polygon(shape[0][\"coordinates\"][0])\n",
    "    if polygon.area > 0.5 * image_height * image_width:\n",
    "        continue\n",
    "    polygon_list.append(polygon)\n",
    "    \n",
    "g_RIL = gpd.GeoSeries(polygon_list)\n",
    "# Créer un GeoDataFrame à partir de la liste de Polygon\n",
    "gdf_RIL = gpd.GeoDataFrame({'geometry': polygon_list})"
   ]
  },
  {
   "cell_type": "code",
   "execution_count": 30,
   "id": "a6ba9ce5-51d5-4499-886c-7cf5be696dae",
   "metadata": {
    "tags": []
   },
   "outputs": [],
   "source": [
    "result = gpd.sjoin(gdf_BDTOPO, gdf_RIL, op='contains')"
   ]
  },
  {
   "cell_type": "code",
   "execution_count": 31,
   "id": "41fb076c-904f-4717-85d7-13eb047137b3",
   "metadata": {
    "tags": []
   },
   "outputs": [],
   "source": [
    "# Récupérer les géométries du résultat\n",
    "geoms = result.values"
   ]
  },
  {
   "cell_type": "code",
   "execution_count": 32,
   "id": "85b12b35-93cb-4128-9ae1-215b6a3cb37d",
   "metadata": {
    "tags": []
   },
   "outputs": [],
   "source": [
    "polygon_result = []\n",
    "for i in range(len(geoms)):\n",
    "    polygon_result.append(geoms[i][0])\n",
    "    "
   ]
  },
  {
   "cell_type": "code",
   "execution_count": 33,
   "id": "90cf732c-d927-4555-9a3b-c598974e739c",
   "metadata": {
    "tags": []
   },
   "outputs": [],
   "source": [
    "len(geoms)"
   ]
  },
  {
   "cell_type": "code",
   "execution_count": 34,
   "id": "25bb09a1-2a0c-40cc-9067-7bdfe237bf7c",
   "metadata": {
    "tags": []
   },
   "outputs": [],
   "source": [
    "# Créer un GeoDataFrame à partir des géométries\n",
    "gdf_result = gpd.GeoDataFrame({'geometry': polygon_result})"
   ]
  },
  {
   "cell_type": "code",
   "execution_count": 35,
   "id": "aae55cbd-c77b-42ac-b652-a6bfb38d98e9",
   "metadata": {
    "tags": []
   },
   "outputs": [],
   "source": [
    "g_result = gpd.GeoSeries(polygon_result)"
   ]
  },
  {
   "cell_type": "code",
   "execution_count": 36,
   "id": "2b5edcd7-7716-408b-aed6-95ec80ea5cbe",
   "metadata": {
    "tags": []
   },
   "outputs": [],
   "source": [
    "clipped_g = gpd.clip(g_result, (0, 0, image_height, image_width))\n",
    "\n",
    "new_label = [polygon.bounds for polygon in clipped_g]"
   ]
  },
  {
   "cell_type": "code",
   "execution_count": 37,
   "id": "5a95ba9d-29fe-4d52-8691-4f32faa7ba69",
   "metadata": {
    "tags": []
   },
   "outputs": [],
   "source": [
    "from shapely.geometry import box\n",
    "import geopandas as gpd\n",
    "\n",
    "boxes = []\n",
    "for bounding_coordinates in new_label:\n",
    "    boxes.append(box(*bounding_coordinates))\n",
    "g = gpd.GeoSeries(boxes)"
   ]
  },
  {
   "cell_type": "code",
   "execution_count": 38,
   "id": "fe01f530-0a87-4049-a3ea-2dd6eabf03a0",
   "metadata": {
    "tags": []
   },
   "outputs": [],
   "source": [
    "image = SatelliteImage.from_raster(\n",
    "        filename,\n",
    "        date = date, \n",
    "        n_bands = 4,\n",
    "        dep = '973'\n",
    "    )\n",
    "image.normalize()"
   ]
  },
  {
   "cell_type": "code",
   "execution_count": 40,
   "id": "27c9987c-9d48-434a-a520-cdeccce03915",
   "metadata": {
    "tags": []
   },
   "outputs": [],
   "source": [
    "fig, ax = plt.subplots(figsize=(10, 10))\n",
    "ax.imshow(np.transpose(image.array, (1, 2, 0))[:,:,:3])\n",
    "g_BDTOPO.plot(color=\"red\", ax=ax)"
   ]
  }
 ],
 "metadata": {
  "kernelspec": {
   "display_name": "Python 3 (ipykernel)",
   "language": "python",
   "name": "python3"
  },
  "language_info": {
   "codemirror_mode": {
    "name": "ipython",
    "version": 3
   },
   "file_extension": ".py",
   "mimetype": "text/x-python",
   "name": "python",
   "nbconvert_exporter": "python",
   "pygments_lexer": "ipython3",
   "version": "3.10.9"
  }
 },
 "nbformat": 4,
 "nbformat_minor": 5
}
