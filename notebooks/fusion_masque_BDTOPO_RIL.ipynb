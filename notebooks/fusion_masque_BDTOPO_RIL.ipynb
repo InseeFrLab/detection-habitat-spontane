{
 "cells": [
  {
   "cell_type": "markdown",
   "id": "bf8ffdff-c4d1-4f7f-ad42-24acc4606ff4",
   "metadata": {},
   "source": [
    "# Tests pour fusionner les deux masques"
   ]
  },
  {
   "cell_type": "code",
   "execution_count": 22,
   "id": "a764048b-4703-49cb-9549-5f47cba540cf",
   "metadata": {
    "tags": []
   },
   "outputs": [],
   "source": [
    "%load_ext autoreload\n",
    "%autoreload 2"
   ]
  },
  {
   "cell_type": "code",
   "execution_count": 23,
   "id": "ce2f907b-8d76-4994-9ab9-22939e4fc4c4",
   "metadata": {
    "tags": []
   },
   "outputs": [],
   "source": [
    "%reload_ext autoreload"
   ]
  },
  {
   "cell_type": "code",
   "execution_count": 3,
   "id": "9ebd27f3-a40c-436c-adb0-b8a19c4feaab",
   "metadata": {
    "tags": []
   },
   "outputs": [],
   "source": [
    "! pip install rasterio  -q -q -q\n",
    "! pip install geopandas -q -q -q\n",
    "! pip install matplotlib -q -q -q\n",
    "! pip install pyarrow"
   ]
  },
  {
   "cell_type": "code",
   "execution_count": 4,
   "id": "bedb739c-1309-4027-ac6d-3a31c157cfc5",
   "metadata": {
    "tags": []
   },
   "outputs": [],
   "source": [
    "import sys\n",
    "sys.path.append('../src')\n",
    "from satellite_image import SatelliteImage\n",
    "from utils import *\n",
    "from plot_utils import *\n",
    "from mappings import *"
   ]
  },
  {
   "cell_type": "code",
   "execution_count": 5,
   "id": "2518b7d4-ab25-43b1-b650-92c75521cda8",
   "metadata": {
    "tags": []
   },
   "outputs": [],
   "source": [
    "import yaml\n",
    "import re\n",
    "import s3fs\n",
    "import numpy as np\n",
    "import matplotlib.pyplot as plt\n",
    "from PIL import Image as im\n",
    "import re\n",
    "from pyproj import Transformer\n",
    "from datetime import date"
   ]
  },
  {
   "cell_type": "code",
   "execution_count": 6,
   "id": "49d701b3-61ca-4a16-b7f6-db9fb0d41846",
   "metadata": {
    "tags": []
   },
   "outputs": [],
   "source": [
    "update_storage_access()\n",
    "\n",
    "environment = get_environment()\n",
    "\n",
    "root_path = get_root_path()\n",
    "\n",
    "bucket = environment[\"bucket\"]\n",
    "\n",
    "path_s3_pleiades_data_2022_guyane = environment[\"sources\"][\"PLEIADES\"][2022][\"guyane\"]\n",
    "path_local_pleiades_data_2022_guyane = environment[\"local-path\"][\"PLEIADES\"][2022][\"guyane\"]\n",
    "\n",
    "path_local_bdtopo_data = environment[\"local-path\"][\"BDTOPO\"][2022][\"guyane\"]\n",
    "path_s3_bdtopo_data = environment[\"sources\"][\"BDTOPO\"][2022][\"guyane\"]\n",
    "\n",
    "fs = s3fs.S3FileSystem(client_kwargs={\"endpoint_url\": \"https://minio.lab.sspcloud.fr\"})\n",
    "\n"
   ]
  },
  {
   "cell_type": "code",
   "execution_count": 7,
   "id": "ef686e59-c51f-4926-9496-7a8dac4b2f43",
   "metadata": {
    "tags": []
   },
   "outputs": [],
   "source": [
    "fs.download(\n",
    "        rpath=f\"{bucket}/{path_s3_pleiades_data_2022_guyane}\",\n",
    "        lpath=f\"../{path_local_pleiades_data_2022_guyane}\",\n",
    "        recursive=True)\n",
    "\n",
    "fs.download(\n",
    "        rpath=f\"{bucket}/{path_s3_bdtopo_data}\",\n",
    "        lpath=f\"../{path_local_bdtopo_data}\",\n",
    "        recursive=True\n",
    ")\n"
   ]
  },
  {
   "cell_type": "code",
   "execution_count": 8,
   "id": "27b9d1e8-3763-45eb-92b1-a0f79c9cb6c2",
   "metadata": {
    "tags": []
   },
   "outputs": [],
   "source": [
    "filename = '../data/PLEIADES/2022/GUYANE/ORT_2022072050325085_0353_0545_U22N_16Bits.jp2'\n",
    "date = datetime.strptime(re.search(r'ORT_(\\d{8})', filename).group(1), '%Y%m%d')"
   ]
  },
  {
   "cell_type": "code",
   "execution_count": 9,
   "id": "3940cd91-2e68-4437-a91f-2544d699011f",
   "metadata": {
    "tags": []
   },
   "outputs": [],
   "source": [
    "image = SatelliteImage.from_raster(\n",
    "        filename,\n",
    "        date = date, \n",
    "        n_bands = 4,\n",
    "        dep = '973'\n",
    "    )\n",
    "image.normalize()"
   ]
  },
  {
   "cell_type": "code",
   "execution_count": 10,
   "id": "99c30b3f-a1b4-4939-a367-22d9db1ea528",
   "metadata": {
    "tags": []
   },
   "outputs": [],
   "source": [
    "from labeler import RILLabeler\n",
    "from labeled_satellite_image import SegmentationLabeledSatelliteImage\n",
    "\n",
    "labeler_RIL = RILLabeler(date, '973')"
   ]
  },
  {
   "cell_type": "code",
   "execution_count": 10,
   "id": "ca93bdec-6491-4a7a-9976-24dd8ca0224f",
   "metadata": {
    "tags": []
   },
   "outputs": [],
   "source": [
    "import rasterio"
   ]
  },
  {
   "cell_type": "code",
   "execution_count": 11,
   "id": "b9966102-0020-4baf-83d1-eb71ac2d8033",
   "metadata": {
    "tags": []
   },
   "outputs": [],
   "source": [
    "mask_RIL = labeler_RIL.create_segmentation_label(image)"
   ]
  },
  {
   "cell_type": "code",
   "execution_count": 84,
   "id": "1f8d7b54-ae3b-4b2d-95eb-e27cadd0a2b1",
   "metadata": {
    "tags": []
   },
   "outputs": [],
   "source": [
    "from labeler import BDTOPOLabeler\n",
    "labeler_BDTOPO = BDTOPOLabeler(date, '973')"
   ]
  },
  {
   "cell_type": "code",
   "execution_count": 13,
   "id": "553710a4-ad5a-4096-bb67-25f7830017d1",
   "metadata": {
    "tags": []
   },
   "outputs": [],
   "source": [
    "mask_BDTOPO = labeler_BDTOPO.create_segmentation_label(image)"
   ]
  },
  {
   "cell_type": "code",
   "execution_count": 14,
   "id": "40c999ae-305b-4428-a80d-62169c5672c7",
   "metadata": {
    "tags": []
   },
   "outputs": [],
   "source": [
    "import geopandas as gpd\n",
    "from shapely.geometry import Polygon\n",
    "from rasterio.features import rasterize, shapes"
   ]
  },
  {
   "cell_type": "code",
   "execution_count": null,
   "id": "c4db8683-3968-4210-8a60-b63195bec39e",
   "metadata": {},
   "outputs": [],
   "source": [
    "image_height = image.array.shape[1]\n",
    "image_width = image.array.shape[2]\n",
    "polygon_list = []\n",
    "for shape in list(shapes(mask_BDTOPO)):\n",
    "    polygon = Polygon(shape[0][\"coordinates\"][0])\n",
    "    if polygon.area > 0.85 * image_height * image_width:\n",
    "        continue\n",
    "    polygon_list.append(polygon)\n",
    "    \n",
    "# Créer un GeoSeries à partir de la liste de polygons\n",
    "gdf_BDTOPO = gpd.GeoDataFrame(geometry = gpd.GeoSeries(polygon_list))"
   ]
  },
  {
   "cell_type": "code",
   "execution_count": 41,
   "id": "125ee5d7-3a47-48e5-b34a-e462a8dec980",
   "metadata": {
    "tags": []
   },
   "outputs": [],
   "source": [
    "polygon_list = []\n",
    "for shape in list(shapes(mask_RIL)):\n",
    "    polygon = Polygon(shape[0][\"coordinates\"][0])\n",
    "    if polygon.area > 0.85 * image_height * image_width:\n",
    "        continue\n",
    "    polygon_list.append(polygon)\n",
    " \n",
    "# Créer un GeoSeries à partir de la liste de polygons\n",
    "gdf_RIL = gpd.GeoDataFrame(geometry = gpd.GeoSeries(polygon_list))"
   ]
  },
  {
   "cell_type": "code",
   "execution_count": null,
   "id": "06d496a1-c1e2-4b44-80cf-2568ac1f16f1",
   "metadata": {},
   "outputs": [],
   "source": [
    "result = gpd.sjoin(gdf_BDTOPO, gdf_RIL,how=\"inner\",predicate = \"intersects\")"
   ]
  },
  {
   "cell_type": "code",
   "execution_count": 48,
   "id": "7c834743-ef46-43c7-9877-4c521717953c",
   "metadata": {
    "tags": []
   },
   "outputs": [],
   "source": [
    "results = result.drop_duplicates(subset='geometry')"
   ]
  },
  {
   "cell_type": "code",
   "execution_count": 56,
   "id": "53176ae4-9a6a-40fd-b6b7-0895520df281",
   "metadata": {
    "tags": []
   },
   "outputs": [],
   "source": [
    "g_result = results.geometry"
   ]
  },
  {
   "cell_type": "code",
   "execution_count": 57,
   "id": "27c9987c-9d48-434a-a520-cdeccce03915",
   "metadata": {
    "tags": []
   },
   "outputs": [],
   "source": [
    "fig, ax = plt.subplots(figsize=(10, 10))\n",
    "ax.imshow(np.transpose(image.array, (1, 2, 0))[:,:,:3])\n",
    "g_result.plot(color = \"orange\", ax=ax, alpha=0.3)"
   ]
  },
  {
   "cell_type": "code",
   "execution_count": 58,
   "id": "9969fcf0-ed7a-4f55-9412-060a9b510542",
   "metadata": {
    "tags": []
   },
   "outputs": [],
   "source": [
    "xmin, ymin, xmax, ymax = image.bounds"
   ]
  },
  {
   "cell_type": "code",
   "execution_count": 59,
   "id": "6dfca252-8c48-44d7-9338-8949ed6fec28",
   "metadata": {
    "tags": []
   },
   "outputs": [],
   "source": [
    "patch = labeler_BDTOPO.labeling_data.cx[xmin:xmax, ymin:ymax].copy()    "
   ]
  },
  {
   "cell_type": "code",
   "execution_count": 65,
   "id": "af82d702-5505-4385-978f-feb15f652441",
   "metadata": {
    "tags": []
   },
   "outputs": [],
   "source": [
    "gdf_result['geometry_withoutZ'] = gdf_result.geometry.copy()"
   ]
  },
  {
   "cell_type": "markdown",
   "id": "9a8a1476-ea1d-4d1c-8190-4ef019758a96",
   "metadata": {},
   "source": [
    "enlevons le Z pour faire le merge"
   ]
  },
  {
   "cell_type": "code",
   "execution_count": null,
   "id": "52170bbf-b90a-4fc4-819f-ecbfa2f80d34",
   "metadata": {},
   "outputs": [],
   "source": [
    "patch['geometry']\n",
    "patch['geometry_withoutZ']"
   ]
  },
  {
   "cell_type": "code",
   "execution_count": 61,
   "id": "6c55a860-ec91-4dfa-801d-992de96f00e0",
   "metadata": {
    "tags": []
   },
   "outputs": [],
   "source": [
    "#fonction 1\n",
    "\n",
    "# Définir une fonction pour enlever la coordonnée Z\n",
    "def remove_z(coord):\n",
    "    return (coord[0],coord[1])\n",
    "\n",
    "# Appliquer la fonction à chaque polygone\n",
    "patch['geometry_withoutZ'] = patch['geometry'].apply(lambda x: Polygon([remove_z(coord) for coord in x.exterior.coords]))\n"
   ]
  },
  {
   "cell_type": "code",
   "execution_count": 239,
   "id": "ad865aec-aa1b-4f22-a06b-ebff8a61702f",
   "metadata": {
    "tags": []
   },
   "outputs": [],
   "source": [
    "#fonction 2\n",
    "\n",
    "from shapely.geometry import Polygon\n",
    "\n",
    "# Fonction pour enlever la composante Z d'un polygon 3D\n",
    "def remove_z(polygon):\n",
    "    exterior_coords = [(x, y) for x, y, z in polygon.exterior.coords]\n",
    "    interior_coords = []\n",
    "    for interior in polygon.interiors:\n",
    "        interior_coords.append([(x, y) for x, y, z in interior.coords])\n",
    "    return Polygon(exterior_coords, interior_coords)\n",
    "\n",
    "# Appliquer la fonction à la colonne de géométrie du GeoDataFrame\n",
    "patch['geometry_withoutZ'] = patch['geometry'].apply(remove_z)"
   ]
  },
  {
   "cell_type": "markdown",
   "id": "5173eff4-da42-49a9-9e7b-1767a53b9fcc",
   "metadata": {},
   "source": [
    "le merge ne marche avec aucune des fonctions... il ne manque plus que ca pour avoir le masque..."
   ]
  },
  {
   "cell_type": "code",
   "execution_count": 241,
   "id": "47d6634b-eaea-4710-b45f-d15b71621232",
   "metadata": {
    "tags": []
   },
   "outputs": [],
   "source": [
    "merged_gdf = patch.merge(gdf_result, on='geometry_withoutZ')"
   ]
  },
  {
   "cell_type": "code",
   "execution_count": 206,
   "id": "6f873516-5475-4af9-bc5f-ff37c6798d9c",
   "metadata": {
    "tags": []
   },
   "outputs": [],
   "source": [
    "new_masque = rasterize(\n",
    "                merged_gdf.geometry,\n",
    "                out_shape=image.array.shape[1:],\n",
    "                fill=0,\n",
    "                out=None,\n",
    "                transform=image.transform,\n",
    "                all_touched=True,\n",
    "                default_value=1,\n",
    "                dtype=None,\n",
    "                 )"
   ]
  },
  {
   "cell_type": "code",
   "execution_count": 207,
   "id": "bfebb96f-bed7-4a4e-b169-af9c5ef014c3",
   "metadata": {
    "tags": []
   },
   "outputs": [],
   "source": [
    "fig, ax = plt.subplots(figsize=(10, 10))\n",
    "ax.imshow(np.transpose(image.array, (1, 2, 0))[:,:,:3])\n",
    "ax.imshow(new_masque, alpha=0.3)"
   ]
  },
  {
   "cell_type": "markdown",
   "id": "62ff1215-21c6-4fcc-a5a8-235792729c46",
   "metadata": {},
   "source": [
    "### Codage de la fonction creer segementation mask pour RIL BDTOPO labeler"
   ]
  },
  {
   "cell_type": "code",
   "execution_count": 11,
   "id": "36ad6f2c-bd1c-49a3-823e-a2d528d1f161",
   "metadata": {
    "tags": []
   },
   "outputs": [],
   "source": [
    "import datetime"
   ]
  },
  {
   "cell_type": "code",
   "execution_count": 19,
   "id": "a9bcc24b-4fcd-4882-bcd7-d0f4e5d845d7",
   "metadata": {
    "tags": []
   },
   "outputs": [],
   "source": [
    "from rasterio.features import rasterize, shapes"
   ]
  },
  {
   "cell_type": "code",
   "execution_count": 13,
   "id": "a35290cf-339b-4a0e-9516-f2098a105fb2",
   "metadata": {
    "tags": []
   },
   "outputs": [],
   "source": [
    "dep =\"973\"\n",
    "image = image\n",
    "\n",
    "extract_bdtopo = load_bdtopo(str(image.date.year),image.dep)\n",
    "extract_ril = load_ril(str(image.date.year),image.dep)\n",
    "\n"
   ]
  },
  {
   "cell_type": "code",
   "execution_count": 20,
   "id": "1f6449fd-0186-4424-9949-c276af2389cf",
   "metadata": {
    "tags": []
   },
   "outputs": [],
   "source": [
    "xmin, ymin, xmax, ymax = image.bounds\n",
    "patch_ril = extract_ril.cx[xmin:xmax, ymin:ymax].copy()\n",
    "patch_bdtopo = extract_bdtopo.cx[xmin:xmax, ymin:ymax].copy()\n",
    "\n",
    "patch = gpd.sjoin(patch_bdtopo, patch_ril,how=\"inner\",predicate = \"intersects\")\n",
    "\n",
    "patch.drop_duplicates(subset='geometry')\n",
    "\n",
    "if patch.empty:\n",
    "            rasterized = np.zeros(\n",
    "                satellite_image.array.shape[1:], dtype=np.uint8\n",
    "            )\n",
    "else:\n",
    "            rasterized = rasterize(\n",
    "                patch.geometry,\n",
    "                out_shape=image.array.shape[1:],\n",
    "                fill=0,\n",
    "                out=None,\n",
    "                transform=image.transform,\n",
    "                all_touched=True,\n",
    "                default_value=1,\n",
    "                dtype=None,\n",
    "            )\n",
    "            \n"
   ]
  },
  {
   "cell_type": "code",
   "execution_count": 21,
   "id": "c252d8ff-87e9-4dfd-a88e-823f324d3767",
   "metadata": {
    "tags": []
   },
   "outputs": [],
   "source": [
    "fig, ax = plt.subplots(figsize=(10, 10))\n",
    "ax.imshow(np.transpose(image.array, (1, 2, 0))[:,:,:3])\n",
    "ax.imshow(rasterized, alpha=0.3)"
   ]
  }
 ],
 "metadata": {
  "kernelspec": {
   "display_name": "Python 3 (ipykernel)",
   "language": "python",
   "name": "python3"
  },
  "language_info": {
   "codemirror_mode": {
    "name": "ipython",
    "version": 3
   },
   "file_extension": ".py",
   "mimetype": "text/x-python",
   "name": "python",
   "nbconvert_exporter": "python",
   "pygments_lexer": "ipython3",
   "version": "3.10.9"
  }
 },
 "nbformat": 4,
 "nbformat_minor": 5
}
