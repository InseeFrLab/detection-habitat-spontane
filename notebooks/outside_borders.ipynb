{
 "cells": [
  {
   "cell_type": "code",
   "execution_count": null,
   "metadata": {},
   "outputs": [],
   "source": [
    "import sys\n",
    "sys.path.append(\"../src/\")"
   ]
  },
  {
   "cell_type": "code",
   "execution_count": null,
   "metadata": {},
   "outputs": [],
   "source": [
    "import s3fs\n",
    "\n",
    "fs = s3fs.S3FileSystem(client_kwargs={'endpoint_url': 'https://'+'minio.lab.sspcloud.fr'})"
   ]
  },
  {
   "cell_type": "code",
   "execution_count": null,
   "metadata": {},
   "outputs": [],
   "source": [
    "fs.ls(\"projet-slums-detection/Donnees/ADMINEXPRESS/guadeloupe/1_DONNEES_LIVRAISON_2023-09-21/ADE_3-2_SHP_RGAF09UTM20_GLP\")"
   ]
  },
  {
   "cell_type": "code",
   "execution_count": null,
   "metadata": {},
   "outputs": [],
   "source": [
    "import geopandas as gpd\n",
    "\n",
    "region_border = gpd.read_file(\"s3://projet-slums-detection/Donnees/ADMINEXPRESS/guadeloupe/1_DONNEES_LIVRAISON_2023-09-21/ADE_3-2_SHP_RGAF09UTM20_GLP/REGION.shp\")"
   ]
  },
  {
   "cell_type": "code",
   "execution_count": null,
   "metadata": {},
   "outputs": [],
   "source": [
    "region_border.geometry.plot()"
   ]
  },
  {
   "cell_type": "code",
   "execution_count": null,
   "metadata": {},
   "outputs": [],
   "source": [
    "from pathlib import Path\n",
    "import re\n",
    "\n",
    "def dep_from_train_path(path: str):\n",
    "    \"\"\"\n",
    "    Get and return dep from train image path.\n",
    "\n",
    "    Args:\n",
    "        path (str): Path of train image.\n",
    "    Return:\n",
    "        str: Département.\n",
    "    \"\"\"\n",
    "    file_name = Path(path).parent.parent.name\n",
    "    pattern = r\"^.*-(97[0-9]{1})\"\n",
    "\n",
    "    # Use re.match to find the match at the beginning of the string\n",
    "    match = re.match(pattern, file_name)\n",
    "\n",
    "    if match:\n",
    "        dep = match.group(1)\n",
    "        if dep not in [\n",
    "            \"971\",\n",
    "            \"973\",\n",
    "            \"972\",\n",
    "            \"976\",\n",
    "            \"974\",\n",
    "            \"977\",\n",
    "            \"978\",\n",
    "        ]:\n",
    "            raise ValueError(f\"Département {dep} not valid.\")\n",
    "    else:\n",
    "        raise ValueError(\"Département not found in path.\")\n",
    "    return dep"
   ]
  },
  {
   "cell_type": "code",
   "execution_count": null,
   "metadata": {},
   "outputs": [],
   "source": [
    "# Get a few satellite images\n",
    "paths = [\n",
    "    \"/home/onyxia/work/train_data2-segmentation-PLEIADES-BDTOPO-segmentation-976-2022/images/ORT_976_2022_0504_8602_U38S_8Bits_0000.jp2\",\n",
    "    \"/home/onyxia/work/train_data2-segmentation-PLEIADES-BDTOPO-segmentation-976-2022/images/ORT_976_2022_0505_8595_U38S_8Bits_0000.jp2\",\n",
    "    \"/home/onyxia/work/train_data2-segmentation-PLEIADES-BDTOPO-segmentation-976-2022/images/ORT_976_2022_0505_8595_U38S_8Bits_0001.jp2\",\n",
    "]\n",
    "dep_from_train_path(paths[0])"
   ]
  },
  {
   "cell_type": "code",
   "execution_count": null,
   "metadata": {},
   "outputs": [],
   "source": [
    "from classes.data.satellite_image import SatelliteImage"
   ]
  },
  {
   "cell_type": "code",
   "execution_count": null,
   "metadata": {},
   "outputs": [],
   "source": [
    "file_path = paths[0]\n",
    "dep = dep_from_train_path(paths[0])\n",
    "\n",
    "img = SatelliteImage.from_raster(file_path=file_path, dep=dep, date=None, n_bands=3)"
   ]
  },
  {
   "cell_type": "code",
   "execution_count": null,
   "metadata": {},
   "outputs": [],
   "source": [
    "guadeloupe_border = gpd.read_file(\"s3://projet-slums-detection/Donnees/ADMINEXPRESS/guadeloupe/1_DONNEES_LIVRAISON_2023-09-21/ADE_3-2_SHP_RGAF09UTM20_GLP/REGION.shp\")\n",
    "martinique_border = gpd.read_file(\"s3://projet-slums-detection/Donnees/ADMINEXPRESS/martinique/1_DONNEES_LIVRAISON_2023-09-21/ADE_3-2_SHP_RGAF09UTM20_MTQ/REGION.shp\")\n",
    "guyane_border = gpd.read_file(\"s3://projet-slums-detection/Donnees/ADMINEXPRESS/guyane/1_DONNEES_LIVRAISON_2023-09-21/ADE_3-2_SHP_UTM22RGFG95_GUF/REGION.shp\")\n",
    "mayotte_border = gpd.read_file(\"s3://projet-slums-detection/Donnees/ADMINEXPRESS/mayotte/1_DONNEES_LIVRAISON_2023-09-21/ADE_3-2_SHP_RGM04UTM38S_MYT/REGION.shp\")\n",
    "\n",
    "region_borders = {\n",
    "    \"971\": guadeloupe_border,\n",
    "    \"972\": martinique_border,\n",
    "    \"973\": guyane_border,\n",
    "    \"976\": mayotte_border\n",
    "}"
   ]
  },
  {
   "cell_type": "code",
   "execution_count": null,
   "metadata": {},
   "outputs": [],
   "source": [
    "from shapely.geometry import box"
   ]
  },
  {
   "cell_type": "code",
   "execution_count": null,
   "metadata": {},
   "outputs": [],
   "source": [
    "def is_within_borders(satellite_image: SatelliteImage, area_rate: float = 0.2):\n",
    "    dep = satellite_image.dep\n",
    "    try:\n",
    "        border = region_borders[dep]\n",
    "    except ValueError:\n",
    "        raise ValueError(f\"Département {dep} does not have registered borders.\")\n",
    "    bounds = satellite_image.bounds\n",
    "    geom = box(*bounds)\n",
    "\n",
    "    intersection_area = geom.intersection(border.geometry).area[0]\n",
    "    return intersection_area / geom.area > area_rate"
   ]
  },
  {
   "cell_type": "code",
   "execution_count": null,
   "metadata": {},
   "outputs": [],
   "source": [
    "is_within_borders(img)"
   ]
  },
  {
   "cell_type": "code",
   "execution_count": null,
   "metadata": {},
   "outputs": [],
   "source": [
    "img.plot(bands_indices=[0, 1, 2])"
   ]
  },
  {
   "cell_type": "code",
   "execution_count": null,
   "metadata": {},
   "outputs": [],
   "source": [
    "idx = 2"
   ]
  },
  {
   "cell_type": "code",
   "execution_count": null,
   "metadata": {},
   "outputs": [],
   "source": [
    "file_path = paths[idx]\n",
    "dep = dep_from_train_path(paths[idx])\n",
    "\n",
    "img = SatelliteImage.from_raster(file_path=file_path, dep=dep, date=None, n_bands=3)"
   ]
  },
  {
   "cell_type": "code",
   "execution_count": null,
   "metadata": {},
   "outputs": [],
   "source": [
    "is_within_borders(img)"
   ]
  },
  {
   "cell_type": "code",
   "execution_count": null,
   "metadata": {},
   "outputs": [],
   "source": [
    "img.plot(bands_indices=[0, 1, 2])"
   ]
  },
  {
   "cell_type": "code",
   "execution_count": null,
   "metadata": {},
   "outputs": [],
   "source": [
    "import os"
   ]
  },
  {
   "cell_type": "code",
   "execution_count": null,
   "metadata": {},
   "outputs": [],
   "source": [
    "directory = \"/home/onyxia/work/train_data2-segmentation-PLEIADES-BDTOPO-segmentation-976-2022/images/\"\n",
    "\n",
    "for idx in range(len(os.listdir(directory))):\n",
    "    file_path = directory + os.listdir(directory)[idx]\n",
    "    dep = dep_from_train_path(file_path)\n",
    "    img = SatelliteImage.from_raster(file_path=file_path, dep=dep, date=None, n_bands=3)\n",
    "    if not is_within_borders(img):\n",
    "        print(idx)\n",
    "        break"
   ]
  },
  {
   "cell_type": "code",
   "execution_count": null,
   "metadata": {},
   "outputs": [],
   "source": [
    "img.plot(bands_indices=[0, 1, 2])"
   ]
  }
 ],
 "metadata": {
  "kernelspec": {
   "display_name": "Python 3 (ipykernel)",
   "language": "python",
   "name": "python3"
  },
  "language_info": {
   "codemirror_mode": {
    "name": "ipython",
    "version": 3
   },
   "file_extension": ".py",
   "mimetype": "text/x-python",
   "name": "python",
   "nbconvert_exporter": "python",
   "pygments_lexer": "ipython3",
   "version": "3.11.4"
  }
 },
 "nbformat": 4,
 "nbformat_minor": 4
}
