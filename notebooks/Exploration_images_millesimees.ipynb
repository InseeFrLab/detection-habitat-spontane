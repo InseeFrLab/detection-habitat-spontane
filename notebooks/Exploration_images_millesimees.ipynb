{
 "cells": [
  {
   "cell_type": "code",
   "execution_count": 2,
   "id": "94f6a2eb-2c5b-4f7b-bd23-6e0c96a62ded",
   "metadata": {
    "tags": []
   },
   "outputs": [],
   "source": [
    "import sys\n",
    "sys.path.append('../src')\n",
    "from utils.satellite_image import SatelliteImage\n",
    "from utils.utils import *\n",
    "from utils.plot_utils import *\n",
    "\n",
    "import yaml\n",
    "import re\n",
    "import s3fs\n",
    "import numpy as np\n",
    "import matplotlib.pyplot as plt\n",
    "#import cv2\n",
    "from PIL import Image as im\n",
    "\n",
    "from datetime import date\n",
    "import re\n",
    "import pyproj\n",
    "from pyproj import Transformer\n"
   ]
  },
  {
   "cell_type": "code",
   "execution_count": 14,
   "id": "15fec1fd-765f-4942-ad38-101227bd0970",
   "metadata": {
    "tags": []
   },
   "outputs": [],
   "source": [
    "update_storage_access()\n",
    "environment = get_environment()\n",
    "\n",
    "root_path = get_root_path()\n",
    "bucket = environment[\"bucket\"]\n",
    "\n",
    "bucket = environment[\"bucket\"]\n",
    "\n",
    "path_s3_pleiades_data_2017_mayotte = environment[\"sources\"][\"PLEIADES\"][2017][\"mayotte\"]\n",
    "path_s3_pleiades_data_2019_mayotte = environment[\"sources\"][\"PLEIADES\"][2019][\"mayotte\"]\n",
    "path_s3_pleiades_data_2022_mayotte = environment[\"sources\"][\"PLEIADES\"][2022][\"mayotte\"]\n",
    "\n",
    "path_local_pleiades_data_2017_mayotte = environment[\"local-path\"][\"PLEIADES\"][2017][\"mayotte\"]\n",
    "path_local_pleiades_data_2019_mayotte = environment[\"local-path\"][\"PLEIADES\"][2019][\"mayotte\"]\n",
    "path_local_pleiades_data_2022_mayotte = environment[\"local-path\"][\"PLEIADES\"][2022][\"mayotte\"]\n",
    "\n",
    "\n",
    "fs = s3fs.S3FileSystem(client_kwargs={\"endpoint_url\": \"https://minio.lab.sspcloud.fr\"})"
   ]
  },
  {
   "cell_type": "code",
   "execution_count": 15,
   "id": "c0f5e4e7-c9fc-4b1d-9881-f29be145a481",
   "metadata": {
    "tags": []
   },
   "outputs": [],
   "source": [
    "# DL PLEIADE martinique 2017\n",
    "fs.download(\n",
    "        rpath=f\"{bucket}/{path_s3_pleiades_data_2017_mayotte}\",\n",
    "        lpath=f\"../{path_local_pleiades_data_2017_mayotte}\",\n",
    "        recursive=True)\n",
    "\n",
    "# DL PLEIADE martinique 2022\n",
    "fs.download(\n",
    "        rpath=f\"{bucket}/{path_s3_pleiades_data_2019_mayotte}\",\n",
    "        lpath=f\"../{path_local_pleiades_data_2019_mayotte}\",\n",
    "        recursive=True)\n",
    "\n",
    "fs.download(\n",
    "        rpath=f\"{bucket}/{path_s3_pleiades_data_2022_mayotte}\",\n",
    "        lpath=f\"../{path_local_pleiades_data_2022_mayotte}\",\n",
    "        recursive=True)"
   ]
  },
  {
   "cell_type": "code",
   "execution_count": 39,
   "id": "99ffbf3f-2aeb-47ac-bf18-64d7dc770a34",
   "metadata": {
    "tags": []
   },
   "outputs": [
    {
     "data": {
      "text/plain": [
       "'3'"
      ]
     },
     "execution_count": 39,
     "metadata": {},
     "output_type": "execute_result"
    }
   ],
   "source": [
    "str(3)"
   ]
  },
  {
   "cell_type": "code",
   "execution_count": 45,
   "id": "9f7ca106-0ebd-4ea5-83d4-f10b5f02fa33",
   "metadata": {
    "tags": []
   },
   "outputs": [],
   "source": [
    "\n",
    "#crs = 5490 pour la martinique\n",
    "def gps_to_crs_point(lat,lon,crs) :\n",
    "    \n",
    "    # coordinate  = (-12.789072624567547, 45.21788967618977)\n",
    "    # lat, lon = coordinate\n",
    "    transformer = Transformer.from_crs(\"EPSG:4326\", \"EPSG:\"+ str(crs))\n",
    "\n",
    "    # Convertir les coordonnées GPS en coordonnées dans le système de coordonnées de destination (CRS)\n",
    "    x, y = transformer.transform(lat, lon)\n",
    "    \n",
    "    # Retourner les coordonnées dans le CRS spécifié\n",
    "    return x, y\n",
    "\n",
    "#ca serait bien de faire une fonction qui cherche dans l'ensemble des données l'image qui contiendra cette coordonées.\n",
    "\n",
    "def find_image_of_point(coordinate, folder_path, coord_gps = False, crs = None) :\n",
    "        \n",
    "    if coord_gps == True :  \n",
    "        lat, lon = coordinate\n",
    "        x,y = gps_to_crs_point(lat,lon,crs) #car y=lat et x=lon, les coordonnées gps sont en (lat,lon)\n",
    "    else :\n",
    "        x,y = coordinate\n",
    "                                          \n",
    "    for filename in os.listdir(folder_path):\n",
    "        \n",
    "        # Define a list of delimiter characters\n",
    "        delimiters = [\"-\", \"_\"]\n",
    "\n",
    "        # Create a regular expression pattern from the delimiter characters\n",
    "        pattern = \"|\".join(delimiters)\n",
    "\n",
    "        # Split the string using the regular expression pattern\n",
    "        split_filename = re.split(pattern, filename)\n",
    "        \n",
    "        left = float(split_filename[2])*1000\n",
    "        top = float(split_filename[3])*1000\n",
    "        right = left + 1000.0\n",
    "        bottom = top - 1000.0\n",
    "         \n",
    "        if left <= x <= right:\n",
    "            if bottom <= y <= top:\n",
    "                return(folder_path + '/' +filename)\n",
    "    else : \n",
    "        return(\"Le point n'est pas retrouvé dans ce fichier d'images\")\n",
    "           \n"
   ]
  },
  {
   "cell_type": "code",
   "execution_count": 44,
   "id": "2af27634-90f7-4dda-87bf-6ace6fc0f285",
   "metadata": {
    "tags": []
   },
   "outputs": [
    {
     "data": {
      "text/plain": [
       "673"
      ]
     },
     "execution_count": 44,
     "metadata": {},
     "output_type": "execute_result"
    }
   ],
   "source": [
    "#len(os.listdir(\"../data/PLEIADES/2017/MAYOTTE\"))\n",
    "#len(os.listdir(\"../data/PLEIADES/2019/MAYOTTE\"))\n",
    "#len(os.listdir(\"../data/PLEIADES/2022/MAYOTTE\"))\n"
   ]
  },
  {
   "cell_type": "code",
   "execution_count": 24,
   "id": "f4fd0f64-0937-45e2-801d-c4867b05c5a0",
   "metadata": {
    "tags": []
   },
   "outputs": [
    {
     "data": {
      "text/plain": [
       "CRS.from_epsg(4471)"
      ]
     },
     "execution_count": 24,
     "metadata": {},
     "output_type": "execute_result"
    }
   ],
   "source": [
    "folder_path1 = \"../data/PLEIADES/2017/MAYOTTE/\"\n",
    "folder_path2 = \"../data/PLEIADES/2019/MAYOTTE/\"\n",
    "path_t = folder_path2 + os.listdir(folder_path2)[59]\n",
    "\n",
    "image_t = SatelliteImage.from_raster(\n",
    "        path_t,\n",
    "        date = 2019, \n",
    "        n_bands = 3,\n",
    "        dep = \"972\"\n",
    "    )\n",
    "\n",
    "#image_t.plot([0,1,2])\n",
    "image_t.crs"
   ]
  },
  {
   "cell_type": "code",
   "execution_count": null,
   "id": "db5b4e15-2d96-4f6e-900b-0b25b01f2798",
   "metadata": {
    "tags": []
   },
   "outputs": [],
   "source": [
    "#\n",
    "# 14.769096787469728, -60.90006133637827 -> badant nuages..\n",
    "# 14.760965395697703, -60.9138387873933 -> idem..\n",
    "coordinate  = (-12.789072624567547, 45.21788967618977)\n",
    "\n",
    "\n",
    "folder_path1 = \"../data/PLEIADES/2017/MAYOTTE\"\n",
    "folder_path2 = \"../data/PLEIADES/2019/MAYOTTE\"\n",
    "coord_gps = True\n",
    "path_t = find_image_of_point(\n",
    "                                   coordinate,\n",
    "                                   folder_path1,\n",
    "                                   coord_gps,\n",
    "                                    crs = 4471\n",
    "                                  )\n",
    "path_tplus1= find_image_of_point(\n",
    "                                   coordinate,\n",
    "                                   folder_path2,\n",
    "                                   coord_gps,\n",
    "                                crs = 4471\n",
    "                                  )\n",
    "\n",
    "\n",
    "\n",
    "\n",
    "#fromraster !!\n",
    "#on recharge l'image originale\n",
    "image_t = SatelliteImage.from_raster(\n",
    "        path_t,\n",
    "        date = 2017, \n",
    "        n_bands = 3,\n",
    "        dep = \"972\"\n",
    "    )\n",
    "image_tplus1 = SatelliteImage.from_raster(\n",
    "        path_tplus1,\n",
    "        date = 2019, \n",
    "        n_bands = 3,\n",
    "        dep = \"972\"\n",
    "    )\n",
    "\n",
    "\n",
    "image_t.plot([0,1,2])\n",
    "image_tplus1.plot([0,1,2])"
   ]
  }
 ],
 "metadata": {
  "kernelspec": {
   "display_name": "Python 3 (ipykernel)",
   "language": "python",
   "name": "python3"
  },
  "language_info": {
   "codemirror_mode": {
    "name": "ipython",
    "version": 3
   },
   "file_extension": ".py",
   "mimetype": "text/x-python",
   "name": "python",
   "nbconvert_exporter": "python",
   "pygments_lexer": "ipython3",
   "version": "3.10.9"
  }
 },
 "nbformat": 4,
 "nbformat_minor": 5
}
