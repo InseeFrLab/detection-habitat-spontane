{
 "cells": [
  {
   "cell_type": "code",
   "execution_count": 10,
   "id": "d4088314-1615-4956-8a5a-795d63790f2d",
   "metadata": {
    "tags": []
   },
   "outputs": [],
   "source": [
    "os.getcwd()"
   ]
  },
  {
   "cell_type": "code",
   "execution_count": 11,
   "id": "c5c93e06-59e6-46e5-a842-663119d7f46f",
   "metadata": {
    "tags": []
   },
   "outputs": [],
   "source": [
    "os.chdir(\"src/\")"
   ]
  },
  {
   "cell_type": "code",
   "execution_count": 18,
   "id": "17d01e13-0cee-475d-8958-0c3dc7501f87",
   "metadata": {
    "tags": []
   },
   "outputs": [],
   "source": [
    "!pip install pyarrow"
   ]
  },
  {
   "cell_type": "code",
   "execution_count": 77,
   "id": "3ff15067-ccbe-4121-bddd-98045d9211ba",
   "metadata": {},
   "outputs": [],
   "source": [
    "import gc\n",
    "import os\n",
    "import sys\n",
    "from datetime import datetime\n",
    "\n",
    "#import mlflow\n",
    "import numpy as np\n",
    "#import pytorch_lightning as pl\n",
    "import torch\n",
    "import yaml\n",
    "\n",
    "from train_pipeline_utils.download_data import load_pleiade_data\n",
    "from utils.utils import update_storage_access\n",
    "from classes.data.satellite_image import SatelliteImage\n",
    "from PIL import Image\n",
    "import pyproj\n",
    "from pyproj import Transformer\n",
    "import re\n",
    "import matplotlib.image"
   ]
  },
  {
   "cell_type": "code",
   "execution_count": 25,
   "id": "11d41dd4-d19e-4522-893d-d00b40e839f1",
   "metadata": {
    "tags": []
   },
   "outputs": [],
   "source": [
    "load_pleiade_data(2019,\"976\")"
   ]
  },
  {
   "cell_type": "code",
   "execution_count": 51,
   "id": "71d1222d-544d-4b88-8074-328cc315e185",
   "metadata": {
    "tags": []
   },
   "outputs": [],
   "source": [
    "\n",
    "#crs = 5490 pour la martinique\n",
    "def gps_to_crs_point(lat,lon,crs) :\n",
    "    \n",
    "    # coordinate  = (-12.789072624567547, 45.21788967618977)\n",
    "    # lat, lon = coordinate\n",
    "    transformer = Transformer.from_crs(\"EPSG:4326\", \"EPSG:\"+ str(crs))\n",
    "\n",
    "    # Convertir les coordonnées GPS en coordonnées dans le système de coordonnées de destination (CRS)\n",
    "    x, y = transformer.transform(lat, lon)\n",
    "    \n",
    "    # Retourner les coordonnées dans le CRS spécifié\n",
    "    return x, y\n",
    "\n",
    "#ca serait bien de faire une fonction qui cherche dans l'ensemble des données l'image qui contiendra cette coordonées.\n",
    "\n",
    "def find_image_of_point(coordinate, folder_path, coord_gps = False, crs = None) :\n",
    "        \n",
    "    if coord_gps == True :  \n",
    "        lat, lon = coordinate\n",
    "        x,y = gps_to_crs_point(lat,lon,crs) #car y=lat et x=lon, les coordonnées gps sont en (lat,lon)\n",
    "    else :\n",
    "        x,y = coordinate\n",
    "                                          \n",
    "    for filename in os.listdir(folder_path):\n",
    "        \n",
    "        # Define a list of delimiter characters\n",
    "        delimiters = [\"-\", \"_\"]\n",
    "\n",
    "        # Create a regular expression pattern from the delimiter characters\n",
    "        pattern = \"|\".join(delimiters)\n",
    "\n",
    "        # Split the string using the regular expression pattern\n",
    "        split_filename = re.split(pattern, filename)\n",
    "        \n",
    "        left = float(split_filename[2])*1000\n",
    "        top = float(split_filename[3])*1000\n",
    "        right = left + 1000.0\n",
    "        bottom = top - 1000.0\n",
    "         \n",
    "        if left <= x <= right:\n",
    "            if bottom <= y <= top:\n",
    "                return(folder_path + '/' +filename)\n",
    "    else : \n",
    "        return(\"Le point n'est pas retrouvé dans ce fichier d'images\")\n",
    "           \n"
   ]
  },
  {
   "cell_type": "code",
   "execution_count": 43,
   "id": "9499204e-5f82-4ebc-b095-20cea31fdd7a",
   "metadata": {
    "tags": []
   },
   "outputs": [],
   "source": [
    "dir = \"/home/onyxia/work/detection-habitat-spontane/data/PLEIADES/2019/MAYOTTE/\"\n"
   ]
  },
  {
   "cell_type": "code",
   "execution_count": 93,
   "id": "1fdf9863-59ee-4e2f-8bef-970994255ffd",
   "metadata": {
    "tags": []
   },
   "outputs": [],
   "source": [
    "coordinate  = (-12.789058574337282, 45.141467900587855)\n",
    "\n",
    "coord_gps = True\n",
    "path_t = find_image_of_point(\n",
    "                                   coordinate,\n",
    "                                   dir,\n",
    "                                   coord_gps,\n",
    "                                    crs = 4471\n",
    "                                  )\n",
    "path_t"
   ]
  },
  {
   "cell_type": "code",
   "execution_count": 94,
   "id": "7cafb6af-70ec-474e-bade-9898985bc79d",
   "metadata": {
    "tags": []
   },
   "outputs": [],
   "source": [
    "im = SatelliteImage.from_raster(\n",
    "        path_t,\n",
    "        dep = \"976\",\n",
    "        date = None, \n",
    "        n_bands = 3\n",
    "    )\n",
    "    \n",
    "im.plot([0,1,2])\n",
    "im = SatelliteImage.from_raster( # pour eviter la normalisation\n",
    "        path_t,\n",
    "        dep = \"976\",\n",
    "        date = None, \n",
    "        n_bands = 3\n",
    "    )\n",
    "    "
   ]
  },
  {
   "cell_type": "code",
   "execution_count": 95,
   "id": "7c00a1fc-b129-4916-8fd1-1986f708b032",
   "metadata": {
    "tags": []
   },
   "outputs": [],
   "source": [
    "filename = \"MAYOTTE-ORT_2019_0515_8587_U38S_8Bits\"\n",
    "matplotlib.image.imsave(filename + \".jpg\", np.transpose(im.array,[1,2,0]))"
   ]
  },
  {
   "cell_type": "code",
   "execution_count": null,
   "id": "31133d15-b9e0-4026-941a-80443e7c7b61",
   "metadata": {},
   "outputs": [],
   "source": [
    "##"
   ]
  }
 ],
 "metadata": {
  "kernelspec": {
   "display_name": "Python 3 (ipykernel)",
   "language": "python",
   "name": "python3"
  },
  "language_info": {
   "codemirror_mode": {
    "name": "ipython",
    "version": 3
   },
   "file_extension": ".py",
   "mimetype": "text/x-python",
   "name": "python",
   "nbconvert_exporter": "python",
   "pygments_lexer": "ipython3",
   "version": "3.10.9"
  }
 },
 "nbformat": 4,
 "nbformat_minor": 5
}
