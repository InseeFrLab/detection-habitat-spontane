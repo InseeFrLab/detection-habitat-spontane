{
 "cells": [
  {
   "cell_type": "code",
   "execution_count": 10,
   "id": "d4088314-1615-4956-8a5a-795d63790f2d",
   "metadata": {
    "tags": []
   },
   "outputs": [],
   "source": [
    "os.getcwd()"
   ]
  },
  {
   "cell_type": "code",
   "execution_count": 11,
   "id": "c5c93e06-59e6-46e5-a842-663119d7f46f",
   "metadata": {
    "tags": []
   },
   "outputs": [],
   "source": [
    "os.chdir(\"src/\")"
   ]
  },
  {
   "cell_type": "code",
   "execution_count": 18,
   "id": "17d01e13-0cee-475d-8958-0c3dc7501f87",
   "metadata": {
    "tags": []
   },
   "outputs": [],
   "source": [
    "!pip install pyarrow"
   ]
  },
  {
   "cell_type": "code",
   "execution_count": 77,
   "id": "3ff15067-ccbe-4121-bddd-98045d9211ba",
   "metadata": {},
   "outputs": [],
   "source": [
    "import gc\n",
    "import os\n",
    "import sys\n",
    "from datetime import datetime\n",
    "\n",
    "#import mlflow\n",
    "import numpy as np\n",
    "#import pytorch_lightning as pl\n",
    "import torch\n",
    "import yaml\n",
    "\n",
    "from train_pipeline_utils.download_data import load_pleiade_data\n",
    "from utils.utils import update_storage_access\n",
    "from classes.data.satellite_image import SatelliteImage\n",
    "from PIL import Image\n",
    "import pyproj\n",
    "from pyproj import Transformer\n",
    "import re\n",
    "import matplotlib.image"
   ]
  },
  {
   "cell_type": "code",
   "execution_count": 25,
   "id": "11d41dd4-d19e-4522-893d-d00b40e839f1",
   "metadata": {
    "tags": []
   },
   "outputs": [],
   "source": [
    "load_pleiade_data(2019,\"976\")"
   ]
  },
  {
   "cell_type": "code",
   "execution_count": 51,
   "id": "71d1222d-544d-4b88-8074-328cc315e185",
   "metadata": {
    "tags": []
   },
   "outputs": [],
   "source": [
    "\n",
    "#crs = 5490 pour la martinique\n",
    "def gps_to_crs_point(lat,lon,crs) :\n",
    "    \n",
    "    # coordinate  = (-12.789072624567547, 45.21788967618977)\n",
    "    # lat, lon = coordinate\n",
    "    transformer = Transformer.from_crs(\"EPSG:4326\", \"EPSG:\"+ str(crs))\n",
    "\n",
    "    # Convertir les coordonnées GPS en coordonnées dans le système de coordonnées de destination (CRS)\n",
    "    x, y = transformer.transform(lat, lon)\n",
    "    \n",
    "    # Retourner les coordonnées dans le CRS spécifié\n",
    "    return x, y\n",
    "\n",
    "#ca serait bien de faire une fonction qui cherche dans l'ensemble des données l'image qui contiendra cette coordonées.\n",
    "\n",
    "def find_image_of_point(coordinate, folder_path, coord_gps = False, crs = None) :\n",
    "        \n",
    "    if coord_gps == True :  \n",
    "        lat, lon = coordinate\n",
    "        x,y = gps_to_crs_point(lat,lon,crs) #car y=lat et x=lon, les coordonnées gps sont en (lat,lon)\n",
    "    else :\n",
    "        x,y = coordinate\n",
    "                                          \n",
    "    for filename in os.listdir(folder_path):\n",
    "        \n",
    "        # Define a list of delimiter characters\n",
    "        delimiters = [\"-\", \"_\"]\n",
    "\n",
    "        # Create a regular expression pattern from the delimiter characters\n",
    "        pattern = \"|\".join(delimiters)\n",
    "\n",
    "        # Split the string using the regular expression pattern\n",
    "        split_filename = re.split(pattern, filename)\n",
    "        \n",
    "        left = float(split_filename[2])*1000\n",
    "        top = float(split_filename[3])*1000\n",
    "        right = left + 1000.0\n",
    "        bottom = top - 1000.0\n",
    "         \n",
    "        if left <= x <= right:\n",
    "            if bottom <= y <= top:\n",
    "                return(folder_path + '/' +filename)\n",
    "    else : \n",
    "        return(\"Le point n'est pas retrouvé dans ce fichier d'images\")\n",
    "           \n"
   ]
  },
  {
   "cell_type": "code",
   "execution_count": 43,
   "id": "9499204e-5f82-4ebc-b095-20cea31fdd7a",
   "metadata": {
    "tags": []
   },
   "outputs": [],
   "source": [
    "dir = \"/home/onyxia/work/detection-habitat-spontane/data/PLEIADES/2019/MAYOTTE/\"\n"
   ]
  },
  {
   "cell_type": "code",
   "execution_count": 93,
   "id": "1fdf9863-59ee-4e2f-8bef-970994255ffd",
   "metadata": {
    "tags": []
   },
   "outputs": [],
   "source": [
    "coordinate  = (-12.789058574337282, 45.141467900587855)\n",
    "\n",
    "coord_gps = True\n",
    "path_t = find_image_of_point(\n",
    "                                   coordinate,\n",
    "                                   dir,\n",
    "                                   coord_gps,\n",
    "                                    crs = 4471\n",
    "                                  )\n",
    "path_t"
   ]
  },
  {
   "cell_type": "code",
   "execution_count": 94,
   "id": "7cafb6af-70ec-474e-bade-9898985bc79d",
   "metadata": {
    "tags": []
   },
   "outputs": [],
   "source": [
    "im = SatelliteImage.from_raster(\n",
    "        path_t,\n",
    "        dep = \"976\",\n",
    "        date = None, \n",
    "        n_bands = 3\n",
    "    )\n",
    "    \n",
    "im.plot([0,1,2])\n",
    "im = SatelliteImage.from_raster( # pour eviter la normalisation\n",
    "        path_t,\n",
    "        dep = \"976\",\n",
    "        date = None, \n",
    "        n_bands = 3\n",
    "    )\n",
    "    "
   ]
  },
  {
   "cell_type": "code",
   "execution_count": 95,
   "id": "7c00a1fc-b129-4916-8fd1-1986f708b032",
   "metadata": {
    "tags": []
   },
   "outputs": [],
   "source": [
    "filename = \"MAYOTTE-ORT_2019_0515_8587_U38S_8Bits\"\n",
    "matplotlib.image.imsave(filename + \".jpg\", np.transpose(im.array,[1,2,0]))"
   ]
  },
  {
   "cell_type": "markdown",
   "id": "cbf1f1da-93a7-4cc2-a9bc-5387f50bb265",
   "metadata": {
    "tags": []
   },
   "source": [
    "## lecture des retours label studio"
   ]
  },
  {
   "cell_type": "code",
   "execution_count": 7,
   "id": "e9b1de98-4b7e-406e-8d12-9796f9b6c3d4",
   "metadata": {
    "tags": []
   },
   "outputs": [],
   "source": [
    "import os\n",
    "import zipfile\n",
    "from functools import reduce\n",
    "\n",
    "import matplotlib.pyplot as plt\n",
    "import numpy as np\n",
    "\n",
    "\n",
    "def create_mask_from_label_studio_export(\n",
    "    num_task,\n",
    "    name_output,\n",
    "    type_label=\"Petites habitations\",\n",
    "    emplacement_zip=\"../labelstudio.zip\",\n",
    "):\n",
    "    \"\"\"\n",
    "    Extracts binary masks for a single type label from a Label Studio\n",
    "    export file, combines them into a single mask,\n",
    "    and saves it as a numpy file.\n",
    "    Args:\n",
    "        num_task (str):\n",
    "            The task number to select masks from.\n",
    "        name_output (str):\n",
    "            The file path to save the output numpy file.\n",
    "            Enter the same name as the image where the mask comes from.\n",
    "        type_label (str):\n",
    "            The type of label to select masks for.\n",
    "            Default is 'Petites habitations'.\n",
    "        emplacement_zip (str):\n",
    "            The file path of a zipped Label Studio export file.\n",
    "            Default is '../labelstudio.zip'.\n",
    "    Returns:\n",
    "        Plot of the mask.\n",
    "    Example:\n",
    "    >>> create_mask_from_label_studio_export(\n",
    "            num_task = \"1\",\n",
    "            name_output = \"mayotte2020nomfichier\"\n",
    "        )\n",
    "    \"\"\"\n",
    "    with zipfile.ZipFile(emplacement_zip, \"r\") as zip_ref:\n",
    "        zip_ref.extractall(\"labelstudio\")\n",
    "\n",
    "    dir = \"labelstudio/\"\n",
    "\n",
    "    liste_name = os.listdir(dir)\n",
    "\n",
    "    list_num_task = [file.split(\"-\")[1] for file in liste_name]\n",
    "    list_type_label = [file.split(\"-\")[7] for file in liste_name]\n",
    "\n",
    "    booleen = [\n",
    "        nt == num_task and tl == type_label\n",
    "        for nt, tl in zip(list_num_task, list_type_label)\n",
    "    ]\n",
    "\n",
    "    list_name_select = [name for name, b in zip(liste_name, booleen) if b]\n",
    "    list_path_mask = [dir + name for name in list_name_select]\n",
    "\n",
    "    list_mask = [np.load(path) for path in list_path_mask]\n",
    "    mask = reduce(lambda x, y: x + y, list_mask)\n",
    "\n",
    "    mask[mask != 0] = 1\n",
    "\n",
    "    # Plot the mask using imshow\n",
    "    plt.imshow(mask, cmap=\"gray\", interpolation=\"nearest\")\n",
    "\n",
    "    # Show the plot\n",
    "    plt.show()\n",
    "\n",
    "    np.save(name_output, mask)"
   ]
  },
  {
   "cell_type": "code",
   "execution_count": null,
   "id": "5a356d8c-c02a-4025-b64f-d49781099a9c",
   "metadata": {},
   "outputs": [],
   "source": []
  }
 ],
 "metadata": {
  "kernelspec": {
   "display_name": "Python 3 (ipykernel)",
   "language": "python",
   "name": "python3"
  },
  "language_info": {
   "codemirror_mode": {
    "name": "ipython",
    "version": 3
   },
   "file_extension": ".py",
   "mimetype": "text/x-python",
   "name": "python",
   "nbconvert_exporter": "python",
   "pygments_lexer": "ipython3",
   "version": "3.10.9"
  }
 },
 "nbformat": 4,
 "nbformat_minor": 5
}
