{
 "cells": [
  {
   "cell_type": "code",
   "execution_count": 14,
   "metadata": {},
   "outputs": [],
   "source": [
    "import sys\n",
    "sys.path.append('../src')\n",
    "import shutil\n",
    "import yaml\n",
    "import py7zr\n",
    "import os\n",
    "import s3fs\n",
    "import fs\n",
    "from utils import *\n",
    "from filter import *\n",
    "import numpy as np\n",
    "import re\n",
    "from datetime import datetime\n",
    "from tqdm import tqdm\n",
    "import hvac\n",
    "from minio import Minio\n",
    "from satellite_image import SatelliteImage\n",
    "from osgeo import gdal\n",
    "import geemap"
   ]
  },
  {
   "attachments": {},
   "cell_type": "markdown",
   "metadata": {},
   "source": [
    "Authentification à Google Earth Engine\n"
   ]
  },
  {
   "cell_type": "code",
   "execution_count": 3,
   "metadata": {},
   "outputs": [
    {
     "data": {
      "text/html": [
       "<p>To authorize access needed by Earth Engine, open the following\n",
       "        URL in a web browser and follow the instructions:</p>\n",
       "        <p><a href=https://code.earthengine.google.com/client-auth?scopes=https%3A//www.googleapis.com/auth/earthengine%20https%3A//www.googleapis.com/auth/devstorage.full_control&request_id=wi5tdDKT1q-5XUDdvrzTrD-aooqGXQzc6kAotC1f_Bc&tc=WOV6wy9CqSgzsADiGtVRb9Q2ffntpNKtnReC6pkFfCY&cc=-NxKPlhSz-2xb4bmGXuSUtsNhxJO0TSK76yBUywqspQ>https://code.earthengine.google.com/client-auth?scopes=https%3A//www.googleapis.com/auth/earthengine%20https%3A//www.googleapis.com/auth/devstorage.full_control&request_id=wi5tdDKT1q-5XUDdvrzTrD-aooqGXQzc6kAotC1f_Bc&tc=WOV6wy9CqSgzsADiGtVRb9Q2ffntpNKtnReC6pkFfCY&cc=-NxKPlhSz-2xb4bmGXuSUtsNhxJO0TSK76yBUywqspQ</a></p>\n",
       "        <p>The authorization workflow will generate a code, which you should paste in the box below.</p>\n",
       "        "
      ],
      "text/plain": [
       "<IPython.core.display.HTML object>"
      ]
     },
     "metadata": {},
     "output_type": "display_data"
    },
    {
     "name": "stdout",
     "output_type": "stream",
     "text": [
      "\n",
      "Successfully saved authorization token.\n"
     ]
    }
   ],
   "source": [
    "# service_account = (\n",
    "#     \"slums-detection-sa@ee-insee-sentinel.iam.gserviceaccount.com\"\n",
    "# )\n",
    "# credentials = ee.ServiceAccountCredentials(\n",
    "#     service_account, \"GCP_credentials.json\"\n",
    "# )\n",
    "\n",
    "# # Initialize the library.\n",
    "# ee.Initialize(credentials)\n",
    "\n",
    "import ee\n",
    "\n",
    "# Trigger the authentication flow.\n",
    "ee.Authenticate()\n",
    "\n",
    "# Initialize the library.\n",
    "ee.Initialize()"
   ]
  },
  {
   "cell_type": "code",
   "execution_count": 4,
   "metadata": {},
   "outputs": [],
   "source": [
    "def get_s2_sr_cld_col(aoi, start_date, end_date):\n",
    "    # Import and filter S2 SR.\n",
    "    s2_sr_col = (\n",
    "        ee.ImageCollection(\"COPERNICUS/S2_SR\")\n",
    "        .filterBounds(aoi)\n",
    "        .filterDate(start_date, end_date)\n",
    "        .filter(ee.Filter.lte(\"CLOUDY_PIXEL_PERCENTAGE\", CLOUD_FILTER))\n",
    "    )\n",
    "\n",
    "    # Import and filter s2cloudless.\n",
    "    s2_cloudless_col = (\n",
    "        ee.ImageCollection(\"COPERNICUS/S2_CLOUD_PROBABILITY\")\n",
    "        .filterBounds(aoi)\n",
    "        .filterDate(start_date, end_date)\n",
    "    )\n",
    "\n",
    "    # Join the filtered s2cloudless collection to the SR collection by the 'system:index' property.\n",
    "    return ee.ImageCollection(\n",
    "        ee.Join.saveFirst(\"s2cloudless\").apply(\n",
    "            **{\n",
    "                \"primary\": s2_sr_col,\n",
    "                \"secondary\": s2_cloudless_col,\n",
    "                \"condition\": ee.Filter.equals(\n",
    "                    **{\n",
    "                        \"leftField\": \"system:index\",\n",
    "                        \"rightField\": \"system:index\",\n",
    "                    }\n",
    "                ),\n",
    "            }\n",
    "        )\n",
    "    )"
   ]
  },
  {
   "cell_type": "code",
   "execution_count": 5,
   "metadata": {},
   "outputs": [],
   "source": [
    "def add_cloud_bands(img):\n",
    "    # Get s2cloudless image, subset the probability band.\n",
    "    cld_prb = ee.Image(img.get(\"s2cloudless\")).select(\"probability\")\n",
    "\n",
    "    # Condition s2cloudless by the probability threshold value.\n",
    "    is_cloud = cld_prb.gt(CLD_PRB_THRESH).rename(\"clouds\")\n",
    "\n",
    "    # Add the cloud probability layer and cloud mask as image bands.\n",
    "    return img.addBands(ee.Image([cld_prb, is_cloud]))"
   ]
  },
  {
   "cell_type": "code",
   "execution_count": 6,
   "metadata": {},
   "outputs": [],
   "source": [
    "def add_shadow_bands(img):\n",
    "    # Identify water pixels from the SCL band.\n",
    "    not_water = img.select(\"SCL\").neq(6)\n",
    "\n",
    "    # Identify dark NIR pixels that are not water (potential cloud shadow pixels).\n",
    "    SR_BAND_SCALE = 1e4\n",
    "    dark_pixels = (\n",
    "        img.select(\"B8\")\n",
    "        .lt(NIR_DRK_THRESH * SR_BAND_SCALE)\n",
    "        .multiply(not_water)\n",
    "        .rename(\"dark_pixels\")\n",
    "    )\n",
    "\n",
    "    # Determine the direction to project cloud shadow from clouds (assumes UTM projection).\n",
    "    shadow_azimuth = ee.Number(90).subtract(\n",
    "        ee.Number(img.get(\"MEAN_SOLAR_AZIMUTH_ANGLE\"))\n",
    "    )\n",
    "\n",
    "    # Project shadows from clouds for the distance specified by the CLD_PRJ_DIST input.\n",
    "    cld_proj = (\n",
    "        img.select(\"clouds\")\n",
    "        .directionalDistanceTransform(shadow_azimuth, CLD_PRJ_DIST * 10)\n",
    "        .reproject(**{\"crs\": img.select(0).projection(), \"scale\": 100})\n",
    "        .select(\"distance\")\n",
    "        .mask()\n",
    "        .rename(\"cloud_transform\")\n",
    "    )\n",
    "\n",
    "    # Identify the intersection of dark pixels with cloud shadow projection.\n",
    "    shadows = cld_proj.multiply(dark_pixels).rename(\"shadows\")\n",
    "\n",
    "    # Add dark pixels, cloud projection, and identified shadows as image bands.\n",
    "    return img.addBands(ee.Image([dark_pixels, cld_proj, shadows]))"
   ]
  },
  {
   "cell_type": "code",
   "execution_count": 7,
   "metadata": {},
   "outputs": [],
   "source": [
    "def add_cld_shdw_mask(img):\n",
    "    # Add cloud component bands.\n",
    "    img_cloud = add_cloud_bands(img)\n",
    "\n",
    "    # Add cloud shadow component bands.\n",
    "    img_cloud_shadow = add_shadow_bands(img_cloud)\n",
    "\n",
    "    # Combine cloud and shadow mask, set cloud and shadow as value 1, else 0.\n",
    "    is_cld_shdw = (\n",
    "        img_cloud_shadow.select(\"clouds\")\n",
    "        .add(img_cloud_shadow.select(\"shadows\"))\n",
    "        .gt(0)\n",
    "    )\n",
    "\n",
    "    # Remove small cloud-shadow patches and dilate remaining pixels by BUFFER input.\n",
    "    # 20 m scale is for speed, and assumes clouds don't require 10 m precision.\n",
    "    is_cld_shdw = (\n",
    "        is_cld_shdw.focalMin(2)\n",
    "        .focalMax(BUFFER * 2 / 20)\n",
    "        .reproject(**{\"crs\": img.select([0]).projection(), \"scale\": 20})\n",
    "        .rename(\"cloudmask\")\n",
    "    )\n",
    "\n",
    "    # Add the final cloud-shadow mask to the image.\n",
    "    return img_cloud_shadow.addBands(is_cld_shdw)"
   ]
  },
  {
   "cell_type": "code",
   "execution_count": 8,
   "metadata": {},
   "outputs": [],
   "source": [
    "def apply_cld_shdw_mask(img):\n",
    "    # Subset the cloudmask band and invert it so clouds/shadow are 0, else 1.\n",
    "    not_cld_shdw = img.select(\"cloudmask\").Not()\n",
    "\n",
    "    # Subset reflectance bands and update their masks, return the result.\n",
    "    return img.select(\"B.*\").updateMask(not_cld_shdw)"
   ]
  },
  {
   "attachments": {},
   "cell_type": "markdown",
   "metadata": {},
   "source": [
    "Téléchargement en local puis mise en ligne de données"
   ]
  },
  {
   "cell_type": "code",
   "execution_count": null,
   "metadata": {},
   "outputs": [],
   "source": [
    "def export_s2_no_cloud(\n",
    "    DOM,\n",
    "    AOIs,\n",
    "    EPSGs,\n",
    "    start_date,\n",
    "    end_date,\n",
    "    cloud_filter,\n",
    "    cloud_prb_thresh,\n",
    "    nir_drk_thresh,\n",
    "    cld_prj_dist,\n",
    "    buffer,\n",
    "):\n",
    "    AOI = ee.Geometry.BBox(**AOIs[DOM])\n",
    "    s2_sr_cld_col = get_s2_sr_cld_col(AOI, START_DATE, END_DATE)\n",
    "    s2_sr_median = (\n",
    "        s2_sr_cld_col.map(add_cld_shdw_mask).map(apply_cld_shdw_mask).median()\n",
    "    )\n",
    "\n",
    "    fishnet = geemap.fishnet(AOI, rows=4, cols=4, delta=0)\n",
    "    geemap.download_ee_image_tiles(\n",
    "        s2_sr_median,\n",
    "        fishnet,\n",
    "        f'{DOM}_{start_date[0:4]}/',\n",
    "        prefix=\"data_\",\n",
    "        crs=f\"EPSG:{EPSGs[DOM]}\",\n",
    "        scale=10,\n",
    "        num_threads=50,\n",
    "    )\n",
    "\n",
    "    # liste = os.listdir(f\"{DOM}_{start_date[0:4]}/\")\n",
    "    # for im in liste:\n",
    "    #     if (\"05\" in im) or (\"10\" in im) or (\"15\" in im) or (\"20\" in im) or (\"21\" in im) or (\"22\" in im) or (\"23\" in im) or (\"24\" in im) or (\"25\" in im):\n",
    "    #         os.remove(f\"{DOM}_{start_date[0:4]}/{im}\")\n",
    "\n",
    "\n",
    "    upload_satelliteImages(\n",
    "        f'{DOM}_{start_date[0:4]}',\n",
    "        f'projet-slums-detection/Donnees/SENTINEL2/{DOM.upper()}/TUILES_{start_date[0:4]}',\n",
    "        250)\n",
    "    \n",
    "    shutil.rmtree(f\"{DOM}_{start_date[0:4]}\",ignore_errors=True)\n",
    "\n",
    "    "
   ]
  },
  {
   "cell_type": "markdown",
   "metadata": {},
   "source": [
    "Connexion à MinIO"
   ]
  },
  {
   "cell_type": "code",
   "execution_count": 36,
   "metadata": {},
   "outputs": [],
   "source": [
    "def exportToMinio(image,rpath):\n",
    "    client = hvac.Client(\n",
    "            url='https://vault.lab.sspcloud.fr', token=os.environ[\"VAULT_TOKEN\"]\n",
    "        )\n",
    "\n",
    "    secret = os.environ[\"VAULT_MOUNT\"] + os.environ[\"VAULT_TOP_DIR\"] + \"/s3\"\n",
    "    mount_point, secret_path = secret.split(\"/\", 1)\n",
    "    secret_dict = client.secrets.kv.read_secret_version(\n",
    "        path=secret_path, mount_point=mount_point\n",
    "    )\n",
    "\n",
    "    os.environ[\"AWS_ACCESS_KEY_ID\"] = secret_dict[\"data\"][\"data\"][\n",
    "        \"ACCESS_KEY_ID\"\n",
    "    ]\n",
    "    os.environ[\"AWS_SECRET_ACCESS_KEY\"] = secret_dict[\"data\"][\"data\"][\n",
    "        \"SECRET_ACCESS_KEY\"\n",
    "    ]\n",
    "\n",
    "    try:\n",
    "        del os.environ['AWS_SESSION_TOKEN']\n",
    "    except KeyError:\n",
    "        pass\n",
    "\n",
    "    fs = s3fs.S3FileSystem(\n",
    "        client_kwargs={'endpoint_url': 'https://'+'minio.lab.sspcloud.fr'},\n",
    "        key=os.environ[\"AWS_ACCESS_KEY_ID\"],\n",
    "        secret=os.environ[\"AWS_SECRET_ACCESS_KEY\"]\n",
    "    )\n",
    "    \n",
    "    return fs.put(image,rpath,True)"
   ]
  },
  {
   "attachments": {},
   "cell_type": "markdown",
   "metadata": {},
   "source": [
    "Mise en ligne de données préalablement téléchargées en local"
   ]
  },
  {
   "cell_type": "code",
   "execution_count": 37,
   "metadata": {},
   "outputs": [],
   "source": [
    "def upload_satelliteImages(\n",
    "    lpath,\n",
    "    rpath,\n",
    "    dim\n",
    "):\n",
    "    images_paths = os.listdir(lpath)\n",
    "\n",
    "    for i in range(len(images_paths)):\n",
    "        images_paths[i] = lpath+'/'+images_paths[i]\n",
    "\n",
    "    list_satelliteImages = [\n",
    "        SatelliteImage.from_raster(\n",
    "            filename,\n",
    "            dep = \"973\",\n",
    "            n_bands = 12\n",
    "        ) for filename in tqdm(images_paths)]\n",
    "\n",
    "    splitted_list_images = [im for sublist in tqdm(list_satelliteImages) for im in sublist.split(dim)]\n",
    "\n",
    "    for i in range(len(splitted_list_images)):\n",
    "        image = splitted_list_images[i]\n",
    "\n",
    "        transf = image.transform\n",
    "        in_ds = gdal.Open(images_paths[1])\n",
    "        proj = in_ds.GetProjection()\n",
    "\n",
    "        array = image.array\n",
    "\n",
    "        driver = gdal.GetDriverByName(\"GTiff\")\n",
    "        out_ds = driver.Create(f'Donnees/image{i}.tif', array.shape[2], array.shape[1], array.shape[0], gdal.GDT_Float64)\n",
    "        out_ds.SetGeoTransform([transf[2],transf[0],transf[1],transf[5],transf[3],transf[4]])\n",
    "        out_ds.SetProjection(proj)\n",
    "\n",
    "        for j in range(array.shape[0]):\n",
    "            out_ds.GetRasterBand(j+1).WriteArray(array[j,:,:])\n",
    "\n",
    "        if os.path.isfile(f'Donnees/image{i-1}.tif'):\n",
    "            exportToMinio(f'Donnees/image{i-1}.tif',rpath)\n",
    "            os.remove(f'Donnees/image{i-1}.tif')\n",
    "\n",
    "    for x in os.listdir('Donnees'):\n",
    "        if \"image\" in x and \"tif\" in x:        \n",
    "            exportToMinio(f'Donnees/image{i}.tif',rpath)\n",
    "            os.remove(f'Donnees/image{i}.tif')"
   ]
  },
  {
   "attachments": {},
   "cell_type": "markdown",
   "metadata": {},
   "source": [
    "Filtres sur le téléchargement (CRS, emprise, caractéristiques du stack)"
   ]
  },
  {
   "cell_type": "code",
   "execution_count": 40,
   "metadata": {},
   "outputs": [],
   "source": [
    "AOIs = {\n",
    "    \"Guadeloupe\": {\n",
    "        \"west\": -61.811124,\n",
    "        \"south\": 15.828534,\n",
    "        \"east\": -60.998518,\n",
    "        \"north\": 16.523944,\n",
    "    },\n",
    "    \"Martinique\": {\n",
    "        \"west\": -61.264617,\n",
    "        \"south\": 14.378599,\n",
    "        \"east\": -60.781573,\n",
    "        \"north\": 14.899453,\n",
    "    },\n",
    "    \"Mayotte\": {\n",
    "        \"west\": 45.013633,\n",
    "        \"south\": -13.006619,\n",
    "        \"east\": 45.308891,\n",
    "        \"north\": -12.633022,\n",
    "    },\n",
    "    \"Guyane\": {\n",
    "        \"west\": -52.883,\n",
    "        \"south\": 4.148,\n",
    "        \"east\": -51.813,\n",
    "        \"north\": 5.426\n",
    "    }\n",
    "}\n",
    "\n",
    "EPSGs = {\"Guadeloupe\": \"4559\", \"Martinique\": \"4559\", \"Mayotte\": \"4471\", \"Guyane\": \"4235\"}\n",
    "\n",
    "START_DATE = \"2022-05-01\"\n",
    "END_DATE = \"2022-09-01\"\n",
    "CLOUD_FILTER = 60\n",
    "CLD_PRB_THRESH = 40\n",
    "NIR_DRK_THRESH = 0.15\n",
    "CLD_PRJ_DIST = 2\n",
    "BUFFER = 50"
   ]
  },
  {
   "attachments": {},
   "cell_type": "markdown",
   "metadata": {},
   "source": [
    "Téléchargement en local puis mise en lignes de données"
   ]
  },
  {
   "cell_type": "code",
   "execution_count": 41,
   "metadata": {},
   "outputs": [
    {
     "name": "stdout",
     "output_type": "stream",
     "text": [
      "Downloading 1/25: Guadeloupe_2022/data_01.tif\n"
     ]
    },
    {
     "data": {
      "application/vnd.jupyter.widget-view+json": {
       "model_id": "926063eed8fe48138f381d10ba1c9f72",
       "version_major": 2,
       "version_minor": 0
      },
      "text/plain": [
       "data_01.tif: |          | 0.00/407M (raw) [  0.0%] in 00:00 (eta:     ?)"
      ]
     },
     "metadata": {},
     "output_type": "display_data"
    },
    {
     "name": "stdout",
     "output_type": "stream",
     "text": [
      "Downloading 2/25: Guadeloupe_2022/data_02.tif\n"
     ]
    },
    {
     "data": {
      "application/vnd.jupyter.widget-view+json": {
       "model_id": "5bd0846bf8e346fdb23d5f0ae5b83fd5",
       "version_major": 2,
       "version_minor": 0
      },
      "text/plain": [
       "data_02.tif: |          | 0.00/408M (raw) [  0.0%] in 00:00 (eta:     ?)"
      ]
     },
     "metadata": {},
     "output_type": "display_data"
    },
    {
     "name": "stdout",
     "output_type": "stream",
     "text": [
      "Downloading 3/25: Guadeloupe_2022/data_03.tif\n"
     ]
    },
    {
     "data": {
      "application/vnd.jupyter.widget-view+json": {
       "model_id": "8e9e691cb3f34026bf62eb424d762d93",
       "version_major": 2,
       "version_minor": 0
      },
      "text/plain": [
       "data_03.tif: |          | 0.00/409M (raw) [  0.0%] in 00:00 (eta:     ?)"
      ]
     },
     "metadata": {},
     "output_type": "display_data"
    },
    {
     "name": "stdout",
     "output_type": "stream",
     "text": [
      "Downloading 4/25: Guadeloupe_2022/data_04.tif\n"
     ]
    },
    {
     "data": {
      "application/vnd.jupyter.widget-view+json": {
       "model_id": "801fec49c6eb4b9aae77b511450e0746",
       "version_major": 2,
       "version_minor": 0
      },
      "text/plain": [
       "data_04.tif: |          | 0.00/410M (raw) [  0.0%] in 00:00 (eta:     ?)"
      ]
     },
     "metadata": {},
     "output_type": "display_data"
    },
    {
     "name": "stdout",
     "output_type": "stream",
     "text": [
      "Downloading 5/25: Guadeloupe_2022/data_05.tif\n"
     ]
    },
    {
     "data": {
      "application/vnd.jupyter.widget-view+json": {
       "model_id": "29b21db4dc964e93aa10f2a180961b00",
       "version_major": 2,
       "version_minor": 0
      },
      "text/plain": [
       "data_05.tif: |          | 0.00/410M (raw) [  0.0%] in 00:00 (eta:     ?)"
      ]
     },
     "metadata": {},
     "output_type": "display_data"
    },
    {
     "name": "stdout",
     "output_type": "stream",
     "text": [
      "Downloading 6/25: Guadeloupe_2022/data_06.tif\n"
     ]
    },
    {
     "data": {
      "application/vnd.jupyter.widget-view+json": {
       "model_id": "5829891869214c97a97958a726e15c08",
       "version_major": 2,
       "version_minor": 0
      },
      "text/plain": [
       "data_06.tif: |          | 0.00/407M (raw) [  0.0%] in 00:00 (eta:     ?)"
      ]
     },
     "metadata": {},
     "output_type": "display_data"
    },
    {
     "name": "stdout",
     "output_type": "stream",
     "text": [
      "Downloading 7/25: Guadeloupe_2022/data_07.tif\n"
     ]
    },
    {
     "data": {
      "application/vnd.jupyter.widget-view+json": {
       "model_id": "d5615beef1b949679c205edffc9fe295",
       "version_major": 2,
       "version_minor": 0
      },
      "text/plain": [
       "data_07.tif: |          | 0.00/408M (raw) [  0.0%] in 00:00 (eta:     ?)"
      ]
     },
     "metadata": {},
     "output_type": "display_data"
    },
    {
     "name": "stdout",
     "output_type": "stream",
     "text": [
      "Downloading 8/25: Guadeloupe_2022/data_08.tif\n"
     ]
    },
    {
     "data": {
      "application/vnd.jupyter.widget-view+json": {
       "model_id": "cdc0c1d11ca44c16b91504826d6aefd1",
       "version_major": 2,
       "version_minor": 0
      },
      "text/plain": [
       "data_08.tif: |          | 0.00/409M (raw) [  0.0%] in 00:00 (eta:     ?)"
      ]
     },
     "metadata": {},
     "output_type": "display_data"
    },
    {
     "name": "stdout",
     "output_type": "stream",
     "text": [
      "Downloading 9/25: Guadeloupe_2022/data_09.tif\n"
     ]
    },
    {
     "data": {
      "application/vnd.jupyter.widget-view+json": {
       "model_id": "7a340598ef774942866eadf0a7d9aaa3",
       "version_major": 2,
       "version_minor": 0
      },
      "text/plain": [
       "data_09.tif: |          | 0.00/409M (raw) [  0.0%] in 00:00 (eta:     ?)"
      ]
     },
     "metadata": {},
     "output_type": "display_data"
    },
    {
     "name": "stdout",
     "output_type": "stream",
     "text": [
      "Downloading 10/25: Guadeloupe_2022/data_10.tif\n"
     ]
    },
    {
     "data": {
      "application/vnd.jupyter.widget-view+json": {
       "model_id": "bce289ceaf9647e48036f50c34b5b16b",
       "version_major": 2,
       "version_minor": 0
      },
      "text/plain": [
       "data_10.tif: |          | 0.00/410M (raw) [  0.0%] in 00:00 (eta:     ?)"
      ]
     },
     "metadata": {},
     "output_type": "display_data"
    },
    {
     "name": "stdout",
     "output_type": "stream",
     "text": [
      "Downloading 11/25: Guadeloupe_2022/data_11.tif\n"
     ]
    },
    {
     "data": {
      "application/vnd.jupyter.widget-view+json": {
       "model_id": "3414c34053a64032a396f77760b2d317",
       "version_major": 2,
       "version_minor": 0
      },
      "text/plain": [
       "data_11.tif: |          | 0.00/406M (raw) [  0.0%] in 00:00 (eta:     ?)"
      ]
     },
     "metadata": {},
     "output_type": "display_data"
    },
    {
     "name": "stdout",
     "output_type": "stream",
     "text": [
      "Downloading 12/25: Guadeloupe_2022/data_12.tif\n"
     ]
    },
    {
     "data": {
      "application/vnd.jupyter.widget-view+json": {
       "model_id": "4acf20c1c7f14b508966ae298aed370e",
       "version_major": 2,
       "version_minor": 0
      },
      "text/plain": [
       "data_12.tif: |          | 0.00/407M (raw) [  0.0%] in 00:00 (eta:     ?)"
      ]
     },
     "metadata": {},
     "output_type": "display_data"
    },
    {
     "name": "stdout",
     "output_type": "stream",
     "text": [
      "Downloading 13/25: Guadeloupe_2022/data_13.tif\n"
     ]
    },
    {
     "data": {
      "application/vnd.jupyter.widget-view+json": {
       "model_id": "9f29f8817e35481393d5585ae0f24237",
       "version_major": 2,
       "version_minor": 0
      },
      "text/plain": [
       "data_13.tif: |          | 0.00/408M (raw) [  0.0%] in 00:00 (eta:     ?)"
      ]
     },
     "metadata": {},
     "output_type": "display_data"
    },
    {
     "name": "stdout",
     "output_type": "stream",
     "text": [
      "Downloading 14/25: Guadeloupe_2022/data_14.tif\n"
     ]
    },
    {
     "data": {
      "application/vnd.jupyter.widget-view+json": {
       "model_id": "673a4311aaae4cdd90097f1b3af8e1d3",
       "version_major": 2,
       "version_minor": 0
      },
      "text/plain": [
       "data_14.tif: |          | 0.00/409M (raw) [  0.0%] in 00:00 (eta:     ?)"
      ]
     },
     "metadata": {},
     "output_type": "display_data"
    },
    {
     "name": "stdout",
     "output_type": "stream",
     "text": [
      "Downloading 15/25: Guadeloupe_2022/data_15.tif\n"
     ]
    },
    {
     "data": {
      "application/vnd.jupyter.widget-view+json": {
       "model_id": "7914bc4f661544bea2544b601d07acad",
       "version_major": 2,
       "version_minor": 0
      },
      "text/plain": [
       "data_15.tif: |          | 0.00/410M (raw) [  0.0%] in 00:00 (eta:     ?)"
      ]
     },
     "metadata": {},
     "output_type": "display_data"
    },
    {
     "name": "stdout",
     "output_type": "stream",
     "text": [
      "Downloading 16/25: Guadeloupe_2022/data_16.tif\n"
     ]
    },
    {
     "data": {
      "application/vnd.jupyter.widget-view+json": {
       "model_id": "a84acf0e24174972a102f003f102f1c9",
       "version_major": 2,
       "version_minor": 0
      },
      "text/plain": [
       "data_16.tif: |          | 0.00/406M (raw) [  0.0%] in 00:00 (eta:     ?)"
      ]
     },
     "metadata": {},
     "output_type": "display_data"
    },
    {
     "name": "stdout",
     "output_type": "stream",
     "text": [
      "Downloading 17/25: Guadeloupe_2022/data_17.tif\n"
     ]
    },
    {
     "data": {
      "application/vnd.jupyter.widget-view+json": {
       "model_id": "dfbc69b3e0c541f297b177b06866f948",
       "version_major": 2,
       "version_minor": 0
      },
      "text/plain": [
       "data_17.tif: |          | 0.00/407M (raw) [  0.0%] in 00:00 (eta:     ?)"
      ]
     },
     "metadata": {},
     "output_type": "display_data"
    },
    {
     "name": "stdout",
     "output_type": "stream",
     "text": [
      "Downloading 18/25: Guadeloupe_2022/data_18.tif\n"
     ]
    },
    {
     "data": {
      "application/vnd.jupyter.widget-view+json": {
       "model_id": "d92ebb9c3fd942669376c331fe0c6a91",
       "version_major": 2,
       "version_minor": 0
      },
      "text/plain": [
       "data_18.tif: |          | 0.00/408M (raw) [  0.0%] in 00:00 (eta:     ?)"
      ]
     },
     "metadata": {},
     "output_type": "display_data"
    },
    {
     "name": "stdout",
     "output_type": "stream",
     "text": [
      "Downloading 19/25: Guadeloupe_2022/data_19.tif\n"
     ]
    },
    {
     "data": {
      "application/vnd.jupyter.widget-view+json": {
       "model_id": "2c7aeceeee8e4379beca6ae65f970ec4",
       "version_major": 2,
       "version_minor": 0
      },
      "text/plain": [
       "data_19.tif: |          | 0.00/409M (raw) [  0.0%] in 00:00 (eta:     ?)"
      ]
     },
     "metadata": {},
     "output_type": "display_data"
    },
    {
     "name": "stdout",
     "output_type": "stream",
     "text": [
      "Downloading 20/25: Guadeloupe_2022/data_20.tif\n"
     ]
    },
    {
     "data": {
      "application/vnd.jupyter.widget-view+json": {
       "model_id": "9b312ffa2b404f38a6e03ce2869dcfb1",
       "version_major": 2,
       "version_minor": 0
      },
      "text/plain": [
       "data_20.tif: |          | 0.00/410M (raw) [  0.0%] in 00:00 (eta:     ?)"
      ]
     },
     "metadata": {},
     "output_type": "display_data"
    },
    {
     "name": "stdout",
     "output_type": "stream",
     "text": [
      "Downloading 21/25: Guadeloupe_2022/data_21.tif\n"
     ]
    },
    {
     "data": {
      "application/vnd.jupyter.widget-view+json": {
       "model_id": "071ba57f675b455ba39847d95a49527f",
       "version_major": 2,
       "version_minor": 0
      },
      "text/plain": [
       "data_21.tif: |          | 0.00/406M (raw) [  0.0%] in 00:00 (eta:     ?)"
      ]
     },
     "metadata": {},
     "output_type": "display_data"
    },
    {
     "name": "stdout",
     "output_type": "stream",
     "text": [
      "Downloading 22/25: Guadeloupe_2022/data_22.tif\n"
     ]
    },
    {
     "data": {
      "application/vnd.jupyter.widget-view+json": {
       "model_id": "8b9358793bbf4b91aa4c4100fcf9c9c7",
       "version_major": 2,
       "version_minor": 0
      },
      "text/plain": [
       "data_22.tif: |          | 0.00/407M (raw) [  0.0%] in 00:00 (eta:     ?)"
      ]
     },
     "metadata": {},
     "output_type": "display_data"
    },
    {
     "name": "stdout",
     "output_type": "stream",
     "text": [
      "Downloading 23/25: Guadeloupe_2022/data_23.tif\n"
     ]
    },
    {
     "data": {
      "application/vnd.jupyter.widget-view+json": {
       "model_id": "e0010442554944839f378ff230f58782",
       "version_major": 2,
       "version_minor": 0
      },
      "text/plain": [
       "data_23.tif: |          | 0.00/408M (raw) [  0.0%] in 00:00 (eta:     ?)"
      ]
     },
     "metadata": {},
     "output_type": "display_data"
    },
    {
     "name": "stdout",
     "output_type": "stream",
     "text": [
      "Downloading 24/25: Guadeloupe_2022/data_24.tif\n"
     ]
    },
    {
     "data": {
      "application/vnd.jupyter.widget-view+json": {
       "model_id": "1a817aee5ffe4f229112b4e85282083b",
       "version_major": 2,
       "version_minor": 0
      },
      "text/plain": [
       "data_24.tif: |          | 0.00/409M (raw) [  0.0%] in 00:00 (eta:     ?)"
      ]
     },
     "metadata": {},
     "output_type": "display_data"
    },
    {
     "name": "stdout",
     "output_type": "stream",
     "text": [
      "Downloading 25/25: Guadeloupe_2022/data_25.tif\n"
     ]
    },
    {
     "data": {
      "application/vnd.jupyter.widget-view+json": {
       "model_id": "c5342e6b7f97467299a225056ddc5c6f",
       "version_major": 2,
       "version_minor": 0
      },
      "text/plain": [
       "data_25.tif: |          | 0.00/410M (raw) [  0.0%] in 00:00 (eta:     ?)"
      ]
     },
     "metadata": {},
     "output_type": "display_data"
    },
    {
     "name": "stderr",
     "output_type": "stream",
     "text": [
      "100%|██████████| 16/16 [00:12<00:00,  1.30it/s]\n",
      "100%|██████████| 16/16 [00:00<00:00, 1602.64it/s]\n"
     ]
    },
    {
     "name": "stdout",
     "output_type": "stream",
     "text": [
      "Downloading 1/25: Martinique_2022/data_01.tif\n"
     ]
    },
    {
     "data": {
      "application/vnd.jupyter.widget-view+json": {
       "model_id": "8673d81e008e4d62a13048f6260ea476",
       "version_major": 2,
       "version_minor": 0
      },
      "text/plain": [
       "data_01.tif: |          | 0.00/183M (raw) [  0.0%] in 00:00 (eta:     ?)"
      ]
     },
     "metadata": {},
     "output_type": "display_data"
    },
    {
     "name": "stdout",
     "output_type": "stream",
     "text": [
      "Downloading 2/25: Martinique_2022/data_02.tif\n"
     ]
    },
    {
     "data": {
      "application/vnd.jupyter.widget-view+json": {
       "model_id": "7fc34a6228124ea9984e93d384f83617",
       "version_major": 2,
       "version_minor": 0
      },
      "text/plain": [
       "data_02.tif: |          | 0.00/184M (raw) [  0.0%] in 00:00 (eta:     ?)"
      ]
     },
     "metadata": {},
     "output_type": "display_data"
    },
    {
     "name": "stdout",
     "output_type": "stream",
     "text": [
      "Downloading 3/25: Martinique_2022/data_03.tif\n"
     ]
    },
    {
     "data": {
      "application/vnd.jupyter.widget-view+json": {
       "model_id": "e399b391241644cc847d4a8c7acbc346",
       "version_major": 2,
       "version_minor": 0
      },
      "text/plain": [
       "data_03.tif: |          | 0.00/184M (raw) [  0.0%] in 00:00 (eta:     ?)"
      ]
     },
     "metadata": {},
     "output_type": "display_data"
    },
    {
     "name": "stdout",
     "output_type": "stream",
     "text": [
      "Downloading 4/25: Martinique_2022/data_04.tif\n"
     ]
    },
    {
     "data": {
      "application/vnd.jupyter.widget-view+json": {
       "model_id": "8c9a3532102d424bbf6b2dfcb0b009bc",
       "version_major": 2,
       "version_minor": 0
      },
      "text/plain": [
       "data_04.tif: |          | 0.00/184M (raw) [  0.0%] in 00:00 (eta:     ?)"
      ]
     },
     "metadata": {},
     "output_type": "display_data"
    },
    {
     "name": "stdout",
     "output_type": "stream",
     "text": [
      "Downloading 5/25: Martinique_2022/data_05.tif\n"
     ]
    },
    {
     "data": {
      "application/vnd.jupyter.widget-view+json": {
       "model_id": "515ef519891b40dd96d10882bf14f398",
       "version_major": 2,
       "version_minor": 0
      },
      "text/plain": [
       "data_05.tif: |          | 0.00/184M (raw) [  0.0%] in 00:00 (eta:     ?)"
      ]
     },
     "metadata": {},
     "output_type": "display_data"
    },
    {
     "name": "stdout",
     "output_type": "stream",
     "text": [
      "Downloading 6/25: Martinique_2022/data_06.tif\n"
     ]
    },
    {
     "data": {
      "application/vnd.jupyter.widget-view+json": {
       "model_id": "bdd704a6a8894240a2ce700614fc5301",
       "version_major": 2,
       "version_minor": 0
      },
      "text/plain": [
       "data_06.tif: |          | 0.00/183M (raw) [  0.0%] in 00:00 (eta:     ?)"
      ]
     },
     "metadata": {},
     "output_type": "display_data"
    },
    {
     "name": "stdout",
     "output_type": "stream",
     "text": [
      "Downloading 7/25: Martinique_2022/data_07.tif\n"
     ]
    },
    {
     "data": {
      "application/vnd.jupyter.widget-view+json": {
       "model_id": "4adf0fdfe97a48f9bdfd260d8c180dd2",
       "version_major": 2,
       "version_minor": 0
      },
      "text/plain": [
       "data_07.tif: |          | 0.00/183M (raw) [  0.0%] in 00:00 (eta:     ?)"
      ]
     },
     "metadata": {},
     "output_type": "display_data"
    },
    {
     "name": "stdout",
     "output_type": "stream",
     "text": [
      "Downloading 8/25: Martinique_2022/data_08.tif\n"
     ]
    },
    {
     "data": {
      "application/vnd.jupyter.widget-view+json": {
       "model_id": "d73ce47a169d4e24a625fd062487e890",
       "version_major": 2,
       "version_minor": 0
      },
      "text/plain": [
       "data_08.tif: |          | 0.00/183M (raw) [  0.0%] in 00:00 (eta:     ?)"
      ]
     },
     "metadata": {},
     "output_type": "display_data"
    },
    {
     "name": "stdout",
     "output_type": "stream",
     "text": [
      "Downloading 9/25: Martinique_2022/data_09.tif\n"
     ]
    },
    {
     "data": {
      "application/vnd.jupyter.widget-view+json": {
       "model_id": "8579c837a0964ad4a4d8997b1eccd442",
       "version_major": 2,
       "version_minor": 0
      },
      "text/plain": [
       "data_09.tif: |          | 0.00/184M (raw) [  0.0%] in 00:00 (eta:     ?)"
      ]
     },
     "metadata": {},
     "output_type": "display_data"
    },
    {
     "name": "stdout",
     "output_type": "stream",
     "text": [
      "Downloading 10/25: Martinique_2022/data_10.tif\n"
     ]
    },
    {
     "data": {
      "application/vnd.jupyter.widget-view+json": {
       "model_id": "5eeae1295aac405292af0456444d06e9",
       "version_major": 2,
       "version_minor": 0
      },
      "text/plain": [
       "data_10.tif: |          | 0.00/184M (raw) [  0.0%] in 00:00 (eta:     ?)"
      ]
     },
     "metadata": {},
     "output_type": "display_data"
    },
    {
     "name": "stdout",
     "output_type": "stream",
     "text": [
      "Downloading 11/25: Martinique_2022/data_11.tif\n"
     ]
    },
    {
     "data": {
      "application/vnd.jupyter.widget-view+json": {
       "model_id": "2d1e40c4485744008c3feac2a81eaeb6",
       "version_major": 2,
       "version_minor": 0
      },
      "text/plain": [
       "data_11.tif: |          | 0.00/183M (raw) [  0.0%] in 00:00 (eta:     ?)"
      ]
     },
     "metadata": {},
     "output_type": "display_data"
    },
    {
     "name": "stdout",
     "output_type": "stream",
     "text": [
      "Downloading 12/25: Martinique_2022/data_12.tif\n"
     ]
    },
    {
     "data": {
      "application/vnd.jupyter.widget-view+json": {
       "model_id": "42b0eacc89394d19aedc2d157c7e19b6",
       "version_major": 2,
       "version_minor": 0
      },
      "text/plain": [
       "data_12.tif: |          | 0.00/183M (raw) [  0.0%] in 00:00 (eta:     ?)"
      ]
     },
     "metadata": {},
     "output_type": "display_data"
    },
    {
     "name": "stdout",
     "output_type": "stream",
     "text": [
      "Downloading 13/25: Martinique_2022/data_13.tif\n"
     ]
    },
    {
     "data": {
      "application/vnd.jupyter.widget-view+json": {
       "model_id": "4ae38bd14f50450994f4ca6deec258da",
       "version_major": 2,
       "version_minor": 0
      },
      "text/plain": [
       "data_13.tif: |          | 0.00/184M (raw) [  0.0%] in 00:00 (eta:     ?)"
      ]
     },
     "metadata": {},
     "output_type": "display_data"
    },
    {
     "name": "stdout",
     "output_type": "stream",
     "text": [
      "Downloading 14/25: Martinique_2022/data_14.tif\n"
     ]
    },
    {
     "data": {
      "application/vnd.jupyter.widget-view+json": {
       "model_id": "1038ae9e4c0147afa9d9c0f23a3f32ad",
       "version_major": 2,
       "version_minor": 0
      },
      "text/plain": [
       "data_14.tif: |          | 0.00/184M (raw) [  0.0%] in 00:00 (eta:     ?)"
      ]
     },
     "metadata": {},
     "output_type": "display_data"
    },
    {
     "name": "stdout",
     "output_type": "stream",
     "text": [
      "Downloading 15/25: Martinique_2022/data_15.tif\n"
     ]
    },
    {
     "data": {
      "application/vnd.jupyter.widget-view+json": {
       "model_id": "6a57c51cd4de4a51898a232ad6a95658",
       "version_major": 2,
       "version_minor": 0
      },
      "text/plain": [
       "data_15.tif: |          | 0.00/184M (raw) [  0.0%] in 00:00 (eta:     ?)"
      ]
     },
     "metadata": {},
     "output_type": "display_data"
    },
    {
     "name": "stdout",
     "output_type": "stream",
     "text": [
      "Downloading 16/25: Martinique_2022/data_16.tif\n"
     ]
    },
    {
     "data": {
      "application/vnd.jupyter.widget-view+json": {
       "model_id": "ab367a8e867e46a6b2073faf9856a5b1",
       "version_major": 2,
       "version_minor": 0
      },
      "text/plain": [
       "data_16.tif: |          | 0.00/183M (raw) [  0.0%] in 00:00 (eta:     ?)"
      ]
     },
     "metadata": {},
     "output_type": "display_data"
    },
    {
     "name": "stdout",
     "output_type": "stream",
     "text": [
      "Downloading 17/25: Martinique_2022/data_17.tif\n"
     ]
    },
    {
     "data": {
      "application/vnd.jupyter.widget-view+json": {
       "model_id": "d1907886af214cf4a8beaed5f91f2104",
       "version_major": 2,
       "version_minor": 0
      },
      "text/plain": [
       "data_17.tif: |          | 0.00/183M (raw) [  0.0%] in 00:00 (eta:     ?)"
      ]
     },
     "metadata": {},
     "output_type": "display_data"
    },
    {
     "name": "stdout",
     "output_type": "stream",
     "text": [
      "Downloading 18/25: Martinique_2022/data_18.tif\n"
     ]
    },
    {
     "data": {
      "application/vnd.jupyter.widget-view+json": {
       "model_id": "ea090b91e6344c82a56d508b9acfd0f1",
       "version_major": 2,
       "version_minor": 0
      },
      "text/plain": [
       "data_18.tif: |          | 0.00/183M (raw) [  0.0%] in 00:00 (eta:     ?)"
      ]
     },
     "metadata": {},
     "output_type": "display_data"
    },
    {
     "name": "stdout",
     "output_type": "stream",
     "text": [
      "Downloading 19/25: Martinique_2022/data_19.tif\n"
     ]
    },
    {
     "data": {
      "application/vnd.jupyter.widget-view+json": {
       "model_id": "d342ad68335e42edbbecc10a8a60c1b7",
       "version_major": 2,
       "version_minor": 0
      },
      "text/plain": [
       "data_19.tif: |          | 0.00/184M (raw) [  0.0%] in 00:00 (eta:     ?)"
      ]
     },
     "metadata": {},
     "output_type": "display_data"
    },
    {
     "name": "stdout",
     "output_type": "stream",
     "text": [
      "Downloading 20/25: Martinique_2022/data_20.tif\n"
     ]
    },
    {
     "data": {
      "application/vnd.jupyter.widget-view+json": {
       "model_id": "816dcedc55a342b797ef118fadb1d836",
       "version_major": 2,
       "version_minor": 0
      },
      "text/plain": [
       "data_20.tif: |          | 0.00/184M (raw) [  0.0%] in 00:00 (eta:     ?)"
      ]
     },
     "metadata": {},
     "output_type": "display_data"
    },
    {
     "name": "stdout",
     "output_type": "stream",
     "text": [
      "Downloading 21/25: Martinique_2022/data_21.tif\n"
     ]
    },
    {
     "data": {
      "application/vnd.jupyter.widget-view+json": {
       "model_id": "fc79982a0db04591ada96fdd5d56c77c",
       "version_major": 2,
       "version_minor": 0
      },
      "text/plain": [
       "data_21.tif: |          | 0.00/183M (raw) [  0.0%] in 00:00 (eta:     ?)"
      ]
     },
     "metadata": {},
     "output_type": "display_data"
    },
    {
     "name": "stdout",
     "output_type": "stream",
     "text": [
      "Downloading 22/25: Martinique_2022/data_22.tif\n"
     ]
    },
    {
     "data": {
      "application/vnd.jupyter.widget-view+json": {
       "model_id": "73a47744618e48849f6ae34e0b8403a3",
       "version_major": 2,
       "version_minor": 0
      },
      "text/plain": [
       "data_22.tif: |          | 0.00/183M (raw) [  0.0%] in 00:00 (eta:     ?)"
      ]
     },
     "metadata": {},
     "output_type": "display_data"
    },
    {
     "name": "stdout",
     "output_type": "stream",
     "text": [
      "Downloading 23/25: Martinique_2022/data_23.tif\n"
     ]
    },
    {
     "data": {
      "application/vnd.jupyter.widget-view+json": {
       "model_id": "4f35afc2be4b4f9f80a81442cd9dda06",
       "version_major": 2,
       "version_minor": 0
      },
      "text/plain": [
       "data_23.tif: |          | 0.00/183M (raw) [  0.0%] in 00:00 (eta:     ?)"
      ]
     },
     "metadata": {},
     "output_type": "display_data"
    },
    {
     "name": "stdout",
     "output_type": "stream",
     "text": [
      "Downloading 24/25: Martinique_2022/data_24.tif\n"
     ]
    },
    {
     "data": {
      "application/vnd.jupyter.widget-view+json": {
       "model_id": "b3fc4a1fcbb24e9284bf53ad33679362",
       "version_major": 2,
       "version_minor": 0
      },
      "text/plain": [
       "data_24.tif: |          | 0.00/184M (raw) [  0.0%] in 00:00 (eta:     ?)"
      ]
     },
     "metadata": {},
     "output_type": "display_data"
    },
    {
     "name": "stdout",
     "output_type": "stream",
     "text": [
      "Downloading 25/25: Martinique_2022/data_25.tif\n"
     ]
    },
    {
     "data": {
      "application/vnd.jupyter.widget-view+json": {
       "model_id": "58df97d3e7744f129351c6666489f042",
       "version_major": 2,
       "version_minor": 0
      },
      "text/plain": [
       "data_25.tif: |          | 0.00/184M (raw) [  0.0%] in 00:00 (eta:     ?)"
      ]
     },
     "metadata": {},
     "output_type": "display_data"
    },
    {
     "name": "stderr",
     "output_type": "stream",
     "text": [
      "100%|██████████| 16/16 [00:06<00:00,  2.49it/s]\n",
      "100%|██████████| 16/16 [00:00<00:00, 4244.17it/s]\n"
     ]
    }
   ],
   "source": [
    "export_s2_no_cloud(\n",
    "    \"Guadeloupe\",\n",
    "    AOIs,\n",
    "    EPSGs,\n",
    "    START_DATE,\n",
    "    END_DATE,\n",
    "    CLOUD_FILTER,\n",
    "    CLD_PRB_THRESH,\n",
    "    NIR_DRK_THRESH,\n",
    "    CLD_PRJ_DIST,\n",
    "    BUFFER,\n",
    ") \n",
    "\n",
    "export_s2_no_cloud(\n",
    "    \"Martinique\",\n",
    "    AOIs,\n",
    "    EPSGs,\n",
    "    START_DATE,\n",
    "    END_DATE,\n",
    "    CLOUD_FILTER,\n",
    "    CLD_PRB_THRESH,\n",
    "    NIR_DRK_THRESH,\n",
    "    CLD_PRJ_DIST,\n",
    "    BUFFER,\n",
    ")\n",
    "\n",
    "export_s2_no_cloud(\n",
    "    \"Mayotte\",\n",
    "    AOIs,\n",
    "    EPSGs,\n",
    "    START_DATE,\n",
    "    END_DATE,\n",
    "    CLOUD_FILTER,\n",
    "    CLD_PRB_THRESH,\n",
    "    NIR_DRK_THRESH,\n",
    "    CLD_PRJ_DIST,\n",
    "    BUFFER,\n",
    ")\n",
    "\n",
    "# export_s2_no_cloud(\n",
    "#     \"Guyane\",\n",
    "#     AOIs,\n",
    "#     EPSGs,\n",
    "#     START_DATE,\n",
    "#     END_DATE,\n",
    "#     CLOUD_FILTER,\n",
    "#     CLD_PRB_THRESH,\n",
    "#     NIR_DRK_THRESH,\n",
    "#     CLD_PRJ_DIST,\n",
    "#     BUFFER,\n",
    "# )"
   ]
  },
  {
   "attachments": {},
   "cell_type": "markdown",
   "metadata": {},
   "source": [
    "Upload de données déjà téléchargées pour 2021 et par DROM"
   ]
  },
  {
   "cell_type": "code",
   "execution_count": null,
   "metadata": {},
   "outputs": [],
   "source": [
    "upload_satelliteImages(\n",
    "    \"Guadeloupe_2021\",\n",
    "    'projet-slums-detection/Donnees/SENTINEL2/GUADELOUPE/TUILES_2021',\n",
    "    250)\n",
    "\n",
    "upload_satelliteImages(\n",
    "    \"Martinique_2021\",\n",
    "    'projet-slums-detection/Donnees/SENTINEL2/MARTINIQUE/TUILES_2021',\n",
    "    250)\n",
    "\n",
    "upload_satelliteImages(\n",
    "    \"Mayotte_2021\",\n",
    "    'projet-slums-detection/Donnees/SENTINEL2/MAYOTTE/TUILES_2021',\n",
    "    250)"
   ]
  },
  {
   "attachments": {},
   "cell_type": "markdown",
   "metadata": {},
   "source": [
    "Upload de données déjà téléchargées pour 2022 et par DROM"
   ]
  },
  {
   "cell_type": "code",
   "execution_count": null,
   "metadata": {},
   "outputs": [],
   "source": [
    "upload_satelliteImages(\n",
    "    \"Guadeloupe_2022\",\n",
    "    'projet-slums-detection/Donnees/SENTINEL2/GUADELOUPE/TUILES_2022',\n",
    "    250)\n",
    "\n",
    "upload_satelliteImages(\n",
    "    \"Martinique_2022\",\n",
    "    'projet-slums-detection/Donnees/SENTINEL2/MARTINIQUE/TUILES_2022',\n",
    "    250)\n",
    "\n",
    "upload_satelliteImages(\n",
    "    \"Mayotte_2022\",\n",
    "    'projet-slums-detection/Donnees/SENTINEL2/MAYOTTE/TUILES_2022',\n",
    "    250)"
   ]
  }
 ],
 "metadata": {
  "kernelspec": {
   "display_name": "base",
   "language": "python",
   "name": "python3"
  },
  "language_info": {
   "codemirror_mode": {
    "name": "ipython",
    "version": 3
   },
   "file_extension": ".py",
   "mimetype": "text/x-python",
   "name": "python",
   "nbconvert_exporter": "python",
   "pygments_lexer": "ipython3",
   "version": "3.10.9"
  },
  "orig_nbformat": 4
 },
 "nbformat": 4,
 "nbformat_minor": 2
}
