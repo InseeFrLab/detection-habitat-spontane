{
 "cells": [
  {
   "cell_type": "markdown",
   "id": "604dcce5-613a-47aa-bb08-3d7bbd724051",
   "metadata": {},
   "source": [
    "# Execution du papier : Unsupervised change detection ACP + kmeans"
   ]
  },
  {
   "cell_type": "code",
   "execution_count": null,
   "id": "55a5c423-310e-4997-a435-211497b751fb",
   "metadata": {
    "tags": []
   },
   "outputs": [],
   "source": [
    "! pip install rasterio\n",
    "! pip install geopandas \n",
    "! pip install pyarrow\n",
    "! pip install matplotlib\n",
    "! pip install albumentations\n",
    "!pip install pytorch-lightning\n"
   ]
  },
  {
   "cell_type": "code",
   "execution_count": 4,
   "id": "5915c8a4-aa35-4438-9ca9-f655f559f32a",
   "metadata": {
    "tags": []
   },
   "outputs": [],
   "source": [
    "import sys\n",
    "sys.path.append('../../src')\n",
    "from satellite_image import SatelliteImage\n",
    "from utils import *\n",
    "from plot_utils import *\n",
    "\n",
    "import yaml\n",
    "import re\n",
    "import s3fs\n",
    "import numpy as np\n",
    "import matplotlib.pyplot as plt\n",
    "#import cv2\n",
    "from PIL import Image as im\n",
    "\n",
    "from datetime import date\n",
    "import re\n",
    "import pyproj\n"
   ]
  },
  {
   "cell_type": "code",
   "execution_count": 5,
   "id": "faa3d67a-6ffc-488e-a086-95c5efdfb76f",
   "metadata": {
    "tags": []
   },
   "outputs": [],
   "source": [
    "update_storage_access()\n",
    "environment = get_environment()\n",
    "\n",
    "root_path = get_root_path()\n",
    "bucket = environment[\"bucket\"]\n",
    "path_s3_cayenne_data = environment[\"sources\"][\"PLEIADES\"][2022][\"guyane\"]\n",
    "path_local_cayenne_data = os.path.join(root_path, environment[\"local-path\"][\"PLEIADES\"][2022][\"guyane\"])\n",
    "\n",
    "bucket = environment[\"bucket\"]\n",
    "\n",
    "path_s3_pleiades_data_2022_guyane = environment[\"sources\"][\"PLEIADES\"][2022][\"guyane\"]\n",
    "path_s3_bdtopo_data_2022_guyane = environment[\"sources\"][\"BDTOPO\"][2022][\"guyane\"]\n",
    "path_local_pleiades_data_2022_guyane = environment[\"local-path\"][\"PLEIADES\"][2022][\"guyane\"]\n",
    "path_local_bdtopo_data_2022_guyane = environment[\"local-path\"][\"BDTOPO\"][2022][\"guyane\"]\n",
    "\n",
    "path_s3_pleiades_data_2022_martinique = environment[\"sources\"][\"PLEIADES\"][2022][\"martinique\"]\n",
    "path_local_pleiades_data_2022_martinique = environment[\"local-path\"][\"PLEIADES\"][2022][\"martinique\"]\n",
    "\n",
    "path_s3_pleiades_data_2017_martinique = environment[\"sources\"][\"PLEIADES\"][2017][\"martinique\"]\n",
    "path_local_pleiades_data_2017_martinique = environment[\"local-path\"][\"PLEIADES\"][2017][\"martinique\"]\n",
    "\n",
    "fs = s3fs.S3FileSystem(client_kwargs={\"endpoint_url\": \"https://minio.lab.sspcloud.fr\"})"
   ]
  },
  {
   "cell_type": "code",
   "execution_count": null,
   "id": "e6444d62-16df-41cd-8f20-9a4c8d439550",
   "metadata": {
    "tags": []
   },
   "outputs": [],
   "source": [
    "# DL PLEIADE martinique 2017\n",
    "fs.download(\n",
    "        rpath=f\"{bucket}/{path_s3_pleiades_data_2017_martinique}\",\n",
    "        lpath=f\"../{path_local_pleiades_data_2017_martinique}\",\n",
    "        recursive=True)\n",
    "\n",
    "# DL PLEIADE martinique 2022\n",
    "fs.download(\n",
    "        rpath=f\"{bucket}/{path_s3_pleiades_data_2022_martinique}\",\n",
    "        lpath=f\"../{path_local_pleiades_data_2022_martinique}\",\n",
    "        recursive=True)"
   ]
  },
  {
   "cell_type": "code",
   "execution_count": 8,
   "id": "6157ef54-8386-49f5-a3f9-b6903e3a7274",
   "metadata": {
    "tags": []
   },
   "outputs": [],
   "source": [
    "\n",
    "#crs = 5490 pour la martinique\n",
    "def gps_to_crs_point(lat,lon,crs) :\n",
    "    \n",
    "    # Définir les systèmes de coordonnées de départ et d'arrivée\n",
    "    src_proj = pyproj.Proj(proj='latlong')\n",
    "    dest_proj = pyproj.Proj(crs)\n",
    "    \n",
    "    # Convertir les coordonnées GPS en coordonnées dans le système de coordonnées de destination (CRS)\n",
    "    x, y = pyproj.transform(src_proj, dest_proj, lon, lat)\n",
    "    \n",
    "    # Retourner les coordonnées dans le CRS spécifié\n",
    "    return x, y\n",
    "\n",
    "#ca serait bien de faire une fonction qui cherche dans l'ensemble des données l'image qui contiendra cette coordonées.\n",
    "\n",
    "def find_image_of_point(coordinate, folder_path, coord_gps = False, crs = None) :\n",
    "        \n",
    "    if coord_gps == True :  \n",
    "        lat, lon = coordinate\n",
    "        x,y = gps_to_crs_point(lat,lon,crs) #car y=lat et x=lon, les coordonnées gps sont en (lat,lon)\n",
    "    else :\n",
    "        x,y = coordinate\n",
    "                                          \n",
    "    for filename in os.listdir(folder_path):\n",
    "        \n",
    "        # Define a list of delimiter characters\n",
    "        delimiters = [\"-\", \"_\"]\n",
    "\n",
    "        # Create a regular expression pattern from the delimiter characters\n",
    "        pattern = \"|\".join(delimiters)\n",
    "\n",
    "        # Split the string using the regular expression pattern\n",
    "        split_filename = re.split(pattern, filename)\n",
    "        \n",
    "        left = float(split_filename[2])*1000\n",
    "        top = float(split_filename[3])*1000\n",
    "        right = left + 1000.0\n",
    "        bottom = top - 1000.0\n",
    "         \n",
    "        if left <= x <= right:\n",
    "            if bottom <= y <= top:\n",
    "                return(folder_path + '/' +filename)\n",
    "    else : \n",
    "        return(\"Le point n'est pas retrouvé dans ce fichier d'images\")\n",
    "           \n"
   ]
  },
  {
   "cell_type": "markdown",
   "id": "93c54846-1bc3-4fa5-aedd-7f089dd91c3e",
   "metadata": {
    "tags": []
   },
   "source": [
    "## Plus qu'à sortir 2 images nettes  de la martinique"
   ]
  },
  {
   "cell_type": "code",
   "execution_count": 13,
   "id": "052414aa-52d9-4d97-925a-20db9c40a861",
   "metadata": {
    "tags": []
   },
   "outputs": [],
   "source": [
    "#\n",
    "# 14.769096787469728, -60.90006133637827 -> badant nuages..\n",
    "# 14.760965395697703, -60.9138387873933 -> idem..\n",
    "# 14.473329886162876, -60.91973210908688 -> idem\n",
    "# \n",
    "coordinate  = (14.479541, -61.029952)\n",
    "folder_path1 = \"../data/PLEIADES/2017/MARTINIQUE\"\n",
    "folder_path2 = \"../data/PLEIADES/2022/MARTINIQUE\"\n",
    "\n",
    "coord_gps = True\n",
    "path_t = find_image_of_point(\n",
    "                                   coordinate,\n",
    "                                   folder_path1,\n",
    "                                   coord_gps,\n",
    "                                    crs = 5490\n",
    "                                  )\n",
    "path_tplus1= find_image_of_point(\n",
    "                                   coordinate,\n",
    "                                   folder_path2,\n",
    "                                   coord_gps,\n",
    "                                    crs = 5490\n",
    "                                  )\n",
    "\n",
    "#fromraster !!\n",
    "#on recharge l'image originale\n",
    "image_t = SatelliteImage.from_raster(\n",
    "        path_t,\n",
    "        date = 2017, \n",
    "        n_bands = 3,\n",
    "        dep = \"972\"\n",
    "    )\n",
    "image_tplus1 = SatelliteImage.from_raster(\n",
    "        path_tplus1,\n",
    "        date = 2022, \n",
    "        n_bands = 3,\n",
    "        dep = \"972\"\n",
    "    )\n",
    "\n",
    "\n",
    "#image_t.plot([0,1,2])\n",
    "#image_tplus1.plot([0,1,2])"
   ]
  },
  {
   "cell_type": "code",
   "execution_count": 43,
   "id": "0fc74e4d-08b2-4b40-8eb0-d6b5d2262251",
   "metadata": {
    "tags": []
   },
   "outputs": [],
   "source": [
    "import pandas\n",
    "tile_size =100\n",
    "list_patch_t = image_t.split(tile_size)\n",
    "#plot_list_satellite_images(list_patch,[0,1,2])\n",
    "list_patch_tplusun = image_tplus1.split(tile_size)\n",
    "list_diff = np.array([ np.ndarray.flatten(abs(im1.array - im2.array)) for im1, im2 in zip(list_patch_t,list_patch_tplusun)])\n",
    "\n",
    "df = pandas.DataFrame(list_diff)\n",
    "df.head() # On a bien 400 individus et 30000 collonnes RGBx1000x1000\n",
    "\n",
    "\n",
    "# refaire la mosaique avec les 2 classes noires et blanc"
   ]
  },
  {
   "cell_type": "markdown",
   "id": "27f1633a-09cd-4639-a4d9-a434ee772b3b",
   "metadata": {},
   "source": [
    "## PCA"
   ]
  },
  {
   "cell_type": "code",
   "execution_count": 44,
   "id": "20f070f4-ed91-4a54-b259-4872a5f44454",
   "metadata": {
    "tags": []
   },
   "outputs": [],
   "source": [
    "from sklearn.decomposition import PCA\n",
    "pca = PCA(n_components=10)\n",
    "pcacomp = pca.fit_transform(df)# on a les projections sjur les axes là dedans\n",
    "pcacomp.shape"
   ]
  },
  {
   "cell_type": "markdown",
   "id": "5f396303-4a01-481d-a74f-eef44c39f211",
   "metadata": {},
   "source": [
    "## k means"
   ]
  },
  {
   "cell_type": "code",
   "execution_count": 47,
   "id": "efe4c005-36b1-4624-9d47-f1b9cb2bab08",
   "metadata": {
    "tags": []
   },
   "outputs": [],
   "source": [
    "from sklearn.cluster import KMeans\n",
    "\n",
    "kmeans = KMeans(n_clusters=2, random_state=0, n_init=\"auto\").fit(pcacomp)\n",
    "kmeans.labels_ # Ok 2 classes 0 1\n",
    "\n",
    "# je créer une image noir\n",
    "\n",
    "arr_black = np.zeros((3,tile_size,tile_size))\n"
   ]
  },
  {
   "cell_type": "markdown",
   "id": "1847017a-02bc-46d0-8f5f-8a507a6831dc",
   "metadata": {},
   "source": [
    "## Représentation"
   ]
  },
  {
   "cell_type": "code",
   "execution_count": 58,
   "id": "484830ea-d6f3-4aff-9681-868c89848c18",
   "metadata": {
    "tags": []
   },
   "outputs": [],
   "source": [
    "\n",
    "liste_patch_noir_blanc = [SatelliteImage(\n",
    "        array = arr_black+i ,\n",
    "        crs = 2,\n",
    "        bounds = img.bounds,\n",
    "        transform = None,\n",
    "        n_bands= 3,\n",
    "        filename = \"\",\n",
    "        dep = None,\n",
    "        normalized = True\n",
    "    ) for i,img in  zip(kmeans.labels_,list_patch_t) ]\n",
    "\n",
    "plot_list_satellite_images(list_patch_t,[0,1,2])\n",
    "plot_list_satellite_images(list_patch_tplusun,[0,1,2])\n",
    "\n",
    "plot_list_satellite_images(liste_patch_noir_blanc,[0,1,2])"
   ]
  },
  {
   "cell_type": "code",
   "execution_count": 62,
   "id": "f2471e59-f587-45c8-be69-c057e5cefc8d",
   "metadata": {
    "tags": []
   },
   "outputs": [],
   "source": [
    "numeric_vector = [np.sum(abs(im1.array - im2.array)) for im1, im2 in zip(list_patch_t,list_patch_tplusun)]\n",
    "\n",
    "category_vector = kmeans.labels_\n",
    "\n",
    "# Create a DataFrame from the data\n",
    "df = pandas.DataFrame({'numeric_vector': numeric_vector, 'category_vector': category_vector})\n",
    "\n",
    "# Group the data by categories and compute the mean\n",
    "grouped = df.groupby('category_vector')\n",
    "mean_by_category = grouped.mean()\n",
    "\n",
    "print(mean_by_category)\n"
   ]
  },
  {
   "cell_type": "markdown",
   "id": "329971da-4afd-4bf7-babd-9ef98bf1ff99",
   "metadata": {},
   "source": [
    "1 = les changements\n",
    "0 (noir moins de changements) ?"
   ]
  },
  {
   "cell_type": "markdown",
   "id": "69a3656d-17f9-4313-8265-04ce71682da8",
   "metadata": {},
   "source": [
    "\n",
    "Planning :\n",
    "1) Difference image + decoupage en petit patch\n",
    "2) ACP ou tsne\n",
    "3) k means\n",
    "4)class avec change max\n",
    "5) eventuellement classifier le patch en sortie\n",
    "6) TSNE <3 https://cs.nyu.edu/~roweis/papers/sne_final.pdf -> on regarde pour chaque paire 2 points, on calcule la proba que le point en question soit voisin pij = dist(xi,xj)/sum(dist(xi,xk) k diff i.  On obtient des poj basés sur les xk en grande dimension. On essaie de trouver des vecteurs de plus petite dimension yi à la place de chaque xi. pour sque qij -= dist(xi,xj)/sum(dits(yi,yk)) soit proche des pij et on aura donc notre embedding. ! marche bien pour le noim convexe. s'intéresse plus aux similarités locales ? car ion en regarde pas les voisins après un une certaine distance(cf le sigma de la gaussienne neutralise la distance des points trop eloignés).\n",
    "\n",
    "## Faire en sort que les plots retrounent des objets plots ?"
   ]
  }
 ],
 "metadata": {
  "kernelspec": {
   "display_name": "Python 3 (ipykernel)",
   "language": "python",
   "name": "python3"
  },
  "language_info": {
   "codemirror_mode": {
    "name": "ipython",
    "version": 3
   },
   "file_extension": ".py",
   "mimetype": "text/x-python",
   "name": "python",
   "nbconvert_exporter": "python",
   "pygments_lexer": "ipython3",
   "version": "3.10.9"
  }
 },
 "nbformat": 4,
 "nbformat_minor": 5
}
