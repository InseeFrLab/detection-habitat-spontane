{
 "cells": [
  {
   "cell_type": "code",
   "execution_count": 1,
   "id": "4c411e5c-83ab-4089-a669-d3cb3cde7d9f",
   "metadata": {
    "tags": []
   },
   "outputs": [],
   "source": [
    "%load_ext autoreload\n",
    "%autoreload 2"
   ]
  },
  {
   "cell_type": "code",
   "execution_count": 2,
   "id": "f78bc04a-dfda-45bd-b639-bfec7fb44faf",
   "metadata": {
    "tags": []
   },
   "outputs": [],
   "source": [
    "%reload_ext autoreload"
   ]
  },
  {
   "cell_type": "code",
   "execution_count": 137,
   "id": "ec07f884-0236-4c2b-b048-424a218b30ad",
   "metadata": {
    "tags": []
   },
   "outputs": [],
   "source": [
    "import sys\n",
    "sys.path.append('../src')\n",
    "from satellite_image import SatelliteImage\n",
    "from utils import *\n",
    "from plot_utils import *\n",
    "from mappings import *\n",
    "from labeler import (RIL_BDTOPOLabeler, BDTOPOLabeler, RILLabeler)\n",
    "from labeled_satellite_image import SegmentationLabeledSatelliteImage"
   ]
  },
  {
   "cell_type": "code",
   "execution_count": 5,
   "id": "e118a705-fbf6-4f15-a2d2-9253fccb003f",
   "metadata": {
    "tags": []
   },
   "outputs": [],
   "source": [
    "import s3fs\n",
    "import matplotlib.pyplot as plt\n",
    "import re"
   ]
  },
  {
   "cell_type": "code",
   "execution_count": 6,
   "id": "df0ccd08-7a7d-4273-8ea6-1ab817537e8d",
   "metadata": {
    "tags": []
   },
   "outputs": [],
   "source": [
    "update_storage_access()\n",
    "\n",
    "environment = get_environment()\n",
    "\n",
    "root_path = get_root_path()\n",
    "\n",
    "bucket = environment[\"bucket\"]\n",
    "\n",
    "path_s3_pleiades_data_2022_guyane = environment[\"sources\"][\"PLEIADES\"][2022][\"guyane\"]\n",
    "path_local_pleiades_data_2022_guyane = environment[\"local-path\"][\"PLEIADES\"][2022][\"guyane\"]\n",
    "\n",
    "path_local_bdtopo_data_guyane = environment[\"local-path\"][\"BDTOPO\"][2022][\"guyane\"]\n",
    "path_s3_bdtopo_data_guyane = environment[\"sources\"][\"BDTOPO\"][2022][\"guyane\"]\n",
    "\n",
    "#martinique 2022\n",
    "path_s3_pleiades_data_2022_martinique = environment[\"sources\"][\"PLEIADES\"][2022][\"martinique\"]\n",
    "path_local_pleiades_data_2022_martinique = environment[\"local-path\"][\"PLEIADES\"][2022][\"martinique\"]\n",
    "\n",
    "path_local_bdtopo_data_martinique = environment[\"local-path\"][\"BDTOPO\"][2022][\"martinique\"]\n",
    "path_s3_bdtopo_data_martinique = environment[\"sources\"][\"BDTOPO\"][2022][\"martinique\"]\n",
    "\n",
    "fs = s3fs.S3FileSystem(client_kwargs={\"endpoint_url\": \"https://minio.lab.sspcloud.fr\"})\n",
    "\n"
   ]
  },
  {
   "cell_type": "code",
   "execution_count": 122,
   "id": "21ef8fb2-d963-496b-b8d8-271549190b72",
   "metadata": {
    "tags": []
   },
   "outputs": [],
   "source": [
    "fs.download(\n",
    "        rpath=f\"{bucket}/{path_s3_pleiades_data_2022_guyane}\",\n",
    "        lpath=f\"../{path_local_pleiades_data_2022_guyane}\",\n",
    "        recursive=True)\n",
    "\n",
    "fs.download(\n",
    "        rpath=f\"{bucket}/{path_s3_bdtopo_data_guyane}\",\n",
    "        lpath=f\"../{path_local_bdtopo_data_guyane}\",\n",
    "        recursive=True\n",
    ")"
   ]
  },
  {
   "cell_type": "code",
   "execution_count": 7,
   "id": "03a3397c-23a9-4c9a-9cdf-59161cfbb112",
   "metadata": {
    "tags": []
   },
   "outputs": [],
   "source": [
    "# DL PLEIADE martinique 2022\n",
    "fs.download(\n",
    "        rpath=f\"{bucket}/{path_s3_pleiades_data_2022_martinique}\",\n",
    "        lpath=f\"../{path_local_pleiades_data_2022_martinique}\",\n",
    "        recursive=True)"
   ]
  },
  {
   "cell_type": "code",
   "execution_count": 8,
   "id": "a46b5c74-e3a1-45e0-8932-e2e81f071731",
   "metadata": {
    "tags": []
   },
   "outputs": [],
   "source": [
    "fs.download(\n",
    "        rpath=f\"{bucket}/{path_s3_bdtopo_data_martinique}\",\n",
    "        lpath=f\"../{path_local_bdtopo_data_martinique}\",\n",
    "        recursive=True\n",
    ")"
   ]
  },
  {
   "cell_type": "code",
   "execution_count": 132,
   "id": "4de688dc-02b9-4c10-82bf-10fe8624b9e2",
   "metadata": {
    "tags": []
   },
   "outputs": [],
   "source": [
    "#mont baduel\n",
    "from image_utils import *\n",
    "find_image_of_point([4.918313, -52.303234], '../data/PLEIADES/2022/GUYANE', coord_gps = True)"
   ]
  },
  {
   "cell_type": "code",
   "execution_count": 148,
   "id": "e79b8dab-291a-48ea-9cee-9a59149bec4b",
   "metadata": {
    "tags": []
   },
   "outputs": [],
   "source": [
    "#filename = '../data/PLEIADES/2022/GUYANE/ORT_2022072050325085_0353_0545_U22N_16Bits.jp2'\n",
    "filename = '../data/PLEIADES/2022/GUYANE/ORT_2022072050325085_0355_0544_U22N_16Bits.jp2'\n",
    "date2022 = date.fromisoformat('2022-01-01')"
   ]
  },
  {
   "cell_type": "code",
   "execution_count": 149,
   "id": "aae373d1-d155-4b86-b9b1-5a706a989c99",
   "metadata": {
    "tags": []
   },
   "outputs": [],
   "source": [
    "image = SatelliteImage.from_raster(\n",
    "        filename,\n",
    "        date = date2022, \n",
    "        n_bands = 4,\n",
    "        dep = '973'\n",
    "    )\n",
    "image.normalize()"
   ]
  },
  {
   "cell_type": "code",
   "execution_count": 150,
   "id": "735be9f6-7455-4180-8f7d-21f584b86f38",
   "metadata": {
    "tags": []
   },
   "outputs": [],
   "source": [
    "labeler_RIL = RILLabeler(date2022, '973')"
   ]
  },
  {
   "cell_type": "code",
   "execution_count": 151,
   "id": "5ce20193-a77e-4e0b-995a-9eb1c6533435",
   "metadata": {
    "tags": []
   },
   "outputs": [],
   "source": [
    "mask_RIL = labeler_RIL.create_segmentation_label(image)"
   ]
  },
  {
   "cell_type": "code",
   "execution_count": 152,
   "id": "f8570428-8453-4511-8fd9-d7ed32b24caf",
   "metadata": {
    "tags": []
   },
   "outputs": [],
   "source": [
    "fig, ax = plt.subplots(figsize=(10, 10))\n",
    "ax.imshow(np.transpose(image.array, (1, 2, 0))[:,:,:3])\n",
    "ax.imshow(mask_RIL, alpha=0.3)"
   ]
  },
  {
   "cell_type": "code",
   "execution_count": 153,
   "id": "acca5e99-de53-484e-a6b7-367eb0be17d4",
   "metadata": {
    "tags": []
   },
   "outputs": [],
   "source": [
    "labeler_BDTOPO = BDTOPOLabeler(date2022, '973')"
   ]
  },
  {
   "cell_type": "code",
   "execution_count": 219,
   "id": "322c292a-9099-4415-8c64-622d1cad31c5",
   "metadata": {
    "tags": []
   },
   "outputs": [],
   "source": [
    "mask_BDTOPO = labeler_BDTOPO.create_segmentation_label(image)"
   ]
  },
  {
   "cell_type": "code",
   "execution_count": 155,
   "id": "2ca761b7-1587-4f3b-840d-5b0a82f6537b",
   "metadata": {
    "tags": []
   },
   "outputs": [],
   "source": [
    "fig, ax = plt.subplots(figsize=(10, 10))\n",
    "ax.imshow(np.transpose(image.array, (1, 2, 0))[:,:,:3])\n",
    "ax.imshow(mask_BDTOPO, alpha=0.3)"
   ]
  },
  {
   "cell_type": "code",
   "execution_count": 126,
   "id": "02b7a81a-ed7c-4005-85b3-426de92e8673",
   "metadata": {
    "tags": []
   },
   "outputs": [],
   "source": [
    "labeler_RIL_BDTOPO = RIL_BDTOPOLabeler(date2022, '973')"
   ]
  },
  {
   "cell_type": "code",
   "execution_count": 135,
   "id": "d983ba79-8aa4-44c4-8f99-ce317b22181e",
   "metadata": {
    "tags": []
   },
   "outputs": [],
   "source": [
    "mask_RIL_BDTOPO = labeler_RIL_BDTOPO.create_segmentation_label(image)"
   ]
  },
  {
   "cell_type": "code",
   "execution_count": 136,
   "id": "d3e3ce61-a6eb-4236-b536-4d4fdbd98187",
   "metadata": {
    "tags": []
   },
   "outputs": [],
   "source": [
    "fig, ax = plt.subplots(figsize=(10, 10))\n",
    "ax.imshow(np.transpose(image.array, (1, 2, 0))[:,:,:3])\n",
    "ax.imshow(mask_RIL_BDTOPO, alpha=0.3)"
   ]
  },
  {
   "cell_type": "code",
   "execution_count": 9,
   "id": "6c4fd7a6-f42c-415c-bdd1-b8b1526c030f",
   "metadata": {
    "tags": []
   },
   "outputs": [],
   "source": [
    "filename_1 = '../data/PLEIADES/2022/MARTINIQUE/ORT_2022_0711_1619_U20N_8Bits.jp2'\n",
    "date_1 = date.fromisoformat('2022-01-01')"
   ]
  },
  {
   "cell_type": "code",
   "execution_count": 70,
   "id": "3bf3141a-9546-4667-893f-9afc7b8ed7ec",
   "metadata": {
    "tags": []
   },
   "outputs": [],
   "source": [
    "image_1 = SatelliteImage.from_raster(\n",
    "        filename_1,\n",
    "        date = date_1, \n",
    "        n_bands = 3,\n",
    "        dep = '972'\n",
    "    )\n",
    "image_1.normalize()"
   ]
  },
  {
   "cell_type": "code",
   "execution_count": 11,
   "id": "cba20fe6-c4b9-465e-8f51-24094e2faca2",
   "metadata": {
    "tags": []
   },
   "outputs": [],
   "source": [
    "image_1.plot([0,1,2])"
   ]
  },
  {
   "cell_type": "code",
   "execution_count": 110,
   "id": "07f6ef24-a13e-45e9-943a-93c18c6db30e",
   "metadata": {
    "tags": []
   },
   "outputs": [],
   "source": [
    "labeler_BDTOPO_1 = BDTOPOLabeler(date_1, '972')"
   ]
  },
  {
   "cell_type": "code",
   "execution_count": 112,
   "id": "4599e8ee-c91d-4392-a674-aa5be964184a",
   "metadata": {
    "tags": []
   },
   "outputs": [],
   "source": [
    "mask_BDTOPO_1 = labeler_BDTOPO_1.create_segmentation_label(image_1)"
   ]
  },
  {
   "cell_type": "code",
   "execution_count": 113,
   "id": "2e13e445-ed83-4b24-9f70-92ca52cfca5c",
   "metadata": {
    "tags": []
   },
   "outputs": [],
   "source": [
    "fig, ax = plt.subplots(figsize=(10, 10))\n",
    "ax.imshow(np.transpose(image_1.array, (1, 2, 0))[:,:,:3])\n",
    "ax.imshow(mask_BDTOPO_1, alpha=0.3)"
   ]
  },
  {
   "cell_type": "code",
   "execution_count": 12,
   "id": "086e4978-e23f-430e-b92c-5ccab02d575b",
   "metadata": {
    "tags": []
   },
   "outputs": [],
   "source": [
    "labeler_RIL_BDTOPO_1 = RIL_BDTOPOLabeler(date_1, '972')"
   ]
  },
  {
   "cell_type": "code",
   "execution_count": 71,
   "id": "d6068867-5598-469a-a9c8-2d089c8760ab",
   "metadata": {
    "tags": []
   },
   "outputs": [],
   "source": [
    "mask_RIL_BDTOPO_1 = labeler_RIL_BDTOPO_1.create_segmentation_label(image_1)"
   ]
  },
  {
   "cell_type": "code",
   "execution_count": 111,
   "id": "0deb6b67-1c5a-4a59-ab7f-43cd1c43c668",
   "metadata": {
    "tags": []
   },
   "outputs": [],
   "source": [
    "fig, ax = plt.subplots(figsize=(10, 10))\n",
    "ax.imshow(np.transpose(image_1.array, (1, 2, 0))[:,:,:3])\n",
    "ax.imshow(mask_RIL_BDTOPO_1, alpha=0.3)"
   ]
  },
  {
   "cell_type": "code",
   "execution_count": 19,
   "id": "49b270f2-5652-4359-ad3c-a13654c5bd68",
   "metadata": {
    "tags": []
   },
   "outputs": [],
   "source": [
    "from sklearn.cluster import KMeans"
   ]
  },
  {
   "cell_type": "code",
   "execution_count": 76,
   "id": "31b4058b-1177-43f8-af2b-e2512c1463a8",
   "metadata": {
    "tags": []
   },
   "outputs": [],
   "source": [
    "from scipy.ndimage import label"
   ]
  },
  {
   "cell_type": "code",
   "execution_count": 101,
   "id": "9d71f915-566f-4033-9761-2929f5bb2998",
   "metadata": {
    "tags": []
   },
   "outputs": [],
   "source": [
    "import geopandas as gpd\n",
    "from rasterio.features import rasterize, shapes\n",
    "from shapely.geometry import Polygon, box"
   ]
  },
  {
   "cell_type": "code",
   "execution_count": 114,
   "id": "08136a7a-2a6b-4b97-adbe-3187718f07e9",
   "metadata": {
    "tags": []
   },
   "outputs": [],
   "source": [
    "height, width = image_1.array.shape[1:]\n",
    "\n",
    "# Create a list of polygons from the masked center clouds in order\n",
    "# to obtain a GeoDataFrame from it\n",
    "polygon_list = []\n",
    "for shape in list(shapes(mask_BDTOPO_1)):\n",
    "    polygon = Polygon(shape[0][\"coordinates\"][0])\n",
    "    if polygon.area > 0.85 * height * width:\n",
    "        continue\n",
    "    polygon_list.append(polygon)\n",
    "\n",
    "gdf = gpd.GeoDataFrame(geometry=polygon_list)"
   ]
  },
  {
   "cell_type": "code",
   "execution_count": 121,
   "id": "8ca6a2cf-0d76-4abd-b6fa-95e6ae9c78d4",
   "metadata": {
    "tags": []
   },
   "outputs": [],
   "source": [
    "# Calculer la taille de chaque polygon\n",
    "gdf['polygon_size'] = gdf.geometry.area\n",
    "\n",
    "# Préparer les données pour le clustering\n",
    "X = gdf['polygon_size'].values.reshape(-1, 1)\n",
    "\n",
    "# Initialiser l'algorithme de clustering KMeans\n",
    "kmeans = KMeans(n_clusters=6, random_state=0)\n",
    "\n",
    "# Appliquer le clustering aux tailles de polygons\n",
    "kmeans.fit(X)\n",
    "\n",
    "# Obtenir les étiquettes de cluster pour chaque taille de polygon\n",
    "labels = kmeans.predict(X)\n",
    "\n",
    "# Ajouter les étiquettes de cluster à la colonne correspondante du Geodataframe\n",
    "gdf['cluster'] = labels\n",
    "\n",
    "# Afficher les polygones avec leur couleur de cluster correspondante\n",
    "fig, ax = plt.subplots(figsize=(10, 10))\n",
    "ax.imshow(np.transpose(image_1.array, (1, 2, 0))[:,:,:3])\n",
    "gdf.plot(column='cluster', cmap='jet', ax=ax)"
   ]
  },
  {
   "cell_type": "code",
   "execution_count": 156,
   "id": "4b66cd2a-5465-4b08-8236-a6a7749edf75",
   "metadata": {
    "tags": []
   },
   "outputs": [],
   "source": [
    "from sklearn.cluster import AgglomerativeClustering"
   ]
  },
  {
   "cell_type": "code",
   "execution_count": 158,
   "id": "e02a072d-7e1c-4cb8-8cc6-1bf322f4b96b",
   "metadata": {
    "tags": []
   },
   "outputs": [],
   "source": [
    "height, width = image_1.array.shape[1:]\n",
    "\n",
    "# Create a list of polygons from the masked center clouds in order\n",
    "# to obtain a GeoDataFrame from it\n",
    "polygon_list = []\n",
    "for shape in list(shapes(mask_BDTOPO_1)):\n",
    "    polygon = Polygon(shape[0][\"coordinates\"][0])\n",
    "    if polygon.area > 0.85 * height * width:\n",
    "        continue\n",
    "    polygon_list.append(polygon)\n",
    "\n",
    "gdf = gpd.GeoDataFrame(geometry=polygon_list)\n",
    "\n",
    "# Calculer la taille de chaque polygon\n",
    "gdf['polygon_size'] = gdf.geometry.area\n",
    "\n",
    "# Initialiser l'algorithme de clustering hiérarchique ascendant\n",
    "agg_clustering = AgglomerativeClustering(n_clusters=4, linkage='ward')\n",
    "\n",
    "# Appliquer le clustering aux tailles de polygons\n",
    "agg_clustering.fit(X)\n",
    "\n",
    "# Obtenir les étiquettes de cluster pour chaque taille de polygon\n",
    "labels = agg_clustering.labels_\n",
    "\n",
    "# Ajouter les étiquettes de cluster à la colonne correspondante du Geodataframe\n",
    "gdf['cluster'] = labels\n",
    "\n",
    "# Afficher les polygones avec leur couleur de cluster correspondante\n",
    "fig, ax = plt.subplots(figsize=(10, 10))\n",
    "ax.imshow(np.transpose(image_1.array, (1, 2, 0))[:,:,:3])\n",
    "gdf.plot(column='cluster', cmap='jet', ax=ax)"
   ]
  },
  {
   "cell_type": "code",
   "execution_count": 159,
   "id": "f8e8bff0-8e8b-4338-af94-c1d4c8105a83",
   "metadata": {
    "tags": []
   },
   "outputs": [],
   "source": [
    "height, width = image_1.array.shape[1:]\n",
    "\n",
    "# Create a list of polygons from the masked center clouds in order\n",
    "# to obtain a GeoDataFrame from it\n",
    "polygon_list = []\n",
    "for shape in list(shapes(mask_BDTOPO_1)):\n",
    "    polygon = Polygon(shape[0][\"coordinates\"][0])\n",
    "    if polygon.area > 0.85 * height * width:\n",
    "        continue\n",
    "    polygon_list.append(polygon)\n",
    "\n",
    "gdf = gpd.GeoDataFrame(geometry=polygon_list)\n",
    "\n",
    "# Calculer la taille de chaque polygon\n",
    "gdf['polygon_size'] = gdf.geometry.area\n",
    "\n",
    "# Initialiser l'algorithme de clustering hiérarchique descendant\n",
    "agg_clustering = AgglomerativeClustering(n_clusters=2, linkage='single')\n",
    "\n",
    "# Appliquer le clustering aux tailles de polygons\n",
    "agg_clustering.fit(X)\n",
    "\n",
    "# Obtenir les étiquettes de cluster pour chaque taille de polygon\n",
    "labels = agg_clustering.labels_\n",
    "\n",
    "# Ajouter les étiquettes de cluster à la colonne correspondante du Geodataframe\n",
    "gdf['cluster'] = labels\n",
    "\n",
    "# Afficher les polygones avec leur couleur de cluster correspondante\n",
    "fig, ax = plt.subplots(figsize=(10, 10))\n",
    "ax.imshow(np.transpose(image_1.array, (1, 2, 0))[:,:,:3])\n",
    "gdf.plot(column='cluster', cmap='jet', ax=ax)"
   ]
  },
  {
   "cell_type": "code",
   "execution_count": 163,
   "id": "a88f8df1-7662-4537-9695-e36f3bdd8c5c",
   "metadata": {
    "tags": []
   },
   "outputs": [],
   "source": [
    "height, width = image_1.array.shape[1:]\n",
    "\n",
    "# Create a list of polygons from the masked center clouds in order\n",
    "# to obtain a GeoDataFrame from it\n",
    "polygon_list = []\n",
    "for shape in list(shapes(mask_BDTOPO_1)):\n",
    "    polygon = Polygon(shape[0][\"coordinates\"][0])\n",
    "    if polygon.area > 0.85 * height * width:\n",
    "        continue\n",
    "    polygon_list.append(polygon)\n",
    "\n",
    "gdf = gpd.GeoDataFrame(geometry=polygon_list)\n",
    "\n",
    "# Calculer la taille de chaque polygon\n",
    "gdf['polygon_size'] = gdf.geometry.area\n",
    "\n",
    "# Initialiser l'algorithme de clustering hiérarchique descendant\n",
    "agg_clustering = AgglomerativeClustering(n_clusters=2, linkage='complete')\n",
    "\n",
    "# Appliquer le clustering aux tailles de polygons\n",
    "agg_clustering.fit(X)\n",
    "\n",
    "\n",
    "# Obtenir les étiquettes de cluster pour chaque taille de polygon\n",
    "labels = agg_clustering.labels_\n",
    "\n",
    "# Ajouter les étiquettes de cluster à la colonne correspondante du Geodataframe\n",
    "gdf['cluster'] = labels\n",
    "\n",
    "# Afficher les polygones avec leur couleur de cluster correspondante\n",
    "fig, ax = plt.subplots(figsize=(10, 10))\n",
    "ax.imshow(np.transpose(image_1.array, (1, 2, 0))[:,:,:3])\n",
    "gdf.plot(column='cluster', cmap='jet', ax=ax)"
   ]
  },
  {
   "cell_type": "code",
   "execution_count": 220,
   "id": "da81fb64-6bdc-4066-ab8b-094b3047d6d7",
   "metadata": {
    "tags": []
   },
   "outputs": [],
   "source": [
    "height, width = image.array.shape[1:]\n",
    "\n",
    "# Create a list of polygons from the masked center clouds in order\n",
    "# to obtain a GeoDataFrame from it\n",
    "polygon_list = []\n",
    "for shape in list(shapes(mask_BDTOPO)):\n",
    "    polygon = Polygon(shape[0][\"coordinates\"][0])\n",
    "    if polygon.area > 0.85 * height * width:\n",
    "        continue\n",
    "    polygon_list.append(polygon)\n",
    "\n",
    "gdf = gpd.GeoDataFrame(geometry=polygon_list)"
   ]
  },
  {
   "cell_type": "code",
   "execution_count": 221,
   "id": "4cf70942-96e2-4b4a-85b0-c43807f3d981",
   "metadata": {
    "tags": []
   },
   "outputs": [],
   "source": [
    "# Calculer la taille de chaque polygon\n",
    "gdf['polygon_size'] = gdf.geometry.area\n",
    "\n",
    "# Préparer les données pour le clustering\n",
    "X = gdf['polygon_size'].values.reshape(-1, 1)\n",
    "\n",
    "# Initialiser l'algorithme de clustering KMeans\n",
    "kmeans = KMeans(n_clusters=3, n_init = 'auto', random_state=0)\n",
    "\n",
    "# Appliquer le clustering aux tailles de polygons\n",
    "kmeans.fit(X)\n",
    "\n",
    "# Obtenir les étiquettes de cluster pour chaque taille de polygon\n",
    "labels = kmeans.predict(X)\n",
    "\n",
    "# Ajouter les étiquettes de cluster à la colonne correspondante du Geodataframe\n",
    "gdf['cluster'] = labels\n",
    "\n",
    "gdf['size'] = X"
   ]
  },
  {
   "cell_type": "code",
   "execution_count": 176,
   "id": "4ea06f31-e67f-4d6d-bad7-3147b7612cc7",
   "metadata": {
    "tags": []
   },
   "outputs": [],
   "source": [
    "max(gdf[gdf['cluster'] == 0]['size'])"
   ]
  },
  {
   "cell_type": "code",
   "execution_count": 222,
   "id": "2f955fb1-5a79-4365-904e-2e0c1859ad88",
   "metadata": {
    "tags": []
   },
   "outputs": [],
   "source": [
    "fig, ax = plt.subplots(figsize=(10, 10))\n",
    "ax.imshow(np.transpose(image.array, (1, 2, 0))[:,:,:3])\n",
    "gdf.plot(column='cluster', cmap='jet', ax=ax)"
   ]
  },
  {
   "cell_type": "code",
   "execution_count": 182,
   "id": "7000a29a-e8b9-47d9-91d2-2098c302e6a6",
   "metadata": {
    "tags": []
   },
   "outputs": [],
   "source": [
    "gdf_petite_hab = gdf[gdf['size'] <= 2142.0]"
   ]
  },
  {
   "cell_type": "code",
   "execution_count": 302,
   "id": "b96867b9-dbd8-4bb2-8ed6-32f033be2007",
   "metadata": {
    "tags": []
   },
   "outputs": [],
   "source": [
    "from gestion_label_studio import creer_mask_from_label_studio_export\n",
    "creer_mask_from_label_studio_export(\n",
    "    num_task = \"1\",\n",
    "    type_label = 'Petites habitations',\n",
    "    emplacement_zip = \"../labelstudio.zip\",\n",
    "    name_output = \"bibi\"\n",
    ")\n",
    "\n"
   ]
  },
  {
   "cell_type": "code",
   "execution_count": 183,
   "id": "726965de-3375-4dc7-bef4-18bc65ca63bc",
   "metadata": {
    "tags": []
   },
   "outputs": [],
   "source": [
    "fig, ax = plt.subplots(figsize=(10, 10))\n",
    "ax.imshow(np.transpose(image_1.array, (1, 2, 0))[:,:,:3])\n",
    "gdf_petite_.plot(column='cluster', cmap='jet', ax=ax)"
   ]
  },
  {
   "cell_type": "code",
   "execution_count": 185,
   "id": "007d6651-fa97-4507-a580-d59532569d85",
   "metadata": {
    "tags": []
   },
   "outputs": [],
   "source": [
    "# Rasterize the geometries into a numpy array\n",
    "if gdf_petite_hab.empty:\n",
    "    rasterized = np.zeros(image_1.array.shape[1:])\n",
    "else:\n",
    "    rasterized = rasterize(\n",
    "        gdf_petite_hab.geometry,\n",
    "        out_shape=image_1.array.shape[1:],\n",
    "        fill=0,\n",
    "        out=None,\n",
    "        all_touched=True,\n",
    "        default_value=1,\n",
    "        dtype=None,\n",
    "    )"
   ]
  },
  {
   "cell_type": "code",
   "execution_count": 186,
   "id": "9a84b3d8-a677-4d9a-8d18-35d6a232f319",
   "metadata": {
    "tags": []
   },
   "outputs": [],
   "source": [
    "rasterized"
   ]
  },
  {
   "cell_type": "code",
   "execution_count": 187,
   "id": "8e61ba94-5fd1-4396-b6bd-e24b4c8eea10",
   "metadata": {
    "tags": []
   },
   "outputs": [],
   "source": [
    "fig, ax = plt.subplots(figsize=(10, 10))\n",
    "ax.imshow(np.transpose(image_1.array, (1, 2, 0))[:,:,:3])\n",
    "ax.imshow(rasterized, alpha=0.3)"
   ]
  },
  {
   "cell_type": "code",
   "execution_count": 210,
   "id": "4a7adc7e-8672-4f2c-b4b2-aa9f72de59c1",
   "metadata": {
    "tags": []
   },
   "outputs": [],
   "source": [
    "max(gdf['polygon_size'])"
   ]
  },
  {
   "cell_type": "code",
   "execution_count": 189,
   "id": "af6341f4-3efa-4b54-b82e-40a35875d1b2",
   "metadata": {
    "tags": []
   },
   "outputs": [],
   "source": [
    "mask_BDTOPO = labeler_BDTOPO.create_segmentation_label(image)"
   ]
  },
  {
   "cell_type": "code",
   "execution_count": 213,
   "id": "4cde993d-16f8-4ca2-b5bd-9822ddd0ac1d",
   "metadata": {
    "tags": []
   },
   "outputs": [],
   "source": [
    "def BD_TOPO_petite_hab(image, mask_BDTOPO) :\n",
    "    height, width = image.array.shape[1:]\n",
    "\n",
    "    # Create a list of polygons from the masked center clouds in order\n",
    "    # to obtain a GeoDataFrame from it\n",
    "    polygon_list = []\n",
    "    for shape in list(shapes(mask_BDTOPO)):\n",
    "        polygon = Polygon(shape[0][\"coordinates\"][0])\n",
    "        # if polygon.area > 0.85 * height * width:\n",
    "        #     continue\n",
    "        polygon_list.append(polygon)\n",
    "\n",
    "    gdf = gpd.GeoDataFrame(geometry=polygon_list)\n",
    "\n",
    "    # size amas\n",
    "    gdf['polygon_size'] = gdf.geometry.area\n",
    "    X = gdf['polygon_size'].values.reshape(-1, 1)\n",
    "    gdf['size'] = X\n",
    "    \n",
    "    #threshold\n",
    "    gdf_petite_hab = gdf[gdf['polygon_size'] <= 2142.0]\n",
    "    \n",
    "    # Rasterize the geometries into a numpy array\n",
    "    if gdf_petite_hab.empty:\n",
    "        rasterized = np.zeros(image.array.shape[1:])\n",
    "    else:\n",
    "        rasterized = rasterize(\n",
    "            gdf_petite_hab.geometry,\n",
    "            out_shape=image.array.shape[1:],\n",
    "            fill=0,\n",
    "            out=None,\n",
    "            all_touched=True,\n",
    "            default_value=1,\n",
    "            dtype=None,\n",
    "        )\n",
    "    return rasterized"
   ]
  },
  {
   "cell_type": "code",
   "execution_count": 214,
   "id": "f88cabcc-64c1-456c-be2c-662d6ab60fe4",
   "metadata": {
    "tags": []
   },
   "outputs": [],
   "source": [
    "mask_filtred = BD_TOPO_petite_hab(image, mask_BDTOPO)"
   ]
  },
  {
   "cell_type": "code",
   "execution_count": 215,
   "id": "16d9d07f-5794-4eb1-8939-25247d83e58a",
   "metadata": {
    "tags": []
   },
   "outputs": [],
   "source": [
    "fig, ax = plt.subplots(figsize=(10, 10))\n",
    "ax.imshow(np.transpose(image.array, (1, 2, 0))[:,:,:3])\n",
    "ax.imshow(mask_filtred, alpha=0.3)"
   ]
  }
 ],
 "metadata": {
  "kernelspec": {
   "display_name": "Python 3 (ipykernel)",
   "language": "python",
   "name": "python3"
  },
  "language_info": {
   "codemirror_mode": {
    "name": "ipython",
    "version": 3
   },
   "file_extension": ".py",
   "mimetype": "text/x-python",
   "name": "python",
   "nbconvert_exporter": "python",
   "pygments_lexer": "ipython3",
   "version": "3.10.9"
  }
 },
 "nbformat": 4,
 "nbformat_minor": 5
}
