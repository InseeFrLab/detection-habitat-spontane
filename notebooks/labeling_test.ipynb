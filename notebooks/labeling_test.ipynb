{
 "cells": [
  {
   "cell_type": "code",
   "execution_count": 2,
   "id": "746e3ae5",
   "metadata": {},
   "outputs": [],
   "source": [
    "%env AWS_ACCESS_KEY_ID=projet-slums-sa\n",
    "%env AWS_SECRET_ACCESS_KEY=hB2N6hCmp7JoFA6WHKT022WJ9lOc1oOr"
   ]
  },
  {
   "cell_type": "code",
   "execution_count": 3,
   "id": "58ce04d8-f19f-4ecc-a230-952c3a65fc7c",
   "metadata": {},
   "outputs": [],
   "source": [
    "import sys\n",
    "sys.path.append('../src')\n",
    "import shutil\n",
    "import yaml\n",
    "import py7zr\n",
    "import os\n",
    "import s3fs\n",
    "from satellite_image import SatelliteImage\n",
    "from utils import *\n",
    "import matplotlib.pyplot as plt\n",
    "import numpy as np\n",
    "import rasterio.plot as rp\n",
    "import re\n",
    "from datetime import datetime"
   ]
  },
  {
   "cell_type": "code",
   "execution_count": 4,
   "id": "2fbdabfc-7874-4c31-8dcc-e44038984c41",
   "metadata": {},
   "outputs": [],
   "source": [
    "from utils import get_root_path\n",
    "\n",
    "with open(\"../environment.yml\") as f:\n",
    "    environment = yaml.safe_load(f)\n",
    "\n",
    "root_path = get_root_path()\n",
    "bucket = environment[\"bucket\"]\n",
    "path_s3_cayenne_data = environment[\"sources\"][\"cayenne\"]\n",
    "path_local_cayenne_data = os.path.join(root_path, environment[\"local-path\"][\"cayenne\"])\n",
    "\n",
    "fs = s3fs.S3FileSystem(client_kwargs={\"endpoint_url\": \"https://minio.lab.sspcloud.fr\"})\n",
    "fs.get(f\"{bucket}/{path_s3_cayenne_data}\", f\"{path_local_cayenne_data}\")\n",
    "with py7zr.SevenZipFile(f\"{path_local_cayenne_data}\", mode=\"r\") as z:\n",
    "    z.extractall()\n",
    "\n",
    "shutil.move(\n",
    "    os.path.splitext(os.path.basename(path_s3_cayenne_data))[0],\n",
    "    os.path.splitext(path_local_cayenne_data)[0],\n",
    ")\n"
   ]
  },
  {
   "cell_type": "code",
   "execution_count": 7,
   "id": "2915291f-bb6f-43b9-9225-3d6fc4bcc267",
   "metadata": {},
   "outputs": [],
   "source": [
    "filename = '../data/Cayenne/16bits/ORT_2022072050325085_U22N/ORT_2022072050325085_0353_0545_U22N_16Bits.jp2'\n",
    "date = datetime.strptime(re.search(r'ORT_(\\d{8})', filename).group(1), '%Y%m%d')"
   ]
  },
  {
   "cell_type": "code",
   "execution_count": 8,
   "id": "be748c76-e752-4a83-9203-56fbd28ff498",
   "metadata": {},
   "outputs": [],
   "source": [
    "image = SatelliteImage.from_raster(\n",
    "        filename,\n",
    "        date = date, \n",
    "        n_bands = 4\n",
    "    )"
   ]
  },
  {
   "cell_type": "code",
   "execution_count": 9,
   "id": "071a4666-eac9-4cb5-a33a-e870bfb3c445",
   "metadata": {},
   "outputs": [],
   "source": [
    "list_images = image.split(256)"
   ]
  },
  {
   "cell_type": "code",
   "execution_count": 6,
   "id": "e6a2104c-ea7d-4f4d-a01f-069f72ea9852",
   "metadata": {},
   "outputs": [],
   "source": [
    "list_images[0].normalize()"
   ]
  },
  {
   "cell_type": "code",
   "execution_count": 7,
   "id": "44738095-80f2-468c-91c6-2919c82261bb",
   "metadata": {},
   "outputs": [],
   "source": [
    "fig, ax = plt.subplots(figsize=(10, 10))\n",
    "ax.imshow(np.transpose(list_images[0].array, (1, 2, 0))[:,:,:3])\n",
    "plt.xlabel('Pixels Colonnes')\n",
    "plt.ylabel('Pixels Lignes')"
   ]
  },
  {
   "cell_type": "code",
   "execution_count": 10,
   "id": "61717b19-5d12-4801-97d4-3fda295550a3",
   "metadata": {},
   "outputs": [],
   "source": [
    "from labeler import RILLabeler\n",
    "from labeled_satellite_image import SegmentationLabeledSatelliteImage\n",
    "\n",
    "labeler = RILLabeler(date)"
   ]
  },
  {
   "cell_type": "code",
   "execution_count": 19,
   "id": "f811c4ef-fd68-4f77-84bb-fa32b684dd96",
   "metadata": {},
   "outputs": [],
   "source": [
    "import rasterio\n",
    "rasterio.coords.BoundingBox(10,10,10,11)"
   ]
  },
  {
   "cell_type": "code",
   "execution_count": 11,
   "id": "7ceeb11a",
   "metadata": {},
   "outputs": [],
   "source": [
    "mask = labeler.create_segmentation_label(image)"
   ]
  },
  {
   "cell_type": "markdown",
   "id": "215fb2e8",
   "metadata": {},
   "source": [
    "Warning to remove"
   ]
  },
  {
   "cell_type": "code",
   "execution_count": 15,
   "id": "24e8c851",
   "metadata": {},
   "outputs": [],
   "source": [
    "image.bounds"
   ]
  },
  {
   "cell_type": "code",
   "execution_count": 11,
   "id": "19c71648",
   "metadata": {},
   "outputs": [],
   "source": [
    "image.normalize()"
   ]
  },
  {
   "cell_type": "code",
   "execution_count": 12,
   "id": "2ac01546",
   "metadata": {},
   "outputs": [],
   "source": [
    "fig, ax = plt.subplots(figsize=(10, 10))\n",
    "ax.imshow(np.transpose(image.array, (1, 2, 0))[:,:,:3])\n",
    "ax.imshow(mask, alpha=0.3)"
   ]
  },
  {
   "cell_type": "markdown",
   "id": "24c1d5d7",
   "metadata": {},
   "source": [
    "C'est le même résultat que dans le notebook de Clément"
   ]
  },
  {
   "cell_type": "code",
   "execution_count": 13,
   "id": "d57a9996",
   "metadata": {},
   "outputs": [],
   "source": [
    "from labeled_satellite_image import DetectionLabeledSatelliteImage\n",
    "label = labeler.create_detection_label(image)"
   ]
  },
  {
   "cell_type": "code",
   "execution_count": 14,
   "id": "c8f23dd8",
   "metadata": {},
   "outputs": [],
   "source": [
    "label"
   ]
  },
  {
   "cell_type": "code",
   "execution_count": 15,
   "id": "4f4a98c0",
   "metadata": {},
   "outputs": [],
   "source": [
    "len(label)"
   ]
  },
  {
   "cell_type": "code",
   "execution_count": 16,
   "id": "f5277892",
   "metadata": {},
   "outputs": [],
   "source": [
    "from shapely.geometry import box\n",
    "import geopandas as gpd\n",
    "\n",
    "boxes = []\n",
    "for bounding_coordinates in label:\n",
    "    boxes.append(box(*bounding_coordinates))\n",
    "g = gpd.GeoSeries(boxes)\n",
    "g"
   ]
  },
  {
   "cell_type": "code",
   "execution_count": 17,
   "id": "051651fe",
   "metadata": {},
   "outputs": [],
   "source": [
    "fig, ax = plt.subplots(figsize=(10, 10))\n",
    "ax.imshow(np.transpose(image.array, (1, 2, 0))[:,:,:3])\n",
    "g.plot(color=\"red\", ax=ax)"
   ]
  },
  {
   "cell_type": "markdown",
   "id": "2183ff1c",
   "metadata": {},
   "source": [
    "BDTOPO"
   ]
  },
  {
   "cell_type": "code",
   "execution_count": 19,
   "id": "fd5028b3",
   "metadata": {},
   "outputs": [],
   "source": [
    "from labeler import BDTOPOLabeler\n",
    "\n",
    "labeler = BDTOPOLabeler(date)"
   ]
  },
  {
   "cell_type": "code",
   "execution_count": 21,
   "id": "66dfa25c",
   "metadata": {},
   "outputs": [],
   "source": [
    "mask = labeler.create_segmentation_label(image)"
   ]
  },
  {
   "cell_type": "code",
   "execution_count": 24,
   "id": "9767c8c3",
   "metadata": {},
   "outputs": [],
   "source": [
    "fig, ax = plt.subplots(figsize=(10, 10))\n",
    "ax.imshow(np.transpose(image.array, (1, 2, 0))[:,:,:3])\n",
    "ax.imshow(mask, alpha=0.3)"
   ]
  },
  {
   "cell_type": "code",
   "execution_count": 25,
   "id": "186b81ca",
   "metadata": {},
   "outputs": [],
   "source": [
    "label = labeler.create_detection_label(image)"
   ]
  },
  {
   "cell_type": "code",
   "execution_count": 26,
   "id": "68b4359d",
   "metadata": {},
   "outputs": [],
   "source": [
    "label"
   ]
  },
  {
   "cell_type": "code",
   "execution_count": 27,
   "id": "993b398b",
   "metadata": {},
   "outputs": [],
   "source": [
    "len(label)"
   ]
  },
  {
   "cell_type": "code",
   "execution_count": 28,
   "id": "016e6db6",
   "metadata": {},
   "outputs": [],
   "source": [
    "from shapely.geometry import box\n",
    "import geopandas as gpd\n",
    "\n",
    "boxes = []\n",
    "for bounding_coordinates in label:\n",
    "    boxes.append(box(*bounding_coordinates))\n",
    "g = gpd.GeoSeries(boxes)\n",
    "g"
   ]
  },
  {
   "cell_type": "code",
   "execution_count": 29,
   "id": "e02b066c",
   "metadata": {},
   "outputs": [],
   "source": [
    "fig, ax = plt.subplots(figsize=(10, 10))\n",
    "ax.imshow(np.transpose(image.array, (1, 2, 0))[:,:,:3])\n",
    "g.plot(color=\"red\", ax=ax)"
   ]
  },
  {
   "cell_type": "code",
   "execution_count": null,
   "id": "ea75e740",
   "metadata": {},
   "outputs": [],
   "source": []
  }
 ],
 "metadata": {
  "kernelspec": {
   "display_name": "Python 3 (ipykernel)",
   "language": "python",
   "name": "python3"
  },
  "language_info": {
   "codemirror_mode": {
    "name": "ipython",
    "version": 3
   },
   "file_extension": ".py",
   "mimetype": "text/x-python",
   "name": "python",
   "nbconvert_exporter": "python",
   "pygments_lexer": "ipython3",
   "version": "3.10.4"
  },
  "vscode": {
   "interpreter": {
    "hash": "3fa046f995eb80ac40c0869a1f9df46519f4ada8b8c395ef25dd1aa1a1a2fc63"
   }
  }
 },
 "nbformat": 4,
 "nbformat_minor": 5
}
