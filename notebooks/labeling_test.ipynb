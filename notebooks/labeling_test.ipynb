{
 "cells": [
  {
   "cell_type": "code",
   "execution_count": 1,
   "id": "ee5e5cf6-91f2-4cb4-b104-90bfc5e01772",
   "metadata": {
    "tags": []
   },
   "outputs": [],
   "source": [
    "%load_ext autoreload\n",
    "%autoreload 2"
   ]
  },
  {
   "cell_type": "code",
   "execution_count": 2,
   "id": "485c5873-80b0-4b4c-95ed-6a2e767ae09a",
   "metadata": {
    "tags": []
   },
   "outputs": [],
   "source": [
    "! pip install rasterio  -q -q -q\n",
    "! pip install geopandas -q -q -q\n",
    "! pip install matplotlib -q -q -q\n",
    "! pip install pyarrow\n",
    "! pip install opencv-python"
   ]
  },
  {
   "cell_type": "markdown",
   "id": "73542b70-4c9f-40ab-b1f1-558b351da755",
   "metadata": {},
   "source": [
    "mettre à jour OpenCV"
   ]
  },
  {
   "cell_type": "code",
   "execution_count": null,
   "id": "c7fd8c5b-f524-4c5f-908b-1d13c28888f0",
   "metadata": {},
   "outputs": [],
   "source": [
    "! sudo apt-get update\n",
    "! sudo apt-get install ffmpeg libsm6 libxext6 -y\n",
    "! sudo apt-get install libgl1"
   ]
  },
  {
   "cell_type": "code",
   "execution_count": 2,
   "id": "ddf01e87-8c80-42ec-b527-55fd671f4e70",
   "metadata": {
    "tags": []
   },
   "outputs": [],
   "source": [
    "import sys\n",
    "sys.path.append('../src')\n",
    "from satellite_image import SatelliteImage\n",
    "from utils import *\n",
    "from plot_utils import *\n",
    "from mappings import *"
   ]
  },
  {
   "cell_type": "code",
   "execution_count": 3,
   "id": "7a28892e-a143-4fb6-8767-0708675a0fea",
   "metadata": {
    "tags": []
   },
   "outputs": [],
   "source": [
    "import yaml\n",
    "import re\n",
    "import s3fs\n",
    "import numpy as np\n",
    "import matplotlib.pyplot as plt\n",
    "from PIL import Image as im\n",
    "import re\n",
    "from pyproj import Transformer\n",
    "from datetime import date\n",
    "import cv2"
   ]
  },
  {
   "cell_type": "code",
   "execution_count": 4,
   "id": "2fbdabfc-7874-4c31-8dcc-e44038984c41",
   "metadata": {
    "tags": []
   },
   "outputs": [],
   "source": [
    "update_storage_access()\n",
    "\n",
    "environment = get_environment()\n",
    "\n",
    "root_path = get_root_path()\n",
    "\n",
    "bucket = environment[\"bucket\"]\n",
    "\n",
    "path_s3_pleiades_data_2022_guyane = environment[\"sources\"][\"PLEIADES\"][2022][\"guyane\"]\n",
    "path_local_pleiades_data_2022_guyane = environment[\"local-path\"][\"PLEIADES\"][2022][\"guyane\"]\n",
    "\n",
    "path_local_bdtopo_data = environment[\"local-path\"][\"BDTOPO\"][2022][\"guyane\"]\n",
    "path_s3_bdtopo_data = environment[\"sources\"][\"BDTOPO\"][2022][\"guyane\"]\n",
    "\n",
    "fs = s3fs.S3FileSystem(client_kwargs={\"endpoint_url\": \"https://minio.lab.sspcloud.fr\"})\n",
    "\n"
   ]
  },
  {
   "cell_type": "code",
   "execution_count": 7,
   "id": "1b0cced9-a2ef-4dc8-b049-0a044ed40997",
   "metadata": {
    "tags": []
   },
   "outputs": [],
   "source": [
    "fs.download(\n",
    "        rpath=f\"{bucket}/{path_s3_pleiades_data_2022_guyane}\",\n",
    "        lpath=f\"../{path_local_pleiades_data_2022_guyane}\",\n",
    "        recursive=True)\n",
    "\n",
    "fs.download(\n",
    "        rpath=f\"{bucket}/{path_s3_bdtopo_data}\",\n",
    "        lpath=f\"../{path_local_bdtopo_data}\",\n",
    "        recursive=True\n",
    ")\n"
   ]
  },
  {
   "cell_type": "code",
   "execution_count": 5,
   "id": "2915291f-bb6f-43b9-9225-3d6fc4bcc267",
   "metadata": {
    "tags": []
   },
   "outputs": [],
   "source": [
    "filename = '../data/PLEIADES/2022/GUYANE/ORT_2022072050325085_0353_0545_U22N_16Bits.jp2'\n",
    "date = datetime.strptime(re.search(r'ORT_(\\d{8})', filename).group(1), '%Y%m%d')"
   ]
  },
  {
   "cell_type": "code",
   "execution_count": 290,
   "id": "be748c76-e752-4a83-9203-56fbd28ff498",
   "metadata": {
    "tags": []
   },
   "outputs": [],
   "source": [
    "image = SatelliteImage.from_raster(\n",
    "        filename,\n",
    "        date = date, \n",
    "        n_bands = 4,\n",
    "        dep = '973'\n",
    "    )"
   ]
  },
  {
   "cell_type": "code",
   "execution_count": 7,
   "id": "071a4666-eac9-4cb5-a33a-e870bfb3c445",
   "metadata": {
    "tags": []
   },
   "outputs": [],
   "source": [
    "list_images = image.split(256)"
   ]
  },
  {
   "cell_type": "code",
   "execution_count": 8,
   "id": "e6a2104c-ea7d-4f4d-a01f-069f72ea9852",
   "metadata": {
    "tags": []
   },
   "outputs": [],
   "source": [
    "list_images[0].normalize()"
   ]
  },
  {
   "cell_type": "code",
   "execution_count": 9,
   "id": "44738095-80f2-468c-91c6-2919c82261bb",
   "metadata": {
    "tags": []
   },
   "outputs": [],
   "source": [
    "fig, ax = plt.subplots(figsize=(10, 10))\n",
    "ax.imshow(np.transpose(list_images[0].array, (1, 2, 0))[:,:,:3])\n",
    "plt.xlabel('Pixels Colonnes')\n",
    "plt.ylabel('Pixels Lignes')"
   ]
  },
  {
   "cell_type": "code",
   "execution_count": 97,
   "id": "61717b19-5d12-4801-97d4-3fda295550a3",
   "metadata": {
    "tags": []
   },
   "outputs": [],
   "source": [
    "from labeler import RILLabeler\n",
    "from labeled_satellite_image import SegmentationLabeledSatelliteImage\n",
    "\n",
    "labeler = RILLabeler(date, '973')"
   ]
  },
  {
   "cell_type": "code",
   "execution_count": 98,
   "id": "f811c4ef-fd68-4f77-84bb-fa32b684dd96",
   "metadata": {
    "tags": []
   },
   "outputs": [],
   "source": [
    "import rasterio\n",
    "rasterio.coords.BoundingBox(10,10,10,11)"
   ]
  },
  {
   "cell_type": "code",
   "execution_count": 99,
   "id": "7ceeb11a",
   "metadata": {
    "tags": []
   },
   "outputs": [],
   "source": [
    "mask = labeler.create_segmentation_label(image)"
   ]
  },
  {
   "cell_type": "markdown",
   "id": "215fb2e8",
   "metadata": {},
   "source": [
    "Warning to remove"
   ]
  },
  {
   "cell_type": "code",
   "execution_count": 78,
   "id": "24e8c851",
   "metadata": {
    "tags": []
   },
   "outputs": [],
   "source": [
    "image.bounds"
   ]
  },
  {
   "cell_type": "code",
   "execution_count": 95,
   "id": "19c71648",
   "metadata": {
    "tags": []
   },
   "outputs": [],
   "source": [
    "image.normalize()"
   ]
  },
  {
   "cell_type": "code",
   "execution_count": 102,
   "id": "abb78818-db61-45da-b31f-a1c0632be695",
   "metadata": {
    "tags": []
   },
   "outputs": [],
   "source": [
    "fig, ax = plt.subplots(figsize=(10, 10))\n",
    "ax.imshow(mask)"
   ]
  },
  {
   "cell_type": "markdown",
   "id": "24c1d5d7",
   "metadata": {},
   "source": [
    "C'est le même résultat que dans le notebook de Clément"
   ]
  },
  {
   "cell_type": "code",
   "execution_count": 81,
   "id": "d57a9996",
   "metadata": {
    "tags": []
   },
   "outputs": [],
   "source": [
    "from labeled_satellite_image import DetectionLabeledSatelliteImage\n",
    "label = labeler.create_detection_label(image)"
   ]
  },
  {
   "cell_type": "code",
   "execution_count": 82,
   "id": "4f4a98c0",
   "metadata": {
    "tags": []
   },
   "outputs": [],
   "source": [
    "len(label)"
   ]
  },
  {
   "cell_type": "code",
   "execution_count": 83,
   "id": "f5277892",
   "metadata": {
    "tags": []
   },
   "outputs": [],
   "source": [
    "from shapely.geometry import box\n",
    "import geopandas as gpd\n",
    "\n",
    "boxes = []\n",
    "for bounding_coordinates in label:\n",
    "    boxes.append(box(*bounding_coordinates))\n",
    "g = gpd.GeoSeries(boxes)"
   ]
  },
  {
   "cell_type": "code",
   "execution_count": 85,
   "id": "31da6246-c27e-442f-9937-98d31c3e892b",
   "metadata": {
    "tags": []
   },
   "outputs": [],
   "source": [
    "fig, ax = plt.subplots(figsize=(10, 10))\n",
    "ax.imshow(np.transpose(image.array, (1, 2, 0))[:,:,:3])\n",
    "g.plot(color=\"red\", ax=ax)"
   ]
  },
  {
   "cell_type": "markdown",
   "id": "2183ff1c",
   "metadata": {},
   "source": [
    "BDTOPO"
   ]
  },
  {
   "cell_type": "code",
   "execution_count": 291,
   "id": "fd5028b3",
   "metadata": {
    "tags": []
   },
   "outputs": [],
   "source": [
    "from labeler import BDTOPOLabeler\n",
    "\n",
    "labeler = BDTOPOLabeler(date, '973')"
   ]
  },
  {
   "cell_type": "code",
   "execution_count": 292,
   "id": "66dfa25c",
   "metadata": {
    "tags": []
   },
   "outputs": [],
   "source": [
    "mask = labeler.create_segmentation_label(image)"
   ]
  },
  {
   "cell_type": "code",
   "execution_count": 148,
   "id": "b000bb49-4331-4cd8-8169-b5666e0bdec4",
   "metadata": {
    "tags": []
   },
   "outputs": [],
   "source": [
    "fig, ax = plt.subplots(figsize=(10, 10))\n",
    "ax.imshow(mask)"
   ]
  },
  {
   "cell_type": "code",
   "execution_count": 186,
   "id": "9767c8c3",
   "metadata": {
    "tags": []
   },
   "outputs": [],
   "source": [
    "fig, ax = plt.subplots(figsize=(10, 10))\n",
    "ax.imshow(np.transpose(image.array, (1, 2, 0))[:,:,:3])\n",
    "ax.imshow(mask, alpha=0.3)"
   ]
  },
  {
   "cell_type": "markdown",
   "id": "78899b7b-2c86-4e9c-b7bf-feafe323c3cd",
   "metadata": {},
   "source": [
    "Essayons de fusionner les deux masques"
   ]
  },
  {
   "cell_type": "code",
   "execution_count": 197,
   "id": "e98059db-5108-43fb-b2cb-440a3c278e89",
   "metadata": {
    "tags": []
   },
   "outputs": [],
   "source": [
    "fig, ax = plt.subplots(figsize=(10, 10))\n",
    "ax.imshow(np.transpose(image.array, (1, 2, 0))[:,:,:3])"
   ]
  },
  {
   "cell_type": "code",
   "execution_count": 289,
   "id": "8ab856eb-267c-4d9f-b2be-db62d7608c1a",
   "metadata": {
    "tags": []
   },
   "outputs": [],
   "source": [
    "image_height = image.array.shape[1]\n",
    "image_width = image.array.shape[2]\n",
    "segmentation_mask = mask\n",
    "\n",
    "polygon_list = []\n",
    "index_polygon = []\n",
    "for i,shape in enumerate(list(shapes(segmentation_mask))):\n",
    "    polygon = Polygon(shape[0][\"coordinates\"][0])\n",
    "    if polygon.area > 0.85 * image_height * image_width:\n",
    "        continue\n",
    "    polygon_list.append(polygon)\n",
    "    index_polygon.append(i)\n",
    "    \n",
    "g = gpd.GeoSeries(polygon_list)\n",
    "clipped_g = gpd.clip(g, (0, 0, image_height, image_width))\n",
    "\n",
    "label = [polygon.bounds for polygon in clipped_g]"
   ]
  },
  {
   "cell_type": "code",
   "execution_count": 160,
   "id": "016e6db6",
   "metadata": {
    "tags": []
   },
   "outputs": [],
   "source": [
    "from shapely.geometry import box\n",
    "import geopandas as gpd\n",
    "\n",
    "boxes = []\n",
    "for bounding_coordinates in label:\n",
    "    boxes.append(box(*bounding_coordinates))\n",
    "g = gpd.GeoSeries(boxes)\n"
   ]
  },
  {
   "cell_type": "code",
   "execution_count": 161,
   "id": "e02b066c",
   "metadata": {
    "tags": []
   },
   "outputs": [],
   "source": [
    "fig, ax = plt.subplots(figsize=(10, 10))\n",
    "ax.imshow(np.transpose(image.array, (1, 2, 0))[:,:,:3])\n",
    "g.plot(color=\"red\", ax=ax)"
   ]
  }
 ],
 "metadata": {
  "kernelspec": {
   "display_name": "Python 3 (ipykernel)",
   "language": "python",
   "name": "python3"
  },
  "language_info": {
   "codemirror_mode": {
    "name": "ipython",
    "version": 3
   },
   "file_extension": ".py",
   "mimetype": "text/x-python",
   "name": "python",
   "nbconvert_exporter": "python",
   "pygments_lexer": "ipython3",
   "version": "3.10.9"
  },
  "vscode": {
   "interpreter": {
    "hash": "3fa046f995eb80ac40c0869a1f9df46519f4ada8b8c395ef25dd1aa1a1a2fc63"
   }
  }
 },
 "nbformat": 4,
 "nbformat_minor": 5
}
