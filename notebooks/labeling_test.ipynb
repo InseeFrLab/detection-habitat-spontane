{
 "cells": [
  {
   "cell_type": "code",
   "execution_count": 1,
   "id": "ee5e5cf6-91f2-4cb4-b104-90bfc5e01772",
   "metadata": {
    "tags": []
   },
   "outputs": [],
   "source": [
    "%load_ext autoreload\n",
    "%autoreload 2"
   ]
  },
  {
   "cell_type": "code",
   "execution_count": 2,
   "id": "485c5873-80b0-4b4c-95ed-6a2e767ae09a",
   "metadata": {
    "tags": []
   },
   "outputs": [],
   "source": [
    "! pip install rasterio  -q -q -q\n",
    "! pip install geopandas -q -q -q\n",
    "! pip install matplotlib -q -q -q\n",
    "! pip install pyarrow\n",
    "! pip install opencv-python"
   ]
  },
  {
   "cell_type": "markdown",
   "id": "73542b70-4c9f-40ab-b1f1-558b351da755",
   "metadata": {},
   "source": [
    "mettre à jour OpenCV"
   ]
  },
  {
   "cell_type": "code",
   "execution_count": null,
   "id": "c7fd8c5b-f524-4c5f-908b-1d13c28888f0",
   "metadata": {},
   "outputs": [],
   "source": [
    "! sudo apt-get update\n",
    "! sudo apt-get install ffmpeg libsm6 libxext6 -y\n",
    "! sudo apt-get install libgl1"
   ]
  },
  {
   "cell_type": "code",
   "execution_count": 2,
   "id": "ddf01e87-8c80-42ec-b527-55fd671f4e70",
   "metadata": {
    "tags": []
   },
   "outputs": [],
   "source": [
    "import sys\n",
    "sys.path.append('../src')\n",
    "from satellite_image import SatelliteImage\n",
    "from utils import *\n",
    "from plot_utils import *\n",
    "from mappings import *"
   ]
  },
  {
   "cell_type": "code",
   "execution_count": 3,
   "id": "7a28892e-a143-4fb6-8767-0708675a0fea",
   "metadata": {
    "tags": []
   },
   "outputs": [],
   "source": [
    "import yaml\n",
    "import re\n",
    "import s3fs\n",
    "import numpy as np\n",
    "import matplotlib.pyplot as plt\n",
    "from PIL import Image as im\n",
    "import re\n",
    "from pyproj import Transformer\n",
    "from datetime import date\n",
    "import cv2"
   ]
  },
  {
   "cell_type": "code",
   "execution_count": 4,
   "id": "2fbdabfc-7874-4c31-8dcc-e44038984c41",
   "metadata": {
    "tags": []
   },
   "outputs": [],
   "source": [
    "update_storage_access()\n",
    "\n",
    "environment = get_environment()\n",
    "\n",
    "root_path = get_root_path()\n",
    "\n",
    "bucket = environment[\"bucket\"]\n",
    "\n",
    "path_s3_pleiades_data_2022_guyane = environment[\"sources\"][\"PLEIADES\"][2022][\"guyane\"]\n",
    "path_local_pleiades_data_2022_guyane = environment[\"local-path\"][\"PLEIADES\"][2022][\"guyane\"]\n",
    "\n",
    "path_local_bdtopo_data = environment[\"local-path\"][\"BDTOPO\"][2022][\"guyane\"]\n",
    "path_s3_bdtopo_data = environment[\"sources\"][\"BDTOPO\"][2022][\"guyane\"]\n",
    "\n",
    "fs = s3fs.S3FileSystem(client_kwargs={\"endpoint_url\": \"https://minio.lab.sspcloud.fr\"})\n",
    "\n"
   ]
  },
  {
   "cell_type": "code",
   "execution_count": 7,
   "id": "1b0cced9-a2ef-4dc8-b049-0a044ed40997",
   "metadata": {
    "tags": []
   },
   "outputs": [],
   "source": [
    "fs.download(\n",
    "        rpath=f\"{bucket}/{path_s3_pleiades_data_2022_guyane}\",\n",
    "        lpath=f\"../{path_local_pleiades_data_2022_guyane}\",\n",
    "        recursive=True)\n",
    "\n",
    "fs.download(\n",
    "        rpath=f\"{bucket}/{path_s3_bdtopo_data}\",\n",
    "        lpath=f\"../{path_local_bdtopo_data}\",\n",
    "        recursive=True\n",
    ")\n"
   ]
  },
  {
   "cell_type": "code",
   "execution_count": 5,
   "id": "2915291f-bb6f-43b9-9225-3d6fc4bcc267",
   "metadata": {
    "tags": []
   },
   "outputs": [],
   "source": [
    "filename = '../data/PLEIADES/2022/GUYANE/ORT_2022072050325085_0353_0545_U22N_16Bits.jp2'\n",
    "date = datetime.strptime(re.search(r'ORT_(\\d{8})', filename).group(1), '%Y%m%d')"
   ]
  },
  {
   "cell_type": "code",
   "execution_count": 279,
   "id": "be748c76-e752-4a83-9203-56fbd28ff498",
   "metadata": {
    "tags": []
   },
   "outputs": [],
   "source": [
    "image = SatelliteImage.from_raster(\n",
    "        filename,\n",
    "        date = date, \n",
    "        n_bands = 4,\n",
    "        dep = '973'\n",
    "    )"
   ]
  },
  {
   "cell_type": "code",
   "execution_count": 7,
   "id": "071a4666-eac9-4cb5-a33a-e870bfb3c445",
   "metadata": {
    "tags": []
   },
   "outputs": [],
   "source": [
    "list_images = image.split(256)"
   ]
  },
  {
   "cell_type": "code",
   "execution_count": 8,
   "id": "e6a2104c-ea7d-4f4d-a01f-069f72ea9852",
   "metadata": {
    "tags": []
   },
   "outputs": [],
   "source": [
    "list_images[0].normalize()"
   ]
  },
  {
   "cell_type": "code",
   "execution_count": 9,
   "id": "44738095-80f2-468c-91c6-2919c82261bb",
   "metadata": {
    "tags": []
   },
   "outputs": [],
   "source": [
    "fig, ax = plt.subplots(figsize=(10, 10))\n",
    "ax.imshow(np.transpose(list_images[0].array, (1, 2, 0))[:,:,:3])\n",
    "plt.xlabel('Pixels Colonnes')\n",
    "plt.ylabel('Pixels Lignes')"
   ]
  },
  {
   "cell_type": "code",
   "execution_count": 97,
   "id": "61717b19-5d12-4801-97d4-3fda295550a3",
   "metadata": {
    "tags": []
   },
   "outputs": [],
   "source": [
    "from labeler import RILLabeler\n",
    "from labeled_satellite_image import SegmentationLabeledSatelliteImage\n",
    "\n",
    "labeler = RILLabeler(date, '973')"
   ]
  },
  {
   "cell_type": "code",
   "execution_count": 98,
   "id": "f811c4ef-fd68-4f77-84bb-fa32b684dd96",
   "metadata": {
    "tags": []
   },
   "outputs": [],
   "source": [
    "import rasterio\n",
    "rasterio.coords.BoundingBox(10,10,10,11)"
   ]
  },
  {
   "cell_type": "code",
   "execution_count": 99,
   "id": "7ceeb11a",
   "metadata": {
    "tags": []
   },
   "outputs": [],
   "source": [
    "mask = labeler.create_segmentation_label(image)"
   ]
  },
  {
   "cell_type": "markdown",
   "id": "215fb2e8",
   "metadata": {},
   "source": [
    "Warning to remove"
   ]
  },
  {
   "cell_type": "code",
   "execution_count": 78,
   "id": "24e8c851",
   "metadata": {
    "tags": []
   },
   "outputs": [],
   "source": [
    "image.bounds"
   ]
  },
  {
   "cell_type": "code",
   "execution_count": 95,
   "id": "19c71648",
   "metadata": {
    "tags": []
   },
   "outputs": [],
   "source": [
    "image.normalize()"
   ]
  },
  {
   "cell_type": "code",
   "execution_count": 102,
   "id": "abb78818-db61-45da-b31f-a1c0632be695",
   "metadata": {
    "tags": []
   },
   "outputs": [],
   "source": [
    "fig, ax = plt.subplots(figsize=(10, 10))\n",
    "ax.imshow(mask)\n",
    "# Enlever les axes\n",
    "ax.set_axis_off()\n",
    "\n",
    "# Enregistrer le plot sans les axes\n",
    "plt.savefig(\"masqueRIL.png\", bbox_inches=\"tight\", pad_inches=0)"
   ]
  },
  {
   "cell_type": "markdown",
   "id": "24c1d5d7",
   "metadata": {},
   "source": [
    "C'est le même résultat que dans le notebook de Clément"
   ]
  },
  {
   "cell_type": "code",
   "execution_count": 81,
   "id": "d57a9996",
   "metadata": {
    "tags": []
   },
   "outputs": [],
   "source": [
    "from labeled_satellite_image import DetectionLabeledSatelliteImage\n",
    "label = labeler.create_detection_label(image)"
   ]
  },
  {
   "cell_type": "code",
   "execution_count": 82,
   "id": "4f4a98c0",
   "metadata": {
    "tags": []
   },
   "outputs": [],
   "source": [
    "len(label)"
   ]
  },
  {
   "cell_type": "code",
   "execution_count": 83,
   "id": "f5277892",
   "metadata": {
    "tags": []
   },
   "outputs": [],
   "source": [
    "from shapely.geometry import box\n",
    "import geopandas as gpd\n",
    "\n",
    "boxes = []\n",
    "for bounding_coordinates in label:\n",
    "    boxes.append(box(*bounding_coordinates))\n",
    "g = gpd.GeoSeries(boxes)"
   ]
  },
  {
   "cell_type": "code",
   "execution_count": 85,
   "id": "31da6246-c27e-442f-9937-98d31c3e892b",
   "metadata": {
    "tags": []
   },
   "outputs": [],
   "source": [
    "fig, ax = plt.subplots(figsize=(10, 10))\n",
    "ax.imshow(np.transpose(image.array, (1, 2, 0))[:,:,:3])\n",
    "g.plot(color=\"red\", ax=ax)\n",
    "# Enlever les axes\n",
    "ax.set_axis_off()\n",
    "\n",
    "# Enregistrer le plot sans les axes\n",
    "plt.savefig(\"masqueRIL.png\", bbox_inches=\"tight\", pad_inches=0)"
   ]
  },
  {
   "cell_type": "markdown",
   "id": "2183ff1c",
   "metadata": {},
   "source": [
    "BDTOPO"
   ]
  },
  {
   "cell_type": "code",
   "execution_count": 276,
   "id": "fd5028b3",
   "metadata": {
    "tags": []
   },
   "outputs": [],
   "source": [
    "from labeler import BDTOPOLabeler\n",
    "\n",
    "labeler = BDTOPOLabeler(date, '973')"
   ]
  },
  {
   "cell_type": "code",
   "execution_count": 277,
   "id": "66dfa25c",
   "metadata": {
    "tags": []
   },
   "outputs": [],
   "source": [
    "mask = labeler.create_segmentation_label(image)"
   ]
  },
  {
   "cell_type": "code",
   "execution_count": 148,
   "id": "b000bb49-4331-4cd8-8169-b5666e0bdec4",
   "metadata": {
    "tags": []
   },
   "outputs": [],
   "source": [
    "fig, ax = plt.subplots(figsize=(10, 10))\n",
    "ax.imshow(mask)"
   ]
  },
  {
   "cell_type": "code",
   "execution_count": 186,
   "id": "9767c8c3",
   "metadata": {
    "tags": []
   },
   "outputs": [],
   "source": [
    "fig, ax = plt.subplots(figsize=(10, 10))\n",
    "ax.imshow(np.transpose(image.array, (1, 2, 0))[:,:,:3])\n",
    "ax.imshow(mask, alpha=0.3)\n",
    "# Enlever les axes\n",
    "ax.set_axis_off()\n",
    "\n",
    "# Enregistrer le plot sans les axes\n",
    "plt.savefig(\"masqueBDTOPO.png\", bbox_inches=\"tight\", pad_inches=0)"
   ]
  },
  {
   "cell_type": "markdown",
   "id": "78899b7b-2c86-4e9c-b7bf-feafe323c3cd",
   "metadata": {},
   "source": [
    "Essayons de fusionner les deux masques"
   ]
  },
  {
   "cell_type": "code",
   "execution_count": 90,
   "id": "3f6a1d4a-c8f1-48e5-bb40-9101109700db",
   "metadata": {
    "tags": []
   },
   "outputs": [],
   "source": [
    "#images en nuances de gris\n",
    "def cv2_imshow(a, **kwargs):\n",
    "    a = a.clip(0, 255).astype('uint8')\n",
    "    if a.ndim == 3:\n",
    "        if a.shape[2] == 4:\n",
    "            a = cv2.cvtColor(a, cv2.COLOR_RGBA2BGRA)\n",
    "        else:\n",
    "            a = cv2.cvtColor(a, cv2.COLOR_RGB2BGR)\n",
    "\n",
    "    return plt.imshow(a, **kwargs, cmap= \"gray\")\n",
    "\n",
    "#images en couleurs\n",
    "def cv2_imshow2(a, **kwargs):\n",
    "    a = a.clip(0, 255).astype('uint8')\n",
    "    if a.ndim == 3:\n",
    "        if a.shape[2] == 4:\n",
    "            a = cv2.cvtColor(a, cv2.COLOR_RGBA2BGRA)\n",
    "        else:\n",
    "            a = cv2.cvtColor(a, cv2.COLOR_RGB2BGR)\n",
    "\n",
    "    return plt.imshow(a, **kwargs, cmap= \"brg\")"
   ]
  },
  {
   "cell_type": "code",
   "execution_count": 197,
   "id": "e98059db-5108-43fb-b2cb-440a3c278e89",
   "metadata": {
    "tags": []
   },
   "outputs": [],
   "source": [
    "fig, ax = plt.subplots(figsize=(10, 10))\n",
    "ax.imshow(np.transpose(image.array, (1, 2, 0))[:,:,:3])\n",
    "\n",
    "# Enlever les axes\n",
    "ax.set_axis_off()\n",
    "# Enregistrer le plot sans les axes\n",
    "plt.savefig(\"image.png\", bbox_inches=\"tight\", pad_inches=0)"
   ]
  },
  {
   "cell_type": "code",
   "execution_count": 137,
   "id": "12ee98a4-61b8-4b7b-a1a5-936ea438a12f",
   "metadata": {
    "tags": []
   },
   "outputs": [],
   "source": [
    "img_RIL = cv2.imread(\"masqueRIL.png\")"
   ]
  },
  {
   "cell_type": "code",
   "execution_count": 138,
   "id": "3cc331c6-8f28-4658-a24c-9b196d3ff348",
   "metadata": {
    "tags": []
   },
   "outputs": [],
   "source": [
    "img_RIL = cv2.resize(img_RIL, (2000,2000))"
   ]
  },
  {
   "cell_type": "code",
   "execution_count": 143,
   "id": "428f2dd0-e317-4689-9a2e-028526c75e42",
   "metadata": {
    "tags": []
   },
   "outputs": [],
   "source": [
    "#image RIL binaire\n",
    "# On va parcourir tous les pixels de l'image\n",
    "    \n",
    "for row in range(img_RIL.shape[0]):\n",
    "    for col in range(img_RIL.shape[1]):\n",
    "        \n",
    "        if list(img_RIL[row,col]) != [84, 1, 68] :\n",
    "                img_RIL[row, col] = [255, 255, 255] # blanc\n",
    "\n",
    "        else : \n",
    "            img_RIL[row, col] = [0,0,0] #noir"
   ]
  },
  {
   "cell_type": "code",
   "execution_count": 145,
   "id": "4200304a-d067-43ea-88da-c364171c56bd",
   "metadata": {
    "tags": []
   },
   "outputs": [],
   "source": [
    "cv2_imshow2(img_RIL)"
   ]
  },
  {
   "cell_type": "code",
   "execution_count": 278,
   "id": "a9b1dad0-09b2-40ab-8f42-63d0dd263262",
   "metadata": {
    "tags": []
   },
   "outputs": [],
   "source": [
    "cv2_imshow(img_BDTOPO)"
   ]
  },
  {
   "cell_type": "code",
   "execution_count": 173,
   "id": "8ab856eb-267c-4d9f-b2be-db62d7608c1a",
   "metadata": {
    "tags": []
   },
   "outputs": [],
   "source": [
    "image_height = image.array.shape[1]\n",
    "image_width = image.array.shape[2]\n",
    "segmentation_mask = mask\n",
    "\n",
    "polygon_list = []\n",
    "index_polygon = []\n",
    "for shape in list(shapes(segmentation_mask)):\n",
    "    polygon = Polygon(shape[0][\"coordinates\"][0])\n",
    "    if polygon.area > 0.85 * image_height * image_width:\n",
    "        continue\n",
    "    polygon_list.append(polygon)\n",
    "    index_polygon.append(list(shapes(segmentation_mask)).index(shape))\n",
    "    \n",
    "g = gpd.GeoSeries(polygon_list)\n",
    "clipped_g = gpd.clip(g, (0, 0, image_height, image_width))\n",
    "\n",
    "label = [polygon.bounds for polygon in clipped_g]"
   ]
  },
  {
   "cell_type": "code",
   "execution_count": 185,
   "id": "03d7a64f-aa56-4fd3-9f4e-6cfa55ced862",
   "metadata": {
    "tags": []
   },
   "outputs": [],
   "source": [
    "filter([i in new_index for i,value in enumerate(shapes(mask))], shapes(mask))\n"
   ]
  },
  {
   "cell_type": "code",
   "execution_count": 220,
   "id": "1bfca193-135b-4b5e-863b-f4842b473b39",
   "metadata": {
    "tags": []
   },
   "outputs": [],
   "source": [
    "label = labeler.create_detection_label(image)"
   ]
  },
  {
   "cell_type": "code",
   "execution_count": 169,
   "id": "17055beb-6f63-4108-a2cc-d50ca8f99c14",
   "metadata": {
    "tags": []
   },
   "outputs": [],
   "source": [
    "from shapely import Polygon\n",
    "from rasterio.features import rasterize, shapes"
   ]
  },
  {
   "cell_type": "code",
   "execution_count": 175,
   "id": "3df5e9fa-04bf-48d0-8a36-7ee7a76ac9cd",
   "metadata": {
    "tags": []
   },
   "outputs": [],
   "source": [
    "new_index = []\n",
    "for bounding_coordinates in label:\n",
    "    left, bottom,right, top = bounding_coordinates\n",
    "    for x  in range(int(left)-1,int(right)):\n",
    "        for y  in range(int(bottom)-1,int(top)):\n",
    "            if list(img_RIL[x,y]) == [255,255,255]: #blanc\n",
    "                new_index.append(label.index(bounding_coordinates))"
   ]
  },
  {
   "cell_type": "code",
   "execution_count": 212,
   "id": "3b75c21f-dd1c-4b47-9bc5-155b24a0d06e",
   "metadata": {
    "tags": []
   },
   "outputs": [],
   "source": [
    "new_bounding_coordinates = []\n",
    "\n",
    "for bounding_coordinates in label:\n",
    "    mustEnd = False\n",
    "    left, top,right, bottom = bounding_coordinates\n",
    "    for x  in range(int(left)-1,int(right)):\n",
    "        for y  in range(int(bottom)-1,int(top)):\n",
    "            if mustEnd == False:\n",
    "                if list(img_RIL[x,y]) == [255,255,255]: #blanc\n",
    "                    new_bounding_coordinates.append(bounding_coordinates)\n",
    "                    mustEnd = True\n",
    "                    break\n",
    "            else: \n",
    "                break"
   ]
  },
  {
   "cell_type": "code",
   "execution_count": 286,
   "id": "ae1cbeff-3989-45a2-93e3-48c081c7a2f5",
   "metadata": {
    "tags": []
   },
   "outputs": [],
   "source": [
    "#on extrait l'array de l'image pour avoir les valeurs des pixels\n",
    "img_base = image.array\n",
    "\n",
    "#multiplication par 255 et convertion en uint8 pour avoir le bon format\n",
    "img_base = (img_base * 255).astype(np.uint8)\n",
    "\n",
    "img_base = img_base.transpose()"
   ]
  },
  {
   "cell_type": "code",
   "execution_count": 287,
   "id": "b35013ef-4e6e-424e-b889-aa8c59e5ca31",
   "metadata": {
    "tags": []
   },
   "outputs": [],
   "source": [
    "img_base"
   ]
  },
  {
   "cell_type": "code",
   "execution_count": 285,
   "id": "ba64536f-1f5e-40bf-8d7a-6c798606fd81",
   "metadata": {
    "tags": []
   },
   "outputs": [],
   "source": [
    "img_base"
   ]
  },
  {
   "cell_type": "code",
   "execution_count": 281,
   "id": "5ecfb36e-ce2c-4198-b060-14c97765ba6e",
   "metadata": {
    "tags": []
   },
   "outputs": [],
   "source": [
    "for bounds in new_bounding_coordinates:\n",
    "    left, bottom,right, top = bounds\n",
    "    for u  in range(int(left)+1,int(right)):\n",
    "        for v  in range(int(bottom)+1,int(top)):\n",
    "            R,G,B = img_BDTOPO[u,v]\n",
    "            img_base[u,v] = np.array([R,G,B,img_base[u,v][3]])"
   ]
  },
  {
   "cell_type": "code",
   "execution_count": 282,
   "id": "546a0add-b1f5-4673-86c8-b8e355734af5",
   "metadata": {
    "tags": []
   },
   "outputs": [],
   "source": [
    "img_base = img_base.transpose()\n",
    "\n",
    "#On veut le bon format\n",
    "img_base = (img_base/255).astype(np.float64)\n",
    "\n",
    "image.array = img_base"
   ]
  },
  {
   "cell_type": "code",
   "execution_count": 283,
   "id": "ef523cfa-08d9-40ae-8758-f4e99db4bbee",
   "metadata": {
    "tags": []
   },
   "outputs": [],
   "source": [
    "\n",
    "\n",
    "image.plot([0,1,2])\n",
    "\n"
   ]
  },
  {
   "cell_type": "code",
   "execution_count": null,
   "id": "4741e8f7-08ea-438d-a269-5aa10352d17e",
   "metadata": {},
   "outputs": [],
   "source": []
  },
  {
   "cell_type": "markdown",
   "id": "3c1d4215-9ada-4208-bab9-b1238bf0a538",
   "metadata": {},
   "source": [
    "####################"
   ]
  },
  {
   "cell_type": "code",
   "execution_count": 160,
   "id": "016e6db6",
   "metadata": {
    "tags": []
   },
   "outputs": [],
   "source": [
    "from shapely.geometry import box\n",
    "import geopandas as gpd\n",
    "\n",
    "boxes = []\n",
    "for bounding_coordinates in new_label:\n",
    "    boxes.append(box(*bounding_coordinates))\n",
    "g = gpd.GeoSeries(boxes)\n"
   ]
  },
  {
   "cell_type": "code",
   "execution_count": 161,
   "id": "e02b066c",
   "metadata": {
    "tags": []
   },
   "outputs": [],
   "source": [
    "fig, ax = plt.subplots(figsize=(10, 10))\n",
    "ax.imshow(np.transpose(image.array, (1, 2, 0))[:,:,:3])\n",
    "g.plot(color=\"red\", ax=ax)"
   ]
  }
 ],
 "metadata": {
  "kernelspec": {
   "display_name": "Python 3 (ipykernel)",
   "language": "python",
   "name": "python3"
  },
  "language_info": {
   "codemirror_mode": {
    "name": "ipython",
    "version": 3
   },
   "file_extension": ".py",
   "mimetype": "text/x-python",
   "name": "python",
   "nbconvert_exporter": "python",
   "pygments_lexer": "ipython3",
   "version": "3.10.9"
  },
  "vscode": {
   "interpreter": {
    "hash": "3fa046f995eb80ac40c0869a1f9df46519f4ada8b8c395ef25dd1aa1a1a2fc63"
   }
  }
 },
 "nbformat": 4,
 "nbformat_minor": 5
}
