{
 "cells": [
  {
   "cell_type": "code",
   "execution_count": null,
   "metadata": {},
   "outputs": [],
   "source": [
    "import numpy as np"
   ]
  },
  {
   "cell_type": "code",
   "execution_count": null,
   "metadata": {},
   "outputs": [],
   "source": [
    "label = np.load(\"/home/onyxia/work/detection-habitat-spontane/train_data-PLEIADES-BDTOPO-detection-972-2022/labels/700000_1638000_56.npy\")"
   ]
  },
  {
   "cell_type": "code",
   "execution_count": null,
   "metadata": {},
   "outputs": [],
   "source": [
    "label"
   ]
  },
  {
   "cell_type": "code",
   "execution_count": null,
   "metadata": {},
   "outputs": [],
   "source": [
    "import os\n",
    "labels_dir = \"/home/onyxia/work/detection-habitat-spontane/train_data-PLEIADES-BDTOPO-detection-972-2022/labels/\"\n",
    "for file_name in os.listdir(labels_dir):\n",
    "    file_path = labels_dir + file_name\n",
    "    label = np.load(file_path)\n",
    "    print(label)\n",
    "    print(label.shape)"
   ]
  },
  {
   "cell_type": "code",
   "execution_count": null,
   "metadata": {},
   "outputs": [],
   "source": [
    "import sys\n",
    "sys.path.append(\"../src/\")\n",
    "from run_training_pipeline import download_data, prepare_data, instantiate_lightning_module, instantiate_model, intantiate_dataloader, instantiate_trainer"
   ]
  },
  {
   "cell_type": "code",
   "execution_count": null,
   "metadata": {},
   "outputs": [],
   "source": [
    "import yaml\n",
    "from yaml.loader import SafeLoader\n",
    "\n",
    "with open(\"../config.yml\") as f:\n",
    "    config = yaml.load(f, Loader=SafeLoader)\n",
    "config"
   ]
  },
  {
   "cell_type": "code",
   "execution_count": null,
   "metadata": {},
   "outputs": [],
   "source": [
    "model = instantiate_model(config)\n",
    "model"
   ]
  },
  {
   "cell_type": "code",
   "execution_count": null,
   "metadata": {},
   "outputs": [],
   "source": [
    "from pathlib import Path\n",
    "\n",
    "list_path_images = []\n",
    "list_path_labels = []\n",
    "for name in os.listdir(\"/home/onyxia/work/detection-habitat-spontane/train_data-PLEIADES-BDTOPO-detection-972-2022/images/\"):\n",
    "    npy_name = Path(name).stem + \".npy\"\n",
    "    if os.path.exists(\"/home/onyxia/work/detection-habitat-spontane/train_data-PLEIADES-BDTOPO-detection-972-2022/labels/\" + npy_name):\n",
    "        list_path_images.append(\"/home/onyxia/work/detection-habitat-spontane/train_data-PLEIADES-BDTOPO-detection-972-2022/images/\" + name)\n",
    "        list_path_labels.append(\"/home/onyxia/work/detection-habitat-spontane/train_data-PLEIADES-BDTOPO-detection-972-2022/labels/\" + npy_name)\n",
    "\n",
    "list_path_images[:10]"
   ]
  },
  {
   "cell_type": "code",
   "execution_count": null,
   "metadata": {},
   "outputs": [],
   "source": [
    "import shutil\n",
    "\n",
    "list_path_images = []\n",
    "list_path_labels = []\n",
    "for name in os.listdir(\"/home/onyxia/work/detection-habitat-spontane/train_data-PLEIADES-BDTOPO-detection-972-2022/images/\"):\n",
    "    npy_name = Path(name).stem + \".npy\"\n",
    "    if os.path.exists(\"/home/onyxia/work/detection-habitat-spontane/train_data-PLEIADES-BDTOPO-detection-972-2022/labels/\" + npy_name):\n",
    "        shutil.copyfile(\n",
    "            \"/home/onyxia/work/detection-habitat-spontane/train_data-PLEIADES-BDTOPO-detection-972-2022/images/\" + name,\n",
    "            \"/home/onyxia/work/detection-habitat-spontane/train_data_notebook/images/\" + name\n",
    "        )\n",
    "        shutil.copyfile(\n",
    "            \"/home/onyxia/work/detection-habitat-spontane/train_data-PLEIADES-BDTOPO-detection-972-2022/labels/\" + npy_name,\n",
    "            \"/home/onyxia/work/detection-habitat-spontane/train_data_notebook/labels/\" + npy_name\n",
    "        )\n",
    "        list_path_images.append(\"/home/onyxia/work/detection-habitat-spontane/train_data_notebook/images/\" + name)\n",
    "        list_path_labels.append(\"/home/onyxia/work/detection-habitat-spontane/train_data_notebook/labels/\" + npy_name)\n",
    "\n",
    "list_path_images[:10]"
   ]
  },
  {
   "cell_type": "code",
   "execution_count": null,
   "metadata": {},
   "outputs": [],
   "source": [
    "from run_training_pipeline import intantiate_dataset\n",
    "\n",
    "full_dataset = intantiate_dataset(\n",
    "    config, list_path_images, list_path_labels\n",
    ")"
   ]
  },
  {
   "cell_type": "code",
   "execution_count": null,
   "metadata": {},
   "outputs": [],
   "source": [
    "len(full_dataset)"
   ]
  },
  {
   "cell_type": "code",
   "execution_count": null,
   "metadata": {},
   "outputs": [],
   "source": [
    "import torch\n",
    "\n",
    "sample_idx = torch.randint(len(full_dataset), size=(1,)).item()\n",
    "img, label, metadata = full_dataset[sample_idx]"
   ]
  },
  {
   "cell_type": "code",
   "execution_count": null,
   "metadata": {},
   "outputs": [],
   "source": [
    "img.shape"
   ]
  },
  {
   "cell_type": "code",
   "execution_count": null,
   "metadata": {},
   "outputs": [],
   "source": [
    "model.eval()\n",
    "model(img.unsqueeze(0))"
   ]
  },
  {
   "cell_type": "code",
   "execution_count": null,
   "metadata": {},
   "outputs": [],
   "source": [
    "img.shape"
   ]
  },
  {
   "cell_type": "code",
   "execution_count": null,
   "metadata": {},
   "outputs": [],
   "source": [
    "label.shape"
   ]
  },
  {
   "cell_type": "code",
   "execution_count": null,
   "metadata": {},
   "outputs": [],
   "source": [
    "label"
   ]
  },
  {
   "cell_type": "code",
   "execution_count": null,
   "metadata": {},
   "outputs": [],
   "source": [
    "model.model"
   ]
  },
  {
   "cell_type": "code",
   "execution_count": null,
   "metadata": {},
   "outputs": [],
   "source": [
    "model.train()\n",
    "\n",
    "targets = []\n",
    "imgs = []\n",
    "\n",
    "target = {}\n",
    "target[\"boxes\"] = label\n",
    "target[\"labels\"] = torch.ones(len(target[\"boxes\"])).long()\n",
    "targets.append(target)\n",
    "imgs.append(img)"
   ]
  },
  {
   "cell_type": "code",
   "execution_count": null,
   "metadata": {},
   "outputs": [],
   "source": [
    "targets"
   ]
  },
  {
   "cell_type": "code",
   "execution_count": null,
   "metadata": {},
   "outputs": [],
   "source": [
    "loss_dict = model.model(imgs, targets)"
   ]
  },
  {
   "cell_type": "code",
   "execution_count": null,
   "metadata": {},
   "outputs": [],
   "source": [
    "loss_dict"
   ]
  },
  {
   "cell_type": "code",
   "execution_count": null,
   "metadata": {},
   "outputs": [],
   "source": [
    "# fasterrcnn takes both images and targets for training, returns\n",
    "loss = sum(loss for loss in loss_dict.values())\n",
    "{\"loss\": loss, \"log\": loss_dict}"
   ]
  },
  {
   "cell_type": "code",
   "execution_count": null,
   "metadata": {},
   "outputs": [],
   "source": [
    "list_output_dir = [\"/home/onyxia/work/detection-habitat-spontane/train_data_notebook\"]\n",
    "train_dl, valid_dl, test_dl = intantiate_dataloader(\n",
    "    config, list_output_dir\n",
    ")"
   ]
  },
  {
   "cell_type": "code",
   "execution_count": null,
   "metadata": {},
   "outputs": [],
   "source": [
    "train_dl"
   ]
  },
  {
   "cell_type": "code",
   "execution_count": null,
   "metadata": {},
   "outputs": [],
   "source": [
    "a = next(iter(train_dl))"
   ]
  },
  {
   "cell_type": "code",
   "execution_count": null,
   "metadata": {},
   "outputs": [],
   "source": [
    "len(a)"
   ]
  },
  {
   "cell_type": "code",
   "execution_count": null,
   "metadata": {},
   "outputs": [],
   "source": [
    "a[0].shape"
   ]
  },
  {
   "cell_type": "code",
   "execution_count": null,
   "metadata": {},
   "outputs": [],
   "source": [
    "a[1]"
   ]
  },
  {
   "cell_type": "code",
   "execution_count": null,
   "metadata": {},
   "outputs": [],
   "source": [
    "a[2]"
   ]
  },
  {
   "attachments": {},
   "cell_type": "markdown",
   "metadata": {},
   "source": [
    "Sanity checks"
   ]
  },
  {
   "cell_type": "code",
   "execution_count": null,
   "metadata": {},
   "outputs": [],
   "source": [
    "import random\n",
    "img, bboxes, metadata = full_dataset[random.randint(0, len(full_dataset))]"
   ]
  },
  {
   "cell_type": "code",
   "execution_count": null,
   "metadata": {},
   "outputs": [],
   "source": [
    "img = img.numpy()"
   ]
  },
  {
   "cell_type": "code",
   "execution_count": null,
   "metadata": {},
   "outputs": [],
   "source": [
    "bboxes"
   ]
  },
  {
   "cell_type": "code",
   "execution_count": null,
   "metadata": {},
   "outputs": [],
   "source": [
    "from matplotlib import pyplot as plt\n",
    "plt.imshow(np.transpose(img.astype(int), (1, 2, 0)))\n",
    "plt.show()"
   ]
  },
  {
   "cell_type": "code",
   "execution_count": null,
   "metadata": {},
   "outputs": [],
   "source": [
    "plt.imshow(np.transpose(img / 255., (1, 2, 0)))\n",
    "plt.show()"
   ]
  },
  {
   "cell_type": "code",
   "execution_count": null,
   "metadata": {},
   "outputs": [],
   "source": [
    "img.shape"
   ]
  },
  {
   "cell_type": "code",
   "execution_count": null,
   "metadata": {},
   "outputs": [],
   "source": [
    "img.astype(np.uint8)"
   ]
  },
  {
   "cell_type": "code",
   "execution_count": null,
   "metadata": {},
   "outputs": [],
   "source": [
    "img.astype(np.uint8).dtype"
   ]
  },
  {
   "cell_type": "code",
   "execution_count": null,
   "metadata": {},
   "outputs": [],
   "source": [
    "from PIL import Image\n",
    "image = Image.fromarray(np.transpose(img.astype(np.uint8), (1, 2, 0)), mode=\"RGB\")\n",
    "image"
   ]
  },
  {
   "cell_type": "code",
   "execution_count": null,
   "metadata": {},
   "outputs": [],
   "source": [
    "from PIL import ImageFont, ImageDraw, ImageEnhance\n",
    "\n",
    "for (x, y, xx, yy) in bboxes:\n",
    "    c1 = (int(x.item()), int(y.item()))\n",
    "    c2 = (int(xx.item()), int(yy.item()))\n",
    "    draw = ImageDraw.Draw(image)\n",
    "    draw.rectangle((c1, c2))\n",
    "\n",
    "image"
   ]
  },
  {
   "attachments": {},
   "cell_type": "markdown",
   "metadata": {},
   "source": [
    "Train"
   ]
  },
  {
   "cell_type": "code",
   "execution_count": null,
   "metadata": {},
   "outputs": [],
   "source": [
    "model = instantiate_model(config)"
   ]
  },
  {
   "cell_type": "code",
   "execution_count": null,
   "metadata": {},
   "outputs": [],
   "source": [
    "model"
   ]
  },
  {
   "cell_type": "code",
   "execution_count": null,
   "metadata": {},
   "outputs": [],
   "source": [
    "light_module = instantiate_lightning_module(config, model)\n",
    "light_module"
   ]
  },
  {
   "cell_type": "code",
   "execution_count": null,
   "metadata": {},
   "outputs": [],
   "source": [
    "trainer = instantiate_trainer(config, light_module)\n",
    "trainer"
   ]
  },
  {
   "cell_type": "code",
   "execution_count": null,
   "metadata": {},
   "outputs": [],
   "source": [
    "trainer.fit(light_module, train_dl, valid_dl)"
   ]
  },
  {
   "cell_type": "code",
   "execution_count": null,
   "metadata": {},
   "outputs": [],
   "source": [
    "from classes.data.satellite_image import SatelliteImage\n",
    "\n",
    "satellite_image = SatelliteImage(\n",
    "    array=img,\n",
    "    crs=0,\n",
    "    bounds=0,\n",
    "    transform=0,\n",
    "    n_bands=3,\n",
    "    filename=0,  # a adapter avec bb\n",
    "    dep=0,\n",
    "    date=0,\n",
    ")\n",
    "satellite_image"
   ]
  },
  {
   "cell_type": "code",
   "execution_count": null,
   "metadata": {},
   "outputs": [],
   "source": [
    "bboxes"
   ]
  },
  {
   "cell_type": "code",
   "execution_count": null,
   "metadata": {},
   "outputs": [],
   "source": [
    "from classes.data.labeled_satellite_image import DetectionLabeledSatelliteImage\n",
    "labeled_image = DetectionLabeledSatelliteImage(\n",
    "    satellite_image,\n",
    "    label=bboxes,\n",
    "    source=\"BDTOPO\",\n",
    "    labeling_date=0\n",
    ")\n",
    "labeled_image"
   ]
  },
  {
   "cell_type": "code",
   "execution_count": null,
   "metadata": {},
   "outputs": [],
   "source": [
    "a = labeled_image.plot(bands_indices=(0, 1, 2))"
   ]
  },
  {
   "cell_type": "code",
   "execution_count": null,
   "metadata": {},
   "outputs": [],
   "source": [
    "bboxes"
   ]
  },
  {
   "cell_type": "code",
   "execution_count": null,
   "metadata": {},
   "outputs": [],
   "source": [
    "a"
   ]
  },
  {
   "attachments": {},
   "cell_type": "markdown",
   "metadata": {},
   "source": [
    "\n",
    "\n"
   ]
  }
 ],
 "metadata": {
  "kernelspec": {
   "display_name": "base",
   "language": "python",
   "name": "python3"
  },
  "language_info": {
   "codemirror_mode": {
    "name": "ipython",
    "version": 3
   },
   "file_extension": ".py",
   "mimetype": "text/x-python",
   "name": "python",
   "nbconvert_exporter": "python",
   "pygments_lexer": "ipython3",
   "version": "3.10.9"
  }
 },
 "nbformat": 4,
 "nbformat_minor": 2
}
