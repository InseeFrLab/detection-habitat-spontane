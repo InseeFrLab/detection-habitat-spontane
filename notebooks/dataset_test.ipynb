{
 "cells": [
  {
   "attachments": {},
   "cell_type": "markdown",
   "metadata": {},
   "source": [
    "# Test du code Pytorch"
   ]
  },
  {
   "cell_type": "code",
   "execution_count": 1,
   "metadata": {},
   "outputs": [],
   "source": [
    "import sys\n",
    "sys.path.append('../src')\n",
    "import shutil\n",
    "import yaml\n",
    "import py7zr\n",
    "import os\n",
    "import s3fs\n",
    "from satellite_image import SatelliteImage\n",
    "from labeler import RILLabeler\n",
    "from labeler import BDTOPOLabeler\n",
    "from labeled_satellite_image import SegmentationLabeledSatelliteImage\n",
    "from utils import *\n",
    "from filter import *\n",
    "import matplotlib.pyplot as plt\n",
    "import numpy as np\n",
    "import rasterio.plot as rp\n",
    "import re\n",
    "from datetime import datetime\n",
    "from tqdm import tqdm"
   ]
  },
  {
   "cell_type": "code",
   "execution_count": 2,
   "metadata": {},
   "outputs": [],
   "source": [
    "update_storage_access()"
   ]
  },
  {
   "cell_type": "markdown",
   "metadata": {},
   "source": [
    "## Téléchargement des données Pléiades"
   ]
  },
  {
   "cell_type": "code",
   "execution_count": 3,
   "metadata": {},
   "outputs": [],
   "source": [
    "environment = get_environment()\n",
    "\n",
    "bucket = environment[\"bucket\"]\n",
    "path_s3_pleiades_data = environment[\"sources\"][\"PLEIADES\"]\n",
    "path_s3_bdtopo_data = environment[\"sources\"][\"BDTOPO\"][2022][\"guyane\"]\n",
    "path_local_pleiades_data = environment[\"local-path\"][\"PLEIADES\"]\n",
    "path_local_bdtopo_data = environment[\"local-path\"][\"BDTOPO\"][2022][\"guyane\"]\n",
    "\n",
    "fs = s3fs.S3FileSystem(client_kwargs={\"endpoint_url\": \"https://minio.lab.sspcloud.fr\"})"
   ]
  },
  {
   "cell_type": "markdown",
   "metadata": {},
   "source": [
    "On télécharge les fichiers depuis s3 (à mettre dans le setup.sh?)"
   ]
  },
  {
   "cell_type": "code",
   "execution_count": null,
   "metadata": {},
   "outputs": [],
   "source": [
    "fs.download(\n",
    "        rpath=f\"{bucket}/{path_s3_pleiades_data}\",\n",
    "        lpath=f\"../{path_local_pleiades_data}\",\n",
    "        recursive=True)"
   ]
  },
  {
   "cell_type": "code",
   "execution_count": null,
   "metadata": {},
   "outputs": [],
   "source": [
    "fs.download(\n",
    "        rpath=f\"{bucket}/{path_s3_bdtopo_data}\",\n",
    "        lpath=f\"../{path_local_bdtopo_data}\",\n",
    "        recursive=True)"
   ]
  },
  {
   "cell_type": "markdown",
   "metadata": {},
   "source": [
    "## Découpage et filtrage des images"
   ]
  },
  {
   "cell_type": "code",
   "execution_count": 4,
   "metadata": {},
   "outputs": [],
   "source": [
    "images_paths = [f\"../{path_local_pleiades_data}/16bits/ORT_2022072050325085_U22N/\" + p for p in os.listdir(f\"../{path_local_pleiades_data}/16bits/ORT_2022072050325085_U22N/\")]"
   ]
  },
  {
   "cell_type": "code",
   "execution_count": 5,
   "metadata": {},
   "outputs": [],
   "source": [
    "date = datetime.strptime(re.search(r'ORT_(\\d{8})', images_paths[0]).group(1), '%Y%m%d')"
   ]
  },
  {
   "cell_type": "markdown",
   "metadata": {},
   "source": [
    "On importes les `SatelliteImage` dans une liste."
   ]
  },
  {
   "cell_type": "code",
   "execution_count": 6,
   "metadata": {},
   "outputs": [],
   "source": [
    "list_images = [\n",
    "     SatelliteImage.from_raster(\n",
    "        filename,\n",
    "        dep = \"973\",\n",
    "        date = date, \n",
    "        n_bands = 4\n",
    "    ) for filename in tqdm(images_paths)]"
   ]
  },
  {
   "cell_type": "markdown",
   "metadata": {},
   "source": [
    "On découpe les images initialement de dimension 2000 en plusieurs image de dimension `dim`. On ne garde ensuite que les images qui sont pertinentes à l'aide de la méthode `filter_images`. Une image contenant moins de 50% de pixels non noirs n'est pas retenue."
   ]
  },
  {
   "cell_type": "code",
   "execution_count": 7,
   "metadata": {},
   "outputs": [],
   "source": [
    "dim = 250"
   ]
  },
  {
   "cell_type": "code",
   "execution_count": 8,
   "metadata": {},
   "outputs": [],
   "source": [
    "splitted_list_images = [im for sublist in tqdm(list_images) for im in sublist.split(250) if not is_too_black(im)]"
   ]
  },
  {
   "cell_type": "code",
   "execution_count": 9,
   "metadata": {},
   "outputs": [],
   "source": [
    "len(splitted_list_images)"
   ]
  },
  {
   "cell_type": "markdown",
   "metadata": {},
   "source": [
    "On peut représenter graphiquement nos images grâce à la méthode `plot` :"
   ]
  },
  {
   "cell_type": "code",
   "execution_count": 10,
   "metadata": {},
   "outputs": [],
   "source": [
    "splitted_list_images[2793].plot([0, 1, 2]) # RGB (3 premières bandes)"
   ]
  },
  {
   "cell_type": "markdown",
   "metadata": {},
   "source": [
    "On peut représenter l'image infrarouge : "
   ]
  },
  {
   "cell_type": "code",
   "execution_count": 11,
   "metadata": {},
   "outputs": [],
   "source": [
    "splitted_list_images[2793].plot([3, 0, 1]) # RGB (Infrarouge, rouge, vert)"
   ]
  },
  {
   "cell_type": "markdown",
   "metadata": {},
   "source": [
    "Ou bien qu'une seule bande :"
   ]
  },
  {
   "cell_type": "code",
   "execution_count": 12,
   "metadata": {},
   "outputs": [],
   "source": [
    "splitted_list_images[2793].plot([0]) # Une bande"
   ]
  },
  {
   "cell_type": "markdown",
   "metadata": {},
   "source": [
    "## Labélisation avec le RIL"
   ]
  },
  {
   "cell_type": "markdown",
   "metadata": {},
   "source": [
    "On définit un `labeler` incluant la taille des buffers que l'on souhaite ainsi que la forme de ceux-ci."
   ]
  },
  {
   "cell_type": "code",
   "execution_count": 109,
   "metadata": {},
   "outputs": [],
   "source": [
    "labeler_RIL = RILLabeler(date, dep=\"973\", buffer_size=6, cap_style=3)"
   ]
  },
  {
   "cell_type": "markdown",
   "metadata": {},
   "source": [
    "A l'aide de notre `labeler` on créer une `SegmentationLabeledSatelliteImage`."
   ]
  },
  {
   "cell_type": "code",
   "execution_count": 110,
   "metadata": {},
   "outputs": [],
   "source": [
    "list_labeled_images = []\n",
    "for sat_im in tqdm(splitted_list_images[:30]):\n",
    "    sat_im.normalize()\n",
    "    list_labeled_images.append(\n",
    "        SegmentationLabeledSatelliteImage(\n",
    "            sat_im,\n",
    "            labeler_RIL.create_segmentation_label(sat_im),\n",
    "            \"RIL\",\n",
    "            date\n",
    "        )\n",
    "    )"
   ]
  },
  {
   "cell_type": "code",
   "execution_count": 111,
   "metadata": {},
   "outputs": [],
   "source": [
    "splitted_list_images[0].to_tensor().shape"
   ]
  },
  {
   "cell_type": "code",
   "execution_count": 112,
   "metadata": {},
   "outputs": [],
   "source": [
    "splitted_list_images[0].to_tensor([0, 1, 2]).shape"
   ]
  },
  {
   "attachments": {},
   "cell_type": "markdown",
   "metadata": {},
   "source": [
    "### Dataset"
   ]
  },
  {
   "cell_type": "code",
   "execution_count": 113,
   "metadata": {},
   "outputs": [],
   "source": [
    "%load_ext autoreload\n",
    "%autoreload 2"
   ]
  },
  {
   "cell_type": "code",
   "execution_count": 114,
   "metadata": {},
   "outputs": [],
   "source": [
    "from dataset import SatelliteDataset"
   ]
  },
  {
   "cell_type": "code",
   "execution_count": 115,
   "metadata": {},
   "outputs": [],
   "source": [
    "from dataset import SatelliteDataModule\n",
    "\n",
    "data_module = SatelliteDataModule(\n",
    "    train_data=list_labeled_images[:20],\n",
    "    test_data=list_labeled_images[20:],\n",
    "    num_workers=0\n",
    ")"
   ]
  },
  {
   "cell_type": "code",
   "execution_count": 116,
   "metadata": {},
   "outputs": [],
   "source": [
    "train_dataloader = data_module.train_dataloader()"
   ]
  },
  {
   "cell_type": "code",
   "execution_count": 117,
   "metadata": {},
   "outputs": [],
   "source": [
    "train_features, train_labels = next(iter(train_dataloader))\n",
    "print(f\"Feature batch shape: {train_features.size()}\")\n",
    "print(f\"Labels batch shape: {train_labels.size()}\")"
   ]
  },
  {
   "cell_type": "code",
   "execution_count": 118,
   "metadata": {},
   "outputs": [],
   "source": [
    "img = train_features[0].squeeze()"
   ]
  },
  {
   "cell_type": "code",
   "execution_count": 119,
   "metadata": {},
   "outputs": [],
   "source": [
    "img.shape"
   ]
  },
  {
   "cell_type": "code",
   "execution_count": 120,
   "metadata": {},
   "outputs": [],
   "source": [
    "img[[0, 1, 2], :, :].shape"
   ]
  },
  {
   "cell_type": "code",
   "execution_count": 123,
   "metadata": {},
   "outputs": [],
   "source": [
    "plt.imshow(np.transpose(img[[0, 1, 2], :, :], (1, 2, 0)))\n",
    "plt.show()"
   ]
  },
  {
   "cell_type": "code",
   "execution_count": 124,
   "metadata": {},
   "outputs": [],
   "source": [
    "label = train_labels[0]\n",
    "label.shape"
   ]
  },
  {
   "cell_type": "code",
   "execution_count": 125,
   "metadata": {},
   "outputs": [],
   "source": [
    "plt.imshow(label, cmap=\"gray\")\n",
    "plt.show()"
   ]
  },
  {
   "cell_type": "code",
   "execution_count": 126,
   "metadata": {},
   "outputs": [],
   "source": [
    "for label in train_labels:\n",
    "    print(label.sum())"
   ]
  },
  {
   "cell_type": "code",
   "execution_count": 127,
   "metadata": {},
   "outputs": [],
   "source": [
    "img = train_features[2].squeeze()\n",
    "\n",
    "plt.imshow(np.transpose(img[[0, 1, 2], :, :], (1, 2, 0)))\n",
    "plt.show()"
   ]
  },
  {
   "cell_type": "code",
   "execution_count": 128,
   "metadata": {},
   "outputs": [],
   "source": [
    "label = train_labels[2]\n",
    "plt.imshow(label, cmap=\"gray\")\n",
    "plt.show()"
   ]
  },
  {
   "attachments": {},
   "cell_type": "markdown",
   "metadata": {},
   "source": [
    "### Test avec BDTOPO"
   ]
  },
  {
   "cell_type": "code",
   "execution_count": 129,
   "metadata": {},
   "outputs": [],
   "source": [
    "labeler_BDTOPO = BDTOPOLabeler(date, dep=\"973\")"
   ]
  },
  {
   "cell_type": "code",
   "execution_count": 130,
   "metadata": {},
   "outputs": [],
   "source": [
    "list_labeled_images = [\n",
    "   SegmentationLabeledSatelliteImage(\n",
    "      sat_im,\n",
    "      labeler_BDTOPO.create_segmentation_label(sat_im),\n",
    "      \"BDTOPO\",\n",
    "      date\n",
    "   ) for sat_im in tqdm(splitted_list_images[:30])]"
   ]
  },
  {
   "cell_type": "code",
   "execution_count": 131,
   "metadata": {},
   "outputs": [],
   "source": [
    "data_module = SatelliteDataModule(\n",
    "    train_data=list_labeled_images[:20],\n",
    "    test_data=list_labeled_images[20:],\n",
    "    num_workers=0\n",
    ")"
   ]
  },
  {
   "cell_type": "code",
   "execution_count": 132,
   "metadata": {},
   "outputs": [],
   "source": [
    "train_dataloader = data_module.train_dataloader()"
   ]
  },
  {
   "cell_type": "code",
   "execution_count": 133,
   "metadata": {},
   "outputs": [],
   "source": [
    "train_features, train_labels = next(iter(train_dataloader))\n",
    "print(f\"Feature batch shape: {train_features.size()}\")\n",
    "print(f\"Labels batch shape: {train_labels.size()}\")"
   ]
  },
  {
   "cell_type": "code",
   "execution_count": 134,
   "metadata": {},
   "outputs": [],
   "source": [
    "img = train_features[0].squeeze()"
   ]
  },
  {
   "cell_type": "code",
   "execution_count": 135,
   "metadata": {},
   "outputs": [],
   "source": [
    "img.shape"
   ]
  },
  {
   "cell_type": "code",
   "execution_count": 145,
   "metadata": {},
   "outputs": [],
   "source": [
    "plt.imshow(np.transpose(img[[0, 1, 2], :, :], (1, 2, 0)))\n",
    "plt.show()"
   ]
  },
  {
   "cell_type": "code",
   "execution_count": 137,
   "metadata": {},
   "outputs": [],
   "source": [
    "label = train_labels[0]\n",
    "label.shape"
   ]
  },
  {
   "cell_type": "code",
   "execution_count": 138,
   "metadata": {},
   "outputs": [],
   "source": [
    "plt.imshow(label, cmap=\"gray\")\n",
    "plt.show()"
   ]
  },
  {
   "attachments": {},
   "cell_type": "markdown",
   "metadata": {},
   "source": [
    "### Add transforms"
   ]
  },
  {
   "cell_type": "code",
   "execution_count": 139,
   "metadata": {},
   "outputs": [],
   "source": [
    "import albumentations as album\n",
    "from albumentations.pytorch.transforms import ToTensorV2"
   ]
  },
  {
   "cell_type": "code",
   "execution_count": 140,
   "metadata": {},
   "outputs": [],
   "source": [
    "image_size = (250, 250)\n",
    "# Some additional normalization is done here\n",
    "transforms_augmentation = album.Compose(\n",
    "    [\n",
    "        album.Resize(300, 300, always_apply=True),\n",
    "        album.RandomResizedCrop(\n",
    "            *image_size, scale=(0.7, 1.0), ratio=(0.7, 1)\n",
    "        ),\n",
    "        album.HorizontalFlip(),\n",
    "        album.VerticalFlip(),\n",
    "        album.Normalize(),\n",
    "        ToTensorV2(),\n",
    "    ]\n",
    ")"
   ]
  },
  {
   "cell_type": "code",
   "execution_count": 141,
   "metadata": {},
   "outputs": [],
   "source": [
    "transforms_preprocessing = album.Compose(\n",
    "    [\n",
    "        album.Resize(*image_size, always_apply=True),\n",
    "        album.Normalize(),\n",
    "        ToTensorV2(),\n",
    "    ]\n",
    ")"
   ]
  },
  {
   "cell_type": "code",
   "execution_count": 142,
   "metadata": {},
   "outputs": [],
   "source": [
    "data_module = SatelliteDataModule(\n",
    "    train_data=list_labeled_images[:20],\n",
    "    test_data=list_labeled_images[20:],\n",
    "    transforms_augmentation=transforms_augmentation,\n",
    "    transforms_preprocessing=transforms_preprocessing,\n",
    "    num_workers=0,\n",
    "    bands_indices=[0, 1, 2]\n",
    ")\n",
    "\n",
    "train_dataloader = data_module.train_dataloader()\n",
    "train_features, train_labels = next(iter(train_dataloader))\n",
    "print(f\"Feature batch shape: {train_features.size()}\")\n",
    "print(f\"Labels batch shape: {train_labels.size()}\")"
   ]
  },
  {
   "cell_type": "code",
   "execution_count": 143,
   "metadata": {},
   "outputs": [],
   "source": [
    "test_dataloader = data_module.test_dataloader()\n",
    "test_features, test_labels = next(iter(test_dataloader))"
   ]
  },
  {
   "cell_type": "code",
   "execution_count": 144,
   "metadata": {},
   "outputs": [],
   "source": [
    "train_dataloader"
   ]
  },
  {
   "attachments": {},
   "cell_type": "markdown",
   "metadata": {},
   "source": [
    "## Model training"
   ]
  },
  {
   "cell_type": "code",
   "execution_count": 150,
   "metadata": {},
   "outputs": [],
   "source": [
    "import torch\n",
    "import torchvision\n",
    "from torch import nn"
   ]
  },
  {
   "cell_type": "code",
   "execution_count": 152,
   "metadata": {},
   "outputs": [],
   "source": [
    "if torch.cuda.is_available():\n",
    "    device = torch.device(\"cuda:0\")\n",
    "else:\n",
    "    device = \"cpu\"\n",
    "\n",
    "print(\"Using {} device\".format(device))\n",
    "if torch.cuda.is_available():\n",
    "    print(\"Nom du GPU : \", torch.cuda.get_device_name(device=None))\n",
    "    print(\"GPU initialisé : \", torch.cuda.is_initialized())\n",
    "\n",
    "# Load the pretrained model\n",
    "model = torchvision.models.segmentation.deeplabv3_resnet101(\n",
    "    weights='DeepLabV3_ResNet101_Weights.DEFAULT'\n",
    ")\n",
    "# 1 classe !\n",
    "model.classifier[4] = nn.Conv2d(\n",
    "    256,\n",
    "    2,\n",
    "    kernel_size=(1, 1),\n",
    "    stride=(1, 1))\n",
    "model = model.to(device)"
   ]
  },
  {
   "cell_type": "code",
   "execution_count": 155,
   "metadata": {},
   "outputs": [],
   "source": [
    "model.classifier[4]"
   ]
  },
  {
   "cell_type": "code",
   "execution_count": 156,
   "metadata": {},
   "outputs": [],
   "source": [
    "# Initialize the number of parameters\n",
    "total_params = 0\n",
    "\n",
    "# Loop through the parameters in the model\n",
    "for param in model.parameters():\n",
    "    # Get the size of the parameter tensor\n",
    "    size = param.size()\n",
    "    # Multiply the size of the tensor by the number of elements in it\n",
    "    num_params = torch.prod(torch.tensor(size)).item()\n",
    "    # Add the number of parameters to the total\n",
    "    total_params += num_params\n",
    "\n",
    "# Print the total number of parameters\n",
    "print(\"Total number of parameters: \", total_params)"
   ]
  },
  {
   "cell_type": "code",
   "execution_count": 159,
   "metadata": {},
   "outputs": [],
   "source": [
    "# Perte\n",
    "loss_fn = torch.nn.CrossEntropyLoss()\n",
    "\n",
    "# Define the optimizer\n",
    "optimizer = torch.optim.SGD(model.parameters(), lr=0.0001, momentum=0.9)\n",
    "\n",
    "# Train the model\n",
    "for epoch in range(2):\n",
    "    running_loss = 0.0\n",
    "    t = tqdm(\n",
    "        train_dataloader,\n",
    "        desc=\"epoch %i\" % (epoch+1),\n",
    "        position = 0,\n",
    "        leave=True\n",
    "    )\n",
    "    epoch_loop = enumerate(t)\n",
    "\n",
    "    for i, data in epoch_loop:\n",
    "        images = data[0].to(device)\n",
    "        labels = data[1].type(torch.LongTensor).to(device)\n",
    "        optimizer.zero_grad()\n",
    "        output = model(images)[\"out\"]\n",
    "        loss = loss_fn(output, labels)\n",
    "        loss.backward()\n",
    "        optimizer.step()\n",
    "\n",
    "        del images, labels, output\n",
    "        running_loss += loss.item()"
   ]
  },
  {
   "attachments": {},
   "cell_type": "markdown",
   "metadata": {},
   "source": [
    "Avec PL"
   ]
  },
  {
   "cell_type": "code",
   "execution_count": 169,
   "metadata": {},
   "outputs": [],
   "source": [
    "from deeplabv3 import DeepLabv3Module\n",
    "from torch import optim\n",
    "from pytorch_lightning.callbacks import (\n",
    "    ModelCheckpoint,\n",
    "    EarlyStopping,\n",
    "    LearningRateMonitor,\n",
    ")\n",
    "import pytorch_lightning as pl\n",
    "\n",
    "optimizer = torch.optim.SGD\n",
    "optimizer_params = {\n",
    "    \"lr\": 0.0001,\n",
    "    \"momentum\": 0.9\n",
    "}\n",
    "scheduler = torch.optim.lr_scheduler.ReduceLROnPlateau\n",
    "scheduler_params = {}\n",
    "scheduler_interval = \"epoch\"\n",
    "\n",
    "model = DeepLabv3Module(\n",
    "        optimizer=optimizer,\n",
    "        optimizer_params=optimizer_params,\n",
    "        scheduler=scheduler,\n",
    "        scheduler_params=scheduler_params,\n",
    "        scheduler_interval=scheduler_interval\n",
    "    )\n",
    "\n",
    "checkpoint_callback = ModelCheckpoint(\n",
    "    monitor=\"validation_loss\", save_top_k=1, save_last=True, mode=\"min\"\n",
    ")\n",
    "early_stop_callback = EarlyStopping(\n",
    "    monitor=\"validation_loss\", mode=\"min\", patience=3\n",
    ")\n",
    "lr_monitor = LearningRateMonitor(logging_interval=\"step\")\n",
    "\n",
    "trainer = pl.Trainer(\n",
    "    callbacks=[lr_monitor, checkpoint_callback, early_stop_callback],\n",
    "    max_epochs=2,\n",
    "    gpus=0,\n",
    "    num_sanity_val_steps=2,\n",
    "    strategy=None\n",
    ")\n",
    "trainer.fit(model, datamodule=data_module)\n"
   ]
  },
  {
   "cell_type": "code",
   "execution_count": 170,
   "metadata": {},
   "outputs": [],
   "source": [
    "trainer.test(datamodule=data_module)"
   ]
  },
  {
   "cell_type": "code",
   "execution_count": null,
   "metadata": {},
   "outputs": [],
   "source": []
  }
 ],
 "metadata": {
  "kernelspec": {
   "display_name": "base",
   "language": "python",
   "name": "python3"
  },
  "language_info": {
   "codemirror_mode": {
    "name": "ipython",
    "version": 3
   },
   "file_extension": ".py",
   "mimetype": "text/x-python",
   "name": "python",
   "nbconvert_exporter": "python",
   "pygments_lexer": "ipython3",
   "version": "3.10.8"
  },
  "orig_nbformat": 4,
  "vscode": {
   "interpreter": {
    "hash": "3fa046f995eb80ac40c0869a1f9df46519f4ada8b8c395ef25dd1aa1a1a2fc63"
   }
  }
 },
 "nbformat": 4,
 "nbformat_minor": 2
}
