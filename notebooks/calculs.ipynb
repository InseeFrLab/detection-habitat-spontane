{
 "cells": [
  {
   "cell_type": "code",
   "execution_count": 1,
   "metadata": {},
   "outputs": [],
   "source": [
    "from utils.utils import (get_environment,get_root_path,update_storage_access)\n",
    "import os\n",
    "import s3fs\n",
    "from classes.data.satellite_image import SatelliteImage\n",
    "import numpy as np"
   ]
  },
  {
   "cell_type": "code",
   "execution_count": 11,
   "metadata": {},
   "outputs": [],
   "source": [
    "update_storage_access()\n",
    "root_path = get_root_path()\n",
    "environment = get_environment()\n",
    "\n",
    "bucket = environment[\"bucket\"]\n",
    "path_s3 = environment[\"sources\"][\"SENTINEL2\"][2022][\"976\"]\n",
    "path_local = os.path.join(\n",
    "    root_path, environment[\"local-path\"][\"SENTINEL2\"][2022][\"976\"]\n",
    ")\n",
    "\n",
    "fs = s3fs.S3FileSystem(\n",
    "    client_kwargs={\"endpoint_url\": \"https://minio.lab.sspcloud.fr\"}\n",
    ")\n",
    "fs.download(\n",
    "    rpath=f\"{bucket}/{path_s3}\", lpath=f\"{path_local}\", recursive=True\n",
    ")"
   ]
  },
  {
   "cell_type": "code",
   "execution_count": null,
   "metadata": {},
   "outputs": [],
   "source": [
    "# path_local = 'SENTINEL2/MAYOTTE/TUILES_2021'\n",
    "list_names = os.listdir(path_local)\n",
    "list_paths = [path_local + '/' + name for name in list_names]\n",
    "\n",
    "nb_images = len(list_paths)\n",
    "nb_bands = 12\n",
    "mean = [0]*nb_bands\n",
    "std = [0]*nb_bands\n",
    "\n",
    "for path in list_paths:\n",
    "    si = SatelliteImage.from_raster(\n",
    "        file_path=path,\n",
    "        dep=976,\n",
    "        date=2021,\n",
    "        n_bands=nb_bands\n",
    "    )\n",
    "\n",
    "    for i in range(nb_bands):\n",
    "        if not np.isnan(np.mean(si.array[i])):\n",
    "            mean[i] += np.mean(si.array[i])\n",
    "            std[i] += np.std(si.array[i])\n",
    "\n",
    "for i in range(nb_bands):\n",
    "    mean[i] /= nb_images\n",
    "    std[i] /= nb_images\n",
    "\n",
    "mean=tuple(mean)\n",
    "std=tuple(std)\n",
    "\n",
    "print(mean, std)"
   ]
  },
  {
   "cell_type": "markdown",
   "metadata": {},
   "source": []
  }
 ],
 "metadata": {
  "kernelspec": {
   "display_name": "base",
   "language": "python",
   "name": "python3"
  },
  "language_info": {
   "codemirror_mode": {
    "name": "ipython",
    "version": 3
   },
   "file_extension": ".py",
   "mimetype": "text/x-python",
   "name": "python",
   "nbconvert_exporter": "python",
   "pygments_lexer": "ipython3",
   "version": "3.10.9"
  },
  "orig_nbformat": 4
 },
 "nbformat": 4,
 "nbformat_minor": 2
}
