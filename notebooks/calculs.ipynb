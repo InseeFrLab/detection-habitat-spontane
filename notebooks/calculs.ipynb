{
 "cells": [
  {
   "attachments": {},
   "cell_type": "markdown",
   "metadata": {},
   "source": [
    "Calculs de la moyenne et de l'écart type par bande sur une série d'images"
   ]
  },
  {
   "cell_type": "code",
   "execution_count": null,
   "metadata": {},
   "outputs": [],
   "source": [
    "from utils.utils import (get_environment,get_root_path,update_storage_access)\n",
    "import os\n",
    "import s3fs\n",
    "from classes.data.satellite_image import SatelliteImage\n",
    "import numpy as np"
   ]
  },
  {
   "cell_type": "code",
   "execution_count": null,
   "metadata": {},
   "outputs": [],
   "source": [
    "update_storage_access()\n",
    "root_path = get_root_path()\n",
    "environment = get_environment()\n",
    "\n",
    "src = \"SENTINEL2\"\n",
    "date = 2022\n",
    "dep = \"976\"\n",
    "nb_bands = 12"
   ]
  },
  {
   "cell_type": "code",
   "execution_count": null,
   "metadata": {},
   "outputs": [],
   "source": [
    "bucket = environment[\"bucket\"]\n",
    "path_s3 = environment[\"sources\"][src][date][dep]\n",
    "path_local = os.path.join(\n",
    "    root_path, environment[\"local-path\"][src][date][dep]\n",
    ")\n",
    "\n",
    "fs = s3fs.S3FileSystem(\n",
    "    client_kwargs={\"endpoint_url\": \"https://minio.lab.sspcloud.fr\"}\n",
    ")\n",
    "fs.download(\n",
    "    rpath=f\"{bucket}/{path_s3}\", lpath=f\"{path_local}\", recursive=True\n",
    ")"
   ]
  },
  {
   "cell_type": "code",
   "execution_count": null,
   "metadata": {},
   "outputs": [],
   "source": [
    "path_local = ''\n",
    "list_paths = os.listdir(path_local)\n",
    "list_paths = [path_local + '/' + name for name in list_paths]\n",
    "\n",
    "nb_images = len(list_paths)\n",
    "mean = [0]*nb_bands\n",
    "std = [0]*nb_bands\n",
    "\n",
    "for path in list_paths:\n",
    "    si = SatelliteImage.from_raster(\n",
    "        file_path=path,\n",
    "        dep=dep,\n",
    "        date=date,\n",
    "        n_bands=nb_bands\n",
    "    )\n",
    "\n",
    "    for i in range(nb_bands):\n",
    "        if not np.isnan(np.mean(si.array[i])):\n",
    "            mean[i] += np.mean(si.array[i])\n",
    "            std[i] += np.std(si.array[i])\n",
    "\n",
    "for i in range(nb_bands):\n",
    "    mean[i] /= nb_images\n",
    "    std[i] /= nb_images\n",
    "\n",
    "mean=tuple(mean)\n",
    "std=tuple(std)\n",
    "\n",
    "print(mean, std)"
   ]
  },
  {
   "attachments": {},
   "cell_type": "markdown",
   "metadata": {},
   "source": [
    "Calcul et export en .tif du label correspondant à une image d'entrée"
   ]
  },
  {
   "cell_type": "code",
   "execution_count": 1,
   "metadata": {},
   "outputs": [],
   "source": [
    "from datetime import datetime\n",
    "import numpy as np\n",
    "from tqdm import tqdm\n",
    "import os\n",
    "\n",
    "from classes.data.satellite_image import SatelliteImage\n",
    "\n",
    "from train_pipeline_utils.prepare_data import (\n",
    "    label_images,\n",
    "    save_images_and_masks,\n",
    ")\n",
    "from classes.labelers.labeler import BDTOPOLabeler\n",
    "from utils.utils import remove_dot_file"
   ]
  },
  {
   "cell_type": "code",
   "execution_count": 8,
   "metadata": {},
   "outputs": [],
   "source": [
    "year = 2022\n",
    "dep = \"974\"\n",
    "nb_bands=12\n",
    "task=\"segmentation\""
   ]
  },
  {
   "cell_type": "code",
   "execution_count": 9,
   "metadata": {},
   "outputs": [
    {
     "name": "stdout",
     "output_type": "stream",
     "text": [
      "download 974 2022 in /home/onyxia/work/detection-habitat-spontane/data/BDTOPO/2022/BDTOPO_REUNION\n"
     ]
    },
    {
     "name": "stderr",
     "output_type": "stream",
     "text": [
      "100%|██████████| 4/4 [00:01<00:00,  2.15it/s]\n"
     ]
    }
   ],
   "source": [
    "output_dir = \"imgs\"\n",
    "date = datetime.strptime(str(year) + \"0101\", \"%Y%m%d\")\n",
    "\n",
    "dir = '/home/onyxia/work/detection-habitat-spontane/src/donnees_test'\n",
    "list_path = [dir + \"/\" + filename for filename in remove_dot_file(os.listdir(dir))]\n",
    "liste_sorted = np.sort(list_path)\n",
    "labeler = BDTOPOLabeler(date, dep)\n",
    "\n",
    "for path in tqdm(liste_sorted):\n",
    "    si = SatelliteImage.from_raster(\n",
    "        file_path=path,\n",
    "        dep=dep,\n",
    "        date=date,\n",
    "        n_bands=nb_bands,\n",
    "    )\n",
    "\n",
    "    labels, balancing_dict = label_images(\n",
    "        [si], labeler, task=task\n",
    "    )\n",
    "\n",
    "    save_images_and_masks(\n",
    "        [si],\n",
    "        labels,\n",
    "        output_dir,\n",
    "        'SENTINEL2',\n",
    "        dir,\n",
    "        task=task,\n",
    "    )"
   ]
  },
  {
   "cell_type": "markdown",
   "metadata": {},
   "source": [
    "Création des images test"
   ]
  },
  {
   "cell_type": "code",
   "execution_count": null,
   "metadata": {},
   "outputs": [],
   "source": [
    "import os\n",
    "from classes.data.satellite_image import SatelliteImage\n",
    "from osgeo import gdal\n",
    "import numpy as np"
   ]
  },
  {
   "cell_type": "code",
   "execution_count": null,
   "metadata": {},
   "outputs": [],
   "source": [
    "path_s1 = 'donnees_test/Sentinel1'\n",
    "path_s2 = 'donnees_test/Sentinel2'\n",
    "path_s1_2 = 'donnees_test/Sentinel1-2'\n",
    "path_s1_2_RVB = 'donnees_test/Sentinel1-2-RVB'\n",
    "path_s2_RVB = 'donnees_test/Sentinel2-RVB'\n",
    "\n",
    "list_names_s1 = os.listdir(path_s1)\n",
    "list_names_s2 = os.listdir(path_s2)\n",
    "list_names_s1_2 = os.listdir(path_s1_2)\n",
    "list_names_s1_2_RVB = os.listdir(path_s1_2_RVB)\n",
    "list_names_s2_RVB = os.listdir(path_s2_RVB)\n",
    "\n",
    "list_paths_s1 = [path_s1+'/'+name for name in list_names_s1]\n",
    "list_paths_s2 = [path_s2+'/'+name for name in list_names_s2]\n",
    "list_paths_s1_2 = [path_s1_2+'/'+name for name in list_names_s1_2]\n",
    "list_paths_s1_2_RVB = [path_s1_2_RVB+'/'+name for name in list_names_s1_2_RVB]\n",
    "list_paths_s2_RVB = [path_s2_RVB+'/'+name for name in list_names_s2_RVB]"
   ]
  },
  {
   "cell_type": "code",
   "execution_count": null,
   "metadata": {},
   "outputs": [],
   "source": [
    "### Création Sentinel1-2\n",
    "### Relancer la création des listes de fichiers\n",
    "\n",
    "for path1 in list_paths_s1:\n",
    "    full_name = path1.split('/')[-1]\n",
    "    name1 = path1.split('/')[-1][0:14]\n",
    "    for path2 in list_paths_s2:\n",
    "        if name1 in path2:\n",
    "            image1 = SatelliteImage.from_raster(file_path=path1, dep=None, date=None, n_bands=2)\n",
    "            image2 = SatelliteImage.from_raster(file_path=path2, dep=None, date=None, n_bands=12)\n",
    "            array1 = image1.array\n",
    "            array2 = image2.array\n",
    "\n",
    "            array1_2 = np.concatenate((array2, array1))\n",
    "            n_bands = array1_2.shape[0]\n",
    "\n",
    "            transf = image1.transform\n",
    "            driver = gdal.GetDriverByName(\"GTiff\")\n",
    "            out_ds = driver.Create(\n",
    "                path_s1_2 + \"/\" + name1 + \".tif\",\n",
    "                array1_2.shape[2],\n",
    "                array1_2.shape[1],\n",
    "                array1_2.shape[0],\n",
    "                gdal.GDT_Float64,\n",
    "            )\n",
    "            out_ds.SetGeoTransform(\n",
    "                [\n",
    "                    transf[2],\n",
    "                    transf[0],\n",
    "                    transf[1],\n",
    "                    transf[5],\n",
    "                    transf[3],\n",
    "                    transf[4],\n",
    "                ]\n",
    "            )\n",
    "            in_ds = gdal.Open(path_s1+'/'+full_name)\n",
    "            proj = in_ds.GetProjection()\n",
    "            out_ds.SetProjection(proj)\n",
    "\n",
    "            for i in range(n_bands):\n",
    "                out_ds.GetRasterBand(i + 1).WriteArray(array1_2[i, :, :])\n",
    "\n",
    "            out_ds = None"
   ]
  },
  {
   "cell_type": "code",
   "execution_count": null,
   "metadata": {},
   "outputs": [],
   "source": [
    "### Création Sentinel1-2-RVB\n",
    "### Relancer la création des listes de fichiers\n",
    "\n",
    "for path in list_paths_s1_2:\n",
    "    full_name = path.split('/')[-1]\n",
    "    name = path.split('/')[-1][0:14]\n",
    "    image = SatelliteImage.from_raster(file_path=path, dep=None, date=None, n_bands=14)\n",
    "    array = image.array\n",
    "\n",
    "    array1_2_RVB = array[(3,2,1,12,13),:,:]\n",
    "    n_bands = array1_2_RVB.shape[0]\n",
    "\n",
    "    transf = image.transform\n",
    "    driver = gdal.GetDriverByName(\"GTiff\")\n",
    "    out_ds = driver.Create(\n",
    "        path_s1_2_RVB + \"/\" + name + \".tif\",\n",
    "        array1_2_RVB.shape[2],\n",
    "        array1_2_RVB.shape[1],\n",
    "        array1_2_RVB.shape[0],\n",
    "        gdal.GDT_Float64,\n",
    "    )\n",
    "    out_ds.SetGeoTransform(\n",
    "        [\n",
    "            transf[2],\n",
    "            transf[0],\n",
    "            transf[1],\n",
    "            transf[5],\n",
    "            transf[3],\n",
    "            transf[4],\n",
    "        ]\n",
    "    )\n",
    "    in_ds = gdal.Open(path)\n",
    "    proj = in_ds.GetProjection()\n",
    "    out_ds.SetProjection(proj)\n",
    "\n",
    "    for i in range(n_bands):\n",
    "        out_ds.GetRasterBand(i + 1).WriteArray(array1_2_RVB[i, :, :])\n",
    "\n",
    "    out_ds = None"
   ]
  },
  {
   "cell_type": "code",
   "execution_count": null,
   "metadata": {},
   "outputs": [],
   "source": [
    "### Création Sentinel2-RVB\n",
    "### Relancer la création des listes de fichiers\n",
    "\n",
    "for path in list_paths_s1_2_RVB:\n",
    "    full_name = path.split('/')[-1]\n",
    "    name = path.split('/')[-1][0:14]\n",
    "    image = SatelliteImage.from_raster(file_path=path, dep=None, date=None, n_bands=5)\n",
    "    array = image.array\n",
    "\n",
    "    array2_RVB = array[(0, 1, 2),:,:]\n",
    "    n_bands = array2_RVB.shape[0]\n",
    "\n",
    "    transf = image.transform\n",
    "    driver = gdal.GetDriverByName(\"GTiff\")\n",
    "    out_ds = driver.Create(\n",
    "        path_s2_RVB + \"/\" + name + \".tif\",\n",
    "        array2_RVB.shape[2],\n",
    "        array2_RVB.shape[1],\n",
    "        array2_RVB.shape[0],\n",
    "        gdal.GDT_Float64,\n",
    "    )\n",
    "    out_ds.SetGeoTransform(\n",
    "        [\n",
    "            transf[2],\n",
    "            transf[0],\n",
    "            transf[1],\n",
    "            transf[5],\n",
    "            transf[3],\n",
    "            transf[4],\n",
    "        ]\n",
    "    )\n",
    "    in_ds = gdal.Open(path)\n",
    "    proj = in_ds.GetProjection()\n",
    "    out_ds.SetProjection(proj)\n",
    "\n",
    "    for i in range(n_bands):\n",
    "        out_ds.GetRasterBand(i + 1).WriteArray(array2_RVB[i, :, :])\n",
    "\n",
    "    out_ds = None"
   ]
  }
 ],
 "metadata": {
  "kernelspec": {
   "display_name": "base",
   "language": "python",
   "name": "python3"
  },
  "language_info": {
   "codemirror_mode": {
    "name": "ipython",
    "version": 3
   },
   "file_extension": ".py",
   "mimetype": "text/x-python",
   "name": "python",
   "nbconvert_exporter": "python",
   "pygments_lexer": "ipython3",
   "version": "3.11.4"
  },
  "orig_nbformat": 4
 },
 "nbformat": 4,
 "nbformat_minor": 2
}
