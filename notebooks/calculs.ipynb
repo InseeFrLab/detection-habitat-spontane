{
 "cells": [
  {
   "attachments": {},
   "cell_type": "markdown",
   "metadata": {},
   "source": [
    "Calculs de la moyenne et de l'écart type par bande sur une série d'images"
   ]
  },
  {
   "cell_type": "code",
   "execution_count": 1,
   "metadata": {},
   "outputs": [],
   "source": [
    "from utils.utils import (get_environment,get_root_path,update_storage_access)\n",
    "import os\n",
    "import s3fs\n",
    "from classes.data.satellite_image import SatelliteImage\n",
    "import numpy as np"
   ]
  },
  {
   "cell_type": "code",
   "execution_count": 11,
   "metadata": {},
   "outputs": [],
   "source": [
    "update_storage_access()\n",
    "root_path = get_root_path()\n",
    "environment = get_environment()\n",
    "\n",
    "src = \"SENTINEL2\"\n",
    "date = 2022\n",
    "dep = \"976\"\n",
    "nb_bands = 12"
   ]
  },
  {
   "cell_type": "code",
   "execution_count": null,
   "metadata": {},
   "outputs": [],
   "source": [
    "bucket = environment[\"bucket\"]\n",
    "path_s3 = environment[\"sources\"][src][date][dep]\n",
    "path_local = os.path.join(\n",
    "    root_path, environment[\"local-path\"][src][date][dep]\n",
    ")\n",
    "\n",
    "fs = s3fs.S3FileSystem(\n",
    "    client_kwargs={\"endpoint_url\": \"https://minio.lab.sspcloud.fr\"}\n",
    ")\n",
    "fs.download(\n",
    "    rpath=f\"{bucket}/{path_s3}\", lpath=f\"{path_local}\", recursive=True\n",
    ")"
   ]
  },
  {
   "cell_type": "code",
   "execution_count": null,
   "metadata": {},
   "outputs": [],
   "source": [
    "path_local = ''\n",
    "list_names = os.listdir(path_local)\n",
    "list_paths = [path_local + '/' + name for name in list_names]\n",
    "\n",
    "nb_images = len(list_paths)\n",
    "mean = [0]*nb_bands\n",
    "std = [0]*nb_bands\n",
    "\n",
    "for path in list_paths:\n",
    "    si = SatelliteImage.from_raster(\n",
    "        file_path=path,\n",
    "        dep=dep,\n",
    "        date=date,\n",
    "        n_bands=nb_bands\n",
    "    )\n",
    "\n",
    "    for i in range(nb_bands):\n",
    "        if not np.isnan(np.mean(si.array[i])):\n",
    "            mean[i] += np.mean(si.array[i])\n",
    "            std[i] += np.std(si.array[i])\n",
    "\n",
    "for i in range(nb_bands):\n",
    "    mean[i] /= nb_images\n",
    "    std[i] /= nb_images\n",
    "\n",
    "mean=tuple(mean)\n",
    "std=tuple(std)\n",
    "\n",
    "print(mean, std)"
   ]
  },
  {
   "attachments": {},
   "cell_type": "markdown",
   "metadata": {},
   "source": [
    "Calcul et export en .tif du label correspondant à une image d'entrée"
   ]
  },
  {
   "cell_type": "code",
   "execution_count": null,
   "metadata": {},
   "outputs": [],
   "source": [
    "from datetime import datetime\n",
    "import numpy as np\n",
    "from tqdm import tqdm\n",
    "import os\n",
    "\n",
    "from classes.data.satellite_image import SatelliteImage\n",
    "\n",
    "from train_pipeline_utils.prepare_data import (\n",
    "    label_images,\n",
    "    save_images_and_masks,\n",
    ")\n",
    "from classes.labelers.labeler import BDTOPOLabeler\n",
    "from utils.utils import remove_dot_file"
   ]
  },
  {
   "cell_type": "code",
   "execution_count": null,
   "metadata": {},
   "outputs": [],
   "source": [
    "year = 2022\n",
    "dep = \"971\"\n",
    "nb_bands=12\n",
    "task=\"segmentation\""
   ]
  },
  {
   "cell_type": "code",
   "execution_count": null,
   "metadata": {},
   "outputs": [],
   "source": [
    "list_output_dir = []\n",
    "output_dir = \"img4b\"\n",
    "date = datetime.strptime(str(year) + \"0101\", \"%Y%m%d\")\n",
    "\n",
    "dir = '/home/onyxia/work/detection-habitat-spontane/donnees-test'\n",
    "list_path = [dir + \"/\" + filename for filename in remove_dot_file(os.listdir(dir))]\n",
    "liste_sorted = np.sort(list_path)\n",
    "labeler = BDTOPOLabeler(date, dep)\n",
    "\n",
    "for path in tqdm(liste_sorted):\n",
    "    si = SatelliteImage.from_raster(\n",
    "        file_path=path,\n",
    "        dep=dep,\n",
    "        date=date,\n",
    "        n_bands=nb_bands,\n",
    "    )\n",
    "    filename = path.split(\"/\")[-1].split(\".\")[0]\n",
    "\n",
    "    labels, balancing_dict = label_images(\n",
    "        [si], labeler, task=task\n",
    "    )\n",
    "\n",
    "    save_images_and_masks(\n",
    "        [si],\n",
    "        labels,\n",
    "        '/home/onyxia/work/detection-habitat-spontane/src/img4b',\n",
    "        '/home/onyxia/work/detection-habitat-spontane/donnees-test',\n",
    "        task=task,\n",
    "    )"
   ]
  }
 ],
 "metadata": {
  "kernelspec": {
   "display_name": "base",
   "language": "python",
   "name": "python3"
  },
  "language_info": {
   "codemirror_mode": {
    "name": "ipython",
    "version": 3
   },
   "file_extension": ".py",
   "mimetype": "text/x-python",
   "name": "python",
   "nbconvert_exporter": "python",
   "pygments_lexer": "ipython3",
   "version": "3.10.9"
  },
  "orig_nbformat": 4
 },
 "nbformat": 4,
 "nbformat_minor": 2
}
