{
 "cells": [
  {
   "cell_type": "code",
   "execution_count": 2,
   "metadata": {},
   "outputs": [],
   "source": [
    "import os\n",
    "import matplotlib.pyplot as plt\n",
    "import matplotlib.image as img\n",
    "import numpy as np\n",
    "\n",
    "import sys\n",
    "sys.path.append('../src')\n",
    "\n",
    "from classes.data.satellite_image import SatelliteImage\n"
   ]
  },
  {
   "attachments": {},
   "cell_type": "markdown",
   "metadata": {},
   "source": [
    "SEUIL SUR LE 75è PERCENTILE DU NDBI"
   ]
  },
  {
   "cell_type": "code",
   "execution_count": 35,
   "metadata": {},
   "outputs": [],
   "source": [
    "dir = '../data/seuillage/'\n",
    "list_paths = os.listdir(dir)\n",
    "list_paths = [dir + path for path in list_paths]\n",
    "\n",
    "dep = 976\n",
    "year = 2022\n",
    "n_bands = 12"
   ]
  },
  {
   "cell_type": "code",
   "execution_count": 78,
   "metadata": {},
   "outputs": [],
   "source": [
    "for path in list_paths:\n",
    "    image = SatelliteImage.from_raster(\n",
    "        file_path=path,\n",
    "        dep=dep,\n",
    "        date=year,\n",
    "        n_bands=n_bands,\n",
    "    )\n",
    "\n",
    "    array = image.array\n",
    "    \n",
    "    NDBI = np.ones((250,250))\n",
    "    NDVI = np.ones((250,250))\n",
    "    NDWI = np.ones((250,250))\n",
    "    \n",
    "    for i in range(250):\n",
    "        for j in range(250):\n",
    "            NDBI[i][j] = (int(array[10,i,j])-int(array[7,i,j]))/(int(array[10,i,j])+int(array[7,i,j]))\n",
    "            NDVI[i][j] = (int(array[7,i,j])-int(array[3,i,j]))/(int(array[7,i,j])+int(array[3,i,j]))\n",
    "            NDWI[i][j] = (int(array[2,i,j])-int(array[7,i,j]))/(int(array[2,i,j])+int(array[7,i,j]))\n",
    "        \n",
    "    NDBI_perc75 = np.percentile(NDBI,75)\n",
    "    NDVI_perc25 = np.percentile(NDVI,25)\n",
    "    NDWI_perc95 = np.percentile(NDWI,95)\n",
    "\n",
    "    masque = np.zeros((250,250))\n",
    "    for i in range(250):\n",
    "        for j in range(250):\n",
    "            if NDBI[i,j] >= NDBI_perc75 and NDVI[i,j] <= NDVI_perc25:# and NDWI[i,j] >= -0.9 and NDWI[i,j] <= 0.3:\n",
    "                masque[i,j] = 1\n",
    "\n",
    "print(np.where(masque==1)[0].shape[0])\n",
    "\n",
    "plt.imshow(masque,cmap='gray')\n",
    "plt.show()\n"
   ]
  }
 ],
 "metadata": {
  "kernelspec": {
   "display_name": "base",
   "language": "python",
   "name": "python3"
  },
  "language_info": {
   "codemirror_mode": {
    "name": "ipython",
    "version": 3
   },
   "file_extension": ".py",
   "mimetype": "text/x-python",
   "name": "python",
   "nbconvert_exporter": "python",
   "pygments_lexer": "ipython3",
   "version": "3.10.9"
  },
  "orig_nbformat": 4
 },
 "nbformat": 4,
 "nbformat_minor": 2
}
