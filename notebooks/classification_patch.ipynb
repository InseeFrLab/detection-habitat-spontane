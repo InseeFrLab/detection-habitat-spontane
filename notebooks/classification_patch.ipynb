{
 "cells": [
  {
   "cell_type": "code",
   "execution_count": 1,
   "id": "113a653c-867c-45ab-919d-953ed078a31c",
   "metadata": {},
   "outputs": [],
   "source": [
    "%load_ext autoreload\n",
    "%autoreload 2"
   ]
  },
  {
   "cell_type": "code",
   "execution_count": 2,
   "id": "a91013ee-8c67-4d91-a388-91199e3ead30",
   "metadata": {},
   "outputs": [],
   "source": [
    "import sys\n",
    "sys.path.append('../src')\n",
    "from run_training_pipeline import *"
   ]
  },
  {
   "cell_type": "code",
   "execution_count": 3,
   "id": "6b92cce1-ce5b-4f97-b161-defec8dcfcaf",
   "metadata": {},
   "outputs": [],
   "source": [
    "import gc\n",
    "import os\n",
    "import sys\n",
    "from datetime import datetime\n",
    "\n",
    "import mlflow\n",
    "import numpy as np\n",
    "import pytorch_lightning as pl\n",
    "import torch\n",
    "import yaml\n",
    "from pytorch_lightning.callbacks import (\n",
    "    EarlyStopping,\n",
    "    LearningRateMonitor,\n",
    "    ModelCheckpoint,\n",
    ")\n",
    "from rasterio.errors import RasterioIOError\n",
    "from torch.utils.data import DataLoader\n",
    "from tqdm import tqdm\n",
    "from yaml.loader import SafeLoader"
   ]
  },
  {
   "cell_type": "code",
   "execution_count": 5,
   "id": "5fa18411-5206-455d-8a46-3e084e3ab422",
   "metadata": {},
   "outputs": [],
   "source": [
    "os.getcwd()\n",
    "os.chdir(\"../\")"
   ]
  },
  {
   "cell_type": "code",
   "execution_count": 6,
   "id": "7a9dde56-d4bb-4dab-888f-6701d8b11f8c",
   "metadata": {},
   "outputs": [],
   "source": [
    "with open(\"config.yml\") as f:\n",
    "    config = yaml.load(f, Loader=SafeLoader)"
   ]
  },
  {
   "cell_type": "code",
   "execution_count": 7,
   "id": "6d5c66e7-d87c-4f72-b2ea-6cba2e18fa7b",
   "metadata": {},
   "outputs": [
    {
     "name": "stdout",
     "output_type": "stream",
     "text": [
      "Entre dans la fonction download_data\n",
      "Entre dans la fonction load_satellite_data\n",
      "Le dossier existe déjà\n",
      "Entre dans la fonction load_satellite_data\n",
      "Le dossier existe déjà\n",
      "chargement des données test\n",
      "le jeu de données test existe déjà\n"
     ]
    }
   ],
   "source": [
    "list_data_dir, list_masks_cloud_dir, test_dir = download_data(config)"
   ]
  },
  {
   "cell_type": "code",
   "execution_count": 18,
   "id": "f49c6ba9-6f13-418e-8c7b-32b488c7f645",
   "metadata": {},
   "outputs": [],
   "source": [
    "test_dir = \"donnees-test/classification\""
   ]
  },
  {
   "cell_type": "code",
   "execution_count": 9,
   "id": "4cf01ca2-92fb-4d3c-93d6-6b3496f17d3b",
   "metadata": {},
   "outputs": [],
   "source": [
    "list_data_dir = [\"data/PLEIADES/2022/MARTINIQUE\"]\n",
    "list_masks_cloud_dir = [\"data/NUAGESPLEIADES/2022/MARTINIQUE\"]"
   ]
  },
  {
   "cell_type": "code",
   "execution_count": 11,
   "id": "d21a8e8d-5b26-4bf8-859c-f180f2bbe178",
   "metadata": {},
   "outputs": [
    {
     "name": "stdout",
     "output_type": "stream",
     "text": [
      "Entre dans la fonction prepare_data\n",
      "Entre dans la fonction check_labelled_images\n",
      "The directory already exists and is not empty.\n",
      "7585 couples images/masques retenus\n"
     ]
    }
   ],
   "source": [
    "list_output_dir = prepare_train_data(config, list_data_dir, list_masks_cloud_dir)"
   ]
  },
  {
   "cell_type": "code",
   "execution_count": 66,
   "id": "2ceb75dd-bd60-42c1-8a2b-226f6b4b8e81",
   "metadata": {},
   "outputs": [],
   "source": [
    "from src.classes.data.satellite_image import (SatelliteImage)"
   ]
  },
  {
   "cell_type": "code",
   "execution_count": 62,
   "id": "c8851ec5-2ea7-4c9f-b2f8-141065648b13",
   "metadata": {},
   "outputs": [],
   "source": [
    "output_tensor = torch.randn(9, 3, 224, 224)"
   ]
  },
  {
   "cell_type": "code",
   "execution_count": 71,
   "id": "20e55a08-109e-43e1-8c5b-bfc8cb40eb74",
   "metadata": {},
   "outputs": [
    {
     "data": {
      "text/plain": [
       "torch.Size([9, 3, 224, 224])"
      ]
     },
     "execution_count": 71,
     "metadata": {},
     "output_type": "execute_result"
    }
   ],
   "source": [
    "output_tensor.size()"
   ]
  },
  {
   "cell_type": "code",
   "execution_count": 184,
   "id": "5b17aea2-f7f6-4d5e-b864-bc90685cb6f2",
   "metadata": {},
   "outputs": [],
   "source": [
    "pathim = \"train_data-classification-PLEIADES-RIL-972-2022/images/ORT_2022_0695_1627_U20N_8Bits_002.jp2\"\n",
    "label = 0\n",
    "        \n",
    "img = SatelliteImage.from_raster(\n",
    "    file_path=pathim, dep=None, date=None, n_bands=3\n",
    ").array\n",
    "\n",
    "img = np.transpose(img.astype(float), [1, 2, 0])\n",
    "label = torch.tensor(label)\n",
    "\n",
    "img = torch.tensor(img.astype(float))\n",
    "img = img.permute([2, 0, 1])\n",
    "#label = torch.tensor(label)\n",
    "\n",
    "img = img.type(torch.float).unsqueeze(0)\n",
    "label = label.type(torch.float)\n"
   ]
  },
  {
   "cell_type": "code",
   "execution_count": 185,
   "id": "dc687be0-427e-4ad2-a210-db814f2748ce",
   "metadata": {},
   "outputs": [
    {
     "name": "stdout",
     "output_type": "stream",
     "text": [
      "tensor([[[[121., 121., 121.,  ..., 109., 109.,  97.],\n",
      "          [121., 121., 121.,  ..., 107., 103., 100.],\n",
      "          [121., 121., 121.,  ..., 109., 113., 117.],\n",
      "          ...,\n",
      "          [ 44.,  52.,  50.,  ..., 115., 115., 115.],\n",
      "          [ 44.,  46.,  49.,  ..., 115., 115., 115.],\n",
      "          [ 44.,  47.,  49.,  ..., 115., 115., 115.]],\n",
      "\n",
      "         [[123., 123., 123.,  ..., 115., 116.,  98.],\n",
      "          [123., 123., 123.,  ..., 108.,  96.,  94.],\n",
      "          [123., 123., 123.,  ..., 115., 121., 123.],\n",
      "          ...,\n",
      "          [ 84.,  91.,  89.,  ..., 116., 116., 116.],\n",
      "          [ 85.,  84.,  89.,  ..., 116., 116., 116.],\n",
      "          [ 84.,  85.,  90.,  ..., 116., 116., 116.]],\n",
      "\n",
      "         [[115., 114., 114.,  ..., 109., 107.,  63.],\n",
      "          [115., 114., 114.,  ...,  78.,  56.,  54.],\n",
      "          [115., 114., 114.,  ..., 112., 114., 123.],\n",
      "          ...,\n",
      "          [ 71.,  80.,  78.,  ..., 109., 109., 109.],\n",
      "          [ 72.,  72.,  79.,  ..., 109., 109., 109.],\n",
      "          [ 79.,  72.,  80.,  ..., 109., 109., 109.]]]]) tensor(0.)\n"
     ]
    }
   ],
   "source": [
    "print(img, label)"
   ]
  },
  {
   "cell_type": "code",
   "execution_count": 188,
   "id": "741220db-67ff-4fa5-b4ff-fce9c9eeca94",
   "metadata": {},
   "outputs": [
    {
     "name": "stdout",
     "output_type": "stream",
     "text": [
      "tensor([[-0.0109,  0.0687]], grad_fn=<AddmmBackward0>)\n",
      "tensor([[0.4801, 0.5199]], grad_fn=<SoftmaxBackward0>)\n",
      "tensor([0.5199], grad_fn=<SelectBackward0>)\n",
      "tensor([0])\n"
     ]
    }
   ],
   "source": [
    "import torch\n",
    "import torchvision.models as models\n",
    "import torch.nn as nn\n",
    "from torchvision.models.resnet import ResNet50_Weights\n",
    "\n",
    "# Load the pre-trained ResNet50 model\n",
    "resnet = models.resnet50(weights=ResNet50_Weights.DEFAULT)\n",
    "\n",
    "# Freeze all the parameters of the pre-trained model\n",
    "for param in resnet.parameters():\n",
    "    param.requires_grad = False\n",
    "\n",
    "# Get the number of input features for the last layer\n",
    "num_features = resnet.fc.in_features\n",
    "\n",
    "# Replace the last layer with a new fully connected layer for 2 classes\n",
    "resnet.fc = nn.Linear(num_features, 2)\n",
    "\n",
    "# Apply sigmoid activation to the output\n",
    "resnet.softmax = nn.Softmax(dim=1)\n",
    "\n",
    "# Forward pass through the modified model\n",
    "output_tensor = img\n",
    "#output_tensor = torch.randn(3, 3, 250, 250)  # Example input tensor\n",
    "model_output = resnet(output_tensor)\n",
    "\n",
    "# Get the predicted class labels\n",
    "probabilities = torch.softmax(model_output, dim = 1)\n",
    "\n",
    "probability_class_1 = probabilities[:, 1]\n",
    "\n",
    "# Set a threshold for class prediction\n",
    "threshold = 0.7\n",
    "\n",
    "# Make predictions based on the threshold\n",
    "predictions = torch.where(probability_class_1 > threshold, torch.tensor([1]), torch.tensor([0]))\n",
    "\n",
    "predicted_classes = predictions.type(torch.float)\n",
    "\n",
    "print(model_output)\n",
    "print(probabilities)\n",
    "print(probability_class_1)  # Prints the predicted class labels for each instance\n",
    "print(predictions)"
   ]
  },
  {
   "cell_type": "code",
   "execution_count": 196,
   "id": "a955ac12-c2bc-4eb3-b159-c7772699113c",
   "metadata": {},
   "outputs": [
    {
     "name": "stdout",
     "output_type": "stream",
     "text": [
      "tensor([[ 0.0493, -0.0550],\n",
      "        [ 0.0586,  0.0282],\n",
      "        [-0.0135, -0.0851],\n",
      "        [ 0.0203, -0.0236],\n",
      "        [-0.0205,  0.0112],\n",
      "        [-0.0920, -0.0078],\n",
      "        [-0.0363,  0.0660],\n",
      "        [-0.0723, -0.0147],\n",
      "        [-0.0479, -0.0156]], grad_fn=<AddmmBackward0>)\n",
      "tensor([[0.5260, 0.4740],\n",
      "        [0.5076, 0.4924],\n",
      "        [0.5179, 0.4821],\n",
      "        [0.5110, 0.4890],\n",
      "        [0.4921, 0.5079],\n",
      "        [0.4790, 0.5210],\n",
      "        [0.4744, 0.5256],\n",
      "        [0.4856, 0.5144],\n",
      "        [0.4919, 0.5081]], grad_fn=<SoftmaxBackward0>)\n",
      "tensor([0.4740, 0.4924, 0.4821, 0.4890, 0.5079, 0.5210, 0.5256, 0.5144, 0.5081],\n",
      "       grad_fn=<SelectBackward0>)\n",
      "tensor([0, 0, 0, 0, 0, 1, 1, 1, 0])\n",
      "SGD (\n",
      "Parameter Group 0\n",
      "    dampening: 0\n",
      "    differentiable: False\n",
      "    foreach: None\n",
      "    lr: 0.001\n",
      "    maximize: False\n",
      "    momentum: 0.9\n",
      "    nesterov: False\n",
      "    weight_decay: 0\n",
      ")\n",
      "tensor(0.6840, grad_fn=<NllLossBackward0>)\n"
     ]
    }
   ],
   "source": [
    "import torch\n",
    "import torchvision.models as models\n",
    "import torch.nn as nn\n",
    "import torch.optim as optim\n",
    "from torchvision.models.resnet import ResNet50_Weights\n",
    "\n",
    "# Load the pre-trained ResNet50 model\n",
    "resnet = models.resnet50(weights=ResNet50_Weights.DEFAULT)\n",
    "\n",
    "# Freeze all the parameters of the pre-trained model\n",
    "for param in resnet.parameters():\n",
    "    param.requires_grad = False\n",
    "\n",
    "# Get the number of input features for the last layer\n",
    "num_features = resnet.fc.in_features\n",
    "\n",
    "# Replace the last layer with a new fully connected layer for 2 classes\n",
    "resnet.fc = nn.Linear(num_features, 2)\n",
    "\n",
    "# Apply sigmoid activation to the output\n",
    "resnet.softmax = nn.Softmax(dim=1)\n",
    "\n",
    "# Define the loss function\n",
    "criterion = nn.CrossEntropyLoss()\n",
    "\n",
    "# Define the optimizer\n",
    "optimizer = optim.SGD(resnet.parameters(), lr=0.001, momentum=0.9)\n",
    "\n",
    "# Forward pass through the modified model\n",
    "#output_tensor = img\n",
    "output_tensor = torch.randn(9, 3, 250, 250)  # Example input tensor\n",
    "model_output = resnet(output_tensor)\n",
    "\n",
    "# Get the predicted class labels\n",
    "probabilities = torch.softmax(model_output, dim=1)\n",
    "probability_class_1 = probabilities[:, 1]\n",
    "\n",
    "# Set a threshold for class prediction\n",
    "threshold = 0.51\n",
    "\n",
    "# Make predictions based on the threshold\n",
    "predictions = torch.where(probability_class_1 > threshold, torch.tensor([1]), torch.tensor([0]))\n",
    "\n",
    "# Convert the predictions to float type\n",
    "predicted_classes = predictions.type(torch.float)\n",
    "\n",
    "# Compute the loss\n",
    "labels = torch.tensor([0,1,1,0,1,1,1,0,0])  # Example true labels\n",
    "loss = criterion(model_output, labels)\n",
    "\n",
    "# Backward pass and update the weights\n",
    "optimizer.zero_grad()\n",
    "loss.backward()\n",
    "optimizer.step()\n",
    "\n",
    "print(model_output)\n",
    "print(probabilities)\n",
    "print(probability_class_1)  # Prints the predicted class probabilities for each instance\n",
    "print(predictions)  # Prints the predicted class labels for each instance\n",
    "print(optimizer)\n",
    "print(loss)"
   ]
  },
  {
   "cell_type": "code",
   "execution_count": 197,
   "id": "87d634f7-c4ee-49fd-a210-12d22e302ace",
   "metadata": {},
   "outputs": [
    {
     "name": "stdout",
     "output_type": "stream",
     "text": [
      "tensor([[-0.0196, -0.0914],\n",
      "        [-0.1672, -0.1085],\n",
      "        [-0.0363, -0.1129]], grad_fn=<AddmmBackward0>)\n",
      "tensor([0, 1, 0])\n"
     ]
    }
   ],
   "source": [
    "import torch\n",
    "import torchvision.models as models\n",
    "import torch.nn as nn\n",
    "from torchvision.models.resnet import ResNet50_Weights\n",
    "\n",
    "# Load the pre-trained ResNet50 model\n",
    "resnet = models.resnet50(weights=ResNet50_Weights.DEFAULT)\n",
    "\n",
    "# Freeze all the parameters of the pre-trained model\n",
    "for param in resnet.parameters():\n",
    "    param.requires_grad = False\n",
    "\n",
    "# Get the number of input features for the last layer\n",
    "num_features = resnet.fc.in_features\n",
    "\n",
    "# Replace the last layer with a new fully connected layer for 2 classes\n",
    "resnet.fc = nn.Linear(num_features, 2)\n",
    "\n",
    "# Apply sigmoid activation to the output\n",
    "resnet.sigmoid = nn.Sigmoid()\n",
    "\n",
    "# Forward pass through the modified model\n",
    "output_tensor = torch.randn(3, 3, 250, 250)  # Example input tensor\n",
    "model_output = resnet(output_tensor)\n",
    "\n",
    "# Get the predicted class labels\n",
    "predicted_labels = (torch.max(model_output, dim = 1).indices).clone().detach()\n",
    "\n",
    "print(model_output)\n",
    "print(predicted_labels)  # Prints the predicted class labels for each instance\n"
   ]
  },
  {
   "cell_type": "code",
   "execution_count": 147,
   "id": "c346dbd0-4463-4a4c-9360-b0e80ea8444f",
   "metadata": {},
   "outputs": [
    {
     "name": "stdout",
     "output_type": "stream",
     "text": [
      "tensor(0.6434, grad_fn=<BinaryCrossEntropyBackward0>)\n"
     ]
    }
   ],
   "source": [
    "import torch\n",
    "import torchvision.models as models\n",
    "import torch.nn as nn\n",
    "\n",
    "# Load the pre-trained ResNet50 model\n",
    "resnet = models.resnet50(pretrained=True)\n",
    "\n",
    "# Freeze all the parameters of the pre-trained model\n",
    "for param in resnet.parameters():\n",
    "    param.requires_grad = False\n",
    "\n",
    "# Get the number of input features for the last layer\n",
    "num_features = resnet.fc.in_features\n",
    "\n",
    "# Replace the last layer with a new fully connected layer for binary classification\n",
    "resnet.fc = nn.Linear(num_features, 1)\n",
    "\n",
    "# Apply sigmoid activation to the output\n",
    "resnet.sigmoid = nn.Sigmoid()\n",
    "\n",
    "# Create a batch of input tensors\n",
    "batch_size = 9\n",
    "input_tensor = torch.randn(batch_size, 3, 224, 224)  # Example input tensor\n",
    "\n",
    "# Create a batch of target tensors (assuming binary classification)\n",
    "target_tensor = torch.randint(0, 2, (batch_size, 1)).float()  # Example target tensor\n",
    "\n",
    "# Forward pass through the model\n",
    "output = resnet(input_tensor)\n",
    "\n",
    "# Apply sigmoid activation to the output\n",
    "output = resnet.sigmoid(output)\n",
    "\n",
    "# Reshape the output tensor to match the target tensor shape\n",
    "output = output.view(-1, 1)\n",
    "\n",
    "# Create the BCE loss criterion\n",
    "criterion = nn.BCELoss()\n",
    "\n",
    "# Compute the BCE loss\n",
    "loss = nn.BCELoss()(output, target_tensor)\n",
    "\n",
    "print(loss)  # Prints the computed loss\n"
   ]
  },
  {
   "cell_type": "code",
   "execution_count": null,
   "id": "2fd7ceb7-42c7-4ea4-be86-41869cb6db13",
   "metadata": {},
   "outputs": [],
   "source": []
  },
  {
   "cell_type": "code",
   "execution_count": null,
   "id": "1817c281-38f5-4d95-a46d-99e67c1d7287",
   "metadata": {},
   "outputs": [],
   "source": [
    "from run_training_pipeline import run_pipeline\n",
    "remote_server_uri = \"https://projet-slums-detection-874257.user.lab.sspcloud.fr\"\n",
    "experiment_name = \"classification\"\n",
    "run_name = \"patch_binary_patch100_0.53_validation\"\n",
    "run_pipeline(remote_server_uri, experiment_name, run_name)"
   ]
  },
  {
   "cell_type": "code",
   "execution_count": 203,
   "id": "965050fa-ac55-49a6-807d-1771ec741189",
   "metadata": {},
   "outputs": [],
   "source": [
    "import sys\n",
    "sys.path.append('../src')\n",
    "\n",
    "import gc\n",
    "import os\n",
    "import sys\n",
    "from datetime import datetime\n",
    "\n",
    "import mlflow\n",
    "import numpy as np\n",
    "import pytorch_lightning as pl\n",
    "import torch\n",
    "import yaml\n",
    "from pytorch_lightning.callbacks import (\n",
    "    EarlyStopping,\n",
    "    LearningRateMonitor,\n",
    "    ModelCheckpoint,\n",
    ")\n",
    "from rasterio.errors import RasterioIOError\n",
    "from torch.utils.data import DataLoader\n",
    "from tqdm import tqdm\n",
    "from yaml.loader import SafeLoader\n",
    "\n",
    "import train_pipeline_utils.handle_dataset as hd\n",
    "from classes.data.satellite_image import SatelliteImage\n",
    "from classes.labelers.labeler import BDTOPOLabeler, RILLabeler\n",
    "from classes.optim.losses import CrossEntropySelfmade\n",
    "from torch.nn import CrossEntropyLoss\n",
    "from classes.optim.optimizer import generate_optimization_elements\n",
    "from data.components.dataset import PleiadeDataset\n",
    "from data.components.classification_patch import PatchClassification\n",
    "from models.components.segmentation_models import DeepLabv3Module\n",
    "from models.segmentation_module import SegmentationModule\n",
    "from train_pipeline_utils.download_data import load_satellite_data, load_donnees_test\n",
    "from train_pipeline_utils.handle_dataset import (\n",
    "    generate_transform,\n",
    "    select_indices_to_split_dataset\n",
    ")\n",
    "\n",
    "from train_pipeline_utils.prepare_data import(\n",
    "    filter_images,\n",
    "    label_images,\n",
    "    save_images_and_masks,\n",
    "    check_labelled_images\n",
    ")\n",
    "\n",
    "from classes.data.satellite_image import SatelliteImage\n",
    "from classes.data.labeled_satellite_image import SegmentationLabeledSatelliteImage\n",
    "from utils.utils import update_storage_access, split_array, remove_dot_file\n",
    "from rasterio.errors import RasterioIOError\n",
    "from classes.optim.evaluation_model import evaluer_modele_sur_jeu_de_test_segmentation_pleiade\n"
   ]
  },
  {
   "cell_type": "code",
   "execution_count": 211,
   "id": "60f04ce8-10f1-4511-a809-c9851057b194",
   "metadata": {},
   "outputs": [
    {
     "data": {
      "text/plain": [
       "'/home/onyxia/work/detection-habitat-spontane/src'"
      ]
     },
     "execution_count": 211,
     "metadata": {},
     "output_type": "execute_result"
    }
   ],
   "source": [
    "os.getcwd()\n",
    "#os.chdir(\"src\")"
   ]
  },
  {
   "cell_type": "code",
   "execution_count": 213,
   "id": "07e07a47-0e00-4302-8ccd-c978b66a59bb",
   "metadata": {},
   "outputs": [
    {
     "data": {
      "text/plain": [
       "{'donnees': {'source train': 'PLEIADES',\n",
       "  'dataset': 'CLASSIFICATION',\n",
       "  'year': [2022],\n",
       "  'dep': ['972'],\n",
       "  'type labeler': 'RIL',\n",
       "  'buffer size': 10,\n",
       "  'n channels train': 3,\n",
       "  'n bands': 3,\n",
       "  'tile size': 250,\n",
       "  'augmentation': False,\n",
       "  'task': 'classification'},\n",
       " 'optim': {'loss': 'lossbinaire',\n",
       "  'lr': 0.0001,\n",
       "  'momentum': 0.9,\n",
       "  'module': 'resnet50',\n",
       "  'batch size': 9,\n",
       "  'batch size test': 4,\n",
       "  'max epochs': 50,\n",
       "  'val prop': 0.2,\n",
       "  'accumulate batch': 3},\n",
       " 'mlflow': True}"
      ]
     },
     "execution_count": 213,
     "metadata": {},
     "output_type": "execute_result"
    }
   ],
   "source": [
    "with open(\"../config.yml\") as f:\n",
    "    config = yaml.load(f, Loader=SafeLoader)\n",
    "config"
   ]
  },
  {
   "cell_type": "code",
   "execution_count": 214,
   "id": "ce77881d-0ce7-4b47-bdbf-7fb57351f14a",
   "metadata": {},
   "outputs": [],
   "source": [
    "def download_data(config):\n",
    "    \"\"\"\n",
    "    Downloads data based on the given configuration.\n",
    "\n",
    "    Args:\n",
    "        config: a dictionary representing the \n",
    "        configuration information for data download.\n",
    "\n",
    "    Returns:\n",
    "        A list of output directories for each downloaded dataset.\n",
    "    \"\"\"\n",
    "\n",
    "    print(\"Entre dans la fonction download_data\")\n",
    "    config_data = config[\"donnees\"]\n",
    "    list_output_dir = []\n",
    "    list_masks_cloud_dir = []\n",
    "    \n",
    "    years = config_data[\"year\"]\n",
    "    deps = config_data[\"dep\"]\n",
    "    src = config_data[\"source train\"]\n",
    "\n",
    "    for year, dep in zip(years, deps):\n",
    "        # year, dep = years[0], deps[0]\n",
    "        if src == \"PLEIADES\":\n",
    "            cloud_dir = load_satellite_data(year, dep, \"NUAGESPLEIADES\")\n",
    "            list_masks_cloud_dir.append(cloud_dir)\n",
    "\n",
    "        output_dir = load_satellite_data(year, dep, src)\n",
    "        list_output_dir.append(output_dir)\n",
    "    \n",
    "    print(\"chargement des données test\")\n",
    "    test_dir = load_donnees_test(type=config[\"donnees\"][\"task\"])\n",
    "\n",
    "    return list_output_dir, list_masks_cloud_dir, test_dir"
   ]
  },
  {
   "cell_type": "code",
   "execution_count": 25,
   "id": "9d2c1a4c-662d-4c00-a1ef-a4f7131969de",
   "metadata": {},
   "outputs": [
    {
     "name": "stdout",
     "output_type": "stream",
     "text": [
      "Entre dans la fonction download_data\n",
      "Entre dans la fonction load_satellite_data\n",
      "Le dossier existe déjà\n",
      "Entre dans la fonction load_satellite_data\n",
      "Le dossier existe déjà\n",
      "chargement des données test\n"
     ]
    }
   ],
   "source": [
    "list_output_dir, list_masks_cloud_dir, test_dir = download_data(config)"
   ]
  },
  {
   "cell_type": "code",
   "execution_count": 215,
   "id": "80087bb7-bb4a-4a07-911d-e5884bfb0b23",
   "metadata": {},
   "outputs": [],
   "source": [
    "def label_images2(list_images, labeler):\n",
    "    \"\"\"\n",
    "    labels the images according to type of labeler desired.\n",
    "\n",
    "    Args:\n",
    "        list_images : the list containing the splitted and filtered data \\\n",
    "            to be labeled.\n",
    "        labeler : a Labeler object representing the labeler \\\n",
    "            used to create segmentation labels.\n",
    "\n",
    "    Returns:\n",
    "        list[SatelliteImage] : the list containing the splitted and \\\n",
    "            filtered data with a not-empty mask and the associated masks.\n",
    "    \"\"\"\n",
    "\n",
    "    # print(\"Entre dans la fonction label_images\")\n",
    "    list_masks = []\n",
    "    list_filtered_splitted_labeled_images = []\n",
    "\n",
    "    for satellite_image in list_images:\n",
    "        mask = labeler.create_segmentation_label(satellite_image)\n",
    "        list_filtered_splitted_labeled_images.append(satellite_image)\n",
    "        if np.sum(mask) >=1:\n",
    "            list_masks.append(1)\n",
    "        else:\n",
    "            list_masks.append(0)\n",
    "\n",
    "    # print(\n",
    "    #     \"Nombre d'images labelisées : \",\n",
    "    #     len(list_filtered_splitted_labeled_images),\n",
    "    #     \", Nombre de masques : \",\n",
    "    #     len(list_masks),\n",
    "    # )\n",
    "    return list_filtered_splitted_labeled_images, list_masks\n",
    "\n",
    "def save_images_and_masks2(list_images, list_masks, output_directory_name):\n",
    "    \"\"\"\n",
    "    write the couple images/masks into a specific folder.\n",
    "\n",
    "    Args:\n",
    "        list_images : the list containing the splitted and filtered data \\\n",
    "            to be saved.\n",
    "        list_masks : the list containing the masks to be saved.\n",
    "        a string representing the name of the output \\\n",
    "            directory where the split images and their masks should be saved.\n",
    "\n",
    "    Returns:\n",
    "        str: The name of the output directory.\n",
    "    \"\"\"\n",
    "    \n",
    "    # print(\"Entre dans la fonction save_images_and_masks\")\n",
    "    output_images_path = output_directory_name + \"images\"\n",
    "    output_masks_path = output_directory_name + \"labels\"\n",
    "\n",
    "    \n",
    "    csv_file_path = output_masks_path + \"/\" + 'fichierlabeler.csv'\n",
    "\n",
    "    i = 0\n",
    "    for image, mask in zip(list_images, list_masks):\n",
    "        filename = image.filename.split(\".\")[0] + \"_\" + \"{:03d}\".format(i)\n",
    "        i += 1\n",
    "    \n",
    "        try:\n",
    "            image.to_raster(output_images_path, filename + \".jp2\", \"jp2\", None)\n",
    "    \n",
    "        except rasterio._err.CPLE_AppDefinedError:\n",
    "            print(\"Writing error:\", image.filename)\n",
    "            continue\n",
    "    \n",
    "        # Create the csv file if it does not exist\n",
    "        if not os.path.isfile(csv_file_path):\n",
    "            with open(csv_file_path, 'w', newline='') as csvfile:\n",
    "                writer = csv.writer(csvfile)\n",
    "                writer.writerow(['Path_image', 'Classification'])\n",
    "                writer.writerow([filename, mask])\n",
    "    \n",
    "        # Open it if it exists\n",
    "        else:\n",
    "            with open(csv_file_path, 'a', newline='') as csvfile:\n",
    "                writer = csv.writer(csvfile)\n",
    "                writer.writerow([filename, mask])\n",
    "        \n",
    "        #print(\"Les nouvelles lignes ont été ajoutées avec succès.\")\n",
    "\n",
    "\n",
    "\n",
    "\n",
    "    return None"
   ]
  },
  {
   "cell_type": "code",
   "execution_count": 216,
   "id": "11e296dc-e9e7-43ea-9f6c-43a85d2c23eb",
   "metadata": {},
   "outputs": [],
   "source": [
    "def prepare_train_data(config, list_data_dir, list_masks_cloud_dir):\n",
    "    \"\"\"\n",
    "    Preprocesses and splits the raw input images \n",
    "    into tiles and corresponding masks, \n",
    "    and saves them in the specified output directories. \n",
    "    \n",
    "    Args:\n",
    "        config: A dictionary representing the configuration settings.\n",
    "        list_data_dir: A list of strings representing the paths\n",
    "        to the directories containing the raw input image files.\n",
    "    \n",
    "    Returns:\n",
    "        A list of strings representing the paths to \n",
    "        the output directories containing the \n",
    "        preprocessed tile and mask image files.\n",
    "    \"\"\"\n",
    "\n",
    "    print(\"Entre dans la fonction prepare_data\")\n",
    "    config_data = config[\"donnees\"]\n",
    "\n",
    "    years = config_data[\"year\"]\n",
    "    deps = config_data[\"dep\"]\n",
    "    src = config_data[\"source train\"]\n",
    "    labeler = config_data[\"type labeler\"]\n",
    "\n",
    "    list_output_dir = []\n",
    "\n",
    "    for i, (year, dep) in enumerate(zip(years, deps)):\n",
    "        # i, year , dep = 0,years[0],deps[0]\n",
    "        output_dir = (\n",
    "            \"train_dataaa\"\n",
    "            + \"-\"\n",
    "            + src\n",
    "            + \"-\"\n",
    "            + labeler\n",
    "            + \"-\"\n",
    "            + dep\n",
    "            + \"-\"\n",
    "            + str(year)\n",
    "            + \"/\"\n",
    "        )\n",
    "\n",
    "        date = datetime.strptime(str(year) + \"0101\", \"%Y%m%d\")\n",
    "\n",
    "        if labeler == \"RIL\":\n",
    "            buffer_size = config_data[\"buffer size\"]\n",
    "            labeler = RILLabeler(date, dep=dep, buffer_size=buffer_size)\n",
    "\n",
    "        elif labeler == \"BDTOPO\":\n",
    "            labeler = BDTOPOLabeler(date, dep=dep)\n",
    "\n",
    "        if not check_labelled_images(output_dir):\n",
    "\n",
    "            list_name_cloud = []\n",
    "            if src == \"PLEIADES\":\n",
    "                cloud_dir = list_masks_cloud_dir[i]\n",
    "                list_name_cloud = [path.split(\"/\")[-1].split(\".\")[0] for path in os.listdir(cloud_dir)]\n",
    "            \n",
    "            dir = list_data_dir[i]\n",
    "            list_path = [dir + \"/\" + filename for filename in os.listdir(dir)]\n",
    "\n",
    "            for path in tqdm(list_path):\n",
    "                # path = list_path[0]\n",
    "                # path  = dir + \"/\"+ \"ORT_2022_0691_1641_U20N_8Bits.jp2\"\n",
    "                try:\n",
    "                    si = SatelliteImage.from_raster(\n",
    "                        file_path=path,\n",
    "                        dep=dep,\n",
    "                        date=date,\n",
    "                        n_bands=config_data[\"n bands\"],\n",
    "                    )\n",
    "                    \n",
    "                except RasterioIOError:\n",
    "                    print(\"Erreur de lecture du fichier \" + path)\n",
    "                    continue\n",
    "\n",
    "                else:\n",
    "                    filename = path.split(\"/\")[-1].split(\".\")[0] \n",
    "                    list_splitted_mask_cloud = None\n",
    "\n",
    "                    if filename in list_name_cloud:\n",
    "                        mask_full_cloud = np.load(cloud_dir + \"/\" + filename + \".npy\")\n",
    "                        list_splitted_mask_cloud = split_array(mask_full_cloud, config_data[\"tile size\"])\n",
    "                        \n",
    "                    list_splitted_images = si.split(config_data[\"tile size\"]) \n",
    "                    \n",
    "                    list_filtered_splitted_images = filter_images(\n",
    "                        config_data[\"source train\"],\n",
    "                        list_splitted_images,\n",
    "                        list_splitted_mask_cloud \n",
    "                    )\n",
    "\n",
    "                    (\n",
    "                        list_filtered_splitted_labeled_images,\n",
    "                        list_masks,\n",
    "                    ) = label_images2(list_filtered_splitted_images, labeler)\n",
    "\n",
    "                    save_images_and_masks2(\n",
    "                        list_filtered_splitted_labeled_images,\n",
    "                        list_masks,\n",
    "                        output_dir,\n",
    "                    )\n",
    "\n",
    "        list_output_dir.append(output_dir)\n",
    "        nb = len(os.listdir(output_dir + \"/images\"))\n",
    "        print(str(nb) + \" couples images/masques retenus\")\n",
    "\n",
    "    return list_output_dir"
   ]
  },
  {
   "cell_type": "code",
   "execution_count": 217,
   "id": "0fcba593-0bc1-4a7d-8442-cc41f0301eef",
   "metadata": {},
   "outputs": [],
   "source": [
    "list_data_dir = ['../data/PLEIADES/2022/MARTINIQUE/']"
   ]
  },
  {
   "cell_type": "code",
   "execution_count": 52,
   "id": "42a0e66c-6d76-44d4-9987-91b2393d0be5",
   "metadata": {},
   "outputs": [
    {
     "data": {
      "text/plain": [
       "'/home/onyxia/work/detection-habitat-spontane'"
      ]
     },
     "execution_count": 52,
     "metadata": {},
     "output_type": "execute_result"
    }
   ],
   "source": [
    "os.getcwd()\n",
    "os.chdir(\"..\")"
   ]
  },
  {
   "cell_type": "code",
   "execution_count": 218,
   "id": "f730bfc5-ad77-47ac-8982-f967a4232762",
   "metadata": {},
   "outputs": [
    {
     "data": {
      "text/plain": [
       "['train_data-classification-PLEIADES-RIL-972-2022']"
      ]
     },
     "execution_count": 218,
     "metadata": {},
     "output_type": "execute_result"
    }
   ],
   "source": [
    "list_output_dir"
   ]
  },
  {
   "cell_type": "code",
   "execution_count": 219,
   "id": "fc54db8d-f038-4883-947b-a4211960cdf2",
   "metadata": {},
   "outputs": [
    {
     "name": "stdout",
     "output_type": "stream",
     "text": [
      "Entre dans la fonction prepare_data\n",
      "Entre dans la fonction check_labelled_images\n",
      "Directory created\n"
     ]
    },
    {
     "ename": "FileNotFoundError",
     "evalue": "[Errno 2] No such file or directory: 'data/NUAGESPLEIADES/2022/MARTINIQUE'",
     "output_type": "error",
     "traceback": [
      "\u001b[0;31m---------------------------------------------------------------------------\u001b[0m",
      "\u001b[0;31mFileNotFoundError\u001b[0m                         Traceback (most recent call last)",
      "Cell \u001b[0;32mIn[219], line 1\u001b[0m\n\u001b[0;32m----> 1\u001b[0m list_output_dir \u001b[38;5;241m=\u001b[39m \u001b[43mprepare_train_data\u001b[49m\u001b[43m(\u001b[49m\u001b[43mconfig\u001b[49m\u001b[43m,\u001b[49m\u001b[43m \u001b[49m\u001b[43mlist_data_dir\u001b[49m\u001b[43m,\u001b[49m\u001b[43m \u001b[49m\u001b[43mlist_masks_cloud_dir\u001b[49m\u001b[43m)\u001b[49m\n",
      "Cell \u001b[0;32mIn[216], line 57\u001b[0m, in \u001b[0;36mprepare_train_data\u001b[0;34m(config, list_data_dir, list_masks_cloud_dir)\u001b[0m\n\u001b[1;32m     55\u001b[0m \u001b[38;5;28;01mif\u001b[39;00m src \u001b[38;5;241m==\u001b[39m \u001b[38;5;124m\"\u001b[39m\u001b[38;5;124mPLEIADES\u001b[39m\u001b[38;5;124m\"\u001b[39m:\n\u001b[1;32m     56\u001b[0m     cloud_dir \u001b[38;5;241m=\u001b[39m list_masks_cloud_dir[i]\n\u001b[0;32m---> 57\u001b[0m     list_name_cloud \u001b[38;5;241m=\u001b[39m [path\u001b[38;5;241m.\u001b[39msplit(\u001b[38;5;124m\"\u001b[39m\u001b[38;5;124m/\u001b[39m\u001b[38;5;124m\"\u001b[39m)[\u001b[38;5;241m-\u001b[39m\u001b[38;5;241m1\u001b[39m]\u001b[38;5;241m.\u001b[39msplit(\u001b[38;5;124m\"\u001b[39m\u001b[38;5;124m.\u001b[39m\u001b[38;5;124m\"\u001b[39m)[\u001b[38;5;241m0\u001b[39m] \u001b[38;5;28;01mfor\u001b[39;00m path \u001b[38;5;129;01min\u001b[39;00m \u001b[43mos\u001b[49m\u001b[38;5;241;43m.\u001b[39;49m\u001b[43mlistdir\u001b[49m\u001b[43m(\u001b[49m\u001b[43mcloud_dir\u001b[49m\u001b[43m)\u001b[49m]\n\u001b[1;32m     59\u001b[0m \u001b[38;5;28mdir\u001b[39m \u001b[38;5;241m=\u001b[39m list_data_dir[i]\n\u001b[1;32m     60\u001b[0m list_path \u001b[38;5;241m=\u001b[39m [\u001b[38;5;28mdir\u001b[39m \u001b[38;5;241m+\u001b[39m \u001b[38;5;124m\"\u001b[39m\u001b[38;5;124m/\u001b[39m\u001b[38;5;124m\"\u001b[39m \u001b[38;5;241m+\u001b[39m filename \u001b[38;5;28;01mfor\u001b[39;00m filename \u001b[38;5;129;01min\u001b[39;00m os\u001b[38;5;241m.\u001b[39mlistdir(\u001b[38;5;28mdir\u001b[39m)]\n",
      "\u001b[0;31mFileNotFoundError\u001b[0m: [Errno 2] No such file or directory: 'data/NUAGESPLEIADES/2022/MARTINIQUE'"
     ]
    }
   ],
   "source": [
    "list_output_dir = prepare_train_data(config, list_data_dir, list_masks_cloud_dir)"
   ]
  },
  {
   "cell_type": "code",
   "execution_count": 23,
   "id": "fc651374-ac4e-4516-bdfb-8b5f76ccfacd",
   "metadata": {},
   "outputs": [
    {
     "name": "stdout",
     "output_type": "stream",
     "text": [
      "5415 4538 0.455942931779363\n"
     ]
    }
   ],
   "source": [
    "import csv \n",
    "\n",
    "csv_file_path = \"src/train_data-classification-PLEIADES-RIL-972-2022\" + \"/labels/\" + \"fichierlabeler.csv\"\n",
    "zero_count = 0\n",
    "one_count = 0\n",
    "\n",
    "with open(csv_file_path, 'r') as csvfile:\n",
    "    reader = csv.DictReader(csvfile)\n",
    "    for row in reader:\n",
    "        classification = row['Classification']\n",
    "        if classification == '0':\n",
    "            zero_count += 1\n",
    "        elif classification == '1':\n",
    "            one_count += 1\n",
    "\n",
    "prop_ones = one_count/(zero_count + one_count)\n",
    "print(zero_count, one_count, prop_ones)"
   ]
  },
  {
   "cell_type": "code",
   "execution_count": null,
   "id": "14a35dca-ebb0-4748-80bf-1cb30a86d9cb",
   "metadata": {},
   "outputs": [],
   "source": [
    "csv_file_path = \"chemin_vers_le_fichier.csv\"\n",
    "selected_paths = []\n",
    "\n",
    "# Lire le fichier CSV et collecter les chemins correspondants à classification == 0 et classification == 1\n",
    "with open(csv_file_path, 'r') as csvfile:\n",
    "    reader = csv.DictReader(csvfile)\n",
    "    classification_0_paths = []\n",
    "    classification_1_paths = []\n",
    "\n",
    "    for row in reader:\n",
    "        classification = int(row['Classification'])\n",
    "        path = row['Path']\n",
    "\n",
    "        if classification == 0:\n",
    "            classification_0_paths.append(path)\n",
    "        elif classification == 1:\n",
    "            classification_1_paths.append(path)\n",
    "\n",
    "    # Sélectionner au hasard une proportion 50/50 de chemins\n",
    "    selected_paths.extend(random.sample(classification_0_paths, k=len(classification_1_paths)))\n",
    "    selected_paths.extend(classification_1_paths)\n",
    "\n",
    "# Afficher les chemins sélectionnés\n",
    "print(\"Chemins sélectionnés :\")\n",
    "for path in selected_paths:\n",
    "    print(path)"
   ]
  },
  {
   "cell_type": "code",
   "execution_count": 220,
   "id": "055dd5c9-b2ef-4679-b5f8-19e2eafe14b6",
   "metadata": {},
   "outputs": [],
   "source": [
    "def prepare_test_data(config,test_dir):\n",
    "\n",
    "    if config[\"donnees\"][\"source train\"] == \"PLEIADES\":\n",
    "\n",
    "        images_path = test_dir + \"/images\"\n",
    "        labels_path = test_dir + \"/masks\"\n",
    "\n",
    "        list_name_image = os.listdir(images_path)\n",
    "        list_name_label = os.listdir(labels_path)\n",
    "\n",
    "        list_name_image = np.sort(remove_dot_file(list_name_image))\n",
    "        list_name_label = np.sort(remove_dot_file(list_name_label))\n",
    "\n",
    "        list_images_path = [images_path + \"/\" + name for name in list_name_image]\n",
    "        list_labels_path = [labels_path + \"/\" + name for name in list_name_label]\n",
    "        \n",
    "        output_test = \"../test-data\"\n",
    "        output_images_path = output_test + \"/images\"\n",
    "        output_labels_path = output_test + \"/labels\"\n",
    "\n",
    "        n_bands = config[\"donnees\"][\"n bands\"]\n",
    "        tile_size = config[\"donnees\"][\"tile size\"]\n",
    "        \n",
    "        if not os.path.exists(output_labels_path):\n",
    "            os.makedirs(output_labels_path)\n",
    "        else:\n",
    "            return None\n",
    "\n",
    "        for image_path, label_path, name in zip(\n",
    "            list_images_path,\n",
    "            list_labels_path,\n",
    "            list_name_image\n",
    "            ):\n",
    "\n",
    "            si = SatelliteImage.from_raster(\n",
    "                file_path=image_path, dep=None, date=None, n_bands=n_bands\n",
    "            )\n",
    "            mask = np.load(label_path)\n",
    "\n",
    "            lsi = SegmentationLabeledSatelliteImage(si, mask, \"\", \"\")\n",
    "            list_lsi = lsi.split(tile_size)\n",
    "\n",
    "            for i, lsi in enumerate(list_lsi):\n",
    "                file_name_i = name.split(\".\")[0] + \"_\" + \"{:03d}\".format(i)\n",
    "                \n",
    "                lsi.satellite_image.to_raster(\n",
    "                    output_images_path, file_name_i + \".jp2\"\n",
    "                    )\n",
    "                np.save(output_labels_path + \"/\" + file_name_i + \".npy\", lsi.label)"
   ]
  },
  {
   "cell_type": "code",
   "execution_count": 234,
   "id": "40498097-af3e-4023-b247-35a66132d8e0",
   "metadata": {},
   "outputs": [],
   "source": [
    "def instantiate_dataset2(config, list_path_images, list_labels):\n",
    "    \"\"\"\n",
    "    Instantiates the appropriate dataset object\n",
    "    based on the configuration settings.\n",
    "    \n",
    "    Args:\n",
    "        config: A dictionary representing the configuration settings.\n",
    "        list_path_images: A list of strings representing\n",
    "        the paths to the preprocessed tile image files.\n",
    "        list_path_labels: A list of strings representing\n",
    "        the paths to the corresponding preprocessed mask image files.\n",
    "    \n",
    "    Returns:\n",
    "        A dataset object of the specified type.\n",
    "    \"\"\"\n",
    "    dataset_dict = {\"PLEIADE\": PleiadeDataset, \"CLASSIFICATION\" : PatchClassification}\n",
    "    dataset_type = config[\"donnees\"][\"dataset\"]\n",
    "\n",
    "    # inqtanciation du dataset comple\n",
    "    if dataset_type not in dataset_dict:\n",
    "        raise ValueError(\"Invalid dataset type\")\n",
    "    else:\n",
    "        dataset_select = dataset_dict[dataset_type]\n",
    "\n",
    "        full_dataset = dataset_select(\n",
    "            list_path_images, list_labels, config[\"donnees\"][\"n channels train\"]\n",
    "        )\n",
    "\n",
    "    return full_dataset\n",
    "\n"
   ]
  },
  {
   "cell_type": "code",
   "execution_count": 232,
   "id": "4bf97476-1593-49ed-8c94-983c8bf67fa3",
   "metadata": {},
   "outputs": [],
   "source": [
    "def instantiate_dataloader2(config, list_output_dir):\n",
    "    \"\"\"\n",
    "    Instantiates and returns the data loaders for\n",
    "    training, validation, and testing datasets.\n",
    "    \n",
    "    Args:\n",
    "    - config (dict): A dictionary containing the configuration parameters\n",
    "    for data loading and processing.\n",
    "    - list_output_dir (list): A list of strings containing the paths to\n",
    "    the directories that contain the training data.\n",
    "    \n",
    "    Returns:\n",
    "    - train_dataloader (torch.utils.data.DataLoader):\n",
    "    The data loader for the training dataset.\n",
    "    - valid_dataloader (torch.utils.data.DataLoader): \n",
    "    The data loader for the validation dataset.\n",
    "    - test_dataloader (torch.utils.data.DataLoader): \n",
    "    The data loader for the testing dataset.\n",
    "    \n",
    "    The function first generates the paths for the image and label data\n",
    "    based on the data source (Sentinel, PLEIADES) vs pre-annotated datasets.\n",
    "    It then instantiates the required dataset class\n",
    "    (using the `intantiate_dataset` function) and splits the full dataset\n",
    "    into training and validation datasets based on the validation proportion\n",
    "    specified in the configuration parameters.\n",
    "    \n",
    "    Next, the appropriate transformations are applied to the training\n",
    "    and validation datasets using the `generate_transform` function.\n",
    "    \n",
    "    Finally, the data loaders for the training and validation datasets \n",
    "    are created using the `DataLoader` class from the PyTorch library, \n",
    "    and the data loader for the testing dataset is set to `None`.\n",
    "    \"\"\"\n",
    "    # génération des paths en fonction du type de Données\n",
    "    # (Sentinel, PLEIADES) VS Dataset préannotés\n",
    "\n",
    "    if config[\"donnees\"][\"source train\"] in [\"PLEIADES\", \"SENTINEL2\"]:\n",
    "        for dir in list_output_dir:\n",
    "            # dir = list_output_dir[0]\n",
    "            labels = os.listdir(dir + \"/labels\") \n",
    "            if labels[0][0] == \".\":\n",
    "                del(labels[0])\n",
    "\n",
    "            images = os.listdir(dir + \"/images\")\n",
    "            \n",
    "            liste_masks = []\n",
    "            \n",
    "            with open(dir + \"/labels/\" + labels[0], 'r') as csvfile:\n",
    "                reader = csv.reader(csvfile)\n",
    "                \n",
    "                # Ignorer l'en-tête du fichier CSV s'il y en a un\n",
    "                next(reader)\n",
    "                \n",
    "                # Parcourir les lignes du fichier CSV et extraire la deuxième colonne\n",
    "                for row in reader:\n",
    "                    image_path = row[0]\n",
    "                    mask = row[1] # Index 1 correspond à la deuxième colonne (index 0 pour la première)\n",
    "                    liste_masks.append([image_path, mask])\n",
    "\n",
    "            liste_masks = sorted(liste_masks, key=lambda x: x[0])\n",
    "            liste_masks = np.array([sous_liste[1] for sous_liste in liste_masks])\n",
    "\n",
    "            \n",
    "            list_path_images = np.sort([dir + \"/images/\" + name for name in images])\n",
    "\n",
    "    train_idx, val_idx = select_indices_to_split_dataset(\n",
    "        len(list_path_images),\n",
    "        config[\"optim\"][\"val prop\"]\n",
    "    )\n",
    "    \n",
    "    # récupération de la classe de Dataset souhaitée\n",
    "    train_dataset = instantiate_dataset2(\n",
    "        config, list_path_images[train_idx], liste_masks[train_idx]\n",
    "    )\n",
    "\n",
    "    valid_dataset = instantiate_dataset2(\n",
    "        config, list_path_images[val_idx], liste_masks[val_idx]\n",
    "    )\n",
    "\n",
    "    # on applique les transforms respectives\n",
    "    augmentation = config[\"donnees\"][\"augmentation\"]\n",
    "    tile_size = config[\"donnees\"][\"tile size\"]\n",
    "\n",
    "    if config[\"donnees\"][\"source train\"] == \"PLEIADES\":\n",
    "        t_aug, t_preproc = generate_transform(tile_size, augmentation)\n",
    "    else:\n",
    "        t_aug, t_preproc = None, None\n",
    "\n",
    "    train_dataset.transforms = t_aug\n",
    "    valid_dataset.transforms = t_preproc\n",
    "\n",
    "    # création des dataloader\n",
    "    batch_size = config[\"optim\"][\"batch size\"]\n",
    "\n",
    "    train_dataloader, valid_dataloader = [\n",
    "        DataLoader(\n",
    "            ds,\n",
    "            batch_size=batch_size,\n",
    "            shuffle=boolean,\n",
    "            num_workers=2,\n",
    "        )\n",
    "        for ds, boolean in zip([train_dataset, valid_dataset], [True, False])\n",
    "    ]\n",
    "\n",
    "    # Gestion datset test\n",
    "    output_test = \"../test-data\"\n",
    "    output_images_path = output_test + \"/images/\"\n",
    "    output_labels_path = output_test + \"/labels/\"\n",
    "\n",
    "    list_name_image = os.listdir(output_images_path)\n",
    "    list_name_label = os.listdir(output_labels_path)\n",
    "\n",
    "    list_path_images = np.sort([output_images_path + name_image for name_image in list_name_image])\n",
    "    list_path_labels = np.sort([output_labels_path + name_label for name_label in list_name_label])\n",
    "\n",
    "    dataset_test = instantiate_dataset3(\n",
    "        config, list_path_images, list_path_labels\n",
    "    )\n",
    "    \n",
    "    dataset_test.transforms = t_preproc\n",
    "    \n",
    "    batch_size_test = config[\"optim\"][\"batch size test\"]\n",
    "    test_dataloader = DataLoader(\n",
    "            dataset_test,\n",
    "            batch_size=batch_size_test,\n",
    "            shuffle=False,\n",
    "            num_workers=2,\n",
    "        )\n",
    "    \n",
    "    return train_dataloader, valid_dataloader, test_dataloader\n"
   ]
  },
  {
   "cell_type": "code",
   "execution_count": 231,
   "id": "ce6ce63f-e154-400a-bf08-bc966c75f2c2",
   "metadata": {},
   "outputs": [],
   "source": [
    "def instantiate_dataset3(config, list_path_images, list_labels):\n",
    "    \"\"\"\n",
    "    Instantiates the appropriate dataset object\n",
    "    based on the configuration settings.\n",
    "    \n",
    "    Args:\n",
    "        config: A dictionary representing the configuration settings.\n",
    "        list_path_images: A list of strings representing\n",
    "        the paths to the preprocessed tile image files.\n",
    "        list_path_labels: A list of strings representing\n",
    "        the paths to the corresponding preprocessed mask image files.\n",
    "    \n",
    "    Returns:\n",
    "        A dataset object of the specified type.\n",
    "    \"\"\"\n",
    "    dataset_dict = {\"PLEIADE\": PleiadeDataset, \"CLASSIFICATION\" : PatchClassification}\n",
    "    dataset_type = \"PLEIADE\"\n",
    "\n",
    "    # inqtanciation du dataset comple\n",
    "    if dataset_type not in dataset_dict:\n",
    "        raise ValueError(\"Invalid dataset type\")\n",
    "    else:\n",
    "        dataset_select = dataset_dict[dataset_type]\n",
    "\n",
    "        full_dataset = dataset_select(\n",
    "            list_path_images, list_labels, config[\"donnees\"][\"n channels train\"]\n",
    "        )\n",
    "\n",
    "    return full_dataset"
   ]
  },
  {
   "cell_type": "code",
   "execution_count": 339,
   "id": "5d5b7cda-2536-43c8-9885-6c046424f857",
   "metadata": {},
   "outputs": [],
   "source": [
    "list_output_dir =['../train_data-classification-PLEIADES-RIL-972-2022']\n",
    "train_dataloader, valid_dataloader, test_dataloader = instantiate_dataloader2(config, list_output_dir)"
   ]
  },
  {
   "cell_type": "code",
   "execution_count": null,
   "id": "ded7bed5-56dd-4cdd-abc3-965e185de572",
   "metadata": {},
   "outputs": [],
   "source": [
    "images, labels, dic =next(iter(train_dataloader))\n",
    "model = instantiate_model(config)"
   ]
  },
  {
   "cell_type": "code",
   "execution_count": 327,
   "id": "ea37e033-2fc7-4ae6-8e2f-8dad691a666f",
   "metadata": {},
   "outputs": [],
   "source": [
    "import numpy as np\n",
    "import matplotlib.pyplot as plt\n",
    "from sklearn.datasets import make_classification\n",
    "from sklearn.model_selection import train_test_split\n",
    "from sklearn.linear_model import LogisticRegression\n",
    "from sklearn.metrics import roc_curve, roc_auc_score\n",
    "\n",
    "# Générer des données de classification\n",
    "X, y = make_classification(n_samples=1000, n_features=10, random_state=42)"
   ]
  },
  {
   "cell_type": "code",
   "execution_count": null,
   "id": "f659e6b6-6296-4712-abb0-f1770ca40f20",
   "metadata": {},
   "outputs": [],
   "source": [
    "import numpy as np\n",
    "import matplotlib.pyplot as plt\n",
    "from sklearn.datasets import make_classification\n",
    "from sklearn.model_selection import train_test_split\n",
    "from sklearn.linear_model import LogisticRegression\n",
    "from sklearn.metrics import roc_curve, roc_auc_score\n",
    "\n",
    "# Générer des données de classification\n",
    "X, y = make_classification(n_samples=1000, n_features=10, random_state=42)\n",
    "\n",
    "# Diviser les données en ensembles d'entraînement et de test\n",
    "X_train, X_test, y_train, y_test = train_test_split(X, y, test_size=0.2, random_state=42)\n",
    "\n",
    "# Créer et entraîner le modèle de classification\n",
    "model = LogisticRegression()\n",
    "model.fit(X_train, y_train)\n",
    "\n",
    "# Prédire les probabilités des classes positives\n",
    "y_probs = model.predict_proba(X_test)[:, 1]\n",
    "\n",
    "# Calculer le taux de vrais positifs (TPR), le taux de faux positifs (FPR) et les seuils\n",
    "fpr, tpr, thresholds = roc_curve(y_test, y_probs)\n",
    "\n",
    "# Calculer l'aire sous la courbe ROC (AUC)\n",
    "auc = roc_auc_score(y_test, y_probs)\n",
    "\n",
    "# Tracer la courbe ROC\n",
    "plt.figure()\n",
    "plt.plot(fpr, tpr, label='Courbe ROC (AUC = {:.2f})'.format(auc))\n",
    "plt.plot([0, 1], [0, 1], 'k--', label='Aléatoire')\n",
    "plt.xlabel('Taux de faux positifs (FPR)')\n",
    "plt.ylabel('Taux de vrais positifs (TPR)')\n",
    "plt.title('Courbe ROC')\n",
    "plt.legend(loc='lower right')\n",
    "plt.show()\n"
   ]
  },
  {
   "cell_type": "code",
   "execution_count": 257,
   "id": "748de858-1e47-45ad-b6ae-128106d01fa5",
   "metadata": {},
   "outputs": [],
   "source": [
    "images, labels, dic =next(iter(train_dataloader))\n",
    "model = instantiate_model(config)"
   ]
  },
  {
   "cell_type": "code",
   "execution_count": 265,
   "id": "ab6d1be9-7718-425c-bdd9-4a3e81011848",
   "metadata": {},
   "outputs": [
    {
     "data": {
      "text/plain": [
       "tensor([1., 1., 0., 0., 0., 0., 0., 1., 0.])"
      ]
     },
     "execution_count": 265,
     "metadata": {},
     "output_type": "execute_result"
    }
   ],
   "source": [
    "target\n"
   ]
  },
  {
   "cell_type": "code",
   "execution_count": 288,
   "id": "e5bf4e96-cb69-4a28-996c-a573df1d1def",
   "metadata": {},
   "outputs": [
    {
     "data": {
      "text/plain": [
       "tensor([[1.],\n",
       "        [1.],\n",
       "        [0.],\n",
       "        [0.],\n",
       "        [0.],\n",
       "        [0.],\n",
       "        [0.],\n",
       "        [1.],\n",
       "        [0.]])"
      ]
     },
     "execution_count": 288,
     "metadata": {},
     "output_type": "execute_result"
    }
   ],
   "source": [
    "targets.unsqueeze(1)\n",
    "labels.unsqueeze(1)"
   ]
  },
  {
   "cell_type": "code",
   "execution_count": 276,
   "id": "d7d0154a-6835-4f57-97df-37bb5ba40a70",
   "metadata": {},
   "outputs": [
    {
     "name": "stdout",
     "output_type": "stream",
     "text": [
      "tensor([1., 1., 0., 0., 0., 0., 0., 1., 0.]) tensor([[1., 0.],\n",
      "        [1., 0.],\n",
      "        [0., 1.],\n",
      "        [1., 0.],\n",
      "        [0., 1.],\n",
      "        [0., 1.],\n",
      "        [1., 0.],\n",
      "        [0., 1.],\n",
      "        [0., 1.],\n",
      "        [0., 1.]])\n"
     ]
    }
   ],
   "source": [
    "targets_one_hot = torch.zeros(num_samples, num_classes)\n",
    "\n",
    "targets_one_hot.scatter_(1, targets.unsqueeze(1), 1)\n",
    "\n",
    "print(target,targets_one_hot)\n"
   ]
  },
  {
   "cell_type": "code",
   "execution_count": 274,
   "id": "8e4e0228-08e7-4cb5-8832-e403f3c8e7c3",
   "metadata": {},
   "outputs": [
    {
     "data": {
      "text/plain": [
       "tensor([[ 0.1020,  0.1452],\n",
       "        [-0.0555,  0.1306],\n",
       "        [-0.1198,  0.0811],\n",
       "        [-0.0718,  0.2125],\n",
       "        [-0.1822,  0.1209],\n",
       "        [ 0.0136,  0.2613],\n",
       "        [ 0.0174,  0.1608],\n",
       "        [-0.0428, -0.1001],\n",
       "        [ 0.0032,  0.1522]], grad_fn=<AddmmBackward0>)"
      ]
     },
     "execution_count": 274,
     "metadata": {},
     "output_type": "execute_result"
    }
   ],
   "source": [
    "target\n",
    "# Create random predictions (logits) and target labels\n",
    "num_samples = 10\n",
    "num_classes = 2 \n",
    "predictions = torch.randn(num_samples, num_classes)\n",
    "\n",
    "targets = torch.randint(0, 2, (num_samples,))\n",
    "targets\n",
    "predictions\n",
    "\n",
    "output"
   ]
  },
  {
   "cell_type": "code",
   "execution_count": 286,
   "id": "2c68632d-890c-4666-aa75-7d0a13ec6678",
   "metadata": {},
   "outputs": [
    {
     "ename": "RuntimeError",
     "evalue": "scatter(): Expected dtype int64 for index",
     "output_type": "error",
     "traceback": [
      "\u001b[0;31m---------------------------------------------------------------------------\u001b[0m",
      "\u001b[0;31mRuntimeError\u001b[0m                              Traceback (most recent call last)",
      "Cell \u001b[0;32mIn[286], line 3\u001b[0m\n\u001b[1;32m      1\u001b[0m targets_one_hot \u001b[38;5;241m=\u001b[39m torch\u001b[38;5;241m.\u001b[39mzeros(labels\u001b[38;5;241m.\u001b[39mshape[\u001b[38;5;241m0\u001b[39m], \u001b[38;5;241m2\u001b[39m)\n\u001b[1;32m      2\u001b[0m targets_one_hot\n\u001b[0;32m----> 3\u001b[0m \u001b[43mtargets_one_hot\u001b[49m\u001b[38;5;241;43m.\u001b[39;49m\u001b[43mscatter_\u001b[49m\u001b[43m(\u001b[49m\u001b[38;5;241;43m1\u001b[39;49m\u001b[43m,\u001b[49m\u001b[43m \u001b[49m\u001b[43mlabels\u001b[49m\u001b[38;5;241;43m.\u001b[39;49m\u001b[43munsqueeze\u001b[49m\u001b[43m(\u001b[49m\u001b[38;5;241;43m1\u001b[39;49m\u001b[43m)\u001b[49m\u001b[43m,\u001b[49m\u001b[43m \u001b[49m\u001b[38;5;241;43m1\u001b[39;49m\u001b[43m)\u001b[49m\n",
      "\u001b[0;31mRuntimeError\u001b[0m: scatter(): Expected dtype int64 for index"
     ]
    }
   ],
   "source": [
    "targets_one_hot = torch.zeros(labels.shape[0], 2)\n",
    "targets_one_hot\n",
    "targets_one_hot.scatter_(1, labels.unsqueeze(1), 1)"
   ]
  },
  {
   "cell_type": "code",
   "execution_count": 296,
   "id": "8cd72f9c-1e7c-482c-879e-f5298a96e0be",
   "metadata": {},
   "outputs": [
    {
     "data": {
      "text/plain": [
       "tensor([[ 0.9139,  1.9736],\n",
       "        [ 0.8935,  0.1938],\n",
       "        [ 1.1879, -1.8701],\n",
       "        [-0.2776, -0.1984],\n",
       "        [ 2.0879, -0.0325],\n",
       "        [-0.2129, -0.3934],\n",
       "        [-1.2734,  0.4618],\n",
       "        [ 1.7169,  0.2497],\n",
       "        [ 0.1411, -0.6828],\n",
       "        [-0.2291,  0.3412]])"
      ]
     },
     "execution_count": 296,
     "metadata": {},
     "output_type": "execute_result"
    }
   ],
   "source": [
    "predictions\n"
   ]
  },
  {
   "cell_type": "code",
   "execution_count": 317,
   "id": "2d000de1-fa93-425e-bceb-e3c85ccaa6e4",
   "metadata": {},
   "outputs": [],
   "source": [
    "output\n",
    "probability_class_1 = output[:, 1]\n",
    "probability_class_1\n",
    "\n",
    "# Set a threshold for class prediction\n",
    "threshold = 0.53\n",
    "\n",
    "# Make predictions based on the threshold\n",
    "predictions = torch.where(probability_class_1 < threshold, torch.tensor([1]), torch.tensor([0]))\n"
   ]
  },
  {
   "cell_type": "code",
   "execution_count": 313,
   "id": "46cb74f5-2fb0-4bff-83f6-3e96b9d9e07a",
   "metadata": {},
   "outputs": [
    {
     "data": {
      "text/plain": [
       "tensor([0.5108, 0.5464, 0.5501, 0.5706, 0.5752, 0.5616, 0.5358, 0.4857, 0.5372],\n",
       "       grad_fn=<SelectBackward0>)"
      ]
     },
     "execution_count": 313,
     "metadata": {},
     "output_type": "execute_result"
    }
   ],
   "source": [
    "probability_class_1"
   ]
  },
  {
   "cell_type": "code",
   "execution_count": 311,
   "id": "2ec9cb23-b28b-41dc-bb4b-fadd67f71ce3",
   "metadata": {},
   "outputs": [
    {
     "data": {
      "text/plain": [
       "tensor([1, 1, 0, 0, 0, 0, 0, 1, 0])"
      ]
     },
     "execution_count": 311,
     "metadata": {},
     "output_type": "execute_result"
    }
   ],
   "source": [
    "labels"
   ]
  },
  {
   "cell_type": "code",
   "execution_count": 318,
   "id": "0eb65027-4313-4389-b637-ec839993513d",
   "metadata": {},
   "outputs": [
    {
     "data": {
      "text/plain": [
       "tensor([1, 0, 0, 0, 0, 0, 0, 1, 0])"
      ]
     },
     "execution_count": 318,
     "metadata": {},
     "output_type": "execute_result"
    }
   ],
   "source": [
    "predictions"
   ]
  },
  {
   "cell_type": "code",
   "execution_count": 321,
   "id": "6138d4dc-d4f5-4be2-acfc-85c4bc7f6fad",
   "metadata": {},
   "outputs": [],
   "source": [
    "predicted_classes = predictions.type(torch.float)\n",
    "\n",
    "misclassified_percentage = (predicted_classes != labels).float().mean()"
   ]
  },
  {
   "cell_type": "code",
   "execution_count": 322,
   "id": "b4c14f78-b13b-402c-b5a7-71d1a4a54048",
   "metadata": {},
   "outputs": [
    {
     "data": {
      "text/plain": [
       "tensor(0.1111)"
      ]
     },
     "execution_count": 322,
     "metadata": {},
     "output_type": "execute_result"
    }
   ],
   "source": [
    "misclassified_percentage"
   ]
  },
  {
   "cell_type": "code",
   "execution_count": 325,
   "id": "9a0f4fed-ecfd-4e23-95da-dc1118aaaea8",
   "metadata": {},
   "outputs": [],
   "source": [
    "probability_class_1 = output[:, 1]\n",
    "\n",
    "\n",
    "# Set a threshold for class prediction\n",
    "threshold = 0.53\n",
    "\n",
    "# Make predictions based on the threshold\n",
    "predictions = torch.where(probability_class_1 < threshold, torch.tensor([1]), torch.tensor([0]))\n",
    "\n",
    "\n",
    "predicted_classes = predictions.type(torch.float)\n",
    "\n",
    "misclassified_percentage = (predicted_classes != labels).float().mean()"
   ]
  },
  {
   "cell_type": "code",
   "execution_count": 326,
   "id": "a25e6b0f-165d-4c9e-9536-b348ae41172b",
   "metadata": {},
   "outputs": [
    {
     "data": {
      "text/plain": [
       "tensor(0.1111)"
      ]
     },
     "execution_count": 326,
     "metadata": {},
     "output_type": "execute_result"
    }
   ],
   "source": [
    "misclassified_percentage"
   ]
  },
  {
   "cell_type": "code",
   "execution_count": 301,
   "id": "c09b1b5e-62fb-40d7-9457-e57a61b33632",
   "metadata": {},
   "outputs": [
    {
     "name": "stdout",
     "output_type": "stream",
     "text": [
      "torch.Size([9]) torch.Size([9, 2])\n",
      "tensor([[0., 1.],\n",
      "        [0., 1.],\n",
      "        [1., 0.],\n",
      "        [1., 0.],\n",
      "        [1., 0.],\n",
      "        [1., 0.],\n",
      "        [1., 0.],\n",
      "        [0., 1.],\n",
      "        [1., 0.]])\n",
      "tensor([[0.4892, 0.5108],\n",
      "        [0.4536, 0.5464],\n",
      "        [0.4499, 0.5501],\n",
      "        [0.4294, 0.5706],\n",
      "        [0.4248, 0.5752],\n",
      "        [0.4384, 0.5616],\n",
      "        [0.4642, 0.5358],\n",
      "        [0.5143, 0.4857],\n",
      "        [0.4628, 0.5372]], grad_fn=<SoftmaxBackward0>)\n"
     ]
    },
    {
     "data": {
      "text/plain": [
       "tensor(0.7623, grad_fn=<BinaryCrossEntropyBackward0>)"
      ]
     },
     "execution_count": 301,
     "metadata": {},
     "output_type": "execute_result"
    }
   ],
   "source": [
    "\n",
    "target = labels\n",
    "output  = model(images)\n",
    "print(labels.shape,output.shape)\n",
    "labels\n",
    "output\n",
    "labels = labels.long()\n",
    "targets_one_hot = torch.zeros(labels.shape[0], 2)\n",
    "targets_one_hot = targets_one_hot.scatter_(1, labels.unsqueeze(1), 1)\n",
    "\n",
    "\n",
    "print(targets_one_hot) \n",
    "print(output)\n",
    "\n",
    "from torch import nn\n",
    "criterion = nn.BCELoss()\n",
    "\n",
    "criterion(output,targets_one_hot)\n",
    "\n",
    "\n"
   ]
  },
  {
   "cell_type": "code",
   "execution_count": 298,
   "id": "b1bf8e58-9268-4294-adcf-0f80b6b7dae6",
   "metadata": {},
   "outputs": [
    {
     "name": "stdout",
     "output_type": "stream",
     "text": [
      "Predictions: tensor([[-2.3210, -0.7421],\n",
      "        [-0.3854, -2.6085],\n",
      "        [-0.1363, -0.8385]])\n",
      "Targets (one-hot): tensor([[1., 0.],\n",
      "        [1., 0.],\n",
      "        [0., 1.]])\n",
      "BCE Loss: 0.9341023564338684\n"
     ]
    }
   ],
   "source": [
    "import torch\n",
    "import torch.nn as nn\n",
    "\n",
    "# Assuming you have a binary classification problem with 3 samples and 2 classes\n",
    "num_samples = 3\n",
    "num_classes = 2\n",
    "\n",
    "# Create random predictions (logits) and target labels\n",
    "predictions = torch.randn(num_samples, num_classes)\n",
    "targets = torch.randint(0, 2, (num_samples,))\n",
    "\n",
    "# Define the BCE loss criterion\n",
    "criterion = nn.BCEWithLogitsLoss()\n",
    "\n",
    "# Convert the targets to one-hot encoding\n",
    "targets_one_hot = torch.zeros(num_samples, num_classes)\n",
    "targets_one_hot.scatter_(1, targets.unsqueeze(1), 1)\n",
    "\n",
    "# Calculate the loss\n",
    "loss = criterion(predictions, targets_one_hot)\n",
    "\n",
    "print(\"Predictions:\", predictions)\n",
    "print(\"Targets (one-hot):\", targets_one_hot)\n",
    "print(\"BCE Loss:\", loss.item())"
   ]
  },
  {
   "cell_type": "code",
   "execution_count": 143,
   "id": "334625d0-ea10-4774-9e16-9d8cf78841a4",
   "metadata": {},
   "outputs": [],
   "source": [
    "import torch\n",
    "import torch.nn as nn\n",
    "import torch.optim as optim"
   ]
  },
  {
   "cell_type": "code",
   "execution_count": 154,
   "id": "66598e4e-da42-473d-b087-1b1003823c84",
   "metadata": {},
   "outputs": [],
   "source": [
    "from src.models.classification_module import ClassificationModule"
   ]
  },
  {
   "cell_type": "code",
   "execution_count": 159,
   "id": "c93f9835-76bb-47b4-9a73-def8c354bed9",
   "metadata": {},
   "outputs": [],
   "source": [
    "from src.models.components.classification_models import BinaryClassificationModule"
   ]
  },
  {
   "cell_type": "code",
   "execution_count": 244,
   "id": "74919cb4-4c9a-40a6-9669-09e128be1df3",
   "metadata": {},
   "outputs": [],
   "source": [
    "def instantiate_model(config):\n",
    "    \"\"\"\n",
    "    Instantiate a module based on the provided module type.\n",
    "\n",
    "    Args:\n",
    "        module_type (str): Type of module to instantiate.\n",
    "\n",
    "    Returns:\n",
    "        object: Instance of the specified module.\n",
    "    \"\"\"\n",
    "    module_type = config[\"optim\"][\"module\"]\n",
    "    module_dict = {\"deeplabv3\": DeepLabv3Module, \"resnet50\" :  ResNet50Module}\n",
    "    nchannel = config[\"donnees\"][\"n channels train\"]\n",
    "\n",
    "    if module_type not in module_dict:\n",
    "        raise ValueError(\"Invalid module type\")\n",
    "\n",
    "    if module_type == \"deeplabv3\":\n",
    "        return module_dict[module_type](nchannel)\n",
    "    else:\n",
    "        return module_dict[module_type]()\n",
    "\n",
    "\n",
    "def instantiate_loss(config):\n",
    "    \"\"\"\n",
    "    intantiates an optimizer object with the parameters \n",
    "    specified in the configuration file.\n",
    "\n",
    "    Args:\n",
    "        model: A PyTorch model object.\n",
    "        config: A dictionary object containing the configuration parameters.\n",
    "\n",
    "    Returns:\n",
    "        An optimizer object from the `torch.optim` module.\n",
    "    \"\"\"\n",
    "    loss_type = config[\"optim\"][\"loss\"]\n",
    "    loss_dict = {\n",
    "                \"crossentropy\": CrossEntropyLoss,\n",
    "                \"crossentropyselmade\": CrossEntropySelfmade,\n",
    "                \"lossbinaire\" : nn.BCELoss\n",
    "                }\n",
    "\n",
    "    if loss_type not in loss_dict:\n",
    "        raise ValueError(\"Invalid loss type\")\n",
    "    else:\n",
    "        return loss_dict[loss_type]()\n",
    "\n",
    "\n",
    "def instantiate_lightning_module(config, model):\n",
    "    \"\"\"\n",
    "    Create a PyTorch Lightning module for segmentation\n",
    "    with the given model and optimization configuration.\n",
    "\n",
    "    Args:\n",
    "        config (dict): Dictionary containing the configuration\n",
    "        parameters for optimization.\n",
    "        model: The PyTorch model to use for segmentation.\n",
    "\n",
    "    Returns:\n",
    "        A PyTorch Lightning module for segmentation.\n",
    "    \"\"\"\n",
    "    list_params = generate_optimization_elements(config)\n",
    "\n",
    "    lightning_module = ClassificationModule(\n",
    "                    model=model,\n",
    "                    loss=nn.CrossEntropyLoss(),\n",
    "                    optimizer=optim.Adam,\n",
    "                    scheduler=optim.lr_scheduler.ReduceLROnPlateau,\n",
    "                )\n",
    "    return lightning_module\n",
    "\n",
    "\n",
    "def instantiate_trainer(config, lightning_module):\n",
    "    \"\"\"\n",
    "    Create a PyTorch Lightning module for segmentation with \n",
    "    the given model and optimization configuration.\n",
    "\n",
    "    Args:\n",
    "        config (dict): Dictionary containing the configuration\n",
    "        parameters for optimization.\n",
    "        model: The PyTorch model to use for segmentation.\n",
    "\n",
    "    Returns:\n",
    "        SegmentationModule: A PyTorch Lightning module for segmentation.\n",
    "    \"\"\"\n",
    "    # def callbacks\n",
    "    checkpoint_callback = ModelCheckpoint(\n",
    "        monitor=\"validation_loss\", save_top_k=1, save_last=True, mode=\"min\"\n",
    "    )\n",
    "\n",
    "    checkpoint_callback_IOU = ModelCheckpoint(\n",
    "        monitor=\"validation_IOU\", save_top_k=1, save_last=True, mode=\"max\"\n",
    "    )\n",
    "    early_stop_callback = EarlyStopping(\n",
    "        monitor=\"validation_loss\", mode=\"min\", patience=20\n",
    "    )\n",
    "    lr_monitor = LearningRateMonitor(logging_interval=\"step\")\n",
    "    list_callbacks = [lr_monitor, checkpoint_callback, early_stop_callback, checkpoint_callback_IOU]\n",
    "\n",
    "    strategy = \"auto\"\n",
    "\n",
    "    trainer = pl.Trainer(\n",
    "        callbacks=list_callbacks,\n",
    "        max_epochs=config[\"optim\"][\"max epochs\"],\n",
    "        num_sanity_val_steps=2,\n",
    "        strategy=strategy,\n",
    "        log_every_n_steps=2,\n",
    "        accumulate_grad_batches=config[\"optim\"][\"accumulate batch\"]\n",
    "    )\n",
    "\n",
    "    return trainer"
   ]
  },
  {
   "cell_type": "code",
   "execution_count": 243,
   "id": "6517ba7c-eb42-4635-aa86-961c79b6e7a8",
   "metadata": {},
   "outputs": [
    {
     "data": {
      "text/plain": [
       "{'donnees': {'source train': 'PLEIADES',\n",
       "  'dataset': 'CLASSIFICATION',\n",
       "  'year': [2022],\n",
       "  'dep': ['972'],\n",
       "  'type labeler': 'RIL',\n",
       "  'buffer size': 10,\n",
       "  'n channels train': 3,\n",
       "  'n bands': 3,\n",
       "  'tile size': 250,\n",
       "  'augmentation': False,\n",
       "  'task': 'classification'},\n",
       " 'optim': {'loss': 'lossbinaire',\n",
       "  'lr': 0.0001,\n",
       "  'momentum': 0.9,\n",
       "  'module': 'resnet50',\n",
       "  'batch size': 9,\n",
       "  'batch size test': 4,\n",
       "  'max epochs': 50,\n",
       "  'val prop': 0.2,\n",
       "  'accumulate batch': 3},\n",
       " 'mlflow': True}"
      ]
     },
     "execution_count": 243,
     "metadata": {},
     "output_type": "execute_result"
    }
   ],
   "source": [
    "with open(\"../config.yml\") as f:\n",
    "    config = yaml.load(f, Loader=SafeLoader)\n",
    "config"
   ]
  },
  {
   "cell_type": "code",
   "execution_count": null,
   "id": "31bb611a-86ff-4930-aab4-827ee14c14cf",
   "metadata": {},
   "outputs": [],
   "source": [
    "def run_pipeline(remote_server_uri, experiment_name, run_name):\n",
    "\n",
    "    model = instantiate_model(config)\n",
    "\n",
    "    light_module = instantiate_lightning_module(config, model)\n",
    "    trainer = instantiate_trainer(config, light_module)\n",
    "\n",
    "    torch.cuda.empty_cache()\n",
    "    gc.collect()\n",
    "\n",
    "\n",
    "    if config[\"mlflow\"]:\n",
    "\n",
    "        update_storage_access()\n",
    "        os.environ[\"MLFLOW_S3_ENDPOINT_URL\"] = \"https://minio.lab.sspcloud.fr\"\n",
    "        mlflow.end_run()\n",
    "        mlflow.set_tracking_uri(remote_server_uri)\n",
    "        mlflow.set_experiment(experiment_name)\n",
    "        # mlflow.pytorch.autolog()\n",
    "\n",
    "        with mlflow.start_run(run_name=run_name):\n",
    "            mlflow.autolog()    \n",
    "            mlflow.log_artifact(\n",
    "                \"config.yml\",\n",
    "                artifact_path=\"config.yml\"\n",
    "            )\n",
    "            trainer.fit(light_module, train_dataloader, valid_dataloader)\n",
    "            model = light_module.model\n",
    "            tile_size = config[\"donnees\"][\"tile size\"]\n",
    "            batch_size_test = config[\"optim\"][\"batch size test\"]\n",
    "            \n",
    "            if config[\"donnees\"][\"source train\"] == \"PLEIADES\":\n",
    "\n",
    "                light_module_checkpoint = light_module.load_from_checkpoint(\n",
    "                    loss = instantiate_loss(config),\n",
    "                    checkpoint_path=trainer.checkpoint_callback.best_model_path, # je créé un module qui charge\n",
    "                    model=light_module.model,\n",
    "                    optimizer=light_module.optimizer,\n",
    "                    optimizer_params=light_module.optimizer_params,\n",
    "                    scheduler=light_module.scheduler,\n",
    "                    scheduler_params=light_module.scheduler_params,\n",
    "                    scheduler_interval=light_module.scheduler_interval\n",
    "\n",
    "                )\n",
    "                evaluer_modele_sur_jeu_de_test_segmentation_pleiade(\n",
    "                        test_dataloader,\n",
    "                        model,\n",
    "                        tile_size,\n",
    "                        batch_size_test,\n",
    "                        config[\"mlflow\"]\n",
    "                    )\n",
    "    \n",
    "    else:\n",
    "        trainer.fit(light_module, train_dataloader, valid_dataloader)\n",
    "        model = light_module.model\n",
    "        tile_size = config[\"donnees\"][\"tile size\"]\n",
    "        batch_size_test = config[\"optim\"][\"batch size test\"]\n",
    "        \n",
    "        if config[\"donnees\"][\"source train\"] == \"PLEIADES\":\n",
    "\n",
    "            light_module_checkpoint = light_module.load_from_checkpoint(\n",
    "                loss = instantiate_loss(config),\n",
    "                checkpoint_path=trainer.checkpoint_callback.best_model_path, # je créé un module qui charge\n",
    "                model=light_module.model,\n",
    "                optimizer=light_module.optimizer,\n",
    "                optimizer_params=light_module.optimizer_params,\n",
    "                scheduler=light_module.scheduler,\n",
    "                scheduler_params=light_module.scheduler_params,\n",
    "                scheduler_interval=light_module.scheduler_interval\n",
    "\n",
    "                )\n",
    "            \n",
    "            model = light_module_checkpoint.model   \n",
    "\n",
    "            evaluer_modele_sur_jeu_de_test_segmentation_pleiade(\n",
    "                    test_dataloader,\n",
    "                    model,\n",
    "                    tile_size,\n",
    "                    batch_size_test,\n",
    "                    config[\"mlflow\"]\n",
    "                )\n",
    "        # trainer.test(light_module, test_dl)\n",
    "\n",
    "\n",
    "if __name__ == \"__main__\":\n",
    "    # MLFlow params\n",
    "    remote_server_uri = \"https://projet-slums-detection-874257.user.lab.sspcloud.fr\"\n",
    "    experiment_name = \"segmentation\"\n",
    "    run_name = \"essai_patch_binaire\"\n",
    "    run_pipeline(remote_server_uri, experiment_name, run_name)"
   ]
  },
  {
   "cell_type": "code",
   "execution_count": null,
   "id": "e1595eb2-3335-499e-b66e-2c5f3634684c",
   "metadata": {},
   "outputs": [],
   "source": [
    "import sys\n",
    "sys.path.append('../src')\n",
    "from run_training_pipeline2 import *\n",
    "\n"
   ]
  },
  {
   "cell_type": "code",
   "execution_count": 10,
   "id": "eba2f58f-6fed-489b-91fd-7fb3e4df40bb",
   "metadata": {},
   "outputs": [],
   "source": [
    "import matplotlib.pyplot as plt"
   ]
  },
  {
   "cell_type": "code",
   "execution_count": 11,
   "id": "7b09949c-ff07-409c-8c77-a05676e4e3c8",
   "metadata": {},
   "outputs": [
    {
     "data": {
      "image/png": "[encoded data removed]",
      "text/plain": [
       "<Figure size 1500x1500 with 1 Axes>"
      ]
     },
     "metadata": {},
     "output_type": "display_data"
    }
   ],
   "source": [
    "mask = np.load(\"../test-data/labels/mayotte-ORT_2020052526670967_0523_8591_U38S_8Bits_000.npy\")\n",
    "fig, ax = plt.subplots(1, 1, figsize=(15, 15))\n",
    "ax.imshow(mask, cmap=\"gray\")\n",
    "ax.set_title(\"mask\")\n",
    "ax.axis('off')\n",
    "plt.show()"
   ]
  }
 ],
 "metadata": {
  "kernelspec": {
   "display_name": "Python 3 (ipykernel)",
   "language": "python",
   "name": "python3"
  },
  "language_info": {
   "codemirror_mode": {
    "name": "ipython",
    "version": 3
   },
   "file_extension": ".py",
   "mimetype": "text/x-python",
   "name": "python",
   "nbconvert_exporter": "python",
   "pygments_lexer": "ipython3",
   "version": "3.10.9"
  }
 },
 "nbformat": 4,
 "nbformat_minor": 5
}
