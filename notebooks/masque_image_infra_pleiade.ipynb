{
 "cells": [
  {
   "cell_type": "markdown",
   "id": "4fbe6a13-7e2f-4639-b9af-58bef0d9077e",
   "metadata": {},
   "source": [
    "# But : Créer un masque sans végétation avec une image infrarouge Pléiade."
   ]
  },
  {
   "cell_type": "code",
   "execution_count": 4,
   "id": "086b554f-d051-4f64-9858-dd71898eda96",
   "metadata": {
    "tags": []
   },
   "outputs": [],
   "source": [
    "%load_ext autoreload\n",
    "%autoreload 2"
   ]
  },
  {
   "cell_type": "code",
   "execution_count": 2,
   "id": "d5522f9f-c28f-43d0-8812-b97f5d723e29",
   "metadata": {
    "tags": []
   },
   "outputs": [],
   "source": [
    "! pip install rasterio  -q -q -q\n",
    "! pip install geopandas -q -q -q\n",
    "! pip install matplotlib -q -q -q"
   ]
  },
  {
   "cell_type": "code",
   "execution_count": 151,
   "id": "a3a7fd05-5b7f-4c68-8125-6aaa8c5d7ac7",
   "metadata": {
    "tags": []
   },
   "outputs": [],
   "source": [
    "!pip install pyarrow\n",
    "!pip install opencv-python"
   ]
  },
  {
   "cell_type": "code",
   "execution_count": null,
   "id": "40213718-7dbc-4ede-a352-0b814393a048",
   "metadata": {},
   "outputs": [],
   "source": [
    "! sudo apt-get update\n",
    "! sudo apt-get install ffmpeg libsm6 libxext6 -y\n",
    "! sudo apt-get install libgl1\n"
   ]
  },
  {
   "cell_type": "code",
   "execution_count": 6,
   "id": "3dd4497b-77f1-4b4d-b299-e06ae8a659a6",
   "metadata": {
    "tags": []
   },
   "outputs": [],
   "source": [
    "import sys\n",
    "sys.path.append('../src')\n",
    "from classes.data.satellite_image import SatelliteImage\n",
    "from utils.utils import *\n",
    "from utils.plot_utils import *\n",
    "from utils.image_utils import *\n",
    "import utils.mappings as mapps"
   ]
  },
  {
   "cell_type": "code",
   "execution_count": null,
   "id": "3ea984ca-7ac8-4132-8883-3f8fa7b04b42",
   "metadata": {},
   "outputs": [],
   "source": [
    "import cv2"
   ]
  },
  {
   "cell_type": "code",
   "execution_count": 7,
   "id": "d341d1d8-c068-44fe-a520-e6d26b918c4b",
   "metadata": {
    "tags": []
   },
   "outputs": [],
   "source": [
    "import yaml\n",
    "import re\n",
    "import s3fs\n",
    "import numpy as np\n",
    "import matplotlib.pyplot as plt\n",
    "from PIL import Image as im\n",
    "import re\n",
    "from pyproj import Transformer\n",
    "from datetime import date\n",
    "import os"
   ]
  },
  {
   "cell_type": "code",
   "execution_count": 5,
   "id": "f0e2ebdb-a1c7-4f1e-a0b8-714e40e8ced1",
   "metadata": {
    "tags": []
   },
   "outputs": [],
   "source": [
    "update_storage_access()"
   ]
  },
  {
   "cell_type": "code",
   "execution_count": 6,
   "id": "237ab0fc-2df3-4c0c-9d4e-f42b1b009510",
   "metadata": {
    "tags": []
   },
   "outputs": [],
   "source": [
    "environment = get_environment()\n",
    "\n",
    "root_path = get_root_path()\n",
    "\n",
    "bucket = environment[\"bucket\"]\n",
    "\n",
    "#2022\n",
    "#guyane 2022\n",
    "path_s3_pleiades_data_2022_guyane = environment[\"sources\"][\"PLEIADES\"][2022][\"guyane\"]\n",
    "path_local_pleiades_data_2022_guyane = environment[\"local-path\"][\"PLEIADES\"][2022][\"guyane\"]\n",
    "\n",
    "#martinique 2022\n",
    "path_s3_pleiades_data_2022_martinique = environment[\"sources\"][\"PLEIADES\"][2022][\"martinique\"]\n",
    "path_local_pleiades_data_2022_martinique = environment[\"local-path\"][\"PLEIADES\"][2022][\"martinique\"]\n",
    "          \n",
    "#guadeloupe 2022\n",
    "path_s3_pleiades_data_2022_guadeloupe = environment[\"sources\"][\"PLEIADES\"][2022][\"guadeloupe\"]\n",
    "path_local_pleiades_data_2022_guadeloupe = environment[\"local-path\"][\"PLEIADES\"][2022][\"guadeloupe\"]\n",
    "\n",
    "#mayotte 2022\n",
    "path_s3_pleiades_data_2022_mayotte = environment[\"sources\"][\"PLEIADES\"][2022][\"mayotte\"]\n",
    "path_local_pleiades_data_2022_mayotte = environment[\"local-path\"][\"PLEIADES\"][2022][\"mayotte\"]\n",
    "\n",
    "#2020\n",
    "#mayotte 2020\n",
    "path_s3_pleiades_data_2020_mayotte = environment[\"sources\"][\"PLEIADES\"][2020][\"mayotte\"]\n",
    "path_local_pleiades_data_2020_mayotte = environment[\"local-path\"][\"PLEIADES\"][2020][\"mayotte\"]\n",
    "\n",
    "#2019\n",
    "#mayotte 2019\n",
    "path_s3_pleiades_data_2019_mayotte = environment[\"sources\"][\"PLEIADES\"][2019][\"mayotte\"]\n",
    "path_local_pleiades_data_2019_mayotte = environment[\"local-path\"][\"PLEIADES\"][2019][\"mayotte\"]\n",
    "\n",
    "#2018\n",
    "#reunion 2018\n",
    "path_s3_pleiades_data_2018_reunion = environment[\"sources\"][\"PLEIADES\"][2018][\"reunion\"]\n",
    "path_local_pleiades_data_2018_reunion = environment[\"local-path\"][\"PLEIADES\"][2018][\"reunion\"]\n",
    "\n",
    "#2017\n",
    "#martinique 2017\n",
    "path_s3_pleiades_data_2017_martinique = environment[\"sources\"][\"PLEIADES\"][2017][\"martinique\"]\n",
    "path_local_pleiades_data_2017_martinique = environment[\"local-path\"][\"PLEIADES\"][2017][\"martinique\"]\n",
    "\n",
    "#mayotte 2017\n",
    "path_s3_pleiades_data_2017_mayotte = environment[\"sources\"][\"PLEIADES\"][2017][\"mayotte\"]\n",
    "path_local_pleiades_data_2017_mayotte = environment[\"local-path\"][\"PLEIADES\"][2017][\"mayotte\"]\n",
    "\n",
    "fs = s3fs.S3FileSystem(client_kwargs={\"endpoint_url\": \"https://minio.lab.sspcloud.fr\"})"
   ]
  },
  {
   "cell_type": "markdown",
   "id": "9f367887-1afb-45f1-a9d1-22509c9d6014",
   "metadata": {
    "tags": []
   },
   "source": [
    "### Chargement données. Attention ! ne charger que les fichiers qu'on utilise, car pas d'espace sinon."
   ]
  },
  {
   "cell_type": "code",
   "execution_count": 214,
   "id": "26aefa23-7dd1-42f7-ab78-c097e35e5559",
   "metadata": {
    "tags": []
   },
   "outputs": [],
   "source": [
    "# DL PLEIADE guyane 2022 utilisé !\n",
    "fs.download(\n",
    "        rpath=f\"{bucket}/{path_s3_pleiades_data_2022_guyane}\",\n",
    "        lpath=f\"../{path_local_pleiades_data_2022_guyane}\",\n",
    "        recursive=True)"
   ]
  },
  {
   "cell_type": "code",
   "execution_count": 9,
   "id": "9c357008-a7f2-4d97-b885-dfae1afa3a4b",
   "metadata": {
    "tags": []
   },
   "outputs": [],
   "source": [
    "# DL PLEIADE martinique 2022 utilisé !\n",
    "fs.download(\n",
    "        rpath=f\"{bucket}/{path_s3_pleiades_data_2022_martinique}\",\n",
    "        lpath=f\"../{path_local_pleiades_data_2022_martinique}\",\n",
    "        recursive=True)"
   ]
  },
  {
   "cell_type": "code",
   "execution_count": null,
   "id": "4942a5a7-c6df-4ac0-981e-ee7ef23d273a",
   "metadata": {},
   "outputs": [],
   "source": [
    "# DL PLEIADE guadeloupe 2022\n",
    "fs.download(\n",
    "        rpath=f\"{bucket}/{path_s3_pleiades_data_2022_guadeloupe}\",\n",
    "        lpath=f\"../{path_local_pleiades_data_2022_guadeloupe}\",\n",
    "        recursive=True)"
   ]
  },
  {
   "cell_type": "code",
   "execution_count": null,
   "id": "f49c806d-e53e-46bd-9645-b010e15fe56e",
   "metadata": {},
   "outputs": [],
   "source": [
    "# DL PLEIADE mayotte 2022\n",
    "fs.download(\n",
    "        rpath=f\"{bucket}/{path_s3_pleiades_data_2022_mayotte}\",\n",
    "        lpath=f\"../{path_local_pleiades_data_2022_mayotte}\",\n",
    "        recursive=True)"
   ]
  },
  {
   "cell_type": "code",
   "execution_count": 7,
   "id": "ad0f15b0-d959-4bdf-8ac5-3eea8554dc3b",
   "metadata": {
    "tags": []
   },
   "outputs": [],
   "source": [
    "# DL PLEIADE mayotte 2020\n",
    "fs.download(\n",
    "        rpath=f\"{bucket}/{path_s3_pleiades_data_2020_mayotte}\",\n",
    "        lpath=f\"../{path_local_pleiades_data_2020_mayotte}\",\n",
    "        recursive=True)"
   ]
  },
  {
   "cell_type": "code",
   "execution_count": null,
   "id": "f194c9ec-7d33-45a1-8385-720ba6cbd408",
   "metadata": {},
   "outputs": [],
   "source": [
    "# DL PLEIADE mayotte 2019\n",
    "fs.download(\n",
    "        rpath=f\"{bucket}/{path_s3_pleiades_data_2019_mayotte}\",\n",
    "        lpath=f\"../{path_local_pleiades_data_2019_mayotte}\",\n",
    "        recursive=True)"
   ]
  },
  {
   "cell_type": "code",
   "execution_count": null,
   "id": "a877a1b3-e40d-4090-8ab4-63bebbafe07f",
   "metadata": {},
   "outputs": [],
   "source": [
    "# DL PLEIADE reunion 2018\n",
    "fs.download(\n",
    "        rpath=f\"{bucket}/{path_s3_pleiades_data_2018_reunion}\",\n",
    "        lpath=f\"../{path_local_pleiades_data_2018_reunion}\",\n",
    "        recursive=True)"
   ]
  },
  {
   "cell_type": "code",
   "execution_count": 57,
   "id": "3862fcf2-8e87-42f1-b8fe-02031942c708",
   "metadata": {
    "tags": []
   },
   "outputs": [],
   "source": [
    "# DL PLEIADE martinique 2017 utilisé !\n",
    "fs.download(\n",
    "        rpath=f\"{bucket}/{path_s3_pleiades_data_2017_martinique}\",\n",
    "        lpath=f\"../{path_local_pleiades_data_2017_martinique}\",\n",
    "        recursive=True)"
   ]
  },
  {
   "cell_type": "code",
   "execution_count": null,
   "id": "370e85e8-0d39-48f3-aae7-d8d04b9ba852",
   "metadata": {
    "tags": []
   },
   "outputs": [],
   "source": [
    "# DL PLEIADE mayotte 2017\n",
    "fs.download(\n",
    "        rpath=f\"{bucket}/{path_s3_pleiades_data_2017_mayotte}\",\n",
    "        lpath=f\"../{path_local_pleiades_data_2017_mayotte}\",\n",
    "        recursive=True)"
   ]
  },
  {
   "cell_type": "markdown",
   "id": "b35a2ca6-b421-454b-9ac1-8c5459de2124",
   "metadata": {},
   "source": [
    "Choisissons une image en Guyane pour faire le masque"
   ]
  },
  {
   "cell_type": "code",
   "execution_count": 2,
   "id": "d5729069-8177-41dc-92cc-098c34c881e7",
   "metadata": {
    "tags": []
   },
   "outputs": [],
   "source": [
    "#image choisie\n",
    "filename = '../data/PLEIADES/2022/GUYANE/ORT_2022072050325085_0353_0545_U22N_16Bits.jp2'\n",
    "# date = datetime.strptime(re.search(r'ORT_(\\d{8})', filename).group(1), '%Y%m%d')\n",
    "# date"
   ]
  },
  {
   "cell_type": "code",
   "execution_count": 9,
   "id": "439fb99a-0819-4c80-9f87-426663e78782",
   "metadata": {
    "tags": []
   },
   "outputs": [],
   "source": [
    "image = SatelliteImage.from_raster(\n",
    "        filename,\n",
    "        date = None, \n",
    "        n_bands = 4,\n",
    "        dep = \"973\"\n",
    "    )\n",
    "image.normalize()"
   ]
  },
  {
   "cell_type": "code",
   "execution_count": 12,
   "id": "0e32abfe-f5ac-43c9-b230-182d04e52eec",
   "metadata": {},
   "outputs": [],
   "source": [
    "filename = '../data/PLEIADES/2022/GUYANE/ORT_2022072050325085_0355_0544_U22N_16Bits.jp2'\n",
    "image = SatelliteImage.from_raster(\n",
    "        filename,\n",
    "        date = None, \n",
    "        n_bands = 4,\n",
    "        dep = '973'\n",
    "    )"
   ]
  },
  {
   "cell_type": "markdown",
   "id": "b62205f2-b2c4-434a-b97e-0bb34083e9e7",
   "metadata": {},
   "source": [
    "## Idée globale : si le pixel est rouge, le changer en noir, le reste en blanc.\n",
    "Pour cela, il faut fixer des seuils : quel seuil sur l'infrarouge choisir, quels nuances de rouges colorier en noir ou en blanc ?\n",
    "Ici les pixels seront en décimal."
   ]
  },
  {
   "cell_type": "markdown",
   "id": "b2886db7-ca00-40e5-9e68-8869d2c86562",
   "metadata": {},
   "source": [
    "## Méthode 1 : Seuillage sur l'infrarouge."
   ]
  },
  {
   "cell_type": "markdown",
   "id": "d7d4a4b0-9dfb-4411-b8f1-1d78a48a11b1",
   "metadata": {},
   "source": [
    "Voici l'image en couleurs puis avec l'infrarouge à la place du rouge."
   ]
  },
  {
   "cell_type": "code",
   "execution_count": 39,
   "id": "2315ccb6-f3b9-4e17-9723-62f456ff61ae",
   "metadata": {
    "tags": []
   },
   "outputs": [],
   "source": [
    "image.plot([0,1,2])\n",
    "image.plot([3,1,2])"
   ]
  },
  {
   "cell_type": "markdown",
   "id": "f26a748e-332a-48c3-9b1a-29ff2c984b49",
   "metadata": {},
   "source": [
    "On choisit ce seuil en testant plusieurs quantiles et en regardant le meilleur résultat"
   ]
  },
  {
   "cell_type": "code",
   "execution_count": 17,
   "id": "6844fda9-45bf-47f0-a627-8e2928c4fb8b",
   "metadata": {
    "tags": []
   },
   "outputs": [],
   "source": [
    "#on extrait l'array de l'image pour avoir les valeurs des pixels\n",
    "img = image.array.copy()\n",
    "\n",
    "img = img.transpose(2,1,0)\n",
    "shape = img.shape[0:2]\n",
    "\n",
    "threshold = np.quantile(img[:,:,3],0.2)\n",
    "black = np.ones(shape, dtype = float)\n",
    "white = np.zeros(shape, dtype = float)\n",
    "mask = np.where(img[:,:,3]>threshold, white,black)\n",
    "mask = mask.transpose(1,0)\n",
    "\n",
    "print(threshold)\n",
    "\n",
    "plt.imshow(mask, cmap='gray')\n",
    "plt.show()"
   ]
  },
  {
   "cell_type": "markdown",
   "id": "c6c5fc32-9479-4a7c-be29-9f8383e4dd37",
   "metadata": {},
   "source": [
    "## Méthode 1 bis : seuillage local sur l'infrarouge avec une médiane différente pour chaque patch d'image."
   ]
  },
  {
   "cell_type": "code",
   "execution_count": 138,
   "id": "fce5686a-3962-49df-bcd6-289521802ebc",
   "metadata": {
    "tags": []
   },
   "outputs": [],
   "source": [
    "list_images = image.split(250)\n",
    "list_mask = []\n",
    "\n",
    "# We go through each patch\n",
    "for indice,mini_image in enumerate(list_images):\n",
    "    # Extract the array from the image to get the pixel values        \n",
    "    img = mini_image.array.copy()\n",
    "\n",
    "    # Multiply by 255 and convert to uint8 to get the correct format\n",
    "    img = img.astype(float)\n",
    "\n",
    "    img = img.transpose(2,1,0)\n",
    "    shape = img.shape\n",
    "    # Threshold\n",
    "    threshold = np.quantile(img[:,:,3],0.5)\n",
    "    black = np.ones(shape[0:2], dtype = float)\n",
    "    white = np.zeros(shape[0:2], dtype = float)\n",
    "\n",
    "    # Creation of the mask : all the infrared prixels below the threshold will be black and all the infrared prixels above the threshold will be white.\n",
    "    mask = np.where(img[:,:,3]>threshold, white,black)\n",
    "\n",
    "    # Return to the intial shape\n",
    "    mask = mask.transpose(1,0)\n",
    "\n",
    "    list_mask.append(mask)\n",
    "\n",
    "list_bounding_box = np.array([im.bounds for im in list_images])\n",
    "n_col = len(np.unique(np.array([bb[0] for bb in list_bounding_box])))\n",
    "n_row = len(np.unique(np.array([bb[3] for bb in list_bounding_box])))\n",
    "\n",
    "mat_list_mask = np.transpose(np.array(list_indice_mask).reshape(n_row, n_col))\n",
    "\n",
    "# Create the grid of pictures and fill it with masks\n",
    "masks = np.empty((n_col, n_row), dtype=object)        \n",
    "\n",
    "for i in range(n_col):\n",
    "    for j in range(n_row):\n",
    "        masks[i, j] = list_mask[8*i+j]\n",
    "\n",
    "\n",
    "# Create a figure and axes\n",
    "fig, axs = plt.subplots(nrows=n_row, ncols=n_col, figsize=(10, 10))\n",
    "\n",
    "# Iterate over the grid of images and plot them\n",
    "for i in range(n_row):\n",
    "    for j in range(n_col):\n",
    "        axs[i, j].imshow(\n",
    "            masks[i, j], cmap='gray'\n",
    "        )\n",
    "\n",
    "# Remove any unused axes\n",
    "for i in range(n_row):\n",
    "    for j in range(n_col):\n",
    "        axs[i, j].set_axis_off()\n",
    "\n",
    "# Show the plot\n",
    "plt.show()\n",
    "\n"
   ]
  },
  {
   "cell_type": "markdown",
   "id": "c56130fb-8d84-44d6-a09d-4813381d639f",
   "metadata": {},
   "source": [
    "## Méthode 2 : transformation de l'image infrarouge en image RGB en remplacant le rouge par l'infrarouge puis seuillage sur les 3 couleurs."
   ]
  },
  {
   "cell_type": "markdown",
   "id": "9247210c-f0f3-44ae-903d-2e57a464419b",
   "metadata": {
    "tags": []
   },
   "source": [
    "On va refaire le même algorithme, sauf qu'on va changer les seuils sur les pixels RGB à la place de seulement infrarouge comme précedemment."
   ]
  },
  {
   "cell_type": "markdown",
   "id": "fe521002-f263-4043-9c84-e36b770c4e45",
   "metadata": {},
   "source": [
    "* Etape 1 : Pour que le pixel soit une nuance de rouge, il faut d'abord vérifier si les valeurs verte et bleue sont proches.\n",
    "* Etape 2 : On décide que les nuances de rouge très claires correspondent à des toits de bâtiments.\n",
    "* Etape 3 : On fixe le seuil de la valeur rouge à 110 et la valeur de rouge avec une autre couleur doit être supérieure à 20 minimum.\n",
    "* Etape 4 : Si le pixel ne vérifie aucune des étapes précédentes, alors il est colorié automatiquement en blanc."
   ]
  },
  {
   "cell_type": "markdown",
   "id": "e7f48575-3573-45e1-a227-946c7ec8f6bc",
   "metadata": {},
   "source": [
    "Pour fixer ce seuil, des tests visuels ont été effectués et on a utilisé ce site https://htmlcolorcodes.com/fr/selecteur-de-couleur/ pour comprendre comment fonctionnent les nuances de rouge sur des pixels en décimal (et ce site pour comprendre les pixels en décimal en général http://www.proftnj.com/RGB3.htm).\n",
    "L'algorithme qui suit met quelques secondes à tourner, il sera long s'il est appliqué sur l'ensemble des images de la base de données.\n",
    "Pour mieux réussir à faire ce seuillage en étape 3, on devrait créer une fonction racine carré et prendre toutes les valeurs au dessus de la courbe.\n",
    "Cette fonction est difficile à déterminer... Cependant, on peut la faire uniquement avec deux paramètres : la valeur du rouge et la valeur minimale entre le bleu et le vert. "
   ]
  },
  {
   "cell_type": "code",
   "execution_count": 150,
   "id": "a0408e1d-36c5-46c4-b365-a71bb3676cfe",
   "metadata": {
    "tags": []
   },
   "outputs": [],
   "source": [
    "img = image.array.copy()\n",
    "\n",
    "img = img.transpose(2,1,0)\n",
    "shape = img.shape[0:2]\n",
    "\n",
    "mask = np.empty(shape, dtype = float)\n",
    "\n",
    "\n",
    "# We go through all the pixels and we modify them according to the threshold\n",
    "for row in range(img.shape[0]):\n",
    "    for col in range(img.shape[1]):\n",
    "        b = img[row,col, 1]\n",
    "        g = img[row,col, 2]\n",
    "        r = img[row,col, 3]\n",
    "        mini = min(b,g)\n",
    "        maxi = max(b,g)\n",
    "\n",
    "        if maxi-mini <= 20 : # step 1\n",
    "\n",
    "            if r > 200/255 and mini >= 110/255 and r>= (20/255+mini): # step 2\n",
    "                mask[row, col] = 1.0 # white\n",
    "            elif  r>= (20/255+mini) and r >= 110/255: # step 3\n",
    "                mask[row, col] = 0.0 # black\n",
    "            else : # step 4\n",
    "                mask[row, col] = 1.0 # white\n",
    "\n",
    "        else : # step 4\n",
    "            mask[row, col] = 1.0 # white\n",
    "\n",
    "mask = mask.transpose(1,0)\n",
    "\n",
    "plt.imshow(mask, cmap='gray')\n",
    "plt.show()"
   ]
  },
  {
   "cell_type": "markdown",
   "id": "9a19b71e-8936-4c0d-b210-bd5fb3eb7f68",
   "metadata": {},
   "source": [
    "Ici, la 2ème méthode est plus effective. En effet, on prend en compte que certains toits vont refleter les ondes infrarouges et donc sortir comme rouge clair une fois l'image convertie en RGB. Cependant, la méthode du seuillage sur l'infrarouge reste la plus simple : méthode concise et temps de calcul plus rapide. Les résultats semblent globalement bon dans les deux cas. A voir quelle méthode se généralise le mieux..."
   ]
  },
  {
   "cell_type": "markdown",
   "id": "5eaeda3c-2506-4fde-b2d9-c00c6eacba0d",
   "metadata": {},
   "source": [
    "## Essai au cas où : Détection de contours"
   ]
  },
  {
   "cell_type": "code",
   "execution_count": 57,
   "id": "845b651a-8969-4dc6-930f-b571282ff135",
   "metadata": {
    "tags": []
   },
   "outputs": [],
   "source": [
    "#On récupère l'image au format RGB puis on la transforme en png pour pouvoir l'utiliser avec OpenCV\n",
    "img = image.array\n",
    "\n",
    "img = img[[0,1,2],:, :]\n",
    "\n",
    "img = (img*255).astype(np.uint8)\n",
    "\n",
    "#convertir l'array en image PIL pour ensuite l'avoir en png\n",
    "img = im.fromarray(img.transpose(1, 2, 0).astype('uint8'), 'RGB')\n",
    "\n",
    "#enregistrer l'image en tant que fichier PNG pour pouvoir utiliser OpenCV\n",
    "img.save('masque.png')"
   ]
  },
  {
   "cell_type": "markdown",
   "id": "37fca216-a29f-4097-8019-25aa552a2a37",
   "metadata": {},
   "source": [
    "Afin de ne pas faire crasher le kernel, nous allons préalablement créer des fonctions d'affichage des images avec OpenCV (la fonction de base cv2.imshow() fait crasher le kernel)"
   ]
  },
  {
   "cell_type": "code",
   "execution_count": 58,
   "id": "eb22ec9b-09dd-41b9-a12a-fea8d182ba90",
   "metadata": {
    "tags": []
   },
   "outputs": [],
   "source": [
    "#images en nuances de gris\n",
    "def cv2_imshow(a, **kwargs):\n",
    "    a = a.clip(0, 255).astype('uint8')\n",
    "    if a.ndim == 3:\n",
    "        if a.shape[2] == 4:\n",
    "            a = cv2.cvtColor(a, cv2.COLOR_RGBA2BGRA)\n",
    "        else:\n",
    "            a = cv2.cvtColor(a, cv2.COLOR_RGB2BGR)\n",
    "\n",
    "    return plt.imshow(a, **kwargs, cmap= \"gray\")\n",
    "\n",
    "#images en couleurs\n",
    "def cv2_imshow2(a, **kwargs):\n",
    "    a = a.clip(0, 255).astype('uint8')\n",
    "    if a.ndim == 3:\n",
    "        if a.shape[2] == 4:\n",
    "            a = cv2.cvtColor(a, cv2.COLOR_RGBA2BGRA)\n",
    "        else:\n",
    "            a = cv2.cvtColor(a, cv2.COLOR_RGB2BGR)\n",
    "\n",
    "    return plt.imshow(a, **kwargs, cmap= \"brg\")"
   ]
  },
  {
   "cell_type": "code",
   "execution_count": 63,
   "id": "91b2faff-f175-44eb-b80d-742c1dcfd130",
   "metadata": {
    "tags": []
   },
   "outputs": [],
   "source": [
    "#on lit l'image avec OpenCV\n",
    "img = cv2.imread('masque.png')\n",
    "\n",
    "#avoir le bon format : ici on veut RGB (la transposée nous a fait passer en BGR)\n",
    "img = cv2.cvtColor(img, cv2.COLOR_BGR2RGB)\n",
    "\n",
    "# Grayscale\n",
    "gray = cv2.cvtColor(img, cv2.COLOR_BGR2GRAY)\n",
    "  \n",
    "# Find Canny edges\n",
    "edged = cv2.Canny(gray, 100, 1000)\n",
    "  \n",
    "# Finding Contours\n",
    "# Use a copy of the image e.g. edged.copy()\n",
    "# since findContours alters the image\n",
    "contours, hierarchy = cv2.findContours(edged, \n",
    "    cv2.RETR_EXTERNAL, cv2.CHAIN_APPROX_NONE)\n",
    "    \n",
    "img_contours = cv2.drawContours(img, contours, -1, (0, 255, 0), 5)\n",
    "cv2_imshow2(img_contours)"
   ]
  },
  {
   "cell_type": "markdown",
   "id": "51ae16a6-3da0-4149-8f21-5623a49e30ea",
   "metadata": {},
   "source": [
    "Ce qui serait intéressant de faire, c'est de prendre en entrée des images où on sait qu'il y a des bidonvilles, on enlève la végétation avec la méthode 2 mais on garde les couleurs de base sur les pixels sans végétation et ensuite on classifie ces pixels avec un algo des k-means. Comme ça, on peut faire plusieurs classes d'objets : routes, gros bâtiments, maisons, bidonvilles. On determine à la main quelle classe correspond à quel type d'objets. Puis on fait un masque binaire : en blanc les pixels dans la classe bidonville, en noir le reste. Cela pourrait nous aider à constituer des données d'apprentissage."
   ]
  },
  {
   "cell_type": "markdown",
   "id": "3f795384-7341-4e32-a22c-bcbf9aec651c",
   "metadata": {},
   "source": [
    "## Maintenant, il serait intéressant de comparer deux images d'un même lieu sur deux périodes données où on sait qu'il y a eu une création/destruction de bâtiment entre temps."
   ]
  },
  {
   "cell_type": "markdown",
   "id": "95d768b0-ca86-455e-b1f6-3fece9addbb9",
   "metadata": {},
   "source": [
    "## Idée globale : \n",
    "Trouver un lieu où il y a eu une construction/destruction de bâtiments entre deux millésimes et appliquer la méthode pour obtenir un masque sur les deux images infrarouge du même lieu à deux période données. Ensuite superposer ces deux masques et faire des différences de pixels : les différences sortiront en blanc et les similarités en noir. Pour finir, on veut lisser l'image, c'est à dire trouver un seuil à partir duquel on considère qu l'amas de pixels représente un changement significatif. \n",
    "\n",
    "La première difficulté ici est de trouver deux images différentes d'un même lieu. On va parcourir les données pour savoir si c'est possible ou si c'est irréalisable sans faire de transformation."
   ]
  },
  {
   "cell_type": "code",
   "execution_count": 10,
   "id": "c1e29d62-55e4-4679-aaaa-30ad4e17eb3c",
   "metadata": {
    "tags": []
   },
   "outputs": [],
   "source": [
    "#image 1\n",
    "filename_1 = '../data/PLEIADES/2022/MARTINIQUE/ORT_2022_0697_1640_U20N_8Bits.jp2'\n",
    "date_1 = date.fromisoformat('2022-01-01')"
   ]
  },
  {
   "cell_type": "code",
   "execution_count": 11,
   "id": "c90eddea-d695-4c4e-b118-783580e1c6ad",
   "metadata": {
    "tags": []
   },
   "outputs": [],
   "source": [
    "image_1 = SatelliteImage.from_raster(\n",
    "        filename_1,\n",
    "        date = date_1, \n",
    "        n_bands = 3,\n",
    "        dep = \"972\"\n",
    "    )\n",
    "image_1.normalize()"
   ]
  },
  {
   "cell_type": "code",
   "execution_count": null,
   "id": "b3436f51-7b12-47fd-8d74-bd43e12877c7",
   "metadata": {
    "tags": []
   },
   "outputs": [],
   "source": [
    "image_1.plot([0,1,2])"
   ]
  },
  {
   "cell_type": "markdown",
   "id": "b7039f4b-e199-4fa4-9727-bd86dcff7a5c",
   "metadata": {},
   "source": [
    "Avant tout, on peut noter que le nom du fichier contient les coordonnées left-top du boundingbox de l'image, donc on est pas olbigés d'ouvrir l'image pour savoir quelles sont ses coordonnées. En effet, pour retrouver les coordonnées du carré de la bounding box, il faut rajouter 1000.0 à left pour obtenir right et enlever 1000.0 à top pour obtenir bottom."
   ]
  },
  {
   "cell_type": "markdown",
   "id": "1c2a1061-febb-414e-9dae-100119bf7793",
   "metadata": {
    "tags": []
   },
   "source": [
    "On créé des fonctions crs_to_gps() et gps_to_crs() pour retrouver l'image sur google maps grâce à ses coordonnées crs transformées en gps et inversement, pour retrouver un point gps repéré sur Google Maps et le situer sur les images de la base de données grâce à ses données crs."
   ]
  },
  {
   "cell_type": "code",
   "execution_count": 17,
   "id": "69f3a191-3d82-47c2-8964-0f83bd5aede1",
   "metadata": {
    "tags": []
   },
   "outputs": [],
   "source": [
    "def crs_to_gps_image(satellite_image = None, filepath = None) :\n",
    "    \n",
    "    if satellite_image != None:\n",
    "        folder_path = '../data/PLEIADES/' + str((satellite_image.date).year) + '/' + mapps.num_dep_to_name_dep[satellite_image.dep]\n",
    "        filepath = folder_path + '/' + satellite_image.filename\n",
    "\n",
    "    delimiters = [\"-\", \"_\"]\n",
    "\n",
    "    pattern = \"|\".join(delimiters)\n",
    "\n",
    "    split_filepath = re.split(pattern, filepath)\n",
    "\n",
    "    x = float(split_filepath[2])*1000 #left\n",
    "    y = float(split_filepath[3])*1000 #top\n",
    "    \n",
    "    delimiters = [\"/\"]\n",
    "\n",
    "    pattern = \"|\".join(delimiters)\n",
    "\n",
    "    split_filepath = re.split(pattern, filepath)\n",
    "    \n",
    "    dep_num = mapps.name_dep_to_num_dep[split_filepath[4]]\n",
    "    str_crs = mapps.dep_to_crs[dep_num]\n",
    "    \n",
    "    transformer = Transformer.from_crs(str_crs, 'EPSG:4326',always_xy=True) \n",
    "    lon, lat = transformer.transform(x,y)\n",
    "    \n",
    "    # Retourner les coordonnées GPS (latitude, longitude)\n",
    "    return lat, lon"
   ]
  },
  {
   "cell_type": "code",
   "execution_count": 18,
   "id": "4d5b636a-9ac2-48eb-bd1d-05e8f1ea3f59",
   "metadata": {
    "tags": []
   },
   "outputs": [],
   "source": [
    "crs_to_gps_image(image_1) #test"
   ]
  },
  {
   "cell_type": "code",
   "execution_count": 19,
   "id": "b3e54131-d47d-4cb3-a534-0990e3d3121f",
   "metadata": {
    "tags": []
   },
   "outputs": [],
   "source": [
    "crs_to_gps_image(None, filename_1)"
   ]
  },
  {
   "cell_type": "code",
   "execution_count": 13,
   "id": "767af233-fde7-42ce-8950-4e5665beda39",
   "metadata": {
    "tags": []
   },
   "outputs": [],
   "source": [
    "from pyproj import Transformer"
   ]
  },
  {
   "cell_type": "code",
   "execution_count": 196,
   "id": "4d89521f-ebc0-4e88-ba3f-a31adc5a1db3",
   "metadata": {
    "tags": []
   },
   "outputs": [],
   "source": [
    "def gps_to_crs_point(lat,lon,crs) :\n",
    "    # Convertir les coordonnées GPS en coordonnées dans le système de coordonnées de destination (CRS)\n",
    "    transformer = pyproj.Transformer.from_crs('EPSG:4326','EPSG:'+str(crs),always_xy=True) #au cas où le CRS en entrée est de type entier \n",
    "    x, y = transformer.transform(lon, lat) #car y=lat et x=lon, les coordonnées gps sont en (lat,lon)\n",
    "    \n",
    "    # Retourner les coordonnées dans le CRS spécifié\n",
    "    return x, y\n"
   ]
  },
  {
   "cell_type": "code",
   "execution_count": 191,
   "id": "28b7edce-0ac6-4482-9bcd-390bdcb9f814",
   "metadata": {
    "tags": []
   },
   "outputs": [],
   "source": [
    "gps_to_crs_point(14.636195717948983, -61.04095442371388, '5490') #test (on devrait avoir 697000 et 1640000...)"
   ]
  },
  {
   "cell_type": "markdown",
   "id": "9ca7edfb-6bce-4aca-8c4e-6af22aa0c476",
   "metadata": {},
   "source": [
    "* (14.623226, -61.067901) correspond à des coordonnées gps du quartier de Trénelle Citron à Fort de France avec des habitations de fortune (https://www.google.com/url?sa=t&rct=j&q=&esrc=s&source=web&cd=&cad=rja&uact=8&ved=2ahUKEwiS_Y3mvYT-AhXKyKQKHf5KBVoQFnoECAwQAQ&url=https%3A%2F%2Fwww.lemonde.fr%2Fpolitique%2Farticle%2F2009%2F10%2F15%2Fle-quartier-de-trenelle-a-fort-de-france-illustre-le-delabrement-de-l-habitat-en-outre-mer_1254357_823448.html&usg=AOvVaw2v1Gc_-kLh-CMDzK5ctPb-).\n",
    "* (14.635338, -61.038345) plateau médico-technique construit en 2018 (côté droit du triangle). \n",
    "Essayons de retrouver l'image qui le contient."
   ]
  },
  {
   "cell_type": "code",
   "execution_count": 21,
   "id": "f2f9856e-2007-4875-8d6c-57da1e3a3a60",
   "metadata": {
    "tags": []
   },
   "outputs": [],
   "source": [
    "def find_image_of_point(coordinate : list, folder_path, coord_gps = False) :\n",
    "    \n",
    "    if coord_gps == True :  \n",
    "        #récupérer le crs via le département\n",
    "        delimiter = [\"/\"]\n",
    "\n",
    "        pattern = \"|\".join(delimiter)\n",
    "\n",
    "        split_folder = re.split(pattern, folder_path)\n",
    "\n",
    "        departement = split_folder[4]\n",
    "        dep_num = mapps.name_dep_to_num_dep[departement]\n",
    "        crs = mapps.dep_to_crs[dep_num]\n",
    "        \n",
    "        lat, lon = coordinate\n",
    "        x,y = gps_to_crs_point(lat,lon,crs) \n",
    "    else :\n",
    "        x,y = coordinate\n",
    "        \n",
    "    #récupérer les coordonnées left-top\n",
    "    delimiters = [\"-\", \"_\"]\n",
    "\n",
    "    pattern = \"|\".join(delimiters)\n",
    "        \n",
    "    for filename in os.listdir(folder_path):\n",
    "\n",
    "        split_filename = re.split(pattern, filename)\n",
    "\n",
    "        left = float(split_filename[2])*1000\n",
    "        top = float(split_filename[3])*1000\n",
    "        right = left + 1000.0\n",
    "        bottom = top - 1000.0\n",
    "\n",
    "        if left <= x <= right:\n",
    "            if bottom <= y <= top:\n",
    "                return(folder_path + '/' +filename)\n",
    "    else : \n",
    "        return(\"Le point n'est pas retrouvé dans ce fichier d'images\")\n"
   ]
  },
  {
   "cell_type": "markdown",
   "id": "f73561c4-bf19-4ff7-b13a-6eff8c8ff5db",
   "metadata": {},
   "source": [
    "Vérifions la fonction avec les coordonnées left-top de l'image 1"
   ]
  },
  {
   "cell_type": "code",
   "execution_count": 22,
   "id": "b289a2ed-a94a-419f-b9e0-8ee32b376040",
   "metadata": {
    "tags": []
   },
   "outputs": [],
   "source": [
    "find_image_of_point([713000.0, 1606000.0], '../data/PLEIADES/2022/MARTINIQUE') "
   ]
  },
  {
   "cell_type": "markdown",
   "id": "12419939-832d-49ed-abeb-dae6776e5fbb",
   "metadata": {
    "tags": []
   },
   "source": [
    "Image des coordonnées recherchées"
   ]
  },
  {
   "cell_type": "code",
   "execution_count": 195,
   "id": "84a59070-af07-4c6a-b0d4-24c81213cb64",
   "metadata": {
    "tags": []
   },
   "outputs": [],
   "source": [
    "find_image_of_point([14.635338, -61.038345], '../data/PLEIADES/2022/MARTINIQUE', coord_gps = True)"
   ]
  },
  {
   "cell_type": "code",
   "execution_count": 230,
   "id": "e49e59ad-55a1-4fb9-82df-1c0bfbf05500",
   "metadata": {
    "tags": []
   },
   "outputs": [],
   "source": [
    "def find_image_different_years(different_year : int, satellite_image = None, filepath : str = None) :\n",
    "    \n",
    "    if satellite_image != None:\n",
    "        folder_path = '../data/PLEIADES/' + str((satellite_image.date).year) + '/' + mapps.num_dep_to_name_dep[satellite_image.dep]\n",
    "        filepath = folder_path + '/'+ satellite_image.filename\n",
    "    \n",
    "    #récupérer le département de base\n",
    "    delimiter = [\"/\"]\n",
    "\n",
    "    pattern = \"|\".join(delimiter)\n",
    "\n",
    "    split_folder = re.split(pattern, filepath)\n",
    "\n",
    "    departement_base = split_folder[4]\n",
    "    dep_num_base = mapps.name_dep_to_num_dep[departement_base]\n",
    "    \n",
    "    folder_path = '../data/PLEIADES/'+str(different_year)+'/'+departement_base\n",
    "    \n",
    "    #récupérer les coordonnées left-top\n",
    "    if filepath.find('_') != -1 :\n",
    "        delimiter = [\"_\"]\n",
    "        \n",
    "    elif filepath.find('-') != -1 :\n",
    "        delimiter = [\"-\"]\n",
    "        \n",
    "    pattern = \"|\".join(delimiter)\n",
    "        \n",
    "    split_filepath = re.split(pattern, filepath)\n",
    "        \n",
    "    filename = os.listdir(folder_path)[0]\n",
    "    \n",
    "    if filename.find('_') != -1 :\n",
    "        delimiter = [\"_\"]\n",
    "        \n",
    "    elif filename.find('-') != -1 :\n",
    "        delimiter = [\"-\"]    \n",
    "        \n",
    "    pattern = \"|\".join(delimiter)\n",
    "    \n",
    "    split_filename = re.split(pattern, filename)\n",
    "\n",
    "    split_filename[2] = split_filepath[2]\n",
    "    split_filename[3] = split_filepath[3]\n",
    "    \n",
    "    return(folder_path+ '/' +delimiter[0].join(split_filename))\n"
   ]
  },
  {
   "cell_type": "markdown",
   "id": "b0d61147-601a-4e4d-851f-d7bec8606750",
   "metadata": {},
   "source": [
    "## Fonction d'affichage de plusieurs images"
   ]
  },
  {
   "cell_type": "markdown",
   "id": "52dc99fb-929c-4f3a-84f5-6b0761fc2dfb",
   "metadata": {},
   "source": [
    "Choisir une image et faire un plot avec les x images qui l'entourent à une distance d. Par exemple, si on a une image et qu'on choisit d'afficher toutes les images qui l'entourent d'une distance 1, on va avoir un carré 3x3 avec l'image au centre. Distance 2 : carré 5x5 etc..."
   ]
  },
  {
   "cell_type": "code",
   "execution_count": 9,
   "id": "df71c37e-c4bb-4925-afd3-6e7b84f600f0",
   "metadata": {
    "tags": []
   },
   "outputs": [],
   "source": [
    "def plot_square_images(bands_indices: list, distance = 1, satellite_image = None, filepath_center_image = None):\n",
    "    \n",
    "    #récupérer le path du dossier\n",
    "    delimiter = [\"/\"]\n",
    "\n",
    "    pattern = \"|\".join(delimiter)\n",
    "\n",
    "    split_filepath_center = re.split(pattern, filepath_center_image)\n",
    "\n",
    "    folder_path = \"/\".join(split_filepath_center[0:5])\n",
    "    \n",
    "    if satellite_image != None:\n",
    "        folder_path = '../data/PLEIADES/' + str((satellite_image.date).year) + '/' + num_dep_to_name_dep[satellite_image.dep]\n",
    "        filepath_center_image = folder_path + '/'+ satellite_image.filename\n",
    "    \n",
    "    else :\n",
    "        \n",
    "        #récupérer l'année et le département\n",
    "        annee = split_filepath_center[3]\n",
    "        departement = split_filepath_center[4]\n",
    "        dep_num = name_dep_to_num_dep[departement]\n",
    "\n",
    "        #récupérer les coordonnées left-top de l'image du centre\n",
    "        delimiters = [\"-\", \"_\"]\n",
    "\n",
    "        pattern = \"|\".join(delimiters)\n",
    "\n",
    "        split_filepath_center = re.split(pattern, filepath_center_image)\n",
    "\n",
    "        left_center = float(split_filepath_center[2])*1000\n",
    "        top_center = float(split_filepath_center[3])*1000\n",
    "\n",
    "        list_images = []\n",
    "        list_images_path = []\n",
    "\n",
    "        for filename in os.listdir(folder_path):\n",
    "\n",
    "            #récupérer les coordonnées left-top de toutes les images\n",
    "            split_filename = re.split(pattern, filename)\n",
    "\n",
    "            left = float(split_filename[2])*1000.0\n",
    "            top = float(split_filename[3])*1000.0\n",
    "\n",
    "            if left_center - distance*1000.0 <= left <= left_center + distance*1000.0:\n",
    "                if top_center - distance*1000.0 <= top <= top_center + distance*1000.0:\n",
    "                    image = SatelliteImage.from_raster(\n",
    "                            folder_path + '/' +filename,\n",
    "                            date = date.fromisoformat(annee + '-01-01'), \n",
    "                            n_bands = len(bands_indices),\n",
    "                            dep = dep_num\n",
    "                        )\n",
    "                    image.normalize()\n",
    "                    list_images.append(image)\n",
    "                    list_images_path.append(image.filename)\n",
    "\n",
    "    plot_list_satellite_images(list_images, bands_indices)"
   ]
  }
 ],
 "metadata": {
  "kernelspec": {
   "display_name": "Python 3 (ipykernel)",
   "language": "python",
   "name": "python3"
  },
  "language_info": {
   "codemirror_mode": {
    "name": "ipython",
    "version": 3
   },
   "file_extension": ".py",
   "mimetype": "text/x-python",
   "name": "python",
   "nbconvert_exporter": "python",
   "pygments_lexer": "ipython3",
   "version": "3.10.9"
  }
 },
 "nbformat": 4,
 "nbformat_minor": 5
}
