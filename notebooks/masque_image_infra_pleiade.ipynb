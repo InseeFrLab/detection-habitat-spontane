{
 "cells": [
  {
   "cell_type": "markdown",
   "id": "4fbe6a13-7e2f-4639-b9af-58bef0d9077e",
   "metadata": {},
   "source": [
    "# But : Créer un masque de la ville sans végétation avec l'image infrarouge Pléiade."
   ]
  },
  {
   "cell_type": "code",
   "execution_count": 1,
   "id": "086b554f-d051-4f64-9858-dd71898eda96",
   "metadata": {
    "tags": []
   },
   "outputs": [],
   "source": [
    "%load_ext autoreload\n",
    "%autoreload 2"
   ]
  },
  {
   "cell_type": "code",
   "execution_count": 4,
   "id": "d5522f9f-c28f-43d0-8812-b97f5d723e29",
   "metadata": {
    "tags": []
   },
   "outputs": [],
   "source": [
    "! pip install rasterio  -q -q -q\n",
    "! pip install geopandas -q -q -q\n",
    "! pip install matplotlib -q -q -q"
   ]
  },
  {
   "cell_type": "code",
   "execution_count": 3,
   "id": "a3a7fd05-5b7f-4c68-8125-6aaa8c5d7ac7",
   "metadata": {
    "tags": []
   },
   "outputs": [],
   "source": [
    "!pip install pyarrow\n",
    "!pip install opencv-python\n",
    "!pip install os-sys"
   ]
  },
  {
   "cell_type": "code",
   "execution_count": 2,
   "id": "f9fa2d88-9811-4141-95ac-9fa40385cf2a",
   "metadata": {
    "tags": []
   },
   "outputs": [],
   "source": [
    "import sys\n",
    "sys.path.append('../src')\n",
    "from satellite_image import SatelliteImage\n",
    "from utils import *"
   ]
  },
  {
   "cell_type": "markdown",
   "id": "127de47f-be5a-41c4-aae6-bc9b617fbffe",
   "metadata": {},
   "source": [
    "lancer ca dans le terminal avant d'importer cv2 :\n",
    "sudo apt-get update\n",
    "sudo apt-get install ffmpeg libsm6 libxext6 -y\n",
    "sudo apt-get install libgl1"
   ]
  },
  {
   "cell_type": "code",
   "execution_count": 3,
   "id": "d341d1d8-c068-44fe-a520-e6d26b918c4b",
   "metadata": {
    "tags": []
   },
   "outputs": [],
   "source": [
    "import yaml\n",
    "import re\n",
    "import s3fs\n",
    "import numpy as np\n",
    "import matplotlib.pyplot as plt\n",
    "import cv2\n",
    "from PIL import Image as im"
   ]
  },
  {
   "cell_type": "code",
   "execution_count": 4,
   "id": "f0e2ebdb-a1c7-4f1e-a0b8-714e40e8ced1",
   "metadata": {
    "tags": []
   },
   "outputs": [],
   "source": [
    "update_storage_access()"
   ]
  },
  {
   "cell_type": "code",
   "execution_count": 5,
   "id": "237ab0fc-2df3-4c0c-9d4e-f42b1b009510",
   "metadata": {
    "tags": []
   },
   "outputs": [],
   "source": [
    "environment = get_environment()\n",
    "\n",
    "root_path = get_root_path()\n",
    "bucket = environment[\"bucket\"]\n",
    "path_s3_cayenne_data = environment[\"sources\"][\"PLEIADES\"][2022][\"guyane\"]\n",
    "path_local_cayenne_data = os.path.join(root_path, environment[\"local-path\"][\"PLEIADES\"][2022][\"guyane\"])\n",
    "bucket = environment[\"bucket\"]\n",
    "\n",
    "path_s3_pleiades_data = environment[\"sources\"][\"PLEIADES\"][2022][\"guyane\"]\n",
    "path_s3_bdtopo_data = environment[\"sources\"][\"BDTOPO\"][2022][\"guyane\"]\n",
    "path_local_pleiades_data = environment[\"local-path\"][\"PLEIADES\"][2022][\"guyane\"]\n",
    "path_local_bdtopo_data = environment[\"local-path\"][\"BDTOPO\"][2022][\"guyane\"]\n",
    "\n",
    "\n",
    "fs = s3fs.S3FileSystem(client_kwargs={\"endpoint_url\": \"https://minio.lab.sspcloud.fr\"})"
   ]
  },
  {
   "cell_type": "code",
   "execution_count": 6,
   "id": "26aefa23-7dd1-42f7-ab78-c097e35e5559",
   "metadata": {
    "tags": []
   },
   "outputs": [],
   "source": [
    "# DL PLEIADE\n",
    "fs.download(\n",
    "        rpath=f\"{bucket}/{path_s3_pleiades_data}\",\n",
    "        lpath=f\"../{path_local_pleiades_data}\",\n",
    "        recursive=True)"
   ]
  },
  {
   "cell_type": "code",
   "execution_count": 7,
   "id": "941f179e-4f19-4687-91e1-6e62da13269a",
   "metadata": {
    "tags": []
   },
   "outputs": [],
   "source": [
    "# DL BDTOPO\n",
    "fs.download(\n",
    "        rpath=f\"{bucket}/{path_s3_bdtopo_data}\",\n",
    "        lpath=f\"../{path_local_bdtopo_data}\",\n",
    "        recursive=True)"
   ]
  },
  {
   "cell_type": "markdown",
   "id": "9f367887-1afb-45f1-a9d1-22509c9d6014",
   "metadata": {
    "tags": []
   },
   "source": [
    "## Chargement données pléiades."
   ]
  },
  {
   "cell_type": "code",
   "execution_count": 14,
   "id": "d5729069-8177-41dc-92cc-098c34c881e7",
   "metadata": {
    "tags": []
   },
   "outputs": [],
   "source": [
    "filename = '../data/PLEIADES/2022/GUYANE/ORT_2022072050325085_0353_0545_U22N_16Bits.jp2'\n",
    "date = datetime.strptime(re.search(r'ORT_(\\d{8})', filename).group(1), '%Y%m%d')\n",
    "date"
   ]
  },
  {
   "cell_type": "code",
   "execution_count": 124,
   "id": "439fb99a-0819-4c80-9f87-426663e78782",
   "metadata": {
    "tags": []
   },
   "outputs": [],
   "source": [
    "image = SatelliteImage.from_raster(\n",
    "        filename,\n",
    "        date = date, \n",
    "        n_bands = 4,\n",
    "        dep = \"973\"\n",
    "    )\n",
    "image.normalize()"
   ]
  },
  {
   "cell_type": "markdown",
   "id": "b62205f2-b2c4-434a-b97e-0bb34083e9e7",
   "metadata": {},
   "source": [
    "## Idée globale : si le pixel est rouge, le changer en noir, le reste en blanc.\n",
    "Pour cela, il faut fixer des seuils : quels nuances de rouges colorier en noir ou en blanc ?\n",
    "Ici les pixels seront en décimal "
   ]
  },
  {
   "cell_type": "markdown",
   "id": "b2886db7-ca00-40e5-9e68-8869d2c86562",
   "metadata": {},
   "source": [
    "## Méthode 1 : Seuillage sur l'infrarouge.\n"
   ]
  },
  {
   "cell_type": "code",
   "execution_count": 12,
   "id": "2315ccb6-f3b9-4e17-9723-62f456ff61ae",
   "metadata": {
    "tags": []
   },
   "outputs": [],
   "source": [
    "image.plot([0,1,2])\n",
    "image.plot([3,1,2])"
   ]
  },
  {
   "cell_type": "code",
   "execution_count": 125,
   "id": "ea0eb748-fb6b-480d-904f-3bedbe7ac4a1",
   "metadata": {
    "tags": []
   },
   "outputs": [],
   "source": [
    "img = image.array\n",
    "\n",
    "#multiplication par 255 et convertion en uint8 pour avoir le bon format\n",
    "img = (img * 255).astype(np.uint8)\n",
    "\n",
    "img = img.transpose()"
   ]
  },
  {
   "cell_type": "code",
   "execution_count": 126,
   "id": "59a35960-5d99-499e-a4a5-4b089e03e150",
   "metadata": {
    "tags": []
   },
   "outputs": [],
   "source": [
    "np.quantile(img[:,:,3],0.5)"
   ]
  },
  {
   "cell_type": "code",
   "execution_count": 127,
   "id": "957ad721-e506-42f0-af6d-430c03feb1a5",
   "metadata": {
    "tags": []
   },
   "outputs": [],
   "source": [
    "for row in range(img.shape[0]):\n",
    "    for col in range(img.shape[1]):\n",
    "        i = img[row,col,3]\n",
    "        if i > 139: #médiane\n",
    "            img[row, col] = np.array([0, 0, 0,255]) # blanc\n",
    "\n",
    "        else : \n",
    "            img[row, col] = np.array([255,255,255,255]) # noir"
   ]
  },
  {
   "cell_type": "code",
   "execution_count": 128,
   "id": "c2e465ea-5fc7-44ef-b61b-c850acfe98c0",
   "metadata": {
    "tags": []
   },
   "outputs": [],
   "source": [
    "img = img.transpose()\n",
    "\n",
    "#On veut le bon format\n",
    "img = img.astype(np.float64)\n",
    "\n",
    "image.array = img"
   ]
  },
  {
   "cell_type": "code",
   "execution_count": 129,
   "id": "3a5a0734-e2b8-448d-b679-aee74b814155",
   "metadata": {
    "tags": []
   },
   "outputs": [],
   "source": [
    "image.plot([0,1,2])"
   ]
  },
  {
   "cell_type": "markdown",
   "id": "c56130fb-8d84-44d6-a09d-4813381d639f",
   "metadata": {},
   "source": [
    "## Méthode 2 : transformation de l'image en image RGB en remplacant le rouge par l'infrarouge puis seuillage sur les 3 couleurs.\n",
    "Pour commencer ceci, on veut avoir l'image avec la bande infrarouge en format png pour pouvoir utiliser le package OpenCv."
   ]
  },
  {
   "cell_type": "code",
   "execution_count": 136,
   "id": "85761931-78c8-4fd8-b7b9-a97edfc4f6f8",
   "metadata": {
    "tags": []
   },
   "outputs": [],
   "source": [
    "#on recharge l'image originale\n",
    "image = SatelliteImage.from_raster(\n",
    "        filename,\n",
    "        date = date, \n",
    "        n_bands = 4,\n",
    "        dep = \"973\"\n",
    "    )\n",
    "image.normalize()"
   ]
  },
  {
   "cell_type": "code",
   "execution_count": 138,
   "id": "ff8e4961-2fc8-4e9e-a4a6-3cf9e7b99eb3",
   "metadata": {
    "tags": []
   },
   "outputs": [],
   "source": [
    "img = image.array\n",
    "\n",
    "#multiplication par 255 et convertion en uint8 pour avoir le bon format\n",
    "img = (img * 255).astype(np.uint8)\n",
    "\n",
    "\n",
    "img = img.transpose()\n"
   ]
  },
  {
   "cell_type": "markdown",
   "id": "fe521002-f263-4043-9c84-e36b770c4e45",
   "metadata": {},
   "source": [
    "* Etape 1 : Pour que le pixel soit une nuance de rouge, il faut d'abord vérifier si les valeurs verte et bleue sont proches.\n",
    "* Etape 2 : On décide que les nuances de rouge très claires correspondent à des toits de bâtiments.\n",
    "* Etape 3 : On fixe le seuil de la valeur rouge à 110 et la valeur de rouge avec une autre couleur doit être supérieure à 20 minimum.\n",
    "* Etape 4 : Si le pixel ne vérifie aucune des étapes précédentes, alors il est colorié automatiquement en blanc."
   ]
  },
  {
   "cell_type": "markdown",
   "id": "e7f48575-3573-45e1-a227-946c7ec8f6bc",
   "metadata": {},
   "source": [
    "Pour fixer ce seuil, des tests visuels ont été effectués et on a utilisé ce site https://htmlcolorcodes.com/fr/selecteur-de-couleur/ pour comprendre comment fonctionnent les nuances de rouge sur des pixels en décimal (et ce site pour comprendre les pixels en décimal en général http://www.proftnj.com/RGB3.htm).\n",
    "L'algorithme qui suit met quelques secondes à tourner, il sera long s'il est appliqué sur l'ensemble des images de la base de données.\n",
    "Pour mieux réussir à faire ce seuillage en étape 3, on devrait créer une fonction racine carré et prendre toutes les valeurs au dessus de la courbe.\n",
    "Cette fonction est difficile à déterminer... Cependant, on peut la faire uniquement avec deux paramètres : la valeur du rouge et la valeur minimale entre le bleu et le vert. "
   ]
  },
  {
   "cell_type": "code",
   "execution_count": 139,
   "id": "900a6a7d-ca06-41d6-b417-2a4b737e6699",
   "metadata": {
    "tags": []
   },
   "outputs": [],
   "source": [
    "# On va parcourir tous les pixels de l'image\n",
    "for row in range(img.shape[0]):\n",
    "    for col in range(img.shape[1]):\n",
    "        b = img[row,col, 0]\n",
    "        g = img[row,col, 1]\n",
    "        r = img[row,col, 2]\n",
    "        mini = min(b,g)\n",
    "        maxi = max(b,g)\n",
    "        \n",
    "        if maxi-mini <= 20 : #étape 1\n",
    "            \n",
    "            if r > 200 and mini >= 110 and r>= (20+mini): #étape 2\n",
    "                img[row, col] = [0, 0, 0,255] # blanc\n",
    "            elif  r>= (20+mini) and r >= 110: #étape 3\n",
    "                img[row, col] = [255, 255, 255,255] #noir\n",
    "            else : #étape 4\n",
    "                img[row, col] = [0, 0, 0,255] # blanc\n",
    "\n",
    "        else : #étape 4\n",
    "            img[row, col] = [0, 0, 0,255] # blanc"
   ]
  },
  {
   "cell_type": "code",
   "execution_count": 140,
   "id": "5d3a6715-c56c-4e4b-b1ed-9866ae9d1a67",
   "metadata": {
    "tags": []
   },
   "outputs": [],
   "source": [
    "img = img.transpose()\n",
    "\n",
    "#On veut le bon format\n",
    "img = img.astype(np.float64)\n",
    "\n",
    "image.array = img"
   ]
  },
  {
   "cell_type": "code",
   "execution_count": 141,
   "id": "9d0ed163-a6c8-499b-a4c1-1065448baf9f",
   "metadata": {
    "tags": []
   },
   "outputs": [],
   "source": [
    "image.plot([0,1,2])"
   ]
  },
  {
   "cell_type": "markdown",
   "id": "2c12936e-b8eb-4100-a6e6-06d59b0242ee",
   "metadata": {},
   "source": [
    "## Maintenant, il serait intéressant de comparer deux images où on sait qu'il y a eu une création de bâtiment."
   ]
  },
  {
   "cell_type": "markdown",
   "id": "5eaeda3c-2506-4fde-b2d9-c00c6eacba0d",
   "metadata": {},
   "source": [
    "essai au cas où : détections de contours"
   ]
  },
  {
   "cell_type": "code",
   "execution_count": 142,
   "id": "bbd98a8d-980e-4954-897b-51eba90b6434",
   "metadata": {
    "tags": []
   },
   "outputs": [],
   "source": [
    "#on recharge l'image originale\n",
    "image = SatelliteImage.from_raster(\n",
    "        filename,\n",
    "        date = date, \n",
    "        n_bands = 4,\n",
    "        dep = \"973\"\n",
    "    )\n",
    "image.normalize()"
   ]
  },
  {
   "cell_type": "code",
   "execution_count": 143,
   "id": "845b651a-8969-4dc6-930f-b571282ff135",
   "metadata": {
    "tags": []
   },
   "outputs": [],
   "source": [
    "#On va d'abord récuperer l'array avec la bande infrarouge \n",
    "#faire un array sans la couleur rouge pour l'image\n",
    "if not image.normalized:\n",
    "    image.normalize() \n",
    "img = image.array\n",
    "\n",
    "#avoir la bande infrarouge\n",
    "img = img[[3,1,2],:, :]\n",
    "\n",
    "#multiplication par 255 et convertion en uint8 pour avoir le bon format\n",
    "img = (img * 255).astype(np.uint8)\n",
    "\n",
    "#convertir l'array en image PIL pour ensuite l'avoir en png\n",
    "img = im.fromarray(img.transpose(1, 2, 0).astype('uint8'), 'RGB')\n",
    "\n",
    "#enregistrer l'image en tant que fichier PNG pour pouvoir utiliser OpenCV\n",
    "img.save('im50.png')\n",
    "\n"
   ]
  },
  {
   "cell_type": "markdown",
   "id": "37fca216-a29f-4097-8019-25aa552a2a37",
   "metadata": {},
   "source": [
    "Afin de ne pas faire crasher le kernel, nous allons préalablement créer des fonctions d'affichage des images avec OpenCV (la fonction de base cv2.imshow() fait crasher le kernel)"
   ]
  },
  {
   "cell_type": "code",
   "execution_count": 144,
   "id": "eb22ec9b-09dd-41b9-a12a-fea8d182ba90",
   "metadata": {
    "tags": []
   },
   "outputs": [],
   "source": [
    "#images en nuances de gris\n",
    "def cv2_imshow(a, **kwargs):\n",
    "    a = a.clip(0, 255).astype('uint8')\n",
    "    if a.ndim == 3:\n",
    "        if a.shape[2] == 4:\n",
    "            a = cv2.cvtColor(a, cv2.COLOR_RGBA2BGRA)\n",
    "        else:\n",
    "            a = cv2.cvtColor(a, cv2.COLOR_RGB2BGR)\n",
    "\n",
    "    return plt.imshow(a, **kwargs, cmap= \"gray\")\n",
    "\n",
    "#images en couleurs\n",
    "def cv2_imshow2(a, **kwargs):\n",
    "    a = a.clip(0, 255).astype('uint8')\n",
    "    if a.ndim == 3:\n",
    "        if a.shape[2] == 4:\n",
    "            a = cv2.cvtColor(a, cv2.COLOR_RGBA2BGRA)\n",
    "        else:\n",
    "            a = cv2.cvtColor(a, cv2.COLOR_RGB2BGR)\n",
    "\n",
    "    return plt.imshow(a, **kwargs, cmap= \"brg\")"
   ]
  },
  {
   "cell_type": "code",
   "execution_count": 145,
   "id": "8e99aff4-41c6-4d40-ae93-e7c1bdda3a40",
   "metadata": {
    "tags": []
   },
   "outputs": [],
   "source": [
    "#on lit l'image avec OpenCV\n",
    "img = cv2.imread('im50.png', cv2.IMREAD_COLOR)"
   ]
  },
  {
   "cell_type": "code",
   "execution_count": 146,
   "id": "f7cab8c1-8eb1-45ef-b016-76c0d1589445",
   "metadata": {
    "tags": []
   },
   "outputs": [],
   "source": [
    "# On va parcourir tous les pixels de l'image\n",
    "for row in range(img.shape[0]):\n",
    "    for col in range(img.shape[1]):\n",
    "        b = img[row,col, 0]\n",
    "        g = img[row,col, 1]\n",
    "        r = img[row,col, 2]\n",
    "        mini = min(b,g)\n",
    "        maxi = max(b,g)\n",
    "        \n",
    "        if maxi-mini <= 20 : #étape 1\n",
    "            \n",
    "            if r > 200 and mini >= 110 and r>= (20+mini): #étape 2\n",
    "                img[row, col] = [255, 255, 255] # blanc\n",
    "            elif  r>= (20+mini) and r >= 110: #étape 3\n",
    "                img[row, col] = [0, 0, 0] #noir\n",
    "            else : #étape 4\n",
    "                img[row, col] = [255, 255, 255] # blanc\n",
    "\n",
    "        else : #étape 4\n",
    "            img[row, col] = [255, 255, 255] # blanc"
   ]
  },
  {
   "cell_type": "code",
   "execution_count": 147,
   "id": "4998edac-2dc4-45ef-ba9e-f311e26532e1",
   "metadata": {
    "tags": []
   },
   "outputs": [],
   "source": [
    "cv2_imshow2(img)"
   ]
  },
  {
   "cell_type": "code",
   "execution_count": 109,
   "id": "1c814706-8b98-46e5-b453-b11738e9f87d",
   "metadata": {
    "tags": []
   },
   "outputs": [],
   "source": [
    "img = cv2.cvtColor(img, cv2.COLOR_BGR2RGB)"
   ]
  },
  {
   "cell_type": "code",
   "execution_count": 110,
   "id": "91b2faff-f175-44eb-b80d-742c1dcfd130",
   "metadata": {
    "tags": []
   },
   "outputs": [],
   "source": [
    "# Grayscale\n",
    "gray = cv2.cvtColor(img, cv2.COLOR_BGR2GRAY)\n",
    "  \n",
    "# Find Canny edges\n",
    "edged = cv2.Canny(gray, 100, 200)\n",
    "  \n",
    "# Finding Contours\n",
    "# Use a copy of the image e.g. edged.copy()\n",
    "# since findContours alters the image\n",
    "contours, hierarchy = cv2.findContours(edged, \n",
    "    cv2.RETR_EXTERNAL, cv2.CHAIN_APPROX_NONE)\n",
    "\n",
    "    \n",
    "img_contours = cv2.drawContours(image_test, contours, -1, (0, 255, 0), 5)\n",
    "cv2_imshow2(img_contours)"
   ]
  }
 ],
 "metadata": {
  "kernelspec": {
   "display_name": "Python 3 (ipykernel)",
   "language": "python",
   "name": "python3"
  },
  "language_info": {
   "codemirror_mode": {
    "name": "ipython",
    "version": 3
   },
   "file_extension": ".py",
   "mimetype": "text/x-python",
   "name": "python",
   "nbconvert_exporter": "python",
   "pygments_lexer": "ipython3",
   "version": "3.10.9"
  }
 },
 "nbformat": 4,
 "nbformat_minor": 5
}
