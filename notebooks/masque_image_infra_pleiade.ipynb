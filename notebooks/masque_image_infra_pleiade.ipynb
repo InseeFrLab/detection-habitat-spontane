{
 "cells": [
  {
   "cell_type": "markdown",
   "id": "4fbe6a13-7e2f-4639-b9af-58bef0d9077e",
   "metadata": {},
   "source": [
    "# But : Créer un masque sans végétation avec une image infrarouge Pléiade."
   ]
  },
  {
   "cell_type": "code",
   "execution_count": 1,
   "id": "086b554f-d051-4f64-9858-dd71898eda96",
   "metadata": {
    "tags": []
   },
   "outputs": [],
   "source": [
    "%load_ext autoreload\n",
    "%autoreload 2"
   ]
  },
  {
   "cell_type": "code",
   "execution_count": 2,
   "id": "d5522f9f-c28f-43d0-8812-b97f5d723e29",
   "metadata": {
    "tags": []
   },
   "outputs": [],
   "source": [
    "! pip install rasterio  -q -q -q\n",
    "! pip install geopandas -q -q -q\n",
    "! pip install matplotlib -q -q -q"
   ]
  },
  {
   "cell_type": "code",
   "execution_count": 3,
   "id": "a3a7fd05-5b7f-4c68-8125-6aaa8c5d7ac7",
   "metadata": {
    "tags": []
   },
   "outputs": [],
   "source": [
    "!pip install pyarrow\n",
    "!pip install opencv-python\n",
    "!pip install os-sys"
   ]
  },
  {
   "cell_type": "code",
   "execution_count": 4,
   "id": "f9fa2d88-9811-4141-95ac-9fa40385cf2a",
   "metadata": {
    "tags": []
   },
   "outputs": [],
   "source": [
    "import sys\n",
    "sys.path.append('../src')\n",
    "from satellite_image import SatelliteImage\n",
    "from utils import *\n",
    "from plot_utils import *"
   ]
  },
  {
   "cell_type": "markdown",
   "id": "127de47f-be5a-41c4-aae6-bc9b617fbffe",
   "metadata": {},
   "source": [
    "Lancer ça dans le terminal avant d'importer cv2 :\n",
    "* sudo apt-get update\n",
    "* sudo apt-get install ffmpeg libsm6 libxext6 -y\n",
    "* sudo apt-get install libgl1"
   ]
  },
  {
   "cell_type": "code",
   "execution_count": 5,
   "id": "d341d1d8-c068-44fe-a520-e6d26b918c4b",
   "metadata": {
    "tags": []
   },
   "outputs": [],
   "source": [
    "import yaml\n",
    "import re\n",
    "import s3fs\n",
    "import numpy as np\n",
    "import matplotlib.pyplot as plt\n",
    "import cv2\n",
    "from PIL import Image as im"
   ]
  },
  {
   "cell_type": "code",
   "execution_count": 6,
   "id": "0e85ebe9-0368-4da8-ad77-96437e91ac81",
   "metadata": {
    "tags": []
   },
   "outputs": [],
   "source": [
    "from datetime import date"
   ]
  },
  {
   "cell_type": "code",
   "execution_count": 7,
   "id": "f0e2ebdb-a1c7-4f1e-a0b8-714e40e8ced1",
   "metadata": {
    "tags": []
   },
   "outputs": [],
   "source": [
    "update_storage_access()"
   ]
  },
  {
   "cell_type": "code",
   "execution_count": 90,
   "id": "237ab0fc-2df3-4c0c-9d4e-f42b1b009510",
   "metadata": {
    "tags": []
   },
   "outputs": [],
   "source": [
    "environment = get_environment()\n",
    "\n",
    "root_path = get_root_path()\n",
    "\n",
    "bucket = environment[\"bucket\"]\n",
    "\n",
    "#2022\n",
    "#guyane 2022\n",
    "path_s3_pleiades_data_2022_guyane = environment[\"sources\"][\"PLEIADES\"][2022][\"guyane\"]\n",
    "path_local_pleiades_data_2022_guyane = environment[\"local-path\"][\"PLEIADES\"][2022][\"guyane\"]\n",
    "\n",
    "#martinique 2022\n",
    "path_s3_pleiades_data_2022_martinique = environment[\"sources\"][\"PLEIADES\"][2022][\"martinique\"]\n",
    "path_local_pleiades_data_2022_martinique = environment[\"local-path\"][\"PLEIADES\"][2022][\"martinique\"]\n",
    "          \n",
    "#guadeloupe 2022\n",
    "path_s3_pleiades_data_2022_guadeloupe = environment[\"sources\"][\"PLEIADES\"][2022][\"guadeloupe\"]\n",
    "path_local_pleiades_data_2022_guadeloupe = environment[\"local-path\"][\"PLEIADES\"][2022][\"guadeloupe\"]\n",
    "\n",
    "#mayotte 2022\n",
    "path_s3_pleiades_data_2022_mayotte = environment[\"sources\"][\"PLEIADES\"][2022][\"mayotte\"]\n",
    "path_local_pleiades_data_2022_mayotte = environment[\"local-path\"][\"PLEIADES\"][2022][\"mayotte\"]\n",
    "\n",
    "#2020\n",
    "#mayotte 2020\n",
    "path_s3_pleiades_data_2020_mayotte = environment[\"sources\"][\"PLEIADES\"][2020][\"mayotte\"]\n",
    "path_local_pleiades_data_2020_mayotte = environment[\"local-path\"][\"PLEIADES\"][2020][\"mayotte\"]\n",
    "\n",
    "#2019\n",
    "#mayotte 2019\n",
    "path_s3_pleiades_data_2019_mayotte = environment[\"sources\"][\"PLEIADES\"][2019][\"mayotte\"]\n",
    "path_local_pleiades_data_2019_mayotte = environment[\"local-path\"][\"PLEIADES\"][2019][\"mayotte\"]\n",
    "\n",
    "#2018\n",
    "#reunion 2018\n",
    "path_s3_pleiades_data_2018_reunion = environment[\"sources\"][\"PLEIADES\"][2018][\"reunion\"]\n",
    "path_local_pleiades_data_2018_reunion = environment[\"local-path\"][\"PLEIADES\"][2018][\"reunion\"]\n",
    "\n",
    "#2017\n",
    "#martinique 2017\n",
    "path_s3_pleiades_data_2017_martinique = environment[\"sources\"][\"PLEIADES\"][2017][\"martinique\"]\n",
    "path_local_pleiades_data_2017_martinique = environment[\"local-path\"][\"PLEIADES\"][2017][\"martinique\"]\n",
    "\n",
    "#mayotte 2017\n",
    "path_s3_pleiades_data_2017_mayotte = environment[\"sources\"][\"PLEIADES\"][2017][\"mayotte\"]\n",
    "path_local_pleiades_data_2017_mayotte = environment[\"local-path\"][\"PLEIADES\"][2017][\"mayotte\"]\n",
    "\n",
    "fs = s3fs.S3FileSystem(client_kwargs={\"endpoint_url\": \"https://minio.lab.sspcloud.fr\"})"
   ]
  },
  {
   "cell_type": "markdown",
   "id": "9f367887-1afb-45f1-a9d1-22509c9d6014",
   "metadata": {
    "tags": []
   },
   "source": [
    "### Chargement données. Attention ! ne charger que les fichiers qu'on utilise, car pas d'espace sinon."
   ]
  },
  {
   "cell_type": "code",
   "execution_count": 8,
   "id": "26aefa23-7dd1-42f7-ab78-c097e35e5559",
   "metadata": {
    "tags": []
   },
   "outputs": [],
   "source": [
    "# DL PLEIADE guyane 2022 utilisé !\n",
    "fs.download(\n",
    "        rpath=f\"{bucket}/{path_s3_pleiades_data_2022_guyane}\",\n",
    "        lpath=f\"../{path_local_pleiades_data_2022_guyane}\",\n",
    "        recursive=True)"
   ]
  },
  {
   "cell_type": "code",
   "execution_count": 9,
   "id": "9c357008-a7f2-4d97-b885-dfae1afa3a4b",
   "metadata": {
    "tags": []
   },
   "outputs": [],
   "source": [
    "# DL PLEIADE martinique 2022 utilisé !\n",
    "fs.download(\n",
    "        rpath=f\"{bucket}/{path_s3_pleiades_data_2022_martinique}\",\n",
    "        lpath=f\"../{path_local_pleiades_data_2022_martinique}\",\n",
    "        recursive=True)"
   ]
  },
  {
   "cell_type": "code",
   "execution_count": null,
   "id": "4942a5a7-c6df-4ac0-981e-ee7ef23d273a",
   "metadata": {},
   "outputs": [],
   "source": [
    "# DL PLEIADE guadeloupe 2022\n",
    "fs.download(\n",
    "        rpath=f\"{bucket}/{path_s3_pleiades_data_2022_guadeloupe}\",\n",
    "        lpath=f\"../{path_local_pleiades_data_2022_guadeloupe}\",\n",
    "        recursive=True)"
   ]
  },
  {
   "cell_type": "code",
   "execution_count": null,
   "id": "f49c806d-e53e-46bd-9645-b010e15fe56e",
   "metadata": {},
   "outputs": [],
   "source": [
    "# DL PLEIADE mayotte 2022\n",
    "fs.download(\n",
    "        rpath=f\"{bucket}/{path_s3_pleiades_data_2022_mayotte}\",\n",
    "        lpath=f\"../{path_local_pleiades_data_2022_mayotte}\",\n",
    "        recursive=True)"
   ]
  },
  {
   "cell_type": "code",
   "execution_count": null,
   "id": "ad0f15b0-d959-4bdf-8ac5-3eea8554dc3b",
   "metadata": {},
   "outputs": [],
   "source": [
    "# DL PLEIADE mayotte 2020\n",
    "fs.download(\n",
    "        rpath=f\"{bucket}/{path_s3_pleiades_data_2020_mayotte}\",\n",
    "        lpath=f\"../{path_local_pleiades_data_2020_mayotte}\",\n",
    "        recursive=True)"
   ]
  },
  {
   "cell_type": "code",
   "execution_count": null,
   "id": "f194c9ec-7d33-45a1-8385-720ba6cbd408",
   "metadata": {},
   "outputs": [],
   "source": [
    "# DL PLEIADE mayotte 2019\n",
    "fs.download(\n",
    "        rpath=f\"{bucket}/{path_s3_pleiades_data_2019_mayotte}\",\n",
    "        lpath=f\"../{path_local_pleiades_data_2019_mayotte}\",\n",
    "        recursive=True)"
   ]
  },
  {
   "cell_type": "code",
   "execution_count": null,
   "id": "a877a1b3-e40d-4090-8ab4-63bebbafe07f",
   "metadata": {},
   "outputs": [],
   "source": [
    "# DL PLEIADE reunion 2018\n",
    "fs.download(\n",
    "        rpath=f\"{bucket}/{path_s3_pleiades_data_2018_reunion}\",\n",
    "        lpath=f\"../{path_local_pleiades_data_2018_reunion}\",\n",
    "        recursive=True)"
   ]
  },
  {
   "cell_type": "code",
   "execution_count": 57,
   "id": "3862fcf2-8e87-42f1-b8fe-02031942c708",
   "metadata": {
    "tags": []
   },
   "outputs": [],
   "source": [
    "# DL PLEIADE martinique 2017 utilisé !\n",
    "fs.download(\n",
    "        rpath=f\"{bucket}/{path_s3_pleiades_data_2017_martinique}\",\n",
    "        lpath=f\"../{path_local_pleiades_data_2017_martinique}\",\n",
    "        recursive=True)"
   ]
  },
  {
   "cell_type": "code",
   "execution_count": null,
   "id": "370e85e8-0d39-48f3-aae7-d8d04b9ba852",
   "metadata": {},
   "outputs": [],
   "source": [
    "# DL PLEIADE mayotte 2017\n",
    "fs.download(\n",
    "        rpath=f\"{bucket}/{path_s3_pleiades_data_2017_mayotte}\",\n",
    "        lpath=f\"../{path_local_pleiades_data_2017_mayotte}\",\n",
    "        recursive=True)"
   ]
  },
  {
   "cell_type": "markdown",
   "id": "b35a2ca6-b421-454b-9ac1-8c5459de2124",
   "metadata": {},
   "source": [
    "Choisissons une image en Guyane pour faire le masque"
   ]
  },
  {
   "cell_type": "code",
   "execution_count": 10,
   "id": "d5729069-8177-41dc-92cc-098c34c881e7",
   "metadata": {
    "tags": []
   },
   "outputs": [],
   "source": [
    "#image choisie\n",
    "filename = '../data/PLEIADES/2022/GUYANE/ORT_2022072050325085_0353_0545_U22N_16Bits.jp2'\n",
    "date = datetime.strptime(re.search(r'ORT_(\\d{8})', filename).group(1), '%Y%m%d')\n",
    "date"
   ]
  },
  {
   "cell_type": "code",
   "execution_count": 11,
   "id": "439fb99a-0819-4c80-9f87-426663e78782",
   "metadata": {
    "tags": []
   },
   "outputs": [],
   "source": [
    "image = SatelliteImage.from_raster(\n",
    "        filename,\n",
    "        date = date, \n",
    "        n_bands = 4,\n",
    "        dep = \"973\"\n",
    "    )\n",
    "image.normalize()"
   ]
  },
  {
   "cell_type": "code",
   "execution_count": 12,
   "id": "2983a208-20ed-4c37-9d50-5f808a34e25d",
   "metadata": {
    "tags": []
   },
   "outputs": [],
   "source": [
    "np.shape(image.array.transpose())"
   ]
  },
  {
   "cell_type": "markdown",
   "id": "b62205f2-b2c4-434a-b97e-0bb34083e9e7",
   "metadata": {},
   "source": [
    "## Idée globale : si le pixel est rouge, le changer en noir, le reste en blanc.\n",
    "Pour cela, il faut fixer des seuils : quel seuil sur l'infrarouge choisir, quels nuances de rouges colorier en noir ou en blanc ?\n",
    "Ici les pixels seront en décimal."
   ]
  },
  {
   "cell_type": "markdown",
   "id": "b2886db7-ca00-40e5-9e68-8869d2c86562",
   "metadata": {},
   "source": [
    "## Méthode 1 : Seuillage sur l'infrarouge."
   ]
  },
  {
   "cell_type": "markdown",
   "id": "d7d4a4b0-9dfb-4411-b8f1-1d78a48a11b1",
   "metadata": {},
   "source": [
    "Voici l'image en couleurs puis avec l'infrarouge à la place du rouge."
   ]
  },
  {
   "cell_type": "code",
   "execution_count": 13,
   "id": "2315ccb6-f3b9-4e17-9723-62f456ff61ae",
   "metadata": {
    "tags": []
   },
   "outputs": [],
   "source": [
    "image.plot([0,1,2])\n",
    "image.plot([3,1,2])"
   ]
  },
  {
   "cell_type": "code",
   "execution_count": 14,
   "id": "ea0eb748-fb6b-480d-904f-3bedbe7ac4a1",
   "metadata": {
    "tags": []
   },
   "outputs": [],
   "source": [
    "#on extrait l'array de l'image pour avoir les valeurs des pixels\n",
    "img = image.array\n",
    "\n",
    "#multiplication par 255 et convertion en uint8 pour avoir le bon format\n",
    "img = (img * 255).astype(np.uint8)\n",
    "\n",
    "img = img.transpose()"
   ]
  },
  {
   "cell_type": "markdown",
   "id": "f26a748e-332a-48c3-9b1a-29ff2c984b49",
   "metadata": {},
   "source": [
    "On choisit ce seuil en testant plusieurs quantiles et en regardant le meilleur résultat"
   ]
  },
  {
   "cell_type": "code",
   "execution_count": 15,
   "id": "59a35960-5d99-499e-a4a5-4b089e03e150",
   "metadata": {
    "tags": []
   },
   "outputs": [],
   "source": [
    "np.quantile(img[:,:,3],0.5)"
   ]
  },
  {
   "cell_type": "code",
   "execution_count": 16,
   "id": "957ad721-e506-42f0-af6d-430c03feb1a5",
   "metadata": {
    "tags": []
   },
   "outputs": [],
   "source": [
    "#on parcours tous les pixels et on les modifie en fonction du seuil\n",
    "for row in range(img.shape[0]):\n",
    "    for col in range(img.shape[1]):\n",
    "        i = img[row,col,3]\n",
    "        if i > 139: #médiane\n",
    "            img[row, col] = np.array([0, 0, 0,0]) # blanc\n",
    "\n",
    "        else : \n",
    "            img[row, col] = np.array([255,255,255,255]) # noir"
   ]
  },
  {
   "cell_type": "code",
   "execution_count": 17,
   "id": "c2e465ea-5fc7-44ef-b61b-c850acfe98c0",
   "metadata": {
    "tags": []
   },
   "outputs": [],
   "source": [
    "img = img.transpose()\n",
    "\n",
    "#On veut le bon format\n",
    "img = (img/255).astype(np.float64)\n",
    "\n",
    "image.array = img"
   ]
  },
  {
   "cell_type": "code",
   "execution_count": 18,
   "id": "3a5a0734-e2b8-448d-b679-aee74b814155",
   "metadata": {
    "tags": []
   },
   "outputs": [],
   "source": [
    "image.plot([0,1,2])"
   ]
  },
  {
   "cell_type": "markdown",
   "id": "c56130fb-8d84-44d6-a09d-4813381d639f",
   "metadata": {},
   "source": [
    "## Méthode 2 : transformation de l'image infrarouge en image RGB en remplacant le rouge par l'infrarouge puis seuillage sur les 3 couleurs."
   ]
  },
  {
   "cell_type": "code",
   "execution_count": 19,
   "id": "85761931-78c8-4fd8-b7b9-a97edfc4f6f8",
   "metadata": {
    "tags": []
   },
   "outputs": [],
   "source": [
    "#on recharge l'image originale\n",
    "image = SatelliteImage.from_raster(\n",
    "        filename,\n",
    "        date = date, \n",
    "        n_bands = 4,\n",
    "        dep = \"973\"\n",
    "    )\n",
    "image.normalize()"
   ]
  },
  {
   "cell_type": "markdown",
   "id": "9247210c-f0f3-44ae-903d-2e57a464419b",
   "metadata": {
    "tags": []
   },
   "source": [
    "On va refaire le même algorithme, sauf qu'on va changer les seuils sur les pixels RGB à la place de seulement infrarouge comme précedemment."
   ]
  },
  {
   "cell_type": "code",
   "execution_count": 20,
   "id": "ff8e4961-2fc8-4e9e-a4a6-3cf9e7b99eb3",
   "metadata": {
    "tags": []
   },
   "outputs": [],
   "source": [
    "img = image.array\n",
    "\n",
    "img = (img * 255).astype(np.uint8)\n",
    "\n",
    "\n",
    "img = img.transpose()"
   ]
  },
  {
   "cell_type": "markdown",
   "id": "fe521002-f263-4043-9c84-e36b770c4e45",
   "metadata": {},
   "source": [
    "* Etape 1 : Pour que le pixel soit une nuance de rouge, il faut d'abord vérifier si les valeurs verte et bleue sont proches.\n",
    "* Etape 2 : On décide que les nuances de rouge très claires correspondent à des toits de bâtiments.\n",
    "* Etape 3 : On fixe le seuil de la valeur rouge à 110 et la valeur de rouge avec une autre couleur doit être supérieure à 20 minimum.\n",
    "* Etape 4 : Si le pixel ne vérifie aucune des étapes précédentes, alors il est colorié automatiquement en blanc."
   ]
  },
  {
   "cell_type": "markdown",
   "id": "e7f48575-3573-45e1-a227-946c7ec8f6bc",
   "metadata": {},
   "source": [
    "Pour fixer ce seuil, des tests visuels ont été effectués et on a utilisé ce site https://htmlcolorcodes.com/fr/selecteur-de-couleur/ pour comprendre comment fonctionnent les nuances de rouge sur des pixels en décimal (et ce site pour comprendre les pixels en décimal en général http://www.proftnj.com/RGB3.htm).\n",
    "L'algorithme qui suit met quelques secondes à tourner, il sera long s'il est appliqué sur l'ensemble des images de la base de données.\n",
    "Pour mieux réussir à faire ce seuillage en étape 3, on devrait créer une fonction racine carré et prendre toutes les valeurs au dessus de la courbe.\n",
    "Cette fonction est difficile à déterminer... Cependant, on peut la faire uniquement avec deux paramètres : la valeur du rouge et la valeur minimale entre le bleu et le vert. "
   ]
  },
  {
   "cell_type": "code",
   "execution_count": 21,
   "id": "900a6a7d-ca06-41d6-b417-2a4b737e6699",
   "metadata": {
    "tags": []
   },
   "outputs": [],
   "source": [
    "# On va parcourir tous les pixels de l'image\n",
    "for row in range(img.shape[0]):\n",
    "    for col in range(img.shape[1]):\n",
    "        b = img[row,col, 1]\n",
    "        g = img[row,col, 2]\n",
    "        r = img[row,col, 3]\n",
    "        mini = min(b,g)\n",
    "        maxi = max(b,g)\n",
    "        \n",
    "        if maxi-mini <= 20 : #étape 1\n",
    "            \n",
    "            if r > 200 and mini >= 110 and r>= (20+mini): #étape 2\n",
    "                img[row, col] = [255,255,255,255] # blanc\n",
    "            elif  r>= (20+mini) and r >= 110: #étape 3\n",
    "                img[row, col] = [0,0,0,0] #noir\n",
    "            else : #étape 4\n",
    "                img[row, col] = [255,255,255,255] # blanc\n",
    "\n",
    "        else : #étape 4\n",
    "            img[row, col] = [255,255,255,255] # blanc"
   ]
  },
  {
   "cell_type": "code",
   "execution_count": 22,
   "id": "5d3a6715-c56c-4e4b-b1ed-9866ae9d1a67",
   "metadata": {
    "tags": []
   },
   "outputs": [],
   "source": [
    "img = img.transpose()\n",
    "\n",
    "#On veut le bon format\n",
    "img = (img/255).astype(np.float64)\n",
    "\n",
    "image.array = img"
   ]
  },
  {
   "cell_type": "code",
   "execution_count": 23,
   "id": "9d0ed163-a6c8-499b-a4c1-1065448baf9f",
   "metadata": {
    "tags": []
   },
   "outputs": [],
   "source": [
    "image.plot([0,1,2])"
   ]
  },
  {
   "cell_type": "markdown",
   "id": "9a19b71e-8936-4c0d-b210-bd5fb3eb7f68",
   "metadata": {},
   "source": [
    "Ici, la 2ème méthode est plus effective. En effet, on prend en compte que certains toits vont refleter les ondes infrarouges et donc sortir comme rouge clair une fois l'image convertie en RGB. Cependant, la méthode du seuillage sur l'infrarouge reste la plus simple : méthode concise et temps de calcul plus rapide. Les résultats semblent globalement bon dans les deux cas. A voir quelle méthode se généralise le mieux..."
   ]
  },
  {
   "cell_type": "markdown",
   "id": "5eaeda3c-2506-4fde-b2d9-c00c6eacba0d",
   "metadata": {},
   "source": [
    "## Essai au cas où : Détection de contours"
   ]
  },
  {
   "cell_type": "code",
   "execution_count": 25,
   "id": "845b651a-8969-4dc6-930f-b571282ff135",
   "metadata": {
    "tags": []
   },
   "outputs": [],
   "source": [
    "#On récupère l'image au format RGB puis on la transforme en png pour pouvoir l'utiliser avec OpenCV\n",
    "img = image.array\n",
    "\n",
    "img = img[[0,1,2],:, :]\n",
    "\n",
    "img = (img*255).astype(np.uint8)\n",
    "\n",
    "#convertir l'array en image PIL pour ensuite l'avoir en png\n",
    "img = im.fromarray(img.transpose(1, 2, 0).astype('uint8'), 'RGB')\n",
    "\n",
    "#enregistrer l'image en tant que fichier PNG pour pouvoir utiliser OpenCV\n",
    "img.save('masque.png')"
   ]
  },
  {
   "cell_type": "markdown",
   "id": "37fca216-a29f-4097-8019-25aa552a2a37",
   "metadata": {},
   "source": [
    "Afin de ne pas faire crasher le kernel, nous allons préalablement créer des fonctions d'affichage des images avec OpenCV (la fonction de base cv2.imshow() fait crasher le kernel)"
   ]
  },
  {
   "cell_type": "code",
   "execution_count": 26,
   "id": "eb22ec9b-09dd-41b9-a12a-fea8d182ba90",
   "metadata": {
    "tags": []
   },
   "outputs": [],
   "source": [
    "#images en nuances de gris\n",
    "def cv2_imshow(a, **kwargs):\n",
    "    a = a.clip(0, 255).astype('uint8')\n",
    "    if a.ndim == 3:\n",
    "        if a.shape[2] == 4:\n",
    "            a = cv2.cvtColor(a, cv2.COLOR_RGBA2BGRA)\n",
    "        else:\n",
    "            a = cv2.cvtColor(a, cv2.COLOR_RGB2BGR)\n",
    "\n",
    "    return plt.imshow(a, **kwargs, cmap= \"gray\")\n",
    "\n",
    "#images en couleurs\n",
    "def cv2_imshow2(a, **kwargs):\n",
    "    a = a.clip(0, 255).astype('uint8')\n",
    "    if a.ndim == 3:\n",
    "        if a.shape[2] == 4:\n",
    "            a = cv2.cvtColor(a, cv2.COLOR_RGBA2BGRA)\n",
    "        else:\n",
    "            a = cv2.cvtColor(a, cv2.COLOR_RGB2BGR)\n",
    "\n",
    "    return plt.imshow(a, **kwargs, cmap= \"brg\")"
   ]
  },
  {
   "cell_type": "code",
   "execution_count": 30,
   "id": "91b2faff-f175-44eb-b80d-742c1dcfd130",
   "metadata": {
    "tags": []
   },
   "outputs": [],
   "source": [
    "#on lit l'image avec OpenCV\n",
    "img = cv2.imread('masque.png')\n",
    "\n",
    "#avoir le bon format : ici on veut RGB (la transposée nous a fait passer en BGR)\n",
    "img = cv2.cvtColor(img, cv2.COLOR_BGR2RGB)\n",
    "\n",
    "# Grayscale\n",
    "gray = cv2.cvtColor(img, cv2.COLOR_BGR2GRAY)\n",
    "  \n",
    "# Find Canny edges\n",
    "edged = cv2.Canny(gray, 100, 200)\n",
    "  \n",
    "# Finding Contours\n",
    "# Use a copy of the image e.g. edged.copy()\n",
    "# since findContours alters the image\n",
    "contours, hierarchy = cv2.findContours(edged, \n",
    "    cv2.RETR_EXTERNAL, cv2.CHAIN_APPROX_NONE)\n",
    "    \n",
    "img_contours = cv2.drawContours(img, contours, -1, (0, 255, 0), 5)\n",
    "cv2_imshow2(img_contours)"
   ]
  },
  {
   "cell_type": "markdown",
   "id": "51ae16a6-3da0-4149-8f21-5623a49e30ea",
   "metadata": {},
   "source": [
    "Ce qui serait intéressant de faire, c'est de prendre en entrée des images où on sait qu'il y a des bidonvilles, on enlève la végétation avec la méthode 2 mais on garde les couleurs de base sur les pixels sans végétation et ensuite on classifie ces pixels avec un algo des k-means. Comme ça, on peut faire plusieurs classes d'objets : routes, gros bâtiments, maisons, bidonvilles. On determine à la main quelle classe correspond à quel type d'objets. Puis on fait un masque binaire : en blanc les pixels dans la classe bidonville, en noir le reste. Cela pourrait nous aider à constituer des données d'apprentissage."
   ]
  },
  {
   "cell_type": "markdown",
   "id": "3f795384-7341-4e32-a22c-bcbf9aec651c",
   "metadata": {},
   "source": [
    "## Maintenant, il serait intéressant de comparer deux images d'un même lieu sur deux périodes données où on sait qu'il y a eu une création/destruction de bâtiment entre temps."
   ]
  },
  {
   "cell_type": "markdown",
   "id": "95d768b0-ca86-455e-b1f6-3fece9addbb9",
   "metadata": {},
   "source": [
    "## Idée globale : \n",
    "Trouver un lieu où il y a eu une construction/destruction de bâtiments entre deux millésimes et appliquer la méthode pour obtenir un masque sur les deux images infrarouge du même lieu à deux période données. Ensuite superposer ces deux masques et faire des différences de pixels : les différences sortiront en blanc et les similarités en noir. Pour finir, on veut lisser l'image, c'est à dire trouver un seuil à partir duquel on considère qu l'amas de pixels représente un changement significatif. \n",
    "\n",
    "La première difficulté ici est de trouver deux images différentes d'un même lieu. On va parcourir les données pour savoir si c'est possible ou si c'est irréalisable sans faire de transformation."
   ]
  },
  {
   "cell_type": "code",
   "execution_count": null,
   "id": "c1e29d62-55e4-4679-aaaa-30ad4e17eb3c",
   "metadata": {
    "tags": []
   },
   "outputs": [],
   "source": [
    "#image 1\n",
    "filename_1 = '../data/PLEIADES/2022/MARTINIQUE/ORT_2022_0697_1640_U20N_8Bits.jp2'\n",
    "date_1 = date.fromisoformat('2022-01-01')"
   ]
  },
  {
   "cell_type": "code",
   "execution_count": null,
   "id": "c90eddea-d695-4c4e-b118-783580e1c6ad",
   "metadata": {
    "tags": []
   },
   "outputs": [],
   "source": [
    "image_1 = SatelliteImage.from_raster(\n",
    "        filename_1,\n",
    "        date = date_1, \n",
    "        n_bands = 3,\n",
    "        dep = \"972\"\n",
    "    )\n",
    "image_1.normalize()"
   ]
  },
  {
   "cell_type": "code",
   "execution_count": null,
   "id": "b3436f51-7b12-47fd-8d74-bd43e12877c7",
   "metadata": {
    "tags": []
   },
   "outputs": [],
   "source": [
    "image_1.plot([0,1,2])"
   ]
  },
  {
   "cell_type": "code",
   "execution_count": null,
   "id": "783b9658-92e2-4c4d-aef1-6bd48f240e25",
   "metadata": {},
   "outputs": [],
   "source": [
    "image_1.bounds"
   ]
  },
  {
   "cell_type": "markdown",
   "id": "1c2a1061-febb-414e-9dae-100119bf7793",
   "metadata": {
    "tags": []
   },
   "source": [
    "On créé des fonctions crs_to_gps() et gps_to_crs() pour retrouver l'image sur google maps grâce à ses coordonnées crs transformées en gps et inversement, pour retrouver un point gps repéré sur Google Maps et le situer sur les images de la base de données grâce à ses données crs."
   ]
  },
  {
   "cell_type": "code",
   "execution_count": 14,
   "id": "69f3a191-3d82-47c2-8964-0f83bd5aede1",
   "metadata": {
    "tags": []
   },
   "outputs": [],
   "source": [
    "import re\n",
    "import pyproj\n",
    "\n",
    "def crs_to_gps_image(satellite_image) :\n",
    "    \n",
    "    #avoir les coordonnées du boundingbox\n",
    "    boundingbox = list(satellite_image.bounds)\n",
    "    \n",
    "    #avoir le crs\n",
    "    str_crs = str(satellite_image.crs)\n",
    "    # Rechercher la séquence d'entiers dans la chaîne de caractères\n",
    "    crs = re.findall(r'\\d+', str_crs)\n",
    "    crs = int(crs[0])\n",
    "    \n",
    "    #convertir en coordonnées gps\n",
    "    src_proj = pyproj.Proj(crs)\n",
    "    dest_proj = pyproj.Proj(proj='latlong')\n",
    "    \n",
    "    # Convertir les coordonnées dans le système de coordonnées de départ en coordonnées dans le système de coordonnées de destination (GPS)\n",
    "    #on prend la coordonnées top-left arbitrairement\n",
    "    x = boundingbox[0] #left\n",
    "    y = boundingbox[3] #top\n",
    "    lon, lat = pyproj.transform(src_proj, dest_proj, x, y, always_xy=True)\n",
    "    \n",
    "    # Retourner les coordonnées GPS (latitude, longitude)\n",
    "    return lat, lon"
   ]
  },
  {
   "cell_type": "code",
   "execution_count": 17,
   "id": "4d5b636a-9ac2-48eb-bd1d-05e8f1ea3f59",
   "metadata": {
    "tags": []
   },
   "outputs": [],
   "source": [
    "crs_to_gps_image(image_1)"
   ]
  },
  {
   "cell_type": "code",
   "execution_count": 18,
   "id": "4d89521f-ebc0-4e88-ba3f-a31adc5a1db3",
   "metadata": {
    "tags": []
   },
   "outputs": [],
   "source": [
    "#crs = 5490 pour la martinique\n",
    "def gps_to_crs_point(lat,lon,crs) :\n",
    "    \n",
    "    # Définir les systèmes de coordonnées de départ et d'arrivée\n",
    "    src_proj = pyproj.Proj(proj='latlong')\n",
    "    dest_proj = pyproj.Proj(crs)\n",
    "    \n",
    "    # Convertir les coordonnées GPS en coordonnées dans le système de coordonnées de destination (CRS)\n",
    "    x, y = pyproj.transform(src_proj, dest_proj, lon, lat)\n",
    "    \n",
    "    # Retourner les coordonnées dans le CRS spécifié\n",
    "    return x, y\n",
    "\n",
    "#ca serait bien de faire une fonction qui cherche dans l'ensemble des données l'image qui contiendra cette coordonées."
   ]
  },
  {
   "cell_type": "markdown",
   "id": "9ca7edfb-6bce-4aca-8c4e-6af22aa0c476",
   "metadata": {},
   "source": [
    "(14.623226, -61.067901) correspond à des coordonnées gps du quartier de Trénelle Citron à Fort de France avec des habitations de fortune (https://www.google.com/url?sa=t&rct=j&q=&esrc=s&source=web&cd=&cad=rja&uact=8&ved=2ahUKEwiS_Y3mvYT-AhXKyKQKHf5KBVoQFnoECAwQAQ&url=https%3A%2F%2Fwww.lemonde.fr%2Fpolitique%2Farticle%2F2009%2F10%2F15%2Fle-quartier-de-trenelle-a-fort-de-france-illustre-le-delabrement-de-l-habitat-en-outre-mer_1254357_823448.html&usg=AOvVaw2v1Gc_-kLh-CMDzK5ctPb-).\n",
    "(14.635338, -61.038345) plateau médico-technique construit en 2018 (côté droit du triangle). \n",
    "Essayons de retrouver l'image qui le contient."
   ]
  },
  {
   "cell_type": "markdown",
   "id": "0659a854-557e-4168-85c1-9cc46a905322",
   "metadata": {},
   "source": [
    "Le nom des fichiers contiennent les coordonnées top left de la boundingbox de l'image. Pour retrouver le carré de la bounding box, il faut rajouter 1000.0 à left pour obtenir right et enlever 1000.0 à top pour obtenir bottom."
   ]
  },
  {
   "cell_type": "code",
   "execution_count": 91,
   "id": "f2f9856e-2007-4875-8d6c-57da1e3a3a60",
   "metadata": {
    "tags": []
   },
   "outputs": [],
   "source": [
    "def find_image_of_point(coordinate, folder_path, coord_gps = False, crs = None) :\n",
    "    \n",
    "    if coord_gps == True :  \n",
    "        lat, lon = coordinate\n",
    "        x,y = gps_to_crs_point(lat,lon,crs) #car y=lat et x=lon, les coordonnées gps sont en (lat,lon)\n",
    "    else :\n",
    "        x,y = coordinate\n",
    "\n",
    "    for filename in os.listdir(folder_path):\n",
    "        # Define a list of delimiter characters\n",
    "        delimiters = [\"-\", \"_\"]\n",
    "\n",
    "        # Create a regular expression pattern from the delimiter characters\n",
    "        pattern = \"|\".join(delimiters)\n",
    "\n",
    "        # Split the string using the regular expression pattern\n",
    "        split_filename = re.split(pattern, filename)\n",
    "\n",
    "        left = float(split_filename[2])*1000\n",
    "        top = float(split_filename[3])*1000\n",
    "        right = left + 1000.0\n",
    "        bottom = top - 1000.0\n",
    "\n",
    "        if left <= x <= right:\n",
    "            if bottom <= y <= top:\n",
    "                return(folder_path + '/' +filename)\n",
    "    else : \n",
    "        return(\"Le point n'est pas retrouvé dans ce fichier d'images\")\n"
   ]
  },
  {
   "cell_type": "code",
   "execution_count": 92,
   "id": "b289a2ed-a94a-419f-b9e0-8ee32b376040",
   "metadata": {
    "tags": []
   },
   "outputs": [],
   "source": [
    "find_image_of_point([713000.0, 1606000.0], folder_path_martinique) #coordonnées de l'image 1 pour vérifier que la fonction marche"
   ]
  },
  {
   "cell_type": "code",
   "execution_count": 81,
   "id": "84a59070-af07-4c6a-b0d4-24c81213cb64",
   "metadata": {
    "tags": []
   },
   "outputs": [],
   "source": [
    "find_image_of_point([14.635338, -61.038345], folder_path_martinique, coord_gps = True, crs =5490)"
   ]
  },
  {
   "cell_type": "code",
   "execution_count": 84,
   "id": "32706f5e-86dc-4c6f-a2ab-40b8cd45f6be",
   "metadata": {
    "tags": []
   },
   "outputs": [],
   "source": [
    "#Nouvelle image 1\n",
    "filename_1 = '../data/PLEIADES/2022/MARTINIQUE/ORT_2022_0711_1619_U20N_8Bits.jp2'\n",
    "date_1 = date.fromisoformat('2022-01-01')"
   ]
  },
  {
   "cell_type": "code",
   "execution_count": 85,
   "id": "30490611-37f6-428c-9c09-4ce377a89fef",
   "metadata": {
    "tags": []
   },
   "outputs": [],
   "source": [
    "image_1 = SatelliteImage.from_raster(\n",
    "        filename_1,\n",
    "        date = date_1, \n",
    "        n_bands = 3,\n",
    "        dep = \"972\"\n",
    "    )\n",
    "image_1.normalize()"
   ]
  },
  {
   "cell_type": "code",
   "execution_count": 86,
   "id": "0b6c0657-de9e-40b6-b151-8323e907a0aa",
   "metadata": {
    "tags": []
   },
   "outputs": [],
   "source": [
    "image_1.plot([0,1,2]) "
   ]
  },
  {
   "cell_type": "markdown",
   "id": "a2849f4b-943e-40a0-a8bd-986826b5f1cb",
   "metadata": {},
   "source": [
    "Cherchons l'image correspondant à ce lieu dans la base de données martinique 2017."
   ]
  },
  {
   "cell_type": "code",
   "execution_count": 87,
   "id": "46df6e65-121a-44e6-9f26-481dfdad5c55",
   "metadata": {
    "tags": []
   },
   "outputs": [],
   "source": [
    "#image 2\n",
    "filename_2 = '../data/PLEIADES/2017/MARTINIQUE/972-2017-0711-1619-U20N-0M50-RVB-E100.jp2'\n",
    "date_2 = date.fromisoformat('2017-01-01')"
   ]
  },
  {
   "cell_type": "code",
   "execution_count": 88,
   "id": "0f24d382-c2e7-414b-bb61-fe09e9d29bcc",
   "metadata": {
    "tags": []
   },
   "outputs": [],
   "source": [
    "image_2 = SatelliteImage.from_raster(\n",
    "        filename_2,\n",
    "        date = date_2, \n",
    "        n_bands = 3,\n",
    "        dep = \"972\"\n",
    "    )\n",
    "image_2.normalize()"
   ]
  },
  {
   "cell_type": "code",
   "execution_count": 89,
   "id": "a26cc52b-4d2e-4643-bd26-120a3e1d3016",
   "metadata": {
    "tags": []
   },
   "outputs": [],
   "source": [
    "image_2.plot([0,1,2]) "
   ]
  },
  {
   "cell_type": "markdown",
   "id": "ca618ed9-e1b5-4087-adee-08c919bc6c1a",
   "metadata": {},
   "source": [
    "On a bien un changement à droite du triangle. Il ne reste plus qu'a avoir la bande infrarouge pour faire les masques puis les différences."
   ]
  },
  {
   "cell_type": "markdown",
   "id": "136f7e1e-d41a-40fb-88b4-314daead3398",
   "metadata": {},
   "source": [
    "On cherche à savoir combien d'images on a, comme ça on sait à quel point réduire les images pour qu'elles rentrent toutes dans le plot."
   ]
  },
  {
   "cell_type": "code",
   "execution_count": 42,
   "id": "41117e43-6db2-4291-bc7c-abb01baf53d5",
   "metadata": {
    "tags": []
   },
   "outputs": [],
   "source": [
    "folder_path_martinique = '../data/PLEIADES/2022/MARTINIQUE'  # Chemin du dossier contenant les images\n",
    "image_extensions = ['.jp2']  # Extensions d'image à considérer\n",
    "\n",
    "image_count = 0\n",
    "for filename in os.listdir(folder_path_martinique):\n",
    "    if filename.endswith(tuple(image_extensions)):\n",
    "        image_count += 1\n",
    "\n",
    "print(f'Le dossier {folder_path_martinique} contient {image_count} images.')"
   ]
  }
 ],
 "metadata": {
  "kernelspec": {
   "display_name": "Python 3 (ipykernel)",
   "language": "python",
   "name": "python3"
  },
  "language_info": {
   "codemirror_mode": {
    "name": "ipython",
    "version": 3
   },
   "file_extension": ".py",
   "mimetype": "text/x-python",
   "name": "python",
   "nbconvert_exporter": "python",
   "pygments_lexer": "ipython3",
   "version": "3.10.9"
  }
 },
 "nbformat": 4,
 "nbformat_minor": 5
}
