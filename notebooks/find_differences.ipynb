{
 "cells": [
  {
   "cell_type": "markdown",
   "id": "7368fb53-92b9-4854-bc00-70b69e04e18f",
   "metadata": {
    "jp-MarkdownHeadingCollapsed": true,
    "tags": []
   },
   "source": [
    "## Packages et données"
   ]
  },
  {
   "cell_type": "code",
   "execution_count": 1,
   "id": "4da41416-9ac3-465d-87bb-f071d4bcb7b5",
   "metadata": {
    "tags": []
   },
   "outputs": [],
   "source": [
    "%load_ext autoreload\n",
    "%autoreload 2"
   ]
  },
  {
   "cell_type": "code",
   "execution_count": 2,
   "id": "0deea894-525e-4d99-9789-d27a89651ac2",
   "metadata": {
    "tags": []
   },
   "outputs": [],
   "source": [
    "! pip install rasterio  -q -q -q\n",
    "! pip install geopandas -q -q -q\n",
    "! pip install matplotlib -q -q -q"
   ]
  },
  {
   "cell_type": "code",
   "execution_count": 3,
   "id": "9e3572ee-9f64-4ab7-ae42-b236757ca62f",
   "metadata": {
    "tags": []
   },
   "outputs": [],
   "source": [
    "!pip install scikit-image"
   ]
  },
  {
   "cell_type": "code",
   "execution_count": 4,
   "id": "c896f2d3-81a9-4106-98c1-bb9755834b31",
   "metadata": {
    "tags": []
   },
   "outputs": [],
   "source": [
    "import sys\n",
    "sys.path.append('../src')\n",
    "from classes.data.satellite_image import SatelliteImage\n",
    "from utils.utils import *\n",
    "from utils.plot_utils import *\n",
    "from utils.image_utils import *\n",
    "import utils.mappings as mapps"
   ]
  },
  {
   "cell_type": "code",
   "execution_count": 5,
   "id": "946bd6a2-e1f0-4e35-90c2-ad281a4eb19d",
   "metadata": {
    "tags": []
   },
   "outputs": [],
   "source": [
    "from train_pipeline_utils.download_data import load_satellite_data\n",
    "from classes.data.satellite_image import SatelliteImage"
   ]
  },
  {
   "cell_type": "code",
   "execution_count": 6,
   "id": "24e0bd01-ada4-4370-b219-b38955cb9b99",
   "metadata": {
    "tags": []
   },
   "outputs": [],
   "source": [
    "import yaml\n",
    "import re\n",
    "import s3fs\n",
    "import numpy as np\n",
    "import matplotlib.pyplot as plt\n",
    "from PIL import Image as im\n",
    "import re\n",
    "from pyproj import Transformer\n",
    "from datetime import date\n",
    "from scipy.ndimage import label\n",
    "import time\n",
    "from tqdm import tqdm\n",
    "import os"
   ]
  },
  {
   "cell_type": "code",
   "execution_count": 7,
   "id": "ee855204-9404-436e-80cf-edc0ea45769e",
   "metadata": {
    "tags": []
   },
   "outputs": [],
   "source": [
    "load_satellite_data(2022, \"972\", \"PLEIADES\")"
   ]
  },
  {
   "cell_type": "code",
   "execution_count": 57,
   "id": "46a27ae4-bf12-4e00-a379-3df7416e12d9",
   "metadata": {
    "tags": []
   },
   "outputs": [],
   "source": [
    "load_satellite_data(2022, \"973\", \"PLEIADES\")"
   ]
  },
  {
   "cell_type": "code",
   "execution_count": 9,
   "id": "04776158-f879-4781-a54e-b1b874717ff1",
   "metadata": {},
   "outputs": [],
   "source": [
    "load_satellite_data(2020, \"976\", \"PLEIADES\")"
   ]
  },
  {
   "cell_type": "code",
   "execution_count": 10,
   "id": "c9974a28-dbd5-45b5-aae4-61bf15bebcf4",
   "metadata": {},
   "outputs": [],
   "source": [
    "load_satellite_data(2017, \"976\", \"PLEIADES\")"
   ]
  },
  {
   "cell_type": "code",
   "execution_count": 115,
   "id": "8cfd5bee-5060-4233-85ed-dee5353f128c",
   "metadata": {},
   "outputs": [],
   "source": [
    "load_satellite_data(2022, \"973\", \"PLEIADES\")"
   ]
  },
  {
   "cell_type": "markdown",
   "id": "5e3a02ff-0b19-439a-a123-fb0c36a64331",
   "metadata": {
    "jp-MarkdownHeadingCollapsed": true,
    "tags": []
   },
   "source": [
    "## Images en t et t+n avec des différences"
   ]
  },
  {
   "cell_type": "markdown",
   "id": "1c64c52d-bc2c-4883-a075-c690c15f87de",
   "metadata": {},
   "source": [
    "En martinique :\n",
    "(14.635338, -61.038345) plateau médico-technique construit en 2018 (côté droit du triangle). \n",
    "Essayons de retrouver l'image qui le contient."
   ]
  },
  {
   "cell_type": "code",
   "execution_count": 12,
   "id": "2bc51f0d-2160-451f-b761-494ce5937bad",
   "metadata": {
    "tags": []
   },
   "outputs": [],
   "source": [
    "#Nouvelle image 1\n",
    "filename_1 = find_image_of_point([14.635338, -61.038345], '../data/PLEIADES/2022/MARTINIQUE', coord_gps = True)\n",
    "date_1 = date.fromisoformat('2022-01-01')"
   ]
  },
  {
   "cell_type": "code",
   "execution_count": 13,
   "id": "21db53f2-65a2-43cc-ac24-2801ec00838a",
   "metadata": {
    "tags": []
   },
   "outputs": [],
   "source": [
    "image_1 = SatelliteImage.from_raster(\n",
    "        filename_1,\n",
    "        date = date_1, \n",
    "        n_bands = 3,\n",
    "        dep = \"972\"\n",
    "    )"
   ]
  },
  {
   "cell_type": "code",
   "execution_count": 9,
   "id": "f6fdf8ca-1404-444f-a424-db00f0dfa1da",
   "metadata": {
    "tags": []
   },
   "outputs": [],
   "source": [
    "image_1.plot([0,1,2]) "
   ]
  },
  {
   "cell_type": "code",
   "execution_count": null,
   "id": "6fffd702-00c6-4683-b630-272518129f76",
   "metadata": {
    "tags": []
   },
   "outputs": [],
   "source": [
    "#image 2\n",
    "filename_2 = find_image_different_years(2017, None, filename_1)\n",
    "date_2 = date.fromisoformat('2017-01-01')"
   ]
  },
  {
   "cell_type": "code",
   "execution_count": null,
   "id": "dcc46635-52e3-4713-af00-5cadd0bc79a6",
   "metadata": {
    "tags": []
   },
   "outputs": [],
   "source": [
    "image_2 = SatelliteImage.from_raster(\n",
    "        filename_2,\n",
    "        date = date_2, \n",
    "        n_bands = 3,\n",
    "        dep = \"972\"\n",
    "    )"
   ]
  },
  {
   "cell_type": "code",
   "execution_count": 89,
   "id": "23f8d28f-7c27-4a0c-b3ed-96068b87f36d",
   "metadata": {
    "tags": []
   },
   "outputs": [],
   "source": [
    "image_2.plot([0,1,2])"
   ]
  },
  {
   "cell_type": "markdown",
   "id": "439a6d99-e43e-4e30-8d25-b23c496d9f62",
   "metadata": {},
   "source": [
    "On a bien un changement à droite du triangle. Il ne reste plus qu'a avoir la bande infrarouge pour faire les masques puis les différences."
   ]
  },
  {
   "cell_type": "markdown",
   "id": "4c7537b3-1685-4b5b-8f10-51b4ff176b0a",
   "metadata": {},
   "source": [
    "On va chercher en guyane : (-12.755601, 45.229945) coordonnées d'un quartier"
   ]
  },
  {
   "cell_type": "code",
   "execution_count": 14,
   "id": "edc22415-6ba7-46e2-946a-874e783da90b",
   "metadata": {
    "tags": []
   },
   "outputs": [],
   "source": [
    "filename_5 = find_image_of_point([-12.755601, 45.229945], '../data/PLEIADES/2020/MAYOTTE', coord_gps = True)\n",
    "date_5 = date.fromisoformat('2020-01-01')\n",
    "print(filename_5)"
   ]
  },
  {
   "cell_type": "code",
   "execution_count": 15,
   "id": "589149b5-714f-40ab-ad8f-8a8060f197c8",
   "metadata": {
    "tags": []
   },
   "outputs": [],
   "source": [
    "image_5 = SatelliteImage.from_raster(\n",
    "        filename_5,\n",
    "        date = date_5, \n",
    "        n_bands = 3,\n",
    "        dep = \"976\"\n",
    "    )"
   ]
  },
  {
   "cell_type": "code",
   "execution_count": 18,
   "id": "105bd77a-44d7-48e2-8e6b-5a9ad66c309c",
   "metadata": {},
   "outputs": [],
   "source": [
    "image_5.plot([0,1,2])"
   ]
  },
  {
   "cell_type": "code",
   "execution_count": 16,
   "id": "bc894d7c-9c50-4964-9308-e200cb3d90ea",
   "metadata": {
    "tags": []
   },
   "outputs": [],
   "source": [
    "filename_6 = find_image_different_years(2017, image_5)\n",
    "date_6 = date.fromisoformat('2020-01-01')"
   ]
  },
  {
   "cell_type": "code",
   "execution_count": 17,
   "id": "b03f5191-66e0-4d74-82ef-cf356cd416d7",
   "metadata": {
    "tags": []
   },
   "outputs": [],
   "source": [
    "image_6 = SatelliteImage.from_raster(\n",
    "        filename_6,\n",
    "        date = date_6, \n",
    "        n_bands = 3,\n",
    "        dep = \"976\"\n",
    "    )"
   ]
  },
  {
   "cell_type": "code",
   "execution_count": 150,
   "id": "7b00267b-61da-4243-af08-72acec3c36b1",
   "metadata": {
    "tags": []
   },
   "outputs": [],
   "source": [
    "image_6.plot([0,1,2])"
   ]
  },
  {
   "cell_type": "markdown",
   "id": "db822ecb-dc96-49ea-a2bc-f65cdd8ba372",
   "metadata": {},
   "source": [
    "Dans la moitié haute de l'image à droite, il y a plusieurs bâtiments qui ont été construits."
   ]
  },
  {
   "cell_type": "markdown",
   "id": "af09cb0d-240b-44f1-b4a4-7e3b5cf1c53c",
   "metadata": {},
   "source": [
    "Pas de RIL pour ces deux années en mayotte ..."
   ]
  },
  {
   "cell_type": "code",
   "execution_count": 19,
   "id": "b2a1e8b3-be6f-49c4-a5d1-882efa897033",
   "metadata": {
    "tags": []
   },
   "outputs": [],
   "source": [
    "filename_7 = find_image_of_point([-12.753436, 45.219888], '../data/PLEIADES/2020/MAYOTTE', coord_gps = True)\n",
    "date_7 = date.fromisoformat('2020-01-01')\n",
    "print(filename_7)"
   ]
  },
  {
   "cell_type": "code",
   "execution_count": 20,
   "id": "8e054e9c-f605-4571-90c3-f632e14ae2eb",
   "metadata": {
    "tags": []
   },
   "outputs": [],
   "source": [
    "image_7 = SatelliteImage.from_raster(\n",
    "        filename_7,\n",
    "        date = date_7, \n",
    "        n_bands = 3,\n",
    "        dep = \"976\"\n",
    "    )"
   ]
  },
  {
   "cell_type": "code",
   "execution_count": 295,
   "id": "1f888a35-50bf-427d-930b-97efdcf87666",
   "metadata": {
    "tags": []
   },
   "outputs": [],
   "source": [
    "image_7.plot([0,1,2])"
   ]
  },
  {
   "cell_type": "code",
   "execution_count": 21,
   "id": "b675ce77-f154-409b-a500-f51d2b2b201c",
   "metadata": {
    "tags": []
   },
   "outputs": [],
   "source": [
    "#filename_8 = find_image_of_point([-12.753436, 45.219888], '../data/PLEIADES/2017/MAYOTTE', coord_gps = True)\n",
    "filename_8 = find_image_different_years(2017, image_7)\n",
    "date_8 = date.fromisoformat('2017-01-01')"
   ]
  },
  {
   "cell_type": "code",
   "execution_count": 23,
   "id": "e70fc116-3d5e-4615-92d8-f2363fbd61cb",
   "metadata": {
    "tags": []
   },
   "outputs": [],
   "source": [
    "image_8 = SatelliteImage.from_raster(\n",
    "        filename_8,\n",
    "        date = date_8, \n",
    "        n_bands = 3,\n",
    "        dep = \"976\"\n",
    "    )"
   ]
  },
  {
   "cell_type": "code",
   "execution_count": 24,
   "id": "d0aeb928-fe15-407b-aa4b-929cb1ca07f7",
   "metadata": {},
   "outputs": [],
   "source": [
    "image_8.plot([0,1,2])"
   ]
  },
  {
   "cell_type": "markdown",
   "id": "73b9432b-00eb-495f-a0e2-c4595e68eb9b",
   "metadata": {
    "tags": []
   },
   "source": [
    "### Image en uint16 sans image en t+n pour tester les masques sur des images en uint16"
   ]
  },
  {
   "cell_type": "code",
   "execution_count": 75,
   "id": "59330d1d-dae7-43ee-beb9-d0abef501709",
   "metadata": {
    "tags": []
   },
   "outputs": [],
   "source": [
    "filename = '../data/PLEIADES/2022/GUYANE/ORT_2022072050325085_0355_0544_U22N_16Bits.jp2'\n",
    "image = SatelliteImage.from_raster(\n",
    "        filename,\n",
    "        date = None, \n",
    "        n_bands = 4,\n",
    "        dep = '973'\n",
    "    )"
   ]
  },
  {
   "cell_type": "code",
   "execution_count": 36,
   "id": "36f6294b-33df-4c15-98af-cb2c5ce886bc",
   "metadata": {
    "tags": []
   },
   "outputs": [],
   "source": [
    "image.plot([0,1,2])"
   ]
  },
  {
   "cell_type": "markdown",
   "id": "1e6e5e11-719a-4edc-8f1d-2b4faad83be4",
   "metadata": {
    "jp-MarkdownHeadingCollapsed": true,
    "tags": []
   },
   "source": [
    "### Exporter une SatelliteImage en png (pour LabelStudio)"
   ]
  },
  {
   "cell_type": "code",
   "execution_count": 374,
   "id": "c87ed0b6-d210-462f-a8f6-fb6383b824bd",
   "metadata": {
    "tags": []
   },
   "outputs": [],
   "source": [
    "from PIL import Image\n",
    "import numpy as np\n",
    "import io\n",
    "\n",
    "# Créer un tableau avec des données d'exemple\n",
    "data = image_5.array\n",
    "data = data.transpose(1,2,0)\n",
    "\n",
    "\n",
    "# Convertir le tableau en image\n",
    "image = Image.fromarray(data)\n",
    "\n",
    "# Sauvegarder l'image en tant que fichier PNG\n",
    "image.save(\"image5.png\")\n",
    "\n",
    "# Enregistrer l'image en tant qu'objet bytes pour téléchargement\n",
    "img_bytes = io.BytesIO()\n",
    "image.save(img_bytes, format='PNG')\n",
    "img_bytes.seek(0)\n",
    "\n",
    "# Envoyer l'image pour téléchargement\n",
    "from IPython.display import FileLink\n",
    "display(FileLink(\"image5.png\"))"
   ]
  },
  {
   "cell_type": "markdown",
   "id": "a4f47d15-45d9-4dbe-84d4-929a7fce7f82",
   "metadata": {
    "jp-MarkdownHeadingCollapsed": true,
    "tags": []
   },
   "source": [
    "### Import de masques depuis LabelStudio"
   ]
  },
  {
   "cell_type": "code",
   "execution_count": 39,
   "id": "c0e8e63a-abc2-479d-923d-c048c99badca",
   "metadata": {
    "tags": []
   },
   "outputs": [],
   "source": [
    "from utils.gestion_label_studio import create_mask_from_label_studio_export\n",
    "\n",
    "create_mask_from_label_studio_export(\n",
    "            num_task = \"3\",\n",
    "            name_output = \"mayotte-ORT_2020052526670967_0524_8590_U38S_8Bits\"\n",
    "        )\n",
    "\n",
    "mask  = np.load(\"../export/mayotte-ORT_2020052526670967_0524_8590_U38S_8Bits.npy\")\n",
    "plt.imshow(np.transpose(mask), cmap=\"gray\", interpolation=\"nearest\")\n",
    "\n",
    "np.save(\"../export/mayotte-ORT_2020052526670967_0524_8590_U38S_8Bits.npy\",np.transpose(mask))"
   ]
  },
  {
   "cell_type": "markdown",
   "id": "d88b87fb-477b-421a-b5bf-e3c0c5b0d96e",
   "metadata": {},
   "source": [
    "mc cp s3/projet-slums-detection/Donnees/PLEIADES/MAYOTTE/2020/MOSA/ORT_2020052526670967_0524_8590_U38S_8Bits.jp2 s3/projet-slums-detection/donnees-test/segmentation/images/mayotte-ORT_2020052526670967_0524_8590_U38S_8Bits.jp2\n",
    "mc cp export/mayotte-ORT_2020052526670967_0524_8590_U38S_8Bits.npy s3/projet-slums-detection/donnees-test/segmentation/masks/mayotte-ORT_2020052526670967_0524_8590_U38S_8Bits.npy\n"
   ]
  },
  {
   "cell_type": "code",
   "execution_count": 30,
   "id": "ae294174-c7ef-43fe-8d05-0ce4c5039846",
   "metadata": {
    "tags": []
   },
   "outputs": [],
   "source": [
    "from utils.gestion_label_studio import create_mask_from_label_studio_export\n",
    "\n",
    "create_mask_from_label_studio_export(\n",
    "            num_task = \"1\",\n",
    "            name_output = \"mayotte-ORT_2020052526670967_0523_8591_U38S_8Bit\"\n",
    "        )\n"
   ]
  },
  {
   "cell_type": "markdown",
   "id": "c0530458-77fe-4b7b-8e20-22b3b79f01f9",
   "metadata": {},
   "source": [
    "mc cp s3/projet-slums-detection/Donnees/PLEIADES/MAYOTTE/2020/MOSA/ORT_2020052526670967_0523_8591_U38S_8Bits.jp2 s3/projet-slums-detection/donnees-test/segmentation/images/mayotte-ORT_2020052526670967_0523_8591_U38S_8Bits.jp2\n",
    "\n",
    "mc cp export/mayotte-ORT_2020052526670967_0523_8591_U38S_8Bit.npy s3/projet-slums-detection/donnees-test/segmentation/masks/mayotte-ORT_2020052526670967_0523_8591_U38S_8Bit.npy\n"
   ]
  },
  {
   "cell_type": "markdown",
   "id": "f68e3681-7486-4657-adaf-292346affa32",
   "metadata": {
    "jp-MarkdownHeadingCollapsed": true,
    "tags": []
   },
   "source": [
    "## Essais de masques sur seuils pixels"
   ]
  },
  {
   "cell_type": "markdown",
   "id": "c5eac6fd-5cd9-4125-a078-c14e38f947f7",
   "metadata": {},
   "source": [
    "Mask pour les images en uint8"
   ]
  },
  {
   "cell_type": "code",
   "execution_count": 11,
   "id": "394ac3c4-6e1d-4921-a942-d70c34959c6b",
   "metadata": {
    "tags": []
   },
   "outputs": [],
   "source": [
    "def mask_inversion(image, threshold = 110):\n",
    "    img = image.array.copy()\n",
    "    img = img[:3,:,:]\n",
    "    img = (img * 255).astype(np.uint8)\n",
    "    img = img.transpose(1,2,0)\n",
    "\n",
    "    shape = img.shape[0:2]\n",
    "\n",
    "    grayscale = np.mean(img, axis=2)\n",
    "    \n",
    "    #quantile = 0.1\n",
    "    #threshold = np.quantile(grayscale, quantile) \n",
    "    black = np.ones(shape, dtype=float)\n",
    "    white = np.zeros(shape, dtype=float)\n",
    "\n",
    "    # Creation of the mask : all grayscaled prixels below the threshold \\\n",
    "    # will be black and all the grayscaled prixels above the threshold \\\n",
    "    # will be white.\n",
    "\n",
    "    mask = np.where(grayscale > threshold, white, black)\n",
    "    \n",
    "    return(mask)\n",
    "\n",
    "    # fig, (ax1, ax2) = plt.subplots(1, 2, figsize=(15, 15))\n",
    "    # ax1.imshow(grayscale, cmap=\"gray\")\n",
    "    # ax1.set_title(\"niveaux de gris\")\n",
    "    # ax1.axis('off')\n",
    "    # ax2.imshow(mask, cmap=\"gray\")\n",
    "    # ax2.set_title(\"mask\")\n",
    "    # ax2.axis('off')\n",
    "    # plt.show()"
   ]
  },
  {
   "cell_type": "code",
   "execution_count": 73,
   "id": "117fc5c1-9d84-4965-98e3-cd63a1ca8518",
   "metadata": {
    "tags": []
   },
   "outputs": [],
   "source": [
    "mask1 = mask_inversion(image_7, 110)\n",
    "fig, (ax1, ax2) = plt.subplots(1, 2, figsize=(15, 15))\n",
    "ax1.imshow(image_7.array.transpose(1,2,0))\n",
    "ax1.set_title(\"image\")\n",
    "ax1.axis('off')\n",
    "ax2.imshow(mask1, cmap=\"gray\")\n",
    "ax2.set_title(\"mask\")\n",
    "ax2.axis('off')\n",
    "plt.show()"
   ]
  },
  {
   "cell_type": "code",
   "execution_count": 33,
   "id": "41ba4f06-83fd-40e3-88ba-a170d865b2c0",
   "metadata": {},
   "outputs": [],
   "source": [
    "mask2 = mask_inversion(image_8, 95)\n",
    "fig, (ax1, ax2) = plt.subplots(1, 2, figsize=(15, 15))\n",
    "ax1.imshow(image_8.array.transpose(1,2,0))\n",
    "ax1.set_title(\"image\")\n",
    "ax1.axis('off')\n",
    "ax2.imshow(mask2, cmap=\"gray\")\n",
    "ax2.set_title(\"mask\")\n",
    "ax2.axis('off')\n",
    "plt.show()"
   ]
  },
  {
   "cell_type": "markdown",
   "id": "27529ba1-825e-4c5b-b3d1-99f6f38c109b",
   "metadata": {},
   "source": [
    "Mask pour les images en uint16"
   ]
  },
  {
   "cell_type": "code",
   "execution_count": 120,
   "id": "168c2eb1-8289-4499-97fa-a39ecba0bfd3",
   "metadata": {
    "tags": []
   },
   "outputs": [],
   "source": [
    "def mask_inversion2(image, threshold = 220):\n",
    "    img = image.array.copy()\n",
    "    img = img[:3,:,:]\n",
    "    max = np.max(img)\n",
    "    img = (img/max)*255\n",
    "    img = img.astype(np.uint8)\n",
    "    img = img*255\n",
    "    img = img.transpose(1,2,0)\n",
    "    grayscale = np.mean(img, axis=2)\n",
    "\n",
    "    shape = img.shape[0:2]\n",
    "\n",
    "    grayscale = np.mean(img, axis=2)\n",
    "\n",
    "    #quantile = 0.1\n",
    "    #threshold = np.quantile(grayscale, quantile)\n",
    "    black = np.ones(shape, dtype=float)\n",
    "    white = np.zeros(shape, dtype=float)\n",
    "\n",
    "    # Creation of the mask : all the grayscaled prixels below the threshold \\\n",
    "    # will be black and all the grayscaled prixels above the threshold \\\n",
    "    # will be white.\n",
    "\n",
    "    mask = np.where(grayscale > threshold, white, black)\n",
    "    \n",
    "    return(mask)"
   ]
  },
  {
   "cell_type": "code",
   "execution_count": 133,
   "id": "1b2e66c4-bbc5-4955-a944-f403bfd1f183",
   "metadata": {
    "tags": []
   },
   "outputs": [],
   "source": [
    "mask = mask_inversion2(image, 220)\n",
    "\n",
    "image_copy = image.copy()\n",
    "image_copy.normalize()\n",
    "\n",
    "fig, (ax1, ax2) = plt.subplots(1, 2, figsize=(15, 15))\n",
    "ax1.imshow(np.transpose(image_copy.array, (1, 2, 0))[:, :, [0,1,2]])\n",
    "ax1.set_title(\"image\")\n",
    "ax1.axis('off')\n",
    "ax2.imshow(mask, cmap = \"gray\")\n",
    "ax2.set_title(\"mask\")\n",
    "ax2.axis('off')\n",
    "plt.show()"
   ]
  },
  {
   "cell_type": "markdown",
   "id": "fdcd1360-8dce-4c72-b9e3-20f12aa26b9f",
   "metadata": {
    "jp-MarkdownHeadingCollapsed": true,
    "tags": []
   },
   "source": [
    "### Tests du masque pixel sur les patchs du train data martinique 2022"
   ]
  },
  {
   "cell_type": "markdown",
   "id": "a01fffa1-33b1-471a-a402-3bc6c297bbc1",
   "metadata": {},
   "source": [
    "essais des seuils sur 10 images"
   ]
  },
  {
   "cell_type": "code",
   "execution_count": 56,
   "id": "382a8337-5dcd-44d8-bb74-97bd69acc131",
   "metadata": {
    "tags": []
   },
   "outputs": [],
   "source": [
    "file_path = \"../train_data-PLEIADES-972-2022\"\n",
    "\n",
    "list_name = os.listdir(file_path + \"/images\")\n",
    "list_path = [ file_path + \"/images/\" + name for name in list_name]\n",
    "\n",
    "for path in tqdm(list_path[:10]):\n",
    "    try:\n",
    "        big_satellite_image = SatelliteImage.from_raster(\n",
    "            file_path=path, dep=None, date=None, n_bands=3\n",
    "        )\n",
    "        \n",
    "    except RasterioIOError:\n",
    "        continue\n",
    "\n",
    "    else:\n",
    "        mask = mask_inversion(big_satellite_image, 142)\n",
    "        fig, (ax1, ax2) = plt.subplots(1, 2, figsize=(15, 15))\n",
    "        ax1.imshow(big_satellite_image.array.transpose(1,2,0))\n",
    "        ax1.set_title(\"image de base\")\n",
    "        ax1.axis('off')\n",
    "        ax2.imshow(mask, cmap=\"gray\")\n",
    "        ax2.set_title(\"mask\")\n",
    "        ax2.axis('off')\n",
    "        plt.show()"
   ]
  },
  {
   "cell_type": "markdown",
   "id": "3dc2df86-5b66-4712-b04b-2594ab883e38",
   "metadata": {},
   "source": [
    "Pour enregistrer les masques dans un dossier :"
   ]
  },
  {
   "cell_type": "code",
   "execution_count": 36,
   "id": "3bf586ef-0586-4035-b60f-e1e97d05a60d",
   "metadata": {
    "tags": []
   },
   "outputs": [],
   "source": [
    "file_path = \"../train_data-PLEIADES-972-2022\"\n",
    "output_directory_name = '../masksimplepleiades/train/2022/MARTINIQUE'\n",
    "\n",
    "output_masks_path = output_directory_name\n",
    "\n",
    "if os.path.exists(output_masks_path):\n",
    "    print(\"fichiers déjà écrits\")\n",
    "\n",
    "if not os.path.exists(output_masks_path):\n",
    "    os.makedirs(output_masks_path)\n",
    "\n",
    "\n",
    "list_name = os.listdir(dir + \"/images\")\n",
    "list_path = [ dir + \"/images/\" + name for name in liste]\n",
    "\n",
    "\n",
    "for path, file_name in tqdm(zip(list_path, list_name), total=len(list_path), desc='Processing'):\n",
    "    try:\n",
    "        big_satellite_image = SatelliteImage.from_raster(\n",
    "            file_path=path, dep=None, date=None, n_bands=3\n",
    "        )\n",
    "        \n",
    "    except RasterioIOError:\n",
    "        continue\n",
    "\n",
    "    else:\n",
    "        mask = mask_inversion(big_satellite_image, 142)\n",
    "        file_name = file_name.split(\".\")[0]\n",
    "        np.save(output_masks_path + \"/\" + file_name + \".npy\", mask)"
   ]
  },
  {
   "cell_type": "markdown",
   "id": "d03f970c-8575-418f-854c-d50ad36d8cb4",
   "metadata": {},
   "source": [
    "## Masques de différence"
   ]
  },
  {
   "cell_type": "markdown",
   "id": "21091fab-0f33-4f53-a7e4-5e74e4f0b8bb",
   "metadata": {},
   "source": [
    "Lissage des masque en amont (pas obligatoire mais peut etre mieux)"
   ]
  },
  {
   "cell_type": "code",
   "execution_count": 34,
   "id": "b165f992-8f19-42a0-9775-c46e620bb23e",
   "metadata": {},
   "outputs": [],
   "source": [
    "from scipy.ndimage import uniform_filter"
   ]
  },
  {
   "cell_type": "code",
   "execution_count": 39,
   "id": "4b598c1a-2d0d-4fe2-a157-7e6147dd270d",
   "metadata": {},
   "outputs": [],
   "source": [
    "def lissage_mask(mask, neighborhood_size = 40, threshold = 0.5):\n",
    "    # Taille du voisinage pour le lissage\n",
    "    \n",
    "    # Érosion suivie de dilatation (lissage)\n",
    "    eroded_array = uniform_filter(mask, size=neighborhood_size, mode='constant', origin=0)\n",
    "    smoothed_array = uniform_filter(eroded_array, size=neighborhood_size, mode='constant', origin=0)\n",
    "    \n",
    "    # Seuillage pour obtenir un masque binaire\n",
    "    binary_mask = smoothed_array >= threshold\n",
    "    binary_array = binary_mask.astype(np.uint8)\n",
    "\n",
    "    return(binary_array)"
   ]
  },
  {
   "cell_type": "code",
   "execution_count": 70,
   "id": "2e2ca0f5-c190-4a9e-b88c-fb5949615e21",
   "metadata": {},
   "outputs": [],
   "source": [
    "mask_liss1 = lissage_mask(mask1, neighborhood_size = 15, threshold = 0.1)\n",
    "mask_liss2 = lissage_mask(mask2, neighborhood_size = 15, threshold = 0.1)\n",
    "\n",
    "fig, (ax1, ax2) = plt.subplots(1, 2, figsize=(15, 15))\n",
    "ax1.imshow(mask_liss2, cmap = \"gray\")\n",
    "ax1.set_title(\"lissage mask 2017\")\n",
    "ax1.axis('off')\n",
    "ax2.imshow(mask_liss1, cmap = \"gray\")\n",
    "ax2.set_title(\"lissage mask 2020\")\n",
    "ax2.axis('off')\n",
    "plt.show()"
   ]
  },
  {
   "cell_type": "code",
   "execution_count": 36,
   "id": "c222a973-2a98-492e-ae72-2731e63536c9",
   "metadata": {},
   "outputs": [],
   "source": [
    "def mask_diff(mask1, mask2):\n",
    "    array1 = (mask1*255).astype(np.uint8)\n",
    "    array2 = (mask2*255).astype(np.uint8)\n",
    "    \n",
    "    # Perform XOR operation on the arrays\n",
    "    result = np.bitwise_xor(array1, array2)\n",
    "\n",
    "    return(result)"
   ]
  },
  {
   "cell_type": "code",
   "execution_count": 71,
   "id": "c0f94981-8cf1-4850-b015-2fbaa25f0b48",
   "metadata": {},
   "outputs": [],
   "source": [
    "diff_mask = mask_diff(mask_liss1, mask_liss2)\n",
    "\n",
    "fig, ax = plt.subplots(1, 1, figsize=(5,5))\n",
    "ax.imshow(diff_mask, cmap = \"gray\")\n",
    "ax.set_title(\"mask de diff avec bruits\")\n",
    "ax.axis('off')\n",
    "plt.show()"
   ]
  },
  {
   "cell_type": "markdown",
   "id": "9b779b1f-07b6-414a-98b6-534fc63ca71f",
   "metadata": {},
   "source": [
    "Lissage de masque de diff"
   ]
  },
  {
   "cell_type": "code",
   "execution_count": 74,
   "id": "fe519776-a930-4f4a-bd89-76fdc9498311",
   "metadata": {},
   "outputs": [],
   "source": [
    "from scipy.ndimage import label"
   ]
  },
  {
   "cell_type": "code",
   "execution_count": 87,
   "id": "e4430f97-7f9c-4580-8f1f-3da10dcd5a54",
   "metadata": {},
   "outputs": [],
   "source": [
    "mask = (diff_mask*255).astype(np.uint8)\n",
    "min_size = 3000\n",
    "# Trouver les amas de pixels blancs correspondant à 5% ou plus de l'image\n",
    "#threshold = 250  # seuil pour considérer un pixel comme \"blanc\"\n",
    "\n",
    "labeled, num_features = label(mask)\n",
    "\n",
    "region_sizes = np.bincount(labeled.flat)[:]\n",
    "\n",
    "# Trier les labels de région en fonction de leur taille décroissante\n",
    "sorted_labels = np.argsort(-region_sizes)\n",
    "\n",
    "# Minimum size of the cluster\n",
    "mask_filtered = np.zeros_like(labeled)\n",
    "\n",
    "if num_features >= 1:\n",
    "    for i in tqdm(range(1, num_features + 1)): # Display the progress bar\n",
    "        if region_sizes[sorted_labels[i]] >= min_size:\n",
    "            mask_filtered[labeled == sorted_labels[i]] = 1\n",
    "        else:\n",
    "            break\n",
    "\n",
    "# Afficher l'image originale et l'image résultante côte à côte\n",
    "fig, (ax1, ax2, ax3) = plt.subplots(1, 3, figsize=(20, 20))\n",
    "ax1.imshow(np.transpose(image_8.array, (1, 2, 0))[:, :, [0,1,2]])\n",
    "ax1.set_title(\"image 2017\")\n",
    "ax1.axis('off')\n",
    "ax2.imshow(np.transpose(image_7.array, (1, 2, 0))[:, :, [0,1,2]])\n",
    "ax2.set_title(\"image 2020\")\n",
    "ax2.axis('off')\n",
    "ax3.imshow(mask_filtered, cmap = \"gray\")\n",
    "ax3.set_title(\"masque de différence filtré\")\n",
    "ax3.axis('off')\n",
    "plt.show()"
   ]
  },
  {
   "cell_type": "code",
   "execution_count": 88,
   "id": "18ac14a3-a6c1-4282-b334-c8b33dee6a6c",
   "metadata": {},
   "outputs": [],
   "source": [
    "import geopandas as gpd\n",
    "from shapely.geometry import Polygon\n",
    "from rasterio.features import rasterize, shapes\n",
    "import math"
   ]
  },
  {
   "cell_type": "code",
   "execution_count": 114,
   "id": "474fe0ab-7c39-4b7a-9c75-00df07be4f6f",
   "metadata": {},
   "outputs": [],
   "source": [
    "nchannel, height, width = (3, 2000, 2000)\n",
    "\n",
    "# Create a list of polygons from the masked center clouds in order\n",
    "# to obtain a GeoDataFrame from it\n",
    "polygon_list_center = []\n",
    "for shape in list(shapes(diff_mask)):\n",
    "    polygon = Polygon(shape[0][\"coordinates\"][0])\n",
    "    surface = polygon.area\n",
    "    perimetre = polygon.length\n",
    "    RP = perimetre/(2*np.pi)\n",
    "    RS = math.sqrt(surface/np.pi)\n",
    "    # if RP/RS > 2:\n",
    "    #     continue\n",
    "    if polygon.area > 0.85 * height * width:\n",
    "        print(\"coucou\")\n",
    "        continue\n",
    "    if polygon.area < 0.0007 * height * width:\n",
    "        continue\n",
    "    polygon_list_center.append(polygon)\n",
    "\n",
    "result = gpd.GeoDataFrame(geometry=polygon_list_center)\n",
    "print(result)\n",
    "\n",
    "\n",
    "#Rasterize the geometries into a numpy array\n",
    "if result.empty:\n",
    "    rasterized = np.zeros((2000,2000))\n",
    "else:\n",
    "    rasterized = rasterize(\n",
    "        result.geometry,\n",
    "        out_shape=(2000,2000),\n",
    "        fill=0,\n",
    "        out=None,\n",
    "        all_touched=True,\n",
    "        default_value=1,\n",
    "        dtype=None,\n",
    "    )\n",
    "\n",
    "fig, (ax1, ax2, ax3) = plt.subplots(1, 3, figsize=(20, 20))\n",
    "ax1.imshow(np.transpose(image_8.array, (1, 2, 0))[:, :, [0,1,2]])\n",
    "ax1.set_title(\"image 2017\")\n",
    "ax1.axis('off')\n",
    "ax2.imshow(np.transpose(image_7.array, (1, 2, 0))[:, :, [0,1,2]])\n",
    "ax2.set_title(\"image 2020\")\n",
    "ax2.axis('off')\n",
    "ax3.imshow(rasterized, cmap = \"gray\")\n",
    "ax3.set_title(\"masque de différence filtré\")\n",
    "ax3.axis('off')\n",
    "plt.show()"
   ]
  },
  {
   "cell_type": "code",
   "execution_count": 120,
   "id": "7ab926ec-0f0f-4a07-a20b-2ec815e1b98b",
   "metadata": {},
   "outputs": [],
   "source": [
    "def mask_diff_tt1(image_t, image_t1):\n",
    "\n",
    "    mask_t = mask_inversion(image_t, 110)\n",
    "    mask_t1 = mask_inversion(image_t1, 110)\n",
    "\n",
    "    mask_liss1 = lissage_mask(mask_t, neighborhood_size = 15, threshold = 0.1)\n",
    "    mask_liss2 = lissage_mask(mask_t1, neighborhood_size = 15, threshold = 0.1)\n",
    "\n",
    "    diff_mask = mask_diff(mask_liss1, mask_liss2)\n",
    "\n",
    "    nchannel, height, width = (3, 2000, 2000)\n",
    "\n",
    "    # Create a list of polygons from the masked center clouds in order\n",
    "    # to obtain a GeoDataFrame from it\n",
    "    polygon_list_center = []\n",
    "    for shape in list(shapes(diff_mask)):\n",
    "        polygon = Polygon(shape[0][\"coordinates\"][0])\n",
    "        surface = polygon.area\n",
    "        perimetre = polygon.length\n",
    "        RP = perimetre/(2*np.pi)\n",
    "        RS = math.sqrt(surface/np.pi)\n",
    "        # if RP/RS > 2:\n",
    "        #     continue\n",
    "        if polygon.area > 0.85 * height * width:\n",
    "            continue\n",
    "        if polygon.area < 0.0007 * height * width:\n",
    "            continue\n",
    "        polygon_list_center.append(polygon)\n",
    "    \n",
    "    result = gpd.GeoDataFrame(geometry=polygon_list_center)\n",
    "    \n",
    "    \n",
    "    #Rasterize the geometries into a numpy array\n",
    "    if result.empty:\n",
    "        rasterized = np.zeros((2000,2000))\n",
    "    else:\n",
    "        rasterized = rasterize(\n",
    "            result.geometry,\n",
    "            out_shape=(2000,2000),\n",
    "            fill=0,\n",
    "            out=None,\n",
    "            all_touched=True,\n",
    "            default_value=1,\n",
    "            dtype=None,\n",
    "        )\n",
    "\n",
    "    return(rasterized)"
   ]
  },
  {
   "cell_type": "code",
   "execution_count": 121,
   "id": "9b880cc8-4809-4718-92c4-b516902008a4",
   "metadata": {},
   "outputs": [],
   "source": [
    "rasterized = mask_diff_tt1(image_5, image_6)\n",
    "\n",
    "fig, (ax1, ax2, ax3) = plt.subplots(1, 3, figsize=(20, 20))\n",
    "ax1.imshow(np.transpose(image_6.array, (1, 2, 0))[:, :, [0,1,2]])\n",
    "ax1.set_title(\"image 2017\")\n",
    "ax1.axis('off')\n",
    "ax2.imshow(np.transpose(image_5.array, (1, 2, 0))[:, :, [0,1,2]])\n",
    "ax2.set_title(\"image 2020\")\n",
    "ax2.axis('off')\n",
    "ax3.imshow(rasterized, cmap = \"gray\")\n",
    "ax3.set_title(\"masque de différence filtré\")\n",
    "ax3.axis('off')\n",
    "plt.show()"
   ]
  }
 ],
 "metadata": {
  "kernelspec": {
   "display_name": "Python 3 (ipykernel)",
   "language": "python",
   "name": "python3"
  },
  "language_info": {
   "codemirror_mode": {
    "name": "ipython",
    "version": 3
   },
   "file_extension": ".py",
   "mimetype": "text/x-python",
   "name": "python",
   "nbconvert_exporter": "python",
   "pygments_lexer": "ipython3",
   "version": "3.10.9"
  }
 },
 "nbformat": 4,
 "nbformat_minor": 5
}
