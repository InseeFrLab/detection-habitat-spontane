{
 "cells": [
  {
   "cell_type": "code",
   "execution_count": 1,
   "id": "4da41416-9ac3-465d-87bb-f071d4bcb7b5",
   "metadata": {
    "tags": []
   },
   "outputs": [],
   "source": [
    "%load_ext autoreload\n",
    "%autoreload 2"
   ]
  },
  {
   "cell_type": "code",
   "execution_count": null,
   "id": "0deea894-525e-4d99-9789-d27a89651ac2",
   "metadata": {
    "tags": []
   },
   "outputs": [],
   "source": [
    "! pip install rasterio  -q -q -q\n",
    "! pip install geopandas -q -q -q\n",
    "! pip install matplotlib -q -q -q"
   ]
  },
  {
   "cell_type": "code",
   "execution_count": 18,
   "id": "9e3572ee-9f64-4ab7-ae42-b236757ca62f",
   "metadata": {
    "tags": []
   },
   "outputs": [],
   "source": [
    "!pip install scikit-image"
   ]
  },
  {
   "cell_type": "code",
   "execution_count": 3,
   "id": "c896f2d3-81a9-4106-98c1-bb9755834b31",
   "metadata": {
    "tags": []
   },
   "outputs": [],
   "source": [
    "import sys\n",
    "sys.path.append('../src')\n",
    "from classes.data.satellite_image import SatelliteImage\n",
    "from utils.utils import *\n",
    "from utils.plot_utils import *\n",
    "from utils.image_utils import *\n",
    "import utils.mappings as mapps"
   ]
  },
  {
   "cell_type": "code",
   "execution_count": 4,
   "id": "24e0bd01-ada4-4370-b219-b38955cb9b99",
   "metadata": {
    "tags": []
   },
   "outputs": [],
   "source": [
    "import yaml\n",
    "import re\n",
    "import s3fs\n",
    "import numpy as np\n",
    "import matplotlib.pyplot as plt\n",
    "from PIL import Image as im\n",
    "import re\n",
    "from pyproj import Transformer\n",
    "from datetime import date\n",
    "from scipy.ndimage import label\n",
    "import time\n",
    "from tqdm import tqdm\n",
    "import os"
   ]
  },
  {
   "cell_type": "code",
   "execution_count": 7,
   "id": "7282fce5-0040-48ba-8669-82b2a31ea085",
   "metadata": {
    "tags": []
   },
   "outputs": [],
   "source": [
    "update_storage_access()"
   ]
  },
  {
   "cell_type": "code",
   "execution_count": 8,
   "id": "47f355c1-e80b-49d0-8b9b-4ee41c096447",
   "metadata": {
    "tags": []
   },
   "outputs": [],
   "source": [
    "environment = get_environment()\n",
    "\n",
    "root_path = get_root_path()\n",
    "\n",
    "bucket = environment[\"bucket\"]\n",
    "\n",
    "#2022\n",
    "#guyane 2022\n",
    "path_s3_pleiades_data_2022_guyane = environment[\"sources\"][\"PLEIADES\"][2022][\"guyane\"]\n",
    "path_local_pleiades_data_2022_guyane = environment[\"local-path\"][\"PLEIADES\"][2022][\"guyane\"]\n",
    "\n",
    "#martinique 2022\n",
    "path_s3_pleiades_data_2022_martinique = environment[\"sources\"][\"PLEIADES\"][2022][\"martinique\"]\n",
    "path_local_pleiades_data_2022_martinique = environment[\"local-path\"][\"PLEIADES\"][2022][\"martinique\"]\n",
    "          \n",
    "#guadeloupe 2022\n",
    "path_s3_pleiades_data_2022_guadeloupe = environment[\"sources\"][\"PLEIADES\"][2022][\"guadeloupe\"]\n",
    "path_local_pleiades_data_2022_guadeloupe = environment[\"local-path\"][\"PLEIADES\"][2022][\"guadeloupe\"]\n",
    "\n",
    "#mayotte 2022\n",
    "path_s3_pleiades_data_2022_mayotte = environment[\"sources\"][\"PLEIADES\"][2022][\"976\"]\n",
    "path_local_pleiades_data_2022_mayotte = environment[\"local-path\"][\"PLEIADES\"][2022][\"976\"]\n",
    "\n",
    "#2020\n",
    "#mayotte 2020\n",
    "path_s3_pleiades_data_2020_mayotte = environment[\"sources\"][\"PLEIADES\"][2020][\"976\"]\n",
    "path_local_pleiades_data_2020_mayotte = environment[\"local-path\"][\"PLEIADES\"][2020][\"976\"]\n",
    "\n",
    "#2019\n",
    "#mayotte 2019\n",
    "path_s3_pleiades_data_2019_mayotte = environment[\"sources\"][\"PLEIADES\"][2019][\"976\"]\n",
    "path_local_pleiades_data_2019_mayotte = environment[\"local-path\"][\"PLEIADES\"][2019][\"976\"]\n",
    "\n",
    "#2018\n",
    "#reunion 2018\n",
    "path_s3_pleiades_data_2018_reunion = environment[\"sources\"][\"PLEIADES\"][2018][\"reunion\"]\n",
    "path_local_pleiades_data_2018_reunion = environment[\"local-path\"][\"PLEIADES\"][2018][\"reunion\"]\n",
    "\n",
    "#2017\n",
    "#martinique 2017\n",
    "path_s3_pleiades_data_2017_martinique = environment[\"sources\"][\"PLEIADES\"][2017][\"martinique\"]\n",
    "path_local_pleiades_data_2017_martinique = environment[\"local-path\"][\"PLEIADES\"][2017][\"martinique\"]\n",
    "\n",
    "#mayotte 2017\n",
    "path_s3_pleiades_data_2017_mayotte = environment[\"sources\"][\"PLEIADES\"][2017][\"976\"]\n",
    "path_local_pleiades_data_2017_mayotte = environment[\"local-path\"][\"PLEIADES\"][2017][\"976\"]\n",
    "\n",
    "fs = s3fs.S3FileSystem(client_kwargs={\"endpoint_url\": \"https://minio.lab.sspcloud.fr\"})"
   ]
  },
  {
   "cell_type": "code",
   "execution_count": 9,
   "id": "91f3c4aa-1acb-4aed-9549-075c6152b838",
   "metadata": {
    "tags": []
   },
   "outputs": [],
   "source": [
    "environment = get_environment()\n",
    "root_path = get_root_path()\n",
    "bucket = environment[\"bucket\"]\n",
    "\n",
    "#mayotte 2022\n",
    "path_s3_pleiades_data_2022_mayotte = environment[\"sources\"][\"PLEIADES\"][2022][\"976\"]\n",
    "path_local_pleiades_data_2022_mayotte = environment[\"local-path\"][\"PLEIADES\"][2022][\"976\"]\n",
    "\n",
    "#2020\n",
    "#mayotte 2020\n",
    "path_s3_pleiades_data_2020_mayotte = environment[\"sources\"][\"PLEIADES\"][2020][\"976\"]\n",
    "path_local_pleiades_data_2020_mayotte = environment[\"local-path\"][\"PLEIADES\"][2020][\"976\"]\n",
    "\n",
    "#2019\n",
    "#mayotte 2019\n",
    "path_s3_pleiades_data_2019_mayotte = environment[\"sources\"][\"PLEIADES\"][2019][\"976\"]\n",
    "path_local_pleiades_data_2019_mayotte = environment[\"local-path\"][\"PLEIADES\"][2019][\"976\"]\n",
    "\n",
    "fs = s3fs.S3FileSystem(client_kwargs={\"endpoint_url\": \"https://minio.lab.sspcloud.fr\"})"
   ]
  },
  {
   "cell_type": "code",
   "execution_count": 10,
   "id": "f2c84e47-c291-450e-9a5b-3d81aa1023f8",
   "metadata": {
    "tags": []
   },
   "outputs": [],
   "source": [
    "# DL PLEIADE mayotte 2020\n",
    "fs.download(\n",
    "        rpath=f\"{bucket}/{path_s3_pleiades_data_2020_mayotte}\",\n",
    "        lpath=f\"../{path_local_pleiades_data_2020_mayotte}\",\n",
    "        recursive=True)"
   ]
  },
  {
   "cell_type": "code",
   "execution_count": null,
   "id": "5af103e9-e6ca-4433-afd7-e8289d160575",
   "metadata": {
    "tags": []
   },
   "outputs": [],
   "source": [
    "# DL PLEIADE mayotte 2017\n",
    "fs.download(\n",
    "        rpath=f\"{bucket}/{path_s3_pleiades_data_2017_mayotte}\",\n",
    "        lpath=f\"../{path_local_pleiades_data_2017_mayotte}\",\n",
    "        recursive=True)"
   ]
  },
  {
   "cell_type": "code",
   "execution_count": 9,
   "id": "944943e2-ee8a-4d2b-ac7a-554fea9f5796",
   "metadata": {
    "tags": []
   },
   "outputs": [],
   "source": [
    "# DL PLEIADE martinique 2022 utilisé !\n",
    "fs.download(\n",
    "        rpath=f\"{bucket}/{path_s3_pleiades_data_2022_martinique}\",\n",
    "        lpath=f\"../{path_local_pleiades_data_2022_martinique}\",\n",
    "        recursive=True)"
   ]
  },
  {
   "cell_type": "code",
   "execution_count": 57,
   "id": "eea468e2-9394-4216-acc2-adfab00a4118",
   "metadata": {
    "tags": []
   },
   "outputs": [],
   "source": [
    "# DL PLEIADE martinique 2017 utilisé !\n",
    "fs.download(\n",
    "        rpath=f\"{bucket}/{path_s3_pleiades_data_2017_martinique}\",\n",
    "        lpath=f\"../{path_local_pleiades_data_2017_martinique}\",\n",
    "        recursive=True)"
   ]
  },
  {
   "cell_type": "code",
   "execution_count": 6,
   "id": "06127c88-bf6b-4aa0-8499-b354f01ef1eb",
   "metadata": {
    "tags": []
   },
   "outputs": [],
   "source": [
    "# DL PLEIADE guyane 2022 utilisé !\n",
    "fs.download(\n",
    "        rpath=f\"{bucket}/{path_s3_pleiades_data_2022_guyane}\",\n",
    "        lpath=f\"../{path_local_pleiades_data_2022_guyane}\",\n",
    "        recursive=True)"
   ]
  },
  {
   "cell_type": "markdown",
   "id": "1c64c52d-bc2c-4883-a075-c690c15f87de",
   "metadata": {},
   "source": [
    "En martinique :\n",
    "(14.635338, -61.038345) plateau médico-technique construit en 2018 (côté droit du triangle). \n",
    "Essayons de retrouver l'image qui le contient."
   ]
  },
  {
   "cell_type": "code",
   "execution_count": 210,
   "id": "2bc51f0d-2160-451f-b761-494ce5937bad",
   "metadata": {
    "tags": []
   },
   "outputs": [],
   "source": [
    "#Nouvelle image 1\n",
    "filename_1 = find_image_of_point([14.635338, -61.038345], '../data/PLEIADES/2022/MARTINIQUE', coord_gps = True)\n",
    "date_1 = date.fromisoformat('2022-01-01')"
   ]
  },
  {
   "cell_type": "code",
   "execution_count": 129,
   "id": "21db53f2-65a2-43cc-ac24-2801ec00838a",
   "metadata": {
    "tags": []
   },
   "outputs": [],
   "source": [
    "image_1 = SatelliteImage.from_raster(\n",
    "        filename_1,\n",
    "        date = date_1, \n",
    "        n_bands = 3,\n",
    "        dep = \"972\"\n",
    "    )\n",
    "image_1.normalize()"
   ]
  },
  {
   "cell_type": "code",
   "execution_count": 130,
   "id": "f6fdf8ca-1404-444f-a424-db00f0dfa1da",
   "metadata": {
    "tags": []
   },
   "outputs": [],
   "source": [
    "image_1.plot([0,1,2]) "
   ]
  },
  {
   "cell_type": "code",
   "execution_count": 97,
   "id": "6fffd702-00c6-4683-b630-272518129f76",
   "metadata": {
    "tags": []
   },
   "outputs": [],
   "source": [
    "#image 2\n",
    "filename_2 = find_image_different_years(2017, None, filename_1)\n",
    "date_2 = date.fromisoformat('2017-01-01')"
   ]
  },
  {
   "cell_type": "code",
   "execution_count": 98,
   "id": "dcc46635-52e3-4713-af00-5cadd0bc79a6",
   "metadata": {
    "tags": []
   },
   "outputs": [],
   "source": [
    "image_2 = SatelliteImage.from_raster(\n",
    "        filename_2,\n",
    "        date = date_2, \n",
    "        n_bands = 3,\n",
    "        dep = \"972\"\n",
    "    )\n",
    "image_2.normalize()"
   ]
  },
  {
   "cell_type": "code",
   "execution_count": 89,
   "id": "23f8d28f-7c27-4a0c-b3ed-96068b87f36d",
   "metadata": {
    "tags": []
   },
   "outputs": [],
   "source": [
    "image_2.plot([0,1,2])"
   ]
  },
  {
   "cell_type": "markdown",
   "id": "439a6d99-e43e-4e30-8d25-b23c496d9f62",
   "metadata": {},
   "source": [
    "On a bien un changement à droite du triangle. Il ne reste plus qu'a avoir la bande infrarouge pour faire les masques puis les différences."
   ]
  },
  {
   "cell_type": "markdown",
   "id": "4c7537b3-1685-4b5b-8f10-51b4ff176b0a",
   "metadata": {},
   "source": [
    "On va chercher en guyane : (-12.755601, 45.229945) coordonnées d'un quartier"
   ]
  },
  {
   "cell_type": "code",
   "execution_count": 31,
   "id": "edc22415-6ba7-46e2-946a-874e783da90b",
   "metadata": {
    "tags": []
   },
   "outputs": [],
   "source": [
    "filename_5 = find_image_of_point([-12.755601, 45.229945], '../data/PLEIADES/2020/MAYOTTE', coord_gps = True)\n",
    "date_5 = date.fromisoformat('2020-01-01')\n",
    "print(filename_5)"
   ]
  },
  {
   "cell_type": "code",
   "execution_count": 32,
   "id": "589149b5-714f-40ab-ad8f-8a8060f197c8",
   "metadata": {
    "tags": []
   },
   "outputs": [],
   "source": [
    "image_5 = SatelliteImage.from_raster(\n",
    "        filename_5,\n",
    "        date = date_5, \n",
    "        n_bands = 3,\n",
    "        dep = \"976\"\n",
    "    )"
   ]
  },
  {
   "cell_type": "code",
   "execution_count": 33,
   "id": "2192c502-ff33-4417-b8ba-1064a4c90182",
   "metadata": {
    "tags": []
   },
   "outputs": [],
   "source": [
    "image_5.plot([0,1,2])\n",
    "image_5 = SatelliteImage.from_raster(\n",
    "        filename_5,\n",
    "        date = date_5, \n",
    "        n_bands = 3,\n",
    "        dep = \"976\"\n",
    "    )"
   ]
  },
  {
   "cell_type": "code",
   "execution_count": 39,
   "id": "c0e8e63a-abc2-479d-923d-c048c99badca",
   "metadata": {
    "tags": []
   },
   "outputs": [],
   "source": [
    "from utils.gestion_label_studio import create_mask_from_label_studio_export\n",
    "\n",
    "create_mask_from_label_studio_export(\n",
    "            num_task = \"3\",\n",
    "            name_output = \"mayotte-ORT_2020052526670967_0524_8590_U38S_8Bits\"\n",
    "        )\n",
    "\n",
    "mask  = np.load(\"../export/mayotte-ORT_2020052526670967_0524_8590_U38S_8Bits.npy\")\n",
    "plt.imshow(np.transpose(mask), cmap=\"gray\", interpolation=\"nearest\")\n",
    "\n",
    "np.save(\"../export/mayotte-ORT_2020052526670967_0524_8590_U38S_8Bits.npy\",np.transpose(mask))"
   ]
  },
  {
   "cell_type": "markdown",
   "id": "d88b87fb-477b-421a-b5bf-e3c0c5b0d96e",
   "metadata": {},
   "source": [
    "mc cp s3/projet-slums-detection/Donnees/PLEIADES/MAYOTTE/2020/MOSA/ORT_2020052526670967_0524_8590_U38S_8Bits.jp2 s3/projet-slums-detection/donnees-test/segmentation/images/mayotte-ORT_2020052526670967_0524_8590_U38S_8Bits.jp2\n",
    "mc cp export/mayotte-ORT_2020052526670967_0524_8590_U38S_8Bits.npy s3/projet-slums-detection/donnees-test/segmentation/masks/mayotte-ORT_2020052526670967_0524_8590_U38S_8Bits.npy\n"
   ]
  },
  {
   "cell_type": "code",
   "execution_count": 148,
   "id": "bc894d7c-9c50-4964-9308-e200cb3d90ea",
   "metadata": {
    "tags": []
   },
   "outputs": [],
   "source": [
    "filename_6 = find_image_different_years(2017, image_5)\n",
    "date_6 = date.fromisoformat('2020-01-01')"
   ]
  },
  {
   "cell_type": "code",
   "execution_count": 149,
   "id": "b03f5191-66e0-4d74-82ef-cf356cd416d7",
   "metadata": {
    "tags": []
   },
   "outputs": [],
   "source": [
    "image_6 = SatelliteImage.from_raster(\n",
    "        filename_6,\n",
    "        date = date_6, \n",
    "        n_bands = 3,\n",
    "        dep = \"976\"\n",
    "    )\n",
    "image_6.normalize()"
   ]
  },
  {
   "cell_type": "code",
   "execution_count": 150,
   "id": "7b00267b-61da-4243-af08-72acec3c36b1",
   "metadata": {
    "tags": []
   },
   "outputs": [],
   "source": [
    "image_6.plot([0,1,2])"
   ]
  },
  {
   "cell_type": "markdown",
   "id": "db822ecb-dc96-49ea-a2bc-f65cdd8ba372",
   "metadata": {},
   "source": [
    "Dans la moitié haute de l'image à droite, il y a plusieurs bâtiments qui ont été construits."
   ]
  },
  {
   "cell_type": "markdown",
   "id": "af09cb0d-240b-44f1-b4a4-7e3b5cf1c53c",
   "metadata": {},
   "source": [
    "Pas de RIL pour ces deux années en mayotte ..."
   ]
  },
  {
   "cell_type": "code",
   "execution_count": 15,
   "id": "b2a1e8b3-be6f-49c4-a5d1-882efa897033",
   "metadata": {
    "tags": []
   },
   "outputs": [],
   "source": [
    "filename_7 = find_image_of_point([-12.753436, 45.219888], '../data/PLEIADES/2020/MAYOTTE', coord_gps = True)\n",
    "date_7 = date.fromisoformat('2020-01-01')\n",
    "print(filename_7)"
   ]
  },
  {
   "cell_type": "code",
   "execution_count": 105,
   "id": "8e054e9c-f605-4571-90c3-f632e14ae2eb",
   "metadata": {
    "tags": []
   },
   "outputs": [],
   "source": [
    "image_7 = SatelliteImage.from_raster(\n",
    "        filename_7,\n",
    "        date = date_7, \n",
    "        n_bands = 3,\n",
    "        dep = \"976\"\n",
    "    )\n",
    "image_7.normalize()"
   ]
  },
  {
   "cell_type": "code",
   "execution_count": 38,
   "id": "1f888a35-50bf-427d-930b-97efdcf87666",
   "metadata": {
    "tags": []
   },
   "outputs": [],
   "source": [
    "image_7.plot([0,1,2])"
   ]
  },
  {
   "cell_type": "code",
   "execution_count": 30,
   "id": "ae294174-c7ef-43fe-8d05-0ce4c5039846",
   "metadata": {
    "tags": []
   },
   "outputs": [],
   "source": [
    "from utils.gestion_label_studio import create_mask_from_label_studio_export\n",
    "\n",
    "create_mask_from_label_studio_export(\n",
    "            num_task = \"1\",\n",
    "            name_output = \"mayotte-ORT_2020052526670967_0523_8591_U38S_8Bit\"\n",
    "        )\n"
   ]
  },
  {
   "cell_type": "markdown",
   "id": "c0530458-77fe-4b7b-8e20-22b3b79f01f9",
   "metadata": {},
   "source": [
    "mc cp s3/projet-slums-detection/Donnees/PLEIADES/MAYOTTE/2020/MOSA/ORT_2020052526670967_0523_8591_U38S_8Bits.jp2 s3/projet-slums-detection/donnees-test/segmentation/images/mayotte-ORT_2020052526670967_0523_8591_U38S_8Bits.jp2\n",
    "\n",
    "mc cp export/mayotte-ORT_2020052526670967_0523_8591_U38S_8Bit.npy s3/projet-slums-detection/donnees-test/segmentation/masks/mayotte-ORT_2020052526670967_0523_8591_U38S_8Bit.npy\n"
   ]
  },
  {
   "cell_type": "code",
   "execution_count": 106,
   "id": "c87ed0b6-d210-462f-a8f6-fb6383b824bd",
   "metadata": {
    "tags": []
   },
   "outputs": [],
   "source": [
    "from PIL import Image\n",
    "import numpy as np\n",
    "import io\n",
    "\n",
    "# Créer un tableau avec des données d'exemple\n",
    "data = image_7.array\n",
    "data = (data * 255).astype(np.uint8)\n",
    "data = data.transpose(1,2,0)\n",
    "\n",
    "\n",
    "# Convertir le tableau en image\n",
    "image = Image.fromarray(data)\n",
    "\n",
    "# Sauvegarder l'image en tant que fichier PNG\n",
    "image.save(\"image.png\")\n",
    "\n",
    "# Enregistrer l'image en tant qu'objet bytes pour téléchargement\n",
    "img_bytes = io.BytesIO()\n",
    "image.save(img_bytes, format='PNG')\n",
    "img_bytes.seek(0)\n",
    "\n",
    "# Envoyer l'image pour téléchargement\n",
    "from IPython.display import FileLink\n",
    "display(FileLink(\"image.png\"))"
   ]
  },
  {
   "cell_type": "code",
   "execution_count": 7,
   "id": "b675ce77-f154-409b-a500-f51d2b2b201c",
   "metadata": {
    "tags": []
   },
   "outputs": [],
   "source": [
    "filename_8 = find_image_of_point([-12.753436, 45.219888], '../data/PLEIADES/2017/MAYOTTE', coord_gps = True)\n",
    "#filename_8 = find_image_different_years(2017, image_7)\n",
    "date_8 = date.fromisoformat('2017-01-01')"
   ]
  },
  {
   "cell_type": "code",
   "execution_count": 103,
   "id": "e70fc116-3d5e-4615-92d8-f2363fbd61cb",
   "metadata": {
    "tags": []
   },
   "outputs": [],
   "source": [
    "image_8 = SatelliteImage.from_raster(\n",
    "        filename_8,\n",
    "        date = date_8, \n",
    "        n_bands = 3,\n",
    "        dep = \"976\"\n",
    "    )\n",
    "image_8.normalize()"
   ]
  },
  {
   "cell_type": "code",
   "execution_count": 101,
   "id": "8cf7c4f2-5123-4473-a94f-9fce7ba6f913",
   "metadata": {
    "tags": []
   },
   "outputs": [],
   "source": [
    "image_8.plot([0,1,2])"
   ]
  },
  {
   "cell_type": "code",
   "execution_count": 104,
   "id": "d14049c6-9543-42f0-84b3-9a04062b9c49",
   "metadata": {
    "tags": []
   },
   "outputs": [],
   "source": [
    "from PIL import Image\n",
    "import numpy as np\n",
    "import io\n",
    "\n",
    "# Créer un tableau avec des données d'exemple\n",
    "data = image_8.array\n",
    "data = (data * 255).astype(np.uint8)\n",
    "data = data.transpose(1,2,0)\n",
    "\n",
    "\n",
    "# Convertir le tableau en image\n",
    "image = Image.fromarray(data)\n",
    "\n",
    "# Sauvegarder l'image en tant que fichier PNG\n",
    "image.save(\"image.png\")\n",
    "\n",
    "# Enregistrer l'image en tant qu'objet bytes pour téléchargement\n",
    "img_bytes = io.BytesIO()\n",
    "image.save(img_bytes, format='PNG')\n",
    "img_bytes.seek(0)\n",
    "\n",
    "# Envoyer l'image pour téléchargement\n",
    "from IPython.display import FileLink\n",
    "display(FileLink(\"image.png\"))"
   ]
  },
  {
   "cell_type": "code",
   "execution_count": 12,
   "id": "919e6e5c-2e41-431c-831e-d6930c489f08",
   "metadata": {
    "tags": []
   },
   "outputs": [],
   "source": [
    "data = image_8.array.copy()\n",
    "data = (data * 255).astype(np.uint8)\n",
    "data = data.transpose(1,2,0)"
   ]
  },
  {
   "cell_type": "code",
   "execution_count": 14,
   "id": "940a1158-2004-4158-92d3-c010f440b8bf",
   "metadata": {
    "tags": []
   },
   "outputs": [],
   "source": [
    "plt.imshow(data)\n",
    "plt.axis('off')  # Turn off axis labels\n",
    "plt.show()"
   ]
  },
  {
   "cell_type": "code",
   "execution_count": null,
   "id": "06599b0a-fa8c-48c8-94d9-ea9f7288782f",
   "metadata": {},
   "outputs": [],
   "source": [
    "from PIL import Image\n",
    "import numpy as np\n",
    "import io\n",
    "\n",
    "# Créer un tableau avec des données d'exemple\n",
    "data = image_8.array\n",
    "data = (data * 255).astype(np.uint8)\n",
    "data = data.transpose(1,2,0)\n",
    "\n",
    "\n",
    "# Convertir le tableau en image\n",
    "image = Image.fromarray(data)\n",
    "\n",
    "# Sauvegarder l'image en tant que fichier PNG\n",
    "image.save(\"image.png\")\n",
    "\n",
    "# Enregistrer l'image en tant qu'objet bytes pour téléchargement\n",
    "img_bytes = io.BytesIO()\n",
    "image.save(img_bytes, format='PNG')\n",
    "img_bytes.seek(0)\n",
    "\n",
    "# Envoyer l'image pour téléchargement\n",
    "from IPython.display import FileLink\n",
    "display(FileLink(\"image.png\"))"
   ]
  },
  {
   "cell_type": "code",
   "execution_count": 42,
   "id": "4049437d-3b63-4d0a-a3c5-ecf1a5ea7c21",
   "metadata": {
    "tags": []
   },
   "outputs": [],
   "source": [
    "data2 = image_7.array.copy()\n",
    "data2 = data2.transpose(1,2,0)"
   ]
  },
  {
   "cell_type": "code",
   "execution_count": 43,
   "id": "d8a7fcb7-6f00-424a-a30c-f266b9941969",
   "metadata": {
    "tags": []
   },
   "outputs": [],
   "source": [
    "plt.imshow(data2)"
   ]
  },
  {
   "cell_type": "code",
   "execution_count": 54,
   "id": "886ce652-ba65-4757-a677-517ff66736ff",
   "metadata": {
    "tags": []
   },
   "outputs": [],
   "source": [
    "fig, (ax1, ax2) = plt.subplots(1, 2, figsize=(10, 5))\n",
    "ax1.imshow(data)\n",
    "ax1.set_title(\"Image 2017\")\n",
    "ax1.axis('off')\n",
    "ax2.imshow(data2)\n",
    "ax2.set_title(\"Image 2020\")\n",
    "ax2.axis('off')\n",
    "plt.show()\n"
   ]
  },
  {
   "cell_type": "code",
   "execution_count": 108,
   "id": "b5716c5f-286e-45c9-a3e9-7895cb0e54c5",
   "metadata": {
    "tags": []
   },
   "outputs": [],
   "source": [
    "from classes.labelers.labeler import BDTOPOLabeler"
   ]
  },
  {
   "cell_type": "code",
   "execution_count": 111,
   "id": "062c34ee-64a6-4790-972b-9f1a479b3aca",
   "metadata": {
    "tags": []
   },
   "outputs": [],
   "source": [
    "labeler_BDTOPO2020 = BDTOPOLabeler(date_7, '976')"
   ]
  },
  {
   "cell_type": "code",
   "execution_count": 112,
   "id": "3157553b-c7a2-4072-aceb-72358b9531d4",
   "metadata": {
    "tags": []
   },
   "outputs": [],
   "source": [
    "labeler_BDTOPO2017 = BDTOPOLabeler(date_8, '976')"
   ]
  },
  {
   "cell_type": "code",
   "execution_count": 114,
   "id": "1a042e2d-777e-4eae-aadb-902e11268e54",
   "metadata": {
    "tags": []
   },
   "outputs": [],
   "source": [
    "mask_BDTOPO2020 = labeler_BDTOPO2020.create_segmentation_label(image_7)"
   ]
  },
  {
   "cell_type": "code",
   "execution_count": 115,
   "id": "1728d3dc-203d-48cf-85ff-6ff6397fe867",
   "metadata": {
    "tags": []
   },
   "outputs": [],
   "source": [
    "mask_BDTOPO2017 = labeler_BDTOPO2017.create_segmentation_label(image_8)"
   ]
  },
  {
   "cell_type": "code",
   "execution_count": 117,
   "id": "6bae9ce5-8cb2-42fc-ac8c-849212866934",
   "metadata": {
    "tags": []
   },
   "outputs": [],
   "source": [
    "plt.imshow(mask_BDTOPO2020, cmap=\"gray\")"
   ]
  },
  {
   "cell_type": "code",
   "execution_count": 118,
   "id": "d1c4afb9-a8aa-4423-9303-c8d18e2234db",
   "metadata": {
    "tags": []
   },
   "outputs": [],
   "source": [
    "plt.imshow(mask_BDTOPO2017, cmap=\"gray\")"
   ]
  },
  {
   "cell_type": "code",
   "execution_count": 223,
   "id": "e9043ccc-8a77-4afb-bf72-a327289937ff",
   "metadata": {
    "tags": []
   },
   "outputs": [],
   "source": [
    "import pandas as pd\n",
    "\n",
    "xmin, ymin, xmax, ymax = image_7.bounds\n",
    "patch_2017 = labeler_BDTOPO2017.labeling_data.cx[xmin:xmax, ymin:ymax].copy()\n",
    "patch_2020 = labeler_BDTOPO2020.labeling_data.cx[xmin:xmax, ymin:ymax].copy()\n",
    "\n",
    "common_crs = \"EPSG:4471\"\n",
    "\n",
    "# Transformer les géométries en utilisant le CRS commun\n",
    "patch_2020 = patch_2020.to_crs(common_crs)\n",
    "patch_2017 = patch_2017.to_crs(common_crs)\n",
    "\n",
    "\n",
    "gdf = pd.concat([patch_2020, patch_2017], ignore_index=True)\n",
    "\n",
    "# Filtrer le GeoDataFrame pour exclure les ID en double et leurs doublons\n",
    "patch = gdf[~gdf['ID'].duplicated(keep=False)]\n",
    "\n",
    "\n",
    "if patch.empty:\n",
    "    rasterized10 = np.zeros(\n",
    "        image_7.array.shape[1:], dtype=np.uint8\n",
    "    )\n",
    "else:\n",
    "    rasterized10 = rasterize(\n",
    "        patch.geometry,\n",
    "        out_shape=image_7.array.shape[1:],\n",
    "        fill=0,\n",
    "        out=None,\n",
    "        transform=image_7.transform,\n",
    "        all_touched=True,\n",
    "        default_value=1,\n",
    "        dtype=None,\n",
    "    ) "
   ]
  },
  {
   "cell_type": "code",
   "execution_count": 211,
   "id": "55b4d789-3ac8-441c-8607-61c9905b3601",
   "metadata": {
    "tags": []
   },
   "outputs": [],
   "source": [
    "xmin, ymin, xmax, ymax = image_7.bounds\n",
    "patch_2017 = labeler_BDTOPO2017.labeling_data.cx[xmin:xmax, ymin:ymax].copy()\n",
    "patch_2020 = labeler_BDTOPO2020.labeling_data.cx[xmin:xmax, ymin:ymax].copy()\n",
    "\n",
    "common_crs = \"EPSG:4471\"\n",
    "\n",
    "# Transformer les géométries en utilisant le CRS commun\n",
    "patch_2020 = patch_2020.to_crs(common_crs)\n",
    "patch_2017 = patch_2017.to_crs(common_crs)\n",
    "\n",
    "\n",
    "join_result = gpd.sjoin(patch_2020, patch_2017, how='inner', predicate='contains')\n",
    "\n",
    "# Identifier les bâtiments qui ne sont pas dans la jointure\n",
    "patch = patch_2017.loc[~patch_2017.index.isin(join_result.index_right)]\n",
    "\n",
    "\n",
    "if patch.empty:\n",
    "    rasterized = np.zeros(\n",
    "        image_7.array.shape[1:], dtype=np.uint8\n",
    "    )\n",
    "else:\n",
    "    rasterized = rasterize(\n",
    "        patch.geometry,\n",
    "        out_shape=image_7.array.shape[1:],\n",
    "        fill=0,\n",
    "        out=None,\n",
    "        transform=image_7.transform,\n",
    "        all_touched=True,\n",
    "        default_value=1,\n",
    "        dtype=None,\n",
    "    ) \n",
    "\n",
    "\n"
   ]
  },
  {
   "cell_type": "code",
   "execution_count": 218,
   "id": "d9222e07-9fec-474f-b8e6-1fc90d20896e",
   "metadata": {
    "tags": []
   },
   "outputs": [],
   "source": [
    "join_result = gpd.sjoin(patch_2017, patch_2020, how='inner', predicate='contains')\n",
    "\n",
    "# Identifier les bâtiments qui ne sont pas dans la jointure\n",
    "patch = patch_2020.loc[~patch_2020.index.isin(join_result.index_right)]\n",
    "\n",
    "\n",
    "if patch.empty:\n",
    "    rasterized2 = np.zeros(\n",
    "        image_7.array.shape[1:], dtype=np.uint8\n",
    "    )\n",
    "else:\n",
    "    rasterized2 = rasterize(\n",
    "        patch.geometry,\n",
    "        out_shape=image_7.array.shape[1:],\n",
    "        fill=0,\n",
    "        out=None,\n",
    "        transform=image_7.transform,\n",
    "        all_touched=True,\n",
    "        default_value=1,\n",
    "        dtype=None,\n",
    "    ) \n",
    "\n"
   ]
  },
  {
   "cell_type": "code",
   "execution_count": 220,
   "id": "403c6f35-4eed-4910-9cd4-7710939cf3b1",
   "metadata": {
    "tags": []
   },
   "outputs": [],
   "source": [
    "patch = gpd.sjoin(patch_2017, patch_2020, how='inner', predicate='contains')\n",
    "\n",
    "if patch.empty:\n",
    "    rasterized3 = np.zeros(\n",
    "        image_7.array.shape[1:], dtype=np.uint8\n",
    "    )\n",
    "else:\n",
    "    rasterized3 = rasterize(\n",
    "        patch.geometry,\n",
    "        out_shape=image_7.array.shape[1:],\n",
    "        fill=0,\n",
    "        out=None,\n",
    "        transform=image_7.transform,\n",
    "        all_touched=True,\n",
    "        default_value=1,\n",
    "        dtype=None,\n",
    "    ) \n",
    "\n"
   ]
  },
  {
   "cell_type": "code",
   "execution_count": null,
   "id": "f241bcf4-ccf8-43d6-b006-c6d86bdd1866",
   "metadata": {},
   "outputs": [],
   "source": [
    "import pandas as pd\n",
    "\n",
    "xmin, ymin, xmax, ymax = image_7.bounds\n",
    "patch_2017 = labeler_BDTOPO2017.labeling_data.cx[xmin:xmax, ymin:ymax].copy()\n",
    "patch_2020 = labeler_BDTOPO2020.labeling_data.cx[xmin:xmax, ymin:ymax].copy()\n",
    "\n",
    "common_crs = \"EPSG:4471\"\n",
    "\n",
    "# Transformer les géométries en utilisant le CRS commun\n",
    "patch_2020 = patch_2020.to_crs(common_crs)\n",
    "patch_2017 = patch_2017.to_crs(common_crs)\n",
    "\n",
    "\n",
    "gdf = pd.concat([patch_2020, patch_2017], ignore_index=True)\n",
    "\n",
    "# Filtrer le GeoDataFrame pour exclure les ID en double et leurs doublons\n",
    "patch = gdf[~gdf['ID'].duplicated(keep=False)]\n",
    "\n",
    "\n",
    "if patch.empty:\n",
    "    rasterized10 = np.zeros(\n",
    "        image_7.array.shape[1:], dtype=np.uint8\n",
    "    )\n",
    "else:\n",
    "    rasterized10 = rasterize(\n",
    "        patch.geometry,\n",
    "        out_shape=image_7.array.shape[1:],\n",
    "        fill=0,\n",
    "        out=None,\n",
    "        transform=image_7.transform,\n",
    "        all_touched=True,\n",
    "        default_value=1,\n",
    "        dtype=None,\n",
    "    ) "
   ]
  },
  {
   "cell_type": "code",
   "execution_count": 237,
   "id": "f71f07df-0077-4d9c-9302-bc42e49707dd",
   "metadata": {
    "tags": []
   },
   "outputs": [],
   "source": [
    "fig, (ax1, ax2, ax3) = plt.subplots(1,3,figsize=(20, 5))\n",
    "ax1.imshow(np.transpose(image_8.array, (1, 2, 0))[:,:,:3])\n",
    "ax1.imshow(rasterized3, alpha=0.3)\n",
    "ax1.set_title(\"intersect\")\n",
    "ax1.axis('off')\n",
    "ax2.imshow(np.transpose(image_8.array, (1, 2, 0))[:,:,:3])\n",
    "ax2.imshow(mask_BDTOPO2017, alpha=0.3)\n",
    "ax2.set_title(\"mask 2017\")\n",
    "ax2.axis('off')\n",
    "ax3.imshow(np.transpose(image_7.array, (1, 2, 0))[:,:,:3])\n",
    "ax3.imshow(mask_BDTOPO2020, alpha=0.3)\n",
    "#ax3.imshow(mask_BDTOPO2017, alpha=0.3)\n",
    "ax3.set_title(\"mask 2020\")\n",
    "ax3.axis('off')\n",
    "plt.show()"
   ]
  },
  {
   "cell_type": "code",
   "execution_count": 222,
   "id": "1668d32b-99d0-4748-86b8-4fb85474cdeb",
   "metadata": {
    "tags": []
   },
   "outputs": [],
   "source": [
    "fig, (ax1, ax2, ax3, ax4,ax5) = plt.subplots(1, 5, figsize=(25, 5))\n",
    "ax1.imshow(rasterized, cmap=\"gray\")\n",
    "ax1.set_title(\"hors intersection 2017\")\n",
    "ax1.axis('off')\n",
    "ax2.imshow(mask_BDTOPO2017, cmap=\"gray\")\n",
    "ax2.set_title(\"mask 2017\")\n",
    "ax2.axis('off')\n",
    "ax3.imshow(mask_BDTOPO2020, cmap=\"gray\")\n",
    "ax3.set_title(\"mask 2020\")\n",
    "ax3.axis('off')\n",
    "ax4.imshow(rasterized2, cmap=\"gray\")\n",
    "ax4.set_title(\"hors intersection 2020\")\n",
    "ax4.axis('off')\n",
    "ax5.imshow(rasterized3, cmap=\"gray\")\n",
    "ax5.set_title(\"intersection 2017 2020\")\n",
    "ax5.axis('off')\n",
    "plt.show()"
   ]
  },
  {
   "cell_type": "code",
   "execution_count": 158,
   "id": "19bc82c4-ae48-46cb-aac1-8d8c27db48b8",
   "metadata": {
    "tags": []
   },
   "outputs": [],
   "source": [
    "fig, ax = plt.subplots(figsize=(10, 10))\n",
    "ax.imshow(np.transpose(image_7.array, (1, 2, 0))[:,:,:3])\n",
    "ax.imshow(mask_BDTOPO2020, alpha=0.3)"
   ]
  },
  {
   "cell_type": "code",
   "execution_count": 159,
   "id": "39853a16-8f3f-4d16-abdd-480886e1159d",
   "metadata": {
    "tags": []
   },
   "outputs": [],
   "source": [
    "fig, ax = plt.subplots(figsize=(10, 10))\n",
    "ax.imshow(np.transpose(image_8.array, (1, 2, 0))[:,:,:3])\n",
    "ax.imshow(mask_BDTOPO2017, alpha=0.3)"
   ]
  },
  {
   "cell_type": "code",
   "execution_count": 160,
   "id": "4b2ae661-6965-4bc9-89aa-c433ac994100",
   "metadata": {
    "tags": []
   },
   "outputs": [],
   "source": [
    "fig, ax = plt.subplots(figsize=(10, 10))\n",
    "ax.imshow(np.transpose(image_8.array, (1, 2, 0))[:,:,:3])\n",
    "ax.imshow(rasterized, alpha=0.3)"
   ]
  }
 ],
 "metadata": {
  "kernelspec": {
   "display_name": "Python 3 (ipykernel)",
   "language": "python",
   "name": "python3"
  },
  "language_info": {
   "codemirror_mode": {
    "name": "ipython",
    "version": 3
   },
   "file_extension": ".py",
   "mimetype": "text/x-python",
   "name": "python",
   "nbconvert_exporter": "python",
   "pygments_lexer": "ipython3",
   "version": "3.10.9"
  }
 },
 "nbformat": 4,
 "nbformat_minor": 5
}
