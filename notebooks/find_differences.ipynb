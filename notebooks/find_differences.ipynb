{
 "cells": [
  {
   "cell_type": "code",
   "execution_count": 7,
   "id": "4da41416-9ac3-465d-87bb-f071d4bcb7b5",
   "metadata": {
    "tags": []
   },
   "outputs": [],
   "source": [
    "%load_ext autoreload\n",
    "%autoreload 2"
   ]
  },
  {
   "cell_type": "code",
   "execution_count": 2,
   "id": "0deea894-525e-4d99-9789-d27a89651ac2",
   "metadata": {
    "tags": []
   },
   "outputs": [],
   "source": [
    "! pip install rasterio  -q -q -q\n",
    "! pip install geopandas -q -q -q\n",
    "! pip install matplotlib -q -q -q"
   ]
  },
  {
   "cell_type": "code",
   "execution_count": 18,
   "id": "9e3572ee-9f64-4ab7-ae42-b236757ca62f",
   "metadata": {
    "tags": []
   },
   "outputs": [],
   "source": [
    "!pip install scikit-image"
   ]
  },
  {
   "cell_type": "code",
   "execution_count": 8,
   "id": "c896f2d3-81a9-4106-98c1-bb9755834b31",
   "metadata": {
    "tags": []
   },
   "outputs": [],
   "source": [
    "import sys\n",
    "sys.path.append('../src')\n",
    "from satellite_image import SatelliteImage\n",
    "from utils import *\n",
    "from plot_utils import *\n",
    "from image_utils import *\n",
    "import mappings as mapps"
   ]
  },
  {
   "cell_type": "code",
   "execution_count": 9,
   "id": "24e0bd01-ada4-4370-b219-b38955cb9b99",
   "metadata": {
    "tags": []
   },
   "outputs": [],
   "source": [
    "import yaml\n",
    "import re\n",
    "import s3fs\n",
    "import numpy as np\n",
    "import matplotlib.pyplot as plt\n",
    "from PIL import Image as im\n",
    "import re\n",
    "from pyproj import Transformer\n",
    "from datetime import date\n",
    "from scipy.ndimage import label\n",
    "import time\n",
    "from tqdm import tqdm\n",
    "import os"
   ]
  },
  {
   "cell_type": "code",
   "execution_count": 10,
   "id": "7282fce5-0040-48ba-8669-82b2a31ea085",
   "metadata": {
    "tags": []
   },
   "outputs": [],
   "source": [
    "update_storage_access()"
   ]
  },
  {
   "cell_type": "code",
   "execution_count": 11,
   "id": "47f355c1-e80b-49d0-8b9b-4ee41c096447",
   "metadata": {
    "tags": []
   },
   "outputs": [],
   "source": [
    "environment = get_environment()\n",
    "\n",
    "root_path = get_root_path()\n",
    "\n",
    "bucket = environment[\"bucket\"]\n",
    "\n",
    "#2022\n",
    "#guyane 2022\n",
    "path_s3_pleiades_data_2022_guyane = environment[\"sources\"][\"PLEIADES\"][2022][\"guyane\"]\n",
    "path_local_pleiades_data_2022_guyane = environment[\"local-path\"][\"PLEIADES\"][2022][\"guyane\"]\n",
    "\n",
    "#martinique 2022\n",
    "path_s3_pleiades_data_2022_martinique = environment[\"sources\"][\"PLEIADES\"][2022][\"martinique\"]\n",
    "path_local_pleiades_data_2022_martinique = environment[\"local-path\"][\"PLEIADES\"][2022][\"martinique\"]\n",
    "          \n",
    "#guadeloupe 2022\n",
    "path_s3_pleiades_data_2022_guadeloupe = environment[\"sources\"][\"PLEIADES\"][2022][\"guadeloupe\"]\n",
    "path_local_pleiades_data_2022_guadeloupe = environment[\"local-path\"][\"PLEIADES\"][2022][\"guadeloupe\"]\n",
    "\n",
    "#mayotte 2022\n",
    "path_s3_pleiades_data_2022_mayotte = environment[\"sources\"][\"PLEIADES\"][2022][\"mayotte\"]\n",
    "path_local_pleiades_data_2022_mayotte = environment[\"local-path\"][\"PLEIADES\"][2022][\"mayotte\"]\n",
    "\n",
    "#2020\n",
    "#mayotte 2020\n",
    "path_s3_pleiades_data_2020_mayotte = environment[\"sources\"][\"PLEIADES\"][2020][\"mayotte\"]\n",
    "path_local_pleiades_data_2020_mayotte = environment[\"local-path\"][\"PLEIADES\"][2020][\"mayotte\"]\n",
    "\n",
    "#2019\n",
    "#mayotte 2019\n",
    "path_s3_pleiades_data_2019_mayotte = environment[\"sources\"][\"PLEIADES\"][2019][\"mayotte\"]\n",
    "path_local_pleiades_data_2019_mayotte = environment[\"local-path\"][\"PLEIADES\"][2019][\"mayotte\"]\n",
    "\n",
    "#2018\n",
    "#reunion 2018\n",
    "path_s3_pleiades_data_2018_reunion = environment[\"sources\"][\"PLEIADES\"][2018][\"reunion\"]\n",
    "path_local_pleiades_data_2018_reunion = environment[\"local-path\"][\"PLEIADES\"][2018][\"reunion\"]\n",
    "\n",
    "#2017\n",
    "#martinique 2017\n",
    "path_s3_pleiades_data_2017_martinique = environment[\"sources\"][\"PLEIADES\"][2017][\"martinique\"]\n",
    "path_local_pleiades_data_2017_martinique = environment[\"local-path\"][\"PLEIADES\"][2017][\"martinique\"]\n",
    "\n",
    "#mayotte 2017\n",
    "path_s3_pleiades_data_2017_mayotte = environment[\"sources\"][\"PLEIADES\"][2017][\"mayotte\"]\n",
    "path_local_pleiades_data_2017_mayotte = environment[\"local-path\"][\"PLEIADES\"][2017][\"mayotte\"]\n",
    "\n",
    "fs = s3fs.S3FileSystem(client_kwargs={\"endpoint_url\": \"https://minio.lab.sspcloud.fr\"})"
   ]
  },
  {
   "cell_type": "code",
   "execution_count": 7,
   "id": "f2c84e47-c291-450e-9a5b-3d81aa1023f8",
   "metadata": {
    "tags": []
   },
   "outputs": [],
   "source": [
    "# DL PLEIADE mayotte 2020\n",
    "fs.download(\n",
    "        rpath=f\"{bucket}/{path_s3_pleiades_data_2020_mayotte}\",\n",
    "        lpath=f\"../{path_local_pleiades_data_2020_mayotte}\",\n",
    "        recursive=True)"
   ]
  },
  {
   "cell_type": "code",
   "execution_count": null,
   "id": "5af103e9-e6ca-4433-afd7-e8289d160575",
   "metadata": {
    "tags": []
   },
   "outputs": [],
   "source": [
    "# DL PLEIADE mayotte 2017\n",
    "fs.download(\n",
    "        rpath=f\"{bucket}/{path_s3_pleiades_data_2017_mayotte}\",\n",
    "        lpath=f\"../{path_local_pleiades_data_2017_mayotte}\",\n",
    "        recursive=True)"
   ]
  },
  {
   "cell_type": "code",
   "execution_count": 9,
   "id": "944943e2-ee8a-4d2b-ac7a-554fea9f5796",
   "metadata": {
    "tags": []
   },
   "outputs": [],
   "source": [
    "# DL PLEIADE martinique 2022 utilisé !\n",
    "fs.download(\n",
    "        rpath=f\"{bucket}/{path_s3_pleiades_data_2022_martinique}\",\n",
    "        lpath=f\"../{path_local_pleiades_data_2022_martinique}\",\n",
    "        recursive=True)"
   ]
  },
  {
   "cell_type": "code",
   "execution_count": 57,
   "id": "eea468e2-9394-4216-acc2-adfab00a4118",
   "metadata": {
    "tags": []
   },
   "outputs": [],
   "source": [
    "# DL PLEIADE martinique 2017 utilisé !\n",
    "fs.download(\n",
    "        rpath=f\"{bucket}/{path_s3_pleiades_data_2017_martinique}\",\n",
    "        lpath=f\"../{path_local_pleiades_data_2017_martinique}\",\n",
    "        recursive=True)"
   ]
  },
  {
   "cell_type": "code",
   "execution_count": 6,
   "id": "06127c88-bf6b-4aa0-8499-b354f01ef1eb",
   "metadata": {
    "tags": []
   },
   "outputs": [],
   "source": [
    "# DL PLEIADE guyane 2022 utilisé !\n",
    "fs.download(\n",
    "        rpath=f\"{bucket}/{path_s3_pleiades_data_2022_guyane}\",\n",
    "        lpath=f\"../{path_local_pleiades_data_2022_guyane}\",\n",
    "        recursive=True)"
   ]
  },
  {
   "cell_type": "markdown",
   "id": "1c64c52d-bc2c-4883-a075-c690c15f87de",
   "metadata": {},
   "source": [
    "En martinique :\n",
    "(14.635338, -61.038345) plateau médico-technique construit en 2018 (côté droit du triangle). \n",
    "Essayons de retrouver l'image qui le contient."
   ]
  },
  {
   "cell_type": "code",
   "execution_count": 210,
   "id": "2bc51f0d-2160-451f-b761-494ce5937bad",
   "metadata": {
    "tags": []
   },
   "outputs": [],
   "source": [
    "#Nouvelle image 1\n",
    "filename_1 = find_image_of_point([14.635338, -61.038345], '../data/PLEIADES/2022/MARTINIQUE', coord_gps = True)\n",
    "date_1 = date.fromisoformat('2022-01-01')"
   ]
  },
  {
   "cell_type": "code",
   "execution_count": 129,
   "id": "21db53f2-65a2-43cc-ac24-2801ec00838a",
   "metadata": {
    "tags": []
   },
   "outputs": [],
   "source": [
    "image_1 = SatelliteImage.from_raster(\n",
    "        filename_1,\n",
    "        date = date_1, \n",
    "        n_bands = 3,\n",
    "        dep = \"972\"\n",
    "    )\n",
    "image_1.normalize()"
   ]
  },
  {
   "cell_type": "code",
   "execution_count": 130,
   "id": "f6fdf8ca-1404-444f-a424-db00f0dfa1da",
   "metadata": {
    "tags": []
   },
   "outputs": [],
   "source": [
    "image_1.plot([0,1,2]) "
   ]
  },
  {
   "cell_type": "code",
   "execution_count": 97,
   "id": "6fffd702-00c6-4683-b630-272518129f76",
   "metadata": {
    "tags": []
   },
   "outputs": [],
   "source": [
    "#image 2\n",
    "filename_2 = find_image_different_years(2017, None, filename_1)\n",
    "date_2 = date.fromisoformat('2017-01-01')"
   ]
  },
  {
   "cell_type": "code",
   "execution_count": 98,
   "id": "dcc46635-52e3-4713-af00-5cadd0bc79a6",
   "metadata": {
    "tags": []
   },
   "outputs": [],
   "source": [
    "image_2 = SatelliteImage.from_raster(\n",
    "        filename_2,\n",
    "        date = date_2, \n",
    "        n_bands = 3,\n",
    "        dep = \"972\"\n",
    "    )\n",
    "image_2.normalize()"
   ]
  },
  {
   "cell_type": "code",
   "execution_count": 89,
   "id": "23f8d28f-7c27-4a0c-b3ed-96068b87f36d",
   "metadata": {
    "tags": []
   },
   "outputs": [],
   "source": [
    "image_2.plot([0,1,2])"
   ]
  },
  {
   "cell_type": "markdown",
   "id": "439a6d99-e43e-4e30-8d25-b23c496d9f62",
   "metadata": {},
   "source": [
    "On a bien un changement à droite du triangle. Il ne reste plus qu'a avoir la bande infrarouge pour faire les masques puis les différences."
   ]
  },
  {
   "cell_type": "markdown",
   "id": "4c7537b3-1685-4b5b-8f10-51b4ff176b0a",
   "metadata": {},
   "source": [
    "On va chercher en guyane : (-12.755601, 45.229945) coordonnées d'un quartier"
   ]
  },
  {
   "cell_type": "code",
   "execution_count": 132,
   "id": "edc22415-6ba7-46e2-946a-874e783da90b",
   "metadata": {
    "tags": []
   },
   "outputs": [],
   "source": [
    "filename_5 = find_image_of_point([-12.755601, 45.229945], '../data/PLEIADES/2020/MAYOTTE', coord_gps = True)\n",
    "date_5 = date.fromisoformat('2020-01-01')"
   ]
  },
  {
   "cell_type": "code",
   "execution_count": 133,
   "id": "589149b5-714f-40ab-ad8f-8a8060f197c8",
   "metadata": {
    "tags": []
   },
   "outputs": [],
   "source": [
    "image_5 = SatelliteImage.from_raster(\n",
    "        filename_5,\n",
    "        date = date_5, \n",
    "        n_bands = 3,\n",
    "        dep = \"976\"\n",
    "    )\n",
    "image_5.normalize()"
   ]
  },
  {
   "cell_type": "code",
   "execution_count": 134,
   "id": "2192c502-ff33-4417-b8ba-1064a4c90182",
   "metadata": {
    "tags": []
   },
   "outputs": [],
   "source": [
    "image_5.plot([0,1,2])"
   ]
  },
  {
   "cell_type": "code",
   "execution_count": 148,
   "id": "bc894d7c-9c50-4964-9308-e200cb3d90ea",
   "metadata": {
    "tags": []
   },
   "outputs": [],
   "source": [
    "filename_6 = find_image_different_years(2017, image_5)\n",
    "date_6 = date.fromisoformat('2020-01-01')"
   ]
  },
  {
   "cell_type": "code",
   "execution_count": 149,
   "id": "b03f5191-66e0-4d74-82ef-cf356cd416d7",
   "metadata": {
    "tags": []
   },
   "outputs": [],
   "source": [
    "image_6 = SatelliteImage.from_raster(\n",
    "        filename_6,\n",
    "        date = date_6, \n",
    "        n_bands = 3,\n",
    "        dep = \"976\"\n",
    "    )\n",
    "image_6.normalize()"
   ]
  },
  {
   "cell_type": "code",
   "execution_count": 150,
   "id": "7b00267b-61da-4243-af08-72acec3c36b1",
   "metadata": {
    "tags": []
   },
   "outputs": [],
   "source": [
    "image_6.plot([0,1,2])"
   ]
  },
  {
   "cell_type": "markdown",
   "id": "db822ecb-dc96-49ea-a2bc-f65cdd8ba372",
   "metadata": {},
   "source": [
    "Dans la moitié haute de l'image à droite, il y a plusieurs bâtiments qui ont été construits."
   ]
  },
  {
   "cell_type": "markdown",
   "id": "af09cb0d-240b-44f1-b4a4-7e3b5cf1c53c",
   "metadata": {},
   "source": [
    "Pas de RIL pour ces deux années en mayotte ..."
   ]
  },
  {
   "cell_type": "code",
   "execution_count": 12,
   "id": "b2a1e8b3-be6f-49c4-a5d1-882efa897033",
   "metadata": {
    "tags": []
   },
   "outputs": [],
   "source": [
    "filename_7 = find_image_of_point([-12.753436, 45.219888], '../data/PLEIADES/2020/MAYOTTE', coord_gps = True)\n",
    "date_7 = date.fromisoformat('2020-01-01')"
   ]
  },
  {
   "cell_type": "code",
   "execution_count": 13,
   "id": "8e054e9c-f605-4571-90c3-f632e14ae2eb",
   "metadata": {
    "tags": []
   },
   "outputs": [],
   "source": [
    "image_7 = SatelliteImage.from_raster(\n",
    "        filename_7,\n",
    "        date = date_7, \n",
    "        n_bands = 3,\n",
    "        dep = \"976\"\n",
    "    )\n",
    "image_7.normalize()"
   ]
  },
  {
   "cell_type": "code",
   "execution_count": 15,
   "id": "1f888a35-50bf-427d-930b-97efdcf87666",
   "metadata": {
    "tags": []
   },
   "outputs": [],
   "source": [
    "image_7.plot([0,1,2])"
   ]
  },
  {
   "cell_type": "markdown",
   "id": "c0530458-77fe-4b7b-8e20-22b3b79f01f9",
   "metadata": {},
   "source": [
    "Export d'image"
   ]
  },
  {
   "cell_type": "code",
   "execution_count": 16,
   "id": "c87ed0b6-d210-462f-a8f6-fb6383b824bd",
   "metadata": {
    "tags": []
   },
   "outputs": [],
   "source": [
    "from PIL import Image\n",
    "import numpy as np\n",
    "import io\n",
    "\n",
    "# Créer un tableau avec des données d'exemple\n",
    "data = image_7.array\n",
    "data = (data * 255).astype(np.uint8)\n",
    "data = data.transpose(2,1,0)\n",
    "\n",
    "\n",
    "# Convertir le tableau en image\n",
    "image = Image.fromarray(data)\n",
    "\n",
    "# Sauvegarder l'image en tant que fichier PNG\n",
    "image.save(\"image.png\")\n",
    "\n",
    "# Enregistrer l'image en tant qu'objet bytes pour téléchargement\n",
    "img_bytes = io.BytesIO()\n",
    "image.save(img_bytes, format='PNG')\n",
    "img_bytes.seek(0)\n",
    "\n",
    "# Envoyer l'image pour téléchargement\n",
    "from IPython.display import FileLink\n",
    "display(FileLink(\"image.png\"))"
   ]
  },
  {
   "cell_type": "code",
   "execution_count": 16,
   "id": "b675ce77-f154-409b-a500-f51d2b2b201c",
   "metadata": {
    "tags": []
   },
   "outputs": [],
   "source": [
    "filename_8 = find_image_different_years(2017, image_7)\n",
    "date_8 = date.fromisoformat('2020-01-01')"
   ]
  },
  {
   "cell_type": "code",
   "execution_count": 17,
   "id": "e70fc116-3d5e-4615-92d8-f2363fbd61cb",
   "metadata": {
    "tags": []
   },
   "outputs": [],
   "source": [
    "image_8 = SatelliteImage.from_raster(\n",
    "        filename_7,\n",
    "        date = date_7, \n",
    "        n_bands = 3,\n",
    "        dep = \"976\"\n",
    "    )\n",
    "image_8.normalize()"
   ]
  },
  {
   "cell_type": "code",
   "execution_count": 18,
   "id": "8cf7c4f2-5123-4473-a94f-9fce7ba6f913",
   "metadata": {
    "tags": []
   },
   "outputs": [],
   "source": [
    "image_8.plot([0,1,2])"
   ]
  }
 ],
 "metadata": {
  "kernelspec": {
   "display_name": "Python 3 (ipykernel)",
   "language": "python",
   "name": "python3"
  },
  "language_info": {
   "codemirror_mode": {
    "name": "ipython",
    "version": 3
   },
   "file_extension": ".py",
   "mimetype": "text/x-python",
   "name": "python",
   "nbconvert_exporter": "python",
   "pygments_lexer": "ipython3",
   "version": "3.10.9"
  }
 },
 "nbformat": 4,
 "nbformat_minor": 5
}
