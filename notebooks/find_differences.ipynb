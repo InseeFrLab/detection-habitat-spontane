{
 "cells": [
  {
   "cell_type": "code",
   "execution_count": 1,
   "id": "4da41416-9ac3-465d-87bb-f071d4bcb7b5",
   "metadata": {
    "tags": []
   },
   "outputs": [],
   "source": [
    "%load_ext autoreload\n",
    "%autoreload 2"
   ]
  },
  {
   "cell_type": "code",
   "execution_count": 2,
   "id": "0deea894-525e-4d99-9789-d27a89651ac2",
   "metadata": {
    "tags": []
   },
   "outputs": [],
   "source": [
    "! pip install rasterio  -q -q -q\n",
    "! pip install geopandas -q -q -q\n",
    "! pip install matplotlib -q -q -q"
   ]
  },
  {
   "cell_type": "code",
   "execution_count": 18,
   "id": "9e3572ee-9f64-4ab7-ae42-b236757ca62f",
   "metadata": {
    "tags": []
   },
   "outputs": [],
   "source": [
    "!pip install scikit-image"
   ]
  },
  {
   "cell_type": "code",
   "execution_count": 5,
   "id": "c896f2d3-81a9-4106-98c1-bb9755834b31",
   "metadata": {
    "tags": []
   },
   "outputs": [],
   "source": [
    "import sys\n",
    "sys.path.append('../src')\n",
    "from classes.data.satellite_image import SatelliteImage\n",
    "from utils.utils import *\n",
    "from utils.plot_utils import *\n",
    "from utils.image_utils import *\n",
    "import utils.mappings as mapps"
   ]
  },
  {
   "cell_type": "code",
   "execution_count": 6,
   "id": "24e0bd01-ada4-4370-b219-b38955cb9b99",
   "metadata": {
    "tags": []
   },
   "outputs": [],
   "source": [
    "import yaml\n",
    "import re\n",
    "import s3fs\n",
    "import numpy as np\n",
    "import matplotlib.pyplot as plt\n",
    "from PIL import Image as im\n",
    "import re\n",
    "from pyproj import Transformer\n",
    "from datetime import date\n",
    "from scipy.ndimage import label\n",
    "import time\n",
    "from tqdm import tqdm\n",
    "import os"
   ]
  },
  {
   "cell_type": "code",
   "execution_count": 7,
   "id": "7282fce5-0040-48ba-8669-82b2a31ea085",
   "metadata": {
    "tags": []
   },
   "outputs": [],
   "source": [
    "update_storage_access()"
   ]
  },
  {
   "cell_type": "code",
   "execution_count": 8,
   "id": "47f355c1-e80b-49d0-8b9b-4ee41c096447",
   "metadata": {
    "tags": []
   },
   "outputs": [],
   "source": [
    "environment = get_environment()\n",
    "\n",
    "root_path = get_root_path()\n",
    "\n",
    "bucket = environment[\"bucket\"]\n",
    "\n",
    "#2022\n",
    "#guyane 2022\n",
    "path_s3_pleiades_data_2022_guyane = environment[\"sources\"][\"PLEIADES\"][2022][\"guyane\"]\n",
    "path_local_pleiades_data_2022_guyane = environment[\"local-path\"][\"PLEIADES\"][2022][\"guyane\"]\n",
    "\n",
    "#martinique 2022\n",
    "path_s3_pleiades_data_2022_martinique = environment[\"sources\"][\"PLEIADES\"][2022][\"martinique\"]\n",
    "path_local_pleiades_data_2022_martinique = environment[\"local-path\"][\"PLEIADES\"][2022][\"martinique\"]\n",
    "          \n",
    "#guadeloupe 2022\n",
    "path_s3_pleiades_data_2022_guadeloupe = environment[\"sources\"][\"PLEIADES\"][2022][\"guadeloupe\"]\n",
    "path_local_pleiades_data_2022_guadeloupe = environment[\"local-path\"][\"PLEIADES\"][2022][\"guadeloupe\"]\n",
    "\n",
    "#mayotte 2022\n",
    "path_s3_pleiades_data_2022_mayotte = environment[\"sources\"][\"PLEIADES\"][2022][\"976\"]\n",
    "path_local_pleiades_data_2022_mayotte = environment[\"local-path\"][\"PLEIADES\"][2022][\"976\"]\n",
    "\n",
    "#2020\n",
    "#mayotte 2020\n",
    "path_s3_pleiades_data_2020_mayotte = environment[\"sources\"][\"PLEIADES\"][2020][\"976\"]\n",
    "path_local_pleiades_data_2020_mayotte = environment[\"local-path\"][\"PLEIADES\"][2020][\"976\"]\n",
    "\n",
    "#2019\n",
    "#mayotte 2019\n",
    "path_s3_pleiades_data_2019_mayotte = environment[\"sources\"][\"PLEIADES\"][2019][\"976\"]\n",
    "path_local_pleiades_data_2019_mayotte = environment[\"local-path\"][\"PLEIADES\"][2019][\"976\"]\n",
    "\n",
    "#2018\n",
    "#reunion 2018\n",
    "path_s3_pleiades_data_2018_reunion = environment[\"sources\"][\"PLEIADES\"][2018][\"reunion\"]\n",
    "path_local_pleiades_data_2018_reunion = environment[\"local-path\"][\"PLEIADES\"][2018][\"reunion\"]\n",
    "\n",
    "#2017\n",
    "#martinique 2017\n",
    "path_s3_pleiades_data_2017_martinique = environment[\"sources\"][\"PLEIADES\"][2017][\"martinique\"]\n",
    "path_local_pleiades_data_2017_martinique = environment[\"local-path\"][\"PLEIADES\"][2017][\"martinique\"]\n",
    "\n",
    "#mayotte 2017\n",
    "path_s3_pleiades_data_2017_mayotte = environment[\"sources\"][\"PLEIADES\"][2017][\"976\"]\n",
    "path_local_pleiades_data_2017_mayotte = environment[\"local-path\"][\"PLEIADES\"][2017][\"976\"]\n",
    "\n",
    "fs = s3fs.S3FileSystem(client_kwargs={\"endpoint_url\": \"https://minio.lab.sspcloud.fr\"})"
   ]
  },
  {
   "cell_type": "code",
   "execution_count": 9,
   "id": "91f3c4aa-1acb-4aed-9549-075c6152b838",
   "metadata": {
    "tags": []
   },
   "outputs": [],
   "source": [
    "environment = get_environment()\n",
    "root_path = get_root_path()\n",
    "bucket = environment[\"bucket\"]\n",
    "\n",
    "#mayotte 2022\n",
    "path_s3_pleiades_data_2022_mayotte = environment[\"sources\"][\"PLEIADES\"][2022][\"976\"]\n",
    "path_local_pleiades_data_2022_mayotte = environment[\"local-path\"][\"PLEIADES\"][2022][\"976\"]\n",
    "\n",
    "#2020\n",
    "#mayotte 2020\n",
    "path_s3_pleiades_data_2020_mayotte = environment[\"sources\"][\"PLEIADES\"][2020][\"976\"]\n",
    "path_local_pleiades_data_2020_mayotte = environment[\"local-path\"][\"PLEIADES\"][2020][\"976\"]\n",
    "\n",
    "#2019\n",
    "#mayotte 2019\n",
    "path_s3_pleiades_data_2019_mayotte = environment[\"sources\"][\"PLEIADES\"][2019][\"976\"]\n",
    "path_local_pleiades_data_2019_mayotte = environment[\"local-path\"][\"PLEIADES\"][2019][\"976\"]\n",
    "\n",
    "fs = s3fs.S3FileSystem(client_kwargs={\"endpoint_url\": \"https://minio.lab.sspcloud.fr\"})"
   ]
  },
  {
   "cell_type": "code",
   "execution_count": 10,
   "id": "f2c84e47-c291-450e-9a5b-3d81aa1023f8",
   "metadata": {
    "tags": []
   },
   "outputs": [],
   "source": [
    "# DL PLEIADE mayotte 2020\n",
    "fs.download(\n",
    "        rpath=f\"{bucket}/{path_s3_pleiades_data_2020_mayotte}\",\n",
    "        lpath=f\"../{path_local_pleiades_data_2020_mayotte}\",\n",
    "        recursive=True)"
   ]
  },
  {
   "cell_type": "code",
   "execution_count": null,
   "id": "5af103e9-e6ca-4433-afd7-e8289d160575",
   "metadata": {
    "tags": []
   },
   "outputs": [],
   "source": [
    "# DL PLEIADE mayotte 2017\n",
    "fs.download(\n",
    "        rpath=f\"{bucket}/{path_s3_pleiades_data_2017_mayotte}\",\n",
    "        lpath=f\"../{path_local_pleiades_data_2017_mayotte}\",\n",
    "        recursive=True)"
   ]
  },
  {
   "cell_type": "code",
   "execution_count": 9,
   "id": "944943e2-ee8a-4d2b-ac7a-554fea9f5796",
   "metadata": {
    "tags": []
   },
   "outputs": [],
   "source": [
    "# DL PLEIADE martinique 2022 utilisé !\n",
    "fs.download(\n",
    "        rpath=f\"{bucket}/{path_s3_pleiades_data_2022_martinique}\",\n",
    "        lpath=f\"../{path_local_pleiades_data_2022_martinique}\",\n",
    "        recursive=True)"
   ]
  },
  {
   "cell_type": "code",
   "execution_count": 57,
   "id": "eea468e2-9394-4216-acc2-adfab00a4118",
   "metadata": {
    "tags": []
   },
   "outputs": [],
   "source": [
    "# DL PLEIADE martinique 2017 utilisé !\n",
    "fs.download(\n",
    "        rpath=f\"{bucket}/{path_s3_pleiades_data_2017_martinique}\",\n",
    "        lpath=f\"../{path_local_pleiades_data_2017_martinique}\",\n",
    "        recursive=True)"
   ]
  },
  {
   "cell_type": "code",
   "execution_count": 6,
   "id": "06127c88-bf6b-4aa0-8499-b354f01ef1eb",
   "metadata": {
    "tags": []
   },
   "outputs": [],
   "source": [
    "# DL PLEIADE guyane 2022 utilisé !\n",
    "fs.download(\n",
    "        rpath=f\"{bucket}/{path_s3_pleiades_data_2022_guyane}\",\n",
    "        lpath=f\"../{path_local_pleiades_data_2022_guyane}\",\n",
    "        recursive=True)"
   ]
  },
  {
   "cell_type": "markdown",
   "id": "1c64c52d-bc2c-4883-a075-c690c15f87de",
   "metadata": {},
   "source": [
    "En martinique :\n",
    "(14.635338, -61.038345) plateau médico-technique construit en 2018 (côté droit du triangle). \n",
    "Essayons de retrouver l'image qui le contient."
   ]
  },
  {
   "cell_type": "code",
   "execution_count": 210,
   "id": "2bc51f0d-2160-451f-b761-494ce5937bad",
   "metadata": {
    "tags": []
   },
   "outputs": [],
   "source": [
    "#Nouvelle image 1\n",
    "filename_1 = find_image_of_point([14.635338, -61.038345], '../data/PLEIADES/2022/MARTINIQUE', coord_gps = True)\n",
    "date_1 = date.fromisoformat('2022-01-01')"
   ]
  },
  {
   "cell_type": "code",
   "execution_count": 129,
   "id": "21db53f2-65a2-43cc-ac24-2801ec00838a",
   "metadata": {
    "tags": []
   },
   "outputs": [],
   "source": [
    "image_1 = SatelliteImage.from_raster(\n",
    "        filename_1,\n",
    "        date = date_1, \n",
    "        n_bands = 3,\n",
    "        dep = \"972\"\n",
    "    )\n",
    "image_1.normalize()"
   ]
  },
  {
   "cell_type": "code",
   "execution_count": 130,
   "id": "f6fdf8ca-1404-444f-a424-db00f0dfa1da",
   "metadata": {
    "tags": []
   },
   "outputs": [],
   "source": [
    "image_1.plot([0,1,2]) "
   ]
  },
  {
   "cell_type": "code",
   "execution_count": 97,
   "id": "6fffd702-00c6-4683-b630-272518129f76",
   "metadata": {
    "tags": []
   },
   "outputs": [],
   "source": [
    "#image 2\n",
    "filename_2 = find_image_different_years(2017, None, filename_1)\n",
    "date_2 = date.fromisoformat('2017-01-01')"
   ]
  },
  {
   "cell_type": "code",
   "execution_count": 98,
   "id": "dcc46635-52e3-4713-af00-5cadd0bc79a6",
   "metadata": {
    "tags": []
   },
   "outputs": [],
   "source": [
    "image_2 = SatelliteImage.from_raster(\n",
    "        filename_2,\n",
    "        date = date_2, \n",
    "        n_bands = 3,\n",
    "        dep = \"972\"\n",
    "    )\n",
    "image_2.normalize()"
   ]
  },
  {
   "cell_type": "code",
   "execution_count": 89,
   "id": "23f8d28f-7c27-4a0c-b3ed-96068b87f36d",
   "metadata": {
    "tags": []
   },
   "outputs": [],
   "source": [
    "image_2.plot([0,1,2])"
   ]
  },
  {
   "cell_type": "markdown",
   "id": "439a6d99-e43e-4e30-8d25-b23c496d9f62",
   "metadata": {},
   "source": [
    "On a bien un changement à droite du triangle. Il ne reste plus qu'a avoir la bande infrarouge pour faire les masques puis les différences."
   ]
  },
  {
   "cell_type": "markdown",
   "id": "4c7537b3-1685-4b5b-8f10-51b4ff176b0a",
   "metadata": {},
   "source": [
    "On va chercher en guyane : (-12.755601, 45.229945) coordonnées d'un quartier"
   ]
  },
  {
   "cell_type": "code",
   "execution_count": 31,
   "id": "edc22415-6ba7-46e2-946a-874e783da90b",
   "metadata": {
    "tags": []
   },
   "outputs": [],
   "source": [
    "filename_5 = find_image_of_point([-12.755601, 45.229945], '../data/PLEIADES/2020/MAYOTTE', coord_gps = True)\n",
    "date_5 = date.fromisoformat('2020-01-01')\n",
    "print(filename_5)"
   ]
  },
  {
   "cell_type": "code",
   "execution_count": 32,
   "id": "589149b5-714f-40ab-ad8f-8a8060f197c8",
   "metadata": {
    "tags": []
   },
   "outputs": [],
   "source": [
    "image_5 = SatelliteImage.from_raster(\n",
    "        filename_5,\n",
    "        date = date_5, \n",
    "        n_bands = 3,\n",
    "        dep = \"976\"\n",
    "    )"
   ]
  },
  {
   "cell_type": "code",
   "execution_count": 33,
   "id": "2192c502-ff33-4417-b8ba-1064a4c90182",
   "metadata": {
    "tags": []
   },
   "outputs": [],
   "source": [
    "image_5.plot([0,1,2])\n",
    "image_5 = SatelliteImage.from_raster(\n",
    "        filename_5,\n",
    "        date = date_5, \n",
    "        n_bands = 3,\n",
    "        dep = \"976\"\n",
    "    )"
   ]
  },
  {
   "cell_type": "code",
   "execution_count": 39,
   "id": "c0e8e63a-abc2-479d-923d-c048c99badca",
   "metadata": {
    "tags": []
   },
   "outputs": [],
   "source": [
    "from utils.gestion_label_studio import create_mask_from_label_studio_export\n",
    "\n",
    "create_mask_from_label_studio_export(\n",
    "            num_task = \"3\",\n",
    "            name_output = \"mayotte-ORT_2020052526670967_0524_8590_U38S_8Bits\"\n",
    "        )\n",
    "\n",
    "mask  = np.load(\"../export/mayotte-ORT_2020052526670967_0524_8590_U38S_8Bits.npy\")\n",
    "plt.imshow(np.transpose(mask), cmap=\"gray\", interpolation=\"nearest\")\n",
    "\n",
    "np.save(\"../export/mayotte-ORT_2020052526670967_0524_8590_U38S_8Bits.npy\",np.transpose(mask))"
   ]
  },
  {
   "cell_type": "markdown",
   "id": "d88b87fb-477b-421a-b5bf-e3c0c5b0d96e",
   "metadata": {},
   "source": [
    "mc cp s3/projet-slums-detection/Donnees/PLEIADES/MAYOTTE/2020/MOSA/ORT_2020052526670967_0524_8590_U38S_8Bits.jp2 s3/projet-slums-detection/donnees-test/segmentation/images/mayotte-ORT_2020052526670967_0524_8590_U38S_8Bits.jp2\n",
    "mc cp export/mayotte-ORT_2020052526670967_0524_8590_U38S_8Bits.npy s3/projet-slums-detection/donnees-test/segmentation/masks/mayotte-ORT_2020052526670967_0524_8590_U38S_8Bits.npy\n"
   ]
  },
  {
   "cell_type": "code",
   "execution_count": 148,
   "id": "bc894d7c-9c50-4964-9308-e200cb3d90ea",
   "metadata": {
    "tags": []
   },
   "outputs": [],
   "source": [
    "filename_6 = find_image_different_years(2017, image_5)\n",
    "date_6 = date.fromisoformat('2020-01-01')"
   ]
  },
  {
   "cell_type": "code",
   "execution_count": 149,
   "id": "b03f5191-66e0-4d74-82ef-cf356cd416d7",
   "metadata": {
    "tags": []
   },
   "outputs": [],
   "source": [
    "image_6 = SatelliteImage.from_raster(\n",
    "        filename_6,\n",
    "        date = date_6, \n",
    "        n_bands = 3,\n",
    "        dep = \"976\"\n",
    "    )\n",
    "image_6.normalize()"
   ]
  },
  {
   "cell_type": "code",
   "execution_count": 150,
   "id": "7b00267b-61da-4243-af08-72acec3c36b1",
   "metadata": {
    "tags": []
   },
   "outputs": [],
   "source": [
    "image_6.plot([0,1,2])"
   ]
  },
  {
   "cell_type": "markdown",
   "id": "db822ecb-dc96-49ea-a2bc-f65cdd8ba372",
   "metadata": {},
   "source": [
    "Dans la moitié haute de l'image à droite, il y a plusieurs bâtiments qui ont été construits."
   ]
  },
  {
   "cell_type": "markdown",
   "id": "af09cb0d-240b-44f1-b4a4-7e3b5cf1c53c",
   "metadata": {},
   "source": [
    "Pas de RIL pour ces deux années en mayotte ..."
   ]
  },
  {
   "cell_type": "code",
   "execution_count": 16,
   "id": "b2a1e8b3-be6f-49c4-a5d1-882efa897033",
   "metadata": {
    "tags": []
   },
   "outputs": [],
   "source": [
    "filename_7 = find_image_of_point([-12.753436, 45.219888], '../data/PLEIADES/2020/MAYOTTE', coord_gps = True)\n",
    "date_7 = date.fromisoformat('2020-01-01')\n",
    "print(filename_7)"
   ]
  },
  {
   "cell_type": "code",
   "execution_count": 17,
   "id": "8e054e9c-f605-4571-90c3-f632e14ae2eb",
   "metadata": {
    "tags": []
   },
   "outputs": [],
   "source": [
    "image_7 = SatelliteImage.from_raster(\n",
    "        filename_7,\n",
    "        date = date_7, \n",
    "        n_bands = 3,\n",
    "        dep = \"976\"\n",
    "    )"
   ]
  },
  {
   "cell_type": "code",
   "execution_count": 18,
   "id": "1f888a35-50bf-427d-930b-97efdcf87666",
   "metadata": {
    "tags": []
   },
   "outputs": [],
   "source": [
    "image_7.plot([0,1,2])\n",
    "image_7 = SatelliteImage.from_raster(\n",
    "        filename_7,\n",
    "        date = date_7, \n",
    "        n_bands = 3,\n",
    "        dep = \"976\"\n",
    "    )"
   ]
  },
  {
   "cell_type": "code",
   "execution_count": 30,
   "id": "ae294174-c7ef-43fe-8d05-0ce4c5039846",
   "metadata": {
    "tags": []
   },
   "outputs": [],
   "source": [
    "from utils.gestion_label_studio import create_mask_from_label_studio_export\n",
    "\n",
    "create_mask_from_label_studio_export(\n",
    "            num_task = \"1\",\n",
    "            name_output = \"mayotte-ORT_2020052526670967_0523_8591_U38S_8Bit\"\n",
    "        )\n"
   ]
  },
  {
   "cell_type": "code",
   "execution_count": 42,
   "id": "62212ab7-9357-4331-8d64-f646cacaef47",
   "metadata": {
    "tags": []
   },
   "outputs": [],
   "source": [
    "mask  = np.load(\"../donnees-test/segmentation/masks/mayotte-ORT_2020052526670967_0523_8591_U38S_8Bit.npy\")\n",
    "\n",
    "plt.imshow(np.transpose(mask), cmap=\"gray\", interpolation=\"nearest\")\n",
    "\n",
    "#np.save(\"../export/mayotte-ORT_2020052526670967_0524_8590_U38S_8Bits.npy\",np.transpose(mask))"
   ]
  },
  {
   "cell_type": "code",
   "execution_count": 46,
   "id": "ca0c0b67-f197-4a9c-af73-880a5ff6f343",
   "metadata": {
    "tags": []
   },
   "outputs": [],
   "source": [
    "image = np.transpose(mask).copy()\n",
    "\n",
    "# Étape 2 : Dimensions de l'image\n",
    "height = len(image)\n",
    "width = len(image[0])\n",
    "\n",
    "# Étape 3 : Création du nouveau tableau\n",
    "rotated_image = [[0] * height for _ in range(width)]\n",
    "\n",
    "# Étape 4 : Rotation de l'image\n",
    "for i in range(height):\n",
    "    for j in range(width):\n",
    "        rotated_image[width - 1 - j][i] = image[i][j]"
   ]
  },
  {
   "cell_type": "code",
   "execution_count": 47,
   "id": "ec1c22a1-d701-46ca-aa54-cc6734bd1341",
   "metadata": {
    "tags": []
   },
   "outputs": [],
   "source": [
    "plt.imshow(rotated_image, cmap=\"gray\", interpolation=\"nearest\")"
   ]
  },
  {
   "cell_type": "code",
   "execution_count": 48,
   "id": "d8c98a0e-c545-4d96-bd07-99d06f916ab2",
   "metadata": {
    "tags": []
   },
   "outputs": [],
   "source": [
    "np.save(\"../donnees-test/segmentation/masks/mayotte-ORT_2020052526670967_0523_8591_U38S_8Bit.npy\",rotated_image)"
   ]
  },
  {
   "cell_type": "markdown",
   "id": "a7bd5d8f-170e-49d0-9554-1b20b3c91f1b",
   "metadata": {},
   "source": [
    "export MC_HOST_s3=https://5BYL3V2CNPM3E6ZKP233:2XseSTXTVbP38zJWyQ+ccPSAtFydziWEMKcexwuS:eyJhbGciOiJIUzUxMiIsInR5cCI6IkpXVCJ9.eyJhY2Nlc3NLZXkiOiI1QllMM1YyQ05QTTNFNlpLUDIzMyIsImFsbG93ZWQtb3JpZ2lucyI6WyIqIl0sImF1ZCI6WyJtaW5pby1kYXRhbm9kZSIsIm9ueXhpYSIsImFjY291bnQiXSwiYXV0aF90aW1lIjoxNjgzMjg5MDkyLCJhenAiOiJvbnl4aWEiLCJlbWFpbCI6InJheWEuYmVyb3ZhQGVsZXZlLmVuc2FpLmZyIiwiZW1haWxfdmVyaWZpZWQiOnRydWUsImV4cCI6MTY4MzgxMDk1MSwiZmFtaWx5X25hbWUiOiJCRVJPVkEiLCJnaXZlbl9uYW1lIjoiUmF5YSIsImdyb3VwcyI6WyJmdW5hdGhvbiIsInNsdW1zLWRldGVjdGlvbiJdLCJpYXQiOjE2ODMyODkwOTQsImlzcyI6Imh0dHBzOi8vYXV0aC5sYWIuc3NwY2xvdWQuZnIvYXV0aC9yZWFsbXMvc3NwY2xvdWQiLCJqdGkiOiI2MjcyNTg2Ni02OTRlLTQzNWQtOWU2Ni04NmRlNmE5ZDFkZjkiLCJsb2NhbGUiOiJlbiIsIm5hbWUiOiJSYXlhIEJFUk9WQSIsIm5vbmNlIjoiNTExYWU3YjUtY2YzNi00ODEyLWE2Y2MtZDIyMDIxMTUzZjQwIiwicG9saWN5Ijoic3Rzb25seSIsInByZWZlcnJlZF91c2VybmFtZSI6ImlkMTc1MyIsInJlYWxtX2FjY2VzcyI6eyJyb2xlcyI6WyJvZmZsaW5lX2FjY2VzcyIsInVtYV9hdXRob3JpemF0aW9uIiwiZGVmYXVsdC1yb2xlcy1zc3BjbG91ZCJdfSwicmVzb3VyY2VfYWNjZXNzIjp7ImFjY291bnQiOnsicm9sZXMiOlsibWFuYWdlLWFjY291bnQiLCJtYW5hZ2UtYWNjb3VudC1saW5rcyIsInZpZXctcHJvZmlsZSJdfX0sInNjb3BlIjoib3BlbmlkIHByb2ZpbGUgZ3JvdXBzIGVtYWlsIiwic2Vzc2lvblBvbGljeSI6ImV5SldaWEp6YVc5dUlqb2lNakF4TWkweE1DMHhOeUlzSWxOMFlYUmxiV1Z1ZENJNlczc2lSV1ptWldOMElqb2lRV3hzYjNjaUxDSkJZM1JwYjI0aU9sc2ljek02S2lKZExDSlNaWE52ZFhKalpTSTZXeUpoY200NllYZHpPbk16T2pvNmNISnZhbVYwTFhOc2RXMXpMV1JsZEdWamRHbHZiaUlzSW1GeWJqcGhkM002Y3pNNk9qcHdjbTlxWlhRdGMyeDFiWE10WkdWMFpXTjBhVzl1THlvaVhYMHNleUpGWm1abFkzUWlPaUpCYkd4dmR5SXNJa0ZqZEdsdmJpSTZXeUp6TXpwTWFYTjBRblZqYTJWMElsMHNJbEpsYzI5MWNtTmxJanBiSW1GeWJqcGhkM002Y3pNNk9qb3FJbDBzSWtOdmJtUnBkR2x2YmlJNmV5SlRkSEpwYm1kTWFXdGxJanA3SW5Nek9uQnlaV1pwZUNJNkltUnBabVoxYzJsdmJpOHFJbjE5ZlN4N0lrVm1abVZqZENJNklrRnNiRzkzSWl3aVFXTjBhVzl1SWpwYkluTXpPa2RsZEU5aWFtVmpkQ0pkTENKU1pYTnZkWEpqWlNJNld5SmhjbTQ2WVhkek9uTXpPam82S2k5a2FXWm1kWE5wYjI0dktpSmRmVjE5Iiwic2Vzc2lvbl9zdGF0ZSI6ImQ5NTg2MzBiLTBjOWMtNGE0ZC05ZDU1LTE5M2YxY2NiNjNlMiIsInNpZCI6ImQ5NTg2MzBiLTBjOWMtNGE0ZC05ZDU1LTE5M2YxY2NiNjNlMiIsInN1YiI6ImRiNWM5MTg3LWUwNjItNDIyMy04N2UwLTk2YTc5ODYzMDZlOSIsInR5cCI6IkJlYXJlciJ9.mjfzD-pGSyEIx3i6vJP9lCW-rqhd9EaZsRbnCR39DJtQwdUcGn-Sk6KYKmMf4Q3YkeAT8mc7Rx-xtu0eXPfFhA@minio.lab.sspcloud.fr"
   ]
  },
  {
   "cell_type": "markdown",
   "id": "c0530458-77fe-4b7b-8e20-22b3b79f01f9",
   "metadata": {},
   "source": [
    "mc cp s3/projet-slums-detection/Donnees/PLEIADES/MAYOTTE/2020/MOSA/ORT_2020052526670967_0523_8591_U38S_8Bits.jp2 s3/projet-slums-detection/donnees-test/segmentation/images/mayotte-ORT_2020052526670967_0523_8591_U38S_8Bits.jp2\n",
    "\n",
    "mc cp export/mayotte-ORT_2020052526670967_0523_8591_U38S_8Bit.npy s3/projet-slums-detection/donnees-test/segmentation/masks/mayotte-ORT_2020052526670967_0523_8591_U38S_8Bit.npy\n"
   ]
  },
  {
   "cell_type": "code",
   "execution_count": 16,
   "id": "c87ed0b6-d210-462f-a8f6-fb6383b824bd",
   "metadata": {
    "tags": []
   },
   "outputs": [],
   "source": [
    "from PIL import Image\n",
    "import numpy as np\n",
    "import io\n",
    "\n",
    "# Créer un tableau avec des données d'exemple\n",
    "data = image_7.array\n",
    "data = (data * 255).astype(np.uint8)\n",
    "data = data.transpose(2,1,0)\n",
    "\n",
    "\n",
    "# Convertir le tableau en image\n",
    "image = Image.fromarray(data)\n",
    "\n",
    "# Sauvegarder l'image en tant que fichier PNG\n",
    "image.save(\"image.png\")\n",
    "\n",
    "# Enregistrer l'image en tant qu'objet bytes pour téléchargement\n",
    "img_bytes = io.BytesIO()\n",
    "image.save(img_bytes, format='PNG')\n",
    "img_bytes.seek(0)\n",
    "\n",
    "# Envoyer l'image pour téléchargement\n",
    "from IPython.display import FileLink\n",
    "display(FileLink(\"image.png\"))"
   ]
  },
  {
   "cell_type": "code",
   "execution_count": 16,
   "id": "b675ce77-f154-409b-a500-f51d2b2b201c",
   "metadata": {
    "tags": []
   },
   "outputs": [],
   "source": [
    "filename_8 = find_image_different_years(2017, image_7)\n",
    "date_8 = date.fromisoformat('2020-01-01')"
   ]
  },
  {
   "cell_type": "code",
   "execution_count": 17,
   "id": "e70fc116-3d5e-4615-92d8-f2363fbd61cb",
   "metadata": {
    "tags": []
   },
   "outputs": [],
   "source": [
    "image_8 = SatelliteImage.from_raster(\n",
    "        filename_7,\n",
    "        date = date_7, \n",
    "        n_bands = 3,\n",
    "        dep = \"976\"\n",
    "    )\n",
    "image_8.normalize()"
   ]
  },
  {
   "cell_type": "code",
   "execution_count": 18,
   "id": "8cf7c4f2-5123-4473-a94f-9fce7ba6f913",
   "metadata": {
    "tags": []
   },
   "outputs": [],
   "source": [
    "image_8.plot([0,1,2])"
   ]
  }
 ],
 "metadata": {
  "kernelspec": {
   "display_name": "Python 3 (ipykernel)",
   "language": "python",
   "name": "python3"
  },
  "language_info": {
   "codemirror_mode": {
    "name": "ipython",
    "version": 3
   },
   "file_extension": ".py",
   "mimetype": "text/x-python",
   "name": "python",
   "nbconvert_exporter": "python",
   "pygments_lexer": "ipython3",
   "version": "3.10.9"
  }
 },
 "nbformat": 4,
 "nbformat_minor": 5
}
