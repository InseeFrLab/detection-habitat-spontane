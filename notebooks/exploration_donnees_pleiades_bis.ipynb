{
 "cells": [
  {
   "cell_type": "code",
   "execution_count": 3,
   "id": "58ce04d8-f19f-4ecc-a230-952c3a65fc7c",
   "metadata": {},
   "outputs": [],
   "source": [
    "import sys\n",
    "sys.path.append('../src')\n",
    "import shutil\n",
    "import yaml\n",
    "import py7zr\n",
    "import os\n",
    "import s3fs\n",
    "from satellite_image import SatelliteImage\n",
    "from utils import *\n",
    "import matplotlib.pyplot as plt\n",
    "import numpy as np\n",
    "import rasterio.plot as rp\n",
    "import re\n",
    "from datetime import datetime"
   ]
  },
  {
   "cell_type": "code",
   "execution_count": null,
   "id": "2fbdabfc-7874-4c31-8dcc-e44038984c41",
   "metadata": {},
   "outputs": [],
   "source": [
    "with open(\"../environment.yml\") as f:\n",
    "    environment = yaml.safe_load(f)\n",
    "\n",
    "bucket = environment[\"bucket\"]\n",
    "path_s3_cayenne_data = environment[\"sources\"][\"cayenne\"]\n",
    "path_local_cayenne_data = environment[\"local-path\"][\"cayenne\"]\n",
    "\n",
    "fs = s3fs.S3FileSystem(client_kwargs={\"endpoint_url\": \"https://minio.lab.sspcloud.fr\"})\n",
    "fs.get(f\"{bucket}/{path_s3_cayenne_data}\", f\"{path_local_cayenne_data}\")\n",
    "with py7zr.SevenZipFile(f\"{path_local_cayenne_data}\", mode=\"r\") as z:\n",
    "    z.extractall()\n",
    "\n",
    "shutil.move(\n",
    "    os.path.splitext(os.path.basename(path_s3_cayenne_data))[0],\n",
    "    os.path.splitext(path_local_cayenne_data)[0],\n",
    ")\n"
   ]
  },
  {
   "cell_type": "code",
   "execution_count": 4,
   "id": "2915291f-bb6f-43b9-9225-3d6fc4bcc267",
   "metadata": {},
   "outputs": [],
   "source": [
    "filename = '../data/Cayenne/16bits/ORT_2022072050325085_U22N/ORT_2022072050325085_0353_0542_U22N_16Bits.jp2'\n",
    "date = datetime.strptime(re.search(r'ORT_(\\d{8})', filename).group(1), '%Y%m%d')"
   ]
  },
  {
   "cell_type": "code",
   "execution_count": 6,
   "id": "be748c76-e752-4a83-9203-56fbd28ff498",
   "metadata": {},
   "outputs": [],
   "source": [
    "image = SatelliteImage.from_raster(\n",
    "        filename,\n",
    "        date = date, \n",
    "        n_bands = 4\n",
    "    )"
   ]
  },
  {
   "cell_type": "code",
   "execution_count": 7,
   "id": "071a4666-eac9-4cb5-a33a-e870bfb3c445",
   "metadata": {},
   "outputs": [],
   "source": [
    "list_images = image.split(256)"
   ]
  },
  {
   "cell_type": "code",
   "execution_count": 9,
   "id": "e6a2104c-ea7d-4f4d-a01f-069f72ea9852",
   "metadata": {},
   "outputs": [],
   "source": [
    "list_images[0].normalize()"
   ]
  },
  {
   "cell_type": "code",
   "execution_count": 10,
   "id": "44738095-80f2-468c-91c6-2919c82261bb",
   "metadata": {},
   "outputs": [],
   "source": [
    "fig, ax = plt.subplots(figsize=(10, 10))\n",
    "ax.imshow(np.transpose(list_images[0].array, (1, 2, 0))[:,:,:3])\n",
    "plt.xlabel('Pixels Colonnes')\n",
    "plt.ylabel('Pixels Lignes')"
   ]
  },
  {
   "cell_type": "code",
   "execution_count": null,
   "id": "61717b19-5d12-4801-97d4-3fda295550a3",
   "metadata": {},
   "outputs": [],
   "source": []
  }
 ],
 "metadata": {
  "kernelspec": {
   "display_name": "Python 3 (ipykernel)",
   "language": "python",
   "name": "python3"
  },
  "language_info": {
   "codemirror_mode": {
    "name": "ipython",
    "version": 3
   },
   "file_extension": ".py",
   "mimetype": "text/x-python",
   "name": "python",
   "nbconvert_exporter": "python",
   "pygments_lexer": "ipython3",
   "version": "3.10.4"
  }
 },
 "nbformat": 4,
 "nbformat_minor": 5
}
