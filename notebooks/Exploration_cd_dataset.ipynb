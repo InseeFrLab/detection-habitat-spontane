{
 "cells": [
  {
   "cell_type": "code",
   "execution_count": 63,
   "metadata": {
    "tags": []
   },
   "outputs": [],
   "source": [
    "%load_ext autoreload\n",
    "%autoreload 2"
   ]
  },
  {
   "cell_type": "code",
   "execution_count": null,
   "metadata": {
    "tags": []
   },
   "outputs": [],
   "source": [
    "! pip install rasterio\n",
    "! pip install geopandas \n",
    "! pip instalml pyarrow\n",
    "! pip install matplotlib"
   ]
  },
  {
   "cell_type": "code",
   "execution_count": null,
   "metadata": {
    "tags": []
   },
   "outputs": [],
   "source": [
    "! pip3 install torch torchvision torchaudio --index-url https://download.pytorch.org/whl/cu117"
   ]
  },
  {
   "cell_type": "code",
   "execution_count": 77,
   "metadata": {
    "tags": []
   },
   "outputs": [],
   "source": [
    "import sys\n",
    "sys.path.append('../src')\n",
    "from satellite_image import SatelliteImage\n",
    "from utils import *\n",
    "from plot_utils import *\n",
    "import yaml\n",
    "import re\n",
    "import s3fs\n",
    "import numpy as np\n",
    "import matplotlib.pyplot as plt\n",
    "from PIL import Image\n"
   ]
  },
  {
   "cell_type": "code",
   "execution_count": 7,
   "metadata": {
    "tags": []
   },
   "outputs": [],
   "source": [
    "update_storage_access()\n",
    "environment = get_environment()\n",
    "root_path = get_root_path()\n",
    "bucket = environment[\"bucket\"]\n",
    "path_s3_s2looking = environment[\"sources\"][\"PAPERS\"][\"S2Looking\"]\n",
    "path_local_s2looking = environment[\"local-path\"][\"PAPERS\"]\n",
    "\n",
    "fs = s3fs.S3FileSystem(client_kwargs={\"endpoint_url\": \"https://minio.lab.sspcloud.fr\"})"
   ]
  },
  {
   "cell_type": "code",
   "execution_count": 8,
   "metadata": {
    "tags": []
   },
   "outputs": [],
   "source": [
    "path_local_s2looking\n",
    "#root_path"
   ]
  },
  {
   "cell_type": "code",
   "execution_count": 9,
   "metadata": {
    "tags": []
   },
   "outputs": [],
   "source": [
    "fs.download(\n",
    "        rpath=f\"{bucket}/{path_s3_s2looking}\",\n",
    "        lpath=f\"../{path_local_s2looking}\",\n",
    "        recursive=True)\n"
   ]
  },
  {
   "cell_type": "code",
   "execution_count": 10,
   "metadata": {
    "tags": []
   },
   "outputs": [],
   "source": [
    "import zipfile\n",
    "with zipfile.ZipFile(f\"../{path_local_s2looking}/S2Looking.zip\", 'r') as zip_ref:\n",
    "    zip_ref.extractall(f\"../{path_local_s2looking}\")"
   ]
  },
  {
   "cell_type": "markdown",
   "metadata": {},
   "source": [
    "### Go Pytorch Lightning ! \n",
    "Le but  que je me fixe ici est de réutiliser la logique de Tom jusqU40 ENTRAÏNEMENT AVE CpYTRCH lIGHTNING\n",
    "Ici je vais sanctuariser l'approche par chemin de fichier où je charge une image et je sélectionne une seule aléatoirement dans l'ensemble ?\n",
    "METTRE EN OPALCE DES METRIQUE SPOUR mlflow t& score etc;;"
   ]
  },
  {
   "cell_type": "code",
   "execution_count": 57,
   "metadata": {
    "tags": []
   },
   "outputs": [],
   "source": [
    "train_path = f\"../{path_local_s2looking}/S2Looking/train/\"\n",
    "list_name = sorted(os.listdir(os.path.join(train_path,\"Image1\")))\n",
    "list_path_image1 =  [ os.path.join(train_path,\"Image1/\")+ name for name  in list_name]\n",
    "list_path_image2 =  [ os.path.join(train_path,\"Image2/\")+ name for name  in list_name]\n",
    "list_path_label =  [ os.path.join(train_path,\"label/\")+ name for name  in list_name]"
   ]
  },
  {
   "cell_type": "code",
   "execution_count": 71,
   "metadata": {
    "tags": []
   },
   "outputs": [],
   "source": [
    "import change_detection_triplet\n",
    "idx = 35\n",
    "pthimg1 = list_path_image1[idx]\n",
    "pthimg2 = list_path_image2[idx]\n",
    "pthlabel = list_path_label[idx]\n"
   ]
  },
  {
   "cell_type": "code",
   "execution_count": 87,
   "metadata": {},
   "outputs": [],
   "source": [
    "from change_detection_triplet import ChangedetectionTripletS2Looking\n",
    "cdtriplet = ChangedetectionTripletS2Looking(pthimg1,pthimg2,pthlabel)\n",
    "cdtriplet.random_crop(512)\n",
    "cdtriplet.plot()\n",
    "\n",
    "#.plot()"
   ]
  },
  {
   "cell_type": "markdown",
   "metadata": {},
   "source": [
    "- Fonction de découpage aléatoire dans utils d'une image Pil (taille 250) ? regarder le crop aléatoire de l'autre notebook, l'intégrer dans la classe Dataset.\n",
    "- Entraîner le Unet++ ?\n",
    "- créer cette classe plutôt pour l'évaluation quali du réseau  \n",
    "- créer une classe triplet Satellites Images \n",
    "- (finalement ces classes sont plus utiles pour représenter et garder l'info géo ?)\n",
    "- fontion  "
   ]
  },
  {
   "cell_type": "code",
   "execution_count": 98,
   "metadata": {},
   "outputs": [],
   "source": [
    "# création d'une classe Data set pour chopper les images\n",
    "from torch.utils.data.dataset import Dataset\n",
    "import torch\n",
    "class ChangeDetectionS2LookingDataset(Dataset):\n",
    "    \"\"\"\n",
    "    Custom Dataset class.\n",
    "    \"\"\"\n",
    "    def __init__(\n",
    "        self,\n",
    "        list_paths_image1: List,\n",
    "        list_paths_image2: List,\n",
    "        list_paths_labels: List\n",
    "    ):\n",
    "        \"\"\"\n",
    "        Constructor.\n",
    "\n",
    "        Args:\n",
    "            list_paths_image1 (List): list of path of the before state pictures\n",
    "            list_paths_image2 (List): list of paths containing  the \"after\" state pictures\n",
    "            list_paths_labels (List): list of paths containing the labeled differences (mostly segmentation masque showing the differencer between image 1 and image 2) \n",
    "        \"\"\"\n",
    "        self.list_paths_image1 = list_paths_image1\n",
    "        self.list_paths_image2 = list_paths_image2\n",
    "        self.list_paths_labels = list_paths_labels    \n",
    "        \n",
    "\n",
    "    def __getitem__(self, idx):\n",
    "        \"\"\"_summary_\n",
    "\n",
    "        Args:\n",
    "            idx (_type_): _description_\n",
    "\n",
    "        Returns:\n",
    "            _type_: _description_\n",
    "        \"\"\"\n",
    "        if torch.is_tensor(idx):\n",
    "            idx = idx.tolist()\n",
    "        \n",
    "        pathim1 = self.list_paths_image1[idx]\n",
    "        pathim2 = self.list_paths_image2[idx]\n",
    "        pathlabel = self.list_paths_labels[idx]\n",
    "        \n",
    "        cdtriplet = ChangedetectionTripletS2Looking(pthimg1,pthimg2,pthlabel)\n",
    "        cdtriplet.random_crop(256)\n",
    "            \n",
    "        img1 = np.transpose(np.array(cdtriplet.image1),(2,0,1))\n",
    "        img2 = np.transpose(np.array(cdtriplet.image2),(2,0,1))\n",
    "        \n",
    "        img_double =np.concatenate([img1,img2],axis = 0).squeeze()\n",
    "        \n",
    "        label = np.array(cdtriplet.label)\n",
    "        label[label!=0] = 1\n",
    "        \n",
    "        \n",
    "        return img_double, label, cdtriplet # un peu loulourd, mais ça pemet de plotter quand on veut\n",
    "        \n",
    "        \n",
    "    def __len__(self):\n",
    "        return len(self.list_paths_image1)\n",
    "\n"
   ]
  },
  {
   "cell_type": "code",
   "execution_count": 100,
   "metadata": {
    "tags": []
   },
   "outputs": [],
   "source": [
    "ds = ChangeDetectionS2LookingDataset(list_path_image1,list_path_image2,list_path_label)\n",
    "iterateur = iter(ds)\n",
    "\n",
    "img, label, cd_triplet = next(iterateur)\n",
    "img.shape\n",
    "\n",
    "# je vais mettre un Unet par dessus pour l'instant et m'intéresser  au pytorch lightning"
   ]
  }
 ],
 "metadata": {
  "kernelspec": {
   "display_name": "Python 3 (ipykernel)",
   "language": "python",
   "name": "python3"
  },
  "language_info": {
   "codemirror_mode": {
    "name": "ipython",
    "version": 3
   },
   "file_extension": ".py",
   "mimetype": "text/x-python",
   "name": "python",
   "nbconvert_exporter": "python",
   "pygments_lexer": "ipython3",
   "version": "3.10.9"
  }
 },
 "nbformat": 4,
 "nbformat_minor": 4
}
